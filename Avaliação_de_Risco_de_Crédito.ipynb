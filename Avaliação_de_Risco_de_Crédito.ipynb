{
  "nbformat": 4,
  "nbformat_minor": 0,
  "metadata": {
    "colab": {
      "name": "Avaliação_de_Risco_de_Crédito.ipynb",
      "provenance": [],
      "collapsed_sections": [],
      "toc_visible": true,
      "include_colab_link": true
    },
    "kernelspec": {
      "name": "python3",
      "display_name": "Python 3"
    }
  },
  "cells": [
    {
      "cell_type": "markdown",
      "metadata": {
        "id": "view-in-github",
        "colab_type": "text"
      },
      "source": [
        "<a href=\"https://colab.research.google.com/github/jvataidee/MachineLearning/blob/master/Avalia%C3%A7%C3%A3o_de_Risco_de_Cr%C3%A9dito.ipynb\" target=\"_parent\"><img src=\"https://colab.research.google.com/assets/colab-badge.svg\" alt=\"Open In Colab\"/></a>"
      ]
    },
    {
      "cell_type": "markdown",
      "metadata": {
        "id": "ZNvmL_lMsAqU",
        "colab_type": "text"
      },
      "source": [
        "\n",
        "<p align=\"center\"><img src=\"https://static.wixstatic.com/media/bdd7cb_6ecb6c85550043f090237e5943d2647c~mv2.png/v1/fill/w_417,h_88,al_c,q_85,usm_0.66_1.00_0.01/Ativo%2023-8.webp\" height=\"75px\"></p>\n",
        "\n",
        "**by: [João Ataíde](https://www.joaoataide.com)**\n",
        "#**Avaliação de Risco de Crédito**\n",
        "\n",
        "\n",
        "---\n",
        "\n",
        "\n",
        "<p align=\"center\"><img src=\"https://static.wixstatic.com/media/bdd7cb_507dd1cb4e2c41b4941d9009868c6088~mv2.jpg\"></p>\n"
      ]
    },
    {
      "cell_type": "markdown",
      "metadata": {
        "id": "lNKcbm-myXId",
        "colab_type": "text"
      },
      "source": [
        "Das áreas que constituiem o banco, uma das que causam mais problemas e desconfortos são as taxas de inadimplência por parte das carteiras dos clientes. Assim, atividades de avaliação destas carteiras são obrigatórias e de extrema importancia para as intituições, causando deficities gigantescos na balança comercial intituicional e até mesmo nacional.\n",
        "\n",
        "Geralmente, para as intituições cada um dos clientes possuem carteireias de crédito, na qual indica as possíbilide nas quais os clientes são capases financeiramente para o pagamento da dívida (emprestimos, cartão de crédito e outros), tal avaliação de carteira é informada como *ranking*.\n",
        "\n",
        "Devido a isso, as intituições finaceiras estão investindo cada vez mais em novas tecnologias, com o intuito de desenvolver e aprimorando seus sistemas de avaliação, visando sempre minimizar os riscos de *default* (inadimplência) ou não cumprimento das obrigações e/ou condições de um empréstimo.\n",
        "\n",
        "Sabendo dessa grande importância, as intituições finânciera têm apostado cada vez mais em modelos de *Machine Learning* para previnir a inadimplência de alguns clientes. Podemos destacar, uma das principais instituições financeira que aposta nesta tecnologia, sendo a [Nubank](https://nubank.com.br/sobre-nos) na qual possuí um grande time de *datascience*.\n",
        "\n",
        "<p align=center>\n",
        "<img src=\"http://sigmoidal.ai/wp-content/uploads/2019/10/Nubank_logo.png\" width=\"150px\"></p>\n",
        "\n",
        "Enúmeras aplicações podem ser feitas para previsão de risco de crédito, neste projeto em questão irei realizar a criação de um algoritimo para identificar a probabilidade de um cliente não coumprir com suas obrigações financeiras e deixar de pagar a sua fatura do Cartão de Crédito. Desta forma, espera-se que o modelo seja capaz de minimizar as perdas financeiras da empresa, assim como minimizando também os falsos positivos.\n",
        "\n"
      ]
    },
    {
      "cell_type": "markdown",
      "metadata": {
        "id": "iByTv2M18Is9",
        "colab_type": "text"
      },
      "source": [
        "## Importação das bibliotecas e dados\n",
        "\n",
        "\n",
        "  \n",
        "Vale ressaltar que, geralmente as avaliações são feitas no momento em que o cliente solicita o cartão (normalmente no primeiro contato com a instituição), entretanto, usaremos um banco de dados já estabelecidos, no qual pode ser encontrado [neste link](http://dl.dropboxusercontent.com/s/xn2a4kzf0zer0xu/acquisition_train.csv?dl=0), tal *dataset* possuí 45.000 entradas e 43 colunas e constitui basicamente como um `.csv`."
      ]
    },
    {
      "cell_type": "code",
      "metadata": {
        "id": "5NNNwLwy8IGc",
        "colab_type": "code",
        "colab": {}
      },
      "source": [
        "#importar bibliotecas básicas\n",
        "import pandas as pd\n",
        "import numpy as np\n",
        "import matplotlib.pyplot as plt\n",
        "import seaborn as sns\n",
        "\n",
        "#Biblitecas de preprocessamento e metricas\n",
        "from sklearn.impute import SimpleImputer\n",
        "from sklearn.preprocessing import StandardScaler, LabelEncoder\n",
        "from sklearn.model_selection import train_test_split\n",
        "from sklearn.model_selection import cross_val_score\n",
        "from imblearn.under_sampling import RandomUnderSampler\n",
        "from sklearn.metrics import roc_auc_score, accuracy_score, f1_score, confusion_matrix, classification_report\n",
        "from sklearn.pipeline import make_pipeline\n",
        "from sklearn.model_selection import StratifiedKFold\n",
        "from sklearn.model_selection import GridSearchCV\n",
        "from sklearn.exceptions import FitFailedWarning\n",
        "\n",
        "#Bibliotecas de modelos\n",
        "from sklearn.linear_model import LogisticRegression\n",
        "\n",
        "\n",
        "# configurar a visualização\n",
        "sns.set()\n",
        "%matplotlib inline\n",
        "%config InlineBackend.figure_format = 'svg'"
      ],
      "execution_count": 45,
      "outputs": []
    },
    {
      "cell_type": "code",
      "metadata": {
        "id": "_r7410rvyaeX",
        "colab_type": "code",
        "colab": {
          "base_uri": "https://localhost:8080/",
          "height": 620
        },
        "outputId": "b62f05e7-29cf-49a2-bb18-f073bde69f88"
      },
      "source": [
        "# importar os dados\n",
        "df = \"http://dl.dropboxusercontent.com/s/xn2a4kzf0zer0xu/acquisition_train.csv?dl=0\"\n",
        "df = pd.read_csv(df)\n",
        "\n",
        "# ver as 5 primeiras entradas\n",
        "print(\"Tamanho do dataset:\", df.shape)\n",
        "df.head()"
      ],
      "execution_count": 46,
      "outputs": [
        {
          "output_type": "stream",
          "text": [
            "Tamanho do dataset: (45000, 43)\n"
          ],
          "name": "stdout"
        },
        {
          "output_type": "execute_result",
          "data": {
            "text/html": [
              "<div>\n",
              "<style scoped>\n",
              "    .dataframe tbody tr th:only-of-type {\n",
              "        vertical-align: middle;\n",
              "    }\n",
              "\n",
              "    .dataframe tbody tr th {\n",
              "        vertical-align: top;\n",
              "    }\n",
              "\n",
              "    .dataframe thead th {\n",
              "        text-align: right;\n",
              "    }\n",
              "</style>\n",
              "<table border=\"1\" class=\"dataframe\">\n",
              "  <thead>\n",
              "    <tr style=\"text-align: right;\">\n",
              "      <th></th>\n",
              "      <th>ids</th>\n",
              "      <th>target_default</th>\n",
              "      <th>score_1</th>\n",
              "      <th>score_2</th>\n",
              "      <th>score_3</th>\n",
              "      <th>score_4</th>\n",
              "      <th>score_5</th>\n",
              "      <th>score_6</th>\n",
              "      <th>risk_rate</th>\n",
              "      <th>last_amount_borrowed</th>\n",
              "      <th>last_borrowed_in_months</th>\n",
              "      <th>credit_limit</th>\n",
              "      <th>reason</th>\n",
              "      <th>income</th>\n",
              "      <th>facebook_profile</th>\n",
              "      <th>state</th>\n",
              "      <th>zip</th>\n",
              "      <th>channel</th>\n",
              "      <th>job_name</th>\n",
              "      <th>real_state</th>\n",
              "      <th>ok_since</th>\n",
              "      <th>n_bankruptcies</th>\n",
              "      <th>n_defaulted_loans</th>\n",
              "      <th>n_accounts</th>\n",
              "      <th>n_issues</th>\n",
              "      <th>application_time_applied</th>\n",
              "      <th>application_time_in_funnel</th>\n",
              "      <th>email</th>\n",
              "      <th>external_data_provider_credit_checks_last_2_year</th>\n",
              "      <th>external_data_provider_credit_checks_last_month</th>\n",
              "      <th>external_data_provider_credit_checks_last_year</th>\n",
              "      <th>external_data_provider_email_seen_before</th>\n",
              "      <th>external_data_provider_first_name</th>\n",
              "      <th>external_data_provider_fraud_score</th>\n",
              "      <th>lat_lon</th>\n",
              "      <th>marketing_channel</th>\n",
              "      <th>profile_phone_number</th>\n",
              "      <th>reported_income</th>\n",
              "      <th>shipping_state</th>\n",
              "      <th>shipping_zip_code</th>\n",
              "      <th>profile_tags</th>\n",
              "      <th>user_agent</th>\n",
              "      <th>target_fraud</th>\n",
              "    </tr>\n",
              "  </thead>\n",
              "  <tbody>\n",
              "    <tr>\n",
              "      <th>0</th>\n",
              "      <td>343b7e7b-2cf8-e508-b8fd-0a0285af30aa</td>\n",
              "      <td>False</td>\n",
              "      <td>1Rk8w4Ucd5yR3KcqZzLdow==</td>\n",
              "      <td>IOVu8au3ISbo6+zmfnYwMg==</td>\n",
              "      <td>350.0</td>\n",
              "      <td>101.800832</td>\n",
              "      <td>0.259555</td>\n",
              "      <td>108.427273</td>\n",
              "      <td>0.40</td>\n",
              "      <td>25033.92</td>\n",
              "      <td>36.0</td>\n",
              "      <td>0.0</td>\n",
              "      <td>mLVIVxoGY7TUDJ1FyFoSIZi1SFcaBmO01AydRchaEiGYtU...</td>\n",
              "      <td>65014.12</td>\n",
              "      <td>True</td>\n",
              "      <td>sjJbkqJS7cXalHLBFA+EOQ==</td>\n",
              "      <td>Ernn+uVXCMq/6ARrBCcd+A==</td>\n",
              "      <td>NCqL3QBx0pscDnx3ixKwXg==</td>\n",
              "      <td>mLVIVxoGY7TUDJ1FyFoSIZi1SFcaBmO01AydRchaEiGYtU...</td>\n",
              "      <td>N5/CE7lSkAfB04hVFFwllw==</td>\n",
              "      <td>NaN</td>\n",
              "      <td>0.0</td>\n",
              "      <td>0.0</td>\n",
              "      <td>18.0</td>\n",
              "      <td>18.0</td>\n",
              "      <td>07:52:34</td>\n",
              "      <td>444</td>\n",
              "      <td>outlook.com</td>\n",
              "      <td>NaN</td>\n",
              "      <td>2</td>\n",
              "      <td>0.0</td>\n",
              "      <td>51.0</td>\n",
              "      <td>leidelaura</td>\n",
              "      <td>645</td>\n",
              "      <td>(-29.151545708122246, -51.1386461804385)</td>\n",
              "      <td>Invite-email</td>\n",
              "      <td>514-9840782</td>\n",
              "      <td>57849.0</td>\n",
              "      <td>BR-MT</td>\n",
              "      <td>17528</td>\n",
              "      <td>{'tags': ['n19', 'n8']}</td>\n",
              "      <td>Mozilla/5.0 (Linux; Android 6.0.1; SGP771 Buil...</td>\n",
              "      <td>NaN</td>\n",
              "    </tr>\n",
              "    <tr>\n",
              "      <th>1</th>\n",
              "      <td>bc2c7502-bbad-0f8c-39c3-94e881967124</td>\n",
              "      <td>False</td>\n",
              "      <td>DGCQep2AE5QRkNCshIAlFQ==</td>\n",
              "      <td>SaamrHMo23l/3TwXOWgVzw==</td>\n",
              "      <td>370.0</td>\n",
              "      <td>97.062615</td>\n",
              "      <td>0.942655</td>\n",
              "      <td>92.002546</td>\n",
              "      <td>0.24</td>\n",
              "      <td>NaN</td>\n",
              "      <td>NaN</td>\n",
              "      <td>39726.0</td>\n",
              "      <td>mLVIVxoGY7TUDJ1FyFoSIZi1SFcaBmO01AydRchaEiGYtU...</td>\n",
              "      <td>100018.91</td>\n",
              "      <td>False</td>\n",
              "      <td>xsd3ZdsI3356I3xMxZeiqQ==</td>\n",
              "      <td>rlWIXTBO+VOa34+SpGyhlQ==</td>\n",
              "      <td>NCqL3QBx0pscDnx3ixKwXg==</td>\n",
              "      <td>mLVIVxoGY7TUDJ1FyFoSIZi1SFcaBmO01AydRchaEiGYtU...</td>\n",
              "      <td>N5/CE7lSkAfB04hVFFwllw==</td>\n",
              "      <td>50.0</td>\n",
              "      <td>0.0</td>\n",
              "      <td>0.0</td>\n",
              "      <td>14.0</td>\n",
              "      <td>14.0</td>\n",
              "      <td>02:34:29</td>\n",
              "      <td>346</td>\n",
              "      <td>gmail.com</td>\n",
              "      <td>0.0</td>\n",
              "      <td>1</td>\n",
              "      <td>0.0</td>\n",
              "      <td>17.0</td>\n",
              "      <td>diocezio</td>\n",
              "      <td>243</td>\n",
              "      <td>(-19.687710705798963, -47.94151536525154)</td>\n",
              "      <td>Radio-commercial</td>\n",
              "      <td>251-3659293</td>\n",
              "      <td>4902.0</td>\n",
              "      <td>BR-RS</td>\n",
              "      <td>40933</td>\n",
              "      <td>{'tags': ['n6', 'n7', 'nim']}</td>\n",
              "      <td>Mozilla/5.0 (Linux; Android 5.0.2; SAMSUNG SM-...</td>\n",
              "      <td>NaN</td>\n",
              "    </tr>\n",
              "    <tr>\n",
              "      <th>2</th>\n",
              "      <td>669630dd-2e6a-0396-84bf-455e5009c922</td>\n",
              "      <td>True</td>\n",
              "      <td>DGCQep2AE5QRkNCshIAlFQ==</td>\n",
              "      <td>Fv28Bz0YRTVAT5kl1bAV6g==</td>\n",
              "      <td>360.0</td>\n",
              "      <td>100.027073</td>\n",
              "      <td>0.351918</td>\n",
              "      <td>112.892453</td>\n",
              "      <td>0.29</td>\n",
              "      <td>7207.92</td>\n",
              "      <td>36.0</td>\n",
              "      <td>NaN</td>\n",
              "      <td>mLVIVxoGY7TUDJ1FyFoSIZi1SFcaBmO01AydRchaEiGYtU...</td>\n",
              "      <td>65023.65</td>\n",
              "      <td>NaN</td>\n",
              "      <td>Ygq6MsM98oC8yceExr69Ig==</td>\n",
              "      <td>PjTIDfJsK0DKL9fO7vuW2g==</td>\n",
              "      <td>NCqL3QBx0pscDnx3ixKwXg==</td>\n",
              "      <td>mLVIVxoGY7TUDJ1FyFoSIZi1SFcaBmO01AydRchaEiGYtU...</td>\n",
              "      <td>n+xK9CfX0bCn77lClTWviw==</td>\n",
              "      <td>NaN</td>\n",
              "      <td>0.0</td>\n",
              "      <td>0.0</td>\n",
              "      <td>10.0</td>\n",
              "      <td>NaN</td>\n",
              "      <td>00:60:02</td>\n",
              "      <td>6</td>\n",
              "      <td>gmail.com</td>\n",
              "      <td>NaN</td>\n",
              "      <td>2</td>\n",
              "      <td>NaN</td>\n",
              "      <td>9.0</td>\n",
              "      <td>veralucia</td>\n",
              "      <td>65</td>\n",
              "      <td>(-28.748023890412284, -51.867279334353995)</td>\n",
              "      <td>Waiting-list</td>\n",
              "      <td>230-6097993</td>\n",
              "      <td>163679.0</td>\n",
              "      <td>BR-RR</td>\n",
              "      <td>50985</td>\n",
              "      <td>{'tags': ['n0', 'n17', 'nim', 'da']}</td>\n",
              "      <td>Mozilla/5.0 (Linux; Android 6.0.1; SGP771 Buil...</td>\n",
              "      <td>NaN</td>\n",
              "    </tr>\n",
              "    <tr>\n",
              "      <th>3</th>\n",
              "      <td>d235609e-b6cb-0ccc-a329-d4f12e7ebdc1</td>\n",
              "      <td>False</td>\n",
              "      <td>1Rk8w4Ucd5yR3KcqZzLdow==</td>\n",
              "      <td>dCm9hFKfdRm7ej3jW+gyxw==</td>\n",
              "      <td>510.0</td>\n",
              "      <td>101.599485</td>\n",
              "      <td>0.987673</td>\n",
              "      <td>94.902491</td>\n",
              "      <td>0.32</td>\n",
              "      <td>NaN</td>\n",
              "      <td>NaN</td>\n",
              "      <td>54591.0</td>\n",
              "      <td>mLVIVxoGY7TUDJ1FyFoSIZi1SFcaBmO01AydRchaEiGYtU...</td>\n",
              "      <td>68830.01</td>\n",
              "      <td>False</td>\n",
              "      <td>KET/Pmr6rHp1RJ/P9ymztw==</td>\n",
              "      <td>Cc/kWDLQH3dpHv5HU+pLVA==</td>\n",
              "      <td>NCqL3QBx0pscDnx3ixKwXg==</td>\n",
              "      <td>mLVIVxoGY7TUDJ1FyFoSIZi1SFcaBmO01AydRchaEiE56f...</td>\n",
              "      <td>n+xK9CfX0bCn77lClTWviw==</td>\n",
              "      <td>NaN</td>\n",
              "      <td>1.0</td>\n",
              "      <td>0.0</td>\n",
              "      <td>19.0</td>\n",
              "      <td>19.0</td>\n",
              "      <td>11:20:49</td>\n",
              "      <td>406</td>\n",
              "      <td>spgov.com</td>\n",
              "      <td>NaN</td>\n",
              "      <td>3</td>\n",
              "      <td>NaN</td>\n",
              "      <td>38.0</td>\n",
              "      <td>venice</td>\n",
              "      <td>815</td>\n",
              "      <td>(-17.520650158450454, -39.75801139933186)</td>\n",
              "      <td>Waiting-list</td>\n",
              "      <td>261-3543751</td>\n",
              "      <td>1086.0</td>\n",
              "      <td>BR-RN</td>\n",
              "      <td>37825</td>\n",
              "      <td>{'tags': ['n4']}</td>\n",
              "      <td>Mozilla/5.0 (Linux; Android 6.0; HTC One X10 B...</td>\n",
              "      <td>NaN</td>\n",
              "    </tr>\n",
              "    <tr>\n",
              "      <th>4</th>\n",
              "      <td>9e0eb880-e8f4-3faa-67d8-f5cdd2b3932b</td>\n",
              "      <td>False</td>\n",
              "      <td>8k8UDR4Yx0qasAjkGrUZLw==</td>\n",
              "      <td>+CxEO4w7jv3QPI/BQbyqAA==</td>\n",
              "      <td>500.0</td>\n",
              "      <td>98.474289</td>\n",
              "      <td>0.532539</td>\n",
              "      <td>118.126207</td>\n",
              "      <td>0.18</td>\n",
              "      <td>NaN</td>\n",
              "      <td>NaN</td>\n",
              "      <td>NaN</td>\n",
              "      <td>mLVIVxoGY7TUDJ1FyFoSIZi1SFcaBmO01AydRchaEiGYtU...</td>\n",
              "      <td>60011.29</td>\n",
              "      <td>True</td>\n",
              "      <td>xsd3ZdsI3356I3xMxZeiqQ==</td>\n",
              "      <td>i036nmJ7rfxo+3EvCD7Jnw==</td>\n",
              "      <td>NCqL3QBx0pscDnx3ixKwXg==</td>\n",
              "      <td>mLVIVxoGY7TUDJ1FyFoSIZi1SFcaBmO01AydRchaEiGYtU...</td>\n",
              "      <td>n+xK9CfX0bCn77lClTWviw==</td>\n",
              "      <td>NaN</td>\n",
              "      <td>0.0</td>\n",
              "      <td>0.0</td>\n",
              "      <td>11.0</td>\n",
              "      <td>NaN</td>\n",
              "      <td>13:39:03</td>\n",
              "      <td>240</td>\n",
              "      <td>gmail.com</td>\n",
              "      <td>0.0</td>\n",
              "      <td>2</td>\n",
              "      <td>1.0</td>\n",
              "      <td>46.0</td>\n",
              "      <td>darzisa</td>\n",
              "      <td>320</td>\n",
              "      <td>(-16.574259446978008, -39.90990074785962)</td>\n",
              "      <td>Invite-email</td>\n",
              "      <td>102-3660162</td>\n",
              "      <td>198618.0</td>\n",
              "      <td>BR-MT</td>\n",
              "      <td>52827</td>\n",
              "      <td>{'tags': ['pro+aty', 'n19', 'da', 'b19']}</td>\n",
              "      <td>Mozilla/5.0 (Linux; Android 7.0; Pixel C Build...</td>\n",
              "      <td>NaN</td>\n",
              "    </tr>\n",
              "  </tbody>\n",
              "</table>\n",
              "</div>"
            ],
            "text/plain": [
              "                                    ids  ... target_fraud\n",
              "0  343b7e7b-2cf8-e508-b8fd-0a0285af30aa  ...          NaN\n",
              "1  bc2c7502-bbad-0f8c-39c3-94e881967124  ...          NaN\n",
              "2  669630dd-2e6a-0396-84bf-455e5009c922  ...          NaN\n",
              "3  d235609e-b6cb-0ccc-a329-d4f12e7ebdc1  ...          NaN\n",
              "4  9e0eb880-e8f4-3faa-67d8-f5cdd2b3932b  ...          NaN\n",
              "\n",
              "[5 rows x 43 columns]"
            ]
          },
          "metadata": {
            "tags": []
          },
          "execution_count": 46
        }
      ]
    },
    {
      "cell_type": "markdown",
      "metadata": {
        "id": "305oi7VWwf7b",
        "colab_type": "text"
      },
      "source": [
        "###Dicioário de variáveis\n",
        "\n",
        "No caso desse projeto é de extrema importância a identificação do significado de cada umas das variáveis que serão utilizadas no trabalho, as quais podem ser vistas abaixo: \n",
        "\n",
        "\n",
        "* `id` -  identificação anônima, representa um valor único do cliente por cliente. \n",
        "* `target_default` - é a variável alvo, que utilizaremos para analisar o risco de *default* (inadimplência).\n",
        "* As colunas `['score_3', 'score_4', 'score_5']` são numéricas, já `['score_1', 'score_2']` estão codificadas de alguma maneira. Teremos que verificar a frente se existe uma quantidade de classes que possa ser convertida em informação útil.\n",
        "* existem outras variáveis que apresentam algum tipo de codificação, como `['reason', 'state', 'zip', 'channel', 'job_name', 'real_state']` que estão codificadas e também precisarão de alguma análise mais aprofundada para saber se é possível extrair alguma informação das mesmas.\n",
        "* `profile_tags` - contém um dicionário um rótulo atribuídas a cada cliente.\n",
        "* `target_fraud` -  seria a variável alvo para outro modelo, onde o objetivo seria a detecção de fraude.\n",
        "* `lat_lon` - está em formato *string* contendo uma tupla com as coordenadas."
      ]
    },
    {
      "cell_type": "markdown",
      "metadata": {
        "id": "9QO-asxa21sX",
        "colab_type": "text"
      },
      "source": [
        "##Análise Exploratória\n",
        "\n",
        "Como primeira fase de todo projeto, iniciarei a análise exploratória dos dados, senguindo esta ordem:\n",
        "\n",
        "\n",
        "\n",
        "*   Valores Ausentes\n",
        "*   Tipos de dados\n",
        "*   Valores únicos\n",
        "*   Balanceamento dos dados\n",
        "*   Estatística Descritiva\n",
        "\n",
        "\n",
        "\n",
        "\n",
        "\n"
      ]
    },
    {
      "cell_type": "markdown",
      "metadata": {
        "id": "rNQ06nIo4Njw",
        "colab_type": "text"
      },
      "source": [
        "Iniciando por aquele que representa a qualidade do *dataset*"
      ]
    },
    {
      "cell_type": "code",
      "metadata": {
        "id": "he2TSGtm1V_P",
        "colab_type": "code",
        "colab": {
          "base_uri": "https://localhost:8080/",
          "height": 799
        },
        "outputId": "1ad1f946-dc93-449c-fed1-9107d88d6010"
      },
      "source": [
        "##Valores Ausente\n",
        "(df.isnull().sum()/df.shape[0]).sort_values(ascending = False)"
      ],
      "execution_count": 47,
      "outputs": [
        {
          "output_type": "execute_result",
          "data": {
            "text/plain": [
              "target_fraud                                        0.966178\n",
              "last_amount_borrowed                                0.665689\n",
              "last_borrowed_in_months                             0.665689\n",
              "ok_since                                            0.589889\n",
              "external_data_provider_credit_checks_last_2_year    0.502844\n",
              "external_data_provider_credit_checks_last_year      0.336089\n",
              "credit_limit                                        0.306667\n",
              "n_issues                                            0.256533\n",
              "facebook_profile                                    0.099067\n",
              "marketing_channel                                   0.079511\n",
              "job_name                                            0.074133\n",
              "target_default                                      0.072422\n",
              "external_data_provider_email_seen_before            0.049622\n",
              "lat_lon                                             0.030289\n",
              "user_agent                                          0.016044\n",
              "n_bankruptcies                                      0.015489\n",
              "n_defaulted_loans                                   0.012756\n",
              "reason                                              0.012578\n",
              "income                                              0.012489\n",
              "real_state                                          0.012489\n",
              "state                                               0.012489\n",
              "zip                                                 0.012489\n",
              "channel                                             0.012489\n",
              "score_3                                             0.012489\n",
              "score_2                                             0.012489\n",
              "score_1                                             0.012489\n",
              "n_accounts                                          0.012489\n",
              "risk_rate                                           0.012489\n",
              "shipping_zip_code                                   0.000000\n",
              "score_4                                             0.000000\n",
              "score_5                                             0.000000\n",
              "profile_tags                                        0.000000\n",
              "score_6                                             0.000000\n",
              "application_time_in_funnel                          0.000000\n",
              "shipping_state                                      0.000000\n",
              "reported_income                                     0.000000\n",
              "application_time_applied                            0.000000\n",
              "profile_phone_number                                0.000000\n",
              "external_data_provider_fraud_score                  0.000000\n",
              "external_data_provider_first_name                   0.000000\n",
              "external_data_provider_credit_checks_last_month     0.000000\n",
              "email                                               0.000000\n",
              "ids                                                 0.000000\n",
              "dtype: float64"
            ]
          },
          "metadata": {
            "tags": []
          },
          "execution_count": 47
        }
      ]
    },
    {
      "cell_type": "markdown",
      "metadata": {
        "id": "zJ-rxMJ25QOD",
        "colab_type": "text"
      },
      "source": [
        "Ao realizar esse cálculo podemos ver que algumas colunas como: `['target_fraud', 'last_amount_borrowed', 'last_borrowed_in_months', 'ok_since', 'external_data_provider_credit_checks_last_2_year']` apresentam mais da metade dos dados ausentes, Já as camadas  `['external_data_provider_credit_checks_last_year', 'credit_limit', 'n_issues']` possuem entre 25-34% do seus valores ausentes.\n",
        "\n",
        "No entanto, a variável `target_default` contém valores nulos e será eliminada do *dataset*. Neste caso tal problema não compromete o projeto, pois esta variável é do tipo, a qual não representa muito interesse para a análise de risco de inadimplência."
      ]
    },
    {
      "cell_type": "markdown",
      "metadata": {
        "id": "Ei7OlmWV6otI",
        "colab_type": "text"
      },
      "source": [
        "Outro passo importante é saber se as variáveis estão no tipo corrento, sendo então necessário converter caso haja divergência."
      ]
    },
    {
      "cell_type": "code",
      "metadata": {
        "id": "zuXO5b626VRQ",
        "colab_type": "code",
        "colab": {
          "base_uri": "https://localhost:8080/",
          "height": 799
        },
        "outputId": "87d64d11-60b0-4b64-bd1e-cc1b69426387"
      },
      "source": [
        "#Ipo dos dados\n",
        "df.dtypes"
      ],
      "execution_count": 48,
      "outputs": [
        {
          "output_type": "execute_result",
          "data": {
            "text/plain": [
              "ids                                                  object\n",
              "target_default                                       object\n",
              "score_1                                              object\n",
              "score_2                                              object\n",
              "score_3                                             float64\n",
              "score_4                                             float64\n",
              "score_5                                             float64\n",
              "score_6                                             float64\n",
              "risk_rate                                           float64\n",
              "last_amount_borrowed                                float64\n",
              "last_borrowed_in_months                             float64\n",
              "credit_limit                                        float64\n",
              "reason                                               object\n",
              "income                                              float64\n",
              "facebook_profile                                     object\n",
              "state                                                object\n",
              "zip                                                  object\n",
              "channel                                              object\n",
              "job_name                                             object\n",
              "real_state                                           object\n",
              "ok_since                                            float64\n",
              "n_bankruptcies                                      float64\n",
              "n_defaulted_loans                                   float64\n",
              "n_accounts                                          float64\n",
              "n_issues                                            float64\n",
              "application_time_applied                             object\n",
              "application_time_in_funnel                            int64\n",
              "email                                                object\n",
              "external_data_provider_credit_checks_last_2_year    float64\n",
              "external_data_provider_credit_checks_last_month       int64\n",
              "external_data_provider_credit_checks_last_year      float64\n",
              "external_data_provider_email_seen_before            float64\n",
              "external_data_provider_first_name                    object\n",
              "external_data_provider_fraud_score                    int64\n",
              "lat_lon                                              object\n",
              "marketing_channel                                    object\n",
              "profile_phone_number                                 object\n",
              "reported_income                                     float64\n",
              "shipping_state                                       object\n",
              "shipping_zip_code                                     int64\n",
              "profile_tags                                         object\n",
              "user_agent                                           object\n",
              "target_fraud                                         object\n",
              "dtype: object"
            ]
          },
          "metadata": {
            "tags": []
          },
          "execution_count": 48
        }
      ]
    },
    {
      "cell_type": "markdown",
      "metadata": {
        "id": "jyqsXcrd6zma",
        "colab_type": "text"
      },
      "source": [
        "Entretanto os dados aqui em questão não apresentaram tal problema, possibilitando seguir com a análise, identificando agora, quais os valores únicos de cada camada."
      ]
    },
    {
      "cell_type": "code",
      "metadata": {
        "id": "Ftx2U8-28cB-",
        "colab_type": "code",
        "colab": {
          "base_uri": "https://localhost:8080/",
          "height": 799
        },
        "outputId": "f1da6bf3-2f5e-4a17-d3d2-1fbf157d1c89"
      },
      "source": [
        "#Valores únicos\n",
        "\n",
        "df.nunique().sort_values(ascending = False)"
      ],
      "execution_count": 49,
      "outputs": [
        {
          "output_type": "execute_result",
          "data": {
            "text/plain": [
              "ids                                                 45000\n",
              "profile_phone_number                                45000\n",
              "score_6                                             45000\n",
              "score_5                                             45000\n",
              "score_4                                             45000\n",
              "income                                              41211\n",
              "reported_income                                     40025\n",
              "application_time_applied                            35543\n",
              "external_data_provider_first_name                   32886\n",
              "job_name                                            32265\n",
              "shipping_zip_code                                   28263\n",
              "profile_tags                                        26131\n",
              "lat_lon                                             22412\n",
              "credit_limit                                        20928\n",
              "reason                                              14874\n",
              "last_amount_borrowed                                14325\n",
              "external_data_provider_fraud_score                   1001\n",
              "zip                                                   823\n",
              "application_time_in_funnel                            501\n",
              "user_agent                                            297\n",
              "ok_since                                              100\n",
              "score_3                                                88\n",
              "risk_rate                                              82\n",
              "external_data_provider_email_seen_before               62\n",
              "state                                                  50\n",
              "n_accounts                                             44\n",
              "n_issues                                               44\n",
              "score_2                                                35\n",
              "shipping_state                                         25\n",
              "marketing_channel                                       9\n",
              "score_1                                                 7\n",
              "n_bankruptcies                                          6\n",
              "email                                                   6\n",
              "real_state                                              5\n",
              "n_defaulted_loans                                       5\n",
              "external_data_provider_credit_checks_last_month         4\n",
              "last_borrowed_in_months                                 2\n",
              "facebook_profile                                        2\n",
              "external_data_provider_credit_checks_last_year          2\n",
              "target_default                                          2\n",
              "target_fraud                                            2\n",
              "channel                                                 1\n",
              "external_data_provider_credit_checks_last_2_year        1\n",
              "dtype: int64"
            ]
          },
          "metadata": {
            "tags": []
          },
          "execution_count": 49
        }
      ]
    },
    {
      "cell_type": "markdown",
      "metadata": {
        "id": "AnSvw7sv83wj",
        "colab_type": "text"
      },
      "source": [
        "A contagem de valores únicos mostra que as colunas `external_data_provider_credit_checks_last_2_year` e `channel` apresentam um único valor possível, deste modo, se tornando camadas que não possibilitariam a contribuição para o modelo, podendo então ser descartadas.\n",
        "\n",
        "Além destas duas camadas a variável`profile_phone_number`, também não apresenta siginificância para o modelo assim como o `ids`."
      ]
    },
    {
      "cell_type": "markdown",
      "metadata": {
        "id": "fQQfp446-FoM",
        "colab_type": "text"
      },
      "source": [
        "Vamos então ver o balancemanto de nossa variável algo `target_default`"
      ]
    },
    {
      "cell_type": "code",
      "metadata": {
        "id": "4qNEl07B9V8x",
        "colab_type": "code",
        "colab": {
          "base_uri": "https://localhost:8080/",
          "height": 378
        },
        "outputId": "0404296d-f9b3-4138-8c91-08c22235b91f"
      },
      "source": [
        "##plotar balanceamento\n",
        "sns.countplot(df.target_default, palette=\"Blues_r\" )\n",
        "plt.show()"
      ],
      "execution_count": 50,
      "outputs": [
        {
          "output_type": "display_data",
          "data": {
            "text/plain": [
              "<Figure size 432x288 with 1 Axes>"
            ],
            "image/svg+xml": "<?xml version=\"1.0\" encoding=\"utf-8\" standalone=\"no\"?>\n<!DOCTYPE svg PUBLIC \"-//W3C//DTD SVG 1.1//EN\"\n  \"http://www.w3.org/Graphics/SVG/1.1/DTD/svg11.dtd\">\n<!-- Created with matplotlib (https://matplotlib.org/) -->\n<svg height=\"267.933438pt\" version=\"1.1\" viewBox=\"0 0 409.3075 267.933438\" width=\"409.3075pt\" xmlns=\"http://www.w3.org/2000/svg\" xmlns:xlink=\"http://www.w3.org/1999/xlink\">\n <defs>\n  <style type=\"text/css\">\n*{stroke-linecap:butt;stroke-linejoin:round;}\n  </style>\n </defs>\n <g id=\"figure_1\">\n  <g id=\"patch_1\">\n   <path d=\"M 0 267.933438 \nL 409.3075 267.933438 \nL 409.3075 0 \nL 0 0 \nz\n\" style=\"fill:none;\"/>\n  </g>\n  <g id=\"axes_1\">\n   <g id=\"patch_2\">\n    <path d=\"M 67.3075 224.64 \nL 402.1075 224.64 \nL 402.1075 7.2 \nL 67.3075 7.2 \nz\n\" style=\"fill:#eaeaf2;\"/>\n   </g>\n   <g id=\"matplotlib.axis_1\">\n    <g id=\"xtick_1\">\n     <g id=\"text_1\">\n      <!-- False -->\n      <defs>\n       <path d=\"M 9.8125 72.90625 \nL 51.703125 72.90625 \nL 51.703125 64.59375 \nL 19.671875 64.59375 \nL 19.671875 43.109375 \nL 48.578125 43.109375 \nL 48.578125 34.8125 \nL 19.671875 34.8125 \nL 19.671875 0 \nL 9.8125 0 \nz\n\" id=\"DejaVuSans-70\"/>\n       <path d=\"M 34.28125 27.484375 \nQ 23.390625 27.484375 19.1875 25 \nQ 14.984375 22.515625 14.984375 16.5 \nQ 14.984375 11.71875 18.140625 8.90625 \nQ 21.296875 6.109375 26.703125 6.109375 \nQ 34.1875 6.109375 38.703125 11.40625 \nQ 43.21875 16.703125 43.21875 25.484375 \nL 43.21875 27.484375 \nz\nM 52.203125 31.203125 \nL 52.203125 0 \nL 43.21875 0 \nL 43.21875 8.296875 \nQ 40.140625 3.328125 35.546875 0.953125 \nQ 30.953125 -1.421875 24.3125 -1.421875 \nQ 15.921875 -1.421875 10.953125 3.296875 \nQ 6 8.015625 6 15.921875 \nQ 6 25.140625 12.171875 29.828125 \nQ 18.359375 34.515625 30.609375 34.515625 \nL 43.21875 34.515625 \nL 43.21875 35.40625 \nQ 43.21875 41.609375 39.140625 45 \nQ 35.0625 48.390625 27.6875 48.390625 \nQ 23 48.390625 18.546875 47.265625 \nQ 14.109375 46.140625 10.015625 43.890625 \nL 10.015625 52.203125 \nQ 14.9375 54.109375 19.578125 55.046875 \nQ 24.21875 56 28.609375 56 \nQ 40.484375 56 46.34375 49.84375 \nQ 52.203125 43.703125 52.203125 31.203125 \nz\n\" id=\"DejaVuSans-97\"/>\n       <path d=\"M 9.421875 75.984375 \nL 18.40625 75.984375 \nL 18.40625 0 \nL 9.421875 0 \nz\n\" id=\"DejaVuSans-108\"/>\n       <path d=\"M 44.28125 53.078125 \nL 44.28125 44.578125 \nQ 40.484375 46.53125 36.375 47.5 \nQ 32.28125 48.484375 27.875 48.484375 \nQ 21.1875 48.484375 17.84375 46.4375 \nQ 14.5 44.390625 14.5 40.28125 \nQ 14.5 37.15625 16.890625 35.375 \nQ 19.28125 33.59375 26.515625 31.984375 \nL 29.59375 31.296875 \nQ 39.15625 29.25 43.1875 25.515625 \nQ 47.21875 21.78125 47.21875 15.09375 \nQ 47.21875 7.46875 41.1875 3.015625 \nQ 35.15625 -1.421875 24.609375 -1.421875 \nQ 20.21875 -1.421875 15.453125 -0.5625 \nQ 10.6875 0.296875 5.421875 2 \nL 5.421875 11.28125 \nQ 10.40625 8.6875 15.234375 7.390625 \nQ 20.0625 6.109375 24.8125 6.109375 \nQ 31.15625 6.109375 34.5625 8.28125 \nQ 37.984375 10.453125 37.984375 14.40625 \nQ 37.984375 18.0625 35.515625 20.015625 \nQ 33.0625 21.96875 24.703125 23.78125 \nL 21.578125 24.515625 \nQ 13.234375 26.265625 9.515625 29.90625 \nQ 5.8125 33.546875 5.8125 39.890625 \nQ 5.8125 47.609375 11.28125 51.796875 \nQ 16.75 56 26.8125 56 \nQ 31.78125 56 36.171875 55.265625 \nQ 40.578125 54.546875 44.28125 53.078125 \nz\n\" id=\"DejaVuSans-115\"/>\n       <path d=\"M 56.203125 29.59375 \nL 56.203125 25.203125 \nL 14.890625 25.203125 \nQ 15.484375 15.921875 20.484375 11.0625 \nQ 25.484375 6.203125 34.421875 6.203125 \nQ 39.59375 6.203125 44.453125 7.46875 \nQ 49.3125 8.734375 54.109375 11.28125 \nL 54.109375 2.78125 \nQ 49.265625 0.734375 44.1875 -0.34375 \nQ 39.109375 -1.421875 33.890625 -1.421875 \nQ 20.796875 -1.421875 13.15625 6.1875 \nQ 5.515625 13.8125 5.515625 26.8125 \nQ 5.515625 40.234375 12.765625 48.109375 \nQ 20.015625 56 32.328125 56 \nQ 43.359375 56 49.78125 48.890625 \nQ 56.203125 41.796875 56.203125 29.59375 \nz\nM 47.21875 32.234375 \nQ 47.125 39.59375 43.09375 43.984375 \nQ 39.0625 48.390625 32.421875 48.390625 \nQ 24.90625 48.390625 20.390625 44.140625 \nQ 15.875 39.890625 15.1875 32.171875 \nz\n\" id=\"DejaVuSans-101\"/>\n      </defs>\n      <g style=\"fill:#262626;\" transform=\"translate(137.198203 242.498281)scale(0.11 -0.11)\">\n       <use xlink:href=\"#DejaVuSans-70\"/>\n       <use x=\"48.394531\" xlink:href=\"#DejaVuSans-97\"/>\n       <use x=\"109.673828\" xlink:href=\"#DejaVuSans-108\"/>\n       <use x=\"137.457031\" xlink:href=\"#DejaVuSans-115\"/>\n       <use x=\"189.556641\" xlink:href=\"#DejaVuSans-101\"/>\n      </g>\n     </g>\n    </g>\n    <g id=\"xtick_2\">\n     <g id=\"text_2\">\n      <!-- True -->\n      <defs>\n       <path d=\"M -0.296875 72.90625 \nL 61.375 72.90625 \nL 61.375 64.59375 \nL 35.5 64.59375 \nL 35.5 0 \nL 25.59375 0 \nL 25.59375 64.59375 \nL -0.296875 64.59375 \nz\n\" id=\"DejaVuSans-84\"/>\n       <path d=\"M 41.109375 46.296875 \nQ 39.59375 47.171875 37.8125 47.578125 \nQ 36.03125 48 33.890625 48 \nQ 26.265625 48 22.1875 43.046875 \nQ 18.109375 38.09375 18.109375 28.8125 \nL 18.109375 0 \nL 9.078125 0 \nL 9.078125 54.6875 \nL 18.109375 54.6875 \nL 18.109375 46.1875 \nQ 20.953125 51.171875 25.484375 53.578125 \nQ 30.03125 56 36.53125 56 \nQ 37.453125 56 38.578125 55.875 \nQ 39.703125 55.765625 41.0625 55.515625 \nz\n\" id=\"DejaVuSans-114\"/>\n       <path d=\"M 8.5 21.578125 \nL 8.5 54.6875 \nL 17.484375 54.6875 \nL 17.484375 21.921875 \nQ 17.484375 14.15625 20.5 10.265625 \nQ 23.53125 6.390625 29.59375 6.390625 \nQ 36.859375 6.390625 41.078125 11.03125 \nQ 45.3125 15.671875 45.3125 23.6875 \nL 45.3125 54.6875 \nL 54.296875 54.6875 \nL 54.296875 0 \nL 45.3125 0 \nL 45.3125 8.40625 \nQ 42.046875 3.421875 37.71875 1 \nQ 33.40625 -1.421875 27.6875 -1.421875 \nQ 18.265625 -1.421875 13.375 4.4375 \nQ 8.5 10.296875 8.5 21.578125 \nz\nM 31.109375 56 \nz\n\" id=\"DejaVuSans-117\"/>\n      </defs>\n      <g style=\"fill:#262626;\" transform=\"translate(306.728594 242.498281)scale(0.11 -0.11)\">\n       <use xlink:href=\"#DejaVuSans-84\"/>\n       <use x=\"46.333984\" xlink:href=\"#DejaVuSans-114\"/>\n       <use x=\"87.447266\" xlink:href=\"#DejaVuSans-117\"/>\n       <use x=\"150.826172\" xlink:href=\"#DejaVuSans-101\"/>\n      </g>\n     </g>\n    </g>\n    <g id=\"text_3\">\n     <!-- target_default -->\n     <defs>\n      <path d=\"M 18.3125 70.21875 \nL 18.3125 54.6875 \nL 36.8125 54.6875 \nL 36.8125 47.703125 \nL 18.3125 47.703125 \nL 18.3125 18.015625 \nQ 18.3125 11.328125 20.140625 9.421875 \nQ 21.96875 7.515625 27.59375 7.515625 \nL 36.8125 7.515625 \nL 36.8125 0 \nL 27.59375 0 \nQ 17.1875 0 13.234375 3.875 \nQ 9.28125 7.765625 9.28125 18.015625 \nL 9.28125 47.703125 \nL 2.6875 47.703125 \nL 2.6875 54.6875 \nL 9.28125 54.6875 \nL 9.28125 70.21875 \nz\n\" id=\"DejaVuSans-116\"/>\n      <path d=\"M 45.40625 27.984375 \nQ 45.40625 37.75 41.375 43.109375 \nQ 37.359375 48.484375 30.078125 48.484375 \nQ 22.859375 48.484375 18.828125 43.109375 \nQ 14.796875 37.75 14.796875 27.984375 \nQ 14.796875 18.265625 18.828125 12.890625 \nQ 22.859375 7.515625 30.078125 7.515625 \nQ 37.359375 7.515625 41.375 12.890625 \nQ 45.40625 18.265625 45.40625 27.984375 \nz\nM 54.390625 6.78125 \nQ 54.390625 -7.171875 48.1875 -13.984375 \nQ 42 -20.796875 29.203125 -20.796875 \nQ 24.46875 -20.796875 20.265625 -20.09375 \nQ 16.0625 -19.390625 12.109375 -17.921875 \nL 12.109375 -9.1875 \nQ 16.0625 -11.328125 19.921875 -12.34375 \nQ 23.78125 -13.375 27.78125 -13.375 \nQ 36.625 -13.375 41.015625 -8.765625 \nQ 45.40625 -4.15625 45.40625 5.171875 \nL 45.40625 9.625 \nQ 42.625 4.78125 38.28125 2.390625 \nQ 33.9375 0 27.875 0 \nQ 17.828125 0 11.671875 7.65625 \nQ 5.515625 15.328125 5.515625 27.984375 \nQ 5.515625 40.671875 11.671875 48.328125 \nQ 17.828125 56 27.875 56 \nQ 33.9375 56 38.28125 53.609375 \nQ 42.625 51.21875 45.40625 46.390625 \nL 45.40625 54.6875 \nL 54.390625 54.6875 \nz\n\" id=\"DejaVuSans-103\"/>\n      <path d=\"M 50.984375 -16.609375 \nL 50.984375 -23.578125 \nL -0.984375 -23.578125 \nL -0.984375 -16.609375 \nz\n\" id=\"DejaVuSans-95\"/>\n      <path d=\"M 45.40625 46.390625 \nL 45.40625 75.984375 \nL 54.390625 75.984375 \nL 54.390625 0 \nL 45.40625 0 \nL 45.40625 8.203125 \nQ 42.578125 3.328125 38.25 0.953125 \nQ 33.9375 -1.421875 27.875 -1.421875 \nQ 17.96875 -1.421875 11.734375 6.484375 \nQ 5.515625 14.40625 5.515625 27.296875 \nQ 5.515625 40.1875 11.734375 48.09375 \nQ 17.96875 56 27.875 56 \nQ 33.9375 56 38.25 53.625 \nQ 42.578125 51.265625 45.40625 46.390625 \nz\nM 14.796875 27.296875 \nQ 14.796875 17.390625 18.875 11.75 \nQ 22.953125 6.109375 30.078125 6.109375 \nQ 37.203125 6.109375 41.296875 11.75 \nQ 45.40625 17.390625 45.40625 27.296875 \nQ 45.40625 37.203125 41.296875 42.84375 \nQ 37.203125 48.484375 30.078125 48.484375 \nQ 22.953125 48.484375 18.875 42.84375 \nQ 14.796875 37.203125 14.796875 27.296875 \nz\n\" id=\"DejaVuSans-100\"/>\n      <path d=\"M 37.109375 75.984375 \nL 37.109375 68.5 \nL 28.515625 68.5 \nQ 23.6875 68.5 21.796875 66.546875 \nQ 19.921875 64.59375 19.921875 59.515625 \nL 19.921875 54.6875 \nL 34.71875 54.6875 \nL 34.71875 47.703125 \nL 19.921875 47.703125 \nL 19.921875 0 \nL 10.890625 0 \nL 10.890625 47.703125 \nL 2.296875 47.703125 \nL 2.296875 54.6875 \nL 10.890625 54.6875 \nL 10.890625 58.5 \nQ 10.890625 67.625 15.140625 71.796875 \nQ 19.390625 75.984375 28.609375 75.984375 \nz\n\" id=\"DejaVuSans-102\"/>\n     </defs>\n     <g style=\"fill:#262626;\" transform=\"translate(192.352188 257.904063)scale(0.12 -0.12)\">\n      <use xlink:href=\"#DejaVuSans-116\"/>\n      <use x=\"39.208984\" xlink:href=\"#DejaVuSans-97\"/>\n      <use x=\"100.488281\" xlink:href=\"#DejaVuSans-114\"/>\n      <use x=\"139.851562\" xlink:href=\"#DejaVuSans-103\"/>\n      <use x=\"203.328125\" xlink:href=\"#DejaVuSans-101\"/>\n      <use x=\"264.851562\" xlink:href=\"#DejaVuSans-116\"/>\n      <use x=\"304.060547\" xlink:href=\"#DejaVuSans-95\"/>\n      <use x=\"354.060547\" xlink:href=\"#DejaVuSans-100\"/>\n      <use x=\"417.537109\" xlink:href=\"#DejaVuSans-101\"/>\n      <use x=\"479.060547\" xlink:href=\"#DejaVuSans-102\"/>\n      <use x=\"514.265625\" xlink:href=\"#DejaVuSans-97\"/>\n      <use x=\"575.544922\" xlink:href=\"#DejaVuSans-117\"/>\n      <use x=\"638.923828\" xlink:href=\"#DejaVuSans-108\"/>\n      <use x=\"666.707031\" xlink:href=\"#DejaVuSans-116\"/>\n     </g>\n    </g>\n   </g>\n   <g id=\"matplotlib.axis_2\">\n    <g id=\"ytick_1\">\n     <g id=\"line2d_1\">\n      <path clip-path=\"url(#p4a594a43bc)\" d=\"M 67.3075 224.64 \nL 402.1075 224.64 \n\" style=\"fill:none;stroke:#ffffff;stroke-linecap:round;\"/>\n     </g>\n     <g id=\"text_4\">\n      <!-- 0 -->\n      <defs>\n       <path d=\"M 31.78125 66.40625 \nQ 24.171875 66.40625 20.328125 58.90625 \nQ 16.5 51.421875 16.5 36.375 \nQ 16.5 21.390625 20.328125 13.890625 \nQ 24.171875 6.390625 31.78125 6.390625 \nQ 39.453125 6.390625 43.28125 13.890625 \nQ 47.125 21.390625 47.125 36.375 \nQ 47.125 51.421875 43.28125 58.90625 \nQ 39.453125 66.40625 31.78125 66.40625 \nz\nM 31.78125 74.21875 \nQ 44.046875 74.21875 50.515625 64.515625 \nQ 56.984375 54.828125 56.984375 36.375 \nQ 56.984375 17.96875 50.515625 8.265625 \nQ 44.046875 -1.421875 31.78125 -1.421875 \nQ 19.53125 -1.421875 13.0625 8.265625 \nQ 6.59375 17.96875 6.59375 36.375 \nQ 6.59375 54.828125 13.0625 64.515625 \nQ 19.53125 74.21875 31.78125 74.21875 \nz\n\" id=\"DejaVuSans-48\"/>\n      </defs>\n      <g style=\"fill:#262626;\" transform=\"translate(50.80875 228.819141)scale(0.11 -0.11)\">\n       <use xlink:href=\"#DejaVuSans-48\"/>\n      </g>\n     </g>\n    </g>\n    <g id=\"ytick_2\">\n     <g id=\"line2d_2\">\n      <path clip-path=\"url(#p4a594a43bc)\" d=\"M 67.3075 195.123792 \nL 402.1075 195.123792 \n\" style=\"fill:none;stroke:#ffffff;stroke-linecap:round;\"/>\n     </g>\n     <g id=\"text_5\">\n      <!-- 5000 -->\n      <defs>\n       <path d=\"M 10.796875 72.90625 \nL 49.515625 72.90625 \nL 49.515625 64.59375 \nL 19.828125 64.59375 \nL 19.828125 46.734375 \nQ 21.96875 47.46875 24.109375 47.828125 \nQ 26.265625 48.1875 28.421875 48.1875 \nQ 40.625 48.1875 47.75 41.5 \nQ 54.890625 34.8125 54.890625 23.390625 \nQ 54.890625 11.625 47.5625 5.09375 \nQ 40.234375 -1.421875 26.90625 -1.421875 \nQ 22.3125 -1.421875 17.546875 -0.640625 \nQ 12.796875 0.140625 7.71875 1.703125 \nL 7.71875 11.625 \nQ 12.109375 9.234375 16.796875 8.0625 \nQ 21.484375 6.890625 26.703125 6.890625 \nQ 35.15625 6.890625 40.078125 11.328125 \nQ 45.015625 15.765625 45.015625 23.390625 \nQ 45.015625 31 40.078125 35.4375 \nQ 35.15625 39.890625 26.703125 39.890625 \nQ 22.75 39.890625 18.8125 39.015625 \nQ 14.890625 38.140625 10.796875 36.28125 \nz\n\" id=\"DejaVuSans-53\"/>\n      </defs>\n      <g style=\"fill:#262626;\" transform=\"translate(29.8125 199.302933)scale(0.11 -0.11)\">\n       <use xlink:href=\"#DejaVuSans-53\"/>\n       <use x=\"63.623047\" xlink:href=\"#DejaVuSans-48\"/>\n       <use x=\"127.246094\" xlink:href=\"#DejaVuSans-48\"/>\n       <use x=\"190.869141\" xlink:href=\"#DejaVuSans-48\"/>\n      </g>\n     </g>\n    </g>\n    <g id=\"ytick_3\">\n     <g id=\"line2d_3\">\n      <path clip-path=\"url(#p4a594a43bc)\" d=\"M 67.3075 165.607584 \nL 402.1075 165.607584 \n\" style=\"fill:none;stroke:#ffffff;stroke-linecap:round;\"/>\n     </g>\n     <g id=\"text_6\">\n      <!-- 10000 -->\n      <defs>\n       <path d=\"M 12.40625 8.296875 \nL 28.515625 8.296875 \nL 28.515625 63.921875 \nL 10.984375 60.40625 \nL 10.984375 69.390625 \nL 28.421875 72.90625 \nL 38.28125 72.90625 \nL 38.28125 8.296875 \nL 54.390625 8.296875 \nL 54.390625 0 \nL 12.40625 0 \nz\n\" id=\"DejaVuSans-49\"/>\n      </defs>\n      <g style=\"fill:#262626;\" transform=\"translate(22.81375 169.786725)scale(0.11 -0.11)\">\n       <use xlink:href=\"#DejaVuSans-49\"/>\n       <use x=\"63.623047\" xlink:href=\"#DejaVuSans-48\"/>\n       <use x=\"127.246094\" xlink:href=\"#DejaVuSans-48\"/>\n       <use x=\"190.869141\" xlink:href=\"#DejaVuSans-48\"/>\n       <use x=\"254.492188\" xlink:href=\"#DejaVuSans-48\"/>\n      </g>\n     </g>\n    </g>\n    <g id=\"ytick_4\">\n     <g id=\"line2d_4\">\n      <path clip-path=\"url(#p4a594a43bc)\" d=\"M 67.3075 136.091376 \nL 402.1075 136.091376 \n\" style=\"fill:none;stroke:#ffffff;stroke-linecap:round;\"/>\n     </g>\n     <g id=\"text_7\">\n      <!-- 15000 -->\n      <g style=\"fill:#262626;\" transform=\"translate(22.81375 140.270517)scale(0.11 -0.11)\">\n       <use xlink:href=\"#DejaVuSans-49\"/>\n       <use x=\"63.623047\" xlink:href=\"#DejaVuSans-53\"/>\n       <use x=\"127.246094\" xlink:href=\"#DejaVuSans-48\"/>\n       <use x=\"190.869141\" xlink:href=\"#DejaVuSans-48\"/>\n       <use x=\"254.492188\" xlink:href=\"#DejaVuSans-48\"/>\n      </g>\n     </g>\n    </g>\n    <g id=\"ytick_5\">\n     <g id=\"line2d_5\">\n      <path clip-path=\"url(#p4a594a43bc)\" d=\"M 67.3075 106.575169 \nL 402.1075 106.575169 \n\" style=\"fill:none;stroke:#ffffff;stroke-linecap:round;\"/>\n     </g>\n     <g id=\"text_8\">\n      <!-- 20000 -->\n      <defs>\n       <path d=\"M 19.1875 8.296875 \nL 53.609375 8.296875 \nL 53.609375 0 \nL 7.328125 0 \nL 7.328125 8.296875 \nQ 12.9375 14.109375 22.625 23.890625 \nQ 32.328125 33.6875 34.8125 36.53125 \nQ 39.546875 41.84375 41.421875 45.53125 \nQ 43.3125 49.21875 43.3125 52.78125 \nQ 43.3125 58.59375 39.234375 62.25 \nQ 35.15625 65.921875 28.609375 65.921875 \nQ 23.96875 65.921875 18.8125 64.3125 \nQ 13.671875 62.703125 7.8125 59.421875 \nL 7.8125 69.390625 \nQ 13.765625 71.78125 18.9375 73 \nQ 24.125 74.21875 28.421875 74.21875 \nQ 39.75 74.21875 46.484375 68.546875 \nQ 53.21875 62.890625 53.21875 53.421875 \nQ 53.21875 48.921875 51.53125 44.890625 \nQ 49.859375 40.875 45.40625 35.40625 \nQ 44.1875 33.984375 37.640625 27.21875 \nQ 31.109375 20.453125 19.1875 8.296875 \nz\n\" id=\"DejaVuSans-50\"/>\n      </defs>\n      <g style=\"fill:#262626;\" transform=\"translate(22.81375 110.754309)scale(0.11 -0.11)\">\n       <use xlink:href=\"#DejaVuSans-50\"/>\n       <use x=\"63.623047\" xlink:href=\"#DejaVuSans-48\"/>\n       <use x=\"127.246094\" xlink:href=\"#DejaVuSans-48\"/>\n       <use x=\"190.869141\" xlink:href=\"#DejaVuSans-48\"/>\n       <use x=\"254.492188\" xlink:href=\"#DejaVuSans-48\"/>\n      </g>\n     </g>\n    </g>\n    <g id=\"ytick_6\">\n     <g id=\"line2d_6\">\n      <path clip-path=\"url(#p4a594a43bc)\" d=\"M 67.3075 77.058961 \nL 402.1075 77.058961 \n\" style=\"fill:none;stroke:#ffffff;stroke-linecap:round;\"/>\n     </g>\n     <g id=\"text_9\">\n      <!-- 25000 -->\n      <g style=\"fill:#262626;\" transform=\"translate(22.81375 81.238101)scale(0.11 -0.11)\">\n       <use xlink:href=\"#DejaVuSans-50\"/>\n       <use x=\"63.623047\" xlink:href=\"#DejaVuSans-53\"/>\n       <use x=\"127.246094\" xlink:href=\"#DejaVuSans-48\"/>\n       <use x=\"190.869141\" xlink:href=\"#DejaVuSans-48\"/>\n       <use x=\"254.492188\" xlink:href=\"#DejaVuSans-48\"/>\n      </g>\n     </g>\n    </g>\n    <g id=\"ytick_7\">\n     <g id=\"line2d_7\">\n      <path clip-path=\"url(#p4a594a43bc)\" d=\"M 67.3075 47.542753 \nL 402.1075 47.542753 \n\" style=\"fill:none;stroke:#ffffff;stroke-linecap:round;\"/>\n     </g>\n     <g id=\"text_10\">\n      <!-- 30000 -->\n      <defs>\n       <path d=\"M 40.578125 39.3125 \nQ 47.65625 37.796875 51.625 33 \nQ 55.609375 28.21875 55.609375 21.1875 \nQ 55.609375 10.40625 48.1875 4.484375 \nQ 40.765625 -1.421875 27.09375 -1.421875 \nQ 22.515625 -1.421875 17.65625 -0.515625 \nQ 12.796875 0.390625 7.625 2.203125 \nL 7.625 11.71875 \nQ 11.71875 9.328125 16.59375 8.109375 \nQ 21.484375 6.890625 26.8125 6.890625 \nQ 36.078125 6.890625 40.9375 10.546875 \nQ 45.796875 14.203125 45.796875 21.1875 \nQ 45.796875 27.640625 41.28125 31.265625 \nQ 36.765625 34.90625 28.71875 34.90625 \nL 20.21875 34.90625 \nL 20.21875 43.015625 \nL 29.109375 43.015625 \nQ 36.375 43.015625 40.234375 45.921875 \nQ 44.09375 48.828125 44.09375 54.296875 \nQ 44.09375 59.90625 40.109375 62.90625 \nQ 36.140625 65.921875 28.71875 65.921875 \nQ 24.65625 65.921875 20.015625 65.03125 \nQ 15.375 64.15625 9.8125 62.3125 \nL 9.8125 71.09375 \nQ 15.4375 72.65625 20.34375 73.4375 \nQ 25.25 74.21875 29.59375 74.21875 \nQ 40.828125 74.21875 47.359375 69.109375 \nQ 53.90625 64.015625 53.90625 55.328125 \nQ 53.90625 49.265625 50.4375 45.09375 \nQ 46.96875 40.921875 40.578125 39.3125 \nz\n\" id=\"DejaVuSans-51\"/>\n      </defs>\n      <g style=\"fill:#262626;\" transform=\"translate(22.81375 51.721894)scale(0.11 -0.11)\">\n       <use xlink:href=\"#DejaVuSans-51\"/>\n       <use x=\"63.623047\" xlink:href=\"#DejaVuSans-48\"/>\n       <use x=\"127.246094\" xlink:href=\"#DejaVuSans-48\"/>\n       <use x=\"190.869141\" xlink:href=\"#DejaVuSans-48\"/>\n       <use x=\"254.492188\" xlink:href=\"#DejaVuSans-48\"/>\n      </g>\n     </g>\n    </g>\n    <g id=\"ytick_8\">\n     <g id=\"line2d_8\">\n      <path clip-path=\"url(#p4a594a43bc)\" d=\"M 67.3075 18.026545 \nL 402.1075 18.026545 \n\" style=\"fill:none;stroke:#ffffff;stroke-linecap:round;\"/>\n     </g>\n     <g id=\"text_11\">\n      <!-- 35000 -->\n      <g style=\"fill:#262626;\" transform=\"translate(22.81375 22.205686)scale(0.11 -0.11)\">\n       <use xlink:href=\"#DejaVuSans-51\"/>\n       <use x=\"63.623047\" xlink:href=\"#DejaVuSans-53\"/>\n       <use x=\"127.246094\" xlink:href=\"#DejaVuSans-48\"/>\n       <use x=\"190.869141\" xlink:href=\"#DejaVuSans-48\"/>\n       <use x=\"254.492188\" xlink:href=\"#DejaVuSans-48\"/>\n      </g>\n     </g>\n    </g>\n    <g id=\"text_12\">\n     <!-- count -->\n     <defs>\n      <path d=\"M 48.78125 52.59375 \nL 48.78125 44.1875 \nQ 44.96875 46.296875 41.140625 47.34375 \nQ 37.3125 48.390625 33.40625 48.390625 \nQ 24.65625 48.390625 19.8125 42.84375 \nQ 14.984375 37.3125 14.984375 27.296875 \nQ 14.984375 17.28125 19.8125 11.734375 \nQ 24.65625 6.203125 33.40625 6.203125 \nQ 37.3125 6.203125 41.140625 7.25 \nQ 44.96875 8.296875 48.78125 10.40625 \nL 48.78125 2.09375 \nQ 45.015625 0.34375 40.984375 -0.53125 \nQ 36.96875 -1.421875 32.421875 -1.421875 \nQ 20.0625 -1.421875 12.78125 6.34375 \nQ 5.515625 14.109375 5.515625 27.296875 \nQ 5.515625 40.671875 12.859375 48.328125 \nQ 20.21875 56 33.015625 56 \nQ 37.15625 56 41.109375 55.140625 \nQ 45.0625 54.296875 48.78125 52.59375 \nz\n\" id=\"DejaVuSans-99\"/>\n      <path d=\"M 30.609375 48.390625 \nQ 23.390625 48.390625 19.1875 42.75 \nQ 14.984375 37.109375 14.984375 27.296875 \nQ 14.984375 17.484375 19.15625 11.84375 \nQ 23.34375 6.203125 30.609375 6.203125 \nQ 37.796875 6.203125 41.984375 11.859375 \nQ 46.1875 17.53125 46.1875 27.296875 \nQ 46.1875 37.015625 41.984375 42.703125 \nQ 37.796875 48.390625 30.609375 48.390625 \nz\nM 30.609375 56 \nQ 42.328125 56 49.015625 48.375 \nQ 55.71875 40.765625 55.71875 27.296875 \nQ 55.71875 13.875 49.015625 6.21875 \nQ 42.328125 -1.421875 30.609375 -1.421875 \nQ 18.84375 -1.421875 12.171875 6.21875 \nQ 5.515625 13.875 5.515625 27.296875 \nQ 5.515625 40.765625 12.171875 48.375 \nQ 18.84375 56 30.609375 56 \nz\n\" id=\"DejaVuSans-111\"/>\n      <path d=\"M 54.890625 33.015625 \nL 54.890625 0 \nL 45.90625 0 \nL 45.90625 32.71875 \nQ 45.90625 40.484375 42.875 44.328125 \nQ 39.84375 48.1875 33.796875 48.1875 \nQ 26.515625 48.1875 22.3125 43.546875 \nQ 18.109375 38.921875 18.109375 30.90625 \nL 18.109375 0 \nL 9.078125 0 \nL 9.078125 54.6875 \nL 18.109375 54.6875 \nL 18.109375 46.1875 \nQ 21.34375 51.125 25.703125 53.5625 \nQ 30.078125 56 35.796875 56 \nQ 45.21875 56 50.046875 50.171875 \nQ 54.890625 44.34375 54.890625 33.015625 \nz\n\" id=\"DejaVuSans-110\"/>\n     </defs>\n     <g style=\"fill:#262626;\" transform=\"translate(16.318125 132.8475)rotate(-90)scale(0.12 -0.12)\">\n      <use xlink:href=\"#DejaVuSans-99\"/>\n      <use x=\"54.980469\" xlink:href=\"#DejaVuSans-111\"/>\n      <use x=\"116.162109\" xlink:href=\"#DejaVuSans-117\"/>\n      <use x=\"179.541016\" xlink:href=\"#DejaVuSans-110\"/>\n      <use x=\"242.919922\" xlink:href=\"#DejaVuSans-116\"/>\n     </g>\n    </g>\n   </g>\n   <g id=\"patch_3\">\n    <path clip-path=\"url(#p4a594a43bc)\" d=\"M 84.0475 224.64 \nL 217.9675 224.64 \nL 217.9675 17.554286 \nL 84.0475 17.554286 \nz\n\" style=\"fill:#4884af;stroke:#ffffff;stroke-linejoin:miter;\"/>\n   </g>\n   <g id=\"patch_4\">\n    <path clip-path=\"url(#p4a594a43bc)\" d=\"M 251.4475 224.64 \nL 385.3675 224.64 \nL 385.3675 185.318508 \nL 251.4475 185.318508 \nz\n\" style=\"fill:#b3cede;stroke:#ffffff;stroke-linejoin:miter;\"/>\n   </g>\n   <g id=\"patch_5\">\n    <path d=\"M 67.3075 224.64 \nL 67.3075 7.2 \n\" style=\"fill:none;stroke:#ffffff;stroke-linecap:square;stroke-linejoin:miter;stroke-width:1.25;\"/>\n   </g>\n   <g id=\"patch_6\">\n    <path d=\"M 402.1075 224.64 \nL 402.1075 7.2 \n\" style=\"fill:none;stroke:#ffffff;stroke-linecap:square;stroke-linejoin:miter;stroke-width:1.25;\"/>\n   </g>\n   <g id=\"patch_7\">\n    <path d=\"M 67.3075 224.64 \nL 402.1075 224.64 \n\" style=\"fill:none;stroke:#ffffff;stroke-linecap:square;stroke-linejoin:miter;stroke-width:1.25;\"/>\n   </g>\n   <g id=\"patch_8\">\n    <path d=\"M 67.3075 7.2 \nL 402.1075 7.2 \n\" style=\"fill:none;stroke:#ffffff;stroke-linecap:square;stroke-linejoin:miter;stroke-width:1.25;\"/>\n   </g>\n  </g>\n </g>\n <defs>\n  <clipPath id=\"p4a594a43bc\">\n   <rect height=\"217.44\" width=\"334.8\" x=\"67.3075\" y=\"7.2\"/>\n  </clipPath>\n </defs>\n</svg>\n"
          },
          "metadata": {
            "tags": [],
            "needs_background": "light"
          }
        }
      ]
    },
    {
      "cell_type": "code",
      "metadata": {
        "id": "8xTJcEfR-tqo",
        "colab_type": "code",
        "colab": {
          "base_uri": "https://localhost:8080/",
          "height": 88
        },
        "outputId": "06a46150-3603-4fcc-dd23-9814004f750c"
      },
      "source": [
        "print(\"Proporção entre os inadimplentes (%)\")\n",
        "\n",
        "df.target_default.value_counts()/df.shape[0]*100"
      ],
      "execution_count": 51,
      "outputs": [
        {
          "output_type": "stream",
          "text": [
            "Proporção entre os inadimplentes (%)\n"
          ],
          "name": "stdout"
        },
        {
          "output_type": "execute_result",
          "data": {
            "text/plain": [
              "False    77.955556\n",
              "True     14.802222\n",
              "Name: target_default, dtype: float64"
            ]
          },
          "metadata": {
            "tags": []
          },
          "execution_count": 51
        }
      ]
    },
    {
      "cell_type": "markdown",
      "metadata": {
        "id": "RrmPiN3f_JiE",
        "colab_type": "text"
      },
      "source": [
        "Podemos ver então, que os dados apresentaram grande necesspidade de balanceamento, a qual realizarei mais a frente"
      ]
    },
    {
      "cell_type": "markdown",
      "metadata": {
        "id": "_L0I9gZa_V9J",
        "colab_type": "text"
      },
      "source": [
        "Por último e não menos improtante, \"Como está a estatística descritiva do dataset?\"\n"
      ]
    },
    {
      "cell_type": "code",
      "metadata": {
        "id": "U862CAdm_fPN",
        "colab_type": "code",
        "colab": {
          "base_uri": "https://localhost:8080/",
          "height": 302
        },
        "outputId": "26673c80-606f-4d5f-b0fe-c12c899b7cf8"
      },
      "source": [
        "#Estatística descritiva\n",
        "df.describe()"
      ],
      "execution_count": 52,
      "outputs": [
        {
          "output_type": "execute_result",
          "data": {
            "text/html": [
              "<div>\n",
              "<style scoped>\n",
              "    .dataframe tbody tr th:only-of-type {\n",
              "        vertical-align: middle;\n",
              "    }\n",
              "\n",
              "    .dataframe tbody tr th {\n",
              "        vertical-align: top;\n",
              "    }\n",
              "\n",
              "    .dataframe thead th {\n",
              "        text-align: right;\n",
              "    }\n",
              "</style>\n",
              "<table border=\"1\" class=\"dataframe\">\n",
              "  <thead>\n",
              "    <tr style=\"text-align: right;\">\n",
              "      <th></th>\n",
              "      <th>score_3</th>\n",
              "      <th>score_4</th>\n",
              "      <th>score_5</th>\n",
              "      <th>score_6</th>\n",
              "      <th>risk_rate</th>\n",
              "      <th>last_amount_borrowed</th>\n",
              "      <th>last_borrowed_in_months</th>\n",
              "      <th>credit_limit</th>\n",
              "      <th>income</th>\n",
              "      <th>ok_since</th>\n",
              "      <th>n_bankruptcies</th>\n",
              "      <th>n_defaulted_loans</th>\n",
              "      <th>n_accounts</th>\n",
              "      <th>n_issues</th>\n",
              "      <th>application_time_in_funnel</th>\n",
              "      <th>external_data_provider_credit_checks_last_2_year</th>\n",
              "      <th>external_data_provider_credit_checks_last_month</th>\n",
              "      <th>external_data_provider_credit_checks_last_year</th>\n",
              "      <th>external_data_provider_email_seen_before</th>\n",
              "      <th>external_data_provider_fraud_score</th>\n",
              "      <th>reported_income</th>\n",
              "      <th>shipping_zip_code</th>\n",
              "    </tr>\n",
              "  </thead>\n",
              "  <tbody>\n",
              "    <tr>\n",
              "      <th>count</th>\n",
              "      <td>44438.000000</td>\n",
              "      <td>45000.000000</td>\n",
              "      <td>45000.000000</td>\n",
              "      <td>45000.000000</td>\n",
              "      <td>44438.000000</td>\n",
              "      <td>15044.000000</td>\n",
              "      <td>15044.000000</td>\n",
              "      <td>31200.000000</td>\n",
              "      <td>4.443800e+04</td>\n",
              "      <td>18455.000000</td>\n",
              "      <td>44303.000000</td>\n",
              "      <td>44426.000000</td>\n",
              "      <td>44438.000000</td>\n",
              "      <td>33456.000000</td>\n",
              "      <td>45000.000000</td>\n",
              "      <td>22372.0</td>\n",
              "      <td>45000.000000</td>\n",
              "      <td>29876.000000</td>\n",
              "      <td>42767.000000</td>\n",
              "      <td>45000.000000</td>\n",
              "      <td>45000.00</td>\n",
              "      <td>45000.000000</td>\n",
              "    </tr>\n",
              "    <tr>\n",
              "      <th>mean</th>\n",
              "      <td>347.983258</td>\n",
              "      <td>100.006797</td>\n",
              "      <td>0.500037</td>\n",
              "      <td>99.925228</td>\n",
              "      <td>0.296717</td>\n",
              "      <td>13782.341991</td>\n",
              "      <td>41.763893</td>\n",
              "      <td>34381.951154</td>\n",
              "      <td>7.160739e+04</td>\n",
              "      <td>35.069737</td>\n",
              "      <td>0.076270</td>\n",
              "      <td>0.004569</td>\n",
              "      <td>10.696701</td>\n",
              "      <td>11.068119</td>\n",
              "      <td>247.537000</td>\n",
              "      <td>0.0</td>\n",
              "      <td>1.501067</td>\n",
              "      <td>0.503381</td>\n",
              "      <td>12.534781</td>\n",
              "      <td>500.399800</td>\n",
              "      <td>inf</td>\n",
              "      <td>33923.514844</td>\n",
              "    </tr>\n",
              "    <tr>\n",
              "      <th>std</th>\n",
              "      <td>110.429165</td>\n",
              "      <td>3.178080</td>\n",
              "      <td>0.288326</td>\n",
              "      <td>10.016549</td>\n",
              "      <td>0.101933</td>\n",
              "      <td>8077.571933</td>\n",
              "      <td>10.252705</td>\n",
              "      <td>36586.982218</td>\n",
              "      <td>5.185897e+04</td>\n",
              "      <td>21.663194</td>\n",
              "      <td>0.274052</td>\n",
              "      <td>0.079400</td>\n",
              "      <td>4.592463</td>\n",
              "      <td>4.595501</td>\n",
              "      <td>146.118398</td>\n",
              "      <td>0.0</td>\n",
              "      <td>1.114941</td>\n",
              "      <td>0.499997</td>\n",
              "      <td>126.530487</td>\n",
              "      <td>287.968873</td>\n",
              "      <td>NaN</td>\n",
              "      <td>12692.406382</td>\n",
              "    </tr>\n",
              "    <tr>\n",
              "      <th>min</th>\n",
              "      <td>0.000000</td>\n",
              "      <td>86.191572</td>\n",
              "      <td>0.000035</td>\n",
              "      <td>60.663039</td>\n",
              "      <td>0.000000</td>\n",
              "      <td>1005.180000</td>\n",
              "      <td>36.000000</td>\n",
              "      <td>0.000000</td>\n",
              "      <td>4.821180e+03</td>\n",
              "      <td>0.000000</td>\n",
              "      <td>0.000000</td>\n",
              "      <td>0.000000</td>\n",
              "      <td>0.000000</td>\n",
              "      <td>0.000000</td>\n",
              "      <td>0.000000</td>\n",
              "      <td>0.0</td>\n",
              "      <td>0.000000</td>\n",
              "      <td>0.000000</td>\n",
              "      <td>-999.000000</td>\n",
              "      <td>0.000000</td>\n",
              "      <td>403.00</td>\n",
              "      <td>12001.000000</td>\n",
              "    </tr>\n",
              "    <tr>\n",
              "      <th>25%</th>\n",
              "      <td>270.000000</td>\n",
              "      <td>97.867036</td>\n",
              "      <td>0.252150</td>\n",
              "      <td>93.198353</td>\n",
              "      <td>0.220000</td>\n",
              "      <td>7519.502500</td>\n",
              "      <td>36.000000</td>\n",
              "      <td>10000.000000</td>\n",
              "      <td>4.501078e+04</td>\n",
              "      <td>17.000000</td>\n",
              "      <td>0.000000</td>\n",
              "      <td>0.000000</td>\n",
              "      <td>7.000000</td>\n",
              "      <td>8.000000</td>\n",
              "      <td>120.000000</td>\n",
              "      <td>0.0</td>\n",
              "      <td>1.000000</td>\n",
              "      <td>0.000000</td>\n",
              "      <td>11.000000</td>\n",
              "      <td>252.000000</td>\n",
              "      <td>50948.25</td>\n",
              "      <td>22937.000000</td>\n",
              "    </tr>\n",
              "    <tr>\n",
              "      <th>50%</th>\n",
              "      <td>340.000000</td>\n",
              "      <td>100.018900</td>\n",
              "      <td>0.500753</td>\n",
              "      <td>99.974796</td>\n",
              "      <td>0.290000</td>\n",
              "      <td>12023.465000</td>\n",
              "      <td>36.000000</td>\n",
              "      <td>25647.000000</td>\n",
              "      <td>6.126676e+04</td>\n",
              "      <td>32.000000</td>\n",
              "      <td>0.000000</td>\n",
              "      <td>0.000000</td>\n",
              "      <td>10.000000</td>\n",
              "      <td>10.000000</td>\n",
              "      <td>248.000000</td>\n",
              "      <td>0.0</td>\n",
              "      <td>2.000000</td>\n",
              "      <td>1.000000</td>\n",
              "      <td>27.000000</td>\n",
              "      <td>503.000000</td>\n",
              "      <td>101779.00</td>\n",
              "      <td>33896.000000</td>\n",
              "    </tr>\n",
              "    <tr>\n",
              "      <th>75%</th>\n",
              "      <td>420.000000</td>\n",
              "      <td>102.141797</td>\n",
              "      <td>0.748816</td>\n",
              "      <td>106.640275</td>\n",
              "      <td>0.360000</td>\n",
              "      <td>19220.270000</td>\n",
              "      <td>36.000000</td>\n",
              "      <td>47086.750000</td>\n",
              "      <td>8.601923e+04</td>\n",
              "      <td>50.000000</td>\n",
              "      <td>0.000000</td>\n",
              "      <td>0.000000</td>\n",
              "      <td>13.000000</td>\n",
              "      <td>14.000000</td>\n",
              "      <td>375.000000</td>\n",
              "      <td>0.0</td>\n",
              "      <td>2.000000</td>\n",
              "      <td>1.000000</td>\n",
              "      <td>43.000000</td>\n",
              "      <td>747.000000</td>\n",
              "      <td>151337.25</td>\n",
              "      <td>44910.000000</td>\n",
              "    </tr>\n",
              "    <tr>\n",
              "      <th>max</th>\n",
              "      <td>990.000000</td>\n",
              "      <td>113.978234</td>\n",
              "      <td>0.999973</td>\n",
              "      <td>142.192400</td>\n",
              "      <td>0.900000</td>\n",
              "      <td>35059.600000</td>\n",
              "      <td>60.000000</td>\n",
              "      <td>448269.000000</td>\n",
              "      <td>5.000028e+06</td>\n",
              "      <td>141.000000</td>\n",
              "      <td>5.000000</td>\n",
              "      <td>5.000000</td>\n",
              "      <td>49.000000</td>\n",
              "      <td>49.000000</td>\n",
              "      <td>500.000000</td>\n",
              "      <td>0.0</td>\n",
              "      <td>3.000000</td>\n",
              "      <td>1.000000</td>\n",
              "      <td>59.000000</td>\n",
              "      <td>1000.000000</td>\n",
              "      <td>inf</td>\n",
              "      <td>56000.000000</td>\n",
              "    </tr>\n",
              "  </tbody>\n",
              "</table>\n",
              "</div>"
            ],
            "text/plain": [
              "            score_3       score_4  ...  reported_income  shipping_zip_code\n",
              "count  44438.000000  45000.000000  ...         45000.00       45000.000000\n",
              "mean     347.983258    100.006797  ...              inf       33923.514844\n",
              "std      110.429165      3.178080  ...              NaN       12692.406382\n",
              "min        0.000000     86.191572  ...           403.00       12001.000000\n",
              "25%      270.000000     97.867036  ...         50948.25       22937.000000\n",
              "50%      340.000000    100.018900  ...        101779.00       33896.000000\n",
              "75%      420.000000    102.141797  ...        151337.25       44910.000000\n",
              "max      990.000000    113.978234  ...              inf       56000.000000\n",
              "\n",
              "[8 rows x 22 columns]"
            ]
          },
          "metadata": {
            "tags": []
          },
          "execution_count": 52
        }
      ]
    },
    {
      "cell_type": "markdown",
      "metadata": {
        "id": "IkcyAgVV_lNd",
        "colab_type": "text"
      },
      "source": [
        "As os cálculo das princiapais informações estatisticas apresentadas, podemos destacar algumas observações:\n",
        "\n",
        "* A coluna `external_data_provider_credit_checks_last_2_year` possui valores mínimos, máximos e desvio-padrão iguais a zero.\n",
        "* A coluna `reported_income` apresenta valores *inf*, que irão interferir na análise e modelo. Substituiremos valores do tipo `np.inf` por `np.nan` para trabalhar com os dados.\n",
        "* A coluna `external_data_provider_email_seen_before` apresenta o valor mínimo de -999, o que é estranho ao se considerar as outras informações. Após verificar de maneira mais aprofundada, chegou-se a conclusão que esse dados são *outliers* ou foram tratados inadequadamente. Substituiremos os valores iguais a -999 por `np.nan`."
      ]
    },
    {
      "cell_type": "markdown",
      "metadata": {
        "id": "OJv8nALa6n37",
        "colab_type": "text"
      },
      "source": [
        "##Pré-processamento dos dados\n",
        "\n",
        "Feita toda análise exploratória e avaliação de quais passos iremos fazer para construir o melhor modelo possível, podemos dá inicio então ao preprocessamento dos dados, que seguirão esta ordem ná primeira etapa:\n",
        "\n",
        "\n",
        "*   Subistituir *inf* por *NaN*, na camada `reported_income`;\n",
        "*   Descartar as colunas `ids`, `target_fraud`,`external_data_provider_credit_checks_last_2_year`, `channel` e `profile_phone_number`;\n",
        "*   substituir -999 em `external_data_provider_email_seen_before` por *NaN*;\n",
        "*   Elminar colunas sem informação aparente ou que demandam mais pesquisa;\n",
        "*   Elminar as entradas onde `target_default` é igual a *NaN*.\n",
        "\n",
        "\n"
      ]
    },
    {
      "cell_type": "code",
      "metadata": {
        "id": "UULe4g7l6FCl",
        "colab_type": "code",
        "colab": {}
      },
      "source": [
        "#Copiando dataset\n",
        "df_clear = df.copy()"
      ],
      "execution_count": 53,
      "outputs": []
    },
    {
      "cell_type": "code",
      "metadata": {
        "id": "Z4COxEiK58qb",
        "colab_type": "code",
        "colab": {}
      },
      "source": [
        "#Subistituir inf por Nan\n",
        "df_clear.reported_income = df_clear.reported_income.replace(np.inf, np.nan)"
      ],
      "execution_count": 54,
      "outputs": []
    },
    {
      "cell_type": "code",
      "metadata": {
        "id": "Xmv1PIhR6l_1",
        "colab_type": "code",
        "colab": {}
      },
      "source": [
        "#eliminar camadas\n",
        "df_clear.drop([\"ids\", \"target_fraud\", \"external_data_provider_credit_checks_last_2_year\", \"channel\", \"profile_phone_number\"], axis=1, inplace= True)"
      ],
      "execution_count": 55,
      "outputs": []
    },
    {
      "cell_type": "code",
      "metadata": {
        "id": "iNLZVTSY2GAH",
        "colab_type": "code",
        "colab": {
          "base_uri": "https://localhost:8080/",
          "height": 295
        },
        "outputId": "e55d6c3a-52e0-4dfd-a387-4c1aba9d0198"
      },
      "source": [
        "df_clear.head(2)"
      ],
      "execution_count": 56,
      "outputs": [
        {
          "output_type": "execute_result",
          "data": {
            "text/html": [
              "<div>\n",
              "<style scoped>\n",
              "    .dataframe tbody tr th:only-of-type {\n",
              "        vertical-align: middle;\n",
              "    }\n",
              "\n",
              "    .dataframe tbody tr th {\n",
              "        vertical-align: top;\n",
              "    }\n",
              "\n",
              "    .dataframe thead th {\n",
              "        text-align: right;\n",
              "    }\n",
              "</style>\n",
              "<table border=\"1\" class=\"dataframe\">\n",
              "  <thead>\n",
              "    <tr style=\"text-align: right;\">\n",
              "      <th></th>\n",
              "      <th>target_default</th>\n",
              "      <th>score_1</th>\n",
              "      <th>score_2</th>\n",
              "      <th>score_3</th>\n",
              "      <th>score_4</th>\n",
              "      <th>score_5</th>\n",
              "      <th>score_6</th>\n",
              "      <th>risk_rate</th>\n",
              "      <th>last_amount_borrowed</th>\n",
              "      <th>last_borrowed_in_months</th>\n",
              "      <th>credit_limit</th>\n",
              "      <th>reason</th>\n",
              "      <th>income</th>\n",
              "      <th>facebook_profile</th>\n",
              "      <th>state</th>\n",
              "      <th>zip</th>\n",
              "      <th>job_name</th>\n",
              "      <th>real_state</th>\n",
              "      <th>ok_since</th>\n",
              "      <th>n_bankruptcies</th>\n",
              "      <th>n_defaulted_loans</th>\n",
              "      <th>n_accounts</th>\n",
              "      <th>n_issues</th>\n",
              "      <th>application_time_applied</th>\n",
              "      <th>application_time_in_funnel</th>\n",
              "      <th>email</th>\n",
              "      <th>external_data_provider_credit_checks_last_month</th>\n",
              "      <th>external_data_provider_credit_checks_last_year</th>\n",
              "      <th>external_data_provider_email_seen_before</th>\n",
              "      <th>external_data_provider_first_name</th>\n",
              "      <th>external_data_provider_fraud_score</th>\n",
              "      <th>lat_lon</th>\n",
              "      <th>marketing_channel</th>\n",
              "      <th>reported_income</th>\n",
              "      <th>shipping_state</th>\n",
              "      <th>shipping_zip_code</th>\n",
              "      <th>profile_tags</th>\n",
              "      <th>user_agent</th>\n",
              "    </tr>\n",
              "  </thead>\n",
              "  <tbody>\n",
              "    <tr>\n",
              "      <th>0</th>\n",
              "      <td>False</td>\n",
              "      <td>1Rk8w4Ucd5yR3KcqZzLdow==</td>\n",
              "      <td>IOVu8au3ISbo6+zmfnYwMg==</td>\n",
              "      <td>350.0</td>\n",
              "      <td>101.800832</td>\n",
              "      <td>0.259555</td>\n",
              "      <td>108.427273</td>\n",
              "      <td>0.40</td>\n",
              "      <td>25033.92</td>\n",
              "      <td>36.0</td>\n",
              "      <td>0.0</td>\n",
              "      <td>mLVIVxoGY7TUDJ1FyFoSIZi1SFcaBmO01AydRchaEiGYtU...</td>\n",
              "      <td>65014.12</td>\n",
              "      <td>True</td>\n",
              "      <td>sjJbkqJS7cXalHLBFA+EOQ==</td>\n",
              "      <td>Ernn+uVXCMq/6ARrBCcd+A==</td>\n",
              "      <td>mLVIVxoGY7TUDJ1FyFoSIZi1SFcaBmO01AydRchaEiGYtU...</td>\n",
              "      <td>N5/CE7lSkAfB04hVFFwllw==</td>\n",
              "      <td>NaN</td>\n",
              "      <td>0.0</td>\n",
              "      <td>0.0</td>\n",
              "      <td>18.0</td>\n",
              "      <td>18.0</td>\n",
              "      <td>07:52:34</td>\n",
              "      <td>444</td>\n",
              "      <td>outlook.com</td>\n",
              "      <td>2</td>\n",
              "      <td>0.0</td>\n",
              "      <td>51.0</td>\n",
              "      <td>leidelaura</td>\n",
              "      <td>645</td>\n",
              "      <td>(-29.151545708122246, -51.1386461804385)</td>\n",
              "      <td>Invite-email</td>\n",
              "      <td>57849.0</td>\n",
              "      <td>BR-MT</td>\n",
              "      <td>17528</td>\n",
              "      <td>{'tags': ['n19', 'n8']}</td>\n",
              "      <td>Mozilla/5.0 (Linux; Android 6.0.1; SGP771 Buil...</td>\n",
              "    </tr>\n",
              "    <tr>\n",
              "      <th>1</th>\n",
              "      <td>False</td>\n",
              "      <td>DGCQep2AE5QRkNCshIAlFQ==</td>\n",
              "      <td>SaamrHMo23l/3TwXOWgVzw==</td>\n",
              "      <td>370.0</td>\n",
              "      <td>97.062615</td>\n",
              "      <td>0.942655</td>\n",
              "      <td>92.002546</td>\n",
              "      <td>0.24</td>\n",
              "      <td>NaN</td>\n",
              "      <td>NaN</td>\n",
              "      <td>39726.0</td>\n",
              "      <td>mLVIVxoGY7TUDJ1FyFoSIZi1SFcaBmO01AydRchaEiGYtU...</td>\n",
              "      <td>100018.91</td>\n",
              "      <td>False</td>\n",
              "      <td>xsd3ZdsI3356I3xMxZeiqQ==</td>\n",
              "      <td>rlWIXTBO+VOa34+SpGyhlQ==</td>\n",
              "      <td>mLVIVxoGY7TUDJ1FyFoSIZi1SFcaBmO01AydRchaEiGYtU...</td>\n",
              "      <td>N5/CE7lSkAfB04hVFFwllw==</td>\n",
              "      <td>50.0</td>\n",
              "      <td>0.0</td>\n",
              "      <td>0.0</td>\n",
              "      <td>14.0</td>\n",
              "      <td>14.0</td>\n",
              "      <td>02:34:29</td>\n",
              "      <td>346</td>\n",
              "      <td>gmail.com</td>\n",
              "      <td>1</td>\n",
              "      <td>0.0</td>\n",
              "      <td>17.0</td>\n",
              "      <td>diocezio</td>\n",
              "      <td>243</td>\n",
              "      <td>(-19.687710705798963, -47.94151536525154)</td>\n",
              "      <td>Radio-commercial</td>\n",
              "      <td>4902.0</td>\n",
              "      <td>BR-RS</td>\n",
              "      <td>40933</td>\n",
              "      <td>{'tags': ['n6', 'n7', 'nim']}</td>\n",
              "      <td>Mozilla/5.0 (Linux; Android 5.0.2; SAMSUNG SM-...</td>\n",
              "    </tr>\n",
              "  </tbody>\n",
              "</table>\n",
              "</div>"
            ],
            "text/plain": [
              "  target_default  ...                                         user_agent\n",
              "0          False  ...  Mozilla/5.0 (Linux; Android 6.0.1; SGP771 Buil...\n",
              "1          False  ...  Mozilla/5.0 (Linux; Android 5.0.2; SAMSUNG SM-...\n",
              "\n",
              "[2 rows x 38 columns]"
            ]
          },
          "metadata": {
            "tags": []
          },
          "execution_count": 56
        }
      ]
    },
    {
      "cell_type": "code",
      "metadata": {
        "id": "LKgLSGC97B9I",
        "colab_type": "code",
        "colab": {}
      },
      "source": [
        "#subistituir -999 por NaN\n",
        "df_clear.loc[df_clear.external_data_provider_email_seen_before == -999, 'external_data_provider_email_seen_before'] = np.nan"
      ],
      "execution_count": 57,
      "outputs": []
    },
    {
      "cell_type": "code",
      "metadata": {
        "id": "U47kRmaf2KJ6",
        "colab_type": "code",
        "colab": {
          "base_uri": "https://localhost:8080/",
          "height": 295
        },
        "outputId": "9f36d42f-2238-45c9-e4ef-a7aa772f7162"
      },
      "source": [
        "df_clear.head(2)"
      ],
      "execution_count": 58,
      "outputs": [
        {
          "output_type": "execute_result",
          "data": {
            "text/html": [
              "<div>\n",
              "<style scoped>\n",
              "    .dataframe tbody tr th:only-of-type {\n",
              "        vertical-align: middle;\n",
              "    }\n",
              "\n",
              "    .dataframe tbody tr th {\n",
              "        vertical-align: top;\n",
              "    }\n",
              "\n",
              "    .dataframe thead th {\n",
              "        text-align: right;\n",
              "    }\n",
              "</style>\n",
              "<table border=\"1\" class=\"dataframe\">\n",
              "  <thead>\n",
              "    <tr style=\"text-align: right;\">\n",
              "      <th></th>\n",
              "      <th>target_default</th>\n",
              "      <th>score_1</th>\n",
              "      <th>score_2</th>\n",
              "      <th>score_3</th>\n",
              "      <th>score_4</th>\n",
              "      <th>score_5</th>\n",
              "      <th>score_6</th>\n",
              "      <th>risk_rate</th>\n",
              "      <th>last_amount_borrowed</th>\n",
              "      <th>last_borrowed_in_months</th>\n",
              "      <th>credit_limit</th>\n",
              "      <th>reason</th>\n",
              "      <th>income</th>\n",
              "      <th>facebook_profile</th>\n",
              "      <th>state</th>\n",
              "      <th>zip</th>\n",
              "      <th>job_name</th>\n",
              "      <th>real_state</th>\n",
              "      <th>ok_since</th>\n",
              "      <th>n_bankruptcies</th>\n",
              "      <th>n_defaulted_loans</th>\n",
              "      <th>n_accounts</th>\n",
              "      <th>n_issues</th>\n",
              "      <th>application_time_applied</th>\n",
              "      <th>application_time_in_funnel</th>\n",
              "      <th>email</th>\n",
              "      <th>external_data_provider_credit_checks_last_month</th>\n",
              "      <th>external_data_provider_credit_checks_last_year</th>\n",
              "      <th>external_data_provider_email_seen_before</th>\n",
              "      <th>external_data_provider_first_name</th>\n",
              "      <th>external_data_provider_fraud_score</th>\n",
              "      <th>lat_lon</th>\n",
              "      <th>marketing_channel</th>\n",
              "      <th>reported_income</th>\n",
              "      <th>shipping_state</th>\n",
              "      <th>shipping_zip_code</th>\n",
              "      <th>profile_tags</th>\n",
              "      <th>user_agent</th>\n",
              "    </tr>\n",
              "  </thead>\n",
              "  <tbody>\n",
              "    <tr>\n",
              "      <th>0</th>\n",
              "      <td>False</td>\n",
              "      <td>1Rk8w4Ucd5yR3KcqZzLdow==</td>\n",
              "      <td>IOVu8au3ISbo6+zmfnYwMg==</td>\n",
              "      <td>350.0</td>\n",
              "      <td>101.800832</td>\n",
              "      <td>0.259555</td>\n",
              "      <td>108.427273</td>\n",
              "      <td>0.40</td>\n",
              "      <td>25033.92</td>\n",
              "      <td>36.0</td>\n",
              "      <td>0.0</td>\n",
              "      <td>mLVIVxoGY7TUDJ1FyFoSIZi1SFcaBmO01AydRchaEiGYtU...</td>\n",
              "      <td>65014.12</td>\n",
              "      <td>True</td>\n",
              "      <td>sjJbkqJS7cXalHLBFA+EOQ==</td>\n",
              "      <td>Ernn+uVXCMq/6ARrBCcd+A==</td>\n",
              "      <td>mLVIVxoGY7TUDJ1FyFoSIZi1SFcaBmO01AydRchaEiGYtU...</td>\n",
              "      <td>N5/CE7lSkAfB04hVFFwllw==</td>\n",
              "      <td>NaN</td>\n",
              "      <td>0.0</td>\n",
              "      <td>0.0</td>\n",
              "      <td>18.0</td>\n",
              "      <td>18.0</td>\n",
              "      <td>07:52:34</td>\n",
              "      <td>444</td>\n",
              "      <td>outlook.com</td>\n",
              "      <td>2</td>\n",
              "      <td>0.0</td>\n",
              "      <td>51.0</td>\n",
              "      <td>leidelaura</td>\n",
              "      <td>645</td>\n",
              "      <td>(-29.151545708122246, -51.1386461804385)</td>\n",
              "      <td>Invite-email</td>\n",
              "      <td>57849.0</td>\n",
              "      <td>BR-MT</td>\n",
              "      <td>17528</td>\n",
              "      <td>{'tags': ['n19', 'n8']}</td>\n",
              "      <td>Mozilla/5.0 (Linux; Android 6.0.1; SGP771 Buil...</td>\n",
              "    </tr>\n",
              "    <tr>\n",
              "      <th>1</th>\n",
              "      <td>False</td>\n",
              "      <td>DGCQep2AE5QRkNCshIAlFQ==</td>\n",
              "      <td>SaamrHMo23l/3TwXOWgVzw==</td>\n",
              "      <td>370.0</td>\n",
              "      <td>97.062615</td>\n",
              "      <td>0.942655</td>\n",
              "      <td>92.002546</td>\n",
              "      <td>0.24</td>\n",
              "      <td>NaN</td>\n",
              "      <td>NaN</td>\n",
              "      <td>39726.0</td>\n",
              "      <td>mLVIVxoGY7TUDJ1FyFoSIZi1SFcaBmO01AydRchaEiGYtU...</td>\n",
              "      <td>100018.91</td>\n",
              "      <td>False</td>\n",
              "      <td>xsd3ZdsI3356I3xMxZeiqQ==</td>\n",
              "      <td>rlWIXTBO+VOa34+SpGyhlQ==</td>\n",
              "      <td>mLVIVxoGY7TUDJ1FyFoSIZi1SFcaBmO01AydRchaEiGYtU...</td>\n",
              "      <td>N5/CE7lSkAfB04hVFFwllw==</td>\n",
              "      <td>50.0</td>\n",
              "      <td>0.0</td>\n",
              "      <td>0.0</td>\n",
              "      <td>14.0</td>\n",
              "      <td>14.0</td>\n",
              "      <td>02:34:29</td>\n",
              "      <td>346</td>\n",
              "      <td>gmail.com</td>\n",
              "      <td>1</td>\n",
              "      <td>0.0</td>\n",
              "      <td>17.0</td>\n",
              "      <td>diocezio</td>\n",
              "      <td>243</td>\n",
              "      <td>(-19.687710705798963, -47.94151536525154)</td>\n",
              "      <td>Radio-commercial</td>\n",
              "      <td>4902.0</td>\n",
              "      <td>BR-RS</td>\n",
              "      <td>40933</td>\n",
              "      <td>{'tags': ['n6', 'n7', 'nim']}</td>\n",
              "      <td>Mozilla/5.0 (Linux; Android 5.0.2; SAMSUNG SM-...</td>\n",
              "    </tr>\n",
              "  </tbody>\n",
              "</table>\n",
              "</div>"
            ],
            "text/plain": [
              "  target_default  ...                                         user_agent\n",
              "0          False  ...  Mozilla/5.0 (Linux; Android 6.0.1; SGP771 Buil...\n",
              "1          False  ...  Mozilla/5.0 (Linux; Android 5.0.2; SAMSUNG SM-...\n",
              "\n",
              "[2 rows x 38 columns]"
            ]
          },
          "metadata": {
            "tags": []
          },
          "execution_count": 58
        }
      ]
    },
    {
      "cell_type": "code",
      "metadata": {
        "id": "49BgAyR_7ylO",
        "colab_type": "code",
        "colab": {}
      },
      "source": [
        "#Eliminar colunas sem informação ou que precisam de mais pesquisas\n",
        "drop = ['reason', 'zip', 'job_name', 'external_data_provider_first_name',\n",
        "            'lat_lon', 'shipping_zip_code', 'user_agent', 'profile_tags',\n",
        "            'application_time_applied', 'email', 'marketing_channel',\n",
        "             'shipping_state']\n",
        "\n",
        "df_clear.drop(drop, axis = 1, inplace=True)"
      ],
      "execution_count": 59,
      "outputs": []
    },
    {
      "cell_type": "code",
      "metadata": {
        "id": "Qfgth9GI2MPV",
        "colab_type": "code",
        "colab": {
          "base_uri": "https://localhost:8080/",
          "height": 126
        },
        "outputId": "0af0d529-eb19-4994-8acf-93976298dc74"
      },
      "source": [
        "df_clear.head(2)"
      ],
      "execution_count": 60,
      "outputs": [
        {
          "output_type": "execute_result",
          "data": {
            "text/html": [
              "<div>\n",
              "<style scoped>\n",
              "    .dataframe tbody tr th:only-of-type {\n",
              "        vertical-align: middle;\n",
              "    }\n",
              "\n",
              "    .dataframe tbody tr th {\n",
              "        vertical-align: top;\n",
              "    }\n",
              "\n",
              "    .dataframe thead th {\n",
              "        text-align: right;\n",
              "    }\n",
              "</style>\n",
              "<table border=\"1\" class=\"dataframe\">\n",
              "  <thead>\n",
              "    <tr style=\"text-align: right;\">\n",
              "      <th></th>\n",
              "      <th>target_default</th>\n",
              "      <th>score_1</th>\n",
              "      <th>score_2</th>\n",
              "      <th>score_3</th>\n",
              "      <th>score_4</th>\n",
              "      <th>score_5</th>\n",
              "      <th>score_6</th>\n",
              "      <th>risk_rate</th>\n",
              "      <th>last_amount_borrowed</th>\n",
              "      <th>last_borrowed_in_months</th>\n",
              "      <th>credit_limit</th>\n",
              "      <th>income</th>\n",
              "      <th>facebook_profile</th>\n",
              "      <th>state</th>\n",
              "      <th>real_state</th>\n",
              "      <th>ok_since</th>\n",
              "      <th>n_bankruptcies</th>\n",
              "      <th>n_defaulted_loans</th>\n",
              "      <th>n_accounts</th>\n",
              "      <th>n_issues</th>\n",
              "      <th>application_time_in_funnel</th>\n",
              "      <th>external_data_provider_credit_checks_last_month</th>\n",
              "      <th>external_data_provider_credit_checks_last_year</th>\n",
              "      <th>external_data_provider_email_seen_before</th>\n",
              "      <th>external_data_provider_fraud_score</th>\n",
              "      <th>reported_income</th>\n",
              "    </tr>\n",
              "  </thead>\n",
              "  <tbody>\n",
              "    <tr>\n",
              "      <th>0</th>\n",
              "      <td>False</td>\n",
              "      <td>1Rk8w4Ucd5yR3KcqZzLdow==</td>\n",
              "      <td>IOVu8au3ISbo6+zmfnYwMg==</td>\n",
              "      <td>350.0</td>\n",
              "      <td>101.800832</td>\n",
              "      <td>0.259555</td>\n",
              "      <td>108.427273</td>\n",
              "      <td>0.40</td>\n",
              "      <td>25033.92</td>\n",
              "      <td>36.0</td>\n",
              "      <td>0.0</td>\n",
              "      <td>65014.12</td>\n",
              "      <td>True</td>\n",
              "      <td>sjJbkqJS7cXalHLBFA+EOQ==</td>\n",
              "      <td>N5/CE7lSkAfB04hVFFwllw==</td>\n",
              "      <td>NaN</td>\n",
              "      <td>0.0</td>\n",
              "      <td>0.0</td>\n",
              "      <td>18.0</td>\n",
              "      <td>18.0</td>\n",
              "      <td>444</td>\n",
              "      <td>2</td>\n",
              "      <td>0.0</td>\n",
              "      <td>51.0</td>\n",
              "      <td>645</td>\n",
              "      <td>57849.0</td>\n",
              "    </tr>\n",
              "    <tr>\n",
              "      <th>1</th>\n",
              "      <td>False</td>\n",
              "      <td>DGCQep2AE5QRkNCshIAlFQ==</td>\n",
              "      <td>SaamrHMo23l/3TwXOWgVzw==</td>\n",
              "      <td>370.0</td>\n",
              "      <td>97.062615</td>\n",
              "      <td>0.942655</td>\n",
              "      <td>92.002546</td>\n",
              "      <td>0.24</td>\n",
              "      <td>NaN</td>\n",
              "      <td>NaN</td>\n",
              "      <td>39726.0</td>\n",
              "      <td>100018.91</td>\n",
              "      <td>False</td>\n",
              "      <td>xsd3ZdsI3356I3xMxZeiqQ==</td>\n",
              "      <td>N5/CE7lSkAfB04hVFFwllw==</td>\n",
              "      <td>50.0</td>\n",
              "      <td>0.0</td>\n",
              "      <td>0.0</td>\n",
              "      <td>14.0</td>\n",
              "      <td>14.0</td>\n",
              "      <td>346</td>\n",
              "      <td>1</td>\n",
              "      <td>0.0</td>\n",
              "      <td>17.0</td>\n",
              "      <td>243</td>\n",
              "      <td>4902.0</td>\n",
              "    </tr>\n",
              "  </tbody>\n",
              "</table>\n",
              "</div>"
            ],
            "text/plain": [
              "  target_default  ... reported_income\n",
              "0          False  ...         57849.0\n",
              "1          False  ...          4902.0\n",
              "\n",
              "[2 rows x 26 columns]"
            ]
          },
          "metadata": {
            "tags": []
          },
          "execution_count": 60
        }
      ]
    },
    {
      "cell_type": "code",
      "metadata": {
        "id": "Uahes3JO8PGl",
        "colab_type": "code",
        "colab": {}
      },
      "source": [
        "#Elminar as entradas onde target_default é igual a NaN.\n",
        "df_clear.dropna(subset=[\"target_default\"], inplace = True)"
      ],
      "execution_count": 61,
      "outputs": []
    },
    {
      "cell_type": "markdown",
      "metadata": {
        "id": "5wMfmRE_9H-v",
        "colab_type": "text"
      },
      "source": [
        "Com esse primeiro pre-processamento feito analisando as variáveis, pude então iniciar os pré-processamentos da entradas.\n",
        "\n",
        "Esse *dataset* possui diversos dados ausentes e nulos, no entanto não temos muitas informações sobre os motivos desses problemas. Então, para solucionar isso irei subistituir os valores ausentes (*Nan*) por zero para as variáveis que  não possuem referênciais, como:  `last_amount_borrowed`, `last_borrowed_in_months` e `n_issues`. Já as demais, subistituirei pela mediana quando for númerica e pela a moda quando for categórica."
      ]
    },
    {
      "cell_type": "code",
      "metadata": {
        "id": "CrhvSahkBMIz",
        "colab_type": "code",
        "colab": {}
      },
      "source": [
        "#Identificar categórica e númerica\n",
        "df_num = df_clear.select_dtypes(exclude='object').columns\n",
        "df_cat = df_clear.select_dtypes(include='object').columns"
      ],
      "execution_count": 62,
      "outputs": []
    },
    {
      "cell_type": "code",
      "metadata": {
        "id": "pD1dkTPvBlsK",
        "colab_type": "code",
        "colab": {
          "base_uri": "https://localhost:8080/",
          "height": 248
        },
        "outputId": "6e49a224-0bdc-49ff-f611-62a1ba327c43"
      },
      "source": [
        "print(\"Variáveis númericas:\",df_num)\n",
        "print()\n",
        "print(\"Variáveis categóricas:\",df_cat)"
      ],
      "execution_count": 63,
      "outputs": [
        {
          "output_type": "stream",
          "text": [
            "Variáveis númericas: Index(['score_3', 'score_4', 'score_5', 'score_6', 'risk_rate',\n",
            "       'last_amount_borrowed', 'last_borrowed_in_months', 'credit_limit',\n",
            "       'income', 'ok_since', 'n_bankruptcies', 'n_defaulted_loans',\n",
            "       'n_accounts', 'n_issues', 'application_time_in_funnel',\n",
            "       'external_data_provider_credit_checks_last_month',\n",
            "       'external_data_provider_credit_checks_last_year',\n",
            "       'external_data_provider_email_seen_before',\n",
            "       'external_data_provider_fraud_score', 'reported_income'],\n",
            "      dtype='object')\n",
            "\n",
            "Variáveis categóricas: Index(['target_default', 'score_1', 'score_2', 'facebook_profile', 'state',\n",
            "       'real_state'],\n",
            "      dtype='object')\n"
          ],
          "name": "stdout"
        }
      ]
    },
    {
      "cell_type": "code",
      "metadata": {
        "id": "-LbWrcY9CCMj",
        "colab_type": "code",
        "colab": {}
      },
      "source": [
        "#Subistituir os valores ausentes por zero\n",
        "df_clear.last_amount_borrowed.fillna(value = 0, inplace =True)\n",
        "df_clear.last_borrowed_in_months.fillna(value = 0, inplace =True)\n",
        "df_clear.n_issues.fillna(value = 0, inplace =True)"
      ],
      "execution_count": 64,
      "outputs": []
    },
    {
      "cell_type": "code",
      "metadata": {
        "id": "UbosU5NFDBmX",
        "colab_type": "code",
        "colab": {}
      },
      "source": [
        "#Variável númerica\n",
        "si =  SimpleImputer(missing_values=np.nan, strategy=\"median\")\n",
        "si = si.fit(df_clear.loc[:, df_num])\n",
        "df_clear.loc[:, df_num] = si.transform(df_clear.loc[:, df_num])"
      ],
      "execution_count": 65,
      "outputs": []
    },
    {
      "cell_type": "code",
      "metadata": {
        "id": "AFEmxvc8D--I",
        "colab_type": "code",
        "colab": {}
      },
      "source": [
        "#Variáveis categóricas\n",
        "si = SimpleImputer(missing_values=np.nan, strategy=\"most_frequent\")\n",
        "si = si.fit(df_clear.loc[:, df_cat])\n",
        "df_clear.loc[:, df_cat] = si.transform(df_clear.loc[:, df_cat] )"
      ],
      "execution_count": 66,
      "outputs": []
    },
    {
      "cell_type": "markdown",
      "metadata": {
        "id": "SutDgL-dEg64",
        "colab_type": "text"
      },
      "source": [
        "Com todos pré-processamento feitos, pode ver então se existe algum dados ausento, constando que não, assim como você pode ver abaixo:"
      ]
    },
    {
      "cell_type": "code",
      "metadata": {
        "id": "kKZSD_UjD5h4",
        "colab_type": "code",
        "colab": {
          "base_uri": "https://localhost:8080/",
          "height": 497
        },
        "outputId": "98810305-af3b-4d0e-994c-08047109dd9a"
      },
      "source": [
        "df_clear.isnull().sum()"
      ],
      "execution_count": 67,
      "outputs": [
        {
          "output_type": "execute_result",
          "data": {
            "text/plain": [
              "target_default                                     0\n",
              "score_1                                            0\n",
              "score_2                                            0\n",
              "score_3                                            0\n",
              "score_4                                            0\n",
              "score_5                                            0\n",
              "score_6                                            0\n",
              "risk_rate                                          0\n",
              "last_amount_borrowed                               0\n",
              "last_borrowed_in_months                            0\n",
              "credit_limit                                       0\n",
              "income                                             0\n",
              "facebook_profile                                   0\n",
              "state                                              0\n",
              "real_state                                         0\n",
              "ok_since                                           0\n",
              "n_bankruptcies                                     0\n",
              "n_defaulted_loans                                  0\n",
              "n_accounts                                         0\n",
              "n_issues                                           0\n",
              "application_time_in_funnel                         0\n",
              "external_data_provider_credit_checks_last_month    0\n",
              "external_data_provider_credit_checks_last_year     0\n",
              "external_data_provider_email_seen_before           0\n",
              "external_data_provider_fraud_score                 0\n",
              "reported_income                                    0\n",
              "dtype: int64"
            ]
          },
          "metadata": {
            "tags": []
          },
          "execution_count": 67
        }
      ]
    },
    {
      "cell_type": "code",
      "metadata": {
        "id": "KW_KSC2N29H2",
        "colab_type": "code",
        "colab": {
          "base_uri": "https://localhost:8080/",
          "height": 35
        },
        "outputId": "53ecb84d-9ad9-4f3d-9fae-f9e14112d7ea"
      },
      "source": [
        "print(\"Número de entradas:\", df_clear.shape[0],\" e Número de camadas:\", df_clear.shape[1])"
      ],
      "execution_count": 68,
      "outputs": [
        {
          "output_type": "stream",
          "text": [
            "Número de entradas: 41741  e Número de camadas: 26\n"
          ],
          "name": "stdout"
        }
      ]
    },
    {
      "cell_type": "markdown",
      "metadata": {
        "id": "wZ_MToNSBLqH",
        "colab_type": "text"
      },
      "source": [
        "Agora para melhorar o desempenho do modelo, irei normalizar as variáveis numéricas usando StandardScaler e logo em seguida usar o algoritimo LabelEcoding para separar as categorias em forma de novas camadas."
      ]
    },
    {
      "cell_type": "code",
      "metadata": {
        "id": "5g5RqZAETbLY",
        "colab_type": "code",
        "colab": {}
      },
      "source": [
        "#copiar dataset\n",
        "df_model =  df_clear.copy()"
      ],
      "execution_count": 107,
      "outputs": []
    },
    {
      "cell_type": "code",
      "metadata": {
        "id": "oKeJCeGkKAwT",
        "colab_type": "code",
        "colab": {}
      },
      "source": [
        "y = df_model.target_default"
      ],
      "execution_count": 108,
      "outputs": []
    },
    {
      "cell_type": "code",
      "metadata": {
        "id": "_RerbmEMUM5w",
        "colab_type": "code",
        "colab": {}
      },
      "source": [
        "#Identificar colunas númericas\n",
        "df_num = df_model.drop('target_default', axis=1).select_dtypes(exclude= 'object').columns\n",
        "\n",
        "#identificar colunas categoricas\n",
        "df_cat = df_model.select_dtypes(include='object').columns"
      ],
      "execution_count": 109,
      "outputs": []
    },
    {
      "cell_type": "code",
      "metadata": {
        "id": "qzqUVLGgTQpU",
        "colab_type": "code",
        "colab": {}
      },
      "source": [
        "#Normalizar as colunas numericas\n",
        "se = StandardScaler()\n",
        "df_model[df_num] = se.fit_transform(df_model[df_num].values)"
      ],
      "execution_count": 110,
      "outputs": []
    },
    {
      "cell_type": "code",
      "metadata": {
        "id": "gDq27C0IOzOb",
        "colab_type": "code",
        "colab": {}
      },
      "source": [
        "#Ecoding as colunas categoricas\n",
        "le = LabelEncoder()\n",
        "\n",
        "for col in df_cat:\n",
        "  df_model[col + '_encoded'] = le.fit_transform(df_model[col])\n",
        "  df_model.drop(col, axis=1, inplace=True)"
      ],
      "execution_count": 111,
      "outputs": []
    },
    {
      "cell_type": "code",
      "metadata": {
        "id": "KF_tVfXU3Q5w",
        "colab_type": "code",
        "colab": {
          "base_uri": "https://localhost:8080/",
          "height": 126
        },
        "outputId": "71725b05-6afd-425a-8c51-884ef940b1f9"
      },
      "source": [
        "df_model.head(2)"
      ],
      "execution_count": 112,
      "outputs": [
        {
          "output_type": "execute_result",
          "data": {
            "text/html": [
              "<div>\n",
              "<style scoped>\n",
              "    .dataframe tbody tr th:only-of-type {\n",
              "        vertical-align: middle;\n",
              "    }\n",
              "\n",
              "    .dataframe tbody tr th {\n",
              "        vertical-align: top;\n",
              "    }\n",
              "\n",
              "    .dataframe thead th {\n",
              "        text-align: right;\n",
              "    }\n",
              "</style>\n",
              "<table border=\"1\" class=\"dataframe\">\n",
              "  <thead>\n",
              "    <tr style=\"text-align: right;\">\n",
              "      <th></th>\n",
              "      <th>target_default</th>\n",
              "      <th>score_3</th>\n",
              "      <th>score_4</th>\n",
              "      <th>score_5</th>\n",
              "      <th>score_6</th>\n",
              "      <th>risk_rate</th>\n",
              "      <th>last_amount_borrowed</th>\n",
              "      <th>last_borrowed_in_months</th>\n",
              "      <th>credit_limit</th>\n",
              "      <th>income</th>\n",
              "      <th>facebook_profile</th>\n",
              "      <th>ok_since</th>\n",
              "      <th>n_bankruptcies</th>\n",
              "      <th>n_defaulted_loans</th>\n",
              "      <th>n_accounts</th>\n",
              "      <th>n_issues</th>\n",
              "      <th>application_time_in_funnel</th>\n",
              "      <th>external_data_provider_credit_checks_last_month</th>\n",
              "      <th>external_data_provider_credit_checks_last_year</th>\n",
              "      <th>external_data_provider_email_seen_before</th>\n",
              "      <th>external_data_provider_fraud_score</th>\n",
              "      <th>reported_income</th>\n",
              "      <th>score_1_encoded</th>\n",
              "      <th>score_2_encoded</th>\n",
              "      <th>state_encoded</th>\n",
              "      <th>real_state_encoded</th>\n",
              "    </tr>\n",
              "  </thead>\n",
              "  <tbody>\n",
              "    <tr>\n",
              "      <th>0</th>\n",
              "      <td>False</td>\n",
              "      <td>0.032154</td>\n",
              "      <td>0.563484</td>\n",
              "      <td>-0.832617</td>\n",
              "      <td>0.848870</td>\n",
              "      <td>1.039282</td>\n",
              "      <td>2.627224</td>\n",
              "      <td>1.11413</td>\n",
              "      <td>-1.031599</td>\n",
              "      <td>-0.116075</td>\n",
              "      <td>1.412589</td>\n",
              "      <td>-0.094349</td>\n",
              "      <td>-0.278592</td>\n",
              "      <td>-0.057693</td>\n",
              "      <td>1.604337</td>\n",
              "      <td>1.577495</td>\n",
              "      <td>1.341208</td>\n",
              "      <td>0.444809</td>\n",
              "      <td>-1.427247</td>\n",
              "      <td>1.322812</td>\n",
              "      <td>0.501783</td>\n",
              "      <td>-0.040691</td>\n",
              "      <td>0</td>\n",
              "      <td>10</td>\n",
              "      <td>44</td>\n",
              "      <td>1</td>\n",
              "    </tr>\n",
              "    <tr>\n",
              "      <th>1</th>\n",
              "      <td>False</td>\n",
              "      <td>0.213805</td>\n",
              "      <td>-0.924750</td>\n",
              "      <td>1.538588</td>\n",
              "      <td>-0.789902</td>\n",
              "      <td>-0.536149</td>\n",
              "      <td>-0.577743</td>\n",
              "      <td>-0.68792</td>\n",
              "      <td>0.283752</td>\n",
              "      <td>0.553756</td>\n",
              "      <td>-0.707920</td>\n",
              "      <td>1.191063</td>\n",
              "      <td>-0.278592</td>\n",
              "      <td>-0.057693</td>\n",
              "      <td>0.732520</td>\n",
              "      <td>0.937596</td>\n",
              "      <td>0.671463</td>\n",
              "      <td>-0.452701</td>\n",
              "      <td>-1.427247</td>\n",
              "      <td>-0.635622</td>\n",
              "      <td>-0.894101</td>\n",
              "      <td>-0.040691</td>\n",
              "      <td>3</td>\n",
              "      <td>16</td>\n",
              "      <td>47</td>\n",
              "      <td>1</td>\n",
              "    </tr>\n",
              "  </tbody>\n",
              "</table>\n",
              "</div>"
            ],
            "text/plain": [
              "   target_default   score_3  ...  state_encoded  real_state_encoded\n",
              "0           False  0.032154  ...             44                   1\n",
              "1           False  0.213805  ...             47                   1\n",
              "\n",
              "[2 rows x 26 columns]"
            ]
          },
          "metadata": {
            "tags": []
          },
          "execution_count": 112
        }
      ]
    },
    {
      "cell_type": "code",
      "metadata": {
        "id": "EJiGzHbd3pi7",
        "colab_type": "code",
        "colab": {
          "base_uri": "https://localhost:8080/",
          "height": 35
        },
        "outputId": "1e37f482-4496-4e36-9700-b61a94ca6e71"
      },
      "source": [
        "print(\"Número de entradas:\", df_model.shape[0],\" e Número de camadas:\", df_model.shape[1])"
      ],
      "execution_count": 113,
      "outputs": [
        {
          "output_type": "stream",
          "text": [
            "Número de entradas: 41741  e Número de camadas: 26\n"
          ],
          "name": "stdout"
        }
      ]
    },
    {
      "cell_type": "code",
      "metadata": {
        "id": "cRas3ERT3v71",
        "colab_type": "code",
        "colab": {
          "base_uri": "https://localhost:8080/",
          "height": 214
        },
        "outputId": "87a521c9-14bc-4afb-ffa8-189032e4b572"
      },
      "source": [
        "df_model.head()"
      ],
      "execution_count": 114,
      "outputs": [
        {
          "output_type": "execute_result",
          "data": {
            "text/html": [
              "<div>\n",
              "<style scoped>\n",
              "    .dataframe tbody tr th:only-of-type {\n",
              "        vertical-align: middle;\n",
              "    }\n",
              "\n",
              "    .dataframe tbody tr th {\n",
              "        vertical-align: top;\n",
              "    }\n",
              "\n",
              "    .dataframe thead th {\n",
              "        text-align: right;\n",
              "    }\n",
              "</style>\n",
              "<table border=\"1\" class=\"dataframe\">\n",
              "  <thead>\n",
              "    <tr style=\"text-align: right;\">\n",
              "      <th></th>\n",
              "      <th>target_default</th>\n",
              "      <th>score_3</th>\n",
              "      <th>score_4</th>\n",
              "      <th>score_5</th>\n",
              "      <th>score_6</th>\n",
              "      <th>risk_rate</th>\n",
              "      <th>last_amount_borrowed</th>\n",
              "      <th>last_borrowed_in_months</th>\n",
              "      <th>credit_limit</th>\n",
              "      <th>income</th>\n",
              "      <th>facebook_profile</th>\n",
              "      <th>ok_since</th>\n",
              "      <th>n_bankruptcies</th>\n",
              "      <th>n_defaulted_loans</th>\n",
              "      <th>n_accounts</th>\n",
              "      <th>n_issues</th>\n",
              "      <th>application_time_in_funnel</th>\n",
              "      <th>external_data_provider_credit_checks_last_month</th>\n",
              "      <th>external_data_provider_credit_checks_last_year</th>\n",
              "      <th>external_data_provider_email_seen_before</th>\n",
              "      <th>external_data_provider_fraud_score</th>\n",
              "      <th>reported_income</th>\n",
              "      <th>score_1_encoded</th>\n",
              "      <th>score_2_encoded</th>\n",
              "      <th>state_encoded</th>\n",
              "      <th>real_state_encoded</th>\n",
              "    </tr>\n",
              "  </thead>\n",
              "  <tbody>\n",
              "    <tr>\n",
              "      <th>0</th>\n",
              "      <td>False</td>\n",
              "      <td>0.032154</td>\n",
              "      <td>0.563484</td>\n",
              "      <td>-0.832617</td>\n",
              "      <td>0.848870</td>\n",
              "      <td>1.039282</td>\n",
              "      <td>2.627224</td>\n",
              "      <td>1.11413</td>\n",
              "      <td>-1.031599</td>\n",
              "      <td>-0.116075</td>\n",
              "      <td>1.412589</td>\n",
              "      <td>-0.094349</td>\n",
              "      <td>-0.278592</td>\n",
              "      <td>-0.057693</td>\n",
              "      <td>1.604337</td>\n",
              "      <td>1.577495</td>\n",
              "      <td>1.341208</td>\n",
              "      <td>0.444809</td>\n",
              "      <td>-1.427247</td>\n",
              "      <td>1.322812</td>\n",
              "      <td>0.501783</td>\n",
              "      <td>-0.040691</td>\n",
              "      <td>0</td>\n",
              "      <td>10</td>\n",
              "      <td>44</td>\n",
              "      <td>1</td>\n",
              "    </tr>\n",
              "    <tr>\n",
              "      <th>1</th>\n",
              "      <td>False</td>\n",
              "      <td>0.213805</td>\n",
              "      <td>-0.924750</td>\n",
              "      <td>1.538588</td>\n",
              "      <td>-0.789902</td>\n",
              "      <td>-0.536149</td>\n",
              "      <td>-0.577743</td>\n",
              "      <td>-0.68792</td>\n",
              "      <td>0.283752</td>\n",
              "      <td>0.553756</td>\n",
              "      <td>-0.707920</td>\n",
              "      <td>1.191063</td>\n",
              "      <td>-0.278592</td>\n",
              "      <td>-0.057693</td>\n",
              "      <td>0.732520</td>\n",
              "      <td>0.937596</td>\n",
              "      <td>0.671463</td>\n",
              "      <td>-0.452701</td>\n",
              "      <td>-1.427247</td>\n",
              "      <td>-0.635622</td>\n",
              "      <td>-0.894101</td>\n",
              "      <td>-0.040691</td>\n",
              "      <td>3</td>\n",
              "      <td>16</td>\n",
              "      <td>47</td>\n",
              "      <td>1</td>\n",
              "    </tr>\n",
              "    <tr>\n",
              "      <th>2</th>\n",
              "      <td>True</td>\n",
              "      <td>0.122980</td>\n",
              "      <td>0.006361</td>\n",
              "      <td>-0.512003</td>\n",
              "      <td>1.294382</td>\n",
              "      <td>-0.043827</td>\n",
              "      <td>0.345051</td>\n",
              "      <td>1.11413</td>\n",
              "      <td>-0.196782</td>\n",
              "      <td>-0.115893</td>\n",
              "      <td>-0.707920</td>\n",
              "      <td>-0.094349</td>\n",
              "      <td>-0.278592</td>\n",
              "      <td>-0.057693</td>\n",
              "      <td>-0.139296</td>\n",
              "      <td>-1.302049</td>\n",
              "      <td>-1.652141</td>\n",
              "      <td>0.444809</td>\n",
              "      <td>0.700650</td>\n",
              "      <td>-1.096430</td>\n",
              "      <td>-1.512178</td>\n",
              "      <td>-0.040691</td>\n",
              "      <td>3</td>\n",
              "      <td>9</td>\n",
              "      <td>32</td>\n",
              "      <td>3</td>\n",
              "    </tr>\n",
              "    <tr>\n",
              "      <th>3</th>\n",
              "      <td>False</td>\n",
              "      <td>1.485366</td>\n",
              "      <td>0.500243</td>\n",
              "      <td>1.694857</td>\n",
              "      <td>-0.500560</td>\n",
              "      <td>0.251567</td>\n",
              "      <td>-0.577743</td>\n",
              "      <td>-0.68792</td>\n",
              "      <td>0.775941</td>\n",
              "      <td>-0.043057</td>\n",
              "      <td>-0.707920</td>\n",
              "      <td>-0.094349</td>\n",
              "      <td>3.365634</td>\n",
              "      <td>-0.057693</td>\n",
              "      <td>1.822291</td>\n",
              "      <td>1.737469</td>\n",
              "      <td>1.081511</td>\n",
              "      <td>1.342319</td>\n",
              "      <td>0.700650</td>\n",
              "      <td>0.573999</td>\n",
              "      <td>1.092082</td>\n",
              "      <td>-0.040691</td>\n",
              "      <td>0</td>\n",
              "      <td>21</td>\n",
              "      <td>23</td>\n",
              "      <td>3</td>\n",
              "    </tr>\n",
              "    <tr>\n",
              "      <th>4</th>\n",
              "      <td>False</td>\n",
              "      <td>1.394540</td>\n",
              "      <td>-0.481355</td>\n",
              "      <td>0.114978</td>\n",
              "      <td>1.816579</td>\n",
              "      <td>-1.126935</td>\n",
              "      <td>-0.577743</td>\n",
              "      <td>-0.68792</td>\n",
              "      <td>-0.196782</td>\n",
              "      <td>-0.211806</td>\n",
              "      <td>1.412589</td>\n",
              "      <td>-0.094349</td>\n",
              "      <td>-0.278592</td>\n",
              "      <td>-0.057693</td>\n",
              "      <td>0.078658</td>\n",
              "      <td>-1.302049</td>\n",
              "      <td>-0.052955</td>\n",
              "      <td>0.444809</td>\n",
              "      <td>0.700650</td>\n",
              "      <td>1.034807</td>\n",
              "      <td>-0.626730</td>\n",
              "      <td>-0.040691</td>\n",
              "      <td>2</td>\n",
              "      <td>1</td>\n",
              "      <td>47</td>\n",
              "      <td>3</td>\n",
              "    </tr>\n",
              "  </tbody>\n",
              "</table>\n",
              "</div>"
            ],
            "text/plain": [
              "   target_default   score_3  ...  state_encoded  real_state_encoded\n",
              "0           False  0.032154  ...             44                   1\n",
              "1           False  0.213805  ...             47                   1\n",
              "2            True  0.122980  ...             32                   3\n",
              "3           False  1.485366  ...             23                   3\n",
              "4           False  1.394540  ...             47                   3\n",
              "\n",
              "[5 rows x 26 columns]"
            ]
          },
          "metadata": {
            "tags": []
          },
          "execution_count": 114
        }
      ]
    },
    {
      "cell_type": "markdown",
      "metadata": {
        "id": "gaeQMbmZXuRd",
        "colab_type": "text"
      },
      "source": [
        "Com todos os procedimentos feitos, pude fazer o calculo da correlação das variáveis, identificando uma correlação muito forte e negativa, como está apresentado abaixo:"
      ]
    },
    {
      "cell_type": "code",
      "metadata": {
        "id": "XhjT2uXO4Nmf",
        "colab_type": "code",
        "colab": {
          "base_uri": "https://localhost:8080/",
          "height": 302
        },
        "outputId": "b7fcc09f-71f9-4969-cdbb-75877bb64903"
      },
      "source": [
        "df_model.describe()"
      ],
      "execution_count": 77,
      "outputs": [
        {
          "output_type": "execute_result",
          "data": {
            "text/html": [
              "<div>\n",
              "<style scoped>\n",
              "    .dataframe tbody tr th:only-of-type {\n",
              "        vertical-align: middle;\n",
              "    }\n",
              "\n",
              "    .dataframe tbody tr th {\n",
              "        vertical-align: top;\n",
              "    }\n",
              "\n",
              "    .dataframe thead th {\n",
              "        text-align: right;\n",
              "    }\n",
              "</style>\n",
              "<table border=\"1\" class=\"dataframe\">\n",
              "  <thead>\n",
              "    <tr style=\"text-align: right;\">\n",
              "      <th></th>\n",
              "      <th>score_3</th>\n",
              "      <th>score_4</th>\n",
              "      <th>score_5</th>\n",
              "      <th>score_6</th>\n",
              "      <th>risk_rate</th>\n",
              "      <th>last_amount_borrowed</th>\n",
              "      <th>last_borrowed_in_months</th>\n",
              "      <th>credit_limit</th>\n",
              "      <th>income</th>\n",
              "      <th>facebook_profile</th>\n",
              "      <th>ok_since</th>\n",
              "      <th>n_bankruptcies</th>\n",
              "      <th>n_defaulted_loans</th>\n",
              "      <th>n_accounts</th>\n",
              "      <th>n_issues</th>\n",
              "      <th>application_time_in_funnel</th>\n",
              "      <th>external_data_provider_credit_checks_last_month</th>\n",
              "      <th>external_data_provider_credit_checks_last_year</th>\n",
              "      <th>external_data_provider_email_seen_before</th>\n",
              "      <th>external_data_provider_fraud_score</th>\n",
              "      <th>reported_income</th>\n",
              "      <th>score_1_encoded</th>\n",
              "      <th>score_2_encoded</th>\n",
              "      <th>state_encoded</th>\n",
              "      <th>real_state_encoded</th>\n",
              "    </tr>\n",
              "  </thead>\n",
              "  <tbody>\n",
              "    <tr>\n",
              "      <th>count</th>\n",
              "      <td>4.174100e+04</td>\n",
              "      <td>4.174100e+04</td>\n",
              "      <td>4.174100e+04</td>\n",
              "      <td>4.174100e+04</td>\n",
              "      <td>4.174100e+04</td>\n",
              "      <td>4.174100e+04</td>\n",
              "      <td>4.174100e+04</td>\n",
              "      <td>4.174100e+04</td>\n",
              "      <td>4.174100e+04</td>\n",
              "      <td>4.174100e+04</td>\n",
              "      <td>4.174100e+04</td>\n",
              "      <td>4.174100e+04</td>\n",
              "      <td>4.174100e+04</td>\n",
              "      <td>4.174100e+04</td>\n",
              "      <td>4.174100e+04</td>\n",
              "      <td>4.174100e+04</td>\n",
              "      <td>4.174100e+04</td>\n",
              "      <td>4.174100e+04</td>\n",
              "      <td>4.174100e+04</td>\n",
              "      <td>4.174100e+04</td>\n",
              "      <td>4.174100e+04</td>\n",
              "      <td>41741.000000</td>\n",
              "      <td>41741.000000</td>\n",
              "      <td>41741.000000</td>\n",
              "      <td>41741.000000</td>\n",
              "    </tr>\n",
              "    <tr>\n",
              "      <th>mean</th>\n",
              "      <td>-1.998620e-16</td>\n",
              "      <td>-1.366934e-15</td>\n",
              "      <td>-1.765196e-16</td>\n",
              "      <td>-6.615563e-17</td>\n",
              "      <td>1.964721e-17</td>\n",
              "      <td>1.441897e-16</td>\n",
              "      <td>1.650884e-15</td>\n",
              "      <td>-3.358238e-16</td>\n",
              "      <td>-2.234330e-16</td>\n",
              "      <td>1.716097e-16</td>\n",
              "      <td>-8.413482e-17</td>\n",
              "      <td>-5.810471e-16</td>\n",
              "      <td>2.039329e-15</td>\n",
              "      <td>2.285491e-16</td>\n",
              "      <td>-4.520819e-16</td>\n",
              "      <td>-6.512762e-17</td>\n",
              "      <td>-9.645902e-16</td>\n",
              "      <td>1.070161e-15</td>\n",
              "      <td>-1.160679e-16</td>\n",
              "      <td>-5.842229e-17</td>\n",
              "      <td>-6.662774e-19</td>\n",
              "      <td>1.912149</td>\n",
              "      <td>17.186483</td>\n",
              "      <td>27.814331</td>\n",
              "      <td>2.092499</td>\n",
              "    </tr>\n",
              "    <tr>\n",
              "      <th>std</th>\n",
              "      <td>1.000012e+00</td>\n",
              "      <td>1.000012e+00</td>\n",
              "      <td>1.000012e+00</td>\n",
              "      <td>1.000012e+00</td>\n",
              "      <td>1.000012e+00</td>\n",
              "      <td>1.000012e+00</td>\n",
              "      <td>1.000012e+00</td>\n",
              "      <td>1.000012e+00</td>\n",
              "      <td>1.000012e+00</td>\n",
              "      <td>1.000012e+00</td>\n",
              "      <td>1.000012e+00</td>\n",
              "      <td>1.000012e+00</td>\n",
              "      <td>1.000012e+00</td>\n",
              "      <td>1.000012e+00</td>\n",
              "      <td>1.000012e+00</td>\n",
              "      <td>1.000012e+00</td>\n",
              "      <td>1.000012e+00</td>\n",
              "      <td>1.000012e+00</td>\n",
              "      <td>1.000012e+00</td>\n",
              "      <td>1.000012e+00</td>\n",
              "      <td>1.000012e+00</td>\n",
              "      <td>1.485103</td>\n",
              "      <td>9.112314</td>\n",
              "      <td>16.201360</td>\n",
              "      <td>1.114136</td>\n",
              "    </tr>\n",
              "    <tr>\n",
              "      <th>min</th>\n",
              "      <td>-3.146747e+00</td>\n",
              "      <td>-4.339255e+00</td>\n",
              "      <td>-1.733471e+00</td>\n",
              "      <td>-3.916791e+00</td>\n",
              "      <td>-2.899294e+00</td>\n",
              "      <td>-5.777428e-01</td>\n",
              "      <td>-6.879198e-01</td>\n",
              "      <td>-1.031599e+00</td>\n",
              "      <td>-1.267891e+00</td>\n",
              "      <td>-7.079201e-01</td>\n",
              "      <td>-2.379525e+00</td>\n",
              "      <td>-2.785925e-01</td>\n",
              "      <td>-5.769276e-02</td>\n",
              "      <td>-2.318838e+00</td>\n",
              "      <td>-1.302049e+00</td>\n",
              "      <td>-1.693146e+00</td>\n",
              "      <td>-1.350210e+00</td>\n",
              "      <td>-1.427247e+00</td>\n",
              "      <td>-1.672439e+00</td>\n",
              "      <td>-1.737881e+00</td>\n",
              "      <td>-4.069141e-02</td>\n",
              "      <td>0.000000</td>\n",
              "      <td>0.000000</td>\n",
              "      <td>0.000000</td>\n",
              "      <td>0.000000</td>\n",
              "    </tr>\n",
              "    <tr>\n",
              "      <th>25%</th>\n",
              "      <td>-6.944521e-01</td>\n",
              "      <td>-6.734986e-01</td>\n",
              "      <td>-8.602449e-01</td>\n",
              "      <td>-6.721703e-01</td>\n",
              "      <td>-7.330775e-01</td>\n",
              "      <td>-5.777428e-01</td>\n",
              "      <td>-6.879198e-01</td>\n",
              "      <td>-4.577595e-01</td>\n",
              "      <td>-5.178143e-01</td>\n",
              "      <td>-7.079201e-01</td>\n",
              "      <td>-9.434883e-02</td>\n",
              "      <td>-2.785925e-01</td>\n",
              "      <td>-5.769276e-02</td>\n",
              "      <td>-7.931587e-01</td>\n",
              "      <td>-1.302049e+00</td>\n",
              "      <td>-8.730501e-01</td>\n",
              "      <td>-4.527005e-01</td>\n",
              "      <td>-1.427247e+00</td>\n",
              "      <td>-8.660255e-01</td>\n",
              "      <td>-8.628496e-01</td>\n",
              "      <td>-4.069141e-02</td>\n",
              "      <td>1.000000</td>\n",
              "      <td>10.000000</td>\n",
              "      <td>12.000000</td>\n",
              "      <td>1.000000</td>\n",
              "    </tr>\n",
              "    <tr>\n",
              "      <th>50%</th>\n",
              "      <td>-5.867193e-02</td>\n",
              "      <td>3.496056e-03</td>\n",
              "      <td>2.630495e-03</td>\n",
              "      <td>5.824409e-03</td>\n",
              "      <td>-4.382670e-02</td>\n",
              "      <td>-5.777428e-01</td>\n",
              "      <td>-6.879198e-01</td>\n",
              "      <td>-1.967819e-01</td>\n",
              "      <td>-2.111788e-01</td>\n",
              "      <td>-7.079201e-01</td>\n",
              "      <td>-9.434883e-02</td>\n",
              "      <td>-2.785925e-01</td>\n",
              "      <td>-5.769276e-02</td>\n",
              "      <td>-1.392962e-01</td>\n",
              "      <td>1.377228e-01</td>\n",
              "      <td>1.718479e-03</td>\n",
              "      <td>4.448094e-01</td>\n",
              "      <td>7.006495e-01</td>\n",
              "      <td>-2.010605e-03</td>\n",
              "      <td>5.237095e-03</td>\n",
              "      <td>-4.069141e-02</td>\n",
              "      <td>2.000000</td>\n",
              "      <td>16.000000</td>\n",
              "      <td>31.000000</td>\n",
              "      <td>3.000000</td>\n",
              "    </tr>\n",
              "    <tr>\n",
              "      <th>75%</th>\n",
              "      <td>6.679340e-01</td>\n",
              "      <td>6.709880e-01</td>\n",
              "      <td>8.616107e-01</td>\n",
              "      <td>6.696470e-01</td>\n",
              "      <td>6.454241e-01</td>\n",
              "      <td>3.838015e-01</td>\n",
              "      <td>1.114130e+00</td>\n",
              "      <td>1.271720e-01</td>\n",
              "      <td>2.669920e-01</td>\n",
              "      <td>1.412589e+00</td>\n",
              "      <td>-9.434883e-02</td>\n",
              "      <td>-2.785925e-01</td>\n",
              "      <td>-5.769276e-02</td>\n",
              "      <td>5.145663e-01</td>\n",
              "      <td>6.176468e-01</td>\n",
              "      <td>8.696529e-01</td>\n",
              "      <td>4.448094e-01</td>\n",
              "      <td>7.006495e-01</td>\n",
              "      <td>8.620043e-01</td>\n",
              "      <td>8.559620e-01</td>\n",
              "      <td>-4.069141e-02</td>\n",
              "      <td>3.000000</td>\n",
              "      <td>26.000000</td>\n",
              "      <td>44.000000</td>\n",
              "      <td>3.000000</td>\n",
              "    </tr>\n",
              "    <tr>\n",
              "      <th>max</th>\n",
              "      <td>5.845001e+00</td>\n",
              "      <td>4.388306e+00</td>\n",
              "      <td>1.737555e+00</td>\n",
              "      <td>4.217775e+00</td>\n",
              "      <td>5.962502e+00</td>\n",
              "      <td>3.910761e+00</td>\n",
              "      <td>2.315496e+00</td>\n",
              "      <td>1.381085e+01</td>\n",
              "      <td>9.431740e+01</td>\n",
              "      <td>1.412589e+00</td>\n",
              "      <td>7.689531e+00</td>\n",
              "      <td>1.794254e+01</td>\n",
              "      <td>6.232970e+01</td>\n",
              "      <td>8.360916e+00</td>\n",
              "      <td>6.536709e+00</td>\n",
              "      <td>1.723919e+00</td>\n",
              "      <td>1.342319e+00</td>\n",
              "      <td>7.006495e-01</td>\n",
              "      <td>1.783620e+00</td>\n",
              "      <td>1.734466e+00</td>\n",
              "      <td>2.457523e+01</td>\n",
              "      <td>6.000000</td>\n",
              "      <td>34.000000</td>\n",
              "      <td>49.000000</td>\n",
              "      <td>4.000000</td>\n",
              "    </tr>\n",
              "  </tbody>\n",
              "</table>\n",
              "</div>"
            ],
            "text/plain": [
              "            score_3       score_4  ...  state_encoded  real_state_encoded\n",
              "count  4.174100e+04  4.174100e+04  ...   41741.000000        41741.000000\n",
              "mean  -1.998620e-16 -1.366934e-15  ...      27.814331            2.092499\n",
              "std    1.000012e+00  1.000012e+00  ...      16.201360            1.114136\n",
              "min   -3.146747e+00 -4.339255e+00  ...       0.000000            0.000000\n",
              "25%   -6.944521e-01 -6.734986e-01  ...      12.000000            1.000000\n",
              "50%   -5.867193e-02  3.496056e-03  ...      31.000000            3.000000\n",
              "75%    6.679340e-01  6.709880e-01  ...      44.000000            3.000000\n",
              "max    5.845001e+00  4.388306e+00  ...      49.000000            4.000000\n",
              "\n",
              "[8 rows x 25 columns]"
            ]
          },
          "metadata": {
            "tags": []
          },
          "execution_count": 77
        }
      ]
    },
    {
      "cell_type": "code",
      "metadata": {
        "id": "hfqVK5MCXt9U",
        "colab_type": "code",
        "colab": {}
      },
      "source": [
        "#Criando uma mascara da diagonal superior\n",
        "mask = np.zeros_like(df_model.corr())\n",
        "mask[np.triu_indices_from(mask)] = True"
      ],
      "execution_count": 115,
      "outputs": []
    },
    {
      "cell_type": "code",
      "metadata": {
        "id": "1dq6Mo1sXTef",
        "colab_type": "code",
        "colab": {
          "base_uri": "https://localhost:8080/",
          "height": 873
        },
        "outputId": "4b5002f4-53a9-48b6-ca39-10dbe75a0001"
      },
      "source": [
        "#Plotar matriz de correlação\n",
        "plt.figure(figsize = (8,6))\n",
        "plt.title(\"Matriz de Correlação\")\n",
        "\n",
        "sns.heatmap(df_model.corr(), mask= mask, cmap = 'Blues_r' )\n",
        "plt.show()"
      ],
      "execution_count": 116,
      "outputs": [
        {
          "output_type": "display_data",
          "data": {
            "text/plain": [
              "<Figure size 576x432 with 2 Axes>"
            ],
            "image/svg+xml": "<?xml version=\"1.0\" encoding=\"utf-8\" standalone=\"no\"?>\n<!DOCTYPE svg PUBLIC \"-//W3C//DTD SVG 1.1//EN\"\n  \"http://www.w3.org/Graphics/SVG/1.1/DTD/svg11.dtd\">\n<!-- Created with matplotlib (https://matplotlib.org/) -->\n<svg height=\"638.990625pt\" version=\"1.1\" viewBox=\"0 0 720.431438 638.990625\" width=\"720.431438pt\" xmlns=\"http://www.w3.org/2000/svg\" xmlns:xlink=\"http://www.w3.org/1999/xlink\">\n <defs>\n  <style type=\"text/css\">\n*{stroke-linecap:butt;stroke-linejoin:round;}\n  </style>\n </defs>\n <g id=\"figure_1\">\n  <g id=\"patch_1\">\n   <path d=\"M 0 638.990625 \nL 720.431438 638.990625 \nL 720.431438 0 \nL 0 0 \nz\n\" style=\"fill:none;\"/>\n  </g>\n  <g id=\"axes_1\">\n   <g id=\"patch_2\">\n    <path d=\"M 290.49 348.500625 \nL 647.61 348.500625 \nL 647.61 22.340625 \nL 290.49 22.340625 \nz\n\" style=\"fill:#eaeaf2;\"/>\n   </g>\n   <g id=\"matplotlib.axis_1\">\n    <g id=\"xtick_1\">\n     <g id=\"text_1\">\n      <!-- target_default -->\n      <defs>\n       <path d=\"M 18.3125 70.21875 \nL 18.3125 54.6875 \nL 36.8125 54.6875 \nL 36.8125 47.703125 \nL 18.3125 47.703125 \nL 18.3125 18.015625 \nQ 18.3125 11.328125 20.140625 9.421875 \nQ 21.96875 7.515625 27.59375 7.515625 \nL 36.8125 7.515625 \nL 36.8125 0 \nL 27.59375 0 \nQ 17.1875 0 13.234375 3.875 \nQ 9.28125 7.765625 9.28125 18.015625 \nL 9.28125 47.703125 \nL 2.6875 47.703125 \nL 2.6875 54.6875 \nL 9.28125 54.6875 \nL 9.28125 70.21875 \nz\n\" id=\"DejaVuSans-116\"/>\n       <path d=\"M 34.28125 27.484375 \nQ 23.390625 27.484375 19.1875 25 \nQ 14.984375 22.515625 14.984375 16.5 \nQ 14.984375 11.71875 18.140625 8.90625 \nQ 21.296875 6.109375 26.703125 6.109375 \nQ 34.1875 6.109375 38.703125 11.40625 \nQ 43.21875 16.703125 43.21875 25.484375 \nL 43.21875 27.484375 \nz\nM 52.203125 31.203125 \nL 52.203125 0 \nL 43.21875 0 \nL 43.21875 8.296875 \nQ 40.140625 3.328125 35.546875 0.953125 \nQ 30.953125 -1.421875 24.3125 -1.421875 \nQ 15.921875 -1.421875 10.953125 3.296875 \nQ 6 8.015625 6 15.921875 \nQ 6 25.140625 12.171875 29.828125 \nQ 18.359375 34.515625 30.609375 34.515625 \nL 43.21875 34.515625 \nL 43.21875 35.40625 \nQ 43.21875 41.609375 39.140625 45 \nQ 35.0625 48.390625 27.6875 48.390625 \nQ 23 48.390625 18.546875 47.265625 \nQ 14.109375 46.140625 10.015625 43.890625 \nL 10.015625 52.203125 \nQ 14.9375 54.109375 19.578125 55.046875 \nQ 24.21875 56 28.609375 56 \nQ 40.484375 56 46.34375 49.84375 \nQ 52.203125 43.703125 52.203125 31.203125 \nz\n\" id=\"DejaVuSans-97\"/>\n       <path d=\"M 41.109375 46.296875 \nQ 39.59375 47.171875 37.8125 47.578125 \nQ 36.03125 48 33.890625 48 \nQ 26.265625 48 22.1875 43.046875 \nQ 18.109375 38.09375 18.109375 28.8125 \nL 18.109375 0 \nL 9.078125 0 \nL 9.078125 54.6875 \nL 18.109375 54.6875 \nL 18.109375 46.1875 \nQ 20.953125 51.171875 25.484375 53.578125 \nQ 30.03125 56 36.53125 56 \nQ 37.453125 56 38.578125 55.875 \nQ 39.703125 55.765625 41.0625 55.515625 \nz\n\" id=\"DejaVuSans-114\"/>\n       <path d=\"M 45.40625 27.984375 \nQ 45.40625 37.75 41.375 43.109375 \nQ 37.359375 48.484375 30.078125 48.484375 \nQ 22.859375 48.484375 18.828125 43.109375 \nQ 14.796875 37.75 14.796875 27.984375 \nQ 14.796875 18.265625 18.828125 12.890625 \nQ 22.859375 7.515625 30.078125 7.515625 \nQ 37.359375 7.515625 41.375 12.890625 \nQ 45.40625 18.265625 45.40625 27.984375 \nz\nM 54.390625 6.78125 \nQ 54.390625 -7.171875 48.1875 -13.984375 \nQ 42 -20.796875 29.203125 -20.796875 \nQ 24.46875 -20.796875 20.265625 -20.09375 \nQ 16.0625 -19.390625 12.109375 -17.921875 \nL 12.109375 -9.1875 \nQ 16.0625 -11.328125 19.921875 -12.34375 \nQ 23.78125 -13.375 27.78125 -13.375 \nQ 36.625 -13.375 41.015625 -8.765625 \nQ 45.40625 -4.15625 45.40625 5.171875 \nL 45.40625 9.625 \nQ 42.625 4.78125 38.28125 2.390625 \nQ 33.9375 0 27.875 0 \nQ 17.828125 0 11.671875 7.65625 \nQ 5.515625 15.328125 5.515625 27.984375 \nQ 5.515625 40.671875 11.671875 48.328125 \nQ 17.828125 56 27.875 56 \nQ 33.9375 56 38.28125 53.609375 \nQ 42.625 51.21875 45.40625 46.390625 \nL 45.40625 54.6875 \nL 54.390625 54.6875 \nz\n\" id=\"DejaVuSans-103\"/>\n       <path d=\"M 56.203125 29.59375 \nL 56.203125 25.203125 \nL 14.890625 25.203125 \nQ 15.484375 15.921875 20.484375 11.0625 \nQ 25.484375 6.203125 34.421875 6.203125 \nQ 39.59375 6.203125 44.453125 7.46875 \nQ 49.3125 8.734375 54.109375 11.28125 \nL 54.109375 2.78125 \nQ 49.265625 0.734375 44.1875 -0.34375 \nQ 39.109375 -1.421875 33.890625 -1.421875 \nQ 20.796875 -1.421875 13.15625 6.1875 \nQ 5.515625 13.8125 5.515625 26.8125 \nQ 5.515625 40.234375 12.765625 48.109375 \nQ 20.015625 56 32.328125 56 \nQ 43.359375 56 49.78125 48.890625 \nQ 56.203125 41.796875 56.203125 29.59375 \nz\nM 47.21875 32.234375 \nQ 47.125 39.59375 43.09375 43.984375 \nQ 39.0625 48.390625 32.421875 48.390625 \nQ 24.90625 48.390625 20.390625 44.140625 \nQ 15.875 39.890625 15.1875 32.171875 \nz\n\" id=\"DejaVuSans-101\"/>\n       <path d=\"M 50.984375 -16.609375 \nL 50.984375 -23.578125 \nL -0.984375 -23.578125 \nL -0.984375 -16.609375 \nz\n\" id=\"DejaVuSans-95\"/>\n       <path d=\"M 45.40625 46.390625 \nL 45.40625 75.984375 \nL 54.390625 75.984375 \nL 54.390625 0 \nL 45.40625 0 \nL 45.40625 8.203125 \nQ 42.578125 3.328125 38.25 0.953125 \nQ 33.9375 -1.421875 27.875 -1.421875 \nQ 17.96875 -1.421875 11.734375 6.484375 \nQ 5.515625 14.40625 5.515625 27.296875 \nQ 5.515625 40.1875 11.734375 48.09375 \nQ 17.96875 56 27.875 56 \nQ 33.9375 56 38.25 53.625 \nQ 42.578125 51.265625 45.40625 46.390625 \nz\nM 14.796875 27.296875 \nQ 14.796875 17.390625 18.875 11.75 \nQ 22.953125 6.109375 30.078125 6.109375 \nQ 37.203125 6.109375 41.296875 11.75 \nQ 45.40625 17.390625 45.40625 27.296875 \nQ 45.40625 37.203125 41.296875 42.84375 \nQ 37.203125 48.484375 30.078125 48.484375 \nQ 22.953125 48.484375 18.875 42.84375 \nQ 14.796875 37.203125 14.796875 27.296875 \nz\n\" id=\"DejaVuSans-100\"/>\n       <path d=\"M 37.109375 75.984375 \nL 37.109375 68.5 \nL 28.515625 68.5 \nQ 23.6875 68.5 21.796875 66.546875 \nQ 19.921875 64.59375 19.921875 59.515625 \nL 19.921875 54.6875 \nL 34.71875 54.6875 \nL 34.71875 47.703125 \nL 19.921875 47.703125 \nL 19.921875 0 \nL 10.890625 0 \nL 10.890625 47.703125 \nL 2.296875 47.703125 \nL 2.296875 54.6875 \nL 10.890625 54.6875 \nL 10.890625 58.5 \nQ 10.890625 67.625 15.140625 71.796875 \nQ 19.390625 75.984375 28.609375 75.984375 \nz\n\" id=\"DejaVuSans-102\"/>\n       <path d=\"M 8.5 21.578125 \nL 8.5 54.6875 \nL 17.484375 54.6875 \nL 17.484375 21.921875 \nQ 17.484375 14.15625 20.5 10.265625 \nQ 23.53125 6.390625 29.59375 6.390625 \nQ 36.859375 6.390625 41.078125 11.03125 \nQ 45.3125 15.671875 45.3125 23.6875 \nL 45.3125 54.6875 \nL 54.296875 54.6875 \nL 54.296875 0 \nL 45.3125 0 \nL 45.3125 8.40625 \nQ 42.046875 3.421875 37.71875 1 \nQ 33.40625 -1.421875 27.6875 -1.421875 \nQ 18.265625 -1.421875 13.375 4.4375 \nQ 8.5 10.296875 8.5 21.578125 \nz\nM 31.109375 56 \nz\n\" id=\"DejaVuSans-117\"/>\n       <path d=\"M 9.421875 75.984375 \nL 18.40625 75.984375 \nL 18.40625 0 \nL 9.421875 0 \nz\n\" id=\"DejaVuSans-108\"/>\n      </defs>\n      <g style=\"fill:#262626;\" transform=\"translate(300.240036 435.652031)rotate(-90)scale(0.11 -0.11)\">\n       <use xlink:href=\"#DejaVuSans-116\"/>\n       <use x=\"39.208984\" xlink:href=\"#DejaVuSans-97\"/>\n       <use x=\"100.488281\" xlink:href=\"#DejaVuSans-114\"/>\n       <use x=\"139.851562\" xlink:href=\"#DejaVuSans-103\"/>\n       <use x=\"203.328125\" xlink:href=\"#DejaVuSans-101\"/>\n       <use x=\"264.851562\" xlink:href=\"#DejaVuSans-116\"/>\n       <use x=\"304.060547\" xlink:href=\"#DejaVuSans-95\"/>\n       <use x=\"354.060547\" xlink:href=\"#DejaVuSans-100\"/>\n       <use x=\"417.537109\" xlink:href=\"#DejaVuSans-101\"/>\n       <use x=\"479.060547\" xlink:href=\"#DejaVuSans-102\"/>\n       <use x=\"514.265625\" xlink:href=\"#DejaVuSans-97\"/>\n       <use x=\"575.544922\" xlink:href=\"#DejaVuSans-117\"/>\n       <use x=\"638.923828\" xlink:href=\"#DejaVuSans-108\"/>\n       <use x=\"666.707031\" xlink:href=\"#DejaVuSans-116\"/>\n      </g>\n     </g>\n    </g>\n    <g id=\"xtick_2\">\n     <g id=\"text_2\">\n      <!-- score_3 -->\n      <defs>\n       <path d=\"M 44.28125 53.078125 \nL 44.28125 44.578125 \nQ 40.484375 46.53125 36.375 47.5 \nQ 32.28125 48.484375 27.875 48.484375 \nQ 21.1875 48.484375 17.84375 46.4375 \nQ 14.5 44.390625 14.5 40.28125 \nQ 14.5 37.15625 16.890625 35.375 \nQ 19.28125 33.59375 26.515625 31.984375 \nL 29.59375 31.296875 \nQ 39.15625 29.25 43.1875 25.515625 \nQ 47.21875 21.78125 47.21875 15.09375 \nQ 47.21875 7.46875 41.1875 3.015625 \nQ 35.15625 -1.421875 24.609375 -1.421875 \nQ 20.21875 -1.421875 15.453125 -0.5625 \nQ 10.6875 0.296875 5.421875 2 \nL 5.421875 11.28125 \nQ 10.40625 8.6875 15.234375 7.390625 \nQ 20.0625 6.109375 24.8125 6.109375 \nQ 31.15625 6.109375 34.5625 8.28125 \nQ 37.984375 10.453125 37.984375 14.40625 \nQ 37.984375 18.0625 35.515625 20.015625 \nQ 33.0625 21.96875 24.703125 23.78125 \nL 21.578125 24.515625 \nQ 13.234375 26.265625 9.515625 29.90625 \nQ 5.8125 33.546875 5.8125 39.890625 \nQ 5.8125 47.609375 11.28125 51.796875 \nQ 16.75 56 26.8125 56 \nQ 31.78125 56 36.171875 55.265625 \nQ 40.578125 54.546875 44.28125 53.078125 \nz\n\" id=\"DejaVuSans-115\"/>\n       <path d=\"M 48.78125 52.59375 \nL 48.78125 44.1875 \nQ 44.96875 46.296875 41.140625 47.34375 \nQ 37.3125 48.390625 33.40625 48.390625 \nQ 24.65625 48.390625 19.8125 42.84375 \nQ 14.984375 37.3125 14.984375 27.296875 \nQ 14.984375 17.28125 19.8125 11.734375 \nQ 24.65625 6.203125 33.40625 6.203125 \nQ 37.3125 6.203125 41.140625 7.25 \nQ 44.96875 8.296875 48.78125 10.40625 \nL 48.78125 2.09375 \nQ 45.015625 0.34375 40.984375 -0.53125 \nQ 36.96875 -1.421875 32.421875 -1.421875 \nQ 20.0625 -1.421875 12.78125 6.34375 \nQ 5.515625 14.109375 5.515625 27.296875 \nQ 5.515625 40.671875 12.859375 48.328125 \nQ 20.21875 56 33.015625 56 \nQ 37.15625 56 41.109375 55.140625 \nQ 45.0625 54.296875 48.78125 52.59375 \nz\n\" id=\"DejaVuSans-99\"/>\n       <path d=\"M 30.609375 48.390625 \nQ 23.390625 48.390625 19.1875 42.75 \nQ 14.984375 37.109375 14.984375 27.296875 \nQ 14.984375 17.484375 19.15625 11.84375 \nQ 23.34375 6.203125 30.609375 6.203125 \nQ 37.796875 6.203125 41.984375 11.859375 \nQ 46.1875 17.53125 46.1875 27.296875 \nQ 46.1875 37.015625 41.984375 42.703125 \nQ 37.796875 48.390625 30.609375 48.390625 \nz\nM 30.609375 56 \nQ 42.328125 56 49.015625 48.375 \nQ 55.71875 40.765625 55.71875 27.296875 \nQ 55.71875 13.875 49.015625 6.21875 \nQ 42.328125 -1.421875 30.609375 -1.421875 \nQ 18.84375 -1.421875 12.171875 6.21875 \nQ 5.515625 13.875 5.515625 27.296875 \nQ 5.515625 40.765625 12.171875 48.375 \nQ 18.84375 56 30.609375 56 \nz\n\" id=\"DejaVuSans-111\"/>\n       <path d=\"M 40.578125 39.3125 \nQ 47.65625 37.796875 51.625 33 \nQ 55.609375 28.21875 55.609375 21.1875 \nQ 55.609375 10.40625 48.1875 4.484375 \nQ 40.765625 -1.421875 27.09375 -1.421875 \nQ 22.515625 -1.421875 17.65625 -0.515625 \nQ 12.796875 0.390625 7.625 2.203125 \nL 7.625 11.71875 \nQ 11.71875 9.328125 16.59375 8.109375 \nQ 21.484375 6.890625 26.8125 6.890625 \nQ 36.078125 6.890625 40.9375 10.546875 \nQ 45.796875 14.203125 45.796875 21.1875 \nQ 45.796875 27.640625 41.28125 31.265625 \nQ 36.765625 34.90625 28.71875 34.90625 \nL 20.21875 34.90625 \nL 20.21875 43.015625 \nL 29.109375 43.015625 \nQ 36.375 43.015625 40.234375 45.921875 \nQ 44.09375 48.828125 44.09375 54.296875 \nQ 44.09375 59.90625 40.109375 62.90625 \nQ 36.140625 65.921875 28.71875 65.921875 \nQ 24.65625 65.921875 20.015625 65.03125 \nQ 15.375 64.15625 9.8125 62.3125 \nL 9.8125 71.09375 \nQ 15.4375 72.65625 20.34375 73.4375 \nQ 25.25 74.21875 29.59375 74.21875 \nQ 40.828125 74.21875 47.359375 69.109375 \nQ 53.90625 64.015625 53.90625 55.328125 \nQ 53.90625 49.265625 50.4375 45.09375 \nQ 46.96875 40.921875 40.578125 39.3125 \nz\n\" id=\"DejaVuSans-51\"/>\n      </defs>\n      <g style=\"fill:#262626;\" transform=\"translate(313.878311 400.051563)rotate(-90)scale(0.11 -0.11)\">\n       <use xlink:href=\"#DejaVuSans-115\"/>\n       <use x=\"52.099609\" xlink:href=\"#DejaVuSans-99\"/>\n       <use x=\"107.080078\" xlink:href=\"#DejaVuSans-111\"/>\n       <use x=\"168.261719\" xlink:href=\"#DejaVuSans-114\"/>\n       <use x=\"207.125\" xlink:href=\"#DejaVuSans-101\"/>\n       <use x=\"268.648438\" xlink:href=\"#DejaVuSans-95\"/>\n       <use x=\"318.648438\" xlink:href=\"#DejaVuSans-51\"/>\n      </g>\n     </g>\n    </g>\n    <g id=\"xtick_3\">\n     <g id=\"text_3\">\n      <!-- score_4 -->\n      <defs>\n       <path d=\"M 37.796875 64.3125 \nL 12.890625 25.390625 \nL 37.796875 25.390625 \nz\nM 35.203125 72.90625 \nL 47.609375 72.90625 \nL 47.609375 25.390625 \nL 58.015625 25.390625 \nL 58.015625 17.1875 \nL 47.609375 17.1875 \nL 47.609375 0 \nL 37.796875 0 \nL 37.796875 17.1875 \nL 4.890625 17.1875 \nL 4.890625 26.703125 \nz\n\" id=\"DejaVuSans-52\"/>\n      </defs>\n      <g style=\"fill:#262626;\" transform=\"translate(327.557837 400.051563)rotate(-90)scale(0.11 -0.11)\">\n       <use xlink:href=\"#DejaVuSans-115\"/>\n       <use x=\"52.099609\" xlink:href=\"#DejaVuSans-99\"/>\n       <use x=\"107.080078\" xlink:href=\"#DejaVuSans-111\"/>\n       <use x=\"168.261719\" xlink:href=\"#DejaVuSans-114\"/>\n       <use x=\"207.125\" xlink:href=\"#DejaVuSans-101\"/>\n       <use x=\"268.648438\" xlink:href=\"#DejaVuSans-95\"/>\n       <use x=\"318.648438\" xlink:href=\"#DejaVuSans-52\"/>\n      </g>\n     </g>\n    </g>\n    <g id=\"xtick_4\">\n     <g id=\"text_4\">\n      <!-- score_5 -->\n      <defs>\n       <path d=\"M 10.796875 72.90625 \nL 49.515625 72.90625 \nL 49.515625 64.59375 \nL 19.828125 64.59375 \nL 19.828125 46.734375 \nQ 21.96875 47.46875 24.109375 47.828125 \nQ 26.265625 48.1875 28.421875 48.1875 \nQ 40.625 48.1875 47.75 41.5 \nQ 54.890625 34.8125 54.890625 23.390625 \nQ 54.890625 11.625 47.5625 5.09375 \nQ 40.234375 -1.421875 26.90625 -1.421875 \nQ 22.3125 -1.421875 17.546875 -0.640625 \nQ 12.796875 0.140625 7.71875 1.703125 \nL 7.71875 11.625 \nQ 12.109375 9.234375 16.796875 8.0625 \nQ 21.484375 6.890625 26.703125 6.890625 \nQ 35.15625 6.890625 40.078125 11.328125 \nQ 45.015625 15.765625 45.015625 23.390625 \nQ 45.015625 31 40.078125 35.4375 \nQ 35.15625 39.890625 26.703125 39.890625 \nQ 22.75 39.890625 18.8125 39.015625 \nQ 14.890625 38.140625 10.796875 36.28125 \nz\n\" id=\"DejaVuSans-53\"/>\n      </defs>\n      <g style=\"fill:#262626;\" transform=\"translate(341.293221 400.051563)rotate(-90)scale(0.11 -0.11)\">\n       <use xlink:href=\"#DejaVuSans-115\"/>\n       <use x=\"52.099609\" xlink:href=\"#DejaVuSans-99\"/>\n       <use x=\"107.080078\" xlink:href=\"#DejaVuSans-111\"/>\n       <use x=\"168.261719\" xlink:href=\"#DejaVuSans-114\"/>\n       <use x=\"207.125\" xlink:href=\"#DejaVuSans-101\"/>\n       <use x=\"268.648438\" xlink:href=\"#DejaVuSans-95\"/>\n       <use x=\"318.648438\" xlink:href=\"#DejaVuSans-53\"/>\n      </g>\n     </g>\n    </g>\n    <g id=\"xtick_5\">\n     <g id=\"text_5\">\n      <!-- score_6 -->\n      <defs>\n       <path d=\"M 33.015625 40.375 \nQ 26.375 40.375 22.484375 35.828125 \nQ 18.609375 31.296875 18.609375 23.390625 \nQ 18.609375 15.53125 22.484375 10.953125 \nQ 26.375 6.390625 33.015625 6.390625 \nQ 39.65625 6.390625 43.53125 10.953125 \nQ 47.40625 15.53125 47.40625 23.390625 \nQ 47.40625 31.296875 43.53125 35.828125 \nQ 39.65625 40.375 33.015625 40.375 \nz\nM 52.59375 71.296875 \nL 52.59375 62.3125 \nQ 48.875 64.0625 45.09375 64.984375 \nQ 41.3125 65.921875 37.59375 65.921875 \nQ 27.828125 65.921875 22.671875 59.328125 \nQ 17.53125 52.734375 16.796875 39.40625 \nQ 19.671875 43.65625 24.015625 45.921875 \nQ 28.375 48.1875 33.59375 48.1875 \nQ 44.578125 48.1875 50.953125 41.515625 \nQ 57.328125 34.859375 57.328125 23.390625 \nQ 57.328125 12.15625 50.6875 5.359375 \nQ 44.046875 -1.421875 33.015625 -1.421875 \nQ 20.359375 -1.421875 13.671875 8.265625 \nQ 6.984375 17.96875 6.984375 36.375 \nQ 6.984375 53.65625 15.1875 63.9375 \nQ 23.390625 74.21875 37.203125 74.21875 \nQ 40.921875 74.21875 44.703125 73.484375 \nQ 48.484375 72.75 52.59375 71.296875 \nz\n\" id=\"DejaVuSans-54\"/>\n      </defs>\n      <g style=\"fill:#262626;\" transform=\"translate(355.084465 400.051563)rotate(-90)scale(0.11 -0.11)\">\n       <use xlink:href=\"#DejaVuSans-115\"/>\n       <use x=\"52.099609\" xlink:href=\"#DejaVuSans-99\"/>\n       <use x=\"107.080078\" xlink:href=\"#DejaVuSans-111\"/>\n       <use x=\"168.261719\" xlink:href=\"#DejaVuSans-114\"/>\n       <use x=\"207.125\" xlink:href=\"#DejaVuSans-101\"/>\n       <use x=\"268.648438\" xlink:href=\"#DejaVuSans-95\"/>\n       <use x=\"318.648438\" xlink:href=\"#DejaVuSans-54\"/>\n      </g>\n     </g>\n    </g>\n    <g id=\"xtick_6\">\n     <g id=\"text_6\">\n      <!-- risk_rate -->\n      <defs>\n       <path d=\"M 9.421875 54.6875 \nL 18.40625 54.6875 \nL 18.40625 0 \nL 9.421875 0 \nz\nM 9.421875 75.984375 \nL 18.40625 75.984375 \nL 18.40625 64.59375 \nL 9.421875 64.59375 \nz\n\" id=\"DejaVuSans-105\"/>\n       <path d=\"M 9.078125 75.984375 \nL 18.109375 75.984375 \nL 18.109375 31.109375 \nL 44.921875 54.6875 \nL 56.390625 54.6875 \nL 27.390625 29.109375 \nL 57.625 0 \nL 45.90625 0 \nL 18.109375 26.703125 \nL 18.109375 0 \nL 9.078125 0 \nz\n\" id=\"DejaVuSans-107\"/>\n      </defs>\n      <g style=\"fill:#262626;\" transform=\"translate(368.916959 405.522344)rotate(-90)scale(0.11 -0.11)\">\n       <use xlink:href=\"#DejaVuSans-114\"/>\n       <use x=\"41.113281\" xlink:href=\"#DejaVuSans-105\"/>\n       <use x=\"68.896484\" xlink:href=\"#DejaVuSans-115\"/>\n       <use x=\"120.996094\" xlink:href=\"#DejaVuSans-107\"/>\n       <use x=\"178.90625\" xlink:href=\"#DejaVuSans-95\"/>\n       <use x=\"228.90625\" xlink:href=\"#DejaVuSans-114\"/>\n       <use x=\"270.019531\" xlink:href=\"#DejaVuSans-97\"/>\n       <use x=\"331.298828\" xlink:href=\"#DejaVuSans-116\"/>\n       <use x=\"370.507812\" xlink:href=\"#DejaVuSans-101\"/>\n      </g>\n     </g>\n    </g>\n    <g id=\"xtick_7\">\n     <g id=\"text_7\">\n      <!-- last_amount_borrowed -->\n      <defs>\n       <path d=\"M 52 44.1875 \nQ 55.375 50.25 60.0625 53.125 \nQ 64.75 56 71.09375 56 \nQ 79.640625 56 84.28125 50.015625 \nQ 88.921875 44.046875 88.921875 33.015625 \nL 88.921875 0 \nL 79.890625 0 \nL 79.890625 32.71875 \nQ 79.890625 40.578125 77.09375 44.375 \nQ 74.3125 48.1875 68.609375 48.1875 \nQ 61.625 48.1875 57.5625 43.546875 \nQ 53.515625 38.921875 53.515625 30.90625 \nL 53.515625 0 \nL 44.484375 0 \nL 44.484375 32.71875 \nQ 44.484375 40.625 41.703125 44.40625 \nQ 38.921875 48.1875 33.109375 48.1875 \nQ 26.21875 48.1875 22.15625 43.53125 \nQ 18.109375 38.875 18.109375 30.90625 \nL 18.109375 0 \nL 9.078125 0 \nL 9.078125 54.6875 \nL 18.109375 54.6875 \nL 18.109375 46.1875 \nQ 21.1875 51.21875 25.484375 53.609375 \nQ 29.78125 56 35.6875 56 \nQ 41.65625 56 45.828125 52.96875 \nQ 50 49.953125 52 44.1875 \nz\n\" id=\"DejaVuSans-109\"/>\n       <path d=\"M 54.890625 33.015625 \nL 54.890625 0 \nL 45.90625 0 \nL 45.90625 32.71875 \nQ 45.90625 40.484375 42.875 44.328125 \nQ 39.84375 48.1875 33.796875 48.1875 \nQ 26.515625 48.1875 22.3125 43.546875 \nQ 18.109375 38.921875 18.109375 30.90625 \nL 18.109375 0 \nL 9.078125 0 \nL 9.078125 54.6875 \nL 18.109375 54.6875 \nL 18.109375 46.1875 \nQ 21.34375 51.125 25.703125 53.5625 \nQ 30.078125 56 35.796875 56 \nQ 45.21875 56 50.046875 50.171875 \nQ 54.890625 44.34375 54.890625 33.015625 \nz\n\" id=\"DejaVuSans-110\"/>\n       <path d=\"M 48.6875 27.296875 \nQ 48.6875 37.203125 44.609375 42.84375 \nQ 40.53125 48.484375 33.40625 48.484375 \nQ 26.265625 48.484375 22.1875 42.84375 \nQ 18.109375 37.203125 18.109375 27.296875 \nQ 18.109375 17.390625 22.1875 11.75 \nQ 26.265625 6.109375 33.40625 6.109375 \nQ 40.53125 6.109375 44.609375 11.75 \nQ 48.6875 17.390625 48.6875 27.296875 \nz\nM 18.109375 46.390625 \nQ 20.953125 51.265625 25.265625 53.625 \nQ 29.59375 56 35.59375 56 \nQ 45.5625 56 51.78125 48.09375 \nQ 58.015625 40.1875 58.015625 27.296875 \nQ 58.015625 14.40625 51.78125 6.484375 \nQ 45.5625 -1.421875 35.59375 -1.421875 \nQ 29.59375 -1.421875 25.265625 0.953125 \nQ 20.953125 3.328125 18.109375 8.203125 \nL 18.109375 0 \nL 9.078125 0 \nL 9.078125 75.984375 \nL 18.109375 75.984375 \nz\n\" id=\"DejaVuSans-98\"/>\n       <path d=\"M 4.203125 54.6875 \nL 13.1875 54.6875 \nL 24.421875 12.015625 \nL 35.59375 54.6875 \nL 46.1875 54.6875 \nL 57.421875 12.015625 \nL 68.609375 54.6875 \nL 77.59375 54.6875 \nL 63.28125 0 \nL 52.6875 0 \nL 40.921875 44.828125 \nL 29.109375 0 \nL 18.5 0 \nz\n\" id=\"DejaVuSans-119\"/>\n      </defs>\n      <g style=\"fill:#262626;\" transform=\"translate(382.652344 483.0775)rotate(-90)scale(0.11 -0.11)\">\n       <use xlink:href=\"#DejaVuSans-108\"/>\n       <use x=\"27.783203\" xlink:href=\"#DejaVuSans-97\"/>\n       <use x=\"89.0625\" xlink:href=\"#DejaVuSans-115\"/>\n       <use x=\"141.162109\" xlink:href=\"#DejaVuSans-116\"/>\n       <use x=\"180.371094\" xlink:href=\"#DejaVuSans-95\"/>\n       <use x=\"230.371094\" xlink:href=\"#DejaVuSans-97\"/>\n       <use x=\"291.650391\" xlink:href=\"#DejaVuSans-109\"/>\n       <use x=\"389.0625\" xlink:href=\"#DejaVuSans-111\"/>\n       <use x=\"450.244141\" xlink:href=\"#DejaVuSans-117\"/>\n       <use x=\"513.623047\" xlink:href=\"#DejaVuSans-110\"/>\n       <use x=\"577.001953\" xlink:href=\"#DejaVuSans-116\"/>\n       <use x=\"616.210938\" xlink:href=\"#DejaVuSans-95\"/>\n       <use x=\"666.210938\" xlink:href=\"#DejaVuSans-98\"/>\n       <use x=\"729.6875\" xlink:href=\"#DejaVuSans-111\"/>\n       <use x=\"790.869141\" xlink:href=\"#DejaVuSans-114\"/>\n       <use x=\"830.232422\" xlink:href=\"#DejaVuSans-114\"/>\n       <use x=\"869.095703\" xlink:href=\"#DejaVuSans-111\"/>\n       <use x=\"930.277344\" xlink:href=\"#DejaVuSans-119\"/>\n       <use x=\"1012.064453\" xlink:href=\"#DejaVuSans-101\"/>\n       <use x=\"1073.587891\" xlink:href=\"#DejaVuSans-100\"/>\n      </g>\n     </g>\n    </g>\n    <g id=\"xtick_8\">\n     <g id=\"text_8\">\n      <!-- last_borrowed_in_months -->\n      <defs>\n       <path d=\"M 54.890625 33.015625 \nL 54.890625 0 \nL 45.90625 0 \nL 45.90625 32.71875 \nQ 45.90625 40.484375 42.875 44.328125 \nQ 39.84375 48.1875 33.796875 48.1875 \nQ 26.515625 48.1875 22.3125 43.546875 \nQ 18.109375 38.921875 18.109375 30.90625 \nL 18.109375 0 \nL 9.078125 0 \nL 9.078125 75.984375 \nL 18.109375 75.984375 \nL 18.109375 46.1875 \nQ 21.34375 51.125 25.703125 53.5625 \nQ 30.078125 56 35.796875 56 \nQ 45.21875 56 50.046875 50.171875 \nQ 54.890625 44.34375 54.890625 33.015625 \nz\n\" id=\"DejaVuSans-104\"/>\n      </defs>\n      <g style=\"fill:#262626;\" transform=\"translate(396.387728 497.594063)rotate(-90)scale(0.11 -0.11)\">\n       <use xlink:href=\"#DejaVuSans-108\"/>\n       <use x=\"27.783203\" xlink:href=\"#DejaVuSans-97\"/>\n       <use x=\"89.0625\" xlink:href=\"#DejaVuSans-115\"/>\n       <use x=\"141.162109\" xlink:href=\"#DejaVuSans-116\"/>\n       <use x=\"180.371094\" xlink:href=\"#DejaVuSans-95\"/>\n       <use x=\"230.371094\" xlink:href=\"#DejaVuSans-98\"/>\n       <use x=\"293.847656\" xlink:href=\"#DejaVuSans-111\"/>\n       <use x=\"355.029297\" xlink:href=\"#DejaVuSans-114\"/>\n       <use x=\"394.392578\" xlink:href=\"#DejaVuSans-114\"/>\n       <use x=\"433.255859\" xlink:href=\"#DejaVuSans-111\"/>\n       <use x=\"494.4375\" xlink:href=\"#DejaVuSans-119\"/>\n       <use x=\"576.224609\" xlink:href=\"#DejaVuSans-101\"/>\n       <use x=\"637.748047\" xlink:href=\"#DejaVuSans-100\"/>\n       <use x=\"701.224609\" xlink:href=\"#DejaVuSans-95\"/>\n       <use x=\"751.224609\" xlink:href=\"#DejaVuSans-105\"/>\n       <use x=\"779.007812\" xlink:href=\"#DejaVuSans-110\"/>\n       <use x=\"842.386719\" xlink:href=\"#DejaVuSans-95\"/>\n       <use x=\"892.386719\" xlink:href=\"#DejaVuSans-109\"/>\n       <use x=\"989.798828\" xlink:href=\"#DejaVuSans-111\"/>\n       <use x=\"1050.980469\" xlink:href=\"#DejaVuSans-110\"/>\n       <use x=\"1114.359375\" xlink:href=\"#DejaVuSans-116\"/>\n       <use x=\"1153.568359\" xlink:href=\"#DejaVuSans-104\"/>\n       <use x=\"1216.947266\" xlink:href=\"#DejaVuSans-115\"/>\n      </g>\n     </g>\n    </g>\n    <g id=\"xtick_9\">\n     <g id=\"text_9\">\n      <!-- credit_limit -->\n      <g style=\"fill:#262626;\" transform=\"translate(410.123113 419.138281)rotate(-90)scale(0.11 -0.11)\">\n       <use xlink:href=\"#DejaVuSans-99\"/>\n       <use x=\"54.980469\" xlink:href=\"#DejaVuSans-114\"/>\n       <use x=\"93.84375\" xlink:href=\"#DejaVuSans-101\"/>\n       <use x=\"155.367188\" xlink:href=\"#DejaVuSans-100\"/>\n       <use x=\"218.84375\" xlink:href=\"#DejaVuSans-105\"/>\n       <use x=\"246.626953\" xlink:href=\"#DejaVuSans-116\"/>\n       <use x=\"285.835938\" xlink:href=\"#DejaVuSans-95\"/>\n       <use x=\"335.835938\" xlink:href=\"#DejaVuSans-108\"/>\n       <use x=\"363.619141\" xlink:href=\"#DejaVuSans-105\"/>\n       <use x=\"391.402344\" xlink:href=\"#DejaVuSans-109\"/>\n       <use x=\"488.814453\" xlink:href=\"#DejaVuSans-105\"/>\n       <use x=\"516.597656\" xlink:href=\"#DejaVuSans-116\"/>\n      </g>\n     </g>\n    </g>\n    <g id=\"xtick_10\">\n     <g id=\"text_10\">\n      <!-- income -->\n      <g style=\"fill:#262626;\" transform=\"translate(424.011466 398.289844)rotate(-90)scale(0.11 -0.11)\">\n       <use xlink:href=\"#DejaVuSans-105\"/>\n       <use x=\"27.783203\" xlink:href=\"#DejaVuSans-110\"/>\n       <use x=\"91.162109\" xlink:href=\"#DejaVuSans-99\"/>\n       <use x=\"146.142578\" xlink:href=\"#DejaVuSans-111\"/>\n       <use x=\"207.324219\" xlink:href=\"#DejaVuSans-109\"/>\n       <use x=\"304.736328\" xlink:href=\"#DejaVuSans-101\"/>\n      </g>\n     </g>\n    </g>\n    <g id=\"xtick_11\">\n     <g id=\"text_11\">\n      <!-- facebook_profile -->\n      <defs>\n       <path d=\"M 18.109375 8.203125 \nL 18.109375 -20.796875 \nL 9.078125 -20.796875 \nL 9.078125 54.6875 \nL 18.109375 54.6875 \nL 18.109375 46.390625 \nQ 20.953125 51.265625 25.265625 53.625 \nQ 29.59375 56 35.59375 56 \nQ 45.5625 56 51.78125 48.09375 \nQ 58.015625 40.1875 58.015625 27.296875 \nQ 58.015625 14.40625 51.78125 6.484375 \nQ 45.5625 -1.421875 35.59375 -1.421875 \nQ 29.59375 -1.421875 25.265625 0.953125 \nQ 20.953125 3.328125 18.109375 8.203125 \nz\nM 48.6875 27.296875 \nQ 48.6875 37.203125 44.609375 42.84375 \nQ 40.53125 48.484375 33.40625 48.484375 \nQ 26.265625 48.484375 22.1875 42.84375 \nQ 18.109375 37.203125 18.109375 27.296875 \nQ 18.109375 17.390625 22.1875 11.75 \nQ 26.265625 6.109375 33.40625 6.109375 \nQ 40.53125 6.109375 44.609375 11.75 \nQ 48.6875 17.390625 48.6875 27.296875 \nz\n\" id=\"DejaVuSans-112\"/>\n      </defs>\n      <g style=\"fill:#262626;\" transform=\"translate(437.593882 448.485938)rotate(-90)scale(0.11 -0.11)\">\n       <use xlink:href=\"#DejaVuSans-102\"/>\n       <use x=\"35.205078\" xlink:href=\"#DejaVuSans-97\"/>\n       <use x=\"96.484375\" xlink:href=\"#DejaVuSans-99\"/>\n       <use x=\"151.464844\" xlink:href=\"#DejaVuSans-101\"/>\n       <use x=\"212.988281\" xlink:href=\"#DejaVuSans-98\"/>\n       <use x=\"276.464844\" xlink:href=\"#DejaVuSans-111\"/>\n       <use x=\"337.646484\" xlink:href=\"#DejaVuSans-111\"/>\n       <use x=\"398.828125\" xlink:href=\"#DejaVuSans-107\"/>\n       <use x=\"456.738281\" xlink:href=\"#DejaVuSans-95\"/>\n       <use x=\"506.738281\" xlink:href=\"#DejaVuSans-112\"/>\n       <use x=\"570.214844\" xlink:href=\"#DejaVuSans-114\"/>\n       <use x=\"609.078125\" xlink:href=\"#DejaVuSans-111\"/>\n       <use x=\"670.259766\" xlink:href=\"#DejaVuSans-102\"/>\n       <use x=\"705.464844\" xlink:href=\"#DejaVuSans-105\"/>\n       <use x=\"733.248047\" xlink:href=\"#DejaVuSans-108\"/>\n       <use x=\"761.03125\" xlink:href=\"#DejaVuSans-101\"/>\n      </g>\n     </g>\n    </g>\n    <g id=\"xtick_12\">\n     <g id=\"text_12\">\n      <!-- ok_since -->\n      <g style=\"fill:#262626;\" transform=\"translate(451.329267 405.175156)rotate(-90)scale(0.11 -0.11)\">\n       <use xlink:href=\"#DejaVuSans-111\"/>\n       <use x=\"61.181641\" xlink:href=\"#DejaVuSans-107\"/>\n       <use x=\"119.091797\" xlink:href=\"#DejaVuSans-95\"/>\n       <use x=\"169.091797\" xlink:href=\"#DejaVuSans-115\"/>\n       <use x=\"221.191406\" xlink:href=\"#DejaVuSans-105\"/>\n       <use x=\"248.974609\" xlink:href=\"#DejaVuSans-110\"/>\n       <use x=\"312.353516\" xlink:href=\"#DejaVuSans-99\"/>\n       <use x=\"367.333984\" xlink:href=\"#DejaVuSans-101\"/>\n      </g>\n     </g>\n    </g>\n    <g id=\"xtick_13\">\n     <g id=\"text_13\">\n      <!-- n_bankruptcies -->\n      <g style=\"fill:#262626;\" transform=\"translate(465.064651 441.928906)rotate(-90)scale(0.11 -0.11)\">\n       <use xlink:href=\"#DejaVuSans-110\"/>\n       <use x=\"63.378906\" xlink:href=\"#DejaVuSans-95\"/>\n       <use x=\"113.378906\" xlink:href=\"#DejaVuSans-98\"/>\n       <use x=\"176.855469\" xlink:href=\"#DejaVuSans-97\"/>\n       <use x=\"238.134766\" xlink:href=\"#DejaVuSans-110\"/>\n       <use x=\"301.513672\" xlink:href=\"#DejaVuSans-107\"/>\n       <use x=\"359.423828\" xlink:href=\"#DejaVuSans-114\"/>\n       <use x=\"400.537109\" xlink:href=\"#DejaVuSans-117\"/>\n       <use x=\"463.916016\" xlink:href=\"#DejaVuSans-112\"/>\n       <use x=\"527.392578\" xlink:href=\"#DejaVuSans-116\"/>\n       <use x=\"566.601562\" xlink:href=\"#DejaVuSans-99\"/>\n       <use x=\"621.582031\" xlink:href=\"#DejaVuSans-105\"/>\n       <use x=\"649.365234\" xlink:href=\"#DejaVuSans-101\"/>\n       <use x=\"710.888672\" xlink:href=\"#DejaVuSans-115\"/>\n      </g>\n     </g>\n    </g>\n    <g id=\"xtick_14\">\n     <g id=\"text_14\">\n      <!-- n_defaulted_loans -->\n      <g style=\"fill:#262626;\" transform=\"translate(478.800036 457.657188)rotate(-90)scale(0.11 -0.11)\">\n       <use xlink:href=\"#DejaVuSans-110\"/>\n       <use x=\"63.378906\" xlink:href=\"#DejaVuSans-95\"/>\n       <use x=\"113.378906\" xlink:href=\"#DejaVuSans-100\"/>\n       <use x=\"176.855469\" xlink:href=\"#DejaVuSans-101\"/>\n       <use x=\"238.378906\" xlink:href=\"#DejaVuSans-102\"/>\n       <use x=\"273.583984\" xlink:href=\"#DejaVuSans-97\"/>\n       <use x=\"334.863281\" xlink:href=\"#DejaVuSans-117\"/>\n       <use x=\"398.242188\" xlink:href=\"#DejaVuSans-108\"/>\n       <use x=\"426.025391\" xlink:href=\"#DejaVuSans-116\"/>\n       <use x=\"465.234375\" xlink:href=\"#DejaVuSans-101\"/>\n       <use x=\"526.757812\" xlink:href=\"#DejaVuSans-100\"/>\n       <use x=\"590.234375\" xlink:href=\"#DejaVuSans-95\"/>\n       <use x=\"640.234375\" xlink:href=\"#DejaVuSans-108\"/>\n       <use x=\"668.017578\" xlink:href=\"#DejaVuSans-111\"/>\n       <use x=\"729.199219\" xlink:href=\"#DejaVuSans-97\"/>\n       <use x=\"790.478516\" xlink:href=\"#DejaVuSans-110\"/>\n       <use x=\"853.857422\" xlink:href=\"#DejaVuSans-115\"/>\n      </g>\n     </g>\n    </g>\n    <g id=\"xtick_15\">\n     <g id=\"text_15\">\n      <!-- n_accounts -->\n      <g style=\"fill:#262626;\" transform=\"translate(492.382452 420.025156)rotate(-90)scale(0.11 -0.11)\">\n       <use xlink:href=\"#DejaVuSans-110\"/>\n       <use x=\"63.378906\" xlink:href=\"#DejaVuSans-95\"/>\n       <use x=\"113.378906\" xlink:href=\"#DejaVuSans-97\"/>\n       <use x=\"174.658203\" xlink:href=\"#DejaVuSans-99\"/>\n       <use x=\"229.638672\" xlink:href=\"#DejaVuSans-99\"/>\n       <use x=\"284.619141\" xlink:href=\"#DejaVuSans-111\"/>\n       <use x=\"345.800781\" xlink:href=\"#DejaVuSans-117\"/>\n       <use x=\"409.179688\" xlink:href=\"#DejaVuSans-110\"/>\n       <use x=\"472.558594\" xlink:href=\"#DejaVuSans-116\"/>\n       <use x=\"511.767578\" xlink:href=\"#DejaVuSans-115\"/>\n      </g>\n     </g>\n    </g>\n    <g id=\"xtick_16\">\n     <g id=\"text_16\">\n      <!-- n_issues -->\n      <g style=\"fill:#262626;\" transform=\"translate(506.270805 404.458438)rotate(-90)scale(0.11 -0.11)\">\n       <use xlink:href=\"#DejaVuSans-110\"/>\n       <use x=\"63.378906\" xlink:href=\"#DejaVuSans-95\"/>\n       <use x=\"113.378906\" xlink:href=\"#DejaVuSans-105\"/>\n       <use x=\"141.162109\" xlink:href=\"#DejaVuSans-115\"/>\n       <use x=\"193.261719\" xlink:href=\"#DejaVuSans-115\"/>\n       <use x=\"245.361328\" xlink:href=\"#DejaVuSans-117\"/>\n       <use x=\"308.740234\" xlink:href=\"#DejaVuSans-101\"/>\n       <use x=\"370.263672\" xlink:href=\"#DejaVuSans-115\"/>\n      </g>\n     </g>\n    </g>\n    <g id=\"xtick_17\">\n     <g id=\"text_17\">\n      <!-- application_time_in_funnel -->\n      <g style=\"fill:#262626;\" transform=\"translate(520.00619 504.668437)rotate(-90)scale(0.11 -0.11)\">\n       <use xlink:href=\"#DejaVuSans-97\"/>\n       <use x=\"61.279297\" xlink:href=\"#DejaVuSans-112\"/>\n       <use x=\"124.755859\" xlink:href=\"#DejaVuSans-112\"/>\n       <use x=\"188.232422\" xlink:href=\"#DejaVuSans-108\"/>\n       <use x=\"216.015625\" xlink:href=\"#DejaVuSans-105\"/>\n       <use x=\"243.798828\" xlink:href=\"#DejaVuSans-99\"/>\n       <use x=\"298.779297\" xlink:href=\"#DejaVuSans-97\"/>\n       <use x=\"360.058594\" xlink:href=\"#DejaVuSans-116\"/>\n       <use x=\"399.267578\" xlink:href=\"#DejaVuSans-105\"/>\n       <use x=\"427.050781\" xlink:href=\"#DejaVuSans-111\"/>\n       <use x=\"488.232422\" xlink:href=\"#DejaVuSans-110\"/>\n       <use x=\"551.611328\" xlink:href=\"#DejaVuSans-95\"/>\n       <use x=\"601.611328\" xlink:href=\"#DejaVuSans-116\"/>\n       <use x=\"640.820312\" xlink:href=\"#DejaVuSans-105\"/>\n       <use x=\"668.603516\" xlink:href=\"#DejaVuSans-109\"/>\n       <use x=\"766.015625\" xlink:href=\"#DejaVuSans-101\"/>\n       <use x=\"827.539062\" xlink:href=\"#DejaVuSans-95\"/>\n       <use x=\"877.539062\" xlink:href=\"#DejaVuSans-105\"/>\n       <use x=\"905.322266\" xlink:href=\"#DejaVuSans-110\"/>\n       <use x=\"968.701172\" xlink:href=\"#DejaVuSans-95\"/>\n       <use x=\"1018.701172\" xlink:href=\"#DejaVuSans-102\"/>\n       <use x=\"1053.90625\" xlink:href=\"#DejaVuSans-117\"/>\n       <use x=\"1117.285156\" xlink:href=\"#DejaVuSans-110\"/>\n       <use x=\"1180.664062\" xlink:href=\"#DejaVuSans-110\"/>\n       <use x=\"1244.042969\" xlink:href=\"#DejaVuSans-101\"/>\n       <use x=\"1305.566406\" xlink:href=\"#DejaVuSans-108\"/>\n      </g>\n     </g>\n    </g>\n    <g id=\"xtick_18\">\n     <g id=\"text_18\">\n      <!-- external_data_provider_credit_checks_last_month -->\n      <defs>\n       <path d=\"M 54.890625 54.6875 \nL 35.109375 28.078125 \nL 55.90625 0 \nL 45.3125 0 \nL 29.390625 21.484375 \nL 13.484375 0 \nL 2.875 0 \nL 24.125 28.609375 \nL 4.6875 54.6875 \nL 15.28125 54.6875 \nL 29.78125 35.203125 \nL 44.28125 54.6875 \nz\n\" id=\"DejaVuSans-120\"/>\n       <path d=\"M 2.984375 54.6875 \nL 12.5 54.6875 \nL 29.59375 8.796875 \nL 46.6875 54.6875 \nL 56.203125 54.6875 \nL 35.6875 0 \nL 23.484375 0 \nz\n\" id=\"DejaVuSans-118\"/>\n      </defs>\n      <g style=\"fill:#262626;\" transform=\"translate(533.741575 631.790625)rotate(-90)scale(0.11 -0.11)\">\n       <use xlink:href=\"#DejaVuSans-101\"/>\n       <use x=\"59.773438\" xlink:href=\"#DejaVuSans-120\"/>\n       <use x=\"118.953125\" xlink:href=\"#DejaVuSans-116\"/>\n       <use x=\"158.162109\" xlink:href=\"#DejaVuSans-101\"/>\n       <use x=\"219.685547\" xlink:href=\"#DejaVuSans-114\"/>\n       <use x=\"259.048828\" xlink:href=\"#DejaVuSans-110\"/>\n       <use x=\"322.427734\" xlink:href=\"#DejaVuSans-97\"/>\n       <use x=\"383.707031\" xlink:href=\"#DejaVuSans-108\"/>\n       <use x=\"411.490234\" xlink:href=\"#DejaVuSans-95\"/>\n       <use x=\"461.490234\" xlink:href=\"#DejaVuSans-100\"/>\n       <use x=\"524.966797\" xlink:href=\"#DejaVuSans-97\"/>\n       <use x=\"586.246094\" xlink:href=\"#DejaVuSans-116\"/>\n       <use x=\"625.455078\" xlink:href=\"#DejaVuSans-97\"/>\n       <use x=\"686.734375\" xlink:href=\"#DejaVuSans-95\"/>\n       <use x=\"736.734375\" xlink:href=\"#DejaVuSans-112\"/>\n       <use x=\"800.210938\" xlink:href=\"#DejaVuSans-114\"/>\n       <use x=\"839.074219\" xlink:href=\"#DejaVuSans-111\"/>\n       <use x=\"900.255859\" xlink:href=\"#DejaVuSans-118\"/>\n       <use x=\"959.435547\" xlink:href=\"#DejaVuSans-105\"/>\n       <use x=\"987.21875\" xlink:href=\"#DejaVuSans-100\"/>\n       <use x=\"1050.695312\" xlink:href=\"#DejaVuSans-101\"/>\n       <use x=\"1112.21875\" xlink:href=\"#DejaVuSans-114\"/>\n       <use x=\"1153.332031\" xlink:href=\"#DejaVuSans-95\"/>\n       <use x=\"1203.332031\" xlink:href=\"#DejaVuSans-99\"/>\n       <use x=\"1258.3125\" xlink:href=\"#DejaVuSans-114\"/>\n       <use x=\"1297.175781\" xlink:href=\"#DejaVuSans-101\"/>\n       <use x=\"1358.699219\" xlink:href=\"#DejaVuSans-100\"/>\n       <use x=\"1422.175781\" xlink:href=\"#DejaVuSans-105\"/>\n       <use x=\"1449.958984\" xlink:href=\"#DejaVuSans-116\"/>\n       <use x=\"1489.167969\" xlink:href=\"#DejaVuSans-95\"/>\n       <use x=\"1539.167969\" xlink:href=\"#DejaVuSans-99\"/>\n       <use x=\"1594.148438\" xlink:href=\"#DejaVuSans-104\"/>\n       <use x=\"1657.527344\" xlink:href=\"#DejaVuSans-101\"/>\n       <use x=\"1719.050781\" xlink:href=\"#DejaVuSans-99\"/>\n       <use x=\"1774.03125\" xlink:href=\"#DejaVuSans-107\"/>\n       <use x=\"1831.941406\" xlink:href=\"#DejaVuSans-115\"/>\n       <use x=\"1884.041016\" xlink:href=\"#DejaVuSans-95\"/>\n       <use x=\"1934.041016\" xlink:href=\"#DejaVuSans-108\"/>\n       <use x=\"1961.824219\" xlink:href=\"#DejaVuSans-97\"/>\n       <use x=\"2023.103516\" xlink:href=\"#DejaVuSans-115\"/>\n       <use x=\"2075.203125\" xlink:href=\"#DejaVuSans-116\"/>\n       <use x=\"2114.412109\" xlink:href=\"#DejaVuSans-95\"/>\n       <use x=\"2164.412109\" xlink:href=\"#DejaVuSans-109\"/>\n       <use x=\"2261.824219\" xlink:href=\"#DejaVuSans-111\"/>\n       <use x=\"2323.005859\" xlink:href=\"#DejaVuSans-110\"/>\n       <use x=\"2386.384766\" xlink:href=\"#DejaVuSans-116\"/>\n       <use x=\"2425.59375\" xlink:href=\"#DejaVuSans-104\"/>\n      </g>\n     </g>\n    </g>\n    <g id=\"xtick_19\">\n     <g id=\"text_19\">\n      <!-- external_data_provider_credit_checks_last_year -->\n      <defs>\n       <path d=\"M 32.171875 -5.078125 \nQ 28.375 -14.84375 24.75 -17.8125 \nQ 21.140625 -20.796875 15.09375 -20.796875 \nL 7.90625 -20.796875 \nL 7.90625 -13.28125 \nL 13.1875 -13.28125 \nQ 16.890625 -13.28125 18.9375 -11.515625 \nQ 21 -9.765625 23.484375 -3.21875 \nL 25.09375 0.875 \nL 2.984375 54.6875 \nL 12.5 54.6875 \nL 29.59375 11.921875 \nL 46.6875 54.6875 \nL 56.203125 54.6875 \nz\n\" id=\"DejaVuSans-121\"/>\n      </defs>\n      <g style=\"fill:#262626;\" transform=\"translate(547.476959 620.6325)rotate(-90)scale(0.11 -0.11)\">\n       <use xlink:href=\"#DejaVuSans-101\"/>\n       <use x=\"59.773438\" xlink:href=\"#DejaVuSans-120\"/>\n       <use x=\"118.953125\" xlink:href=\"#DejaVuSans-116\"/>\n       <use x=\"158.162109\" xlink:href=\"#DejaVuSans-101\"/>\n       <use x=\"219.685547\" xlink:href=\"#DejaVuSans-114\"/>\n       <use x=\"259.048828\" xlink:href=\"#DejaVuSans-110\"/>\n       <use x=\"322.427734\" xlink:href=\"#DejaVuSans-97\"/>\n       <use x=\"383.707031\" xlink:href=\"#DejaVuSans-108\"/>\n       <use x=\"411.490234\" xlink:href=\"#DejaVuSans-95\"/>\n       <use x=\"461.490234\" xlink:href=\"#DejaVuSans-100\"/>\n       <use x=\"524.966797\" xlink:href=\"#DejaVuSans-97\"/>\n       <use x=\"586.246094\" xlink:href=\"#DejaVuSans-116\"/>\n       <use x=\"625.455078\" xlink:href=\"#DejaVuSans-97\"/>\n       <use x=\"686.734375\" xlink:href=\"#DejaVuSans-95\"/>\n       <use x=\"736.734375\" xlink:href=\"#DejaVuSans-112\"/>\n       <use x=\"800.210938\" xlink:href=\"#DejaVuSans-114\"/>\n       <use x=\"839.074219\" xlink:href=\"#DejaVuSans-111\"/>\n       <use x=\"900.255859\" xlink:href=\"#DejaVuSans-118\"/>\n       <use x=\"959.435547\" xlink:href=\"#DejaVuSans-105\"/>\n       <use x=\"987.21875\" xlink:href=\"#DejaVuSans-100\"/>\n       <use x=\"1050.695312\" xlink:href=\"#DejaVuSans-101\"/>\n       <use x=\"1112.21875\" xlink:href=\"#DejaVuSans-114\"/>\n       <use x=\"1153.332031\" xlink:href=\"#DejaVuSans-95\"/>\n       <use x=\"1203.332031\" xlink:href=\"#DejaVuSans-99\"/>\n       <use x=\"1258.3125\" xlink:href=\"#DejaVuSans-114\"/>\n       <use x=\"1297.175781\" xlink:href=\"#DejaVuSans-101\"/>\n       <use x=\"1358.699219\" xlink:href=\"#DejaVuSans-100\"/>\n       <use x=\"1422.175781\" xlink:href=\"#DejaVuSans-105\"/>\n       <use x=\"1449.958984\" xlink:href=\"#DejaVuSans-116\"/>\n       <use x=\"1489.167969\" xlink:href=\"#DejaVuSans-95\"/>\n       <use x=\"1539.167969\" xlink:href=\"#DejaVuSans-99\"/>\n       <use x=\"1594.148438\" xlink:href=\"#DejaVuSans-104\"/>\n       <use x=\"1657.527344\" xlink:href=\"#DejaVuSans-101\"/>\n       <use x=\"1719.050781\" xlink:href=\"#DejaVuSans-99\"/>\n       <use x=\"1774.03125\" xlink:href=\"#DejaVuSans-107\"/>\n       <use x=\"1831.941406\" xlink:href=\"#DejaVuSans-115\"/>\n       <use x=\"1884.041016\" xlink:href=\"#DejaVuSans-95\"/>\n       <use x=\"1934.041016\" xlink:href=\"#DejaVuSans-108\"/>\n       <use x=\"1961.824219\" xlink:href=\"#DejaVuSans-97\"/>\n       <use x=\"2023.103516\" xlink:href=\"#DejaVuSans-115\"/>\n       <use x=\"2075.203125\" xlink:href=\"#DejaVuSans-116\"/>\n       <use x=\"2114.412109\" xlink:href=\"#DejaVuSans-95\"/>\n       <use x=\"2164.412109\" xlink:href=\"#DejaVuSans-121\"/>\n       <use x=\"2223.591797\" xlink:href=\"#DejaVuSans-101\"/>\n       <use x=\"2285.115234\" xlink:href=\"#DejaVuSans-97\"/>\n       <use x=\"2346.394531\" xlink:href=\"#DejaVuSans-114\"/>\n      </g>\n     </g>\n    </g>\n    <g id=\"xtick_20\">\n     <g id=\"text_20\">\n      <!-- external_data_provider_email_seen_before -->\n      <g style=\"fill:#262626;\" transform=\"translate(561.212344 593.343906)rotate(-90)scale(0.11 -0.11)\">\n       <use xlink:href=\"#DejaVuSans-101\"/>\n       <use x=\"59.773438\" xlink:href=\"#DejaVuSans-120\"/>\n       <use x=\"118.953125\" xlink:href=\"#DejaVuSans-116\"/>\n       <use x=\"158.162109\" xlink:href=\"#DejaVuSans-101\"/>\n       <use x=\"219.685547\" xlink:href=\"#DejaVuSans-114\"/>\n       <use x=\"259.048828\" xlink:href=\"#DejaVuSans-110\"/>\n       <use x=\"322.427734\" xlink:href=\"#DejaVuSans-97\"/>\n       <use x=\"383.707031\" xlink:href=\"#DejaVuSans-108\"/>\n       <use x=\"411.490234\" xlink:href=\"#DejaVuSans-95\"/>\n       <use x=\"461.490234\" xlink:href=\"#DejaVuSans-100\"/>\n       <use x=\"524.966797\" xlink:href=\"#DejaVuSans-97\"/>\n       <use x=\"586.246094\" xlink:href=\"#DejaVuSans-116\"/>\n       <use x=\"625.455078\" xlink:href=\"#DejaVuSans-97\"/>\n       <use x=\"686.734375\" xlink:href=\"#DejaVuSans-95\"/>\n       <use x=\"736.734375\" xlink:href=\"#DejaVuSans-112\"/>\n       <use x=\"800.210938\" xlink:href=\"#DejaVuSans-114\"/>\n       <use x=\"839.074219\" xlink:href=\"#DejaVuSans-111\"/>\n       <use x=\"900.255859\" xlink:href=\"#DejaVuSans-118\"/>\n       <use x=\"959.435547\" xlink:href=\"#DejaVuSans-105\"/>\n       <use x=\"987.21875\" xlink:href=\"#DejaVuSans-100\"/>\n       <use x=\"1050.695312\" xlink:href=\"#DejaVuSans-101\"/>\n       <use x=\"1112.21875\" xlink:href=\"#DejaVuSans-114\"/>\n       <use x=\"1153.332031\" xlink:href=\"#DejaVuSans-95\"/>\n       <use x=\"1203.332031\" xlink:href=\"#DejaVuSans-101\"/>\n       <use x=\"1264.855469\" xlink:href=\"#DejaVuSans-109\"/>\n       <use x=\"1362.267578\" xlink:href=\"#DejaVuSans-97\"/>\n       <use x=\"1423.546875\" xlink:href=\"#DejaVuSans-105\"/>\n       <use x=\"1451.330078\" xlink:href=\"#DejaVuSans-108\"/>\n       <use x=\"1479.113281\" xlink:href=\"#DejaVuSans-95\"/>\n       <use x=\"1529.113281\" xlink:href=\"#DejaVuSans-115\"/>\n       <use x=\"1581.212891\" xlink:href=\"#DejaVuSans-101\"/>\n       <use x=\"1642.736328\" xlink:href=\"#DejaVuSans-101\"/>\n       <use x=\"1704.259766\" xlink:href=\"#DejaVuSans-110\"/>\n       <use x=\"1767.638672\" xlink:href=\"#DejaVuSans-95\"/>\n       <use x=\"1817.638672\" xlink:href=\"#DejaVuSans-98\"/>\n       <use x=\"1881.115234\" xlink:href=\"#DejaVuSans-101\"/>\n       <use x=\"1942.638672\" xlink:href=\"#DejaVuSans-102\"/>\n       <use x=\"1977.84375\" xlink:href=\"#DejaVuSans-111\"/>\n       <use x=\"2039.025391\" xlink:href=\"#DejaVuSans-114\"/>\n       <use x=\"2077.888672\" xlink:href=\"#DejaVuSans-101\"/>\n      </g>\n     </g>\n    </g>\n    <g id=\"xtick_21\">\n     <g id=\"text_21\">\n      <!-- external_data_provider_fraud_score -->\n      <g style=\"fill:#262626;\" transform=\"translate(574.947728 554.513906)rotate(-90)scale(0.11 -0.11)\">\n       <use xlink:href=\"#DejaVuSans-101\"/>\n       <use x=\"59.773438\" xlink:href=\"#DejaVuSans-120\"/>\n       <use x=\"118.953125\" xlink:href=\"#DejaVuSans-116\"/>\n       <use x=\"158.162109\" xlink:href=\"#DejaVuSans-101\"/>\n       <use x=\"219.685547\" xlink:href=\"#DejaVuSans-114\"/>\n       <use x=\"259.048828\" xlink:href=\"#DejaVuSans-110\"/>\n       <use x=\"322.427734\" xlink:href=\"#DejaVuSans-97\"/>\n       <use x=\"383.707031\" xlink:href=\"#DejaVuSans-108\"/>\n       <use x=\"411.490234\" xlink:href=\"#DejaVuSans-95\"/>\n       <use x=\"461.490234\" xlink:href=\"#DejaVuSans-100\"/>\n       <use x=\"524.966797\" xlink:href=\"#DejaVuSans-97\"/>\n       <use x=\"586.246094\" xlink:href=\"#DejaVuSans-116\"/>\n       <use x=\"625.455078\" xlink:href=\"#DejaVuSans-97\"/>\n       <use x=\"686.734375\" xlink:href=\"#DejaVuSans-95\"/>\n       <use x=\"736.734375\" xlink:href=\"#DejaVuSans-112\"/>\n       <use x=\"800.210938\" xlink:href=\"#DejaVuSans-114\"/>\n       <use x=\"839.074219\" xlink:href=\"#DejaVuSans-111\"/>\n       <use x=\"900.255859\" xlink:href=\"#DejaVuSans-118\"/>\n       <use x=\"959.435547\" xlink:href=\"#DejaVuSans-105\"/>\n       <use x=\"987.21875\" xlink:href=\"#DejaVuSans-100\"/>\n       <use x=\"1050.695312\" xlink:href=\"#DejaVuSans-101\"/>\n       <use x=\"1112.21875\" xlink:href=\"#DejaVuSans-114\"/>\n       <use x=\"1153.332031\" xlink:href=\"#DejaVuSans-95\"/>\n       <use x=\"1203.332031\" xlink:href=\"#DejaVuSans-102\"/>\n       <use x=\"1238.537109\" xlink:href=\"#DejaVuSans-114\"/>\n       <use x=\"1279.650391\" xlink:href=\"#DejaVuSans-97\"/>\n       <use x=\"1340.929688\" xlink:href=\"#DejaVuSans-117\"/>\n       <use x=\"1404.308594\" xlink:href=\"#DejaVuSans-100\"/>\n       <use x=\"1467.785156\" xlink:href=\"#DejaVuSans-95\"/>\n       <use x=\"1517.785156\" xlink:href=\"#DejaVuSans-115\"/>\n       <use x=\"1569.884766\" xlink:href=\"#DejaVuSans-99\"/>\n       <use x=\"1624.865234\" xlink:href=\"#DejaVuSans-111\"/>\n       <use x=\"1686.046875\" xlink:href=\"#DejaVuSans-114\"/>\n       <use x=\"1724.910156\" xlink:href=\"#DejaVuSans-101\"/>\n      </g>\n     </g>\n    </g>\n    <g id=\"xtick_22\">\n     <g id=\"text_22\">\n      <!-- reported_income -->\n      <g style=\"fill:#262626;\" transform=\"translate(588.683113 451.132812)rotate(-90)scale(0.11 -0.11)\">\n       <use xlink:href=\"#DejaVuSans-114\"/>\n       <use x=\"38.863281\" xlink:href=\"#DejaVuSans-101\"/>\n       <use x=\"100.386719\" xlink:href=\"#DejaVuSans-112\"/>\n       <use x=\"163.863281\" xlink:href=\"#DejaVuSans-111\"/>\n       <use x=\"225.044922\" xlink:href=\"#DejaVuSans-114\"/>\n       <use x=\"266.158203\" xlink:href=\"#DejaVuSans-116\"/>\n       <use x=\"305.367188\" xlink:href=\"#DejaVuSans-101\"/>\n       <use x=\"366.890625\" xlink:href=\"#DejaVuSans-100\"/>\n       <use x=\"430.367188\" xlink:href=\"#DejaVuSans-95\"/>\n       <use x=\"480.367188\" xlink:href=\"#DejaVuSans-105\"/>\n       <use x=\"508.150391\" xlink:href=\"#DejaVuSans-110\"/>\n       <use x=\"571.529297\" xlink:href=\"#DejaVuSans-99\"/>\n       <use x=\"626.509766\" xlink:href=\"#DejaVuSans-111\"/>\n       <use x=\"687.691406\" xlink:href=\"#DejaVuSans-109\"/>\n       <use x=\"785.103516\" xlink:href=\"#DejaVuSans-101\"/>\n      </g>\n     </g>\n    </g>\n    <g id=\"xtick_23\">\n     <g id=\"text_23\">\n      <!-- score_1_encoded -->\n      <defs>\n       <path d=\"M 12.40625 8.296875 \nL 28.515625 8.296875 \nL 28.515625 63.921875 \nL 10.984375 60.40625 \nL 10.984375 69.390625 \nL 28.421875 72.90625 \nL 38.28125 72.90625 \nL 38.28125 8.296875 \nL 54.390625 8.296875 \nL 54.390625 0 \nL 12.40625 0 \nz\n\" id=\"DejaVuSans-49\"/>\n      </defs>\n      <g style=\"fill:#262626;\" transform=\"translate(602.418498 452.805156)rotate(-90)scale(0.11 -0.11)\">\n       <use xlink:href=\"#DejaVuSans-115\"/>\n       <use x=\"52.099609\" xlink:href=\"#DejaVuSans-99\"/>\n       <use x=\"107.080078\" xlink:href=\"#DejaVuSans-111\"/>\n       <use x=\"168.261719\" xlink:href=\"#DejaVuSans-114\"/>\n       <use x=\"207.125\" xlink:href=\"#DejaVuSans-101\"/>\n       <use x=\"268.648438\" xlink:href=\"#DejaVuSans-95\"/>\n       <use x=\"318.648438\" xlink:href=\"#DejaVuSans-49\"/>\n       <use x=\"382.271484\" xlink:href=\"#DejaVuSans-95\"/>\n       <use x=\"432.271484\" xlink:href=\"#DejaVuSans-101\"/>\n       <use x=\"493.794922\" xlink:href=\"#DejaVuSans-110\"/>\n       <use x=\"557.173828\" xlink:href=\"#DejaVuSans-99\"/>\n       <use x=\"612.154297\" xlink:href=\"#DejaVuSans-111\"/>\n       <use x=\"673.335938\" xlink:href=\"#DejaVuSans-100\"/>\n       <use x=\"736.8125\" xlink:href=\"#DejaVuSans-101\"/>\n       <use x=\"798.335938\" xlink:href=\"#DejaVuSans-100\"/>\n      </g>\n     </g>\n    </g>\n    <g id=\"xtick_24\">\n     <g id=\"text_24\">\n      <!-- score_2_encoded -->\n      <defs>\n       <path d=\"M 19.1875 8.296875 \nL 53.609375 8.296875 \nL 53.609375 0 \nL 7.328125 0 \nL 7.328125 8.296875 \nQ 12.9375 14.109375 22.625 23.890625 \nQ 32.328125 33.6875 34.8125 36.53125 \nQ 39.546875 41.84375 41.421875 45.53125 \nQ 43.3125 49.21875 43.3125 52.78125 \nQ 43.3125 58.59375 39.234375 62.25 \nQ 35.15625 65.921875 28.609375 65.921875 \nQ 23.96875 65.921875 18.8125 64.3125 \nQ 13.671875 62.703125 7.8125 59.421875 \nL 7.8125 69.390625 \nQ 13.765625 71.78125 18.9375 73 \nQ 24.125 74.21875 28.421875 74.21875 \nQ 39.75 74.21875 46.484375 68.546875 \nQ 53.21875 62.890625 53.21875 53.421875 \nQ 53.21875 48.921875 51.53125 44.890625 \nQ 49.859375 40.875 45.40625 35.40625 \nQ 44.1875 33.984375 37.640625 27.21875 \nQ 31.109375 20.453125 19.1875 8.296875 \nz\n\" id=\"DejaVuSans-50\"/>\n      </defs>\n      <g style=\"fill:#262626;\" transform=\"translate(616.153882 452.805156)rotate(-90)scale(0.11 -0.11)\">\n       <use xlink:href=\"#DejaVuSans-115\"/>\n       <use x=\"52.099609\" xlink:href=\"#DejaVuSans-99\"/>\n       <use x=\"107.080078\" xlink:href=\"#DejaVuSans-111\"/>\n       <use x=\"168.261719\" xlink:href=\"#DejaVuSans-114\"/>\n       <use x=\"207.125\" xlink:href=\"#DejaVuSans-101\"/>\n       <use x=\"268.648438\" xlink:href=\"#DejaVuSans-95\"/>\n       <use x=\"318.648438\" xlink:href=\"#DejaVuSans-50\"/>\n       <use x=\"382.271484\" xlink:href=\"#DejaVuSans-95\"/>\n       <use x=\"432.271484\" xlink:href=\"#DejaVuSans-101\"/>\n       <use x=\"493.794922\" xlink:href=\"#DejaVuSans-110\"/>\n       <use x=\"557.173828\" xlink:href=\"#DejaVuSans-99\"/>\n       <use x=\"612.154297\" xlink:href=\"#DejaVuSans-111\"/>\n       <use x=\"673.335938\" xlink:href=\"#DejaVuSans-100\"/>\n       <use x=\"736.8125\" xlink:href=\"#DejaVuSans-101\"/>\n       <use x=\"798.335938\" xlink:href=\"#DejaVuSans-100\"/>\n      </g>\n     </g>\n    </g>\n    <g id=\"xtick_25\">\n     <g id=\"text_25\">\n      <!-- state_encoded -->\n      <g style=\"fill:#262626;\" transform=\"translate(629.889267 438.618594)rotate(-90)scale(0.11 -0.11)\">\n       <use xlink:href=\"#DejaVuSans-115\"/>\n       <use x=\"52.099609\" xlink:href=\"#DejaVuSans-116\"/>\n       <use x=\"91.308594\" xlink:href=\"#DejaVuSans-97\"/>\n       <use x=\"152.587891\" xlink:href=\"#DejaVuSans-116\"/>\n       <use x=\"191.796875\" xlink:href=\"#DejaVuSans-101\"/>\n       <use x=\"253.320312\" xlink:href=\"#DejaVuSans-95\"/>\n       <use x=\"303.320312\" xlink:href=\"#DejaVuSans-101\"/>\n       <use x=\"364.84375\" xlink:href=\"#DejaVuSans-110\"/>\n       <use x=\"428.222656\" xlink:href=\"#DejaVuSans-99\"/>\n       <use x=\"483.203125\" xlink:href=\"#DejaVuSans-111\"/>\n       <use x=\"544.384766\" xlink:href=\"#DejaVuSans-100\"/>\n       <use x=\"607.861328\" xlink:href=\"#DejaVuSans-101\"/>\n       <use x=\"669.384766\" xlink:href=\"#DejaVuSans-100\"/>\n      </g>\n     </g>\n    </g>\n    <g id=\"xtick_26\">\n     <g id=\"text_26\">\n      <!-- real_state_encoded -->\n      <g style=\"fill:#262626;\" transform=\"translate(643.624651 464.958438)rotate(-90)scale(0.11 -0.11)\">\n       <use xlink:href=\"#DejaVuSans-114\"/>\n       <use x=\"38.863281\" xlink:href=\"#DejaVuSans-101\"/>\n       <use x=\"100.386719\" xlink:href=\"#DejaVuSans-97\"/>\n       <use x=\"161.666016\" xlink:href=\"#DejaVuSans-108\"/>\n       <use x=\"189.449219\" xlink:href=\"#DejaVuSans-95\"/>\n       <use x=\"239.449219\" xlink:href=\"#DejaVuSans-115\"/>\n       <use x=\"291.548828\" xlink:href=\"#DejaVuSans-116\"/>\n       <use x=\"330.757812\" xlink:href=\"#DejaVuSans-97\"/>\n       <use x=\"392.037109\" xlink:href=\"#DejaVuSans-116\"/>\n       <use x=\"431.246094\" xlink:href=\"#DejaVuSans-101\"/>\n       <use x=\"492.769531\" xlink:href=\"#DejaVuSans-95\"/>\n       <use x=\"542.769531\" xlink:href=\"#DejaVuSans-101\"/>\n       <use x=\"604.292969\" xlink:href=\"#DejaVuSans-110\"/>\n       <use x=\"667.671875\" xlink:href=\"#DejaVuSans-99\"/>\n       <use x=\"722.652344\" xlink:href=\"#DejaVuSans-111\"/>\n       <use x=\"783.833984\" xlink:href=\"#DejaVuSans-100\"/>\n       <use x=\"847.310547\" xlink:href=\"#DejaVuSans-101\"/>\n       <use x=\"908.833984\" xlink:href=\"#DejaVuSans-100\"/>\n      </g>\n     </g>\n    </g>\n   </g>\n   <g id=\"matplotlib.axis_2\">\n    <g id=\"ytick_1\">\n     <g id=\"text_27\">\n      <!-- target_default -->\n      <g style=\"fill:#262626;\" transform=\"translate(203.338594 32.792073)scale(0.11 -0.11)\">\n       <use xlink:href=\"#DejaVuSans-116\"/>\n       <use x=\"39.208984\" xlink:href=\"#DejaVuSans-97\"/>\n       <use x=\"100.488281\" xlink:href=\"#DejaVuSans-114\"/>\n       <use x=\"139.851562\" xlink:href=\"#DejaVuSans-103\"/>\n       <use x=\"203.328125\" xlink:href=\"#DejaVuSans-101\"/>\n       <use x=\"264.851562\" xlink:href=\"#DejaVuSans-116\"/>\n       <use x=\"304.060547\" xlink:href=\"#DejaVuSans-95\"/>\n       <use x=\"354.060547\" xlink:href=\"#DejaVuSans-100\"/>\n       <use x=\"417.537109\" xlink:href=\"#DejaVuSans-101\"/>\n       <use x=\"479.060547\" xlink:href=\"#DejaVuSans-102\"/>\n       <use x=\"514.265625\" xlink:href=\"#DejaVuSans-97\"/>\n       <use x=\"575.544922\" xlink:href=\"#DejaVuSans-117\"/>\n       <use x=\"638.923828\" xlink:href=\"#DejaVuSans-108\"/>\n       <use x=\"666.707031\" xlink:href=\"#DejaVuSans-116\"/>\n      </g>\n     </g>\n    </g>\n    <g id=\"ytick_2\">\n     <g id=\"text_28\">\n      <!-- score_3 -->\n      <g style=\"fill:#262626;\" transform=\"translate(238.939063 45.239579)scale(0.11 -0.11)\">\n       <use xlink:href=\"#DejaVuSans-115\"/>\n       <use x=\"52.099609\" xlink:href=\"#DejaVuSans-99\"/>\n       <use x=\"107.080078\" xlink:href=\"#DejaVuSans-111\"/>\n       <use x=\"168.261719\" xlink:href=\"#DejaVuSans-114\"/>\n       <use x=\"207.125\" xlink:href=\"#DejaVuSans-101\"/>\n       <use x=\"268.648438\" xlink:href=\"#DejaVuSans-95\"/>\n       <use x=\"318.648438\" xlink:href=\"#DejaVuSans-51\"/>\n      </g>\n     </g>\n    </g>\n    <g id=\"ytick_3\">\n     <g id=\"text_29\">\n      <!-- score_4 -->\n      <g style=\"fill:#262626;\" transform=\"translate(238.939063 57.728335)scale(0.11 -0.11)\">\n       <use xlink:href=\"#DejaVuSans-115\"/>\n       <use x=\"52.099609\" xlink:href=\"#DejaVuSans-99\"/>\n       <use x=\"107.080078\" xlink:href=\"#DejaVuSans-111\"/>\n       <use x=\"168.261719\" xlink:href=\"#DejaVuSans-114\"/>\n       <use x=\"207.125\" xlink:href=\"#DejaVuSans-101\"/>\n       <use x=\"268.648438\" xlink:href=\"#DejaVuSans-95\"/>\n       <use x=\"318.648438\" xlink:href=\"#DejaVuSans-52\"/>\n      </g>\n     </g>\n    </g>\n    <g id=\"ytick_4\">\n     <g id=\"text_30\">\n      <!-- score_5 -->\n      <g style=\"fill:#262626;\" transform=\"translate(238.939063 70.272951)scale(0.11 -0.11)\">\n       <use xlink:href=\"#DejaVuSans-115\"/>\n       <use x=\"52.099609\" xlink:href=\"#DejaVuSans-99\"/>\n       <use x=\"107.080078\" xlink:href=\"#DejaVuSans-111\"/>\n       <use x=\"168.261719\" xlink:href=\"#DejaVuSans-114\"/>\n       <use x=\"207.125\" xlink:href=\"#DejaVuSans-101\"/>\n       <use x=\"268.648438\" xlink:href=\"#DejaVuSans-95\"/>\n       <use x=\"318.648438\" xlink:href=\"#DejaVuSans-53\"/>\n      </g>\n     </g>\n    </g>\n    <g id=\"ytick_5\">\n     <g id=\"text_31\">\n      <!-- score_6 -->\n      <g style=\"fill:#262626;\" transform=\"translate(238.939063 82.873425)scale(0.11 -0.11)\">\n       <use xlink:href=\"#DejaVuSans-115\"/>\n       <use x=\"52.099609\" xlink:href=\"#DejaVuSans-99\"/>\n       <use x=\"107.080078\" xlink:href=\"#DejaVuSans-111\"/>\n       <use x=\"168.261719\" xlink:href=\"#DejaVuSans-114\"/>\n       <use x=\"207.125\" xlink:href=\"#DejaVuSans-101\"/>\n       <use x=\"268.648438\" xlink:href=\"#DejaVuSans-95\"/>\n       <use x=\"318.648438\" xlink:href=\"#DejaVuSans-54\"/>\n      </g>\n     </g>\n    </g>\n    <g id=\"ytick_6\">\n     <g id=\"text_32\">\n      <!-- risk_rate -->\n      <g style=\"fill:#262626;\" transform=\"translate(233.468281 95.51515)scale(0.11 -0.11)\">\n       <use xlink:href=\"#DejaVuSans-114\"/>\n       <use x=\"41.113281\" xlink:href=\"#DejaVuSans-105\"/>\n       <use x=\"68.896484\" xlink:href=\"#DejaVuSans-115\"/>\n       <use x=\"120.996094\" xlink:href=\"#DejaVuSans-107\"/>\n       <use x=\"178.90625\" xlink:href=\"#DejaVuSans-95\"/>\n       <use x=\"228.90625\" xlink:href=\"#DejaVuSans-114\"/>\n       <use x=\"270.019531\" xlink:href=\"#DejaVuSans-97\"/>\n       <use x=\"331.298828\" xlink:href=\"#DejaVuSans-116\"/>\n       <use x=\"370.507812\" xlink:href=\"#DejaVuSans-101\"/>\n      </g>\n     </g>\n    </g>\n    <g id=\"ytick_7\">\n     <g id=\"text_33\">\n      <!-- last_amount_borrowed -->\n      <g style=\"fill:#262626;\" transform=\"translate(155.913125 108.059766)scale(0.11 -0.11)\">\n       <use xlink:href=\"#DejaVuSans-108\"/>\n       <use x=\"27.783203\" xlink:href=\"#DejaVuSans-97\"/>\n       <use x=\"89.0625\" xlink:href=\"#DejaVuSans-115\"/>\n       <use x=\"141.162109\" xlink:href=\"#DejaVuSans-116\"/>\n       <use x=\"180.371094\" xlink:href=\"#DejaVuSans-95\"/>\n       <use x=\"230.371094\" xlink:href=\"#DejaVuSans-97\"/>\n       <use x=\"291.650391\" xlink:href=\"#DejaVuSans-109\"/>\n       <use x=\"389.0625\" xlink:href=\"#DejaVuSans-111\"/>\n       <use x=\"450.244141\" xlink:href=\"#DejaVuSans-117\"/>\n       <use x=\"513.623047\" xlink:href=\"#DejaVuSans-110\"/>\n       <use x=\"577.001953\" xlink:href=\"#DejaVuSans-116\"/>\n       <use x=\"616.210938\" xlink:href=\"#DejaVuSans-95\"/>\n       <use x=\"666.210938\" xlink:href=\"#DejaVuSans-98\"/>\n       <use x=\"729.6875\" xlink:href=\"#DejaVuSans-111\"/>\n       <use x=\"790.869141\" xlink:href=\"#DejaVuSans-114\"/>\n       <use x=\"830.232422\" xlink:href=\"#DejaVuSans-114\"/>\n       <use x=\"869.095703\" xlink:href=\"#DejaVuSans-111\"/>\n       <use x=\"930.277344\" xlink:href=\"#DejaVuSans-119\"/>\n       <use x=\"1012.064453\" xlink:href=\"#DejaVuSans-101\"/>\n       <use x=\"1073.587891\" xlink:href=\"#DejaVuSans-100\"/>\n      </g>\n     </g>\n    </g>\n    <g id=\"ytick_8\">\n     <g id=\"text_34\">\n      <!-- last_borrowed_in_months -->\n      <g style=\"fill:#262626;\" transform=\"translate(141.396563 120.604381)scale(0.11 -0.11)\">\n       <use xlink:href=\"#DejaVuSans-108\"/>\n       <use x=\"27.783203\" xlink:href=\"#DejaVuSans-97\"/>\n       <use x=\"89.0625\" xlink:href=\"#DejaVuSans-115\"/>\n       <use x=\"141.162109\" xlink:href=\"#DejaVuSans-116\"/>\n       <use x=\"180.371094\" xlink:href=\"#DejaVuSans-95\"/>\n       <use x=\"230.371094\" xlink:href=\"#DejaVuSans-98\"/>\n       <use x=\"293.847656\" xlink:href=\"#DejaVuSans-111\"/>\n       <use x=\"355.029297\" xlink:href=\"#DejaVuSans-114\"/>\n       <use x=\"394.392578\" xlink:href=\"#DejaVuSans-114\"/>\n       <use x=\"433.255859\" xlink:href=\"#DejaVuSans-111\"/>\n       <use x=\"494.4375\" xlink:href=\"#DejaVuSans-119\"/>\n       <use x=\"576.224609\" xlink:href=\"#DejaVuSans-101\"/>\n       <use x=\"637.748047\" xlink:href=\"#DejaVuSans-100\"/>\n       <use x=\"701.224609\" xlink:href=\"#DejaVuSans-95\"/>\n       <use x=\"751.224609\" xlink:href=\"#DejaVuSans-105\"/>\n       <use x=\"779.007812\" xlink:href=\"#DejaVuSans-110\"/>\n       <use x=\"842.386719\" xlink:href=\"#DejaVuSans-95\"/>\n       <use x=\"892.386719\" xlink:href=\"#DejaVuSans-109\"/>\n       <use x=\"989.798828\" xlink:href=\"#DejaVuSans-111\"/>\n       <use x=\"1050.980469\" xlink:href=\"#DejaVuSans-110\"/>\n       <use x=\"1114.359375\" xlink:href=\"#DejaVuSans-116\"/>\n       <use x=\"1153.568359\" xlink:href=\"#DejaVuSans-104\"/>\n       <use x=\"1216.947266\" xlink:href=\"#DejaVuSans-115\"/>\n      </g>\n     </g>\n    </g>\n    <g id=\"ytick_9\">\n     <g id=\"text_35\">\n      <!-- credit_limit -->\n      <g style=\"fill:#262626;\" transform=\"translate(219.852344 133.148996)scale(0.11 -0.11)\">\n       <use xlink:href=\"#DejaVuSans-99\"/>\n       <use x=\"54.980469\" xlink:href=\"#DejaVuSans-114\"/>\n       <use x=\"93.84375\" xlink:href=\"#DejaVuSans-101\"/>\n       <use x=\"155.367188\" xlink:href=\"#DejaVuSans-100\"/>\n       <use x=\"218.84375\" xlink:href=\"#DejaVuSans-105\"/>\n       <use x=\"246.626953\" xlink:href=\"#DejaVuSans-116\"/>\n       <use x=\"285.835938\" xlink:href=\"#DejaVuSans-95\"/>\n       <use x=\"335.835938\" xlink:href=\"#DejaVuSans-108\"/>\n       <use x=\"363.619141\" xlink:href=\"#DejaVuSans-105\"/>\n       <use x=\"391.402344\" xlink:href=\"#DejaVuSans-109\"/>\n       <use x=\"488.814453\" xlink:href=\"#DejaVuSans-105\"/>\n       <use x=\"516.597656\" xlink:href=\"#DejaVuSans-116\"/>\n      </g>\n     </g>\n    </g>\n    <g id=\"ytick_10\">\n     <g id=\"text_36\">\n      <!-- income -->\n      <g style=\"fill:#262626;\" transform=\"translate(240.700781 145.693612)scale(0.11 -0.11)\">\n       <use xlink:href=\"#DejaVuSans-105\"/>\n       <use x=\"27.783203\" xlink:href=\"#DejaVuSans-110\"/>\n       <use x=\"91.162109\" xlink:href=\"#DejaVuSans-99\"/>\n       <use x=\"146.142578\" xlink:href=\"#DejaVuSans-111\"/>\n       <use x=\"207.324219\" xlink:href=\"#DejaVuSans-109\"/>\n       <use x=\"304.736328\" xlink:href=\"#DejaVuSans-101\"/>\n      </g>\n     </g>\n    </g>\n    <g id=\"ytick_11\">\n     <g id=\"text_37\">\n      <!-- facebook_profile -->\n      <g style=\"fill:#262626;\" transform=\"translate(190.504687 158.238227)scale(0.11 -0.11)\">\n       <use xlink:href=\"#DejaVuSans-102\"/>\n       <use x=\"35.205078\" xlink:href=\"#DejaVuSans-97\"/>\n       <use x=\"96.484375\" xlink:href=\"#DejaVuSans-99\"/>\n       <use x=\"151.464844\" xlink:href=\"#DejaVuSans-101\"/>\n       <use x=\"212.988281\" xlink:href=\"#DejaVuSans-98\"/>\n       <use x=\"276.464844\" xlink:href=\"#DejaVuSans-111\"/>\n       <use x=\"337.646484\" xlink:href=\"#DejaVuSans-111\"/>\n       <use x=\"398.828125\" xlink:href=\"#DejaVuSans-107\"/>\n       <use x=\"456.738281\" xlink:href=\"#DejaVuSans-95\"/>\n       <use x=\"506.738281\" xlink:href=\"#DejaVuSans-112\"/>\n       <use x=\"570.214844\" xlink:href=\"#DejaVuSans-114\"/>\n       <use x=\"609.078125\" xlink:href=\"#DejaVuSans-111\"/>\n       <use x=\"670.259766\" xlink:href=\"#DejaVuSans-102\"/>\n       <use x=\"705.464844\" xlink:href=\"#DejaVuSans-105\"/>\n       <use x=\"733.248047\" xlink:href=\"#DejaVuSans-108\"/>\n       <use x=\"761.03125\" xlink:href=\"#DejaVuSans-101\"/>\n      </g>\n     </g>\n    </g>\n    <g id=\"ytick_12\">\n     <g id=\"text_38\">\n      <!-- ok_since -->\n      <g style=\"fill:#262626;\" transform=\"translate(233.815469 170.782843)scale(0.11 -0.11)\">\n       <use xlink:href=\"#DejaVuSans-111\"/>\n       <use x=\"61.181641\" xlink:href=\"#DejaVuSans-107\"/>\n       <use x=\"119.091797\" xlink:href=\"#DejaVuSans-95\"/>\n       <use x=\"169.091797\" xlink:href=\"#DejaVuSans-115\"/>\n       <use x=\"221.191406\" xlink:href=\"#DejaVuSans-105\"/>\n       <use x=\"248.974609\" xlink:href=\"#DejaVuSans-110\"/>\n       <use x=\"312.353516\" xlink:href=\"#DejaVuSans-99\"/>\n       <use x=\"367.333984\" xlink:href=\"#DejaVuSans-101\"/>\n      </g>\n     </g>\n    </g>\n    <g id=\"ytick_13\">\n     <g id=\"text_39\">\n      <!-- n_bankruptcies -->\n      <g style=\"fill:#262626;\" transform=\"translate(197.061719 183.327458)scale(0.11 -0.11)\">\n       <use xlink:href=\"#DejaVuSans-110\"/>\n       <use x=\"63.378906\" xlink:href=\"#DejaVuSans-95\"/>\n       <use x=\"113.378906\" xlink:href=\"#DejaVuSans-98\"/>\n       <use x=\"176.855469\" xlink:href=\"#DejaVuSans-97\"/>\n       <use x=\"238.134766\" xlink:href=\"#DejaVuSans-110\"/>\n       <use x=\"301.513672\" xlink:href=\"#DejaVuSans-107\"/>\n       <use x=\"359.423828\" xlink:href=\"#DejaVuSans-114\"/>\n       <use x=\"400.537109\" xlink:href=\"#DejaVuSans-117\"/>\n       <use x=\"463.916016\" xlink:href=\"#DejaVuSans-112\"/>\n       <use x=\"527.392578\" xlink:href=\"#DejaVuSans-116\"/>\n       <use x=\"566.601562\" xlink:href=\"#DejaVuSans-99\"/>\n       <use x=\"621.582031\" xlink:href=\"#DejaVuSans-105\"/>\n       <use x=\"649.365234\" xlink:href=\"#DejaVuSans-101\"/>\n       <use x=\"710.888672\" xlink:href=\"#DejaVuSans-115\"/>\n      </g>\n     </g>\n    </g>\n    <g id=\"ytick_14\">\n     <g id=\"text_40\">\n      <!-- n_defaulted_loans -->\n      <g style=\"fill:#262626;\" transform=\"translate(181.333438 195.872073)scale(0.11 -0.11)\">\n       <use xlink:href=\"#DejaVuSans-110\"/>\n       <use x=\"63.378906\" xlink:href=\"#DejaVuSans-95\"/>\n       <use x=\"113.378906\" xlink:href=\"#DejaVuSans-100\"/>\n       <use x=\"176.855469\" xlink:href=\"#DejaVuSans-101\"/>\n       <use x=\"238.378906\" xlink:href=\"#DejaVuSans-102\"/>\n       <use x=\"273.583984\" xlink:href=\"#DejaVuSans-97\"/>\n       <use x=\"334.863281\" xlink:href=\"#DejaVuSans-117\"/>\n       <use x=\"398.242188\" xlink:href=\"#DejaVuSans-108\"/>\n       <use x=\"426.025391\" xlink:href=\"#DejaVuSans-116\"/>\n       <use x=\"465.234375\" xlink:href=\"#DejaVuSans-101\"/>\n       <use x=\"526.757812\" xlink:href=\"#DejaVuSans-100\"/>\n       <use x=\"590.234375\" xlink:href=\"#DejaVuSans-95\"/>\n       <use x=\"640.234375\" xlink:href=\"#DejaVuSans-108\"/>\n       <use x=\"668.017578\" xlink:href=\"#DejaVuSans-111\"/>\n       <use x=\"729.199219\" xlink:href=\"#DejaVuSans-97\"/>\n       <use x=\"790.478516\" xlink:href=\"#DejaVuSans-110\"/>\n       <use x=\"853.857422\" xlink:href=\"#DejaVuSans-115\"/>\n      </g>\n     </g>\n    </g>\n    <g id=\"ytick_15\">\n     <g id=\"text_41\">\n      <!-- n_accounts -->\n      <g style=\"fill:#262626;\" transform=\"translate(218.965469 208.26372)scale(0.11 -0.11)\">\n       <use xlink:href=\"#DejaVuSans-110\"/>\n       <use x=\"63.378906\" xlink:href=\"#DejaVuSans-95\"/>\n       <use x=\"113.378906\" xlink:href=\"#DejaVuSans-97\"/>\n       <use x=\"174.658203\" xlink:href=\"#DejaVuSans-99\"/>\n       <use x=\"229.638672\" xlink:href=\"#DejaVuSans-99\"/>\n       <use x=\"284.619141\" xlink:href=\"#DejaVuSans-111\"/>\n       <use x=\"345.800781\" xlink:href=\"#DejaVuSans-117\"/>\n       <use x=\"409.179688\" xlink:href=\"#DejaVuSans-110\"/>\n       <use x=\"472.558594\" xlink:href=\"#DejaVuSans-116\"/>\n       <use x=\"511.767578\" xlink:href=\"#DejaVuSans-115\"/>\n      </g>\n     </g>\n    </g>\n    <g id=\"ytick_16\">\n     <g id=\"text_42\">\n      <!-- n_issues -->\n      <g style=\"fill:#262626;\" transform=\"translate(234.532188 220.961304)scale(0.11 -0.11)\">\n       <use xlink:href=\"#DejaVuSans-110\"/>\n       <use x=\"63.378906\" xlink:href=\"#DejaVuSans-95\"/>\n       <use x=\"113.378906\" xlink:href=\"#DejaVuSans-105\"/>\n       <use x=\"141.162109\" xlink:href=\"#DejaVuSans-115\"/>\n       <use x=\"193.261719\" xlink:href=\"#DejaVuSans-115\"/>\n       <use x=\"245.361328\" xlink:href=\"#DejaVuSans-117\"/>\n       <use x=\"308.740234\" xlink:href=\"#DejaVuSans-101\"/>\n       <use x=\"370.263672\" xlink:href=\"#DejaVuSans-115\"/>\n      </g>\n     </g>\n    </g>\n    <g id=\"ytick_17\">\n     <g id=\"text_43\">\n      <!-- application_time_in_funnel -->\n      <g style=\"fill:#262626;\" transform=\"translate(134.322188 233.505919)scale(0.11 -0.11)\">\n       <use xlink:href=\"#DejaVuSans-97\"/>\n       <use x=\"61.279297\" xlink:href=\"#DejaVuSans-112\"/>\n       <use x=\"124.755859\" xlink:href=\"#DejaVuSans-112\"/>\n       <use x=\"188.232422\" xlink:href=\"#DejaVuSans-108\"/>\n       <use x=\"216.015625\" xlink:href=\"#DejaVuSans-105\"/>\n       <use x=\"243.798828\" xlink:href=\"#DejaVuSans-99\"/>\n       <use x=\"298.779297\" xlink:href=\"#DejaVuSans-97\"/>\n       <use x=\"360.058594\" xlink:href=\"#DejaVuSans-116\"/>\n       <use x=\"399.267578\" xlink:href=\"#DejaVuSans-105\"/>\n       <use x=\"427.050781\" xlink:href=\"#DejaVuSans-111\"/>\n       <use x=\"488.232422\" xlink:href=\"#DejaVuSans-110\"/>\n       <use x=\"551.611328\" xlink:href=\"#DejaVuSans-95\"/>\n       <use x=\"601.611328\" xlink:href=\"#DejaVuSans-116\"/>\n       <use x=\"640.820312\" xlink:href=\"#DejaVuSans-105\"/>\n       <use x=\"668.603516\" xlink:href=\"#DejaVuSans-109\"/>\n       <use x=\"766.015625\" xlink:href=\"#DejaVuSans-101\"/>\n       <use x=\"827.539062\" xlink:href=\"#DejaVuSans-95\"/>\n       <use x=\"877.539062\" xlink:href=\"#DejaVuSans-105\"/>\n       <use x=\"905.322266\" xlink:href=\"#DejaVuSans-110\"/>\n       <use x=\"968.701172\" xlink:href=\"#DejaVuSans-95\"/>\n       <use x=\"1018.701172\" xlink:href=\"#DejaVuSans-102\"/>\n       <use x=\"1053.90625\" xlink:href=\"#DejaVuSans-117\"/>\n       <use x=\"1117.285156\" xlink:href=\"#DejaVuSans-110\"/>\n       <use x=\"1180.664062\" xlink:href=\"#DejaVuSans-110\"/>\n       <use x=\"1244.042969\" xlink:href=\"#DejaVuSans-101\"/>\n       <use x=\"1305.566406\" xlink:href=\"#DejaVuSans-108\"/>\n      </g>\n     </g>\n    </g>\n    <g id=\"ytick_18\">\n     <g id=\"text_44\">\n      <!-- external_data_provider_credit_checks_last_month -->\n      <g style=\"fill:#262626;\" transform=\"translate(7.2 246.050535)scale(0.11 -0.11)\">\n       <use xlink:href=\"#DejaVuSans-101\"/>\n       <use x=\"59.773438\" xlink:href=\"#DejaVuSans-120\"/>\n       <use x=\"118.953125\" xlink:href=\"#DejaVuSans-116\"/>\n       <use x=\"158.162109\" xlink:href=\"#DejaVuSans-101\"/>\n       <use x=\"219.685547\" xlink:href=\"#DejaVuSans-114\"/>\n       <use x=\"259.048828\" xlink:href=\"#DejaVuSans-110\"/>\n       <use x=\"322.427734\" xlink:href=\"#DejaVuSans-97\"/>\n       <use x=\"383.707031\" xlink:href=\"#DejaVuSans-108\"/>\n       <use x=\"411.490234\" xlink:href=\"#DejaVuSans-95\"/>\n       <use x=\"461.490234\" xlink:href=\"#DejaVuSans-100\"/>\n       <use x=\"524.966797\" xlink:href=\"#DejaVuSans-97\"/>\n       <use x=\"586.246094\" xlink:href=\"#DejaVuSans-116\"/>\n       <use x=\"625.455078\" xlink:href=\"#DejaVuSans-97\"/>\n       <use x=\"686.734375\" xlink:href=\"#DejaVuSans-95\"/>\n       <use x=\"736.734375\" xlink:href=\"#DejaVuSans-112\"/>\n       <use x=\"800.210938\" xlink:href=\"#DejaVuSans-114\"/>\n       <use x=\"839.074219\" xlink:href=\"#DejaVuSans-111\"/>\n       <use x=\"900.255859\" xlink:href=\"#DejaVuSans-118\"/>\n       <use x=\"959.435547\" xlink:href=\"#DejaVuSans-105\"/>\n       <use x=\"987.21875\" xlink:href=\"#DejaVuSans-100\"/>\n       <use x=\"1050.695312\" xlink:href=\"#DejaVuSans-101\"/>\n       <use x=\"1112.21875\" xlink:href=\"#DejaVuSans-114\"/>\n       <use x=\"1153.332031\" xlink:href=\"#DejaVuSans-95\"/>\n       <use x=\"1203.332031\" xlink:href=\"#DejaVuSans-99\"/>\n       <use x=\"1258.3125\" xlink:href=\"#DejaVuSans-114\"/>\n       <use x=\"1297.175781\" xlink:href=\"#DejaVuSans-101\"/>\n       <use x=\"1358.699219\" xlink:href=\"#DejaVuSans-100\"/>\n       <use x=\"1422.175781\" xlink:href=\"#DejaVuSans-105\"/>\n       <use x=\"1449.958984\" xlink:href=\"#DejaVuSans-116\"/>\n       <use x=\"1489.167969\" xlink:href=\"#DejaVuSans-95\"/>\n       <use x=\"1539.167969\" xlink:href=\"#DejaVuSans-99\"/>\n       <use x=\"1594.148438\" xlink:href=\"#DejaVuSans-104\"/>\n       <use x=\"1657.527344\" xlink:href=\"#DejaVuSans-101\"/>\n       <use x=\"1719.050781\" xlink:href=\"#DejaVuSans-99\"/>\n       <use x=\"1774.03125\" xlink:href=\"#DejaVuSans-107\"/>\n       <use x=\"1831.941406\" xlink:href=\"#DejaVuSans-115\"/>\n       <use x=\"1884.041016\" xlink:href=\"#DejaVuSans-95\"/>\n       <use x=\"1934.041016\" xlink:href=\"#DejaVuSans-108\"/>\n       <use x=\"1961.824219\" xlink:href=\"#DejaVuSans-97\"/>\n       <use x=\"2023.103516\" xlink:href=\"#DejaVuSans-115\"/>\n       <use x=\"2075.203125\" xlink:href=\"#DejaVuSans-116\"/>\n       <use x=\"2114.412109\" xlink:href=\"#DejaVuSans-95\"/>\n       <use x=\"2164.412109\" xlink:href=\"#DejaVuSans-109\"/>\n       <use x=\"2261.824219\" xlink:href=\"#DejaVuSans-111\"/>\n       <use x=\"2323.005859\" xlink:href=\"#DejaVuSans-110\"/>\n       <use x=\"2386.384766\" xlink:href=\"#DejaVuSans-116\"/>\n       <use x=\"2425.59375\" xlink:href=\"#DejaVuSans-104\"/>\n      </g>\n     </g>\n    </g>\n    <g id=\"ytick_19\">\n     <g id=\"text_45\">\n      <!-- external_data_provider_credit_checks_last_year -->\n      <g style=\"fill:#262626;\" transform=\"translate(18.358125 258.59515)scale(0.11 -0.11)\">\n       <use xlink:href=\"#DejaVuSans-101\"/>\n       <use x=\"59.773438\" xlink:href=\"#DejaVuSans-120\"/>\n       <use x=\"118.953125\" xlink:href=\"#DejaVuSans-116\"/>\n       <use x=\"158.162109\" xlink:href=\"#DejaVuSans-101\"/>\n       <use x=\"219.685547\" xlink:href=\"#DejaVuSans-114\"/>\n       <use x=\"259.048828\" xlink:href=\"#DejaVuSans-110\"/>\n       <use x=\"322.427734\" xlink:href=\"#DejaVuSans-97\"/>\n       <use x=\"383.707031\" xlink:href=\"#DejaVuSans-108\"/>\n       <use x=\"411.490234\" xlink:href=\"#DejaVuSans-95\"/>\n       <use x=\"461.490234\" xlink:href=\"#DejaVuSans-100\"/>\n       <use x=\"524.966797\" xlink:href=\"#DejaVuSans-97\"/>\n       <use x=\"586.246094\" xlink:href=\"#DejaVuSans-116\"/>\n       <use x=\"625.455078\" xlink:href=\"#DejaVuSans-97\"/>\n       <use x=\"686.734375\" xlink:href=\"#DejaVuSans-95\"/>\n       <use x=\"736.734375\" xlink:href=\"#DejaVuSans-112\"/>\n       <use x=\"800.210938\" xlink:href=\"#DejaVuSans-114\"/>\n       <use x=\"839.074219\" xlink:href=\"#DejaVuSans-111\"/>\n       <use x=\"900.255859\" xlink:href=\"#DejaVuSans-118\"/>\n       <use x=\"959.435547\" xlink:href=\"#DejaVuSans-105\"/>\n       <use x=\"987.21875\" xlink:href=\"#DejaVuSans-100\"/>\n       <use x=\"1050.695312\" xlink:href=\"#DejaVuSans-101\"/>\n       <use x=\"1112.21875\" xlink:href=\"#DejaVuSans-114\"/>\n       <use x=\"1153.332031\" xlink:href=\"#DejaVuSans-95\"/>\n       <use x=\"1203.332031\" xlink:href=\"#DejaVuSans-99\"/>\n       <use x=\"1258.3125\" xlink:href=\"#DejaVuSans-114\"/>\n       <use x=\"1297.175781\" xlink:href=\"#DejaVuSans-101\"/>\n       <use x=\"1358.699219\" xlink:href=\"#DejaVuSans-100\"/>\n       <use x=\"1422.175781\" xlink:href=\"#DejaVuSans-105\"/>\n       <use x=\"1449.958984\" xlink:href=\"#DejaVuSans-116\"/>\n       <use x=\"1489.167969\" xlink:href=\"#DejaVuSans-95\"/>\n       <use x=\"1539.167969\" xlink:href=\"#DejaVuSans-99\"/>\n       <use x=\"1594.148438\" xlink:href=\"#DejaVuSans-104\"/>\n       <use x=\"1657.527344\" xlink:href=\"#DejaVuSans-101\"/>\n       <use x=\"1719.050781\" xlink:href=\"#DejaVuSans-99\"/>\n       <use x=\"1774.03125\" xlink:href=\"#DejaVuSans-107\"/>\n       <use x=\"1831.941406\" xlink:href=\"#DejaVuSans-115\"/>\n       <use x=\"1884.041016\" xlink:href=\"#DejaVuSans-95\"/>\n       <use x=\"1934.041016\" xlink:href=\"#DejaVuSans-108\"/>\n       <use x=\"1961.824219\" xlink:href=\"#DejaVuSans-97\"/>\n       <use x=\"2023.103516\" xlink:href=\"#DejaVuSans-115\"/>\n       <use x=\"2075.203125\" xlink:href=\"#DejaVuSans-116\"/>\n       <use x=\"2114.412109\" xlink:href=\"#DejaVuSans-95\"/>\n       <use x=\"2164.412109\" xlink:href=\"#DejaVuSans-121\"/>\n       <use x=\"2223.591797\" xlink:href=\"#DejaVuSans-101\"/>\n       <use x=\"2285.115234\" xlink:href=\"#DejaVuSans-97\"/>\n       <use x=\"2346.394531\" xlink:href=\"#DejaVuSans-114\"/>\n      </g>\n     </g>\n    </g>\n    <g id=\"ytick_20\">\n     <g id=\"text_46\">\n      <!-- external_data_provider_email_seen_before -->\n      <g style=\"fill:#262626;\" transform=\"translate(45.646719 271.139766)scale(0.11 -0.11)\">\n       <use xlink:href=\"#DejaVuSans-101\"/>\n       <use x=\"59.773438\" xlink:href=\"#DejaVuSans-120\"/>\n       <use x=\"118.953125\" xlink:href=\"#DejaVuSans-116\"/>\n       <use x=\"158.162109\" xlink:href=\"#DejaVuSans-101\"/>\n       <use x=\"219.685547\" xlink:href=\"#DejaVuSans-114\"/>\n       <use x=\"259.048828\" xlink:href=\"#DejaVuSans-110\"/>\n       <use x=\"322.427734\" xlink:href=\"#DejaVuSans-97\"/>\n       <use x=\"383.707031\" xlink:href=\"#DejaVuSans-108\"/>\n       <use x=\"411.490234\" xlink:href=\"#DejaVuSans-95\"/>\n       <use x=\"461.490234\" xlink:href=\"#DejaVuSans-100\"/>\n       <use x=\"524.966797\" xlink:href=\"#DejaVuSans-97\"/>\n       <use x=\"586.246094\" xlink:href=\"#DejaVuSans-116\"/>\n       <use x=\"625.455078\" xlink:href=\"#DejaVuSans-97\"/>\n       <use x=\"686.734375\" xlink:href=\"#DejaVuSans-95\"/>\n       <use x=\"736.734375\" xlink:href=\"#DejaVuSans-112\"/>\n       <use x=\"800.210938\" xlink:href=\"#DejaVuSans-114\"/>\n       <use x=\"839.074219\" xlink:href=\"#DejaVuSans-111\"/>\n       <use x=\"900.255859\" xlink:href=\"#DejaVuSans-118\"/>\n       <use x=\"959.435547\" xlink:href=\"#DejaVuSans-105\"/>\n       <use x=\"987.21875\" xlink:href=\"#DejaVuSans-100\"/>\n       <use x=\"1050.695312\" xlink:href=\"#DejaVuSans-101\"/>\n       <use x=\"1112.21875\" xlink:href=\"#DejaVuSans-114\"/>\n       <use x=\"1153.332031\" xlink:href=\"#DejaVuSans-95\"/>\n       <use x=\"1203.332031\" xlink:href=\"#DejaVuSans-101\"/>\n       <use x=\"1264.855469\" xlink:href=\"#DejaVuSans-109\"/>\n       <use x=\"1362.267578\" xlink:href=\"#DejaVuSans-97\"/>\n       <use x=\"1423.546875\" xlink:href=\"#DejaVuSans-105\"/>\n       <use x=\"1451.330078\" xlink:href=\"#DejaVuSans-108\"/>\n       <use x=\"1479.113281\" xlink:href=\"#DejaVuSans-95\"/>\n       <use x=\"1529.113281\" xlink:href=\"#DejaVuSans-115\"/>\n       <use x=\"1581.212891\" xlink:href=\"#DejaVuSans-101\"/>\n       <use x=\"1642.736328\" xlink:href=\"#DejaVuSans-101\"/>\n       <use x=\"1704.259766\" xlink:href=\"#DejaVuSans-110\"/>\n       <use x=\"1767.638672\" xlink:href=\"#DejaVuSans-95\"/>\n       <use x=\"1817.638672\" xlink:href=\"#DejaVuSans-98\"/>\n       <use x=\"1881.115234\" xlink:href=\"#DejaVuSans-101\"/>\n       <use x=\"1942.638672\" xlink:href=\"#DejaVuSans-102\"/>\n       <use x=\"1977.84375\" xlink:href=\"#DejaVuSans-111\"/>\n       <use x=\"2039.025391\" xlink:href=\"#DejaVuSans-114\"/>\n       <use x=\"2077.888672\" xlink:href=\"#DejaVuSans-101\"/>\n      </g>\n     </g>\n    </g>\n    <g id=\"ytick_21\">\n     <g id=\"text_47\">\n      <!-- external_data_provider_fraud_score -->\n      <g style=\"fill:#262626;\" transform=\"translate(84.476719 283.684381)scale(0.11 -0.11)\">\n       <use xlink:href=\"#DejaVuSans-101\"/>\n       <use x=\"59.773438\" xlink:href=\"#DejaVuSans-120\"/>\n       <use x=\"118.953125\" xlink:href=\"#DejaVuSans-116\"/>\n       <use x=\"158.162109\" xlink:href=\"#DejaVuSans-101\"/>\n       <use x=\"219.685547\" xlink:href=\"#DejaVuSans-114\"/>\n       <use x=\"259.048828\" xlink:href=\"#DejaVuSans-110\"/>\n       <use x=\"322.427734\" xlink:href=\"#DejaVuSans-97\"/>\n       <use x=\"383.707031\" xlink:href=\"#DejaVuSans-108\"/>\n       <use x=\"411.490234\" xlink:href=\"#DejaVuSans-95\"/>\n       <use x=\"461.490234\" xlink:href=\"#DejaVuSans-100\"/>\n       <use x=\"524.966797\" xlink:href=\"#DejaVuSans-97\"/>\n       <use x=\"586.246094\" xlink:href=\"#DejaVuSans-116\"/>\n       <use x=\"625.455078\" xlink:href=\"#DejaVuSans-97\"/>\n       <use x=\"686.734375\" xlink:href=\"#DejaVuSans-95\"/>\n       <use x=\"736.734375\" xlink:href=\"#DejaVuSans-112\"/>\n       <use x=\"800.210938\" xlink:href=\"#DejaVuSans-114\"/>\n       <use x=\"839.074219\" xlink:href=\"#DejaVuSans-111\"/>\n       <use x=\"900.255859\" xlink:href=\"#DejaVuSans-118\"/>\n       <use x=\"959.435547\" xlink:href=\"#DejaVuSans-105\"/>\n       <use x=\"987.21875\" xlink:href=\"#DejaVuSans-100\"/>\n       <use x=\"1050.695312\" xlink:href=\"#DejaVuSans-101\"/>\n       <use x=\"1112.21875\" xlink:href=\"#DejaVuSans-114\"/>\n       <use x=\"1153.332031\" xlink:href=\"#DejaVuSans-95\"/>\n       <use x=\"1203.332031\" xlink:href=\"#DejaVuSans-102\"/>\n       <use x=\"1238.537109\" xlink:href=\"#DejaVuSans-114\"/>\n       <use x=\"1279.650391\" xlink:href=\"#DejaVuSans-97\"/>\n       <use x=\"1340.929688\" xlink:href=\"#DejaVuSans-117\"/>\n       <use x=\"1404.308594\" xlink:href=\"#DejaVuSans-100\"/>\n       <use x=\"1467.785156\" xlink:href=\"#DejaVuSans-95\"/>\n       <use x=\"1517.785156\" xlink:href=\"#DejaVuSans-115\"/>\n       <use x=\"1569.884766\" xlink:href=\"#DejaVuSans-99\"/>\n       <use x=\"1624.865234\" xlink:href=\"#DejaVuSans-111\"/>\n       <use x=\"1686.046875\" xlink:href=\"#DejaVuSans-114\"/>\n       <use x=\"1724.910156\" xlink:href=\"#DejaVuSans-101\"/>\n      </g>\n     </g>\n    </g>\n    <g id=\"ytick_22\">\n     <g id=\"text_48\">\n      <!-- reported_income -->\n      <g style=\"fill:#262626;\" transform=\"translate(187.857813 296.228996)scale(0.11 -0.11)\">\n       <use xlink:href=\"#DejaVuSans-114\"/>\n       <use x=\"38.863281\" xlink:href=\"#DejaVuSans-101\"/>\n       <use x=\"100.386719\" xlink:href=\"#DejaVuSans-112\"/>\n       <use x=\"163.863281\" xlink:href=\"#DejaVuSans-111\"/>\n       <use x=\"225.044922\" xlink:href=\"#DejaVuSans-114\"/>\n       <use x=\"266.158203\" xlink:href=\"#DejaVuSans-116\"/>\n       <use x=\"305.367188\" xlink:href=\"#DejaVuSans-101\"/>\n       <use x=\"366.890625\" xlink:href=\"#DejaVuSans-100\"/>\n       <use x=\"430.367188\" xlink:href=\"#DejaVuSans-95\"/>\n       <use x=\"480.367188\" xlink:href=\"#DejaVuSans-105\"/>\n       <use x=\"508.150391\" xlink:href=\"#DejaVuSans-110\"/>\n       <use x=\"571.529297\" xlink:href=\"#DejaVuSans-99\"/>\n       <use x=\"626.509766\" xlink:href=\"#DejaVuSans-111\"/>\n       <use x=\"687.691406\" xlink:href=\"#DejaVuSans-109\"/>\n       <use x=\"785.103516\" xlink:href=\"#DejaVuSans-101\"/>\n      </g>\n     </g>\n    </g>\n    <g id=\"ytick_23\">\n     <g id=\"text_49\">\n      <!-- score_1_encoded -->\n      <g style=\"fill:#262626;\" transform=\"translate(186.185469 308.773612)scale(0.11 -0.11)\">\n       <use xlink:href=\"#DejaVuSans-115\"/>\n       <use x=\"52.099609\" xlink:href=\"#DejaVuSans-99\"/>\n       <use x=\"107.080078\" xlink:href=\"#DejaVuSans-111\"/>\n       <use x=\"168.261719\" xlink:href=\"#DejaVuSans-114\"/>\n       <use x=\"207.125\" xlink:href=\"#DejaVuSans-101\"/>\n       <use x=\"268.648438\" xlink:href=\"#DejaVuSans-95\"/>\n       <use x=\"318.648438\" xlink:href=\"#DejaVuSans-49\"/>\n       <use x=\"382.271484\" xlink:href=\"#DejaVuSans-95\"/>\n       <use x=\"432.271484\" xlink:href=\"#DejaVuSans-101\"/>\n       <use x=\"493.794922\" xlink:href=\"#DejaVuSans-110\"/>\n       <use x=\"557.173828\" xlink:href=\"#DejaVuSans-99\"/>\n       <use x=\"612.154297\" xlink:href=\"#DejaVuSans-111\"/>\n       <use x=\"673.335938\" xlink:href=\"#DejaVuSans-100\"/>\n       <use x=\"736.8125\" xlink:href=\"#DejaVuSans-101\"/>\n       <use x=\"798.335938\" xlink:href=\"#DejaVuSans-100\"/>\n      </g>\n     </g>\n    </g>\n    <g id=\"ytick_24\">\n     <g id=\"text_50\">\n      <!-- score_2_encoded -->\n      <g style=\"fill:#262626;\" transform=\"translate(186.185469 321.318227)scale(0.11 -0.11)\">\n       <use xlink:href=\"#DejaVuSans-115\"/>\n       <use x=\"52.099609\" xlink:href=\"#DejaVuSans-99\"/>\n       <use x=\"107.080078\" xlink:href=\"#DejaVuSans-111\"/>\n       <use x=\"168.261719\" xlink:href=\"#DejaVuSans-114\"/>\n       <use x=\"207.125\" xlink:href=\"#DejaVuSans-101\"/>\n       <use x=\"268.648438\" xlink:href=\"#DejaVuSans-95\"/>\n       <use x=\"318.648438\" xlink:href=\"#DejaVuSans-50\"/>\n       <use x=\"382.271484\" xlink:href=\"#DejaVuSans-95\"/>\n       <use x=\"432.271484\" xlink:href=\"#DejaVuSans-101\"/>\n       <use x=\"493.794922\" xlink:href=\"#DejaVuSans-110\"/>\n       <use x=\"557.173828\" xlink:href=\"#DejaVuSans-99\"/>\n       <use x=\"612.154297\" xlink:href=\"#DejaVuSans-111\"/>\n       <use x=\"673.335938\" xlink:href=\"#DejaVuSans-100\"/>\n       <use x=\"736.8125\" xlink:href=\"#DejaVuSans-101\"/>\n       <use x=\"798.335938\" xlink:href=\"#DejaVuSans-100\"/>\n      </g>\n     </g>\n    </g>\n    <g id=\"ytick_25\">\n     <g id=\"text_51\">\n      <!-- state_encoded -->\n      <g style=\"fill:#262626;\" transform=\"translate(200.372031 333.862843)scale(0.11 -0.11)\">\n       <use xlink:href=\"#DejaVuSans-115\"/>\n       <use x=\"52.099609\" xlink:href=\"#DejaVuSans-116\"/>\n       <use x=\"91.308594\" xlink:href=\"#DejaVuSans-97\"/>\n       <use x=\"152.587891\" xlink:href=\"#DejaVuSans-116\"/>\n       <use x=\"191.796875\" xlink:href=\"#DejaVuSans-101\"/>\n       <use x=\"253.320312\" xlink:href=\"#DejaVuSans-95\"/>\n       <use x=\"303.320312\" xlink:href=\"#DejaVuSans-101\"/>\n       <use x=\"364.84375\" xlink:href=\"#DejaVuSans-110\"/>\n       <use x=\"428.222656\" xlink:href=\"#DejaVuSans-99\"/>\n       <use x=\"483.203125\" xlink:href=\"#DejaVuSans-111\"/>\n       <use x=\"544.384766\" xlink:href=\"#DejaVuSans-100\"/>\n       <use x=\"607.861328\" xlink:href=\"#DejaVuSans-101\"/>\n       <use x=\"669.384766\" xlink:href=\"#DejaVuSans-100\"/>\n      </g>\n     </g>\n    </g>\n    <g id=\"ytick_26\">\n     <g id=\"text_52\">\n      <!-- real_state_encoded -->\n      <g style=\"fill:#262626;\" transform=\"translate(174.032188 346.407458)scale(0.11 -0.11)\">\n       <use xlink:href=\"#DejaVuSans-114\"/>\n       <use x=\"38.863281\" xlink:href=\"#DejaVuSans-101\"/>\n       <use x=\"100.386719\" xlink:href=\"#DejaVuSans-97\"/>\n       <use x=\"161.666016\" xlink:href=\"#DejaVuSans-108\"/>\n       <use x=\"189.449219\" xlink:href=\"#DejaVuSans-95\"/>\n       <use x=\"239.449219\" xlink:href=\"#DejaVuSans-115\"/>\n       <use x=\"291.548828\" xlink:href=\"#DejaVuSans-116\"/>\n       <use x=\"330.757812\" xlink:href=\"#DejaVuSans-97\"/>\n       <use x=\"392.037109\" xlink:href=\"#DejaVuSans-116\"/>\n       <use x=\"431.246094\" xlink:href=\"#DejaVuSans-101\"/>\n       <use x=\"492.769531\" xlink:href=\"#DejaVuSans-95\"/>\n       <use x=\"542.769531\" xlink:href=\"#DejaVuSans-101\"/>\n       <use x=\"604.292969\" xlink:href=\"#DejaVuSans-110\"/>\n       <use x=\"667.671875\" xlink:href=\"#DejaVuSans-99\"/>\n       <use x=\"722.652344\" xlink:href=\"#DejaVuSans-111\"/>\n       <use x=\"783.833984\" xlink:href=\"#DejaVuSans-100\"/>\n       <use x=\"847.310547\" xlink:href=\"#DejaVuSans-101\"/>\n       <use x=\"908.833984\" xlink:href=\"#DejaVuSans-100\"/>\n      </g>\n     </g>\n    </g>\n   </g>\n   <g id=\"QuadMesh_1\">\n    <path clip-path=\"url(#p8d44442e96)\" d=\"M 290.49 22.340625 \nL 304.225385 22.340625 \nL 304.225385 34.88524 \nL 290.49 34.88524 \nL 290.49 22.340625 \n\" style=\"fill:none;\"/>\n    <path clip-path=\"url(#p8d44442e96)\" d=\"M 304.225385 22.340625 \nL 317.960769 22.340625 \nL 317.960769 34.88524 \nL 304.225385 34.88524 \nL 304.225385 22.340625 \n\" style=\"fill:none;\"/>\n    <path clip-path=\"url(#p8d44442e96)\" d=\"M 317.960769 22.340625 \nL 331.696154 22.340625 \nL 331.696154 34.88524 \nL 317.960769 34.88524 \nL 317.960769 22.340625 \n\" style=\"fill:none;\"/>\n    <path clip-path=\"url(#p8d44442e96)\" d=\"M 331.696154 22.340625 \nL 345.431538 22.340625 \nL 345.431538 34.88524 \nL 331.696154 34.88524 \nL 331.696154 22.340625 \n\" style=\"fill:none;\"/>\n    <path clip-path=\"url(#p8d44442e96)\" d=\"M 345.431538 22.340625 \nL 359.166923 22.340625 \nL 359.166923 34.88524 \nL 345.431538 34.88524 \nL 345.431538 22.340625 \n\" style=\"fill:none;\"/>\n    <path clip-path=\"url(#p8d44442e96)\" d=\"M 359.166923 22.340625 \nL 372.902308 22.340625 \nL 372.902308 34.88524 \nL 359.166923 34.88524 \nL 359.166923 22.340625 \n\" style=\"fill:none;\"/>\n    <path clip-path=\"url(#p8d44442e96)\" d=\"M 372.902308 22.340625 \nL 386.637692 22.340625 \nL 386.637692 34.88524 \nL 372.902308 34.88524 \nL 372.902308 22.340625 \n\" style=\"fill:none;\"/>\n    <path clip-path=\"url(#p8d44442e96)\" d=\"M 386.637692 22.340625 \nL 400.373077 22.340625 \nL 400.373077 34.88524 \nL 386.637692 34.88524 \nL 386.637692 22.340625 \n\" style=\"fill:none;\"/>\n    <path clip-path=\"url(#p8d44442e96)\" d=\"M 400.373077 22.340625 \nL 414.108462 22.340625 \nL 414.108462 34.88524 \nL 400.373077 34.88524 \nL 400.373077 22.340625 \n\" style=\"fill:none;\"/>\n    <path clip-path=\"url(#p8d44442e96)\" d=\"M 414.108462 22.340625 \nL 427.843846 22.340625 \nL 427.843846 34.88524 \nL 414.108462 34.88524 \nL 414.108462 22.340625 \n\" style=\"fill:none;\"/>\n    <path clip-path=\"url(#p8d44442e96)\" d=\"M 427.843846 22.340625 \nL 441.579231 22.340625 \nL 441.579231 34.88524 \nL 427.843846 34.88524 \nL 427.843846 22.340625 \n\" style=\"fill:none;\"/>\n    <path clip-path=\"url(#p8d44442e96)\" d=\"M 441.579231 22.340625 \nL 455.314615 22.340625 \nL 455.314615 34.88524 \nL 441.579231 34.88524 \nL 441.579231 22.340625 \n\" style=\"fill:none;\"/>\n    <path clip-path=\"url(#p8d44442e96)\" d=\"M 455.314615 22.340625 \nL 469.05 22.340625 \nL 469.05 34.88524 \nL 455.314615 34.88524 \nL 455.314615 22.340625 \n\" style=\"fill:none;\"/>\n    <path clip-path=\"url(#p8d44442e96)\" d=\"M 469.05 22.340625 \nL 482.785385 22.340625 \nL 482.785385 34.88524 \nL 469.05 34.88524 \nL 469.05 22.340625 \n\" style=\"fill:none;\"/>\n    <path clip-path=\"url(#p8d44442e96)\" d=\"M 482.785385 22.340625 \nL 496.520769 22.340625 \nL 496.520769 34.88524 \nL 482.785385 34.88524 \nL 482.785385 22.340625 \n\" style=\"fill:none;\"/>\n    <path clip-path=\"url(#p8d44442e96)\" d=\"M 496.520769 22.340625 \nL 510.256154 22.340625 \nL 510.256154 34.88524 \nL 496.520769 34.88524 \nL 496.520769 22.340625 \n\" style=\"fill:none;\"/>\n    <path clip-path=\"url(#p8d44442e96)\" d=\"M 510.256154 22.340625 \nL 523.991538 22.340625 \nL 523.991538 34.88524 \nL 510.256154 34.88524 \nL 510.256154 22.340625 \n\" style=\"fill:none;\"/>\n    <path clip-path=\"url(#p8d44442e96)\" d=\"M 523.991538 22.340625 \nL 537.726923 22.340625 \nL 537.726923 34.88524 \nL 523.991538 34.88524 \nL 523.991538 22.340625 \n\" style=\"fill:none;\"/>\n    <path clip-path=\"url(#p8d44442e96)\" d=\"M 537.726923 22.340625 \nL 551.462308 22.340625 \nL 551.462308 34.88524 \nL 537.726923 34.88524 \nL 537.726923 22.340625 \n\" style=\"fill:none;\"/>\n    <path clip-path=\"url(#p8d44442e96)\" d=\"M 551.462308 22.340625 \nL 565.197692 22.340625 \nL 565.197692 34.88524 \nL 551.462308 34.88524 \nL 551.462308 22.340625 \n\" style=\"fill:none;\"/>\n    <path clip-path=\"url(#p8d44442e96)\" d=\"M 565.197692 22.340625 \nL 578.933077 22.340625 \nL 578.933077 34.88524 \nL 565.197692 34.88524 \nL 565.197692 22.340625 \n\" style=\"fill:none;\"/>\n    <path clip-path=\"url(#p8d44442e96)\" d=\"M 578.933077 22.340625 \nL 592.668462 22.340625 \nL 592.668462 34.88524 \nL 578.933077 34.88524 \nL 578.933077 22.340625 \n\" style=\"fill:none;\"/>\n    <path clip-path=\"url(#p8d44442e96)\" d=\"M 592.668462 22.340625 \nL 606.403846 22.340625 \nL 606.403846 34.88524 \nL 592.668462 34.88524 \nL 592.668462 22.340625 \n\" style=\"fill:none;\"/>\n    <path clip-path=\"url(#p8d44442e96)\" d=\"M 606.403846 22.340625 \nL 620.139231 22.340625 \nL 620.139231 34.88524 \nL 606.403846 34.88524 \nL 606.403846 22.340625 \n\" style=\"fill:none;\"/>\n    <path clip-path=\"url(#p8d44442e96)\" d=\"M 620.139231 22.340625 \nL 633.874615 22.340625 \nL 633.874615 34.88524 \nL 620.139231 34.88524 \nL 620.139231 22.340625 \n\" style=\"fill:none;\"/>\n    <path clip-path=\"url(#p8d44442e96)\" d=\"M 633.874615 22.340625 \nL 647.61 22.340625 \nL 647.61 34.88524 \nL 633.874615 34.88524 \nL 633.874615 22.340625 \n\" style=\"fill:none;\"/>\n    <path clip-path=\"url(#p8d44442e96)\" d=\"M 290.49 34.88524 \nL 304.225385 34.88524 \nL 304.225385 47.429856 \nL 290.49 47.429856 \nL 290.49 34.88524 \n\" style=\"fill:#1e6db2;\"/>\n    <path clip-path=\"url(#p8d44442e96)\" d=\"M 304.225385 34.88524 \nL 317.960769 34.88524 \nL 317.960769 47.429856 \nL 304.225385 47.429856 \nL 304.225385 34.88524 \n\" style=\"fill:none;\"/>\n    <path clip-path=\"url(#p8d44442e96)\" d=\"M 317.960769 34.88524 \nL 331.696154 34.88524 \nL 331.696154 47.429856 \nL 317.960769 47.429856 \nL 317.960769 34.88524 \n\" style=\"fill:none;\"/>\n    <path clip-path=\"url(#p8d44442e96)\" d=\"M 331.696154 34.88524 \nL 345.431538 34.88524 \nL 345.431538 47.429856 \nL 331.696154 47.429856 \nL 331.696154 34.88524 \n\" style=\"fill:none;\"/>\n    <path clip-path=\"url(#p8d44442e96)\" d=\"M 345.431538 34.88524 \nL 359.166923 34.88524 \nL 359.166923 47.429856 \nL 345.431538 47.429856 \nL 345.431538 34.88524 \n\" style=\"fill:none;\"/>\n    <path clip-path=\"url(#p8d44442e96)\" d=\"M 359.166923 34.88524 \nL 372.902308 34.88524 \nL 372.902308 47.429856 \nL 359.166923 47.429856 \nL 359.166923 34.88524 \n\" style=\"fill:none;\"/>\n    <path clip-path=\"url(#p8d44442e96)\" d=\"M 372.902308 34.88524 \nL 386.637692 34.88524 \nL 386.637692 47.429856 \nL 372.902308 47.429856 \nL 372.902308 34.88524 \n\" style=\"fill:none;\"/>\n    <path clip-path=\"url(#p8d44442e96)\" d=\"M 386.637692 34.88524 \nL 400.373077 34.88524 \nL 400.373077 47.429856 \nL 386.637692 47.429856 \nL 386.637692 34.88524 \n\" style=\"fill:none;\"/>\n    <path clip-path=\"url(#p8d44442e96)\" d=\"M 400.373077 34.88524 \nL 414.108462 34.88524 \nL 414.108462 47.429856 \nL 400.373077 47.429856 \nL 400.373077 34.88524 \n\" style=\"fill:none;\"/>\n    <path clip-path=\"url(#p8d44442e96)\" d=\"M 414.108462 34.88524 \nL 427.843846 34.88524 \nL 427.843846 47.429856 \nL 414.108462 47.429856 \nL 414.108462 34.88524 \n\" style=\"fill:none;\"/>\n    <path clip-path=\"url(#p8d44442e96)\" d=\"M 427.843846 34.88524 \nL 441.579231 34.88524 \nL 441.579231 47.429856 \nL 427.843846 47.429856 \nL 427.843846 34.88524 \n\" style=\"fill:none;\"/>\n    <path clip-path=\"url(#p8d44442e96)\" d=\"M 441.579231 34.88524 \nL 455.314615 34.88524 \nL 455.314615 47.429856 \nL 441.579231 47.429856 \nL 441.579231 34.88524 \n\" style=\"fill:none;\"/>\n    <path clip-path=\"url(#p8d44442e96)\" d=\"M 455.314615 34.88524 \nL 469.05 34.88524 \nL 469.05 47.429856 \nL 455.314615 47.429856 \nL 455.314615 34.88524 \n\" style=\"fill:none;\"/>\n    <path clip-path=\"url(#p8d44442e96)\" d=\"M 469.05 34.88524 \nL 482.785385 34.88524 \nL 482.785385 47.429856 \nL 469.05 47.429856 \nL 469.05 34.88524 \n\" style=\"fill:none;\"/>\n    <path clip-path=\"url(#p8d44442e96)\" d=\"M 482.785385 34.88524 \nL 496.520769 34.88524 \nL 496.520769 47.429856 \nL 482.785385 47.429856 \nL 482.785385 34.88524 \n\" style=\"fill:none;\"/>\n    <path clip-path=\"url(#p8d44442e96)\" d=\"M 496.520769 34.88524 \nL 510.256154 34.88524 \nL 510.256154 47.429856 \nL 496.520769 47.429856 \nL 496.520769 34.88524 \n\" style=\"fill:none;\"/>\n    <path clip-path=\"url(#p8d44442e96)\" d=\"M 510.256154 34.88524 \nL 523.991538 34.88524 \nL 523.991538 47.429856 \nL 510.256154 47.429856 \nL 510.256154 34.88524 \n\" style=\"fill:none;\"/>\n    <path clip-path=\"url(#p8d44442e96)\" d=\"M 523.991538 34.88524 \nL 537.726923 34.88524 \nL 537.726923 47.429856 \nL 523.991538 47.429856 \nL 523.991538 34.88524 \n\" style=\"fill:none;\"/>\n    <path clip-path=\"url(#p8d44442e96)\" d=\"M 537.726923 34.88524 \nL 551.462308 34.88524 \nL 551.462308 47.429856 \nL 537.726923 47.429856 \nL 537.726923 34.88524 \n\" style=\"fill:none;\"/>\n    <path clip-path=\"url(#p8d44442e96)\" d=\"M 551.462308 34.88524 \nL 565.197692 34.88524 \nL 565.197692 47.429856 \nL 551.462308 47.429856 \nL 551.462308 34.88524 \n\" style=\"fill:none;\"/>\n    <path clip-path=\"url(#p8d44442e96)\" d=\"M 565.197692 34.88524 \nL 578.933077 34.88524 \nL 578.933077 47.429856 \nL 565.197692 47.429856 \nL 565.197692 34.88524 \n\" style=\"fill:none;\"/>\n    <path clip-path=\"url(#p8d44442e96)\" d=\"M 578.933077 34.88524 \nL 592.668462 34.88524 \nL 592.668462 47.429856 \nL 578.933077 47.429856 \nL 578.933077 34.88524 \n\" style=\"fill:none;\"/>\n    <path clip-path=\"url(#p8d44442e96)\" d=\"M 592.668462 34.88524 \nL 606.403846 34.88524 \nL 606.403846 47.429856 \nL 592.668462 47.429856 \nL 592.668462 34.88524 \n\" style=\"fill:none;\"/>\n    <path clip-path=\"url(#p8d44442e96)\" d=\"M 606.403846 34.88524 \nL 620.139231 34.88524 \nL 620.139231 47.429856 \nL 606.403846 47.429856 \nL 606.403846 34.88524 \n\" style=\"fill:none;\"/>\n    <path clip-path=\"url(#p8d44442e96)\" d=\"M 620.139231 34.88524 \nL 633.874615 34.88524 \nL 633.874615 47.429856 \nL 620.139231 47.429856 \nL 620.139231 34.88524 \n\" style=\"fill:none;\"/>\n    <path clip-path=\"url(#p8d44442e96)\" d=\"M 633.874615 34.88524 \nL 647.61 34.88524 \nL 647.61 47.429856 \nL 633.874615 47.429856 \nL 633.874615 34.88524 \n\" style=\"fill:none;\"/>\n    <path clip-path=\"url(#p8d44442e96)\" d=\"M 290.49 47.429856 \nL 304.225385 47.429856 \nL 304.225385 59.974471 \nL 290.49 59.974471 \nL 290.49 47.429856 \n\" style=\"fill:#1562a9;\"/>\n    <path clip-path=\"url(#p8d44442e96)\" d=\"M 304.225385 47.429856 \nL 317.960769 47.429856 \nL 317.960769 59.974471 \nL 304.225385 59.974471 \nL 304.225385 47.429856 \n\" style=\"fill:#1561a9;\"/>\n    <path clip-path=\"url(#p8d44442e96)\" d=\"M 317.960769 47.429856 \nL 331.696154 47.429856 \nL 331.696154 59.974471 \nL 317.960769 59.974471 \nL 317.960769 47.429856 \n\" style=\"fill:none;\"/>\n    <path clip-path=\"url(#p8d44442e96)\" d=\"M 331.696154 47.429856 \nL 345.431538 47.429856 \nL 345.431538 59.974471 \nL 331.696154 59.974471 \nL 331.696154 47.429856 \n\" style=\"fill:none;\"/>\n    <path clip-path=\"url(#p8d44442e96)\" d=\"M 345.431538 47.429856 \nL 359.166923 47.429856 \nL 359.166923 59.974471 \nL 345.431538 59.974471 \nL 345.431538 47.429856 \n\" style=\"fill:none;\"/>\n    <path clip-path=\"url(#p8d44442e96)\" d=\"M 359.166923 47.429856 \nL 372.902308 47.429856 \nL 372.902308 59.974471 \nL 359.166923 59.974471 \nL 359.166923 47.429856 \n\" style=\"fill:none;\"/>\n    <path clip-path=\"url(#p8d44442e96)\" d=\"M 372.902308 47.429856 \nL 386.637692 47.429856 \nL 386.637692 59.974471 \nL 372.902308 59.974471 \nL 372.902308 47.429856 \n\" style=\"fill:none;\"/>\n    <path clip-path=\"url(#p8d44442e96)\" d=\"M 386.637692 47.429856 \nL 400.373077 47.429856 \nL 400.373077 59.974471 \nL 386.637692 59.974471 \nL 386.637692 47.429856 \n\" style=\"fill:none;\"/>\n    <path clip-path=\"url(#p8d44442e96)\" d=\"M 400.373077 47.429856 \nL 414.108462 47.429856 \nL 414.108462 59.974471 \nL 400.373077 59.974471 \nL 400.373077 47.429856 \n\" style=\"fill:none;\"/>\n    <path clip-path=\"url(#p8d44442e96)\" d=\"M 414.108462 47.429856 \nL 427.843846 47.429856 \nL 427.843846 59.974471 \nL 414.108462 59.974471 \nL 414.108462 47.429856 \n\" style=\"fill:none;\"/>\n    <path clip-path=\"url(#p8d44442e96)\" d=\"M 427.843846 47.429856 \nL 441.579231 47.429856 \nL 441.579231 59.974471 \nL 427.843846 59.974471 \nL 427.843846 47.429856 \n\" style=\"fill:none;\"/>\n    <path clip-path=\"url(#p8d44442e96)\" d=\"M 441.579231 47.429856 \nL 455.314615 47.429856 \nL 455.314615 59.974471 \nL 441.579231 59.974471 \nL 441.579231 47.429856 \n\" style=\"fill:none;\"/>\n    <path clip-path=\"url(#p8d44442e96)\" d=\"M 455.314615 47.429856 \nL 469.05 47.429856 \nL 469.05 59.974471 \nL 455.314615 59.974471 \nL 455.314615 47.429856 \n\" style=\"fill:none;\"/>\n    <path clip-path=\"url(#p8d44442e96)\" d=\"M 469.05 47.429856 \nL 482.785385 47.429856 \nL 482.785385 59.974471 \nL 469.05 59.974471 \nL 469.05 47.429856 \n\" style=\"fill:none;\"/>\n    <path clip-path=\"url(#p8d44442e96)\" d=\"M 482.785385 47.429856 \nL 496.520769 47.429856 \nL 496.520769 59.974471 \nL 482.785385 59.974471 \nL 482.785385 47.429856 \n\" style=\"fill:none;\"/>\n    <path clip-path=\"url(#p8d44442e96)\" d=\"M 496.520769 47.429856 \nL 510.256154 47.429856 \nL 510.256154 59.974471 \nL 496.520769 59.974471 \nL 496.520769 47.429856 \n\" style=\"fill:none;\"/>\n    <path clip-path=\"url(#p8d44442e96)\" d=\"M 510.256154 47.429856 \nL 523.991538 47.429856 \nL 523.991538 59.974471 \nL 510.256154 59.974471 \nL 510.256154 47.429856 \n\" style=\"fill:none;\"/>\n    <path clip-path=\"url(#p8d44442e96)\" d=\"M 523.991538 47.429856 \nL 537.726923 47.429856 \nL 537.726923 59.974471 \nL 523.991538 59.974471 \nL 523.991538 47.429856 \n\" style=\"fill:none;\"/>\n    <path clip-path=\"url(#p8d44442e96)\" d=\"M 537.726923 47.429856 \nL 551.462308 47.429856 \nL 551.462308 59.974471 \nL 537.726923 59.974471 \nL 537.726923 47.429856 \n\" style=\"fill:none;\"/>\n    <path clip-path=\"url(#p8d44442e96)\" d=\"M 551.462308 47.429856 \nL 565.197692 47.429856 \nL 565.197692 59.974471 \nL 551.462308 59.974471 \nL 551.462308 47.429856 \n\" style=\"fill:none;\"/>\n    <path clip-path=\"url(#p8d44442e96)\" d=\"M 565.197692 47.429856 \nL 578.933077 47.429856 \nL 578.933077 59.974471 \nL 565.197692 59.974471 \nL 565.197692 47.429856 \n\" style=\"fill:none;\"/>\n    <path clip-path=\"url(#p8d44442e96)\" d=\"M 578.933077 47.429856 \nL 592.668462 47.429856 \nL 592.668462 59.974471 \nL 578.933077 59.974471 \nL 578.933077 47.429856 \n\" style=\"fill:none;\"/>\n    <path clip-path=\"url(#p8d44442e96)\" d=\"M 592.668462 47.429856 \nL 606.403846 47.429856 \nL 606.403846 59.974471 \nL 592.668462 59.974471 \nL 592.668462 47.429856 \n\" style=\"fill:none;\"/>\n    <path clip-path=\"url(#p8d44442e96)\" d=\"M 606.403846 47.429856 \nL 620.139231 47.429856 \nL 620.139231 59.974471 \nL 606.403846 59.974471 \nL 606.403846 47.429856 \n\" style=\"fill:none;\"/>\n    <path clip-path=\"url(#p8d44442e96)\" d=\"M 620.139231 47.429856 \nL 633.874615 47.429856 \nL 633.874615 59.974471 \nL 620.139231 59.974471 \nL 620.139231 47.429856 \n\" style=\"fill:none;\"/>\n    <path clip-path=\"url(#p8d44442e96)\" d=\"M 633.874615 47.429856 \nL 647.61 47.429856 \nL 647.61 59.974471 \nL 633.874615 59.974471 \nL 633.874615 47.429856 \n\" style=\"fill:none;\"/>\n    <path clip-path=\"url(#p8d44442e96)\" d=\"M 290.49 59.974471 \nL 304.225385 59.974471 \nL 304.225385 72.519087 \nL 290.49 72.519087 \nL 290.49 59.974471 \n\" style=\"fill:#1561a9;\"/>\n    <path clip-path=\"url(#p8d44442e96)\" d=\"M 304.225385 59.974471 \nL 317.960769 59.974471 \nL 317.960769 72.519087 \nL 304.225385 72.519087 \nL 304.225385 59.974471 \n\" style=\"fill:#1562a9;\"/>\n    <path clip-path=\"url(#p8d44442e96)\" d=\"M 317.960769 59.974471 \nL 331.696154 59.974471 \nL 331.696154 72.519087 \nL 317.960769 72.519087 \nL 317.960769 59.974471 \n\" style=\"fill:#1764ab;\"/>\n    <path clip-path=\"url(#p8d44442e96)\" d=\"M 331.696154 59.974471 \nL 345.431538 59.974471 \nL 345.431538 72.519087 \nL 331.696154 72.519087 \nL 331.696154 59.974471 \n\" style=\"fill:none;\"/>\n    <path clip-path=\"url(#p8d44442e96)\" d=\"M 345.431538 59.974471 \nL 359.166923 59.974471 \nL 359.166923 72.519087 \nL 345.431538 72.519087 \nL 345.431538 59.974471 \n\" style=\"fill:none;\"/>\n    <path clip-path=\"url(#p8d44442e96)\" d=\"M 359.166923 59.974471 \nL 372.902308 59.974471 \nL 372.902308 72.519087 \nL 359.166923 72.519087 \nL 359.166923 59.974471 \n\" style=\"fill:none;\"/>\n    <path clip-path=\"url(#p8d44442e96)\" d=\"M 372.902308 59.974471 \nL 386.637692 59.974471 \nL 386.637692 72.519087 \nL 372.902308 72.519087 \nL 372.902308 59.974471 \n\" style=\"fill:none;\"/>\n    <path clip-path=\"url(#p8d44442e96)\" d=\"M 386.637692 59.974471 \nL 400.373077 59.974471 \nL 400.373077 72.519087 \nL 386.637692 72.519087 \nL 386.637692 59.974471 \n\" style=\"fill:none;\"/>\n    <path clip-path=\"url(#p8d44442e96)\" d=\"M 400.373077 59.974471 \nL 414.108462 59.974471 \nL 414.108462 72.519087 \nL 400.373077 72.519087 \nL 400.373077 59.974471 \n\" style=\"fill:none;\"/>\n    <path clip-path=\"url(#p8d44442e96)\" d=\"M 414.108462 59.974471 \nL 427.843846 59.974471 \nL 427.843846 72.519087 \nL 414.108462 72.519087 \nL 414.108462 59.974471 \n\" style=\"fill:none;\"/>\n    <path clip-path=\"url(#p8d44442e96)\" d=\"M 427.843846 59.974471 \nL 441.579231 59.974471 \nL 441.579231 72.519087 \nL 427.843846 72.519087 \nL 427.843846 59.974471 \n\" style=\"fill:none;\"/>\n    <path clip-path=\"url(#p8d44442e96)\" d=\"M 441.579231 59.974471 \nL 455.314615 59.974471 \nL 455.314615 72.519087 \nL 441.579231 72.519087 \nL 441.579231 59.974471 \n\" style=\"fill:none;\"/>\n    <path clip-path=\"url(#p8d44442e96)\" d=\"M 455.314615 59.974471 \nL 469.05 59.974471 \nL 469.05 72.519087 \nL 455.314615 72.519087 \nL 455.314615 59.974471 \n\" style=\"fill:none;\"/>\n    <path clip-path=\"url(#p8d44442e96)\" d=\"M 469.05 59.974471 \nL 482.785385 59.974471 \nL 482.785385 72.519087 \nL 469.05 72.519087 \nL 469.05 59.974471 \n\" style=\"fill:none;\"/>\n    <path clip-path=\"url(#p8d44442e96)\" d=\"M 482.785385 59.974471 \nL 496.520769 59.974471 \nL 496.520769 72.519087 \nL 482.785385 72.519087 \nL 482.785385 59.974471 \n\" style=\"fill:none;\"/>\n    <path clip-path=\"url(#p8d44442e96)\" d=\"M 496.520769 59.974471 \nL 510.256154 59.974471 \nL 510.256154 72.519087 \nL 496.520769 72.519087 \nL 496.520769 59.974471 \n\" style=\"fill:none;\"/>\n    <path clip-path=\"url(#p8d44442e96)\" d=\"M 510.256154 59.974471 \nL 523.991538 59.974471 \nL 523.991538 72.519087 \nL 510.256154 72.519087 \nL 510.256154 59.974471 \n\" style=\"fill:none;\"/>\n    <path clip-path=\"url(#p8d44442e96)\" d=\"M 523.991538 59.974471 \nL 537.726923 59.974471 \nL 537.726923 72.519087 \nL 523.991538 72.519087 \nL 523.991538 59.974471 \n\" style=\"fill:none;\"/>\n    <path clip-path=\"url(#p8d44442e96)\" d=\"M 537.726923 59.974471 \nL 551.462308 59.974471 \nL 551.462308 72.519087 \nL 537.726923 72.519087 \nL 537.726923 59.974471 \n\" style=\"fill:none;\"/>\n    <path clip-path=\"url(#p8d44442e96)\" d=\"M 551.462308 59.974471 \nL 565.197692 59.974471 \nL 565.197692 72.519087 \nL 551.462308 72.519087 \nL 551.462308 59.974471 \n\" style=\"fill:none;\"/>\n    <path clip-path=\"url(#p8d44442e96)\" d=\"M 565.197692 59.974471 \nL 578.933077 59.974471 \nL 578.933077 72.519087 \nL 565.197692 72.519087 \nL 565.197692 59.974471 \n\" style=\"fill:none;\"/>\n    <path clip-path=\"url(#p8d44442e96)\" d=\"M 578.933077 59.974471 \nL 592.668462 59.974471 \nL 592.668462 72.519087 \nL 578.933077 72.519087 \nL 578.933077 59.974471 \n\" style=\"fill:none;\"/>\n    <path clip-path=\"url(#p8d44442e96)\" d=\"M 592.668462 59.974471 \nL 606.403846 59.974471 \nL 606.403846 72.519087 \nL 592.668462 72.519087 \nL 592.668462 59.974471 \n\" style=\"fill:none;\"/>\n    <path clip-path=\"url(#p8d44442e96)\" d=\"M 606.403846 59.974471 \nL 620.139231 59.974471 \nL 620.139231 72.519087 \nL 606.403846 72.519087 \nL 606.403846 59.974471 \n\" style=\"fill:none;\"/>\n    <path clip-path=\"url(#p8d44442e96)\" d=\"M 620.139231 59.974471 \nL 633.874615 59.974471 \nL 633.874615 72.519087 \nL 620.139231 72.519087 \nL 620.139231 59.974471 \n\" style=\"fill:none;\"/>\n    <path clip-path=\"url(#p8d44442e96)\" d=\"M 633.874615 59.974471 \nL 647.61 59.974471 \nL 647.61 72.519087 \nL 633.874615 72.519087 \nL 633.874615 59.974471 \n\" style=\"fill:none;\"/>\n    <path clip-path=\"url(#p8d44442e96)\" d=\"M 290.49 72.519087 \nL 304.225385 72.519087 \nL 304.225385 85.063702 \nL 290.49 85.063702 \nL 290.49 72.519087 \n\" style=\"fill:#1561a9;\"/>\n    <path clip-path=\"url(#p8d44442e96)\" d=\"M 304.225385 72.519087 \nL 317.960769 72.519087 \nL 317.960769 85.063702 \nL 304.225385 85.063702 \nL 304.225385 72.519087 \n\" style=\"fill:#1561a9;\"/>\n    <path clip-path=\"url(#p8d44442e96)\" d=\"M 317.960769 72.519087 \nL 331.696154 72.519087 \nL 331.696154 85.063702 \nL 317.960769 85.063702 \nL 317.960769 72.519087 \n\" style=\"fill:#1663aa;\"/>\n    <path clip-path=\"url(#p8d44442e96)\" d=\"M 331.696154 72.519087 \nL 345.431538 72.519087 \nL 345.431538 85.063702 \nL 331.696154 85.063702 \nL 331.696154 72.519087 \n\" style=\"fill:#1663aa;\"/>\n    <path clip-path=\"url(#p8d44442e96)\" d=\"M 345.431538 72.519087 \nL 359.166923 72.519087 \nL 359.166923 85.063702 \nL 345.431538 85.063702 \nL 345.431538 72.519087 \n\" style=\"fill:none;\"/>\n    <path clip-path=\"url(#p8d44442e96)\" d=\"M 359.166923 72.519087 \nL 372.902308 72.519087 \nL 372.902308 85.063702 \nL 359.166923 85.063702 \nL 359.166923 72.519087 \n\" style=\"fill:none;\"/>\n    <path clip-path=\"url(#p8d44442e96)\" d=\"M 372.902308 72.519087 \nL 386.637692 72.519087 \nL 386.637692 85.063702 \nL 372.902308 85.063702 \nL 372.902308 72.519087 \n\" style=\"fill:none;\"/>\n    <path clip-path=\"url(#p8d44442e96)\" d=\"M 386.637692 72.519087 \nL 400.373077 72.519087 \nL 400.373077 85.063702 \nL 386.637692 85.063702 \nL 386.637692 72.519087 \n\" style=\"fill:none;\"/>\n    <path clip-path=\"url(#p8d44442e96)\" d=\"M 400.373077 72.519087 \nL 414.108462 72.519087 \nL 414.108462 85.063702 \nL 400.373077 85.063702 \nL 400.373077 72.519087 \n\" style=\"fill:none;\"/>\n    <path clip-path=\"url(#p8d44442e96)\" d=\"M 414.108462 72.519087 \nL 427.843846 72.519087 \nL 427.843846 85.063702 \nL 414.108462 85.063702 \nL 414.108462 72.519087 \n\" style=\"fill:none;\"/>\n    <path clip-path=\"url(#p8d44442e96)\" d=\"M 427.843846 72.519087 \nL 441.579231 72.519087 \nL 441.579231 85.063702 \nL 427.843846 85.063702 \nL 427.843846 72.519087 \n\" style=\"fill:none;\"/>\n    <path clip-path=\"url(#p8d44442e96)\" d=\"M 441.579231 72.519087 \nL 455.314615 72.519087 \nL 455.314615 85.063702 \nL 441.579231 85.063702 \nL 441.579231 72.519087 \n\" style=\"fill:none;\"/>\n    <path clip-path=\"url(#p8d44442e96)\" d=\"M 455.314615 72.519087 \nL 469.05 72.519087 \nL 469.05 85.063702 \nL 455.314615 85.063702 \nL 455.314615 72.519087 \n\" style=\"fill:none;\"/>\n    <path clip-path=\"url(#p8d44442e96)\" d=\"M 469.05 72.519087 \nL 482.785385 72.519087 \nL 482.785385 85.063702 \nL 469.05 85.063702 \nL 469.05 72.519087 \n\" style=\"fill:none;\"/>\n    <path clip-path=\"url(#p8d44442e96)\" d=\"M 482.785385 72.519087 \nL 496.520769 72.519087 \nL 496.520769 85.063702 \nL 482.785385 85.063702 \nL 482.785385 72.519087 \n\" style=\"fill:none;\"/>\n    <path clip-path=\"url(#p8d44442e96)\" d=\"M 496.520769 72.519087 \nL 510.256154 72.519087 \nL 510.256154 85.063702 \nL 496.520769 85.063702 \nL 496.520769 72.519087 \n\" style=\"fill:none;\"/>\n    <path clip-path=\"url(#p8d44442e96)\" d=\"M 510.256154 72.519087 \nL 523.991538 72.519087 \nL 523.991538 85.063702 \nL 510.256154 85.063702 \nL 510.256154 72.519087 \n\" style=\"fill:none;\"/>\n    <path clip-path=\"url(#p8d44442e96)\" d=\"M 523.991538 72.519087 \nL 537.726923 72.519087 \nL 537.726923 85.063702 \nL 523.991538 85.063702 \nL 523.991538 72.519087 \n\" style=\"fill:none;\"/>\n    <path clip-path=\"url(#p8d44442e96)\" d=\"M 537.726923 72.519087 \nL 551.462308 72.519087 \nL 551.462308 85.063702 \nL 537.726923 85.063702 \nL 537.726923 72.519087 \n\" style=\"fill:none;\"/>\n    <path clip-path=\"url(#p8d44442e96)\" d=\"M 551.462308 72.519087 \nL 565.197692 72.519087 \nL 565.197692 85.063702 \nL 551.462308 85.063702 \nL 551.462308 72.519087 \n\" style=\"fill:none;\"/>\n    <path clip-path=\"url(#p8d44442e96)\" d=\"M 565.197692 72.519087 \nL 578.933077 72.519087 \nL 578.933077 85.063702 \nL 565.197692 85.063702 \nL 565.197692 72.519087 \n\" style=\"fill:none;\"/>\n    <path clip-path=\"url(#p8d44442e96)\" d=\"M 578.933077 72.519087 \nL 592.668462 72.519087 \nL 592.668462 85.063702 \nL 578.933077 85.063702 \nL 578.933077 72.519087 \n\" style=\"fill:none;\"/>\n    <path clip-path=\"url(#p8d44442e96)\" d=\"M 592.668462 72.519087 \nL 606.403846 72.519087 \nL 606.403846 85.063702 \nL 592.668462 85.063702 \nL 592.668462 72.519087 \n\" style=\"fill:none;\"/>\n    <path clip-path=\"url(#p8d44442e96)\" d=\"M 606.403846 72.519087 \nL 620.139231 72.519087 \nL 620.139231 85.063702 \nL 606.403846 85.063702 \nL 606.403846 72.519087 \n\" style=\"fill:none;\"/>\n    <path clip-path=\"url(#p8d44442e96)\" d=\"M 620.139231 72.519087 \nL 633.874615 72.519087 \nL 633.874615 85.063702 \nL 620.139231 85.063702 \nL 620.139231 72.519087 \n\" style=\"fill:none;\"/>\n    <path clip-path=\"url(#p8d44442e96)\" d=\"M 633.874615 72.519087 \nL 647.61 72.519087 \nL 647.61 85.063702 \nL 633.874615 85.063702 \nL 633.874615 72.519087 \n\" style=\"fill:none;\"/>\n    <path clip-path=\"url(#p8d44442e96)\" d=\"M 290.49 85.063702 \nL 304.225385 85.063702 \nL 304.225385 97.608317 \nL 290.49 97.608317 \nL 290.49 85.063702 \n\" style=\"fill:#2b7bba;\"/>\n    <path clip-path=\"url(#p8d44442e96)\" d=\"M 304.225385 85.063702 \nL 317.960769 85.063702 \nL 317.960769 97.608317 \nL 304.225385 97.608317 \nL 304.225385 85.063702 \n\" style=\"fill:#1e6db2;\"/>\n    <path clip-path=\"url(#p8d44442e96)\" d=\"M 317.960769 85.063702 \nL 331.696154 85.063702 \nL 331.696154 97.608317 \nL 317.960769 97.608317 \nL 317.960769 85.063702 \n\" style=\"fill:#1460a8;\"/>\n    <path clip-path=\"url(#p8d44442e96)\" d=\"M 331.696154 85.063702 \nL 345.431538 85.063702 \nL 345.431538 97.608317 \nL 331.696154 97.608317 \nL 331.696154 85.063702 \n\" style=\"fill:#1562a9;\"/>\n    <path clip-path=\"url(#p8d44442e96)\" d=\"M 345.431538 85.063702 \nL 359.166923 85.063702 \nL 359.166923 97.608317 \nL 345.431538 97.608317 \nL 345.431538 85.063702 \n\" style=\"fill:#1663aa;\"/>\n    <path clip-path=\"url(#p8d44442e96)\" d=\"M 359.166923 85.063702 \nL 372.902308 85.063702 \nL 372.902308 97.608317 \nL 359.166923 97.608317 \nL 359.166923 85.063702 \n\" style=\"fill:none;\"/>\n    <path clip-path=\"url(#p8d44442e96)\" d=\"M 372.902308 85.063702 \nL 386.637692 85.063702 \nL 386.637692 97.608317 \nL 372.902308 97.608317 \nL 372.902308 85.063702 \n\" style=\"fill:none;\"/>\n    <path clip-path=\"url(#p8d44442e96)\" d=\"M 386.637692 85.063702 \nL 400.373077 85.063702 \nL 400.373077 97.608317 \nL 386.637692 97.608317 \nL 386.637692 85.063702 \n\" style=\"fill:none;\"/>\n    <path clip-path=\"url(#p8d44442e96)\" d=\"M 400.373077 85.063702 \nL 414.108462 85.063702 \nL 414.108462 97.608317 \nL 400.373077 97.608317 \nL 400.373077 85.063702 \n\" style=\"fill:none;\"/>\n    <path clip-path=\"url(#p8d44442e96)\" d=\"M 414.108462 85.063702 \nL 427.843846 85.063702 \nL 427.843846 97.608317 \nL 414.108462 97.608317 \nL 414.108462 85.063702 \n\" style=\"fill:none;\"/>\n    <path clip-path=\"url(#p8d44442e96)\" d=\"M 427.843846 85.063702 \nL 441.579231 85.063702 \nL 441.579231 97.608317 \nL 427.843846 97.608317 \nL 427.843846 85.063702 \n\" style=\"fill:none;\"/>\n    <path clip-path=\"url(#p8d44442e96)\" d=\"M 441.579231 85.063702 \nL 455.314615 85.063702 \nL 455.314615 97.608317 \nL 441.579231 97.608317 \nL 441.579231 85.063702 \n\" style=\"fill:none;\"/>\n    <path clip-path=\"url(#p8d44442e96)\" d=\"M 455.314615 85.063702 \nL 469.05 85.063702 \nL 469.05 97.608317 \nL 455.314615 97.608317 \nL 455.314615 85.063702 \n\" style=\"fill:none;\"/>\n    <path clip-path=\"url(#p8d44442e96)\" d=\"M 469.05 85.063702 \nL 482.785385 85.063702 \nL 482.785385 97.608317 \nL 469.05 97.608317 \nL 469.05 85.063702 \n\" style=\"fill:none;\"/>\n    <path clip-path=\"url(#p8d44442e96)\" d=\"M 482.785385 85.063702 \nL 496.520769 85.063702 \nL 496.520769 97.608317 \nL 482.785385 97.608317 \nL 482.785385 85.063702 \n\" style=\"fill:none;\"/>\n    <path clip-path=\"url(#p8d44442e96)\" d=\"M 496.520769 85.063702 \nL 510.256154 85.063702 \nL 510.256154 97.608317 \nL 496.520769 97.608317 \nL 496.520769 85.063702 \n\" style=\"fill:none;\"/>\n    <path clip-path=\"url(#p8d44442e96)\" d=\"M 510.256154 85.063702 \nL 523.991538 85.063702 \nL 523.991538 97.608317 \nL 510.256154 97.608317 \nL 510.256154 85.063702 \n\" style=\"fill:none;\"/>\n    <path clip-path=\"url(#p8d44442e96)\" d=\"M 523.991538 85.063702 \nL 537.726923 85.063702 \nL 537.726923 97.608317 \nL 523.991538 97.608317 \nL 523.991538 85.063702 \n\" style=\"fill:none;\"/>\n    <path clip-path=\"url(#p8d44442e96)\" d=\"M 537.726923 85.063702 \nL 551.462308 85.063702 \nL 551.462308 97.608317 \nL 537.726923 97.608317 \nL 537.726923 85.063702 \n\" style=\"fill:none;\"/>\n    <path clip-path=\"url(#p8d44442e96)\" d=\"M 551.462308 85.063702 \nL 565.197692 85.063702 \nL 565.197692 97.608317 \nL 551.462308 97.608317 \nL 551.462308 85.063702 \n\" style=\"fill:none;\"/>\n    <path clip-path=\"url(#p8d44442e96)\" d=\"M 565.197692 85.063702 \nL 578.933077 85.063702 \nL 578.933077 97.608317 \nL 565.197692 97.608317 \nL 565.197692 85.063702 \n\" style=\"fill:none;\"/>\n    <path clip-path=\"url(#p8d44442e96)\" d=\"M 578.933077 85.063702 \nL 592.668462 85.063702 \nL 592.668462 97.608317 \nL 578.933077 97.608317 \nL 578.933077 85.063702 \n\" style=\"fill:none;\"/>\n    <path clip-path=\"url(#p8d44442e96)\" d=\"M 592.668462 85.063702 \nL 606.403846 85.063702 \nL 606.403846 97.608317 \nL 592.668462 97.608317 \nL 592.668462 85.063702 \n\" style=\"fill:none;\"/>\n    <path clip-path=\"url(#p8d44442e96)\" d=\"M 606.403846 85.063702 \nL 620.139231 85.063702 \nL 620.139231 97.608317 \nL 606.403846 97.608317 \nL 606.403846 85.063702 \n\" style=\"fill:none;\"/>\n    <path clip-path=\"url(#p8d44442e96)\" d=\"M 620.139231 85.063702 \nL 633.874615 85.063702 \nL 633.874615 97.608317 \nL 620.139231 97.608317 \nL 620.139231 85.063702 \n\" style=\"fill:none;\"/>\n    <path clip-path=\"url(#p8d44442e96)\" d=\"M 633.874615 85.063702 \nL 647.61 85.063702 \nL 647.61 97.608317 \nL 633.874615 97.608317 \nL 633.874615 85.063702 \n\" style=\"fill:none;\"/>\n    <path clip-path=\"url(#p8d44442e96)\" d=\"M 290.49 97.608317 \nL 304.225385 97.608317 \nL 304.225385 110.152933 \nL 290.49 110.152933 \nL 290.49 97.608317 \n\" style=\"fill:#1966ad;\"/>\n    <path clip-path=\"url(#p8d44442e96)\" d=\"M 304.225385 97.608317 \nL 317.960769 97.608317 \nL 317.960769 110.152933 \nL 304.225385 110.152933 \nL 304.225385 97.608317 \n\" style=\"fill:#1865ac;\"/>\n    <path clip-path=\"url(#p8d44442e96)\" d=\"M 317.960769 97.608317 \nL 331.696154 97.608317 \nL 331.696154 110.152933 \nL 317.960769 110.152933 \nL 317.960769 97.608317 \n\" style=\"fill:#1663aa;\"/>\n    <path clip-path=\"url(#p8d44442e96)\" d=\"M 331.696154 97.608317 \nL 345.431538 97.608317 \nL 345.431538 110.152933 \nL 331.696154 110.152933 \nL 331.696154 97.608317 \n\" style=\"fill:#1460a8;\"/>\n    <path clip-path=\"url(#p8d44442e96)\" d=\"M 345.431538 97.608317 \nL 359.166923 97.608317 \nL 359.166923 110.152933 \nL 345.431538 110.152933 \nL 345.431538 97.608317 \n\" style=\"fill:#1663aa;\"/>\n    <path clip-path=\"url(#p8d44442e96)\" d=\"M 359.166923 97.608317 \nL 372.902308 97.608317 \nL 372.902308 110.152933 \nL 359.166923 110.152933 \nL 359.166923 97.608317 \n\" style=\"fill:#1a68ae;\"/>\n    <path clip-path=\"url(#p8d44442e96)\" d=\"M 372.902308 97.608317 \nL 386.637692 97.608317 \nL 386.637692 110.152933 \nL 372.902308 110.152933 \nL 372.902308 97.608317 \n\" style=\"fill:none;\"/>\n    <path clip-path=\"url(#p8d44442e96)\" d=\"M 386.637692 97.608317 \nL 400.373077 97.608317 \nL 400.373077 110.152933 \nL 386.637692 110.152933 \nL 386.637692 97.608317 \n\" style=\"fill:none;\"/>\n    <path clip-path=\"url(#p8d44442e96)\" d=\"M 400.373077 97.608317 \nL 414.108462 97.608317 \nL 414.108462 110.152933 \nL 400.373077 110.152933 \nL 400.373077 97.608317 \n\" style=\"fill:none;\"/>\n    <path clip-path=\"url(#p8d44442e96)\" d=\"M 414.108462 97.608317 \nL 427.843846 97.608317 \nL 427.843846 110.152933 \nL 414.108462 110.152933 \nL 414.108462 97.608317 \n\" style=\"fill:none;\"/>\n    <path clip-path=\"url(#p8d44442e96)\" d=\"M 427.843846 97.608317 \nL 441.579231 97.608317 \nL 441.579231 110.152933 \nL 427.843846 110.152933 \nL 427.843846 97.608317 \n\" style=\"fill:none;\"/>\n    <path clip-path=\"url(#p8d44442e96)\" d=\"M 441.579231 97.608317 \nL 455.314615 97.608317 \nL 455.314615 110.152933 \nL 441.579231 110.152933 \nL 441.579231 97.608317 \n\" style=\"fill:none;\"/>\n    <path clip-path=\"url(#p8d44442e96)\" d=\"M 455.314615 97.608317 \nL 469.05 97.608317 \nL 469.05 110.152933 \nL 455.314615 110.152933 \nL 455.314615 97.608317 \n\" style=\"fill:none;\"/>\n    <path clip-path=\"url(#p8d44442e96)\" d=\"M 469.05 97.608317 \nL 482.785385 97.608317 \nL 482.785385 110.152933 \nL 469.05 110.152933 \nL 469.05 97.608317 \n\" style=\"fill:none;\"/>\n    <path clip-path=\"url(#p8d44442e96)\" d=\"M 482.785385 97.608317 \nL 496.520769 97.608317 \nL 496.520769 110.152933 \nL 482.785385 110.152933 \nL 482.785385 97.608317 \n\" style=\"fill:none;\"/>\n    <path clip-path=\"url(#p8d44442e96)\" d=\"M 496.520769 97.608317 \nL 510.256154 97.608317 \nL 510.256154 110.152933 \nL 496.520769 110.152933 \nL 496.520769 97.608317 \n\" style=\"fill:none;\"/>\n    <path clip-path=\"url(#p8d44442e96)\" d=\"M 510.256154 97.608317 \nL 523.991538 97.608317 \nL 523.991538 110.152933 \nL 510.256154 110.152933 \nL 510.256154 97.608317 \n\" style=\"fill:none;\"/>\n    <path clip-path=\"url(#p8d44442e96)\" d=\"M 523.991538 97.608317 \nL 537.726923 97.608317 \nL 537.726923 110.152933 \nL 523.991538 110.152933 \nL 523.991538 97.608317 \n\" style=\"fill:none;\"/>\n    <path clip-path=\"url(#p8d44442e96)\" d=\"M 537.726923 97.608317 \nL 551.462308 97.608317 \nL 551.462308 110.152933 \nL 537.726923 110.152933 \nL 537.726923 97.608317 \n\" style=\"fill:none;\"/>\n    <path clip-path=\"url(#p8d44442e96)\" d=\"M 551.462308 97.608317 \nL 565.197692 97.608317 \nL 565.197692 110.152933 \nL 551.462308 110.152933 \nL 551.462308 97.608317 \n\" style=\"fill:none;\"/>\n    <path clip-path=\"url(#p8d44442e96)\" d=\"M 565.197692 97.608317 \nL 578.933077 97.608317 \nL 578.933077 110.152933 \nL 565.197692 110.152933 \nL 565.197692 97.608317 \n\" style=\"fill:none;\"/>\n    <path clip-path=\"url(#p8d44442e96)\" d=\"M 578.933077 97.608317 \nL 592.668462 97.608317 \nL 592.668462 110.152933 \nL 578.933077 110.152933 \nL 578.933077 97.608317 \n\" style=\"fill:none;\"/>\n    <path clip-path=\"url(#p8d44442e96)\" d=\"M 592.668462 97.608317 \nL 606.403846 97.608317 \nL 606.403846 110.152933 \nL 592.668462 110.152933 \nL 592.668462 97.608317 \n\" style=\"fill:none;\"/>\n    <path clip-path=\"url(#p8d44442e96)\" d=\"M 606.403846 97.608317 \nL 620.139231 97.608317 \nL 620.139231 110.152933 \nL 606.403846 110.152933 \nL 606.403846 97.608317 \n\" style=\"fill:none;\"/>\n    <path clip-path=\"url(#p8d44442e96)\" d=\"M 620.139231 97.608317 \nL 633.874615 97.608317 \nL 633.874615 110.152933 \nL 620.139231 110.152933 \nL 620.139231 97.608317 \n\" style=\"fill:none;\"/>\n    <path clip-path=\"url(#p8d44442e96)\" d=\"M 633.874615 97.608317 \nL 647.61 97.608317 \nL 647.61 110.152933 \nL 633.874615 110.152933 \nL 633.874615 97.608317 \n\" style=\"fill:none;\"/>\n    <path clip-path=\"url(#p8d44442e96)\" d=\"M 290.49 110.152933 \nL 304.225385 110.152933 \nL 304.225385 122.697548 \nL 290.49 122.697548 \nL 290.49 110.152933 \n\" style=\"fill:#1967ad;\"/>\n    <path clip-path=\"url(#p8d44442e96)\" d=\"M 304.225385 110.152933 \nL 317.960769 110.152933 \nL 317.960769 122.697548 \nL 304.225385 122.697548 \nL 304.225385 110.152933 \n\" style=\"fill:#1764ab;\"/>\n    <path clip-path=\"url(#p8d44442e96)\" d=\"M 317.960769 110.152933 \nL 331.696154 110.152933 \nL 331.696154 122.697548 \nL 317.960769 122.697548 \nL 317.960769 110.152933 \n\" style=\"fill:#1562a9;\"/>\n    <path clip-path=\"url(#p8d44442e96)\" d=\"M 331.696154 110.152933 \nL 345.431538 110.152933 \nL 345.431538 122.697548 \nL 331.696154 122.697548 \nL 331.696154 110.152933 \n\" style=\"fill:#1460a8;\"/>\n    <path clip-path=\"url(#p8d44442e96)\" d=\"M 345.431538 110.152933 \nL 359.166923 110.152933 \nL 359.166923 122.697548 \nL 345.431538 122.697548 \nL 345.431538 110.152933 \n\" style=\"fill:#1562a9;\"/>\n    <path clip-path=\"url(#p8d44442e96)\" d=\"M 359.166923 110.152933 \nL 372.902308 110.152933 \nL 372.902308 122.697548 \nL 359.166923 122.697548 \nL 359.166923 110.152933 \n\" style=\"fill:#1a68ae;\"/>\n    <path clip-path=\"url(#p8d44442e96)\" d=\"M 372.902308 110.152933 \nL 386.637692 110.152933 \nL 386.637692 122.697548 \nL 372.902308 122.697548 \nL 372.902308 110.152933 \n\" style=\"fill:#f7fbff;\"/>\n    <path clip-path=\"url(#p8d44442e96)\" d=\"M 386.637692 110.152933 \nL 400.373077 110.152933 \nL 400.373077 122.697548 \nL 386.637692 122.697548 \nL 386.637692 110.152933 \n\" style=\"fill:none;\"/>\n    <path clip-path=\"url(#p8d44442e96)\" d=\"M 400.373077 110.152933 \nL 414.108462 110.152933 \nL 414.108462 122.697548 \nL 400.373077 122.697548 \nL 400.373077 110.152933 \n\" style=\"fill:none;\"/>\n    <path clip-path=\"url(#p8d44442e96)\" d=\"M 414.108462 110.152933 \nL 427.843846 110.152933 \nL 427.843846 122.697548 \nL 414.108462 122.697548 \nL 414.108462 110.152933 \n\" style=\"fill:none;\"/>\n    <path clip-path=\"url(#p8d44442e96)\" d=\"M 427.843846 110.152933 \nL 441.579231 110.152933 \nL 441.579231 122.697548 \nL 427.843846 122.697548 \nL 427.843846 110.152933 \n\" style=\"fill:none;\"/>\n    <path clip-path=\"url(#p8d44442e96)\" d=\"M 441.579231 110.152933 \nL 455.314615 110.152933 \nL 455.314615 122.697548 \nL 441.579231 122.697548 \nL 441.579231 110.152933 \n\" style=\"fill:none;\"/>\n    <path clip-path=\"url(#p8d44442e96)\" d=\"M 455.314615 110.152933 \nL 469.05 110.152933 \nL 469.05 122.697548 \nL 455.314615 122.697548 \nL 455.314615 110.152933 \n\" style=\"fill:none;\"/>\n    <path clip-path=\"url(#p8d44442e96)\" d=\"M 469.05 110.152933 \nL 482.785385 110.152933 \nL 482.785385 122.697548 \nL 469.05 122.697548 \nL 469.05 110.152933 \n\" style=\"fill:none;\"/>\n    <path clip-path=\"url(#p8d44442e96)\" d=\"M 482.785385 110.152933 \nL 496.520769 110.152933 \nL 496.520769 122.697548 \nL 482.785385 122.697548 \nL 482.785385 110.152933 \n\" style=\"fill:none;\"/>\n    <path clip-path=\"url(#p8d44442e96)\" d=\"M 496.520769 110.152933 \nL 510.256154 110.152933 \nL 510.256154 122.697548 \nL 496.520769 122.697548 \nL 496.520769 110.152933 \n\" style=\"fill:none;\"/>\n    <path clip-path=\"url(#p8d44442e96)\" d=\"M 510.256154 110.152933 \nL 523.991538 110.152933 \nL 523.991538 122.697548 \nL 510.256154 122.697548 \nL 510.256154 110.152933 \n\" style=\"fill:none;\"/>\n    <path clip-path=\"url(#p8d44442e96)\" d=\"M 523.991538 110.152933 \nL 537.726923 110.152933 \nL 537.726923 122.697548 \nL 523.991538 122.697548 \nL 523.991538 110.152933 \n\" style=\"fill:none;\"/>\n    <path clip-path=\"url(#p8d44442e96)\" d=\"M 537.726923 110.152933 \nL 551.462308 110.152933 \nL 551.462308 122.697548 \nL 537.726923 122.697548 \nL 537.726923 110.152933 \n\" style=\"fill:none;\"/>\n    <path clip-path=\"url(#p8d44442e96)\" d=\"M 551.462308 110.152933 \nL 565.197692 110.152933 \nL 565.197692 122.697548 \nL 551.462308 122.697548 \nL 551.462308 110.152933 \n\" style=\"fill:none;\"/>\n    <path clip-path=\"url(#p8d44442e96)\" d=\"M 565.197692 110.152933 \nL 578.933077 110.152933 \nL 578.933077 122.697548 \nL 565.197692 122.697548 \nL 565.197692 110.152933 \n\" style=\"fill:none;\"/>\n    <path clip-path=\"url(#p8d44442e96)\" d=\"M 578.933077 110.152933 \nL 592.668462 110.152933 \nL 592.668462 122.697548 \nL 578.933077 122.697548 \nL 578.933077 110.152933 \n\" style=\"fill:none;\"/>\n    <path clip-path=\"url(#p8d44442e96)\" d=\"M 592.668462 110.152933 \nL 606.403846 110.152933 \nL 606.403846 122.697548 \nL 592.668462 122.697548 \nL 592.668462 110.152933 \n\" style=\"fill:none;\"/>\n    <path clip-path=\"url(#p8d44442e96)\" d=\"M 606.403846 110.152933 \nL 620.139231 110.152933 \nL 620.139231 122.697548 \nL 606.403846 122.697548 \nL 606.403846 110.152933 \n\" style=\"fill:none;\"/>\n    <path clip-path=\"url(#p8d44442e96)\" d=\"M 620.139231 110.152933 \nL 633.874615 110.152933 \nL 633.874615 122.697548 \nL 620.139231 122.697548 \nL 620.139231 110.152933 \n\" style=\"fill:none;\"/>\n    <path clip-path=\"url(#p8d44442e96)\" d=\"M 633.874615 110.152933 \nL 647.61 110.152933 \nL 647.61 122.697548 \nL 633.874615 122.697548 \nL 633.874615 110.152933 \n\" style=\"fill:none;\"/>\n    <path clip-path=\"url(#p8d44442e96)\" d=\"M 290.49 122.697548 \nL 304.225385 122.697548 \nL 304.225385 135.242163 \nL 290.49 135.242163 \nL 290.49 122.697548 \n\" style=\"fill:#1460a8;\"/>\n    <path clip-path=\"url(#p8d44442e96)\" d=\"M 304.225385 122.697548 \nL 317.960769 122.697548 \nL 317.960769 135.242163 \nL 304.225385 135.242163 \nL 304.225385 122.697548 \n\" style=\"fill:#4695c8;\"/>\n    <path clip-path=\"url(#p8d44442e96)\" d=\"M 317.960769 122.697548 \nL 331.696154 122.697548 \nL 331.696154 135.242163 \nL 317.960769 135.242163 \nL 317.960769 122.697548 \n\" style=\"fill:#1562a9;\"/>\n    <path clip-path=\"url(#p8d44442e96)\" d=\"M 331.696154 122.697548 \nL 345.431538 122.697548 \nL 345.431538 135.242163 \nL 331.696154 135.242163 \nL 331.696154 122.697548 \n\" style=\"fill:#1663aa;\"/>\n    <path clip-path=\"url(#p8d44442e96)\" d=\"M 345.431538 122.697548 \nL 359.166923 122.697548 \nL 359.166923 135.242163 \nL 345.431538 135.242163 \nL 345.431538 122.697548 \n\" style=\"fill:#1764ab;\"/>\n    <path clip-path=\"url(#p8d44442e96)\" d=\"M 359.166923 122.697548 \nL 372.902308 122.697548 \nL 372.902308 135.242163 \nL 359.166923 135.242163 \nL 359.166923 122.697548 \n\" style=\"fill:#1764ab;\"/>\n    <path clip-path=\"url(#p8d44442e96)\" d=\"M 372.902308 122.697548 \nL 386.637692 122.697548 \nL 386.637692 135.242163 \nL 372.902308 135.242163 \nL 372.902308 122.697548 \n\" style=\"fill:#2373b6;\"/>\n    <path clip-path=\"url(#p8d44442e96)\" d=\"M 386.637692 122.697548 \nL 400.373077 122.697548 \nL 400.373077 135.242163 \nL 386.637692 135.242163 \nL 386.637692 122.697548 \n\" style=\"fill:#1966ad;\"/>\n    <path clip-path=\"url(#p8d44442e96)\" d=\"M 400.373077 122.697548 \nL 414.108462 122.697548 \nL 414.108462 135.242163 \nL 400.373077 135.242163 \nL 400.373077 122.697548 \n\" style=\"fill:none;\"/>\n    <path clip-path=\"url(#p8d44442e96)\" d=\"M 414.108462 122.697548 \nL 427.843846 122.697548 \nL 427.843846 135.242163 \nL 414.108462 135.242163 \nL 414.108462 122.697548 \n\" style=\"fill:none;\"/>\n    <path clip-path=\"url(#p8d44442e96)\" d=\"M 427.843846 122.697548 \nL 441.579231 122.697548 \nL 441.579231 135.242163 \nL 427.843846 135.242163 \nL 427.843846 122.697548 \n\" style=\"fill:none;\"/>\n    <path clip-path=\"url(#p8d44442e96)\" d=\"M 441.579231 122.697548 \nL 455.314615 122.697548 \nL 455.314615 135.242163 \nL 441.579231 135.242163 \nL 441.579231 122.697548 \n\" style=\"fill:none;\"/>\n    <path clip-path=\"url(#p8d44442e96)\" d=\"M 455.314615 122.697548 \nL 469.05 122.697548 \nL 469.05 135.242163 \nL 455.314615 135.242163 \nL 455.314615 122.697548 \n\" style=\"fill:none;\"/>\n    <path clip-path=\"url(#p8d44442e96)\" d=\"M 469.05 122.697548 \nL 482.785385 122.697548 \nL 482.785385 135.242163 \nL 469.05 135.242163 \nL 469.05 122.697548 \n\" style=\"fill:none;\"/>\n    <path clip-path=\"url(#p8d44442e96)\" d=\"M 482.785385 122.697548 \nL 496.520769 122.697548 \nL 496.520769 135.242163 \nL 482.785385 135.242163 \nL 482.785385 122.697548 \n\" style=\"fill:none;\"/>\n    <path clip-path=\"url(#p8d44442e96)\" d=\"M 496.520769 122.697548 \nL 510.256154 122.697548 \nL 510.256154 135.242163 \nL 496.520769 135.242163 \nL 496.520769 122.697548 \n\" style=\"fill:none;\"/>\n    <path clip-path=\"url(#p8d44442e96)\" d=\"M 510.256154 122.697548 \nL 523.991538 122.697548 \nL 523.991538 135.242163 \nL 510.256154 135.242163 \nL 510.256154 122.697548 \n\" style=\"fill:none;\"/>\n    <path clip-path=\"url(#p8d44442e96)\" d=\"M 523.991538 122.697548 \nL 537.726923 122.697548 \nL 537.726923 135.242163 \nL 523.991538 135.242163 \nL 523.991538 122.697548 \n\" style=\"fill:none;\"/>\n    <path clip-path=\"url(#p8d44442e96)\" d=\"M 537.726923 122.697548 \nL 551.462308 122.697548 \nL 551.462308 135.242163 \nL 537.726923 135.242163 \nL 537.726923 122.697548 \n\" style=\"fill:none;\"/>\n    <path clip-path=\"url(#p8d44442e96)\" d=\"M 551.462308 122.697548 \nL 565.197692 122.697548 \nL 565.197692 135.242163 \nL 551.462308 135.242163 \nL 551.462308 122.697548 \n\" style=\"fill:none;\"/>\n    <path clip-path=\"url(#p8d44442e96)\" d=\"M 565.197692 122.697548 \nL 578.933077 122.697548 \nL 578.933077 135.242163 \nL 565.197692 135.242163 \nL 565.197692 122.697548 \n\" style=\"fill:none;\"/>\n    <path clip-path=\"url(#p8d44442e96)\" d=\"M 578.933077 122.697548 \nL 592.668462 122.697548 \nL 592.668462 135.242163 \nL 578.933077 135.242163 \nL 578.933077 122.697548 \n\" style=\"fill:none;\"/>\n    <path clip-path=\"url(#p8d44442e96)\" d=\"M 592.668462 122.697548 \nL 606.403846 122.697548 \nL 606.403846 135.242163 \nL 592.668462 135.242163 \nL 592.668462 122.697548 \n\" style=\"fill:none;\"/>\n    <path clip-path=\"url(#p8d44442e96)\" d=\"M 606.403846 122.697548 \nL 620.139231 122.697548 \nL 620.139231 135.242163 \nL 606.403846 135.242163 \nL 606.403846 122.697548 \n\" style=\"fill:none;\"/>\n    <path clip-path=\"url(#p8d44442e96)\" d=\"M 620.139231 122.697548 \nL 633.874615 122.697548 \nL 633.874615 135.242163 \nL 620.139231 135.242163 \nL 620.139231 122.697548 \n\" style=\"fill:none;\"/>\n    <path clip-path=\"url(#p8d44442e96)\" d=\"M 633.874615 122.697548 \nL 647.61 122.697548 \nL 647.61 135.242163 \nL 633.874615 135.242163 \nL 633.874615 122.697548 \n\" style=\"fill:none;\"/>\n    <path clip-path=\"url(#p8d44442e96)\" d=\"M 290.49 135.242163 \nL 304.225385 135.242163 \nL 304.225385 147.786779 \nL 290.49 147.786779 \nL 290.49 135.242163 \n\" style=\"fill:#0d57a1;\"/>\n    <path clip-path=\"url(#p8d44442e96)\" d=\"M 304.225385 135.242163 \nL 317.960769 135.242163 \nL 317.960769 147.786779 \nL 304.225385 147.786779 \nL 304.225385 135.242163 \n\" style=\"fill:#08478d;\"/>\n    <path clip-path=\"url(#p8d44442e96)\" d=\"M 317.960769 135.242163 \nL 331.696154 135.242163 \nL 331.696154 147.786779 \nL 317.960769 147.786779 \nL 317.960769 135.242163 \n\" style=\"fill:#1561a9;\"/>\n    <path clip-path=\"url(#p8d44442e96)\" d=\"M 331.696154 135.242163 \nL 345.431538 135.242163 \nL 345.431538 147.786779 \nL 331.696154 147.786779 \nL 331.696154 135.242163 \n\" style=\"fill:#1561a9;\"/>\n    <path clip-path=\"url(#p8d44442e96)\" d=\"M 345.431538 135.242163 \nL 359.166923 135.242163 \nL 359.166923 147.786779 \nL 345.431538 147.786779 \nL 345.431538 135.242163 \n\" style=\"fill:#1865ac;\"/>\n    <path clip-path=\"url(#p8d44442e96)\" d=\"M 359.166923 135.242163 \nL 372.902308 135.242163 \nL 372.902308 147.786779 \nL 359.166923 147.786779 \nL 359.166923 135.242163 \n\" style=\"fill:#1562a9;\"/>\n    <path clip-path=\"url(#p8d44442e96)\" d=\"M 372.902308 135.242163 \nL 386.637692 135.242163 \nL 386.637692 147.786779 \nL 372.902308 147.786779 \nL 372.902308 135.242163 \n\" style=\"fill:#3080bd;\"/>\n    <path clip-path=\"url(#p8d44442e96)\" d=\"M 386.637692 135.242163 \nL 400.373077 135.242163 \nL 400.373077 147.786779 \nL 386.637692 147.786779 \nL 386.637692 135.242163 \n\" style=\"fill:#1764ab;\"/>\n    <path clip-path=\"url(#p8d44442e96)\" d=\"M 400.373077 135.242163 \nL 414.108462 135.242163 \nL 414.108462 147.786779 \nL 400.373077 147.786779 \nL 400.373077 135.242163 \n\" style=\"fill:#5aa2cf;\"/>\n    <path clip-path=\"url(#p8d44442e96)\" d=\"M 414.108462 135.242163 \nL 427.843846 135.242163 \nL 427.843846 147.786779 \nL 414.108462 147.786779 \nL 414.108462 135.242163 \n\" style=\"fill:none;\"/>\n    <path clip-path=\"url(#p8d44442e96)\" d=\"M 427.843846 135.242163 \nL 441.579231 135.242163 \nL 441.579231 147.786779 \nL 427.843846 147.786779 \nL 427.843846 135.242163 \n\" style=\"fill:none;\"/>\n    <path clip-path=\"url(#p8d44442e96)\" d=\"M 441.579231 135.242163 \nL 455.314615 135.242163 \nL 455.314615 147.786779 \nL 441.579231 147.786779 \nL 441.579231 135.242163 \n\" style=\"fill:none;\"/>\n    <path clip-path=\"url(#p8d44442e96)\" d=\"M 455.314615 135.242163 \nL 469.05 135.242163 \nL 469.05 147.786779 \nL 455.314615 147.786779 \nL 455.314615 135.242163 \n\" style=\"fill:none;\"/>\n    <path clip-path=\"url(#p8d44442e96)\" d=\"M 469.05 135.242163 \nL 482.785385 135.242163 \nL 482.785385 147.786779 \nL 469.05 147.786779 \nL 469.05 135.242163 \n\" style=\"fill:none;\"/>\n    <path clip-path=\"url(#p8d44442e96)\" d=\"M 482.785385 135.242163 \nL 496.520769 135.242163 \nL 496.520769 147.786779 \nL 482.785385 147.786779 \nL 482.785385 135.242163 \n\" style=\"fill:none;\"/>\n    <path clip-path=\"url(#p8d44442e96)\" d=\"M 496.520769 135.242163 \nL 510.256154 135.242163 \nL 510.256154 147.786779 \nL 496.520769 147.786779 \nL 496.520769 135.242163 \n\" style=\"fill:none;\"/>\n    <path clip-path=\"url(#p8d44442e96)\" d=\"M 510.256154 135.242163 \nL 523.991538 135.242163 \nL 523.991538 147.786779 \nL 510.256154 147.786779 \nL 510.256154 135.242163 \n\" style=\"fill:none;\"/>\n    <path clip-path=\"url(#p8d44442e96)\" d=\"M 523.991538 135.242163 \nL 537.726923 135.242163 \nL 537.726923 147.786779 \nL 523.991538 147.786779 \nL 523.991538 135.242163 \n\" style=\"fill:none;\"/>\n    <path clip-path=\"url(#p8d44442e96)\" d=\"M 537.726923 135.242163 \nL 551.462308 135.242163 \nL 551.462308 147.786779 \nL 537.726923 147.786779 \nL 537.726923 135.242163 \n\" style=\"fill:none;\"/>\n    <path clip-path=\"url(#p8d44442e96)\" d=\"M 551.462308 135.242163 \nL 565.197692 135.242163 \nL 565.197692 147.786779 \nL 551.462308 147.786779 \nL 551.462308 135.242163 \n\" style=\"fill:none;\"/>\n    <path clip-path=\"url(#p8d44442e96)\" d=\"M 565.197692 135.242163 \nL 578.933077 135.242163 \nL 578.933077 147.786779 \nL 565.197692 147.786779 \nL 565.197692 135.242163 \n\" style=\"fill:none;\"/>\n    <path clip-path=\"url(#p8d44442e96)\" d=\"M 578.933077 135.242163 \nL 592.668462 135.242163 \nL 592.668462 147.786779 \nL 578.933077 147.786779 \nL 578.933077 135.242163 \n\" style=\"fill:none;\"/>\n    <path clip-path=\"url(#p8d44442e96)\" d=\"M 592.668462 135.242163 \nL 606.403846 135.242163 \nL 606.403846 147.786779 \nL 592.668462 147.786779 \nL 592.668462 135.242163 \n\" style=\"fill:none;\"/>\n    <path clip-path=\"url(#p8d44442e96)\" d=\"M 606.403846 135.242163 \nL 620.139231 135.242163 \nL 620.139231 147.786779 \nL 606.403846 147.786779 \nL 606.403846 135.242163 \n\" style=\"fill:none;\"/>\n    <path clip-path=\"url(#p8d44442e96)\" d=\"M 620.139231 135.242163 \nL 633.874615 135.242163 \nL 633.874615 147.786779 \nL 620.139231 147.786779 \nL 620.139231 135.242163 \n\" style=\"fill:none;\"/>\n    <path clip-path=\"url(#p8d44442e96)\" d=\"M 633.874615 135.242163 \nL 647.61 135.242163 \nL 647.61 147.786779 \nL 633.874615 147.786779 \nL 633.874615 135.242163 \n\" style=\"fill:none;\"/>\n    <path clip-path=\"url(#p8d44442e96)\" d=\"M 290.49 147.786779 \nL 304.225385 147.786779 \nL 304.225385 160.331394 \nL 290.49 160.331394 \nL 290.49 147.786779 \n\" style=\"fill:#3888c1;\"/>\n    <path clip-path=\"url(#p8d44442e96)\" d=\"M 304.225385 147.786779 \nL 317.960769 147.786779 \nL 317.960769 160.331394 \nL 304.225385 160.331394 \nL 304.225385 147.786779 \n\" style=\"fill:#1764ab;\"/>\n    <path clip-path=\"url(#p8d44442e96)\" d=\"M 317.960769 147.786779 \nL 331.696154 147.786779 \nL 331.696154 160.331394 \nL 317.960769 160.331394 \nL 317.960769 147.786779 \n\" style=\"fill:#1764ab;\"/>\n    <path clip-path=\"url(#p8d44442e96)\" d=\"M 331.696154 147.786779 \nL 345.431538 147.786779 \nL 345.431538 160.331394 \nL 331.696154 160.331394 \nL 331.696154 147.786779 \n\" style=\"fill:#135fa7;\"/>\n    <path clip-path=\"url(#p8d44442e96)\" d=\"M 345.431538 147.786779 \nL 359.166923 147.786779 \nL 359.166923 160.331394 \nL 345.431538 160.331394 \nL 345.431538 147.786779 \n\" style=\"fill:#1561a9;\"/>\n    <path clip-path=\"url(#p8d44442e96)\" d=\"M 359.166923 147.786779 \nL 372.902308 147.786779 \nL 372.902308 160.331394 \nL 359.166923 160.331394 \nL 359.166923 147.786779 \n\" style=\"fill:#1966ad;\"/>\n    <path clip-path=\"url(#p8d44442e96)\" d=\"M 372.902308 147.786779 \nL 386.637692 147.786779 \nL 386.637692 160.331394 \nL 372.902308 160.331394 \nL 372.902308 147.786779 \n\" style=\"fill:#1663aa;\"/>\n    <path clip-path=\"url(#p8d44442e96)\" d=\"M 386.637692 147.786779 \nL 400.373077 147.786779 \nL 400.373077 160.331394 \nL 386.637692 160.331394 \nL 386.637692 147.786779 \n\" style=\"fill:#1562a9;\"/>\n    <path clip-path=\"url(#p8d44442e96)\" d=\"M 400.373077 147.786779 \nL 414.108462 147.786779 \nL 414.108462 160.331394 \nL 400.373077 160.331394 \nL 400.373077 147.786779 \n\" style=\"fill:#1663aa;\"/>\n    <path clip-path=\"url(#p8d44442e96)\" d=\"M 414.108462 147.786779 \nL 427.843846 147.786779 \nL 427.843846 160.331394 \nL 414.108462 160.331394 \nL 414.108462 147.786779 \n\" style=\"fill:#135fa7;\"/>\n    <path clip-path=\"url(#p8d44442e96)\" d=\"M 427.843846 147.786779 \nL 441.579231 147.786779 \nL 441.579231 160.331394 \nL 427.843846 160.331394 \nL 427.843846 147.786779 \n\" style=\"fill:none;\"/>\n    <path clip-path=\"url(#p8d44442e96)\" d=\"M 441.579231 147.786779 \nL 455.314615 147.786779 \nL 455.314615 160.331394 \nL 441.579231 160.331394 \nL 441.579231 147.786779 \n\" style=\"fill:none;\"/>\n    <path clip-path=\"url(#p8d44442e96)\" d=\"M 455.314615 147.786779 \nL 469.05 147.786779 \nL 469.05 160.331394 \nL 455.314615 160.331394 \nL 455.314615 147.786779 \n\" style=\"fill:none;\"/>\n    <path clip-path=\"url(#p8d44442e96)\" d=\"M 469.05 147.786779 \nL 482.785385 147.786779 \nL 482.785385 160.331394 \nL 469.05 160.331394 \nL 469.05 147.786779 \n\" style=\"fill:none;\"/>\n    <path clip-path=\"url(#p8d44442e96)\" d=\"M 482.785385 147.786779 \nL 496.520769 147.786779 \nL 496.520769 160.331394 \nL 482.785385 160.331394 \nL 482.785385 147.786779 \n\" style=\"fill:none;\"/>\n    <path clip-path=\"url(#p8d44442e96)\" d=\"M 496.520769 147.786779 \nL 510.256154 147.786779 \nL 510.256154 160.331394 \nL 496.520769 160.331394 \nL 496.520769 147.786779 \n\" style=\"fill:none;\"/>\n    <path clip-path=\"url(#p8d44442e96)\" d=\"M 510.256154 147.786779 \nL 523.991538 147.786779 \nL 523.991538 160.331394 \nL 510.256154 160.331394 \nL 510.256154 147.786779 \n\" style=\"fill:none;\"/>\n    <path clip-path=\"url(#p8d44442e96)\" d=\"M 523.991538 147.786779 \nL 537.726923 147.786779 \nL 537.726923 160.331394 \nL 523.991538 160.331394 \nL 523.991538 147.786779 \n\" style=\"fill:none;\"/>\n    <path clip-path=\"url(#p8d44442e96)\" d=\"M 537.726923 147.786779 \nL 551.462308 147.786779 \nL 551.462308 160.331394 \nL 537.726923 160.331394 \nL 537.726923 147.786779 \n\" style=\"fill:none;\"/>\n    <path clip-path=\"url(#p8d44442e96)\" d=\"M 551.462308 147.786779 \nL 565.197692 147.786779 \nL 565.197692 160.331394 \nL 551.462308 160.331394 \nL 551.462308 147.786779 \n\" style=\"fill:none;\"/>\n    <path clip-path=\"url(#p8d44442e96)\" d=\"M 565.197692 147.786779 \nL 578.933077 147.786779 \nL 578.933077 160.331394 \nL 565.197692 160.331394 \nL 565.197692 147.786779 \n\" style=\"fill:none;\"/>\n    <path clip-path=\"url(#p8d44442e96)\" d=\"M 578.933077 147.786779 \nL 592.668462 147.786779 \nL 592.668462 160.331394 \nL 578.933077 160.331394 \nL 578.933077 147.786779 \n\" style=\"fill:none;\"/>\n    <path clip-path=\"url(#p8d44442e96)\" d=\"M 592.668462 147.786779 \nL 606.403846 147.786779 \nL 606.403846 160.331394 \nL 592.668462 160.331394 \nL 592.668462 147.786779 \n\" style=\"fill:none;\"/>\n    <path clip-path=\"url(#p8d44442e96)\" d=\"M 606.403846 147.786779 \nL 620.139231 147.786779 \nL 620.139231 160.331394 \nL 606.403846 160.331394 \nL 606.403846 147.786779 \n\" style=\"fill:none;\"/>\n    <path clip-path=\"url(#p8d44442e96)\" d=\"M 620.139231 147.786779 \nL 633.874615 147.786779 \nL 633.874615 160.331394 \nL 620.139231 160.331394 \nL 620.139231 147.786779 \n\" style=\"fill:none;\"/>\n    <path clip-path=\"url(#p8d44442e96)\" d=\"M 633.874615 147.786779 \nL 647.61 147.786779 \nL 647.61 160.331394 \nL 633.874615 160.331394 \nL 633.874615 147.786779 \n\" style=\"fill:none;\"/>\n    <path clip-path=\"url(#p8d44442e96)\" d=\"M 290.49 160.331394 \nL 304.225385 160.331394 \nL 304.225385 172.87601 \nL 290.49 172.87601 \nL 290.49 160.331394 \n\" style=\"fill:#1460a8;\"/>\n    <path clip-path=\"url(#p8d44442e96)\" d=\"M 304.225385 160.331394 \nL 317.960769 160.331394 \nL 317.960769 172.87601 \nL 304.225385 172.87601 \nL 304.225385 160.331394 \n\" style=\"fill:#1966ad;\"/>\n    <path clip-path=\"url(#p8d44442e96)\" d=\"M 317.960769 160.331394 \nL 331.696154 160.331394 \nL 331.696154 172.87601 \nL 317.960769 172.87601 \nL 317.960769 160.331394 \n\" style=\"fill:#1764ab;\"/>\n    <path clip-path=\"url(#p8d44442e96)\" d=\"M 331.696154 160.331394 \nL 345.431538 160.331394 \nL 345.431538 172.87601 \nL 331.696154 172.87601 \nL 331.696154 160.331394 \n\" style=\"fill:#1562a9;\"/>\n    <path clip-path=\"url(#p8d44442e96)\" d=\"M 345.431538 160.331394 \nL 359.166923 160.331394 \nL 359.166923 172.87601 \nL 345.431538 172.87601 \nL 345.431538 160.331394 \n\" style=\"fill:#1460a8;\"/>\n    <path clip-path=\"url(#p8d44442e96)\" d=\"M 359.166923 160.331394 \nL 372.902308 160.331394 \nL 372.902308 172.87601 \nL 359.166923 172.87601 \nL 359.166923 160.331394 \n\" style=\"fill:#125ea6;\"/>\n    <path clip-path=\"url(#p8d44442e96)\" d=\"M 372.902308 160.331394 \nL 386.637692 160.331394 \nL 386.637692 172.87601 \nL 372.902308 172.87601 \nL 372.902308 160.331394 \n\" style=\"fill:#1561a9;\"/>\n    <path clip-path=\"url(#p8d44442e96)\" d=\"M 386.637692 160.331394 \nL 400.373077 160.331394 \nL 400.373077 172.87601 \nL 386.637692 172.87601 \nL 386.637692 160.331394 \n\" style=\"fill:#1562a9;\"/>\n    <path clip-path=\"url(#p8d44442e96)\" d=\"M 400.373077 160.331394 \nL 414.108462 160.331394 \nL 414.108462 172.87601 \nL 400.373077 172.87601 \nL 400.373077 160.331394 \n\" style=\"fill:#115ca5;\"/>\n    <path clip-path=\"url(#p8d44442e96)\" d=\"M 414.108462 160.331394 \nL 427.843846 160.331394 \nL 427.843846 172.87601 \nL 414.108462 172.87601 \nL 414.108462 160.331394 \n\" style=\"fill:#0f5aa3;\"/>\n    <path clip-path=\"url(#p8d44442e96)\" d=\"M 427.843846 160.331394 \nL 441.579231 160.331394 \nL 441.579231 172.87601 \nL 427.843846 172.87601 \nL 427.843846 160.331394 \n\" style=\"fill:#1561a9;\"/>\n    <path clip-path=\"url(#p8d44442e96)\" d=\"M 441.579231 160.331394 \nL 455.314615 160.331394 \nL 455.314615 172.87601 \nL 441.579231 172.87601 \nL 441.579231 160.331394 \n\" style=\"fill:none;\"/>\n    <path clip-path=\"url(#p8d44442e96)\" d=\"M 455.314615 160.331394 \nL 469.05 160.331394 \nL 469.05 172.87601 \nL 455.314615 172.87601 \nL 455.314615 160.331394 \n\" style=\"fill:none;\"/>\n    <path clip-path=\"url(#p8d44442e96)\" d=\"M 469.05 160.331394 \nL 482.785385 160.331394 \nL 482.785385 172.87601 \nL 469.05 172.87601 \nL 469.05 160.331394 \n\" style=\"fill:none;\"/>\n    <path clip-path=\"url(#p8d44442e96)\" d=\"M 482.785385 160.331394 \nL 496.520769 160.331394 \nL 496.520769 172.87601 \nL 482.785385 172.87601 \nL 482.785385 160.331394 \n\" style=\"fill:none;\"/>\n    <path clip-path=\"url(#p8d44442e96)\" d=\"M 496.520769 160.331394 \nL 510.256154 160.331394 \nL 510.256154 172.87601 \nL 496.520769 172.87601 \nL 496.520769 160.331394 \n\" style=\"fill:none;\"/>\n    <path clip-path=\"url(#p8d44442e96)\" d=\"M 510.256154 160.331394 \nL 523.991538 160.331394 \nL 523.991538 172.87601 \nL 510.256154 172.87601 \nL 510.256154 160.331394 \n\" style=\"fill:none;\"/>\n    <path clip-path=\"url(#p8d44442e96)\" d=\"M 523.991538 160.331394 \nL 537.726923 160.331394 \nL 537.726923 172.87601 \nL 523.991538 172.87601 \nL 523.991538 160.331394 \n\" style=\"fill:none;\"/>\n    <path clip-path=\"url(#p8d44442e96)\" d=\"M 537.726923 160.331394 \nL 551.462308 160.331394 \nL 551.462308 172.87601 \nL 537.726923 172.87601 \nL 537.726923 160.331394 \n\" style=\"fill:none;\"/>\n    <path clip-path=\"url(#p8d44442e96)\" d=\"M 551.462308 160.331394 \nL 565.197692 160.331394 \nL 565.197692 172.87601 \nL 551.462308 172.87601 \nL 551.462308 160.331394 \n\" style=\"fill:none;\"/>\n    <path clip-path=\"url(#p8d44442e96)\" d=\"M 565.197692 160.331394 \nL 578.933077 160.331394 \nL 578.933077 172.87601 \nL 565.197692 172.87601 \nL 565.197692 160.331394 \n\" style=\"fill:none;\"/>\n    <path clip-path=\"url(#p8d44442e96)\" d=\"M 578.933077 160.331394 \nL 592.668462 160.331394 \nL 592.668462 172.87601 \nL 578.933077 172.87601 \nL 578.933077 160.331394 \n\" style=\"fill:none;\"/>\n    <path clip-path=\"url(#p8d44442e96)\" d=\"M 592.668462 160.331394 \nL 606.403846 160.331394 \nL 606.403846 172.87601 \nL 592.668462 172.87601 \nL 592.668462 160.331394 \n\" style=\"fill:none;\"/>\n    <path clip-path=\"url(#p8d44442e96)\" d=\"M 606.403846 160.331394 \nL 620.139231 160.331394 \nL 620.139231 172.87601 \nL 606.403846 172.87601 \nL 606.403846 160.331394 \n\" style=\"fill:none;\"/>\n    <path clip-path=\"url(#p8d44442e96)\" d=\"M 620.139231 160.331394 \nL 633.874615 160.331394 \nL 633.874615 172.87601 \nL 620.139231 172.87601 \nL 620.139231 160.331394 \n\" style=\"fill:none;\"/>\n    <path clip-path=\"url(#p8d44442e96)\" d=\"M 633.874615 160.331394 \nL 647.61 160.331394 \nL 647.61 172.87601 \nL 633.874615 172.87601 \nL 633.874615 160.331394 \n\" style=\"fill:none;\"/>\n    <path clip-path=\"url(#p8d44442e96)\" d=\"M 290.49 172.87601 \nL 304.225385 172.87601 \nL 304.225385 185.420625 \nL 290.49 185.420625 \nL 290.49 172.87601 \n\" style=\"fill:#1865ac;\"/>\n    <path clip-path=\"url(#p8d44442e96)\" d=\"M 304.225385 172.87601 \nL 317.960769 172.87601 \nL 317.960769 185.420625 \nL 304.225385 185.420625 \nL 304.225385 172.87601 \n\" style=\"fill:#105ba4;\"/>\n    <path clip-path=\"url(#p8d44442e96)\" d=\"M 317.960769 172.87601 \nL 331.696154 172.87601 \nL 331.696154 185.420625 \nL 317.960769 185.420625 \nL 317.960769 172.87601 \n\" style=\"fill:#1460a8;\"/>\n    <path clip-path=\"url(#p8d44442e96)\" d=\"M 331.696154 172.87601 \nL 345.431538 172.87601 \nL 345.431538 185.420625 \nL 331.696154 185.420625 \nL 331.696154 172.87601 \n\" style=\"fill:#1663aa;\"/>\n    <path clip-path=\"url(#p8d44442e96)\" d=\"M 345.431538 172.87601 \nL 359.166923 172.87601 \nL 359.166923 185.420625 \nL 345.431538 185.420625 \nL 345.431538 172.87601 \n\" style=\"fill:#1663aa;\"/>\n    <path clip-path=\"url(#p8d44442e96)\" d=\"M 359.166923 172.87601 \nL 372.902308 172.87601 \nL 372.902308 185.420625 \nL 359.166923 185.420625 \nL 359.166923 172.87601 \n\" style=\"fill:#1b69af;\"/>\n    <path clip-path=\"url(#p8d44442e96)\" d=\"M 372.902308 172.87601 \nL 386.637692 172.87601 \nL 386.637692 185.420625 \nL 372.902308 185.420625 \nL 372.902308 172.87601 \n\" style=\"fill:#115ca5;\"/>\n    <path clip-path=\"url(#p8d44442e96)\" d=\"M 386.637692 172.87601 \nL 400.373077 172.87601 \nL 400.373077 185.420625 \nL 386.637692 185.420625 \nL 386.637692 172.87601 \n\" style=\"fill:#1561a9;\"/>\n    <path clip-path=\"url(#p8d44442e96)\" d=\"M 400.373077 172.87601 \nL 414.108462 172.87601 \nL 414.108462 185.420625 \nL 400.373077 185.420625 \nL 400.373077 172.87601 \n\" style=\"fill:#115ca5;\"/>\n    <path clip-path=\"url(#p8d44442e96)\" d=\"M 414.108462 172.87601 \nL 427.843846 172.87601 \nL 427.843846 185.420625 \nL 414.108462 185.420625 \nL 414.108462 172.87601 \n\" style=\"fill:#0d57a1;\"/>\n    <path clip-path=\"url(#p8d44442e96)\" d=\"M 427.843846 172.87601 \nL 441.579231 172.87601 \nL 441.579231 185.420625 \nL 427.843846 185.420625 \nL 427.843846 172.87601 \n\" style=\"fill:#1663aa;\"/>\n    <path clip-path=\"url(#p8d44442e96)\" d=\"M 441.579231 172.87601 \nL 455.314615 172.87601 \nL 455.314615 185.420625 \nL 441.579231 185.420625 \nL 441.579231 172.87601 \n\" style=\"fill:#1d6cb1;\"/>\n    <path clip-path=\"url(#p8d44442e96)\" d=\"M 455.314615 172.87601 \nL 469.05 172.87601 \nL 469.05 185.420625 \nL 455.314615 185.420625 \nL 455.314615 172.87601 \n\" style=\"fill:none;\"/>\n    <path clip-path=\"url(#p8d44442e96)\" d=\"M 469.05 172.87601 \nL 482.785385 172.87601 \nL 482.785385 185.420625 \nL 469.05 185.420625 \nL 469.05 172.87601 \n\" style=\"fill:none;\"/>\n    <path clip-path=\"url(#p8d44442e96)\" d=\"M 482.785385 172.87601 \nL 496.520769 172.87601 \nL 496.520769 185.420625 \nL 482.785385 185.420625 \nL 482.785385 172.87601 \n\" style=\"fill:none;\"/>\n    <path clip-path=\"url(#p8d44442e96)\" d=\"M 496.520769 172.87601 \nL 510.256154 172.87601 \nL 510.256154 185.420625 \nL 496.520769 185.420625 \nL 496.520769 172.87601 \n\" style=\"fill:none;\"/>\n    <path clip-path=\"url(#p8d44442e96)\" d=\"M 510.256154 172.87601 \nL 523.991538 172.87601 \nL 523.991538 185.420625 \nL 510.256154 185.420625 \nL 510.256154 172.87601 \n\" style=\"fill:none;\"/>\n    <path clip-path=\"url(#p8d44442e96)\" d=\"M 523.991538 172.87601 \nL 537.726923 172.87601 \nL 537.726923 185.420625 \nL 523.991538 185.420625 \nL 523.991538 172.87601 \n\" style=\"fill:none;\"/>\n    <path clip-path=\"url(#p8d44442e96)\" d=\"M 537.726923 172.87601 \nL 551.462308 172.87601 \nL 551.462308 185.420625 \nL 537.726923 185.420625 \nL 537.726923 172.87601 \n\" style=\"fill:none;\"/>\n    <path clip-path=\"url(#p8d44442e96)\" d=\"M 551.462308 172.87601 \nL 565.197692 172.87601 \nL 565.197692 185.420625 \nL 551.462308 185.420625 \nL 551.462308 172.87601 \n\" style=\"fill:none;\"/>\n    <path clip-path=\"url(#p8d44442e96)\" d=\"M 565.197692 172.87601 \nL 578.933077 172.87601 \nL 578.933077 185.420625 \nL 565.197692 185.420625 \nL 565.197692 172.87601 \n\" style=\"fill:none;\"/>\n    <path clip-path=\"url(#p8d44442e96)\" d=\"M 578.933077 172.87601 \nL 592.668462 172.87601 \nL 592.668462 185.420625 \nL 578.933077 185.420625 \nL 578.933077 172.87601 \n\" style=\"fill:none;\"/>\n    <path clip-path=\"url(#p8d44442e96)\" d=\"M 592.668462 172.87601 \nL 606.403846 172.87601 \nL 606.403846 185.420625 \nL 592.668462 185.420625 \nL 592.668462 172.87601 \n\" style=\"fill:none;\"/>\n    <path clip-path=\"url(#p8d44442e96)\" d=\"M 606.403846 172.87601 \nL 620.139231 172.87601 \nL 620.139231 185.420625 \nL 606.403846 185.420625 \nL 606.403846 172.87601 \n\" style=\"fill:none;\"/>\n    <path clip-path=\"url(#p8d44442e96)\" d=\"M 620.139231 172.87601 \nL 633.874615 172.87601 \nL 633.874615 185.420625 \nL 620.139231 185.420625 \nL 620.139231 172.87601 \n\" style=\"fill:none;\"/>\n    <path clip-path=\"url(#p8d44442e96)\" d=\"M 633.874615 172.87601 \nL 647.61 172.87601 \nL 647.61 185.420625 \nL 633.874615 185.420625 \nL 633.874615 172.87601 \n\" style=\"fill:none;\"/>\n    <path clip-path=\"url(#p8d44442e96)\" d=\"M 290.49 185.420625 \nL 304.225385 185.420625 \nL 304.225385 197.96524 \nL 290.49 197.96524 \nL 290.49 185.420625 \n\" style=\"fill:#1562a9;\"/>\n    <path clip-path=\"url(#p8d44442e96)\" d=\"M 304.225385 185.420625 \nL 317.960769 185.420625 \nL 317.960769 197.96524 \nL 304.225385 197.96524 \nL 304.225385 185.420625 \n\" style=\"fill:#135fa7;\"/>\n    <path clip-path=\"url(#p8d44442e96)\" d=\"M 317.960769 185.420625 \nL 331.696154 185.420625 \nL 331.696154 197.96524 \nL 317.960769 197.96524 \nL 317.960769 185.420625 \n\" style=\"fill:#1561a9;\"/>\n    <path clip-path=\"url(#p8d44442e96)\" d=\"M 331.696154 185.420625 \nL 345.431538 185.420625 \nL 345.431538 197.96524 \nL 331.696154 197.96524 \nL 331.696154 185.420625 \n\" style=\"fill:#1561a9;\"/>\n    <path clip-path=\"url(#p8d44442e96)\" d=\"M 345.431538 185.420625 \nL 359.166923 185.420625 \nL 359.166923 197.96524 \nL 345.431538 197.96524 \nL 345.431538 185.420625 \n\" style=\"fill:#1663aa;\"/>\n    <path clip-path=\"url(#p8d44442e96)\" d=\"M 359.166923 185.420625 \nL 372.902308 185.420625 \nL 372.902308 197.96524 \nL 359.166923 197.96524 \nL 359.166923 185.420625 \n\" style=\"fill:#1764ab;\"/>\n    <path clip-path=\"url(#p8d44442e96)\" d=\"M 372.902308 185.420625 \nL 386.637692 185.420625 \nL 386.637692 197.96524 \nL 372.902308 197.96524 \nL 372.902308 185.420625 \n\" style=\"fill:#1562a9;\"/>\n    <path clip-path=\"url(#p8d44442e96)\" d=\"M 386.637692 185.420625 \nL 400.373077 185.420625 \nL 400.373077 197.96524 \nL 386.637692 197.96524 \nL 386.637692 185.420625 \n\" style=\"fill:#1562a9;\"/>\n    <path clip-path=\"url(#p8d44442e96)\" d=\"M 400.373077 185.420625 \nL 414.108462 185.420625 \nL 414.108462 197.96524 \nL 400.373077 197.96524 \nL 400.373077 185.420625 \n\" style=\"fill:#1865ac;\"/>\n    <path clip-path=\"url(#p8d44442e96)\" d=\"M 414.108462 185.420625 \nL 427.843846 185.420625 \nL 427.843846 197.96524 \nL 414.108462 197.96524 \nL 414.108462 185.420625 \n\" style=\"fill:#1865ac;\"/>\n    <path clip-path=\"url(#p8d44442e96)\" d=\"M 427.843846 185.420625 \nL 441.579231 185.420625 \nL 441.579231 197.96524 \nL 427.843846 197.96524 \nL 427.843846 185.420625 \n\" style=\"fill:#1663aa;\"/>\n    <path clip-path=\"url(#p8d44442e96)\" d=\"M 441.579231 185.420625 \nL 455.314615 185.420625 \nL 455.314615 197.96524 \nL 441.579231 197.96524 \nL 441.579231 185.420625 \n\" style=\"fill:#084c95;\"/>\n    <path clip-path=\"url(#p8d44442e96)\" d=\"M 455.314615 185.420625 \nL 469.05 185.420625 \nL 469.05 197.96524 \nL 455.314615 197.96524 \nL 455.314615 185.420625 \n\" style=\"fill:#1460a8;\"/>\n    <path clip-path=\"url(#p8d44442e96)\" d=\"M 469.05 185.420625 \nL 482.785385 185.420625 \nL 482.785385 197.96524 \nL 469.05 197.96524 \nL 469.05 185.420625 \n\" style=\"fill:none;\"/>\n    <path clip-path=\"url(#p8d44442e96)\" d=\"M 482.785385 185.420625 \nL 496.520769 185.420625 \nL 496.520769 197.96524 \nL 482.785385 197.96524 \nL 482.785385 185.420625 \n\" style=\"fill:none;\"/>\n    <path clip-path=\"url(#p8d44442e96)\" d=\"M 496.520769 185.420625 \nL 510.256154 185.420625 \nL 510.256154 197.96524 \nL 496.520769 197.96524 \nL 496.520769 185.420625 \n\" style=\"fill:none;\"/>\n    <path clip-path=\"url(#p8d44442e96)\" d=\"M 510.256154 185.420625 \nL 523.991538 185.420625 \nL 523.991538 197.96524 \nL 510.256154 197.96524 \nL 510.256154 185.420625 \n\" style=\"fill:none;\"/>\n    <path clip-path=\"url(#p8d44442e96)\" d=\"M 523.991538 185.420625 \nL 537.726923 185.420625 \nL 537.726923 197.96524 \nL 523.991538 197.96524 \nL 523.991538 185.420625 \n\" style=\"fill:none;\"/>\n    <path clip-path=\"url(#p8d44442e96)\" d=\"M 537.726923 185.420625 \nL 551.462308 185.420625 \nL 551.462308 197.96524 \nL 537.726923 197.96524 \nL 537.726923 185.420625 \n\" style=\"fill:none;\"/>\n    <path clip-path=\"url(#p8d44442e96)\" d=\"M 551.462308 185.420625 \nL 565.197692 185.420625 \nL 565.197692 197.96524 \nL 551.462308 197.96524 \nL 551.462308 185.420625 \n\" style=\"fill:none;\"/>\n    <path clip-path=\"url(#p8d44442e96)\" d=\"M 565.197692 185.420625 \nL 578.933077 185.420625 \nL 578.933077 197.96524 \nL 565.197692 197.96524 \nL 565.197692 185.420625 \n\" style=\"fill:none;\"/>\n    <path clip-path=\"url(#p8d44442e96)\" d=\"M 578.933077 185.420625 \nL 592.668462 185.420625 \nL 592.668462 197.96524 \nL 578.933077 197.96524 \nL 578.933077 185.420625 \n\" style=\"fill:none;\"/>\n    <path clip-path=\"url(#p8d44442e96)\" d=\"M 592.668462 185.420625 \nL 606.403846 185.420625 \nL 606.403846 197.96524 \nL 592.668462 197.96524 \nL 592.668462 185.420625 \n\" style=\"fill:none;\"/>\n    <path clip-path=\"url(#p8d44442e96)\" d=\"M 606.403846 185.420625 \nL 620.139231 185.420625 \nL 620.139231 197.96524 \nL 606.403846 197.96524 \nL 606.403846 185.420625 \n\" style=\"fill:none;\"/>\n    <path clip-path=\"url(#p8d44442e96)\" d=\"M 620.139231 185.420625 \nL 633.874615 185.420625 \nL 633.874615 197.96524 \nL 620.139231 197.96524 \nL 620.139231 185.420625 \n\" style=\"fill:none;\"/>\n    <path clip-path=\"url(#p8d44442e96)\" d=\"M 633.874615 185.420625 \nL 647.61 185.420625 \nL 647.61 197.96524 \nL 633.874615 197.96524 \nL 633.874615 185.420625 \n\" style=\"fill:none;\"/>\n    <path clip-path=\"url(#p8d44442e96)\" d=\"M 290.49 197.96524 \nL 304.225385 197.96524 \nL 304.225385 210.509856 \nL 290.49 210.509856 \nL 290.49 197.96524 \n\" style=\"fill:#1865ac;\"/>\n    <path clip-path=\"url(#p8d44442e96)\" d=\"M 304.225385 197.96524 \nL 317.960769 197.96524 \nL 317.960769 210.509856 \nL 304.225385 210.509856 \nL 304.225385 197.96524 \n\" style=\"fill:#4292c6;\"/>\n    <path clip-path=\"url(#p8d44442e96)\" d=\"M 317.960769 197.96524 \nL 331.696154 197.96524 \nL 331.696154 210.509856 \nL 317.960769 210.509856 \nL 317.960769 197.96524 \n\" style=\"fill:#1460a8;\"/>\n    <path clip-path=\"url(#p8d44442e96)\" d=\"M 331.696154 197.96524 \nL 345.431538 197.96524 \nL 345.431538 210.509856 \nL 331.696154 210.509856 \nL 331.696154 197.96524 \n\" style=\"fill:#1663aa;\"/>\n    <path clip-path=\"url(#p8d44442e96)\" d=\"M 345.431538 197.96524 \nL 359.166923 197.96524 \nL 359.166923 210.509856 \nL 345.431538 210.509856 \nL 345.431538 197.96524 \n\" style=\"fill:#1460a8;\"/>\n    <path clip-path=\"url(#p8d44442e96)\" d=\"M 359.166923 197.96524 \nL 372.902308 197.96524 \nL 372.902308 210.509856 \nL 359.166923 210.509856 \nL 359.166923 197.96524 \n\" style=\"fill:#1966ad;\"/>\n    <path clip-path=\"url(#p8d44442e96)\" d=\"M 372.902308 197.96524 \nL 386.637692 197.96524 \nL 386.637692 210.509856 \nL 372.902308 210.509856 \nL 372.902308 197.96524 \n\" style=\"fill:#2373b6;\"/>\n    <path clip-path=\"url(#p8d44442e96)\" d=\"M 386.637692 197.96524 \nL 400.373077 197.96524 \nL 400.373077 210.509856 \nL 386.637692 210.509856 \nL 386.637692 197.96524 \n\" style=\"fill:#1663aa;\"/>\n    <path clip-path=\"url(#p8d44442e96)\" d=\"M 400.373077 197.96524 \nL 414.108462 197.96524 \nL 414.108462 210.509856 \nL 400.373077 210.509856 \nL 400.373077 197.96524 \n\" style=\"fill:#6caed6;\"/>\n    <path clip-path=\"url(#p8d44442e96)\" d=\"M 414.108462 197.96524 \nL 427.843846 197.96524 \nL 427.843846 210.509856 \nL 414.108462 210.509856 \nL 414.108462 197.96524 \n\" style=\"fill:#3c8cc3;\"/>\n    <path clip-path=\"url(#p8d44442e96)\" d=\"M 427.843846 197.96524 \nL 441.579231 197.96524 \nL 441.579231 210.509856 \nL 427.843846 210.509856 \nL 427.843846 197.96524 \n\" style=\"fill:#1663aa;\"/>\n    <path clip-path=\"url(#p8d44442e96)\" d=\"M 441.579231 197.96524 \nL 455.314615 197.96524 \nL 455.314615 210.509856 \nL 441.579231 210.509856 \nL 441.579231 197.96524 \n\" style=\"fill:#1460a8;\"/>\n    <path clip-path=\"url(#p8d44442e96)\" d=\"M 455.314615 197.96524 \nL 469.05 197.96524 \nL 469.05 210.509856 \nL 455.314615 210.509856 \nL 455.314615 197.96524 \n\" style=\"fill:#0f5aa3;\"/>\n    <path clip-path=\"url(#p8d44442e96)\" d=\"M 469.05 197.96524 \nL 482.785385 197.96524 \nL 482.785385 210.509856 \nL 469.05 210.509856 \nL 469.05 197.96524 \n\" style=\"fill:#1663aa;\"/>\n    <path clip-path=\"url(#p8d44442e96)\" d=\"M 482.785385 197.96524 \nL 496.520769 197.96524 \nL 496.520769 210.509856 \nL 482.785385 210.509856 \nL 482.785385 197.96524 \n\" style=\"fill:none;\"/>\n    <path clip-path=\"url(#p8d44442e96)\" d=\"M 496.520769 197.96524 \nL 510.256154 197.96524 \nL 510.256154 210.509856 \nL 496.520769 210.509856 \nL 496.520769 197.96524 \n\" style=\"fill:none;\"/>\n    <path clip-path=\"url(#p8d44442e96)\" d=\"M 510.256154 197.96524 \nL 523.991538 197.96524 \nL 523.991538 210.509856 \nL 510.256154 210.509856 \nL 510.256154 197.96524 \n\" style=\"fill:none;\"/>\n    <path clip-path=\"url(#p8d44442e96)\" d=\"M 523.991538 197.96524 \nL 537.726923 197.96524 \nL 537.726923 210.509856 \nL 523.991538 210.509856 \nL 523.991538 197.96524 \n\" style=\"fill:none;\"/>\n    <path clip-path=\"url(#p8d44442e96)\" d=\"M 537.726923 197.96524 \nL 551.462308 197.96524 \nL 551.462308 210.509856 \nL 537.726923 210.509856 \nL 537.726923 197.96524 \n\" style=\"fill:none;\"/>\n    <path clip-path=\"url(#p8d44442e96)\" d=\"M 551.462308 197.96524 \nL 565.197692 197.96524 \nL 565.197692 210.509856 \nL 551.462308 210.509856 \nL 551.462308 197.96524 \n\" style=\"fill:none;\"/>\n    <path clip-path=\"url(#p8d44442e96)\" d=\"M 565.197692 197.96524 \nL 578.933077 197.96524 \nL 578.933077 210.509856 \nL 565.197692 210.509856 \nL 565.197692 197.96524 \n\" style=\"fill:none;\"/>\n    <path clip-path=\"url(#p8d44442e96)\" d=\"M 578.933077 197.96524 \nL 592.668462 197.96524 \nL 592.668462 210.509856 \nL 578.933077 210.509856 \nL 578.933077 197.96524 \n\" style=\"fill:none;\"/>\n    <path clip-path=\"url(#p8d44442e96)\" d=\"M 592.668462 197.96524 \nL 606.403846 197.96524 \nL 606.403846 210.509856 \nL 592.668462 210.509856 \nL 592.668462 197.96524 \n\" style=\"fill:none;\"/>\n    <path clip-path=\"url(#p8d44442e96)\" d=\"M 606.403846 197.96524 \nL 620.139231 197.96524 \nL 620.139231 210.509856 \nL 606.403846 210.509856 \nL 606.403846 197.96524 \n\" style=\"fill:none;\"/>\n    <path clip-path=\"url(#p8d44442e96)\" d=\"M 620.139231 197.96524 \nL 633.874615 197.96524 \nL 633.874615 210.509856 \nL 620.139231 210.509856 \nL 620.139231 197.96524 \n\" style=\"fill:none;\"/>\n    <path clip-path=\"url(#p8d44442e96)\" d=\"M 633.874615 197.96524 \nL 647.61 197.96524 \nL 647.61 210.509856 \nL 633.874615 210.509856 \nL 633.874615 197.96524 \n\" style=\"fill:none;\"/>\n    <path clip-path=\"url(#p8d44442e96)\" d=\"M 290.49 210.509856 \nL 304.225385 210.509856 \nL 304.225385 223.054471 \nL 290.49 223.054471 \nL 290.49 210.509856 \n\" style=\"fill:#1967ad;\"/>\n    <path clip-path=\"url(#p8d44442e96)\" d=\"M 304.225385 210.509856 \nL 317.960769 210.509856 \nL 317.960769 223.054471 \nL 304.225385 223.054471 \nL 304.225385 210.509856 \n\" style=\"fill:#4292c6;\"/>\n    <path clip-path=\"url(#p8d44442e96)\" d=\"M 317.960769 210.509856 \nL 331.696154 210.509856 \nL 331.696154 223.054471 \nL 317.960769 223.054471 \nL 317.960769 210.509856 \n\" style=\"fill:#1460a8;\"/>\n    <path clip-path=\"url(#p8d44442e96)\" d=\"M 331.696154 210.509856 \nL 345.431538 210.509856 \nL 345.431538 223.054471 \nL 331.696154 223.054471 \nL 331.696154 210.509856 \n\" style=\"fill:#1562a9;\"/>\n    <path clip-path=\"url(#p8d44442e96)\" d=\"M 345.431538 210.509856 \nL 359.166923 210.509856 \nL 359.166923 223.054471 \nL 345.431538 223.054471 \nL 345.431538 210.509856 \n\" style=\"fill:#1561a9;\"/>\n    <path clip-path=\"url(#p8d44442e96)\" d=\"M 359.166923 210.509856 \nL 372.902308 210.509856 \nL 372.902308 223.054471 \nL 359.166923 223.054471 \nL 359.166923 210.509856 \n\" style=\"fill:#2272b6;\"/>\n    <path clip-path=\"url(#p8d44442e96)\" d=\"M 372.902308 210.509856 \nL 386.637692 210.509856 \nL 386.637692 223.054471 \nL 372.902308 223.054471 \nL 372.902308 210.509856 \n\" style=\"fill:#2171b5;\"/>\n    <path clip-path=\"url(#p8d44442e96)\" d=\"M 386.637692 210.509856 \nL 400.373077 210.509856 \nL 400.373077 223.054471 \nL 386.637692 223.054471 \nL 386.637692 210.509856 \n\" style=\"fill:#1460a8;\"/>\n    <path clip-path=\"url(#p8d44442e96)\" d=\"M 400.373077 210.509856 \nL 414.108462 210.509856 \nL 414.108462 223.054471 \nL 400.373077 223.054471 \nL 400.373077 210.509856 \n\" style=\"fill:#69add5;\"/>\n    <path clip-path=\"url(#p8d44442e96)\" d=\"M 414.108462 210.509856 \nL 427.843846 210.509856 \nL 427.843846 223.054471 \nL 414.108462 223.054471 \nL 414.108462 210.509856 \n\" style=\"fill:#2d7dbb;\"/>\n    <path clip-path=\"url(#p8d44442e96)\" d=\"M 427.843846 210.509856 \nL 441.579231 210.509856 \nL 441.579231 223.054471 \nL 427.843846 223.054471 \nL 427.843846 210.509856 \n\" style=\"fill:#1663aa;\"/>\n    <path clip-path=\"url(#p8d44442e96)\" d=\"M 441.579231 210.509856 \nL 455.314615 210.509856 \nL 455.314615 223.054471 \nL 441.579231 223.054471 \nL 441.579231 210.509856 \n\" style=\"fill:#125da6;\"/>\n    <path clip-path=\"url(#p8d44442e96)\" d=\"M 455.314615 210.509856 \nL 469.05 210.509856 \nL 469.05 223.054471 \nL 455.314615 223.054471 \nL 455.314615 210.509856 \n\" style=\"fill:#1b69af;\"/>\n    <path clip-path=\"url(#p8d44442e96)\" d=\"M 469.05 210.509856 \nL 482.785385 210.509856 \nL 482.785385 223.054471 \nL 469.05 223.054471 \nL 469.05 210.509856 \n\" style=\"fill:#1a68ae;\"/>\n    <path clip-path=\"url(#p8d44442e96)\" d=\"M 482.785385 210.509856 \nL 496.520769 210.509856 \nL 496.520769 223.054471 \nL 482.785385 223.054471 \nL 482.785385 210.509856 \n\" style=\"fill:#d6e5f4;\"/>\n    <path clip-path=\"url(#p8d44442e96)\" d=\"M 496.520769 210.509856 \nL 510.256154 210.509856 \nL 510.256154 223.054471 \nL 496.520769 223.054471 \nL 496.520769 210.509856 \n\" style=\"fill:none;\"/>\n    <path clip-path=\"url(#p8d44442e96)\" d=\"M 510.256154 210.509856 \nL 523.991538 210.509856 \nL 523.991538 223.054471 \nL 510.256154 223.054471 \nL 510.256154 210.509856 \n\" style=\"fill:none;\"/>\n    <path clip-path=\"url(#p8d44442e96)\" d=\"M 523.991538 210.509856 \nL 537.726923 210.509856 \nL 537.726923 223.054471 \nL 523.991538 223.054471 \nL 523.991538 210.509856 \n\" style=\"fill:none;\"/>\n    <path clip-path=\"url(#p8d44442e96)\" d=\"M 537.726923 210.509856 \nL 551.462308 210.509856 \nL 551.462308 223.054471 \nL 537.726923 223.054471 \nL 537.726923 210.509856 \n\" style=\"fill:none;\"/>\n    <path clip-path=\"url(#p8d44442e96)\" d=\"M 551.462308 210.509856 \nL 565.197692 210.509856 \nL 565.197692 223.054471 \nL 551.462308 223.054471 \nL 551.462308 210.509856 \n\" style=\"fill:none;\"/>\n    <path clip-path=\"url(#p8d44442e96)\" d=\"M 565.197692 210.509856 \nL 578.933077 210.509856 \nL 578.933077 223.054471 \nL 565.197692 223.054471 \nL 565.197692 210.509856 \n\" style=\"fill:none;\"/>\n    <path clip-path=\"url(#p8d44442e96)\" d=\"M 578.933077 210.509856 \nL 592.668462 210.509856 \nL 592.668462 223.054471 \nL 578.933077 223.054471 \nL 578.933077 210.509856 \n\" style=\"fill:none;\"/>\n    <path clip-path=\"url(#p8d44442e96)\" d=\"M 592.668462 210.509856 \nL 606.403846 210.509856 \nL 606.403846 223.054471 \nL 592.668462 223.054471 \nL 592.668462 210.509856 \n\" style=\"fill:none;\"/>\n    <path clip-path=\"url(#p8d44442e96)\" d=\"M 606.403846 210.509856 \nL 620.139231 210.509856 \nL 620.139231 223.054471 \nL 606.403846 223.054471 \nL 606.403846 210.509856 \n\" style=\"fill:none;\"/>\n    <path clip-path=\"url(#p8d44442e96)\" d=\"M 620.139231 210.509856 \nL 633.874615 210.509856 \nL 633.874615 223.054471 \nL 620.139231 223.054471 \nL 620.139231 210.509856 \n\" style=\"fill:none;\"/>\n    <path clip-path=\"url(#p8d44442e96)\" d=\"M 633.874615 210.509856 \nL 647.61 210.509856 \nL 647.61 223.054471 \nL 633.874615 223.054471 \nL 633.874615 210.509856 \n\" style=\"fill:none;\"/>\n    <path clip-path=\"url(#p8d44442e96)\" d=\"M 290.49 223.054471 \nL 304.225385 223.054471 \nL 304.225385 235.599087 \nL 290.49 235.599087 \nL 290.49 223.054471 \n\" style=\"fill:#115ca5;\"/>\n    <path clip-path=\"url(#p8d44442e96)\" d=\"M 304.225385 223.054471 \nL 317.960769 223.054471 \nL 317.960769 235.599087 \nL 304.225385 235.599087 \nL 304.225385 223.054471 \n\" style=\"fill:#1562a9;\"/>\n    <path clip-path=\"url(#p8d44442e96)\" d=\"M 317.960769 223.054471 \nL 331.696154 223.054471 \nL 331.696154 235.599087 \nL 317.960769 235.599087 \nL 317.960769 223.054471 \n\" style=\"fill:#1562a9;\"/>\n    <path clip-path=\"url(#p8d44442e96)\" d=\"M 331.696154 223.054471 \nL 345.431538 223.054471 \nL 345.431538 235.599087 \nL 331.696154 235.599087 \nL 331.696154 223.054471 \n\" style=\"fill:#1663aa;\"/>\n    <path clip-path=\"url(#p8d44442e96)\" d=\"M 345.431538 223.054471 \nL 359.166923 223.054471 \nL 359.166923 235.599087 \nL 345.431538 235.599087 \nL 345.431538 223.054471 \n\" style=\"fill:#1562a9;\"/>\n    <path clip-path=\"url(#p8d44442e96)\" d=\"M 359.166923 223.054471 \nL 372.902308 223.054471 \nL 372.902308 235.599087 \nL 359.166923 235.599087 \nL 359.166923 223.054471 \n\" style=\"fill:#1561a9;\"/>\n    <path clip-path=\"url(#p8d44442e96)\" d=\"M 372.902308 223.054471 \nL 386.637692 223.054471 \nL 386.637692 235.599087 \nL 372.902308 235.599087 \nL 372.902308 223.054471 \n\" style=\"fill:#1562a9;\"/>\n    <path clip-path=\"url(#p8d44442e96)\" d=\"M 386.637692 223.054471 \nL 400.373077 223.054471 \nL 400.373077 235.599087 \nL 386.637692 235.599087 \nL 386.637692 223.054471 \n\" style=\"fill:#1562a9;\"/>\n    <path clip-path=\"url(#p8d44442e96)\" d=\"M 400.373077 223.054471 \nL 414.108462 223.054471 \nL 414.108462 235.599087 \nL 400.373077 235.599087 \nL 400.373077 223.054471 \n\" style=\"fill:#1562a9;\"/>\n    <path clip-path=\"url(#p8d44442e96)\" d=\"M 414.108462 223.054471 \nL 427.843846 223.054471 \nL 427.843846 235.599087 \nL 414.108462 235.599087 \nL 414.108462 223.054471 \n\" style=\"fill:#1460a8;\"/>\n    <path clip-path=\"url(#p8d44442e96)\" d=\"M 427.843846 223.054471 \nL 441.579231 223.054471 \nL 441.579231 235.599087 \nL 427.843846 235.599087 \nL 427.843846 223.054471 \n\" style=\"fill:#1562a9;\"/>\n    <path clip-path=\"url(#p8d44442e96)\" d=\"M 441.579231 223.054471 \nL 455.314615 223.054471 \nL 455.314615 235.599087 \nL 441.579231 235.599087 \nL 441.579231 223.054471 \n\" style=\"fill:#135fa7;\"/>\n    <path clip-path=\"url(#p8d44442e96)\" d=\"M 455.314615 223.054471 \nL 469.05 223.054471 \nL 469.05 235.599087 \nL 455.314615 235.599087 \nL 455.314615 223.054471 \n\" style=\"fill:#1663aa;\"/>\n    <path clip-path=\"url(#p8d44442e96)\" d=\"M 469.05 223.054471 \nL 482.785385 223.054471 \nL 482.785385 235.599087 \nL 469.05 235.599087 \nL 469.05 223.054471 \n\" style=\"fill:#1663aa;\"/>\n    <path clip-path=\"url(#p8d44442e96)\" d=\"M 482.785385 223.054471 \nL 496.520769 223.054471 \nL 496.520769 235.599087 \nL 482.785385 235.599087 \nL 482.785385 223.054471 \n\" style=\"fill:#1562a9;\"/>\n    <path clip-path=\"url(#p8d44442e96)\" d=\"M 496.520769 223.054471 \nL 510.256154 223.054471 \nL 510.256154 235.599087 \nL 496.520769 235.599087 \nL 496.520769 223.054471 \n\" style=\"fill:#1663aa;\"/>\n    <path clip-path=\"url(#p8d44442e96)\" d=\"M 510.256154 223.054471 \nL 523.991538 223.054471 \nL 523.991538 235.599087 \nL 510.256154 235.599087 \nL 510.256154 223.054471 \n\" style=\"fill:none;\"/>\n    <path clip-path=\"url(#p8d44442e96)\" d=\"M 523.991538 223.054471 \nL 537.726923 223.054471 \nL 537.726923 235.599087 \nL 523.991538 235.599087 \nL 523.991538 223.054471 \n\" style=\"fill:none;\"/>\n    <path clip-path=\"url(#p8d44442e96)\" d=\"M 537.726923 223.054471 \nL 551.462308 223.054471 \nL 551.462308 235.599087 \nL 537.726923 235.599087 \nL 537.726923 223.054471 \n\" style=\"fill:none;\"/>\n    <path clip-path=\"url(#p8d44442e96)\" d=\"M 551.462308 223.054471 \nL 565.197692 223.054471 \nL 565.197692 235.599087 \nL 551.462308 235.599087 \nL 551.462308 223.054471 \n\" style=\"fill:none;\"/>\n    <path clip-path=\"url(#p8d44442e96)\" d=\"M 565.197692 223.054471 \nL 578.933077 223.054471 \nL 578.933077 235.599087 \nL 565.197692 235.599087 \nL 565.197692 223.054471 \n\" style=\"fill:none;\"/>\n    <path clip-path=\"url(#p8d44442e96)\" d=\"M 578.933077 223.054471 \nL 592.668462 223.054471 \nL 592.668462 235.599087 \nL 578.933077 235.599087 \nL 578.933077 223.054471 \n\" style=\"fill:none;\"/>\n    <path clip-path=\"url(#p8d44442e96)\" d=\"M 592.668462 223.054471 \nL 606.403846 223.054471 \nL 606.403846 235.599087 \nL 592.668462 235.599087 \nL 592.668462 223.054471 \n\" style=\"fill:none;\"/>\n    <path clip-path=\"url(#p8d44442e96)\" d=\"M 606.403846 223.054471 \nL 620.139231 223.054471 \nL 620.139231 235.599087 \nL 606.403846 235.599087 \nL 606.403846 223.054471 \n\" style=\"fill:none;\"/>\n    <path clip-path=\"url(#p8d44442e96)\" d=\"M 620.139231 223.054471 \nL 633.874615 223.054471 \nL 633.874615 235.599087 \nL 620.139231 235.599087 \nL 620.139231 223.054471 \n\" style=\"fill:none;\"/>\n    <path clip-path=\"url(#p8d44442e96)\" d=\"M 633.874615 223.054471 \nL 647.61 223.054471 \nL 647.61 235.599087 \nL 633.874615 235.599087 \nL 633.874615 223.054471 \n\" style=\"fill:none;\"/>\n    <path clip-path=\"url(#p8d44442e96)\" d=\"M 290.49 235.599087 \nL 304.225385 235.599087 \nL 304.225385 248.143702 \nL 290.49 248.143702 \nL 290.49 235.599087 \n\" style=\"fill:#1663aa;\"/>\n    <path clip-path=\"url(#p8d44442e96)\" d=\"M 304.225385 235.599087 \nL 317.960769 235.599087 \nL 317.960769 248.143702 \nL 304.225385 248.143702 \nL 304.225385 235.599087 \n\" style=\"fill:#1562a9;\"/>\n    <path clip-path=\"url(#p8d44442e96)\" d=\"M 317.960769 235.599087 \nL 331.696154 235.599087 \nL 331.696154 248.143702 \nL 317.960769 248.143702 \nL 317.960769 235.599087 \n\" style=\"fill:#1663aa;\"/>\n    <path clip-path=\"url(#p8d44442e96)\" d=\"M 331.696154 235.599087 \nL 345.431538 235.599087 \nL 345.431538 248.143702 \nL 331.696154 248.143702 \nL 331.696154 235.599087 \n\" style=\"fill:#1562a9;\"/>\n    <path clip-path=\"url(#p8d44442e96)\" d=\"M 345.431538 235.599087 \nL 359.166923 235.599087 \nL 359.166923 248.143702 \nL 345.431538 248.143702 \nL 345.431538 235.599087 \n\" style=\"fill:#1663aa;\"/>\n    <path clip-path=\"url(#p8d44442e96)\" d=\"M 359.166923 235.599087 \nL 372.902308 235.599087 \nL 372.902308 248.143702 \nL 359.166923 248.143702 \nL 359.166923 235.599087 \n\" style=\"fill:#1663aa;\"/>\n    <path clip-path=\"url(#p8d44442e96)\" d=\"M 372.902308 235.599087 \nL 386.637692 235.599087 \nL 386.637692 248.143702 \nL 372.902308 248.143702 \nL 372.902308 235.599087 \n\" style=\"fill:#1663aa;\"/>\n    <path clip-path=\"url(#p8d44442e96)\" d=\"M 386.637692 235.599087 \nL 400.373077 235.599087 \nL 400.373077 248.143702 \nL 386.637692 248.143702 \nL 386.637692 235.599087 \n\" style=\"fill:#1562a9;\"/>\n    <path clip-path=\"url(#p8d44442e96)\" d=\"M 400.373077 235.599087 \nL 414.108462 235.599087 \nL 414.108462 248.143702 \nL 400.373077 248.143702 \nL 400.373077 235.599087 \n\" style=\"fill:#1562a9;\"/>\n    <path clip-path=\"url(#p8d44442e96)\" d=\"M 414.108462 235.599087 \nL 427.843846 235.599087 \nL 427.843846 248.143702 \nL 414.108462 248.143702 \nL 414.108462 235.599087 \n\" style=\"fill:#1561a9;\"/>\n    <path clip-path=\"url(#p8d44442e96)\" d=\"M 427.843846 235.599087 \nL 441.579231 235.599087 \nL 441.579231 248.143702 \nL 427.843846 248.143702 \nL 427.843846 235.599087 \n\" style=\"fill:#1663aa;\"/>\n    <path clip-path=\"url(#p8d44442e96)\" d=\"M 441.579231 235.599087 \nL 455.314615 235.599087 \nL 455.314615 248.143702 \nL 441.579231 248.143702 \nL 441.579231 235.599087 \n\" style=\"fill:#1561a9;\"/>\n    <path clip-path=\"url(#p8d44442e96)\" d=\"M 455.314615 235.599087 \nL 469.05 235.599087 \nL 469.05 248.143702 \nL 455.314615 248.143702 \nL 455.314615 235.599087 \n\" style=\"fill:#1663aa;\"/>\n    <path clip-path=\"url(#p8d44442e96)\" d=\"M 469.05 235.599087 \nL 482.785385 235.599087 \nL 482.785385 248.143702 \nL 469.05 248.143702 \nL 469.05 235.599087 \n\" style=\"fill:#1562a9;\"/>\n    <path clip-path=\"url(#p8d44442e96)\" d=\"M 482.785385 235.599087 \nL 496.520769 235.599087 \nL 496.520769 248.143702 \nL 482.785385 248.143702 \nL 482.785385 235.599087 \n\" style=\"fill:#1561a9;\"/>\n    <path clip-path=\"url(#p8d44442e96)\" d=\"M 496.520769 235.599087 \nL 510.256154 235.599087 \nL 510.256154 248.143702 \nL 496.520769 248.143702 \nL 496.520769 235.599087 \n\" style=\"fill:#1562a9;\"/>\n    <path clip-path=\"url(#p8d44442e96)\" d=\"M 510.256154 235.599087 \nL 523.991538 235.599087 \nL 523.991538 248.143702 \nL 510.256154 248.143702 \nL 510.256154 235.599087 \n\" style=\"fill:#125ea6;\"/>\n    <path clip-path=\"url(#p8d44442e96)\" d=\"M 523.991538 235.599087 \nL 537.726923 235.599087 \nL 537.726923 248.143702 \nL 523.991538 248.143702 \nL 523.991538 235.599087 \n\" style=\"fill:none;\"/>\n    <path clip-path=\"url(#p8d44442e96)\" d=\"M 537.726923 235.599087 \nL 551.462308 235.599087 \nL 551.462308 248.143702 \nL 537.726923 248.143702 \nL 537.726923 235.599087 \n\" style=\"fill:none;\"/>\n    <path clip-path=\"url(#p8d44442e96)\" d=\"M 551.462308 235.599087 \nL 565.197692 235.599087 \nL 565.197692 248.143702 \nL 551.462308 248.143702 \nL 551.462308 235.599087 \n\" style=\"fill:none;\"/>\n    <path clip-path=\"url(#p8d44442e96)\" d=\"M 565.197692 235.599087 \nL 578.933077 235.599087 \nL 578.933077 248.143702 \nL 565.197692 248.143702 \nL 565.197692 235.599087 \n\" style=\"fill:none;\"/>\n    <path clip-path=\"url(#p8d44442e96)\" d=\"M 578.933077 235.599087 \nL 592.668462 235.599087 \nL 592.668462 248.143702 \nL 578.933077 248.143702 \nL 578.933077 235.599087 \n\" style=\"fill:none;\"/>\n    <path clip-path=\"url(#p8d44442e96)\" d=\"M 592.668462 235.599087 \nL 606.403846 235.599087 \nL 606.403846 248.143702 \nL 592.668462 248.143702 \nL 592.668462 235.599087 \n\" style=\"fill:none;\"/>\n    <path clip-path=\"url(#p8d44442e96)\" d=\"M 606.403846 235.599087 \nL 620.139231 235.599087 \nL 620.139231 248.143702 \nL 606.403846 248.143702 \nL 606.403846 235.599087 \n\" style=\"fill:none;\"/>\n    <path clip-path=\"url(#p8d44442e96)\" d=\"M 620.139231 235.599087 \nL 633.874615 235.599087 \nL 633.874615 248.143702 \nL 620.139231 248.143702 \nL 620.139231 235.599087 \n\" style=\"fill:none;\"/>\n    <path clip-path=\"url(#p8d44442e96)\" d=\"M 633.874615 235.599087 \nL 647.61 235.599087 \nL 647.61 248.143702 \nL 633.874615 248.143702 \nL 633.874615 235.599087 \n\" style=\"fill:none;\"/>\n    <path clip-path=\"url(#p8d44442e96)\" d=\"M 290.49 248.143702 \nL 304.225385 248.143702 \nL 304.225385 260.688317 \nL 290.49 260.688317 \nL 290.49 248.143702 \n\" style=\"fill:#1764ab;\"/>\n    <path clip-path=\"url(#p8d44442e96)\" d=\"M 304.225385 248.143702 \nL 317.960769 248.143702 \nL 317.960769 260.688317 \nL 304.225385 260.688317 \nL 304.225385 248.143702 \n\" style=\"fill:#1764ab;\"/>\n    <path clip-path=\"url(#p8d44442e96)\" d=\"M 317.960769 248.143702 \nL 331.696154 248.143702 \nL 331.696154 260.688317 \nL 317.960769 260.688317 \nL 317.960769 248.143702 \n\" style=\"fill:#1663aa;\"/>\n    <path clip-path=\"url(#p8d44442e96)\" d=\"M 331.696154 248.143702 \nL 345.431538 248.143702 \nL 345.431538 260.688317 \nL 331.696154 260.688317 \nL 331.696154 248.143702 \n\" style=\"fill:#1561a9;\"/>\n    <path clip-path=\"url(#p8d44442e96)\" d=\"M 345.431538 248.143702 \nL 359.166923 248.143702 \nL 359.166923 260.688317 \nL 345.431538 260.688317 \nL 345.431538 248.143702 \n\" style=\"fill:#1561a9;\"/>\n    <path clip-path=\"url(#p8d44442e96)\" d=\"M 359.166923 248.143702 \nL 372.902308 248.143702 \nL 372.902308 260.688317 \nL 359.166923 260.688317 \nL 359.166923 248.143702 \n\" style=\"fill:#1663aa;\"/>\n    <path clip-path=\"url(#p8d44442e96)\" d=\"M 372.902308 248.143702 \nL 386.637692 248.143702 \nL 386.637692 260.688317 \nL 372.902308 260.688317 \nL 372.902308 248.143702 \n\" style=\"fill:#1460a8;\"/>\n    <path clip-path=\"url(#p8d44442e96)\" d=\"M 386.637692 248.143702 \nL 400.373077 248.143702 \nL 400.373077 260.688317 \nL 386.637692 260.688317 \nL 386.637692 248.143702 \n\" style=\"fill:#1460a8;\"/>\n    <path clip-path=\"url(#p8d44442e96)\" d=\"M 400.373077 248.143702 \nL 414.108462 248.143702 \nL 414.108462 260.688317 \nL 400.373077 260.688317 \nL 400.373077 248.143702 \n\" style=\"fill:#1562a9;\"/>\n    <path clip-path=\"url(#p8d44442e96)\" d=\"M 414.108462 248.143702 \nL 427.843846 248.143702 \nL 427.843846 260.688317 \nL 414.108462 260.688317 \nL 414.108462 248.143702 \n\" style=\"fill:#1562a9;\"/>\n    <path clip-path=\"url(#p8d44442e96)\" d=\"M 427.843846 248.143702 \nL 441.579231 248.143702 \nL 441.579231 260.688317 \nL 427.843846 260.688317 \nL 427.843846 248.143702 \n\" style=\"fill:#1663aa;\"/>\n    <path clip-path=\"url(#p8d44442e96)\" d=\"M 441.579231 248.143702 \nL 455.314615 248.143702 \nL 455.314615 260.688317 \nL 441.579231 260.688317 \nL 441.579231 248.143702 \n\" style=\"fill:#1562a9;\"/>\n    <path clip-path=\"url(#p8d44442e96)\" d=\"M 455.314615 248.143702 \nL 469.05 248.143702 \nL 469.05 260.688317 \nL 455.314615 260.688317 \nL 455.314615 248.143702 \n\" style=\"fill:#1562a9;\"/>\n    <path clip-path=\"url(#p8d44442e96)\" d=\"M 469.05 248.143702 \nL 482.785385 248.143702 \nL 482.785385 260.688317 \nL 469.05 260.688317 \nL 469.05 248.143702 \n\" style=\"fill:#1764ab;\"/>\n    <path clip-path=\"url(#p8d44442e96)\" d=\"M 482.785385 248.143702 \nL 496.520769 248.143702 \nL 496.520769 260.688317 \nL 482.785385 260.688317 \nL 482.785385 248.143702 \n\" style=\"fill:#1663aa;\"/>\n    <path clip-path=\"url(#p8d44442e96)\" d=\"M 496.520769 248.143702 \nL 510.256154 248.143702 \nL 510.256154 260.688317 \nL 496.520769 260.688317 \nL 496.520769 248.143702 \n\" style=\"fill:#1764ab;\"/>\n    <path clip-path=\"url(#p8d44442e96)\" d=\"M 510.256154 248.143702 \nL 523.991538 248.143702 \nL 523.991538 260.688317 \nL 510.256154 260.688317 \nL 510.256154 248.143702 \n\" style=\"fill:#1562a9;\"/>\n    <path clip-path=\"url(#p8d44442e96)\" d=\"M 523.991538 248.143702 \nL 537.726923 248.143702 \nL 537.726923 260.688317 \nL 523.991538 260.688317 \nL 523.991538 248.143702 \n\" style=\"fill:#1562a9;\"/>\n    <path clip-path=\"url(#p8d44442e96)\" d=\"M 537.726923 248.143702 \nL 551.462308 248.143702 \nL 551.462308 260.688317 \nL 537.726923 260.688317 \nL 537.726923 248.143702 \n\" style=\"fill:none;\"/>\n    <path clip-path=\"url(#p8d44442e96)\" d=\"M 551.462308 248.143702 \nL 565.197692 248.143702 \nL 565.197692 260.688317 \nL 551.462308 260.688317 \nL 551.462308 248.143702 \n\" style=\"fill:none;\"/>\n    <path clip-path=\"url(#p8d44442e96)\" d=\"M 565.197692 248.143702 \nL 578.933077 248.143702 \nL 578.933077 260.688317 \nL 565.197692 260.688317 \nL 565.197692 248.143702 \n\" style=\"fill:none;\"/>\n    <path clip-path=\"url(#p8d44442e96)\" d=\"M 578.933077 248.143702 \nL 592.668462 248.143702 \nL 592.668462 260.688317 \nL 578.933077 260.688317 \nL 578.933077 248.143702 \n\" style=\"fill:none;\"/>\n    <path clip-path=\"url(#p8d44442e96)\" d=\"M 592.668462 248.143702 \nL 606.403846 248.143702 \nL 606.403846 260.688317 \nL 592.668462 260.688317 \nL 592.668462 248.143702 \n\" style=\"fill:none;\"/>\n    <path clip-path=\"url(#p8d44442e96)\" d=\"M 606.403846 248.143702 \nL 620.139231 248.143702 \nL 620.139231 260.688317 \nL 606.403846 260.688317 \nL 606.403846 248.143702 \n\" style=\"fill:none;\"/>\n    <path clip-path=\"url(#p8d44442e96)\" d=\"M 620.139231 248.143702 \nL 633.874615 248.143702 \nL 633.874615 260.688317 \nL 620.139231 260.688317 \nL 620.139231 248.143702 \n\" style=\"fill:none;\"/>\n    <path clip-path=\"url(#p8d44442e96)\" d=\"M 633.874615 248.143702 \nL 647.61 248.143702 \nL 647.61 260.688317 \nL 633.874615 260.688317 \nL 633.874615 248.143702 \n\" style=\"fill:none;\"/>\n    <path clip-path=\"url(#p8d44442e96)\" d=\"M 290.49 260.688317 \nL 304.225385 260.688317 \nL 304.225385 273.232933 \nL 290.49 273.232933 \nL 290.49 260.688317 \n\" style=\"fill:#08509b;\"/>\n    <path clip-path=\"url(#p8d44442e96)\" d=\"M 304.225385 260.688317 \nL 317.960769 260.688317 \nL 317.960769 273.232933 \nL 304.225385 273.232933 \nL 304.225385 260.688317 \n\" style=\"fill:#135fa7;\"/>\n    <path clip-path=\"url(#p8d44442e96)\" d=\"M 317.960769 260.688317 \nL 331.696154 260.688317 \nL 331.696154 273.232933 \nL 317.960769 273.232933 \nL 317.960769 260.688317 \n\" style=\"fill:#1561a9;\"/>\n    <path clip-path=\"url(#p8d44442e96)\" d=\"M 331.696154 260.688317 \nL 345.431538 260.688317 \nL 345.431538 273.232933 \nL 331.696154 273.232933 \nL 331.696154 260.688317 \n\" style=\"fill:#1562a9;\"/>\n    <path clip-path=\"url(#p8d44442e96)\" d=\"M 345.431538 260.688317 \nL 359.166923 260.688317 \nL 359.166923 273.232933 \nL 345.431538 273.232933 \nL 345.431538 260.688317 \n\" style=\"fill:#1561a9;\"/>\n    <path clip-path=\"url(#p8d44442e96)\" d=\"M 359.166923 260.688317 \nL 372.902308 260.688317 \nL 372.902308 273.232933 \nL 359.166923 273.232933 \nL 359.166923 260.688317 \n\" style=\"fill:#1561a9;\"/>\n    <path clip-path=\"url(#p8d44442e96)\" d=\"M 372.902308 260.688317 \nL 386.637692 260.688317 \nL 386.637692 273.232933 \nL 372.902308 273.232933 \nL 372.902308 260.688317 \n\" style=\"fill:#1562a9;\"/>\n    <path clip-path=\"url(#p8d44442e96)\" d=\"M 386.637692 260.688317 \nL 400.373077 260.688317 \nL 400.373077 273.232933 \nL 386.637692 273.232933 \nL 386.637692 260.688317 \n\" style=\"fill:#1561a9;\"/>\n    <path clip-path=\"url(#p8d44442e96)\" d=\"M 400.373077 260.688317 \nL 414.108462 260.688317 \nL 414.108462 273.232933 \nL 400.373077 273.232933 \nL 400.373077 260.688317 \n\" style=\"fill:#1562a9;\"/>\n    <path clip-path=\"url(#p8d44442e96)\" d=\"M 414.108462 260.688317 \nL 427.843846 260.688317 \nL 427.843846 273.232933 \nL 414.108462 273.232933 \nL 414.108462 260.688317 \n\" style=\"fill:#1764ab;\"/>\n    <path clip-path=\"url(#p8d44442e96)\" d=\"M 427.843846 260.688317 \nL 441.579231 260.688317 \nL 441.579231 273.232933 \nL 427.843846 273.232933 \nL 427.843846 260.688317 \n\" style=\"fill:#125ea6;\"/>\n    <path clip-path=\"url(#p8d44442e96)\" d=\"M 441.579231 260.688317 \nL 455.314615 260.688317 \nL 455.314615 273.232933 \nL 441.579231 273.232933 \nL 441.579231 260.688317 \n\" style=\"fill:#1460a8;\"/>\n    <path clip-path=\"url(#p8d44442e96)\" d=\"M 455.314615 260.688317 \nL 469.05 260.688317 \nL 469.05 273.232933 \nL 455.314615 273.232933 \nL 455.314615 260.688317 \n\" style=\"fill:#1663aa;\"/>\n    <path clip-path=\"url(#p8d44442e96)\" d=\"M 469.05 260.688317 \nL 482.785385 260.688317 \nL 482.785385 273.232933 \nL 469.05 273.232933 \nL 469.05 260.688317 \n\" style=\"fill:#1561a9;\"/>\n    <path clip-path=\"url(#p8d44442e96)\" d=\"M 482.785385 260.688317 \nL 496.520769 260.688317 \nL 496.520769 273.232933 \nL 482.785385 273.232933 \nL 482.785385 260.688317 \n\" style=\"fill:#1562a9;\"/>\n    <path clip-path=\"url(#p8d44442e96)\" d=\"M 496.520769 260.688317 \nL 510.256154 260.688317 \nL 510.256154 273.232933 \nL 496.520769 273.232933 \nL 496.520769 260.688317 \n\" style=\"fill:#1561a9;\"/>\n    <path clip-path=\"url(#p8d44442e96)\" d=\"M 510.256154 260.688317 \nL 523.991538 260.688317 \nL 523.991538 273.232933 \nL 510.256154 273.232933 \nL 510.256154 260.688317 \n\" style=\"fill:#1764ab;\"/>\n    <path clip-path=\"url(#p8d44442e96)\" d=\"M 523.991538 260.688317 \nL 537.726923 260.688317 \nL 537.726923 273.232933 \nL 523.991538 273.232933 \nL 523.991538 260.688317 \n\" style=\"fill:#1561a9;\"/>\n    <path clip-path=\"url(#p8d44442e96)\" d=\"M 537.726923 260.688317 \nL 551.462308 260.688317 \nL 551.462308 273.232933 \nL 537.726923 273.232933 \nL 537.726923 260.688317 \n\" style=\"fill:#1460a8;\"/>\n    <path clip-path=\"url(#p8d44442e96)\" d=\"M 551.462308 260.688317 \nL 565.197692 260.688317 \nL 565.197692 273.232933 \nL 551.462308 273.232933 \nL 551.462308 260.688317 \n\" style=\"fill:none;\"/>\n    <path clip-path=\"url(#p8d44442e96)\" d=\"M 565.197692 260.688317 \nL 578.933077 260.688317 \nL 578.933077 273.232933 \nL 565.197692 273.232933 \nL 565.197692 260.688317 \n\" style=\"fill:none;\"/>\n    <path clip-path=\"url(#p8d44442e96)\" d=\"M 578.933077 260.688317 \nL 592.668462 260.688317 \nL 592.668462 273.232933 \nL 578.933077 273.232933 \nL 578.933077 260.688317 \n\" style=\"fill:none;\"/>\n    <path clip-path=\"url(#p8d44442e96)\" d=\"M 592.668462 260.688317 \nL 606.403846 260.688317 \nL 606.403846 273.232933 \nL 592.668462 273.232933 \nL 592.668462 260.688317 \n\" style=\"fill:none;\"/>\n    <path clip-path=\"url(#p8d44442e96)\" d=\"M 606.403846 260.688317 \nL 620.139231 260.688317 \nL 620.139231 273.232933 \nL 606.403846 273.232933 \nL 606.403846 260.688317 \n\" style=\"fill:none;\"/>\n    <path clip-path=\"url(#p8d44442e96)\" d=\"M 620.139231 260.688317 \nL 633.874615 260.688317 \nL 633.874615 273.232933 \nL 620.139231 273.232933 \nL 620.139231 260.688317 \n\" style=\"fill:none;\"/>\n    <path clip-path=\"url(#p8d44442e96)\" d=\"M 633.874615 260.688317 \nL 647.61 260.688317 \nL 647.61 273.232933 \nL 633.874615 273.232933 \nL 633.874615 260.688317 \n\" style=\"fill:none;\"/>\n    <path clip-path=\"url(#p8d44442e96)\" d=\"M 290.49 273.232933 \nL 304.225385 273.232933 \nL 304.225385 285.777548 \nL 290.49 285.777548 \nL 290.49 273.232933 \n\" style=\"fill:#1562a9;\"/>\n    <path clip-path=\"url(#p8d44442e96)\" d=\"M 304.225385 273.232933 \nL 317.960769 273.232933 \nL 317.960769 285.777548 \nL 304.225385 285.777548 \nL 304.225385 273.232933 \n\" style=\"fill:#1562a9;\"/>\n    <path clip-path=\"url(#p8d44442e96)\" d=\"M 317.960769 273.232933 \nL 331.696154 273.232933 \nL 331.696154 285.777548 \nL 317.960769 285.777548 \nL 317.960769 273.232933 \n\" style=\"fill:#1561a9;\"/>\n    <path clip-path=\"url(#p8d44442e96)\" d=\"M 331.696154 273.232933 \nL 345.431538 273.232933 \nL 345.431538 285.777548 \nL 331.696154 285.777548 \nL 331.696154 273.232933 \n\" style=\"fill:#1561a9;\"/>\n    <path clip-path=\"url(#p8d44442e96)\" d=\"M 345.431538 273.232933 \nL 359.166923 273.232933 \nL 359.166923 285.777548 \nL 345.431538 285.777548 \nL 345.431538 273.232933 \n\" style=\"fill:#1562a9;\"/>\n    <path clip-path=\"url(#p8d44442e96)\" d=\"M 359.166923 273.232933 \nL 372.902308 273.232933 \nL 372.902308 285.777548 \nL 359.166923 285.777548 \nL 359.166923 273.232933 \n\" style=\"fill:#1562a9;\"/>\n    <path clip-path=\"url(#p8d44442e96)\" d=\"M 372.902308 273.232933 \nL 386.637692 273.232933 \nL 386.637692 285.777548 \nL 372.902308 285.777548 \nL 372.902308 273.232933 \n\" style=\"fill:#1764ab;\"/>\n    <path clip-path=\"url(#p8d44442e96)\" d=\"M 386.637692 273.232933 \nL 400.373077 273.232933 \nL 400.373077 285.777548 \nL 386.637692 285.777548 \nL 386.637692 273.232933 \n\" style=\"fill:#1562a9;\"/>\n    <path clip-path=\"url(#p8d44442e96)\" d=\"M 400.373077 273.232933 \nL 414.108462 273.232933 \nL 414.108462 285.777548 \nL 400.373077 285.777548 \nL 400.373077 273.232933 \n\" style=\"fill:#1764ab;\"/>\n    <path clip-path=\"url(#p8d44442e96)\" d=\"M 414.108462 273.232933 \nL 427.843846 273.232933 \nL 427.843846 285.777548 \nL 414.108462 285.777548 \nL 414.108462 273.232933 \n\" style=\"fill:#1562a9;\"/>\n    <path clip-path=\"url(#p8d44442e96)\" d=\"M 427.843846 273.232933 \nL 441.579231 273.232933 \nL 441.579231 285.777548 \nL 427.843846 285.777548 \nL 427.843846 273.232933 \n\" style=\"fill:#1562a9;\"/>\n    <path clip-path=\"url(#p8d44442e96)\" d=\"M 441.579231 273.232933 \nL 455.314615 273.232933 \nL 455.314615 285.777548 \nL 441.579231 285.777548 \nL 441.579231 273.232933 \n\" style=\"fill:#1764ab;\"/>\n    <path clip-path=\"url(#p8d44442e96)\" d=\"M 455.314615 273.232933 \nL 469.05 273.232933 \nL 469.05 285.777548 \nL 455.314615 285.777548 \nL 455.314615 273.232933 \n\" style=\"fill:#1865ac;\"/>\n    <path clip-path=\"url(#p8d44442e96)\" d=\"M 469.05 273.232933 \nL 482.785385 273.232933 \nL 482.785385 285.777548 \nL 469.05 285.777548 \nL 469.05 273.232933 \n\" style=\"fill:#1663aa;\"/>\n    <path clip-path=\"url(#p8d44442e96)\" d=\"M 482.785385 273.232933 \nL 496.520769 273.232933 \nL 496.520769 285.777548 \nL 482.785385 285.777548 \nL 482.785385 273.232933 \n\" style=\"fill:#1562a9;\"/>\n    <path clip-path=\"url(#p8d44442e96)\" d=\"M 496.520769 273.232933 \nL 510.256154 273.232933 \nL 510.256154 285.777548 \nL 496.520769 285.777548 \nL 496.520769 273.232933 \n\" style=\"fill:#1562a9;\"/>\n    <path clip-path=\"url(#p8d44442e96)\" d=\"M 510.256154 273.232933 \nL 523.991538 273.232933 \nL 523.991538 285.777548 \nL 510.256154 285.777548 \nL 510.256154 273.232933 \n\" style=\"fill:#1764ab;\"/>\n    <path clip-path=\"url(#p8d44442e96)\" d=\"M 523.991538 273.232933 \nL 537.726923 273.232933 \nL 537.726923 285.777548 \nL 523.991538 285.777548 \nL 523.991538 273.232933 \n\" style=\"fill:#1562a9;\"/>\n    <path clip-path=\"url(#p8d44442e96)\" d=\"M 537.726923 273.232933 \nL 551.462308 273.232933 \nL 551.462308 285.777548 \nL 537.726923 285.777548 \nL 537.726923 273.232933 \n\" style=\"fill:#135fa7;\"/>\n    <path clip-path=\"url(#p8d44442e96)\" d=\"M 551.462308 273.232933 \nL 565.197692 273.232933 \nL 565.197692 285.777548 \nL 551.462308 285.777548 \nL 551.462308 273.232933 \n\" style=\"fill:#1663aa;\"/>\n    <path clip-path=\"url(#p8d44442e96)\" d=\"M 565.197692 273.232933 \nL 578.933077 273.232933 \nL 578.933077 285.777548 \nL 565.197692 285.777548 \nL 565.197692 273.232933 \n\" style=\"fill:none;\"/>\n    <path clip-path=\"url(#p8d44442e96)\" d=\"M 578.933077 273.232933 \nL 592.668462 273.232933 \nL 592.668462 285.777548 \nL 578.933077 285.777548 \nL 578.933077 273.232933 \n\" style=\"fill:none;\"/>\n    <path clip-path=\"url(#p8d44442e96)\" d=\"M 592.668462 273.232933 \nL 606.403846 273.232933 \nL 606.403846 285.777548 \nL 592.668462 285.777548 \nL 592.668462 273.232933 \n\" style=\"fill:none;\"/>\n    <path clip-path=\"url(#p8d44442e96)\" d=\"M 606.403846 273.232933 \nL 620.139231 273.232933 \nL 620.139231 285.777548 \nL 606.403846 285.777548 \nL 606.403846 273.232933 \n\" style=\"fill:none;\"/>\n    <path clip-path=\"url(#p8d44442e96)\" d=\"M 620.139231 273.232933 \nL 633.874615 273.232933 \nL 633.874615 285.777548 \nL 620.139231 285.777548 \nL 620.139231 273.232933 \n\" style=\"fill:none;\"/>\n    <path clip-path=\"url(#p8d44442e96)\" d=\"M 633.874615 273.232933 \nL 647.61 273.232933 \nL 647.61 285.777548 \nL 633.874615 285.777548 \nL 633.874615 273.232933 \n\" style=\"fill:none;\"/>\n    <path clip-path=\"url(#p8d44442e96)\" d=\"M 290.49 285.777548 \nL 304.225385 285.777548 \nL 304.225385 298.322163 \nL 290.49 298.322163 \nL 290.49 285.777548 \n\" style=\"fill:#1561a9;\"/>\n    <path clip-path=\"url(#p8d44442e96)\" d=\"M 304.225385 285.777548 \nL 317.960769 285.777548 \nL 317.960769 298.322163 \nL 304.225385 298.322163 \nL 304.225385 285.777548 \n\" style=\"fill:#1562a9;\"/>\n    <path clip-path=\"url(#p8d44442e96)\" d=\"M 317.960769 285.777548 \nL 331.696154 285.777548 \nL 331.696154 298.322163 \nL 317.960769 298.322163 \nL 317.960769 285.777548 \n\" style=\"fill:#1764ab;\"/>\n    <path clip-path=\"url(#p8d44442e96)\" d=\"M 331.696154 285.777548 \nL 345.431538 285.777548 \nL 345.431538 298.322163 \nL 331.696154 298.322163 \nL 331.696154 285.777548 \n\" style=\"fill:#1561a9;\"/>\n    <path clip-path=\"url(#p8d44442e96)\" d=\"M 345.431538 285.777548 \nL 359.166923 285.777548 \nL 359.166923 298.322163 \nL 345.431538 298.322163 \nL 345.431538 285.777548 \n\" style=\"fill:#1663aa;\"/>\n    <path clip-path=\"url(#p8d44442e96)\" d=\"M 359.166923 285.777548 \nL 372.902308 285.777548 \nL 372.902308 298.322163 \nL 359.166923 298.322163 \nL 359.166923 285.777548 \n\" style=\"fill:#1561a9;\"/>\n    <path clip-path=\"url(#p8d44442e96)\" d=\"M 372.902308 285.777548 \nL 386.637692 285.777548 \nL 386.637692 298.322163 \nL 372.902308 298.322163 \nL 372.902308 285.777548 \n\" style=\"fill:#1663aa;\"/>\n    <path clip-path=\"url(#p8d44442e96)\" d=\"M 386.637692 285.777548 \nL 400.373077 285.777548 \nL 400.373077 298.322163 \nL 386.637692 298.322163 \nL 386.637692 285.777548 \n\" style=\"fill:#1562a9;\"/>\n    <path clip-path=\"url(#p8d44442e96)\" d=\"M 400.373077 285.777548 \nL 414.108462 285.777548 \nL 414.108462 298.322163 \nL 400.373077 298.322163 \nL 400.373077 285.777548 \n\" style=\"fill:#1561a9;\"/>\n    <path clip-path=\"url(#p8d44442e96)\" d=\"M 414.108462 285.777548 \nL 427.843846 285.777548 \nL 427.843846 298.322163 \nL 414.108462 298.322163 \nL 414.108462 285.777548 \n\" style=\"fill:#1562a9;\"/>\n    <path clip-path=\"url(#p8d44442e96)\" d=\"M 427.843846 285.777548 \nL 441.579231 285.777548 \nL 441.579231 298.322163 \nL 427.843846 298.322163 \nL 427.843846 285.777548 \n\" style=\"fill:#1562a9;\"/>\n    <path clip-path=\"url(#p8d44442e96)\" d=\"M 441.579231 285.777548 \nL 455.314615 285.777548 \nL 455.314615 298.322163 \nL 441.579231 298.322163 \nL 441.579231 285.777548 \n\" style=\"fill:#1562a9;\"/>\n    <path clip-path=\"url(#p8d44442e96)\" d=\"M 455.314615 285.777548 \nL 469.05 285.777548 \nL 469.05 298.322163 \nL 455.314615 298.322163 \nL 455.314615 285.777548 \n\" style=\"fill:#1561a9;\"/>\n    <path clip-path=\"url(#p8d44442e96)\" d=\"M 469.05 285.777548 \nL 482.785385 285.777548 \nL 482.785385 298.322163 \nL 469.05 298.322163 \nL 469.05 285.777548 \n\" style=\"fill:#1561a9;\"/>\n    <path clip-path=\"url(#p8d44442e96)\" d=\"M 482.785385 285.777548 \nL 496.520769 285.777548 \nL 496.520769 298.322163 \nL 482.785385 298.322163 \nL 482.785385 285.777548 \n\" style=\"fill:#1562a9;\"/>\n    <path clip-path=\"url(#p8d44442e96)\" d=\"M 496.520769 285.777548 \nL 510.256154 285.777548 \nL 510.256154 298.322163 \nL 496.520769 298.322163 \nL 496.520769 285.777548 \n\" style=\"fill:#1460a8;\"/>\n    <path clip-path=\"url(#p8d44442e96)\" d=\"M 510.256154 285.777548 \nL 523.991538 285.777548 \nL 523.991538 298.322163 \nL 510.256154 298.322163 \nL 510.256154 285.777548 \n\" style=\"fill:#1561a9;\"/>\n    <path clip-path=\"url(#p8d44442e96)\" d=\"M 523.991538 285.777548 \nL 537.726923 285.777548 \nL 537.726923 298.322163 \nL 523.991538 298.322163 \nL 523.991538 285.777548 \n\" style=\"fill:#1562a9;\"/>\n    <path clip-path=\"url(#p8d44442e96)\" d=\"M 537.726923 285.777548 \nL 551.462308 285.777548 \nL 551.462308 298.322163 \nL 537.726923 298.322163 \nL 537.726923 285.777548 \n\" style=\"fill:#1460a8;\"/>\n    <path clip-path=\"url(#p8d44442e96)\" d=\"M 551.462308 285.777548 \nL 565.197692 285.777548 \nL 565.197692 298.322163 \nL 551.462308 298.322163 \nL 551.462308 285.777548 \n\" style=\"fill:#1561a9;\"/>\n    <path clip-path=\"url(#p8d44442e96)\" d=\"M 565.197692 285.777548 \nL 578.933077 285.777548 \nL 578.933077 298.322163 \nL 565.197692 298.322163 \nL 565.197692 285.777548 \n\" style=\"fill:#1561a9;\"/>\n    <path clip-path=\"url(#p8d44442e96)\" d=\"M 578.933077 285.777548 \nL 592.668462 285.777548 \nL 592.668462 298.322163 \nL 578.933077 298.322163 \nL 578.933077 285.777548 \n\" style=\"fill:none;\"/>\n    <path clip-path=\"url(#p8d44442e96)\" d=\"M 592.668462 285.777548 \nL 606.403846 285.777548 \nL 606.403846 298.322163 \nL 592.668462 298.322163 \nL 592.668462 285.777548 \n\" style=\"fill:none;\"/>\n    <path clip-path=\"url(#p8d44442e96)\" d=\"M 606.403846 285.777548 \nL 620.139231 285.777548 \nL 620.139231 298.322163 \nL 606.403846 298.322163 \nL 606.403846 285.777548 \n\" style=\"fill:none;\"/>\n    <path clip-path=\"url(#p8d44442e96)\" d=\"M 620.139231 285.777548 \nL 633.874615 285.777548 \nL 633.874615 298.322163 \nL 620.139231 298.322163 \nL 620.139231 285.777548 \n\" style=\"fill:none;\"/>\n    <path clip-path=\"url(#p8d44442e96)\" d=\"M 633.874615 285.777548 \nL 647.61 285.777548 \nL 647.61 298.322163 \nL 633.874615 298.322163 \nL 633.874615 285.777548 \n\" style=\"fill:none;\"/>\n    <path clip-path=\"url(#p8d44442e96)\" d=\"M 290.49 298.322163 \nL 304.225385 298.322163 \nL 304.225385 310.866779 \nL 290.49 310.866779 \nL 290.49 298.322163 \n\" style=\"fill:#2373b6;\"/>\n    <path clip-path=\"url(#p8d44442e96)\" d=\"M 304.225385 298.322163 \nL 317.960769 298.322163 \nL 317.960769 310.866779 \nL 304.225385 310.866779 \nL 304.225385 298.322163 \n\" style=\"fill:#1966ad;\"/>\n    <path clip-path=\"url(#p8d44442e96)\" d=\"M 317.960769 298.322163 \nL 331.696154 298.322163 \nL 331.696154 310.866779 \nL 317.960769 310.866779 \nL 317.960769 298.322163 \n\" style=\"fill:#1460a8;\"/>\n    <path clip-path=\"url(#p8d44442e96)\" d=\"M 331.696154 298.322163 \nL 345.431538 298.322163 \nL 345.431538 310.866779 \nL 331.696154 310.866779 \nL 331.696154 298.322163 \n\" style=\"fill:#1561a9;\"/>\n    <path clip-path=\"url(#p8d44442e96)\" d=\"M 345.431538 298.322163 \nL 359.166923 298.322163 \nL 359.166923 310.866779 \nL 345.431538 310.866779 \nL 345.431538 298.322163 \n\" style=\"fill:#1764ab;\"/>\n    <path clip-path=\"url(#p8d44442e96)\" d=\"M 359.166923 298.322163 \nL 372.902308 298.322163 \nL 372.902308 310.866779 \nL 359.166923 310.866779 \nL 359.166923 298.322163 \n\" style=\"fill:#2f7fbc;\"/>\n    <path clip-path=\"url(#p8d44442e96)\" d=\"M 372.902308 298.322163 \nL 386.637692 298.322163 \nL 386.637692 310.866779 \nL 372.902308 310.866779 \nL 372.902308 298.322163 \n\" style=\"fill:#1a68ae;\"/>\n    <path clip-path=\"url(#p8d44442e96)\" d=\"M 386.637692 298.322163 \nL 400.373077 298.322163 \nL 400.373077 310.866779 \nL 386.637692 310.866779 \nL 386.637692 298.322163 \n\" style=\"fill:#1966ad;\"/>\n    <path clip-path=\"url(#p8d44442e96)\" d=\"M 400.373077 298.322163 \nL 414.108462 298.322163 \nL 414.108462 310.866779 \nL 400.373077 310.866779 \nL 400.373077 298.322163 \n\" style=\"fill:#1764ab;\"/>\n    <path clip-path=\"url(#p8d44442e96)\" d=\"M 414.108462 298.322163 \nL 427.843846 298.322163 \nL 427.843846 310.866779 \nL 414.108462 310.866779 \nL 414.108462 298.322163 \n\" style=\"fill:#1967ad;\"/>\n    <path clip-path=\"url(#p8d44442e96)\" d=\"M 427.843846 298.322163 \nL 441.579231 298.322163 \nL 441.579231 310.866779 \nL 427.843846 310.866779 \nL 427.843846 298.322163 \n\" style=\"fill:#1865ac;\"/>\n    <path clip-path=\"url(#p8d44442e96)\" d=\"M 441.579231 298.322163 \nL 455.314615 298.322163 \nL 455.314615 310.866779 \nL 441.579231 310.866779 \nL 441.579231 298.322163 \n\" style=\"fill:#1562a9;\"/>\n    <path clip-path=\"url(#p8d44442e96)\" d=\"M 455.314615 298.322163 \nL 469.05 298.322163 \nL 469.05 310.866779 \nL 455.314615 310.866779 \nL 455.314615 298.322163 \n\" style=\"fill:#1663aa;\"/>\n    <path clip-path=\"url(#p8d44442e96)\" d=\"M 469.05 298.322163 \nL 482.785385 298.322163 \nL 482.785385 310.866779 \nL 469.05 310.866779 \nL 469.05 298.322163 \n\" style=\"fill:#1561a9;\"/>\n    <path clip-path=\"url(#p8d44442e96)\" d=\"M 482.785385 298.322163 \nL 496.520769 298.322163 \nL 496.520769 310.866779 \nL 482.785385 310.866779 \nL 482.785385 298.322163 \n\" style=\"fill:#1764ab;\"/>\n    <path clip-path=\"url(#p8d44442e96)\" d=\"M 496.520769 298.322163 \nL 510.256154 298.322163 \nL 510.256154 310.866779 \nL 496.520769 310.866779 \nL 496.520769 298.322163 \n\" style=\"fill:#1663aa;\"/>\n    <path clip-path=\"url(#p8d44442e96)\" d=\"M 510.256154 298.322163 \nL 523.991538 298.322163 \nL 523.991538 310.866779 \nL 510.256154 310.866779 \nL 510.256154 298.322163 \n\" style=\"fill:#1663aa;\"/>\n    <path clip-path=\"url(#p8d44442e96)\" d=\"M 523.991538 298.322163 \nL 537.726923 298.322163 \nL 537.726923 310.866779 \nL 523.991538 310.866779 \nL 523.991538 298.322163 \n\" style=\"fill:#1764ab;\"/>\n    <path clip-path=\"url(#p8d44442e96)\" d=\"M 537.726923 298.322163 \nL 551.462308 298.322163 \nL 551.462308 310.866779 \nL 537.726923 310.866779 \nL 537.726923 298.322163 \n\" style=\"fill:#1561a9;\"/>\n    <path clip-path=\"url(#p8d44442e96)\" d=\"M 551.462308 298.322163 \nL 565.197692 298.322163 \nL 565.197692 310.866779 \nL 551.462308 310.866779 \nL 551.462308 298.322163 \n\" style=\"fill:#1460a8;\"/>\n    <path clip-path=\"url(#p8d44442e96)\" d=\"M 565.197692 298.322163 \nL 578.933077 298.322163 \nL 578.933077 310.866779 \nL 565.197692 310.866779 \nL 565.197692 298.322163 \n\" style=\"fill:#1561a9;\"/>\n    <path clip-path=\"url(#p8d44442e96)\" d=\"M 578.933077 298.322163 \nL 592.668462 298.322163 \nL 592.668462 310.866779 \nL 578.933077 310.866779 \nL 578.933077 298.322163 \n\" style=\"fill:#1561a9;\"/>\n    <path clip-path=\"url(#p8d44442e96)\" d=\"M 592.668462 298.322163 \nL 606.403846 298.322163 \nL 606.403846 310.866779 \nL 592.668462 310.866779 \nL 592.668462 298.322163 \n\" style=\"fill:none;\"/>\n    <path clip-path=\"url(#p8d44442e96)\" d=\"M 606.403846 298.322163 \nL 620.139231 298.322163 \nL 620.139231 310.866779 \nL 606.403846 310.866779 \nL 606.403846 298.322163 \n\" style=\"fill:none;\"/>\n    <path clip-path=\"url(#p8d44442e96)\" d=\"M 620.139231 298.322163 \nL 633.874615 298.322163 \nL 633.874615 310.866779 \nL 620.139231 310.866779 \nL 620.139231 298.322163 \n\" style=\"fill:none;\"/>\n    <path clip-path=\"url(#p8d44442e96)\" d=\"M 633.874615 298.322163 \nL 647.61 298.322163 \nL 647.61 310.866779 \nL 633.874615 310.866779 \nL 633.874615 298.322163 \n\" style=\"fill:none;\"/>\n    <path clip-path=\"url(#p8d44442e96)\" d=\"M 290.49 310.866779 \nL 304.225385 310.866779 \nL 304.225385 323.411394 \nL 290.49 323.411394 \nL 290.49 310.866779 \n\" style=\"fill:#1561a9;\"/>\n    <path clip-path=\"url(#p8d44442e96)\" d=\"M 304.225385 310.866779 \nL 317.960769 310.866779 \nL 317.960769 323.411394 \nL 304.225385 323.411394 \nL 304.225385 310.866779 \n\" style=\"fill:#135fa7;\"/>\n    <path clip-path=\"url(#p8d44442e96)\" d=\"M 317.960769 310.866779 \nL 331.696154 310.866779 \nL 331.696154 323.411394 \nL 317.960769 323.411394 \nL 317.960769 310.866779 \n\" style=\"fill:#1561a9;\"/>\n    <path clip-path=\"url(#p8d44442e96)\" d=\"M 331.696154 310.866779 \nL 345.431538 310.866779 \nL 345.431538 323.411394 \nL 331.696154 323.411394 \nL 331.696154 310.866779 \n\" style=\"fill:#1562a9;\"/>\n    <path clip-path=\"url(#p8d44442e96)\" d=\"M 345.431538 310.866779 \nL 359.166923 310.866779 \nL 359.166923 323.411394 \nL 345.431538 323.411394 \nL 345.431538 310.866779 \n\" style=\"fill:#1561a9;\"/>\n    <path clip-path=\"url(#p8d44442e96)\" d=\"M 359.166923 310.866779 \nL 372.902308 310.866779 \nL 372.902308 323.411394 \nL 359.166923 323.411394 \nL 359.166923 310.866779 \n\" style=\"fill:#125da6;\"/>\n    <path clip-path=\"url(#p8d44442e96)\" d=\"M 372.902308 310.866779 \nL 386.637692 310.866779 \nL 386.637692 323.411394 \nL 372.902308 323.411394 \nL 372.902308 310.866779 \n\" style=\"fill:#1663aa;\"/>\n    <path clip-path=\"url(#p8d44442e96)\" d=\"M 386.637692 310.866779 \nL 400.373077 310.866779 \nL 400.373077 323.411394 \nL 386.637692 323.411394 \nL 386.637692 310.866779 \n\" style=\"fill:#1663aa;\"/>\n    <path clip-path=\"url(#p8d44442e96)\" d=\"M 400.373077 310.866779 \nL 414.108462 310.866779 \nL 414.108462 323.411394 \nL 400.373077 323.411394 \nL 400.373077 310.866779 \n\" style=\"fill:#1562a9;\"/>\n    <path clip-path=\"url(#p8d44442e96)\" d=\"M 414.108462 310.866779 \nL 427.843846 310.866779 \nL 427.843846 323.411394 \nL 414.108462 323.411394 \nL 414.108462 310.866779 \n\" style=\"fill:#1a68ae;\"/>\n    <path clip-path=\"url(#p8d44442e96)\" d=\"M 427.843846 310.866779 \nL 441.579231 310.866779 \nL 441.579231 323.411394 \nL 427.843846 323.411394 \nL 427.843846 310.866779 \n\" style=\"fill:#1663aa;\"/>\n    <path clip-path=\"url(#p8d44442e96)\" d=\"M 441.579231 310.866779 \nL 455.314615 310.866779 \nL 455.314615 323.411394 \nL 441.579231 323.411394 \nL 441.579231 310.866779 \n\" style=\"fill:#1460a8;\"/>\n    <path clip-path=\"url(#p8d44442e96)\" d=\"M 455.314615 310.866779 \nL 469.05 310.866779 \nL 469.05 323.411394 \nL 455.314615 323.411394 \nL 455.314615 310.866779 \n\" style=\"fill:#0e59a2;\"/>\n    <path clip-path=\"url(#p8d44442e96)\" d=\"M 469.05 310.866779 \nL 482.785385 310.866779 \nL 482.785385 323.411394 \nL 469.05 323.411394 \nL 469.05 310.866779 \n\" style=\"fill:#1460a8;\"/>\n    <path clip-path=\"url(#p8d44442e96)\" d=\"M 482.785385 310.866779 \nL 496.520769 310.866779 \nL 496.520769 323.411394 \nL 482.785385 323.411394 \nL 482.785385 310.866779 \n\" style=\"fill:#1562a9;\"/>\n    <path clip-path=\"url(#p8d44442e96)\" d=\"M 496.520769 310.866779 \nL 510.256154 310.866779 \nL 510.256154 323.411394 \nL 496.520769 323.411394 \nL 496.520769 310.866779 \n\" style=\"fill:#125ea6;\"/>\n    <path clip-path=\"url(#p8d44442e96)\" d=\"M 510.256154 310.866779 \nL 523.991538 310.866779 \nL 523.991538 323.411394 \nL 510.256154 323.411394 \nL 510.256154 310.866779 \n\" style=\"fill:#135fa7;\"/>\n    <path clip-path=\"url(#p8d44442e96)\" d=\"M 523.991538 310.866779 \nL 537.726923 310.866779 \nL 537.726923 323.411394 \nL 523.991538 323.411394 \nL 523.991538 310.866779 \n\" style=\"fill:#1663aa;\"/>\n    <path clip-path=\"url(#p8d44442e96)\" d=\"M 537.726923 310.866779 \nL 551.462308 310.866779 \nL 551.462308 323.411394 \nL 537.726923 323.411394 \nL 537.726923 310.866779 \n\" style=\"fill:#1562a9;\"/>\n    <path clip-path=\"url(#p8d44442e96)\" d=\"M 551.462308 310.866779 \nL 565.197692 310.866779 \nL 565.197692 323.411394 \nL 551.462308 323.411394 \nL 551.462308 310.866779 \n\" style=\"fill:#1663aa;\"/>\n    <path clip-path=\"url(#p8d44442e96)\" d=\"M 565.197692 310.866779 \nL 578.933077 310.866779 \nL 578.933077 323.411394 \nL 565.197692 323.411394 \nL 565.197692 310.866779 \n\" style=\"fill:#1562a9;\"/>\n    <path clip-path=\"url(#p8d44442e96)\" d=\"M 578.933077 310.866779 \nL 592.668462 310.866779 \nL 592.668462 323.411394 \nL 578.933077 323.411394 \nL 578.933077 310.866779 \n\" style=\"fill:#1562a9;\"/>\n    <path clip-path=\"url(#p8d44442e96)\" d=\"M 592.668462 310.866779 \nL 606.403846 310.866779 \nL 606.403846 323.411394 \nL 592.668462 323.411394 \nL 592.668462 310.866779 \n\" style=\"fill:#2171b5;\"/>\n    <path clip-path=\"url(#p8d44442e96)\" d=\"M 606.403846 310.866779 \nL 620.139231 310.866779 \nL 620.139231 323.411394 \nL 606.403846 323.411394 \nL 606.403846 310.866779 \n\" style=\"fill:none;\"/>\n    <path clip-path=\"url(#p8d44442e96)\" d=\"M 620.139231 310.866779 \nL 633.874615 310.866779 \nL 633.874615 323.411394 \nL 620.139231 323.411394 \nL 620.139231 310.866779 \n\" style=\"fill:none;\"/>\n    <path clip-path=\"url(#p8d44442e96)\" d=\"M 633.874615 310.866779 \nL 647.61 310.866779 \nL 647.61 323.411394 \nL 633.874615 323.411394 \nL 633.874615 310.866779 \n\" style=\"fill:none;\"/>\n    <path clip-path=\"url(#p8d44442e96)\" d=\"M 290.49 323.411394 \nL 304.225385 323.411394 \nL 304.225385 335.95601 \nL 290.49 335.95601 \nL 290.49 323.411394 \n\" style=\"fill:#125da6;\"/>\n    <path clip-path=\"url(#p8d44442e96)\" d=\"M 304.225385 323.411394 \nL 317.960769 323.411394 \nL 317.960769 335.95601 \nL 304.225385 335.95601 \nL 304.225385 323.411394 \n\" style=\"fill:#125da6;\"/>\n    <path clip-path=\"url(#p8d44442e96)\" d=\"M 317.960769 323.411394 \nL 331.696154 323.411394 \nL 331.696154 335.95601 \nL 317.960769 335.95601 \nL 317.960769 323.411394 \n\" style=\"fill:#1764ab;\"/>\n    <path clip-path=\"url(#p8d44442e96)\" d=\"M 331.696154 323.411394 \nL 345.431538 323.411394 \nL 345.431538 335.95601 \nL 331.696154 335.95601 \nL 331.696154 323.411394 \n\" style=\"fill:#1562a9;\"/>\n    <path clip-path=\"url(#p8d44442e96)\" d=\"M 345.431538 323.411394 \nL 359.166923 323.411394 \nL 359.166923 335.95601 \nL 345.431538 335.95601 \nL 345.431538 323.411394 \n\" style=\"fill:#1562a9;\"/>\n    <path clip-path=\"url(#p8d44442e96)\" d=\"M 359.166923 323.411394 \nL 372.902308 323.411394 \nL 372.902308 335.95601 \nL 359.166923 335.95601 \nL 359.166923 323.411394 \n\" style=\"fill:#135fa7;\"/>\n    <path clip-path=\"url(#p8d44442e96)\" d=\"M 372.902308 323.411394 \nL 386.637692 323.411394 \nL 386.637692 335.95601 \nL 372.902308 335.95601 \nL 372.902308 323.411394 \n\" style=\"fill:#1663aa;\"/>\n    <path clip-path=\"url(#p8d44442e96)\" d=\"M 386.637692 323.411394 \nL 400.373077 323.411394 \nL 400.373077 335.95601 \nL 386.637692 335.95601 \nL 386.637692 323.411394 \n\" style=\"fill:#1460a8;\"/>\n    <path clip-path=\"url(#p8d44442e96)\" d=\"M 400.373077 323.411394 \nL 414.108462 323.411394 \nL 414.108462 335.95601 \nL 400.373077 335.95601 \nL 400.373077 323.411394 \n\" style=\"fill:#1561a9;\"/>\n    <path clip-path=\"url(#p8d44442e96)\" d=\"M 414.108462 323.411394 \nL 427.843846 323.411394 \nL 427.843846 335.95601 \nL 414.108462 335.95601 \nL 414.108462 323.411394 \n\" style=\"fill:#1c6bb0;\"/>\n    <path clip-path=\"url(#p8d44442e96)\" d=\"M 427.843846 323.411394 \nL 441.579231 323.411394 \nL 441.579231 335.95601 \nL 427.843846 335.95601 \nL 427.843846 323.411394 \n\" style=\"fill:#1460a8;\"/>\n    <path clip-path=\"url(#p8d44442e96)\" d=\"M 441.579231 323.411394 \nL 455.314615 323.411394 \nL 455.314615 335.95601 \nL 441.579231 335.95601 \nL 441.579231 323.411394 \n\" style=\"fill:#1562a9;\"/>\n    <path clip-path=\"url(#p8d44442e96)\" d=\"M 455.314615 323.411394 \nL 469.05 323.411394 \nL 469.05 335.95601 \nL 455.314615 335.95601 \nL 455.314615 323.411394 \n\" style=\"fill:#1460a8;\"/>\n    <path clip-path=\"url(#p8d44442e96)\" d=\"M 469.05 323.411394 \nL 482.785385 323.411394 \nL 482.785385 335.95601 \nL 469.05 335.95601 \nL 469.05 323.411394 \n\" style=\"fill:#1562a9;\"/>\n    <path clip-path=\"url(#p8d44442e96)\" d=\"M 482.785385 323.411394 \nL 496.520769 323.411394 \nL 496.520769 335.95601 \nL 482.785385 335.95601 \nL 482.785385 323.411394 \n\" style=\"fill:#1460a8;\"/>\n    <path clip-path=\"url(#p8d44442e96)\" d=\"M 496.520769 323.411394 \nL 510.256154 323.411394 \nL 510.256154 335.95601 \nL 496.520769 335.95601 \nL 496.520769 323.411394 \n\" style=\"fill:#1562a9;\"/>\n    <path clip-path=\"url(#p8d44442e96)\" d=\"M 510.256154 323.411394 \nL 523.991538 323.411394 \nL 523.991538 335.95601 \nL 510.256154 335.95601 \nL 510.256154 323.411394 \n\" style=\"fill:#1562a9;\"/>\n    <path clip-path=\"url(#p8d44442e96)\" d=\"M 523.991538 323.411394 \nL 537.726923 323.411394 \nL 537.726923 335.95601 \nL 523.991538 335.95601 \nL 523.991538 323.411394 \n\" style=\"fill:#1663aa;\"/>\n    <path clip-path=\"url(#p8d44442e96)\" d=\"M 537.726923 323.411394 \nL 551.462308 323.411394 \nL 551.462308 335.95601 \nL 537.726923 335.95601 \nL 537.726923 323.411394 \n\" style=\"fill:#1663aa;\"/>\n    <path clip-path=\"url(#p8d44442e96)\" d=\"M 551.462308 323.411394 \nL 565.197692 323.411394 \nL 565.197692 335.95601 \nL 551.462308 335.95601 \nL 551.462308 323.411394 \n\" style=\"fill:#1764ab;\"/>\n    <path clip-path=\"url(#p8d44442e96)\" d=\"M 565.197692 323.411394 \nL 578.933077 323.411394 \nL 578.933077 335.95601 \nL 565.197692 335.95601 \nL 565.197692 323.411394 \n\" style=\"fill:#1663aa;\"/>\n    <path clip-path=\"url(#p8d44442e96)\" d=\"M 578.933077 323.411394 \nL 592.668462 323.411394 \nL 592.668462 335.95601 \nL 578.933077 335.95601 \nL 578.933077 323.411394 \n\" style=\"fill:#1562a9;\"/>\n    <path clip-path=\"url(#p8d44442e96)\" d=\"M 592.668462 323.411394 \nL 606.403846 323.411394 \nL 606.403846 335.95601 \nL 592.668462 335.95601 \nL 592.668462 323.411394 \n\" style=\"fill:#1562a9;\"/>\n    <path clip-path=\"url(#p8d44442e96)\" d=\"M 606.403846 323.411394 \nL 620.139231 323.411394 \nL 620.139231 335.95601 \nL 606.403846 335.95601 \nL 606.403846 323.411394 \n\" style=\"fill:#1561a9;\"/>\n    <path clip-path=\"url(#p8d44442e96)\" d=\"M 620.139231 323.411394 \nL 633.874615 323.411394 \nL 633.874615 335.95601 \nL 620.139231 335.95601 \nL 620.139231 323.411394 \n\" style=\"fill:none;\"/>\n    <path clip-path=\"url(#p8d44442e96)\" d=\"M 633.874615 323.411394 \nL 647.61 323.411394 \nL 647.61 335.95601 \nL 633.874615 335.95601 \nL 633.874615 323.411394 \n\" style=\"fill:none;\"/>\n    <path clip-path=\"url(#p8d44442e96)\" d=\"M 290.49 335.95601 \nL 304.225385 335.95601 \nL 304.225385 348.500625 \nL 290.49 348.500625 \nL 290.49 335.95601 \n\" style=\"fill:#1b69af;\"/>\n    <path clip-path=\"url(#p8d44442e96)\" d=\"M 304.225385 335.95601 \nL 317.960769 335.95601 \nL 317.960769 348.500625 \nL 304.225385 348.500625 \nL 304.225385 335.95601 \n\" style=\"fill:#1561a9;\"/>\n    <path clip-path=\"url(#p8d44442e96)\" d=\"M 317.960769 335.95601 \nL 331.696154 335.95601 \nL 331.696154 348.500625 \nL 317.960769 348.500625 \nL 317.960769 335.95601 \n\" style=\"fill:#1764ab;\"/>\n    <path clip-path=\"url(#p8d44442e96)\" d=\"M 331.696154 335.95601 \nL 345.431538 335.95601 \nL 345.431538 348.500625 \nL 331.696154 348.500625 \nL 331.696154 335.95601 \n\" style=\"fill:#1562a9;\"/>\n    <path clip-path=\"url(#p8d44442e96)\" d=\"M 345.431538 335.95601 \nL 359.166923 335.95601 \nL 359.166923 348.500625 \nL 345.431538 348.500625 \nL 345.431538 335.95601 \n\" style=\"fill:#1562a9;\"/>\n    <path clip-path=\"url(#p8d44442e96)\" d=\"M 359.166923 335.95601 \nL 372.902308 335.95601 \nL 372.902308 348.500625 \nL 359.166923 348.500625 \nL 359.166923 335.95601 \n\" style=\"fill:#1b69af;\"/>\n    <path clip-path=\"url(#p8d44442e96)\" d=\"M 372.902308 335.95601 \nL 386.637692 335.95601 \nL 386.637692 348.500625 \nL 372.902308 348.500625 \nL 372.902308 335.95601 \n\" style=\"fill:#0a539e;\"/>\n    <path clip-path=\"url(#p8d44442e96)\" d=\"M 386.637692 335.95601 \nL 400.373077 335.95601 \nL 400.373077 348.500625 \nL 386.637692 348.500625 \nL 386.637692 335.95601 \n\" style=\"fill:#135fa7;\"/>\n    <path clip-path=\"url(#p8d44442e96)\" d=\"M 400.373077 335.95601 \nL 414.108462 335.95601 \nL 414.108462 348.500625 \nL 400.373077 348.500625 \nL 400.373077 335.95601 \n\" style=\"fill:#084a91;\"/>\n    <path clip-path=\"url(#p8d44442e96)\" d=\"M 414.108462 335.95601 \nL 427.843846 335.95601 \nL 427.843846 348.500625 \nL 414.108462 348.500625 \nL 414.108462 335.95601 \n\" style=\"fill:#08306b;\"/>\n    <path clip-path=\"url(#p8d44442e96)\" d=\"M 427.843846 335.95601 \nL 441.579231 335.95601 \nL 441.579231 348.500625 \nL 427.843846 348.500625 \nL 427.843846 335.95601 \n\" style=\"fill:#1764ab;\"/>\n    <path clip-path=\"url(#p8d44442e96)\" d=\"M 441.579231 335.95601 \nL 455.314615 335.95601 \nL 455.314615 348.500625 \nL 441.579231 348.500625 \nL 441.579231 335.95601 \n\" style=\"fill:#1764ab;\"/>\n    <path clip-path=\"url(#p8d44442e96)\" d=\"M 455.314615 335.95601 \nL 469.05 335.95601 \nL 469.05 348.500625 \nL 455.314615 348.500625 \nL 455.314615 335.95601 \n\" style=\"fill:#1460a8;\"/>\n    <path clip-path=\"url(#p8d44442e96)\" d=\"M 469.05 335.95601 \nL 482.785385 335.95601 \nL 482.785385 348.500625 \nL 469.05 348.500625 \nL 469.05 335.95601 \n\" style=\"fill:#1562a9;\"/>\n    <path clip-path=\"url(#p8d44442e96)\" d=\"M 482.785385 335.95601 \nL 496.520769 335.95601 \nL 496.520769 348.500625 \nL 482.785385 348.500625 \nL 482.785385 335.95601 \n\" style=\"fill:#083d7f;\"/>\n    <path clip-path=\"url(#p8d44442e96)\" d=\"M 496.520769 335.95601 \nL 510.256154 335.95601 \nL 510.256154 348.500625 \nL 496.520769 348.500625 \nL 496.520769 335.95601 \n\" style=\"fill:#08468b;\"/>\n    <path clip-path=\"url(#p8d44442e96)\" d=\"M 510.256154 335.95601 \nL 523.991538 335.95601 \nL 523.991538 348.500625 \nL 510.256154 348.500625 \nL 510.256154 335.95601 \n\" style=\"fill:#1663aa;\"/>\n    <path clip-path=\"url(#p8d44442e96)\" d=\"M 523.991538 335.95601 \nL 537.726923 335.95601 \nL 537.726923 348.500625 \nL 523.991538 348.500625 \nL 523.991538 335.95601 \n\" style=\"fill:#1561a9;\"/>\n    <path clip-path=\"url(#p8d44442e96)\" d=\"M 537.726923 335.95601 \nL 551.462308 335.95601 \nL 551.462308 348.500625 \nL 537.726923 348.500625 \nL 537.726923 335.95601 \n\" style=\"fill:#1663aa;\"/>\n    <path clip-path=\"url(#p8d44442e96)\" d=\"M 551.462308 335.95601 \nL 565.197692 335.95601 \nL 565.197692 348.500625 \nL 551.462308 348.500625 \nL 551.462308 335.95601 \n\" style=\"fill:#1460a8;\"/>\n    <path clip-path=\"url(#p8d44442e96)\" d=\"M 565.197692 335.95601 \nL 578.933077 335.95601 \nL 578.933077 348.500625 \nL 565.197692 348.500625 \nL 565.197692 335.95601 \n\" style=\"fill:#1562a9;\"/>\n    <path clip-path=\"url(#p8d44442e96)\" d=\"M 578.933077 335.95601 \nL 592.668462 335.95601 \nL 592.668462 348.500625 \nL 578.933077 348.500625 \nL 578.933077 335.95601 \n\" style=\"fill:#1561a9;\"/>\n    <path clip-path=\"url(#p8d44442e96)\" d=\"M 592.668462 335.95601 \nL 606.403846 335.95601 \nL 606.403846 348.500625 \nL 592.668462 348.500625 \nL 592.668462 335.95601 \n\" style=\"fill:#1764ab;\"/>\n    <path clip-path=\"url(#p8d44442e96)\" d=\"M 606.403846 335.95601 \nL 620.139231 335.95601 \nL 620.139231 348.500625 \nL 606.403846 348.500625 \nL 606.403846 335.95601 \n\" style=\"fill:#135fa7;\"/>\n    <path clip-path=\"url(#p8d44442e96)\" d=\"M 620.139231 335.95601 \nL 633.874615 335.95601 \nL 633.874615 348.500625 \nL 620.139231 348.500625 \nL 620.139231 335.95601 \n\" style=\"fill:#1f6eb3;\"/>\n    <path clip-path=\"url(#p8d44442e96)\" d=\"M 633.874615 335.95601 \nL 647.61 335.95601 \nL 647.61 348.500625 \nL 633.874615 348.500625 \nL 633.874615 335.95601 \n\" style=\"fill:none;\"/>\n   </g>\n   <g id=\"text_53\">\n    <!-- Matriz de Correlação -->\n    <defs>\n     <path d=\"M 9.8125 72.90625 \nL 24.515625 72.90625 \nL 43.109375 23.296875 \nL 61.8125 72.90625 \nL 76.515625 72.90625 \nL 76.515625 0 \nL 66.890625 0 \nL 66.890625 64.015625 \nL 48.09375 14.015625 \nL 38.1875 14.015625 \nL 19.390625 64.015625 \nL 19.390625 0 \nL 9.8125 0 \nz\n\" id=\"DejaVuSans-77\"/>\n     <path d=\"M 5.515625 54.6875 \nL 48.1875 54.6875 \nL 48.1875 46.484375 \nL 14.40625 7.171875 \nL 48.1875 7.171875 \nL 48.1875 0 \nL 4.296875 0 \nL 4.296875 8.203125 \nL 38.09375 47.515625 \nL 5.515625 47.515625 \nz\n\" id=\"DejaVuSans-122\"/>\n     <path id=\"DejaVuSans-32\"/>\n     <path d=\"M 64.40625 67.28125 \nL 64.40625 56.890625 \nQ 59.421875 61.53125 53.78125 63.8125 \nQ 48.140625 66.109375 41.796875 66.109375 \nQ 29.296875 66.109375 22.65625 58.46875 \nQ 16.015625 50.828125 16.015625 36.375 \nQ 16.015625 21.96875 22.65625 14.328125 \nQ 29.296875 6.6875 41.796875 6.6875 \nQ 48.140625 6.6875 53.78125 8.984375 \nQ 59.421875 11.28125 64.40625 15.921875 \nL 64.40625 5.609375 \nQ 59.234375 2.09375 53.4375 0.328125 \nQ 47.65625 -1.421875 41.21875 -1.421875 \nQ 24.65625 -1.421875 15.125 8.703125 \nQ 5.609375 18.84375 5.609375 36.375 \nQ 5.609375 53.953125 15.125 64.078125 \nQ 24.65625 74.21875 41.21875 74.21875 \nQ 47.75 74.21875 53.53125 72.484375 \nQ 59.328125 70.75 64.40625 67.28125 \nz\n\" id=\"DejaVuSans-67\"/>\n     <path d=\"M 48.78125 52.59375 \nL 48.78125 44.1875 \nQ 44.96875 46.296875 41.140625 47.34375 \nQ 37.3125 48.390625 33.40625 48.390625 \nQ 24.65625 48.390625 19.8125 42.84375 \nQ 14.984375 37.3125 14.984375 27.296875 \nQ 14.984375 17.28125 19.8125 11.734375 \nQ 24.65625 6.203125 33.40625 6.203125 \nQ 37.3125 6.203125 41.140625 7.25 \nQ 44.96875 8.296875 48.78125 10.40625 \nL 48.78125 2.09375 \nQ 45.015625 0.34375 40.984375 -0.53125 \nQ 36.96875 -1.421875 32.421875 -1.421875 \nQ 20.0625 -1.421875 12.78125 6.34375 \nQ 5.515625 14.109375 5.515625 27.296875 \nQ 5.515625 40.671875 12.859375 48.328125 \nQ 20.21875 56 33.015625 56 \nQ 37.15625 56 41.109375 55.140625 \nQ 45.0625 54.296875 48.78125 52.59375 \nz\nM 36.109375 0 \nQ 38.78125 -3.03125 40.09375 -5.59375 \nQ 41.421875 -8.15625 41.421875 -10.5 \nQ 41.421875 -14.84375 38.484375 -17.0625 \nQ 35.5625 -19.28125 29.796875 -19.28125 \nQ 27.5625 -19.28125 25.4375 -18.984375 \nQ 23.3125 -18.703125 21.203125 -18.109375 \nL 21.203125 -11.71875 \nQ 22.875 -12.546875 24.671875 -12.90625 \nQ 26.484375 -13.28125 28.78125 -13.28125 \nQ 31.65625 -13.28125 33.125 -12.109375 \nQ 34.59375 -10.9375 34.59375 -8.6875 \nQ 34.59375 -7.234375 33.53125 -5.109375 \nQ 32.484375 -2.984375 30.296875 0 \nz\n\" id=\"DejaVuSans-231\"/>\n     <path d=\"M 34.28125 27.484375 \nQ 23.390625 27.484375 19.1875 25 \nQ 14.984375 22.515625 14.984375 16.5 \nQ 14.984375 11.71875 18.140625 8.90625 \nQ 21.296875 6.109375 26.703125 6.109375 \nQ 34.1875 6.109375 38.703125 11.40625 \nQ 43.21875 16.703125 43.21875 25.484375 \nL 43.21875 27.484375 \nz\nM 52.203125 31.203125 \nL 52.203125 0 \nL 43.21875 0 \nL 43.21875 8.296875 \nQ 40.140625 3.328125 35.546875 0.953125 \nQ 30.953125 -1.421875 24.3125 -1.421875 \nQ 15.921875 -1.421875 10.953125 3.296875 \nQ 6 8.015625 6 15.921875 \nQ 6 25.140625 12.171875 29.828125 \nQ 18.359375 34.515625 30.609375 34.515625 \nL 43.21875 34.515625 \nL 43.21875 35.40625 \nQ 43.21875 41.609375 39.140625 45 \nQ 35.0625 48.390625 27.6875 48.390625 \nQ 23 48.390625 18.546875 47.265625 \nQ 14.109375 46.140625 10.015625 43.890625 \nL 10.015625 52.203125 \nQ 14.9375 54.109375 19.578125 55.046875 \nQ 24.21875 56 28.609375 56 \nQ 40.484375 56 46.34375 49.84375 \nQ 52.203125 43.703125 52.203125 31.203125 \nz\nM 28.8125 66.890625 \nL 26.015625 69.578125 \nQ 24.953125 70.5625 24.140625 71.015625 \nQ 23.34375 71.484375 22.703125 71.484375 \nQ 20.84375 71.484375 19.96875 69.703125 \nQ 19.09375 67.921875 18.984375 63.921875 \nL 12.890625 63.921875 \nQ 12.984375 70.515625 15.46875 74.09375 \nQ 17.96875 77.6875 22.40625 77.6875 \nQ 24.265625 77.6875 25.828125 77 \nQ 27.390625 76.3125 29.203125 74.703125 \nL 31.984375 72.015625 \nQ 33.046875 71.046875 33.859375 70.578125 \nQ 34.671875 70.125 35.296875 70.125 \nQ 37.15625 70.125 38.03125 71.90625 \nQ 38.90625 73.6875 39.015625 77.6875 \nL 45.109375 77.6875 \nQ 45.015625 71.09375 42.515625 67.5 \nQ 40.03125 63.921875 35.59375 63.921875 \nQ 33.734375 63.921875 32.171875 64.59375 \nQ 30.609375 65.28125 28.8125 66.890625 \nz\n\" id=\"DejaVuSans-227\"/>\n    </defs>\n    <g style=\"fill:#262626;\" transform=\"translate(407.01 16.340625)scale(0.12 -0.12)\">\n     <use xlink:href=\"#DejaVuSans-77\"/>\n     <use x=\"86.279297\" xlink:href=\"#DejaVuSans-97\"/>\n     <use x=\"147.558594\" xlink:href=\"#DejaVuSans-116\"/>\n     <use x=\"186.767578\" xlink:href=\"#DejaVuSans-114\"/>\n     <use x=\"227.880859\" xlink:href=\"#DejaVuSans-105\"/>\n     <use x=\"255.664062\" xlink:href=\"#DejaVuSans-122\"/>\n     <use x=\"308.154297\" xlink:href=\"#DejaVuSans-32\"/>\n     <use x=\"339.941406\" xlink:href=\"#DejaVuSans-100\"/>\n     <use x=\"403.417969\" xlink:href=\"#DejaVuSans-101\"/>\n     <use x=\"464.941406\" xlink:href=\"#DejaVuSans-32\"/>\n     <use x=\"496.728516\" xlink:href=\"#DejaVuSans-67\"/>\n     <use x=\"566.552734\" xlink:href=\"#DejaVuSans-111\"/>\n     <use x=\"627.734375\" xlink:href=\"#DejaVuSans-114\"/>\n     <use x=\"667.097656\" xlink:href=\"#DejaVuSans-114\"/>\n     <use x=\"705.960938\" xlink:href=\"#DejaVuSans-101\"/>\n     <use x=\"767.484375\" xlink:href=\"#DejaVuSans-108\"/>\n     <use x=\"795.267578\" xlink:href=\"#DejaVuSans-97\"/>\n     <use x=\"856.546875\" xlink:href=\"#DejaVuSans-231\"/>\n     <use x=\"911.527344\" xlink:href=\"#DejaVuSans-227\"/>\n     <use x=\"972.806641\" xlink:href=\"#DejaVuSans-111\"/>\n    </g>\n   </g>\n  </g>\n  <g id=\"axes_2\">\n   <g id=\"patch_3\">\n    <path clip-path=\"url(#p91f75f5aed)\" d=\"M 669.93 348.500625 \nL 669.93 347.226562 \nL 669.93 23.614687 \nL 669.93 22.340625 \nL 686.238 22.340625 \nL 686.238 23.614687 \nL 686.238 347.226562 \nL 686.238 348.500625 \nz\n\" style=\"fill:#eaeaf2;stroke:#eaeaf2;stroke-linejoin:miter;stroke-width:0.01;\"/>\n   </g>\n   <g id=\"matplotlib.axis_3\"/>\n   <g id=\"matplotlib.axis_4\">\n    <g id=\"ytick_27\">\n     <g id=\"line2d_1\">\n      <defs>\n       <path d=\"M 0 0 \nL 6 0 \n\" id=\"m6c833c7c93\" style=\"stroke:#262626;stroke-width:1.25;\"/>\n      </defs>\n      <g>\n       <use style=\"fill:#262626;stroke:#262626;stroke-width:1.25;\" x=\"686.238\" xlink:href=\"#m6c833c7c93\" y=\"285.833824\"/>\n      </g>\n     </g>\n     <g id=\"text_54\">\n      <!-- 0.0 -->\n      <defs>\n       <path d=\"M 31.78125 66.40625 \nQ 24.171875 66.40625 20.328125 58.90625 \nQ 16.5 51.421875 16.5 36.375 \nQ 16.5 21.390625 20.328125 13.890625 \nQ 24.171875 6.390625 31.78125 6.390625 \nQ 39.453125 6.390625 43.28125 13.890625 \nQ 47.125 21.390625 47.125 36.375 \nQ 47.125 51.421875 43.28125 58.90625 \nQ 39.453125 66.40625 31.78125 66.40625 \nz\nM 31.78125 74.21875 \nQ 44.046875 74.21875 50.515625 64.515625 \nQ 56.984375 54.828125 56.984375 36.375 \nQ 56.984375 17.96875 50.515625 8.265625 \nQ 44.046875 -1.421875 31.78125 -1.421875 \nQ 19.53125 -1.421875 13.0625 8.265625 \nQ 6.59375 17.96875 6.59375 36.375 \nQ 6.59375 54.828125 13.0625 64.515625 \nQ 19.53125 74.21875 31.78125 74.21875 \nz\n\" id=\"DejaVuSans-48\"/>\n       <path d=\"M 10.6875 12.40625 \nL 21 12.40625 \nL 21 0 \nL 10.6875 0 \nz\n\" id=\"DejaVuSans-46\"/>\n      </defs>\n      <g style=\"fill:#262626;\" transform=\"translate(695.738 290.012965)scale(0.11 -0.11)\">\n       <use xlink:href=\"#DejaVuSans-48\"/>\n       <use x=\"63.623047\" xlink:href=\"#DejaVuSans-46\"/>\n       <use x=\"95.410156\" xlink:href=\"#DejaVuSans-48\"/>\n      </g>\n     </g>\n    </g>\n    <g id=\"ytick_28\">\n     <g id=\"line2d_2\">\n      <g>\n       <use style=\"fill:#262626;stroke:#262626;stroke-width:1.25;\" x=\"686.238\" xlink:href=\"#m6c833c7c93\" y=\"222.873353\"/>\n      </g>\n     </g>\n     <g id=\"text_55\">\n      <!-- 0.2 -->\n      <g style=\"fill:#262626;\" transform=\"translate(695.738 227.052494)scale(0.11 -0.11)\">\n       <use xlink:href=\"#DejaVuSans-48\"/>\n       <use x=\"63.623047\" xlink:href=\"#DejaVuSans-46\"/>\n       <use x=\"95.410156\" xlink:href=\"#DejaVuSans-50\"/>\n      </g>\n     </g>\n    </g>\n    <g id=\"ytick_29\">\n     <g id=\"line2d_3\">\n      <g>\n       <use style=\"fill:#262626;stroke:#262626;stroke-width:1.25;\" x=\"686.238\" xlink:href=\"#m6c833c7c93\" y=\"159.912882\"/>\n      </g>\n     </g>\n     <g id=\"text_56\">\n      <!-- 0.4 -->\n      <g style=\"fill:#262626;\" transform=\"translate(695.738 164.092022)scale(0.11 -0.11)\">\n       <use xlink:href=\"#DejaVuSans-48\"/>\n       <use x=\"63.623047\" xlink:href=\"#DejaVuSans-46\"/>\n       <use x=\"95.410156\" xlink:href=\"#DejaVuSans-52\"/>\n      </g>\n     </g>\n    </g>\n    <g id=\"ytick_30\">\n     <g id=\"line2d_4\">\n      <g>\n       <use style=\"fill:#262626;stroke:#262626;stroke-width:1.25;\" x=\"686.238\" xlink:href=\"#m6c833c7c93\" y=\"96.95241\"/>\n      </g>\n     </g>\n     <g id=\"text_57\">\n      <!-- 0.6 -->\n      <g style=\"fill:#262626;\" transform=\"translate(695.738 101.131551)scale(0.11 -0.11)\">\n       <use xlink:href=\"#DejaVuSans-48\"/>\n       <use x=\"63.623047\" xlink:href=\"#DejaVuSans-46\"/>\n       <use x=\"95.410156\" xlink:href=\"#DejaVuSans-54\"/>\n      </g>\n     </g>\n    </g>\n    <g id=\"ytick_31\">\n     <g id=\"line2d_5\">\n      <g>\n       <use style=\"fill:#262626;stroke:#262626;stroke-width:1.25;\" x=\"686.238\" xlink:href=\"#m6c833c7c93\" y=\"33.991939\"/>\n      </g>\n     </g>\n     <g id=\"text_58\">\n      <!-- 0.8 -->\n      <defs>\n       <path d=\"M 31.78125 34.625 \nQ 24.75 34.625 20.71875 30.859375 \nQ 16.703125 27.09375 16.703125 20.515625 \nQ 16.703125 13.921875 20.71875 10.15625 \nQ 24.75 6.390625 31.78125 6.390625 \nQ 38.8125 6.390625 42.859375 10.171875 \nQ 46.921875 13.96875 46.921875 20.515625 \nQ 46.921875 27.09375 42.890625 30.859375 \nQ 38.875 34.625 31.78125 34.625 \nz\nM 21.921875 38.8125 \nQ 15.578125 40.375 12.03125 44.71875 \nQ 8.5 49.078125 8.5 55.328125 \nQ 8.5 64.0625 14.71875 69.140625 \nQ 20.953125 74.21875 31.78125 74.21875 \nQ 42.671875 74.21875 48.875 69.140625 \nQ 55.078125 64.0625 55.078125 55.328125 \nQ 55.078125 49.078125 51.53125 44.71875 \nQ 48 40.375 41.703125 38.8125 \nQ 48.828125 37.15625 52.796875 32.3125 \nQ 56.78125 27.484375 56.78125 20.515625 \nQ 56.78125 9.90625 50.3125 4.234375 \nQ 43.84375 -1.421875 31.78125 -1.421875 \nQ 19.734375 -1.421875 13.25 4.234375 \nQ 6.78125 9.90625 6.78125 20.515625 \nQ 6.78125 27.484375 10.78125 32.3125 \nQ 14.796875 37.15625 21.921875 38.8125 \nz\nM 18.3125 54.390625 \nQ 18.3125 48.734375 21.84375 45.5625 \nQ 25.390625 42.390625 31.78125 42.390625 \nQ 38.140625 42.390625 41.71875 45.5625 \nQ 45.3125 48.734375 45.3125 54.390625 \nQ 45.3125 60.0625 41.71875 63.234375 \nQ 38.140625 66.40625 31.78125 66.40625 \nQ 25.390625 66.40625 21.84375 63.234375 \nQ 18.3125 60.0625 18.3125 54.390625 \nz\n\" id=\"DejaVuSans-56\"/>\n      </defs>\n      <g style=\"fill:#262626;\" transform=\"translate(695.738 38.171079)scale(0.11 -0.11)\">\n       <use xlink:href=\"#DejaVuSans-48\"/>\n       <use x=\"63.623047\" xlink:href=\"#DejaVuSans-46\"/>\n       <use x=\"95.410156\" xlink:href=\"#DejaVuSans-56\"/>\n      </g>\n     </g>\n    </g>\n   </g>\n   <image height=\"327\" id=\"image910dd10bcc\" transform=\"scale(1 -1)translate(0 -327)\" width=\"16\" x=\"670\" xlink:href=\"data:image/png;base64,\niVBORw0KGgoAAAANSUhEUgAAABAAAAFHCAYAAACoD8yaAAAABHNCSVQICAgIfAhkiAAAAXxJREFUeJztmjEOwzAMA2UjQ57Tf/X/czskPzgBpAV2D0FfJNpyuu7P91fgd9Xa5PliTz8OFhVgJvQOAjEQWxx0MMBLoAI7hSQvpECc0o16iCkkuQMDiEst0MEACsgZGEDES5C/BQMGegH6FgIxEFsEDBjIEykQA7FHIIlUF3zeo5CwgBrihtdAgZhubHGQQgrEFgcW3Xi6AwuIp7+FdGMHg61eAocIz1ge3UgdwJknEBt6IYnkARELJJEMKnECROpAvjs7QByQSPpmYgYcTus0D7jAiEiDAjiR6BomMGhwwAQmzI28neHMlEizYKBvZ303cgb0/kDezjMiTd2NDYWEHYiHLodCog7kA0cDRCowoJDOH/ssIEIB+d7YcSUq39rUDgwKSf6RxmDkOR/ihG6UX0wbfOXh/9VVv8ZANEkkKBCIgVgjIGZvDMTXARQIRIfZWR6qgRiIjwO6hFJDNDit64dvh1inAoE4AKI+kfQOBkDMQTMQqxwg4iX8AXzGCHrX6duJAAAAAElFTkSuQmCC\" y=\"-21\"/>\n   <g id=\"patch_4\">\n    <path d=\"M 669.93 348.500625 \nL 669.93 347.226562 \nL 669.93 23.614687 \nL 669.93 22.340625 \nL 686.238 22.340625 \nL 686.238 23.614687 \nL 686.238 347.226562 \nL 686.238 348.500625 \nz\n\" style=\"fill:none;\"/>\n   </g>\n  </g>\n </g>\n <defs>\n  <clipPath id=\"p8d44442e96\">\n   <rect height=\"326.16\" width=\"357.12\" x=\"290.49\" y=\"22.340625\"/>\n  </clipPath>\n  <clipPath id=\"p91f75f5aed\">\n   <rect height=\"326.16\" width=\"16.308\" x=\"669.93\" y=\"22.340625\"/>\n  </clipPath>\n </defs>\n</svg>\n"
          },
          "metadata": {
            "tags": [],
            "needs_background": "light"
          }
        }
      ]
    },
    {
      "cell_type": "markdown",
      "metadata": {
        "id": "EUwjWceeWRIZ",
        "colab_type": "text"
      },
      "source": [
        "Com isso, pode-se separar os dataset de treino e teste e dá inicio ao treino do modelo."
      ]
    },
    {
      "cell_type": "code",
      "metadata": {
        "id": "zuMN6DitWZH9",
        "colab_type": "code",
        "colab": {}
      },
      "source": [
        "# separar as variáveis independentes da variável alvo\n",
        "X = df_model.drop('target_default', axis=1).select_dtypes(exclude='object')\n",
        "y = df_model['target_default']"
      ],
      "execution_count": 117,
      "outputs": []
    },
    {
      "cell_type": "code",
      "metadata": {
        "id": "VAcYu8srWhvg",
        "colab_type": "code",
        "colab": {}
      },
      "source": [
        "# dividir o dataset entre treino e teste\n",
        "X_treino, X_teste, y_treino, y_teste = train_test_split(X, y, test_size=0.3)"
      ],
      "execution_count": 118,
      "outputs": []
    },
    {
      "cell_type": "markdown",
      "metadata": {
        "id": "3IbFGY-ra-uv",
        "colab_type": "text"
      },
      "source": [
        "##Contruindo o Modelo"
      ]
    },
    {
      "cell_type": "markdown",
      "metadata": {
        "id": "upBoIB1zfOqs",
        "colab_type": "text"
      },
      "source": [
        "###Descidindo o modelo\n",
        "\n",
        "Com base em avaliação de outros cientistas de dados e na [literatura ](https://repositorio.iscte-iul.pt/bitstream/10071/20293/1/Master_Andre_Luiz_Monteiro.pdf)identifiquei que o melhor modelo para esse tipo de problema, no caso o mais utilizado é o RandomForest. No entanto, não realizei uma análise mais aprofundada sobre as variáveis e nem um *tunning* de parâmetros, mas construído um modelo simples para servir de *baseline*.\n",
        "\n",
        "Então, para identificar o melhor modelo de RF, realizei diversos testes procurando o melhor estimardos para utilizar.\n",
        "\n"
      ]
    },
    {
      "cell_type": "code",
      "metadata": {
        "id": "-gklrCDg4bZc",
        "colab_type": "code",
        "colab": {}
      },
      "source": [
        "#Balanceamento dos dados\n",
        "rus = RandomUnderSampler()\n",
        "X_treino_rus, y_treino_rus = rus.fit_sample(X_treino,y_treino)"
      ],
      "execution_count": null,
      "outputs": []
    },
    {
      "cell_type": "code",
      "metadata": {
        "id": "Q48OLWAmgFVd",
        "colab_type": "code",
        "colab": {
          "base_uri": "https://localhost:8080/",
          "height": 35
        },
        "outputId": "bcae412d-78df-4e2a-c866-fc09d36e8fbd"
      },
      "source": [
        "#Construção do modelo\n",
        "kfold = StratifiedKFold(n_splits=10, shuffle=True)\n",
        "\n",
        "forest = RandomForestClassifier()\n",
        "\n",
        "#qual melhro critério\n",
        "param_grid = {'criterion': ['gini', 'entropy']}\n",
        "\n",
        "search = GridSearchCV(forest, param_grid, scoring = 'recall', cv=kfold)\n",
        "result = search.fit(X_treino_rus, y_treino_rus)\n",
        "\n",
        "# ver resultados\n",
        "print(f'Melhor resultado: {result.best_score_} para {result.best_params_}')"
      ],
      "execution_count": 124,
      "outputs": [
        {
          "output_type": "stream",
          "text": [
            "Melhor resultado: 0.6194047476817601 para {'criterion': 'gini'}\n"
          ],
          "name": "stdout"
        }
      ]
    },
    {
      "cell_type": "code",
      "metadata": {
        "id": "G0RigIs66qbz",
        "colab_type": "code",
        "colab": {
          "base_uri": "https://localhost:8080/",
          "height": 35
        },
        "outputId": "710bab2f-9198-4996-8c38-d449c0f0cd0c"
      },
      "source": [
        "forest = RandomForestClassifier(criterion='gini')\n",
        "\n",
        "#qual melhor numero de estimadores\n",
        "param_grid = {'n_estimators': range(50, 500, 50)}\n",
        "\n",
        "search = GridSearchCV(forest, param_grid, scoring='recall', cv=kfold)\n",
        "result = search.fit(X_treino_rus, y_treino_rus)\n",
        "\n",
        "# ver resultados\n",
        "print(f'Melhor resultado: {result.best_score_} para {result.best_params_}')"
      ],
      "execution_count": 91,
      "outputs": [
        {
          "output_type": "stream",
          "text": [
            "Melhor resultado: 0.63461093088015 para {'n_estimators': 400}\n"
          ],
          "name": "stdout"
        }
      ]
    },
    {
      "cell_type": "code",
      "metadata": {
        "id": "B5x5V_Mi6q47",
        "colab_type": "code",
        "colab": {
          "base_uri": "https://localhost:8080/",
          "height": 35
        },
        "outputId": "486411c7-8bd8-4a8a-bf47-7005b3801962"
      },
      "source": [
        "forest = RandomForestClassifier(criterion='gini', n_estimators=400)\n",
        "\n",
        "#qual melhor numero de estimadores\n",
        "param_grid = {'min_samples_split': range(2, 10, 2)}\n",
        "\n",
        "search = GridSearchCV(forest, param_grid, scoring='recall', cv=kfold)\n",
        "result = search.fit(X_treino_rus, y_treino_rus)\n",
        "\n",
        "# ver resultados\n",
        "print(f'Melhor resultado: {result.best_score_} para {result.best_params_}')"
      ],
      "execution_count": 92,
      "outputs": [
        {
          "output_type": "stream",
          "text": [
            "Melhor resultado: 0.6412508845613035 para {'min_samples_split': 6}\n"
          ],
          "name": "stdout"
        }
      ]
    },
    {
      "cell_type": "code",
      "metadata": {
        "id": "iBYT_s5068Fz",
        "colab_type": "code",
        "colab": {
          "base_uri": "https://localhost:8080/",
          "height": 35
        },
        "outputId": "cff3a5cc-e147-4840-a65b-83783dab416d"
      },
      "source": [
        "forest = RandomForestClassifier(criterion='entropy', n_estimators=400,min_samples_split = 6)\n",
        "\n",
        "#qual melhor numero de estimadores\n",
        "param_grid = {'min_samples_leaf': range(1, 6, 2)}\n",
        "\n",
        "search = GridSearchCV(forest, param_grid, scoring='recall', cv=kfold)\n",
        "result = search.fit(X_treino_rus, y_treino_rus)\n",
        "\n",
        "# ver resultados\n",
        "print(f'Melhor resultado: {result.best_score_} para {result.best_params_}')"
      ],
      "execution_count": 94,
      "outputs": [
        {
          "output_type": "stream",
          "text": [
            "Melhor resultado: 0.6369645532161271 para {'min_samples_leaf': 5}\n"
          ],
          "name": "stdout"
        }
      ]
    },
    {
      "cell_type": "code",
      "metadata": {
        "id": "xFe95ON_6_Po",
        "colab_type": "code",
        "colab": {
          "base_uri": "https://localhost:8080/",
          "height": 159
        },
        "outputId": "f0dec127-9bd0-446a-e22b-238eee2b67b1"
      },
      "source": [
        "#Modelo Final\n",
        "forest = RandomForestClassifier(criterion='entropy', n_estimators=400,min_samples_split = 6)\n",
        "forest.fit(X_treino, y_treino)"
      ],
      "execution_count": 120,
      "outputs": [
        {
          "output_type": "execute_result",
          "data": {
            "text/plain": [
              "RandomForestClassifier(bootstrap=True, ccp_alpha=0.0, class_weight=None,\n",
              "                       criterion='entropy', max_depth=None, max_features='auto',\n",
              "                       max_leaf_nodes=None, max_samples=None,\n",
              "                       min_impurity_decrease=0.0, min_impurity_split=None,\n",
              "                       min_samples_leaf=1, min_samples_split=6,\n",
              "                       min_weight_fraction_leaf=0.0, n_estimators=400,\n",
              "                       n_jobs=None, oob_score=False, random_state=None,\n",
              "                       verbose=0, warm_start=False)"
            ]
          },
          "metadata": {
            "tags": []
          },
          "execution_count": 120
        }
      ]
    },
    {
      "cell_type": "code",
      "metadata": {
        "id": "oBmxe9qGh5pq",
        "colab_type": "code",
        "colab": {}
      },
      "source": [
        "#Frazer predições\n",
        "#Mudar a escala do X_test\n",
        "X_teste = scala.transform(X_teste)\n",
        "y_pred =  forest.predict(X_teste)"
      ],
      "execution_count": 121,
      "outputs": []
    },
    {
      "cell_type": "code",
      "metadata": {
        "id": "VQ3ZayqsiXio",
        "colab_type": "code",
        "colab": {
          "base_uri": "https://localhost:8080/",
          "height": 195
        },
        "outputId": "73acc772-6caf-4cf3-a82b-04ca779047d2"
      },
      "source": [
        "#Relatorio de classificação\n",
        "print(classification_report(y_teste, y_pred))\n",
        "print(\"Área sobre a curva ASC:\", roc_auc_score(y_teste,y_pred))"
      ],
      "execution_count": 122,
      "outputs": [
        {
          "output_type": "stream",
          "text": [
            "              precision    recall  f1-score   support\n",
            "\n",
            "       False       0.84      0.96      0.90     10465\n",
            "        True       0.31      0.10      0.15      2058\n",
            "\n",
            "    accuracy                           0.82     12523\n",
            "   macro avg       0.57      0.53      0.52     12523\n",
            "weighted avg       0.76      0.82      0.77     12523\n",
            "\n",
            "Área sobre a curva ASC: 0.5271465298971953\n"
          ],
          "name": "stdout"
        }
      ]
    },
    {
      "cell_type": "code",
      "metadata": {
        "id": "dc4cIuiVia8u",
        "colab_type": "code",
        "colab": {
          "base_uri": "https://localhost:8080/",
          "height": 356
        },
        "outputId": "bb2645ea-db20-4e53-e241-35b9731bf8ec"
      },
      "source": [
        "#Plotar matriz de confusão\n",
        "sns.heatmap(confusion_matrix(y_teste, y_pred, normalize='true'), annot=True, cmap=\"Blues_r\");"
      ],
      "execution_count": 123,
      "outputs": [
        {
          "output_type": "display_data",
          "data": {
            "text/plain": [
              "<Figure size 432x288 with 2 Axes>"
            ],
            "image/svg+xml": "<?xml version=\"1.0\" encoding=\"utf-8\" standalone=\"no\"?>\n<!DOCTYPE svg PUBLIC \"-//W3C//DTD SVG 1.1//EN\"\n  \"http://www.w3.org/Graphics/SVG/1.1/DTD/svg11.dtd\">\n<!-- Created with matplotlib (https://matplotlib.org/) -->\n<svg height=\"251.985937pt\" version=\"1.1\" viewBox=\"0 0 356.991375 251.985937\" width=\"356.991375pt\" xmlns=\"http://www.w3.org/2000/svg\" xmlns:xlink=\"http://www.w3.org/1999/xlink\">\n <defs>\n  <style type=\"text/css\">\n*{stroke-linecap:butt;stroke-linejoin:round;}\n  </style>\n </defs>\n <g id=\"figure_1\">\n  <g id=\"patch_1\">\n   <path d=\"M 0 251.985937 \nL 356.991375 251.985937 \nL 356.991375 0 \nL 0 0 \nz\n\" style=\"fill:none;\"/>\n  </g>\n  <g id=\"axes_1\">\n   <g id=\"patch_2\">\n    <path d=\"M 27.345938 224.64 \nL 295.185938 224.64 \nL 295.185938 7.2 \nL 27.345938 7.2 \nz\n\" style=\"fill:#eaeaf2;\"/>\n   </g>\n   <g id=\"matplotlib.axis_1\">\n    <g id=\"xtick_1\">\n     <g id=\"text_1\">\n      <!-- 0 -->\n      <defs>\n       <path d=\"M 31.78125 66.40625 \nQ 24.171875 66.40625 20.328125 58.90625 \nQ 16.5 51.421875 16.5 36.375 \nQ 16.5 21.390625 20.328125 13.890625 \nQ 24.171875 6.390625 31.78125 6.390625 \nQ 39.453125 6.390625 43.28125 13.890625 \nQ 47.125 21.390625 47.125 36.375 \nQ 47.125 51.421875 43.28125 58.90625 \nQ 39.453125 66.40625 31.78125 66.40625 \nz\nM 31.78125 74.21875 \nQ 44.046875 74.21875 50.515625 64.515625 \nQ 56.984375 54.828125 56.984375 36.375 \nQ 56.984375 17.96875 50.515625 8.265625 \nQ 44.046875 -1.421875 31.78125 -1.421875 \nQ 19.53125 -1.421875 13.0625 8.265625 \nQ 6.59375 17.96875 6.59375 36.375 \nQ 6.59375 54.828125 13.0625 64.515625 \nQ 19.53125 74.21875 31.78125 74.21875 \nz\n\" id=\"DejaVuSans-48\"/>\n      </defs>\n      <g style=\"fill:#262626;\" transform=\"translate(90.806563 242.498281)scale(0.11 -0.11)\">\n       <use xlink:href=\"#DejaVuSans-48\"/>\n      </g>\n     </g>\n    </g>\n    <g id=\"xtick_2\">\n     <g id=\"text_2\">\n      <!-- 1 -->\n      <defs>\n       <path d=\"M 12.40625 8.296875 \nL 28.515625 8.296875 \nL 28.515625 63.921875 \nL 10.984375 60.40625 \nL 10.984375 69.390625 \nL 28.421875 72.90625 \nL 38.28125 72.90625 \nL 38.28125 8.296875 \nL 54.390625 8.296875 \nL 54.390625 0 \nL 12.40625 0 \nz\n\" id=\"DejaVuSans-49\"/>\n      </defs>\n      <g style=\"fill:#262626;\" transform=\"translate(224.726563 242.498281)scale(0.11 -0.11)\">\n       <use xlink:href=\"#DejaVuSans-49\"/>\n      </g>\n     </g>\n    </g>\n   </g>\n   <g id=\"matplotlib.axis_2\">\n    <g id=\"ytick_1\">\n     <g id=\"text_3\">\n      <!-- 0 -->\n      <g style=\"fill:#262626;\" transform=\"translate(15.558281 64.379609)rotate(-90)scale(0.11 -0.11)\">\n       <use xlink:href=\"#DejaVuSans-48\"/>\n      </g>\n     </g>\n    </g>\n    <g id=\"ytick_2\">\n     <g id=\"text_4\">\n      <!-- 1 -->\n      <g style=\"fill:#262626;\" transform=\"translate(15.558281 173.099609)rotate(-90)scale(0.11 -0.11)\">\n       <use xlink:href=\"#DejaVuSans-49\"/>\n      </g>\n     </g>\n    </g>\n   </g>\n   <g id=\"QuadMesh_1\">\n    <path clip-path=\"url(#p89f0904973)\" d=\"M 27.345938 7.2 \nL 161.265938 7.2 \nL 161.265938 115.92 \nL 27.345938 115.92 \nL 27.345938 7.2 \n\" style=\"fill:#f7fbff;\"/>\n    <path clip-path=\"url(#p89f0904973)\" d=\"M 161.265938 7.2 \nL 295.185938 7.2 \nL 295.185938 115.92 \nL 161.265938 115.92 \nL 161.265938 7.2 \n\" style=\"fill:#08306b;\"/>\n    <path clip-path=\"url(#p89f0904973)\" d=\"M 27.345938 115.92 \nL 161.265938 115.92 \nL 161.265938 224.64 \nL 27.345938 224.64 \nL 27.345938 115.92 \n\" style=\"fill:#ebf3fb;\"/>\n    <path clip-path=\"url(#p89f0904973)\" d=\"M 161.265938 115.92 \nL 295.185938 115.92 \nL 295.185938 224.64 \nL 161.265938 224.64 \nL 161.265938 115.92 \n\" style=\"fill:#084082;\"/>\n   </g>\n   <g id=\"text_5\">\n    <!-- 0.96 -->\n    <defs>\n     <path d=\"M 10.6875 12.40625 \nL 21 12.40625 \nL 21 0 \nL 10.6875 0 \nz\n\" id=\"DejaVuSans-46\"/>\n     <path d=\"M 10.984375 1.515625 \nL 10.984375 10.5 \nQ 14.703125 8.734375 18.5 7.8125 \nQ 22.3125 6.890625 25.984375 6.890625 \nQ 35.75 6.890625 40.890625 13.453125 \nQ 46.046875 20.015625 46.78125 33.40625 \nQ 43.953125 29.203125 39.59375 26.953125 \nQ 35.25 24.703125 29.984375 24.703125 \nQ 19.046875 24.703125 12.671875 31.3125 \nQ 6.296875 37.9375 6.296875 49.421875 \nQ 6.296875 60.640625 12.9375 67.421875 \nQ 19.578125 74.21875 30.609375 74.21875 \nQ 43.265625 74.21875 49.921875 64.515625 \nQ 56.59375 54.828125 56.59375 36.375 \nQ 56.59375 19.140625 48.40625 8.859375 \nQ 40.234375 -1.421875 26.421875 -1.421875 \nQ 22.703125 -1.421875 18.890625 -0.6875 \nQ 15.09375 0.046875 10.984375 1.515625 \nz\nM 30.609375 32.421875 \nQ 37.25 32.421875 41.125 36.953125 \nQ 45.015625 41.5 45.015625 49.421875 \nQ 45.015625 57.28125 41.125 61.84375 \nQ 37.25 66.40625 30.609375 66.40625 \nQ 23.96875 66.40625 20.09375 61.84375 \nQ 16.21875 57.28125 16.21875 49.421875 \nQ 16.21875 41.5 20.09375 36.953125 \nQ 23.96875 32.421875 30.609375 32.421875 \nz\n\" id=\"DejaVuSans-57\"/>\n     <path d=\"M 33.015625 40.375 \nQ 26.375 40.375 22.484375 35.828125 \nQ 18.609375 31.296875 18.609375 23.390625 \nQ 18.609375 15.53125 22.484375 10.953125 \nQ 26.375 6.390625 33.015625 6.390625 \nQ 39.65625 6.390625 43.53125 10.953125 \nQ 47.40625 15.53125 47.40625 23.390625 \nQ 47.40625 31.296875 43.53125 35.828125 \nQ 39.65625 40.375 33.015625 40.375 \nz\nM 52.59375 71.296875 \nL 52.59375 62.3125 \nQ 48.875 64.0625 45.09375 64.984375 \nQ 41.3125 65.921875 37.59375 65.921875 \nQ 27.828125 65.921875 22.671875 59.328125 \nQ 17.53125 52.734375 16.796875 39.40625 \nQ 19.671875 43.65625 24.015625 45.921875 \nQ 28.375 48.1875 33.59375 48.1875 \nQ 44.578125 48.1875 50.953125 41.515625 \nQ 57.328125 34.859375 57.328125 23.390625 \nQ 57.328125 12.15625 50.6875 5.359375 \nQ 44.046875 -1.421875 33.015625 -1.421875 \nQ 20.359375 -1.421875 13.671875 8.265625 \nQ 6.984375 17.96875 6.984375 36.375 \nQ 6.984375 53.65625 15.1875 63.9375 \nQ 23.390625 74.21875 37.203125 74.21875 \nQ 40.921875 74.21875 44.703125 73.484375 \nQ 48.484375 72.75 52.59375 71.296875 \nz\n\" id=\"DejaVuSans-54\"/>\n    </defs>\n    <g style=\"fill:#262626;\" transform=\"translate(83.173125 64.319375)scale(0.1 -0.1)\">\n     <use xlink:href=\"#DejaVuSans-48\"/>\n     <use x=\"63.623047\" xlink:href=\"#DejaVuSans-46\"/>\n     <use x=\"95.410156\" xlink:href=\"#DejaVuSans-57\"/>\n     <use x=\"159.033203\" xlink:href=\"#DejaVuSans-54\"/>\n    </g>\n   </g>\n   <g id=\"text_6\">\n    <!-- 0.044 -->\n    <defs>\n     <path d=\"M 37.796875 64.3125 \nL 12.890625 25.390625 \nL 37.796875 25.390625 \nz\nM 35.203125 72.90625 \nL 47.609375 72.90625 \nL 47.609375 25.390625 \nL 58.015625 25.390625 \nL 58.015625 17.1875 \nL 47.609375 17.1875 \nL 47.609375 0 \nL 37.796875 0 \nL 37.796875 17.1875 \nL 4.890625 17.1875 \nL 4.890625 26.703125 \nz\n\" id=\"DejaVuSans-52\"/>\n    </defs>\n    <g style=\"fill:#ffffff;\" transform=\"translate(213.911875 64.319375)scale(0.1 -0.1)\">\n     <use xlink:href=\"#DejaVuSans-48\"/>\n     <use x=\"63.623047\" xlink:href=\"#DejaVuSans-46\"/>\n     <use x=\"95.410156\" xlink:href=\"#DejaVuSans-48\"/>\n     <use x=\"159.033203\" xlink:href=\"#DejaVuSans-52\"/>\n     <use x=\"222.65625\" xlink:href=\"#DejaVuSans-52\"/>\n    </g>\n   </g>\n   <g id=\"text_7\">\n    <!-- 0.9 -->\n    <g style=\"fill:#262626;\" transform=\"translate(86.354375 173.039375)scale(0.1 -0.1)\">\n     <use xlink:href=\"#DejaVuSans-48\"/>\n     <use x=\"63.623047\" xlink:href=\"#DejaVuSans-46\"/>\n     <use x=\"95.410156\" xlink:href=\"#DejaVuSans-57\"/>\n    </g>\n   </g>\n   <g id=\"text_8\">\n    <!-- 0.098 -->\n    <defs>\n     <path d=\"M 31.78125 34.625 \nQ 24.75 34.625 20.71875 30.859375 \nQ 16.703125 27.09375 16.703125 20.515625 \nQ 16.703125 13.921875 20.71875 10.15625 \nQ 24.75 6.390625 31.78125 6.390625 \nQ 38.8125 6.390625 42.859375 10.171875 \nQ 46.921875 13.96875 46.921875 20.515625 \nQ 46.921875 27.09375 42.890625 30.859375 \nQ 38.875 34.625 31.78125 34.625 \nz\nM 21.921875 38.8125 \nQ 15.578125 40.375 12.03125 44.71875 \nQ 8.5 49.078125 8.5 55.328125 \nQ 8.5 64.0625 14.71875 69.140625 \nQ 20.953125 74.21875 31.78125 74.21875 \nQ 42.671875 74.21875 48.875 69.140625 \nQ 55.078125 64.0625 55.078125 55.328125 \nQ 55.078125 49.078125 51.53125 44.71875 \nQ 48 40.375 41.703125 38.8125 \nQ 48.828125 37.15625 52.796875 32.3125 \nQ 56.78125 27.484375 56.78125 20.515625 \nQ 56.78125 9.90625 50.3125 4.234375 \nQ 43.84375 -1.421875 31.78125 -1.421875 \nQ 19.734375 -1.421875 13.25 4.234375 \nQ 6.78125 9.90625 6.78125 20.515625 \nQ 6.78125 27.484375 10.78125 32.3125 \nQ 14.796875 37.15625 21.921875 38.8125 \nz\nM 18.3125 54.390625 \nQ 18.3125 48.734375 21.84375 45.5625 \nQ 25.390625 42.390625 31.78125 42.390625 \nQ 38.140625 42.390625 41.71875 45.5625 \nQ 45.3125 48.734375 45.3125 54.390625 \nQ 45.3125 60.0625 41.71875 63.234375 \nQ 38.140625 66.40625 31.78125 66.40625 \nQ 25.390625 66.40625 21.84375 63.234375 \nQ 18.3125 60.0625 18.3125 54.390625 \nz\n\" id=\"DejaVuSans-56\"/>\n    </defs>\n    <g style=\"fill:#ffffff;\" transform=\"translate(213.911875 173.039375)scale(0.1 -0.1)\">\n     <use xlink:href=\"#DejaVuSans-48\"/>\n     <use x=\"63.623047\" xlink:href=\"#DejaVuSans-46\"/>\n     <use x=\"95.410156\" xlink:href=\"#DejaVuSans-48\"/>\n     <use x=\"159.033203\" xlink:href=\"#DejaVuSans-57\"/>\n     <use x=\"222.65625\" xlink:href=\"#DejaVuSans-56\"/>\n    </g>\n   </g>\n  </g>\n  <g id=\"axes_2\">\n   <g id=\"patch_3\">\n    <path clip-path=\"url(#p6446c6dfaf)\" d=\"M 311.925938 224.64 \nL 311.925938 223.790625 \nL 311.925938 8.049375 \nL 311.925938 7.2 \nL 322.797938 7.2 \nL 322.797938 8.049375 \nL 322.797938 223.790625 \nL 322.797938 224.64 \nz\n\" style=\"fill:#eaeaf2;stroke:#eaeaf2;stroke-linejoin:miter;stroke-width:0.01;\"/>\n   </g>\n   <g id=\"matplotlib.axis_3\"/>\n   <g id=\"matplotlib.axis_4\">\n    <g id=\"ytick_3\">\n     <g id=\"line2d_1\">\n      <defs>\n       <path d=\"M 0 0 \nL 6 0 \n\" id=\"m71b46bbfe9\" style=\"stroke:#262626;stroke-width:1.25;\"/>\n      </defs>\n      <g>\n       <use style=\"fill:#262626;stroke:#262626;stroke-width:1.25;\" x=\"322.797938\" xlink:href=\"#m71b46bbfe9\" y=\"187.424439\"/>\n      </g>\n     </g>\n     <g id=\"text_9\">\n      <!-- 0.2 -->\n      <defs>\n       <path d=\"M 19.1875 8.296875 \nL 53.609375 8.296875 \nL 53.609375 0 \nL 7.328125 0 \nL 7.328125 8.296875 \nQ 12.9375 14.109375 22.625 23.890625 \nQ 32.328125 33.6875 34.8125 36.53125 \nQ 39.546875 41.84375 41.421875 45.53125 \nQ 43.3125 49.21875 43.3125 52.78125 \nQ 43.3125 58.59375 39.234375 62.25 \nQ 35.15625 65.921875 28.609375 65.921875 \nQ 23.96875 65.921875 18.8125 64.3125 \nQ 13.671875 62.703125 7.8125 59.421875 \nL 7.8125 69.390625 \nQ 13.765625 71.78125 18.9375 73 \nQ 24.125 74.21875 28.421875 74.21875 \nQ 39.75 74.21875 46.484375 68.546875 \nQ 53.21875 62.890625 53.21875 53.421875 \nQ 53.21875 48.921875 51.53125 44.890625 \nQ 49.859375 40.875 45.40625 35.40625 \nQ 44.1875 33.984375 37.640625 27.21875 \nQ 31.109375 20.453125 19.1875 8.296875 \nz\n\" id=\"DejaVuSans-50\"/>\n      </defs>\n      <g style=\"fill:#262626;\" transform=\"translate(332.297938 191.60358)scale(0.11 -0.11)\">\n       <use xlink:href=\"#DejaVuSans-48\"/>\n       <use x=\"63.623047\" xlink:href=\"#DejaVuSans-46\"/>\n       <use x=\"95.410156\" xlink:href=\"#DejaVuSans-50\"/>\n      </g>\n     </g>\n    </g>\n    <g id=\"ytick_4\">\n     <g id=\"line2d_2\">\n      <g>\n       <use style=\"fill:#262626;stroke:#262626;stroke-width:1.25;\" x=\"322.797938\" xlink:href=\"#m71b46bbfe9\" y=\"139.754813\"/>\n      </g>\n     </g>\n     <g id=\"text_10\">\n      <!-- 0.4 -->\n      <g style=\"fill:#262626;\" transform=\"translate(332.297938 143.933954)scale(0.11 -0.11)\">\n       <use xlink:href=\"#DejaVuSans-48\"/>\n       <use x=\"63.623047\" xlink:href=\"#DejaVuSans-46\"/>\n       <use x=\"95.410156\" xlink:href=\"#DejaVuSans-52\"/>\n      </g>\n     </g>\n    </g>\n    <g id=\"ytick_5\">\n     <g id=\"line2d_3\">\n      <g>\n       <use style=\"fill:#262626;stroke:#262626;stroke-width:1.25;\" x=\"322.797938\" xlink:href=\"#m71b46bbfe9\" y=\"92.085187\"/>\n      </g>\n     </g>\n     <g id=\"text_11\">\n      <!-- 0.6 -->\n      <g style=\"fill:#262626;\" transform=\"translate(332.297938 96.264328)scale(0.11 -0.11)\">\n       <use xlink:href=\"#DejaVuSans-48\"/>\n       <use x=\"63.623047\" xlink:href=\"#DejaVuSans-46\"/>\n       <use x=\"95.410156\" xlink:href=\"#DejaVuSans-54\"/>\n      </g>\n     </g>\n    </g>\n    <g id=\"ytick_6\">\n     <g id=\"line2d_4\">\n      <g>\n       <use style=\"fill:#262626;stroke:#262626;stroke-width:1.25;\" x=\"322.797938\" xlink:href=\"#m71b46bbfe9\" y=\"44.415561\"/>\n      </g>\n     </g>\n     <g id=\"text_12\">\n      <!-- 0.8 -->\n      <g style=\"fill:#262626;\" transform=\"translate(332.297938 48.594702)scale(0.11 -0.11)\">\n       <use xlink:href=\"#DejaVuSans-48\"/>\n       <use x=\"63.623047\" xlink:href=\"#DejaVuSans-46\"/>\n       <use x=\"95.410156\" xlink:href=\"#DejaVuSans-56\"/>\n      </g>\n     </g>\n    </g>\n   </g>\n   <image height=\"218\" id=\"imagee48afa50fd\" transform=\"scale(1 -1)translate(0 -218)\" width=\"11\" x=\"312\" xlink:href=\"data:image/png;base64,\niVBORw0KGgoAAAANSUhEUgAAAAsAAADaCAYAAABwzrisAAAABHNCSVQICAgIfAhkiAAAASNJREFUaIHtmDEOwzAMA23ZQ5/Tf+X/c7sWnXTDAYyRzoRAkZTkdL7e12c0f3vM6mLHHrUAeE4CJjS8ysc3iMDreDVIZZaNkAYPD//0wJVBg+ncxsLKVcDBEM7H2+3pfL7dt8xGG4un26LhVfakg+EHlY+3O6RBM6L3m25PjcpoEFCmdoNzxWiIDmasApaNfuGcbGg0WDb6hcde4q4DNEL2xvKClLHrkHQEnWI3UgOFn+msnQkvSKv/yKU3RYtoEZ1Z+EPuIFPDomHebgQmnAkNaIpFQzz03oXVZtCbbnF9aZzNm2KlzqvM/r3MoGFmg4DFVQDAKdKF0Ohjn/D/VybgJ/w/YHQmRoqDCJzxcCXSwWwAsPbpQR65Mc+ekBnM2PzIwS8mogdSqHqDxAAAAABJRU5ErkJggg==\" y=\"-6\"/>\n   <g id=\"patch_4\">\n    <path d=\"M 311.925938 224.64 \nL 311.925938 223.790625 \nL 311.925938 8.049375 \nL 311.925938 7.2 \nL 322.797938 7.2 \nL 322.797938 8.049375 \nL 322.797938 223.790625 \nL 322.797938 224.64 \nz\n\" style=\"fill:none;\"/>\n   </g>\n  </g>\n </g>\n <defs>\n  <clipPath id=\"p89f0904973\">\n   <rect height=\"217.44\" width=\"267.84\" x=\"27.345938\" y=\"7.2\"/>\n  </clipPath>\n  <clipPath id=\"p6446c6dfaf\">\n   <rect height=\"217.44\" width=\"10.872\" x=\"311.925938\" y=\"7.2\"/>\n  </clipPath>\n </defs>\n</svg>\n"
          },
          "metadata": {
            "tags": [],
            "needs_background": "light"
          }
        }
      ]
    },
    {
      "cell_type": "markdown",
      "metadata": {
        "id": "2MdPMrLpmWsG",
        "colab_type": "text"
      },
      "source": [
        "Lembra-se que o *dataset* utilizado neste projeto não foi balanceado, o que pode gerar métricas que não representam a realidade da situação problemática do mundo real.\n",
        "\n",
        "No entanto, o mesmo apresentou valores bem elevados de Verdadeiros Positivos e Verdadeiros Negativos, no entanto pode ter sido um overfitting das predições. "
      ]
    },
    {
      "cell_type": "markdown",
      "metadata": {
        "id": "o3Uduicx3l4l",
        "colab_type": "text"
      },
      "source": [
        "#Conclusão\n",
        " \n",
        "Neste projeto, realizei diversos procedimento para a contrução de um modelo de predição de risco de crédito\n"
      ]
    }
  ]
}