{
  "nbformat": 4,
  "nbformat_minor": 0,
  "metadata": {
    "colab": {
      "name": "Churn_Prediction_para_uma_empresa_de_Telecomunicações.ipynb",
      "provenance": [],
      "include_colab_link": true
    },
    "kernelspec": {
      "name": "python3",
      "display_name": "Python 3"
    }
  },
  "cells": [
    {
      "cell_type": "markdown",
      "metadata": {
        "id": "view-in-github",
        "colab_type": "text"
      },
      "source": [
        "<a href=\"https://colab.research.google.com/github/jvataidee/MachineLearning/blob/master/Churn_Prediction_para_uma_empresa_de_Telecomunica%C3%A7%C3%B5es.ipynb\" target=\"_parent\"><img src=\"https://colab.research.google.com/assets/colab-badge.svg\" alt=\"Open In Colab\"/></a>"
      ]
    },
    {
      "cell_type": "markdown",
      "metadata": {
        "id": "sC2BFMOKN1M7",
        "colab_type": "text"
      },
      "source": [
        "\n",
        "<p align=\"center\"><img src=\"https://static.wixstatic.com/media/bdd7cb_6ecb6c85550043f090237e5943d2647c~mv2.png/v1/fill/w_417,h_88,al_c,q_85,usm_0.66_1.00_0.01/Ativo%2023-8.webp\" height=\"75px\"></p>\n",
        "\n",
        "**by: [João Ataíde](https://www.joaoataide.com)**\n",
        "#**Predição de Evasão de Clientes em Empresas de Telecomunicações**\n",
        "\n",
        "\n",
        "---\n",
        "\n",
        "<p align=\"center\"><img src=\"https://static.wixstatic.com/media/bdd7cb_a558eaed78994bcb94f2c0e83f5722ff~mv2.jpg\"></p>\n"
      ]
    },
    {
      "cell_type": "markdown",
      "metadata": {
        "id": "IR56trFcPcC1",
        "colab_type": "text"
      },
      "source": [
        "Empresas prestadoras de serviços comunicação costumam usar análises de insatisfação de cliente, identificando sempre se seus clientes estão confirmados ou não, essas análises são umas das principais métricas para manter e adquirir novos compradores. Em geral, as empresas desses setores costumam ter agências de atendimento ao cliente, onde uma das suas principais tarefas é tentar reconquistar aqueles clientes perdidos, os quais podem custar muito mais do que clientes novos.\n",
        "\n",
        "Devido a isso, as empresas investem em nova tecnologias para fazer essas análises, estas comummente utilizam-se do *Churn rate*, ou simplesmente *Churn*, que é uma das formas de medir essa taxa de evasão dos clientes, \n",
        "Além de identificar essa taxa de evasão, o *Churn* auxiliar a identificar futuros cancelamento, realizando uma predição que auxilia na tomada de decisão e promoção de ações diferenciadas para estes clientes. Uma aplicação cotidiana nossa são nas empresas de streaming como Spotifly e Netflix. \n",
        "\n",
        "Por ser uma métrica tão importante, o Carlos Melos no seu curso Data Science na prática nos passou um desafio, implementar do zero uma solução de Churn para uma empresa de telecomunicação, utilizando-se de dados reais.\n"
      ]
    },
    {
      "cell_type": "markdown",
      "metadata": {
        "id": "0HVmpIxQWT4Y",
        "colab_type": "text"
      },
      "source": [
        "## Aquisição dos Dados e importação das bibliotecas\n",
        "\n"
      ]
    },
    {
      "cell_type": "markdown",
      "metadata": {
        "id": "gcrwAvp9MmIP",
        "colab_type": "text"
      },
      "source": [
        "Os dados utilizados neste projeto foram originalmente disponibilizados na [plataforma de ensino da IBM Developer](https://developer.ibm.com/technologies/data-science/patterns/predict-customer-churn-using-watson-studio-and-jupyter-notebooks/#), tratam-se de um típico problema das companhias de telecomunicações.  Você pode ver o *dataset* completo [neste link](https://raw.githubusercontent.com/jvataidee/MachineLearning/master/dados/WA_Fn-UseC_-Telco-Customer-Churn.csv).\n",
        "\n",
        "Mesmo não havendo informações explícitas disponibilizadas pela IBM, os nomes das colunas permitem um entendimento a respeito do problema."
      ]
    },
    {
      "cell_type": "markdown",
      "metadata": {
        "id": "sxDfHIeyMfW4",
        "colab_type": "text"
      },
      "source": [
        "**Falar sobre os dados**"
      ]
    },
    {
      "cell_type": "code",
      "metadata": {
        "id": "niUYE3a9xhYM",
        "colab_type": "code",
        "colab": {}
      },
      "source": [
        "#importar bibliotecas básicas\n",
        "import pandas as pd\n",
        "import numpy as np\n",
        "import matplotlib.pyplot as plt\n",
        "import seaborn as sns\n",
        "\n",
        "#Bibliotecas de modelagem\n",
        "\n",
        "\n",
        "# configurar a visualização\n",
        "sns.set()\n",
        "%matplotlib inline\n",
        "%config InlineBackend.figure_format = 'svg'"
      ],
      "execution_count": 53,
      "outputs": []
    },
    {
      "cell_type": "code",
      "metadata": {
        "id": "oQ4bNy7udtEE",
        "colab_type": "code",
        "colab": {
          "base_uri": "https://localhost:8080/",
          "height": 316
        },
        "outputId": "2de40864-083e-4a37-c387-237d8afb0c54"
      },
      "source": [
        "# importar os dados\n",
        "df = \"https://raw.githubusercontent.com/jvataidee/MachineLearning/master/dados/WA_Fn-UseC_-Telco-Customer-Churn.csv\"\n",
        "df = pd.read_csv(df)\n",
        "\n",
        "# ver as 5 primeiras entradas\n",
        "\n",
        "print(df.shape)\n",
        "df.head()"
      ],
      "execution_count": 54,
      "outputs": [
        {
          "output_type": "stream",
          "text": [
            "(7043, 21)\n"
          ],
          "name": "stdout"
        },
        {
          "output_type": "execute_result",
          "data": {
            "text/html": [
              "<div>\n",
              "<style scoped>\n",
              "    .dataframe tbody tr th:only-of-type {\n",
              "        vertical-align: middle;\n",
              "    }\n",
              "\n",
              "    .dataframe tbody tr th {\n",
              "        vertical-align: top;\n",
              "    }\n",
              "\n",
              "    .dataframe thead th {\n",
              "        text-align: right;\n",
              "    }\n",
              "</style>\n",
              "<table border=\"1\" class=\"dataframe\">\n",
              "  <thead>\n",
              "    <tr style=\"text-align: right;\">\n",
              "      <th></th>\n",
              "      <th>customerID</th>\n",
              "      <th>gender</th>\n",
              "      <th>SeniorCitizen</th>\n",
              "      <th>Partner</th>\n",
              "      <th>Dependents</th>\n",
              "      <th>tenure</th>\n",
              "      <th>PhoneService</th>\n",
              "      <th>MultipleLines</th>\n",
              "      <th>InternetService</th>\n",
              "      <th>OnlineSecurity</th>\n",
              "      <th>OnlineBackup</th>\n",
              "      <th>DeviceProtection</th>\n",
              "      <th>TechSupport</th>\n",
              "      <th>StreamingTV</th>\n",
              "      <th>StreamingMovies</th>\n",
              "      <th>Contract</th>\n",
              "      <th>PaperlessBilling</th>\n",
              "      <th>PaymentMethod</th>\n",
              "      <th>MonthlyCharges</th>\n",
              "      <th>TotalCharges</th>\n",
              "      <th>Churn</th>\n",
              "    </tr>\n",
              "  </thead>\n",
              "  <tbody>\n",
              "    <tr>\n",
              "      <th>0</th>\n",
              "      <td>7590-VHVEG</td>\n",
              "      <td>Female</td>\n",
              "      <td>0</td>\n",
              "      <td>Yes</td>\n",
              "      <td>No</td>\n",
              "      <td>1</td>\n",
              "      <td>No</td>\n",
              "      <td>No phone service</td>\n",
              "      <td>DSL</td>\n",
              "      <td>No</td>\n",
              "      <td>Yes</td>\n",
              "      <td>No</td>\n",
              "      <td>No</td>\n",
              "      <td>No</td>\n",
              "      <td>No</td>\n",
              "      <td>Month-to-month</td>\n",
              "      <td>Yes</td>\n",
              "      <td>Electronic check</td>\n",
              "      <td>29.85</td>\n",
              "      <td>29.85</td>\n",
              "      <td>No</td>\n",
              "    </tr>\n",
              "    <tr>\n",
              "      <th>1</th>\n",
              "      <td>5575-GNVDE</td>\n",
              "      <td>Male</td>\n",
              "      <td>0</td>\n",
              "      <td>No</td>\n",
              "      <td>No</td>\n",
              "      <td>34</td>\n",
              "      <td>Yes</td>\n",
              "      <td>No</td>\n",
              "      <td>DSL</td>\n",
              "      <td>Yes</td>\n",
              "      <td>No</td>\n",
              "      <td>Yes</td>\n",
              "      <td>No</td>\n",
              "      <td>No</td>\n",
              "      <td>No</td>\n",
              "      <td>One year</td>\n",
              "      <td>No</td>\n",
              "      <td>Mailed check</td>\n",
              "      <td>56.95</td>\n",
              "      <td>1889.5</td>\n",
              "      <td>No</td>\n",
              "    </tr>\n",
              "    <tr>\n",
              "      <th>2</th>\n",
              "      <td>3668-QPYBK</td>\n",
              "      <td>Male</td>\n",
              "      <td>0</td>\n",
              "      <td>No</td>\n",
              "      <td>No</td>\n",
              "      <td>2</td>\n",
              "      <td>Yes</td>\n",
              "      <td>No</td>\n",
              "      <td>DSL</td>\n",
              "      <td>Yes</td>\n",
              "      <td>Yes</td>\n",
              "      <td>No</td>\n",
              "      <td>No</td>\n",
              "      <td>No</td>\n",
              "      <td>No</td>\n",
              "      <td>Month-to-month</td>\n",
              "      <td>Yes</td>\n",
              "      <td>Mailed check</td>\n",
              "      <td>53.85</td>\n",
              "      <td>108.15</td>\n",
              "      <td>Yes</td>\n",
              "    </tr>\n",
              "    <tr>\n",
              "      <th>3</th>\n",
              "      <td>7795-CFOCW</td>\n",
              "      <td>Male</td>\n",
              "      <td>0</td>\n",
              "      <td>No</td>\n",
              "      <td>No</td>\n",
              "      <td>45</td>\n",
              "      <td>No</td>\n",
              "      <td>No phone service</td>\n",
              "      <td>DSL</td>\n",
              "      <td>Yes</td>\n",
              "      <td>No</td>\n",
              "      <td>Yes</td>\n",
              "      <td>Yes</td>\n",
              "      <td>No</td>\n",
              "      <td>No</td>\n",
              "      <td>One year</td>\n",
              "      <td>No</td>\n",
              "      <td>Bank transfer (automatic)</td>\n",
              "      <td>42.30</td>\n",
              "      <td>1840.75</td>\n",
              "      <td>No</td>\n",
              "    </tr>\n",
              "    <tr>\n",
              "      <th>4</th>\n",
              "      <td>9237-HQITU</td>\n",
              "      <td>Female</td>\n",
              "      <td>0</td>\n",
              "      <td>No</td>\n",
              "      <td>No</td>\n",
              "      <td>2</td>\n",
              "      <td>Yes</td>\n",
              "      <td>No</td>\n",
              "      <td>Fiber optic</td>\n",
              "      <td>No</td>\n",
              "      <td>No</td>\n",
              "      <td>No</td>\n",
              "      <td>No</td>\n",
              "      <td>No</td>\n",
              "      <td>No</td>\n",
              "      <td>Month-to-month</td>\n",
              "      <td>Yes</td>\n",
              "      <td>Electronic check</td>\n",
              "      <td>70.70</td>\n",
              "      <td>151.65</td>\n",
              "      <td>Yes</td>\n",
              "    </tr>\n",
              "  </tbody>\n",
              "</table>\n",
              "</div>"
            ],
            "text/plain": [
              "   customerID  gender  SeniorCitizen  ... MonthlyCharges TotalCharges  Churn\n",
              "0  7590-VHVEG  Female              0  ...          29.85        29.85     No\n",
              "1  5575-GNVDE    Male              0  ...          56.95       1889.5     No\n",
              "2  3668-QPYBK    Male              0  ...          53.85       108.15    Yes\n",
              "3  7795-CFOCW    Male              0  ...          42.30      1840.75     No\n",
              "4  9237-HQITU  Female              0  ...          70.70       151.65    Yes\n",
              "\n",
              "[5 rows x 21 columns]"
            ]
          },
          "metadata": {
            "tags": []
          },
          "execution_count": 54
        }
      ]
    },
    {
      "cell_type": "markdown",
      "metadata": {
        "id": "-TnX6-nzGA-T",
        "colab_type": "text"
      },
      "source": [
        "A visualização dessas 5 primeiras entradas permite a notar a composição do nosso *dataset*, mesmo que este não apresente uma definição oficial de cada coluna. O *dataset* apresenta 7042 entradas com 21 colunas."
      ]
    },
    {
      "cell_type": "markdown",
      "metadata": {
        "id": "DLRBX_DNEY6k",
        "colab_type": "text"
      },
      "source": [
        "## Análise Exploratória \n",
        " "
      ]
    },
    {
      "cell_type": "markdown",
      "metadata": {
        "id": "VRFJLiVpHCqZ",
        "colab_type": "text"
      },
      "source": [
        "Como forma de avalisar a qualidade do *dataset*, comecei pela análise dos dados ausentes, este que indica se poderemos dá continuidade ao projeto ou não\n",
        "\n",
        "\n"
      ]
    },
    {
      "cell_type": "code",
      "metadata": {
        "id": "VDPIoi61H3di",
        "colab_type": "code",
        "colab": {
          "base_uri": "https://localhost:8080/",
          "height": 408
        },
        "outputId": "29700094-662c-4ab4-f2a1-710edb8f10d0"
      },
      "source": [
        "#Porcentagem de dados ausentes\n",
        "df.isnull().sum()/df.shape[0]*100"
      ],
      "execution_count": 55,
      "outputs": [
        {
          "output_type": "execute_result",
          "data": {
            "text/plain": [
              "customerID          0.0\n",
              "gender              0.0\n",
              "SeniorCitizen       0.0\n",
              "Partner             0.0\n",
              "Dependents          0.0\n",
              "tenure              0.0\n",
              "PhoneService        0.0\n",
              "MultipleLines       0.0\n",
              "InternetService     0.0\n",
              "OnlineSecurity      0.0\n",
              "OnlineBackup        0.0\n",
              "DeviceProtection    0.0\n",
              "TechSupport         0.0\n",
              "StreamingTV         0.0\n",
              "StreamingMovies     0.0\n",
              "Contract            0.0\n",
              "PaperlessBilling    0.0\n",
              "PaymentMethod       0.0\n",
              "MonthlyCharges      0.0\n",
              "TotalCharges        0.0\n",
              "Churn               0.0\n",
              "dtype: float64"
            ]
          },
          "metadata": {
            "tags": []
          },
          "execution_count": 55
        }
      ]
    },
    {
      "cell_type": "markdown",
      "metadata": {
        "id": "-p99cFtDIEoX",
        "colab_type": "text"
      },
      "source": [
        "Após o calculo podemos ver que esse *dataset* já está limpo, nçao apresentando nenhum dados ausente. O proximo passo ´re calcular dentre essas culunas quais apresentam valores únicos."
      ]
    },
    {
      "cell_type": "code",
      "metadata": {
        "id": "PUixFpOXIVjl",
        "colab_type": "code",
        "colab": {
          "base_uri": "https://localhost:8080/",
          "height": 408
        },
        "outputId": "cc94b4a6-b76e-43cb-8e84-49b65cba8ac9"
      },
      "source": [
        "#Calcular valores únicos\n",
        "df.nunique()"
      ],
      "execution_count": 56,
      "outputs": [
        {
          "output_type": "execute_result",
          "data": {
            "text/plain": [
              "customerID          7043\n",
              "gender                 2\n",
              "SeniorCitizen          2\n",
              "Partner                2\n",
              "Dependents             2\n",
              "tenure                73\n",
              "PhoneService           2\n",
              "MultipleLines          3\n",
              "InternetService        3\n",
              "OnlineSecurity         3\n",
              "OnlineBackup           3\n",
              "DeviceProtection       3\n",
              "TechSupport            3\n",
              "StreamingTV            3\n",
              "StreamingMovies        3\n",
              "Contract               3\n",
              "PaperlessBilling       2\n",
              "PaymentMethod          4\n",
              "MonthlyCharges      1585\n",
              "TotalCharges        6531\n",
              "Churn                  2\n",
              "dtype: int64"
            ]
          },
          "metadata": {
            "tags": []
          },
          "execution_count": 56
        }
      ]
    },
    {
      "cell_type": "markdown",
      "metadata": {
        "id": "_sh8BkEkIjU1",
        "colab_type": "text"
      },
      "source": [
        "O cálculo dos valores únicos indicaram que, a coluna  `customerID`apresenta um valor unico para cada cliente, `Churn`indica a situação de cada cliente. Proximo passo irei verifiar qual a situação dos dados em relação ao tipo.\n"
      ]
    },
    {
      "cell_type": "code",
      "metadata": {
        "id": "VjvfvdQPJD2C",
        "colab_type": "code",
        "colab": {
          "base_uri": "https://localhost:8080/",
          "height": 515
        },
        "outputId": "1b566853-eb7b-4c0a-a053-353c1a445720"
      },
      "source": [
        "df.info()"
      ],
      "execution_count": 57,
      "outputs": [
        {
          "output_type": "stream",
          "text": [
            "<class 'pandas.core.frame.DataFrame'>\n",
            "RangeIndex: 7043 entries, 0 to 7042\n",
            "Data columns (total 21 columns):\n",
            " #   Column            Non-Null Count  Dtype  \n",
            "---  ------            --------------  -----  \n",
            " 0   customerID        7043 non-null   object \n",
            " 1   gender            7043 non-null   object \n",
            " 2   SeniorCitizen     7043 non-null   int64  \n",
            " 3   Partner           7043 non-null   object \n",
            " 4   Dependents        7043 non-null   object \n",
            " 5   tenure            7043 non-null   int64  \n",
            " 6   PhoneService      7043 non-null   object \n",
            " 7   MultipleLines     7043 non-null   object \n",
            " 8   InternetService   7043 non-null   object \n",
            " 9   OnlineSecurity    7043 non-null   object \n",
            " 10  OnlineBackup      7043 non-null   object \n",
            " 11  DeviceProtection  7043 non-null   object \n",
            " 12  TechSupport       7043 non-null   object \n",
            " 13  StreamingTV       7043 non-null   object \n",
            " 14  StreamingMovies   7043 non-null   object \n",
            " 15  Contract          7043 non-null   object \n",
            " 16  PaperlessBilling  7043 non-null   object \n",
            " 17  PaymentMethod     7043 non-null   object \n",
            " 18  MonthlyCharges    7043 non-null   float64\n",
            " 19  TotalCharges      7043 non-null   object \n",
            " 20  Churn             7043 non-null   object \n",
            "dtypes: float64(1), int64(2), object(18)\n",
            "memory usage: 1.1+ MB\n"
          ],
          "name": "stdout"
        }
      ]
    },
    {
      "cell_type": "markdown",
      "metadata": {
        "id": "e45EGADPJP6K",
        "colab_type": "text"
      },
      "source": [
        "Veja que a camada  ` TotalCharges`está apresentando um tipo object (*String*), desta forma irei converter para *Float*, pois se trata de um valor não inteiro."
      ]
    },
    {
      "cell_type": "markdown",
      "metadata": {
        "id": "9G1-Rg9NLFHz",
        "colab_type": "text"
      },
      "source": [
        ""
      ]
    },
    {
      "cell_type": "code",
      "metadata": {
        "id": "oJyFLhm7JiYz",
        "colab_type": "code",
        "colab": {}
      },
      "source": [
        "#Converter para float\n",
        "df.TotalCharges = pd.to_numeric(df.TotalCharges,errors='coerce')"
      ],
      "execution_count": 70,
      "outputs": []
    },
    {
      "cell_type": "markdown",
      "metadata": {
        "id": "bLQ5nlAQK1xc",
        "colab_type": "text"
      },
      "source": [
        "Agora, irei realizar uma copia do *dataset*, descartar a coluna ` customerID ` e então da inicio a estatistica descritiva."
      ]
    },
    {
      "cell_type": "code",
      "metadata": {
        "id": "dJUoVwGoK1Qt",
        "colab_type": "code",
        "colab": {}
      },
      "source": [
        "#Conpiar dados\n",
        "df_new = df.copy()\n",
        "\n",
        "df_new = df_new.drop(['customerID'], axis = 1)"
      ],
      "execution_count": 71,
      "outputs": []
    },
    {
      "cell_type": "code",
      "metadata": {
        "id": "1oN7yi0FLoyq",
        "colab_type": "code",
        "colab": {
          "base_uri": "https://localhost:8080/",
          "height": 282
        },
        "outputId": "0c0afbd1-0702-44f9-a7b4-c1485828aec9"
      },
      "source": [
        "df_new.describe()"
      ],
      "execution_count": 72,
      "outputs": [
        {
          "output_type": "execute_result",
          "data": {
            "text/html": [
              "<div>\n",
              "<style scoped>\n",
              "    .dataframe tbody tr th:only-of-type {\n",
              "        vertical-align: middle;\n",
              "    }\n",
              "\n",
              "    .dataframe tbody tr th {\n",
              "        vertical-align: top;\n",
              "    }\n",
              "\n",
              "    .dataframe thead th {\n",
              "        text-align: right;\n",
              "    }\n",
              "</style>\n",
              "<table border=\"1\" class=\"dataframe\">\n",
              "  <thead>\n",
              "    <tr style=\"text-align: right;\">\n",
              "      <th></th>\n",
              "      <th>SeniorCitizen</th>\n",
              "      <th>tenure</th>\n",
              "      <th>MonthlyCharges</th>\n",
              "      <th>TotalCharges</th>\n",
              "    </tr>\n",
              "  </thead>\n",
              "  <tbody>\n",
              "    <tr>\n",
              "      <th>count</th>\n",
              "      <td>7043.000000</td>\n",
              "      <td>7043.000000</td>\n",
              "      <td>7043.000000</td>\n",
              "      <td>7032.000000</td>\n",
              "    </tr>\n",
              "    <tr>\n",
              "      <th>mean</th>\n",
              "      <td>0.162147</td>\n",
              "      <td>32.371149</td>\n",
              "      <td>64.761692</td>\n",
              "      <td>2283.300441</td>\n",
              "    </tr>\n",
              "    <tr>\n",
              "      <th>std</th>\n",
              "      <td>0.368612</td>\n",
              "      <td>24.559481</td>\n",
              "      <td>30.090047</td>\n",
              "      <td>2266.771362</td>\n",
              "    </tr>\n",
              "    <tr>\n",
              "      <th>min</th>\n",
              "      <td>0.000000</td>\n",
              "      <td>0.000000</td>\n",
              "      <td>18.250000</td>\n",
              "      <td>18.800000</td>\n",
              "    </tr>\n",
              "    <tr>\n",
              "      <th>25%</th>\n",
              "      <td>0.000000</td>\n",
              "      <td>9.000000</td>\n",
              "      <td>35.500000</td>\n",
              "      <td>401.450000</td>\n",
              "    </tr>\n",
              "    <tr>\n",
              "      <th>50%</th>\n",
              "      <td>0.000000</td>\n",
              "      <td>29.000000</td>\n",
              "      <td>70.350000</td>\n",
              "      <td>1397.475000</td>\n",
              "    </tr>\n",
              "    <tr>\n",
              "      <th>75%</th>\n",
              "      <td>0.000000</td>\n",
              "      <td>55.000000</td>\n",
              "      <td>89.850000</td>\n",
              "      <td>3794.737500</td>\n",
              "    </tr>\n",
              "    <tr>\n",
              "      <th>max</th>\n",
              "      <td>1.000000</td>\n",
              "      <td>72.000000</td>\n",
              "      <td>118.750000</td>\n",
              "      <td>8684.800000</td>\n",
              "    </tr>\n",
              "  </tbody>\n",
              "</table>\n",
              "</div>"
            ],
            "text/plain": [
              "       SeniorCitizen       tenure  MonthlyCharges  TotalCharges\n",
              "count    7043.000000  7043.000000     7043.000000   7032.000000\n",
              "mean        0.162147    32.371149       64.761692   2283.300441\n",
              "std         0.368612    24.559481       30.090047   2266.771362\n",
              "min         0.000000     0.000000       18.250000     18.800000\n",
              "25%         0.000000     9.000000       35.500000    401.450000\n",
              "50%         0.000000    29.000000       70.350000   1397.475000\n",
              "75%         0.000000    55.000000       89.850000   3794.737500\n",
              "max         1.000000    72.000000      118.750000   8684.800000"
            ]
          },
          "metadata": {
            "tags": []
          },
          "execution_count": 72
        }
      ]
    },
    {
      "cell_type": "markdown",
      "metadata": {
        "id": "5F47P-1bSHgR",
        "colab_type": "text"
      },
      "source": [
        "A estatistica descritiva, não apresentou nenhum indicio de presença de outlier, sendo então necessário plotar o boxplot das camadas `TotalCharges`e `MonthlyCharges`.\n"
      ]
    },
    {
      "cell_type": "code",
      "metadata": {
        "id": "Vpc8y8b3SCAU",
        "colab_type": "code",
        "colab": {
          "base_uri": "https://localhost:8080/",
          "height": 490
        },
        "outputId": "a0340437-3f17-420e-db5e-38136ce1b035"
      },
      "source": [
        "#Plotar os bocplots\n",
        "\n",
        "fig, ax =  plt.subplots(nrows = 2, ncols = 1, figsize =(10,5))\n",
        "\n",
        "sns.boxplot(df_new.MonthlyCharges, ax= ax[0], color = '#22d1ee')\n",
        "sns.boxplot(df_new.TotalCharges, ax= ax[1], color = '#3d5af1')\n",
        "\n",
        "plt.tight_layout()\n",
        "plt.show()"
      ],
      "execution_count": 93,
      "outputs": [
        {
          "output_type": "display_data",
          "data": {
            "text/plain": [
              "<Figure size 720x360 with 2 Axes>"
            ],
            "image/svg+xml": "<?xml version=\"1.0\" encoding=\"utf-8\" standalone=\"no\"?>\n<!DOCTYPE svg PUBLIC \"-//W3C//DTD SVG 1.1//EN\"\n  \"http://www.w3.org/Graphics/SVG/1.1/DTD/svg11.dtd\">\n<!-- Created with matplotlib (https://matplotlib.org/) -->\n<svg height=\"352.059687pt\" version=\"1.1\" viewBox=\"0 0 712.8 352.059687\" width=\"712.8pt\" xmlns=\"http://www.w3.org/2000/svg\" xmlns:xlink=\"http://www.w3.org/1999/xlink\">\n <defs>\n  <style type=\"text/css\">\n*{stroke-linecap:butt;stroke-linejoin:round;}\n  </style>\n </defs>\n <g id=\"figure_1\">\n  <g id=\"patch_1\">\n   <path d=\"M -0 352.059687 \nL 712.8 352.059687 \nL 712.8 0 \nL -0 0 \nz\n\" style=\"fill:none;\"/>\n  </g>\n  <g id=\"axes_1\">\n   <g id=\"patch_2\">\n    <path d=\"M 7.2 134.5 \nL 705.6 134.5 \nL 705.6 7.2 \nL 7.2 7.2 \nz\n\" style=\"fill:#eaeaf2;\"/>\n   </g>\n   <g id=\"matplotlib.axis_1\">\n    <g id=\"xtick_1\">\n     <g id=\"line2d_1\">\n      <path clip-path=\"url(#p3cf1357b2f)\" d=\"M 50.001085 134.5 \nL 50.001085 7.2 \n\" style=\"fill:none;stroke:#ffffff;stroke-linecap:round;\"/>\n     </g>\n     <g id=\"text_1\">\n      <!-- 20 -->\n      <defs>\n       <path d=\"M 19.1875 8.296875 \nL 53.609375 8.296875 \nL 53.609375 0 \nL 7.328125 0 \nL 7.328125 8.296875 \nQ 12.9375 14.109375 22.625 23.890625 \nQ 32.328125 33.6875 34.8125 36.53125 \nQ 39.546875 41.84375 41.421875 45.53125 \nQ 43.3125 49.21875 43.3125 52.78125 \nQ 43.3125 58.59375 39.234375 62.25 \nQ 35.15625 65.921875 28.609375 65.921875 \nQ 23.96875 65.921875 18.8125 64.3125 \nQ 13.671875 62.703125 7.8125 59.421875 \nL 7.8125 69.390625 \nQ 13.765625 71.78125 18.9375 73 \nQ 24.125 74.21875 28.421875 74.21875 \nQ 39.75 74.21875 46.484375 68.546875 \nQ 53.21875 62.890625 53.21875 53.421875 \nQ 53.21875 48.921875 51.53125 44.890625 \nQ 49.859375 40.875 45.40625 35.40625 \nQ 44.1875 33.984375 37.640625 27.21875 \nQ 31.109375 20.453125 19.1875 8.296875 \nz\n\" id=\"DejaVuSans-50\"/>\n       <path d=\"M 31.78125 66.40625 \nQ 24.171875 66.40625 20.328125 58.90625 \nQ 16.5 51.421875 16.5 36.375 \nQ 16.5 21.390625 20.328125 13.890625 \nQ 24.171875 6.390625 31.78125 6.390625 \nQ 39.453125 6.390625 43.28125 13.890625 \nQ 47.125 21.390625 47.125 36.375 \nQ 47.125 51.421875 43.28125 58.90625 \nQ 39.453125 66.40625 31.78125 66.40625 \nz\nM 31.78125 74.21875 \nQ 44.046875 74.21875 50.515625 64.515625 \nQ 56.984375 54.828125 56.984375 36.375 \nQ 56.984375 17.96875 50.515625 8.265625 \nQ 44.046875 -1.421875 31.78125 -1.421875 \nQ 19.53125 -1.421875 13.0625 8.265625 \nQ 6.59375 17.96875 6.59375 36.375 \nQ 6.59375 54.828125 13.0625 64.515625 \nQ 19.53125 74.21875 31.78125 74.21875 \nz\n\" id=\"DejaVuSans-48\"/>\n      </defs>\n      <g style=\"fill:#262626;\" transform=\"translate(43.002335 152.358281)scale(0.11 -0.11)\">\n       <use xlink:href=\"#DejaVuSans-50\"/>\n       <use x=\"63.623047\" xlink:href=\"#DejaVuSans-48\"/>\n      </g>\n     </g>\n    </g>\n    <g id=\"xtick_2\">\n     <g id=\"line2d_2\">\n      <path clip-path=\"url(#p3cf1357b2f)\" d=\"M 176.351153 134.5 \nL 176.351153 7.2 \n\" style=\"fill:none;stroke:#ffffff;stroke-linecap:round;\"/>\n     </g>\n     <g id=\"text_2\">\n      <!-- 40 -->\n      <defs>\n       <path d=\"M 37.796875 64.3125 \nL 12.890625 25.390625 \nL 37.796875 25.390625 \nz\nM 35.203125 72.90625 \nL 47.609375 72.90625 \nL 47.609375 25.390625 \nL 58.015625 25.390625 \nL 58.015625 17.1875 \nL 47.609375 17.1875 \nL 47.609375 0 \nL 37.796875 0 \nL 37.796875 17.1875 \nL 4.890625 17.1875 \nL 4.890625 26.703125 \nz\n\" id=\"DejaVuSans-52\"/>\n      </defs>\n      <g style=\"fill:#262626;\" transform=\"translate(169.352403 152.358281)scale(0.11 -0.11)\">\n       <use xlink:href=\"#DejaVuSans-52\"/>\n       <use x=\"63.623047\" xlink:href=\"#DejaVuSans-48\"/>\n      </g>\n     </g>\n    </g>\n    <g id=\"xtick_3\">\n     <g id=\"line2d_3\">\n      <path clip-path=\"url(#p3cf1357b2f)\" d=\"M 302.701221 134.5 \nL 302.701221 7.2 \n\" style=\"fill:none;stroke:#ffffff;stroke-linecap:round;\"/>\n     </g>\n     <g id=\"text_3\">\n      <!-- 60 -->\n      <defs>\n       <path d=\"M 33.015625 40.375 \nQ 26.375 40.375 22.484375 35.828125 \nQ 18.609375 31.296875 18.609375 23.390625 \nQ 18.609375 15.53125 22.484375 10.953125 \nQ 26.375 6.390625 33.015625 6.390625 \nQ 39.65625 6.390625 43.53125 10.953125 \nQ 47.40625 15.53125 47.40625 23.390625 \nQ 47.40625 31.296875 43.53125 35.828125 \nQ 39.65625 40.375 33.015625 40.375 \nz\nM 52.59375 71.296875 \nL 52.59375 62.3125 \nQ 48.875 64.0625 45.09375 64.984375 \nQ 41.3125 65.921875 37.59375 65.921875 \nQ 27.828125 65.921875 22.671875 59.328125 \nQ 17.53125 52.734375 16.796875 39.40625 \nQ 19.671875 43.65625 24.015625 45.921875 \nQ 28.375 48.1875 33.59375 48.1875 \nQ 44.578125 48.1875 50.953125 41.515625 \nQ 57.328125 34.859375 57.328125 23.390625 \nQ 57.328125 12.15625 50.6875 5.359375 \nQ 44.046875 -1.421875 33.015625 -1.421875 \nQ 20.359375 -1.421875 13.671875 8.265625 \nQ 6.984375 17.96875 6.984375 36.375 \nQ 6.984375 53.65625 15.1875 63.9375 \nQ 23.390625 74.21875 37.203125 74.21875 \nQ 40.921875 74.21875 44.703125 73.484375 \nQ 48.484375 72.75 52.59375 71.296875 \nz\n\" id=\"DejaVuSans-54\"/>\n      </defs>\n      <g style=\"fill:#262626;\" transform=\"translate(295.702471 152.358281)scale(0.11 -0.11)\">\n       <use xlink:href=\"#DejaVuSans-54\"/>\n       <use x=\"63.623047\" xlink:href=\"#DejaVuSans-48\"/>\n      </g>\n     </g>\n    </g>\n    <g id=\"xtick_4\">\n     <g id=\"line2d_4\">\n      <path clip-path=\"url(#p3cf1357b2f)\" d=\"M 429.051289 134.5 \nL 429.051289 7.2 \n\" style=\"fill:none;stroke:#ffffff;stroke-linecap:round;\"/>\n     </g>\n     <g id=\"text_4\">\n      <!-- 80 -->\n      <defs>\n       <path d=\"M 31.78125 34.625 \nQ 24.75 34.625 20.71875 30.859375 \nQ 16.703125 27.09375 16.703125 20.515625 \nQ 16.703125 13.921875 20.71875 10.15625 \nQ 24.75 6.390625 31.78125 6.390625 \nQ 38.8125 6.390625 42.859375 10.171875 \nQ 46.921875 13.96875 46.921875 20.515625 \nQ 46.921875 27.09375 42.890625 30.859375 \nQ 38.875 34.625 31.78125 34.625 \nz\nM 21.921875 38.8125 \nQ 15.578125 40.375 12.03125 44.71875 \nQ 8.5 49.078125 8.5 55.328125 \nQ 8.5 64.0625 14.71875 69.140625 \nQ 20.953125 74.21875 31.78125 74.21875 \nQ 42.671875 74.21875 48.875 69.140625 \nQ 55.078125 64.0625 55.078125 55.328125 \nQ 55.078125 49.078125 51.53125 44.71875 \nQ 48 40.375 41.703125 38.8125 \nQ 48.828125 37.15625 52.796875 32.3125 \nQ 56.78125 27.484375 56.78125 20.515625 \nQ 56.78125 9.90625 50.3125 4.234375 \nQ 43.84375 -1.421875 31.78125 -1.421875 \nQ 19.734375 -1.421875 13.25 4.234375 \nQ 6.78125 9.90625 6.78125 20.515625 \nQ 6.78125 27.484375 10.78125 32.3125 \nQ 14.796875 37.15625 21.921875 38.8125 \nz\nM 18.3125 54.390625 \nQ 18.3125 48.734375 21.84375 45.5625 \nQ 25.390625 42.390625 31.78125 42.390625 \nQ 38.140625 42.390625 41.71875 45.5625 \nQ 45.3125 48.734375 45.3125 54.390625 \nQ 45.3125 60.0625 41.71875 63.234375 \nQ 38.140625 66.40625 31.78125 66.40625 \nQ 25.390625 66.40625 21.84375 63.234375 \nQ 18.3125 60.0625 18.3125 54.390625 \nz\n\" id=\"DejaVuSans-56\"/>\n      </defs>\n      <g style=\"fill:#262626;\" transform=\"translate(422.052539 152.358281)scale(0.11 -0.11)\">\n       <use xlink:href=\"#DejaVuSans-56\"/>\n       <use x=\"63.623047\" xlink:href=\"#DejaVuSans-48\"/>\n      </g>\n     </g>\n    </g>\n    <g id=\"xtick_5\">\n     <g id=\"line2d_5\">\n      <path clip-path=\"url(#p3cf1357b2f)\" d=\"M 555.401357 134.5 \nL 555.401357 7.2 \n\" style=\"fill:none;stroke:#ffffff;stroke-linecap:round;\"/>\n     </g>\n     <g id=\"text_5\">\n      <!-- 100 -->\n      <defs>\n       <path d=\"M 12.40625 8.296875 \nL 28.515625 8.296875 \nL 28.515625 63.921875 \nL 10.984375 60.40625 \nL 10.984375 69.390625 \nL 28.421875 72.90625 \nL 38.28125 72.90625 \nL 38.28125 8.296875 \nL 54.390625 8.296875 \nL 54.390625 0 \nL 12.40625 0 \nz\n\" id=\"DejaVuSans-49\"/>\n      </defs>\n      <g style=\"fill:#262626;\" transform=\"translate(544.903232 152.358281)scale(0.11 -0.11)\">\n       <use xlink:href=\"#DejaVuSans-49\"/>\n       <use x=\"63.623047\" xlink:href=\"#DejaVuSans-48\"/>\n       <use x=\"127.246094\" xlink:href=\"#DejaVuSans-48\"/>\n      </g>\n     </g>\n    </g>\n    <g id=\"xtick_6\">\n     <g id=\"line2d_6\">\n      <path clip-path=\"url(#p3cf1357b2f)\" d=\"M 681.751425 134.5 \nL 681.751425 7.2 \n\" style=\"fill:none;stroke:#ffffff;stroke-linecap:round;\"/>\n     </g>\n     <g id=\"text_6\">\n      <!-- 120 -->\n      <g style=\"fill:#262626;\" transform=\"translate(671.2533 152.358281)scale(0.11 -0.11)\">\n       <use xlink:href=\"#DejaVuSans-49\"/>\n       <use x=\"63.623047\" xlink:href=\"#DejaVuSans-50\"/>\n       <use x=\"127.246094\" xlink:href=\"#DejaVuSans-48\"/>\n      </g>\n     </g>\n    </g>\n    <g id=\"text_7\">\n     <!-- MonthlyCharges -->\n     <defs>\n      <path d=\"M 9.8125 72.90625 \nL 24.515625 72.90625 \nL 43.109375 23.296875 \nL 61.8125 72.90625 \nL 76.515625 72.90625 \nL 76.515625 0 \nL 66.890625 0 \nL 66.890625 64.015625 \nL 48.09375 14.015625 \nL 38.1875 14.015625 \nL 19.390625 64.015625 \nL 19.390625 0 \nL 9.8125 0 \nz\n\" id=\"DejaVuSans-77\"/>\n      <path d=\"M 30.609375 48.390625 \nQ 23.390625 48.390625 19.1875 42.75 \nQ 14.984375 37.109375 14.984375 27.296875 \nQ 14.984375 17.484375 19.15625 11.84375 \nQ 23.34375 6.203125 30.609375 6.203125 \nQ 37.796875 6.203125 41.984375 11.859375 \nQ 46.1875 17.53125 46.1875 27.296875 \nQ 46.1875 37.015625 41.984375 42.703125 \nQ 37.796875 48.390625 30.609375 48.390625 \nz\nM 30.609375 56 \nQ 42.328125 56 49.015625 48.375 \nQ 55.71875 40.765625 55.71875 27.296875 \nQ 55.71875 13.875 49.015625 6.21875 \nQ 42.328125 -1.421875 30.609375 -1.421875 \nQ 18.84375 -1.421875 12.171875 6.21875 \nQ 5.515625 13.875 5.515625 27.296875 \nQ 5.515625 40.765625 12.171875 48.375 \nQ 18.84375 56 30.609375 56 \nz\n\" id=\"DejaVuSans-111\"/>\n      <path d=\"M 54.890625 33.015625 \nL 54.890625 0 \nL 45.90625 0 \nL 45.90625 32.71875 \nQ 45.90625 40.484375 42.875 44.328125 \nQ 39.84375 48.1875 33.796875 48.1875 \nQ 26.515625 48.1875 22.3125 43.546875 \nQ 18.109375 38.921875 18.109375 30.90625 \nL 18.109375 0 \nL 9.078125 0 \nL 9.078125 54.6875 \nL 18.109375 54.6875 \nL 18.109375 46.1875 \nQ 21.34375 51.125 25.703125 53.5625 \nQ 30.078125 56 35.796875 56 \nQ 45.21875 56 50.046875 50.171875 \nQ 54.890625 44.34375 54.890625 33.015625 \nz\n\" id=\"DejaVuSans-110\"/>\n      <path d=\"M 18.3125 70.21875 \nL 18.3125 54.6875 \nL 36.8125 54.6875 \nL 36.8125 47.703125 \nL 18.3125 47.703125 \nL 18.3125 18.015625 \nQ 18.3125 11.328125 20.140625 9.421875 \nQ 21.96875 7.515625 27.59375 7.515625 \nL 36.8125 7.515625 \nL 36.8125 0 \nL 27.59375 0 \nQ 17.1875 0 13.234375 3.875 \nQ 9.28125 7.765625 9.28125 18.015625 \nL 9.28125 47.703125 \nL 2.6875 47.703125 \nL 2.6875 54.6875 \nL 9.28125 54.6875 \nL 9.28125 70.21875 \nz\n\" id=\"DejaVuSans-116\"/>\n      <path d=\"M 54.890625 33.015625 \nL 54.890625 0 \nL 45.90625 0 \nL 45.90625 32.71875 \nQ 45.90625 40.484375 42.875 44.328125 \nQ 39.84375 48.1875 33.796875 48.1875 \nQ 26.515625 48.1875 22.3125 43.546875 \nQ 18.109375 38.921875 18.109375 30.90625 \nL 18.109375 0 \nL 9.078125 0 \nL 9.078125 75.984375 \nL 18.109375 75.984375 \nL 18.109375 46.1875 \nQ 21.34375 51.125 25.703125 53.5625 \nQ 30.078125 56 35.796875 56 \nQ 45.21875 56 50.046875 50.171875 \nQ 54.890625 44.34375 54.890625 33.015625 \nz\n\" id=\"DejaVuSans-104\"/>\n      <path d=\"M 9.421875 75.984375 \nL 18.40625 75.984375 \nL 18.40625 0 \nL 9.421875 0 \nz\n\" id=\"DejaVuSans-108\"/>\n      <path d=\"M 32.171875 -5.078125 \nQ 28.375 -14.84375 24.75 -17.8125 \nQ 21.140625 -20.796875 15.09375 -20.796875 \nL 7.90625 -20.796875 \nL 7.90625 -13.28125 \nL 13.1875 -13.28125 \nQ 16.890625 -13.28125 18.9375 -11.515625 \nQ 21 -9.765625 23.484375 -3.21875 \nL 25.09375 0.875 \nL 2.984375 54.6875 \nL 12.5 54.6875 \nL 29.59375 11.921875 \nL 46.6875 54.6875 \nL 56.203125 54.6875 \nz\n\" id=\"DejaVuSans-121\"/>\n      <path d=\"M 64.40625 67.28125 \nL 64.40625 56.890625 \nQ 59.421875 61.53125 53.78125 63.8125 \nQ 48.140625 66.109375 41.796875 66.109375 \nQ 29.296875 66.109375 22.65625 58.46875 \nQ 16.015625 50.828125 16.015625 36.375 \nQ 16.015625 21.96875 22.65625 14.328125 \nQ 29.296875 6.6875 41.796875 6.6875 \nQ 48.140625 6.6875 53.78125 8.984375 \nQ 59.421875 11.28125 64.40625 15.921875 \nL 64.40625 5.609375 \nQ 59.234375 2.09375 53.4375 0.328125 \nQ 47.65625 -1.421875 41.21875 -1.421875 \nQ 24.65625 -1.421875 15.125 8.703125 \nQ 5.609375 18.84375 5.609375 36.375 \nQ 5.609375 53.953125 15.125 64.078125 \nQ 24.65625 74.21875 41.21875 74.21875 \nQ 47.75 74.21875 53.53125 72.484375 \nQ 59.328125 70.75 64.40625 67.28125 \nz\n\" id=\"DejaVuSans-67\"/>\n      <path d=\"M 34.28125 27.484375 \nQ 23.390625 27.484375 19.1875 25 \nQ 14.984375 22.515625 14.984375 16.5 \nQ 14.984375 11.71875 18.140625 8.90625 \nQ 21.296875 6.109375 26.703125 6.109375 \nQ 34.1875 6.109375 38.703125 11.40625 \nQ 43.21875 16.703125 43.21875 25.484375 \nL 43.21875 27.484375 \nz\nM 52.203125 31.203125 \nL 52.203125 0 \nL 43.21875 0 \nL 43.21875 8.296875 \nQ 40.140625 3.328125 35.546875 0.953125 \nQ 30.953125 -1.421875 24.3125 -1.421875 \nQ 15.921875 -1.421875 10.953125 3.296875 \nQ 6 8.015625 6 15.921875 \nQ 6 25.140625 12.171875 29.828125 \nQ 18.359375 34.515625 30.609375 34.515625 \nL 43.21875 34.515625 \nL 43.21875 35.40625 \nQ 43.21875 41.609375 39.140625 45 \nQ 35.0625 48.390625 27.6875 48.390625 \nQ 23 48.390625 18.546875 47.265625 \nQ 14.109375 46.140625 10.015625 43.890625 \nL 10.015625 52.203125 \nQ 14.9375 54.109375 19.578125 55.046875 \nQ 24.21875 56 28.609375 56 \nQ 40.484375 56 46.34375 49.84375 \nQ 52.203125 43.703125 52.203125 31.203125 \nz\n\" id=\"DejaVuSans-97\"/>\n      <path d=\"M 41.109375 46.296875 \nQ 39.59375 47.171875 37.8125 47.578125 \nQ 36.03125 48 33.890625 48 \nQ 26.265625 48 22.1875 43.046875 \nQ 18.109375 38.09375 18.109375 28.8125 \nL 18.109375 0 \nL 9.078125 0 \nL 9.078125 54.6875 \nL 18.109375 54.6875 \nL 18.109375 46.1875 \nQ 20.953125 51.171875 25.484375 53.578125 \nQ 30.03125 56 36.53125 56 \nQ 37.453125 56 38.578125 55.875 \nQ 39.703125 55.765625 41.0625 55.515625 \nz\n\" id=\"DejaVuSans-114\"/>\n      <path d=\"M 45.40625 27.984375 \nQ 45.40625 37.75 41.375 43.109375 \nQ 37.359375 48.484375 30.078125 48.484375 \nQ 22.859375 48.484375 18.828125 43.109375 \nQ 14.796875 37.75 14.796875 27.984375 \nQ 14.796875 18.265625 18.828125 12.890625 \nQ 22.859375 7.515625 30.078125 7.515625 \nQ 37.359375 7.515625 41.375 12.890625 \nQ 45.40625 18.265625 45.40625 27.984375 \nz\nM 54.390625 6.78125 \nQ 54.390625 -7.171875 48.1875 -13.984375 \nQ 42 -20.796875 29.203125 -20.796875 \nQ 24.46875 -20.796875 20.265625 -20.09375 \nQ 16.0625 -19.390625 12.109375 -17.921875 \nL 12.109375 -9.1875 \nQ 16.0625 -11.328125 19.921875 -12.34375 \nQ 23.78125 -13.375 27.78125 -13.375 \nQ 36.625 -13.375 41.015625 -8.765625 \nQ 45.40625 -4.15625 45.40625 5.171875 \nL 45.40625 9.625 \nQ 42.625 4.78125 38.28125 2.390625 \nQ 33.9375 0 27.875 0 \nQ 17.828125 0 11.671875 7.65625 \nQ 5.515625 15.328125 5.515625 27.984375 \nQ 5.515625 40.671875 11.671875 48.328125 \nQ 17.828125 56 27.875 56 \nQ 33.9375 56 38.28125 53.609375 \nQ 42.625 51.21875 45.40625 46.390625 \nL 45.40625 54.6875 \nL 54.390625 54.6875 \nz\n\" id=\"DejaVuSans-103\"/>\n      <path d=\"M 56.203125 29.59375 \nL 56.203125 25.203125 \nL 14.890625 25.203125 \nQ 15.484375 15.921875 20.484375 11.0625 \nQ 25.484375 6.203125 34.421875 6.203125 \nQ 39.59375 6.203125 44.453125 7.46875 \nQ 49.3125 8.734375 54.109375 11.28125 \nL 54.109375 2.78125 \nQ 49.265625 0.734375 44.1875 -0.34375 \nQ 39.109375 -1.421875 33.890625 -1.421875 \nQ 20.796875 -1.421875 13.15625 6.1875 \nQ 5.515625 13.8125 5.515625 26.8125 \nQ 5.515625 40.234375 12.765625 48.109375 \nQ 20.015625 56 32.328125 56 \nQ 43.359375 56 49.78125 48.890625 \nQ 56.203125 41.796875 56.203125 29.59375 \nz\nM 47.21875 32.234375 \nQ 47.125 39.59375 43.09375 43.984375 \nQ 39.0625 48.390625 32.421875 48.390625 \nQ 24.90625 48.390625 20.390625 44.140625 \nQ 15.875 39.890625 15.1875 32.171875 \nz\n\" id=\"DejaVuSans-101\"/>\n      <path d=\"M 44.28125 53.078125 \nL 44.28125 44.578125 \nQ 40.484375 46.53125 36.375 47.5 \nQ 32.28125 48.484375 27.875 48.484375 \nQ 21.1875 48.484375 17.84375 46.4375 \nQ 14.5 44.390625 14.5 40.28125 \nQ 14.5 37.15625 16.890625 35.375 \nQ 19.28125 33.59375 26.515625 31.984375 \nL 29.59375 31.296875 \nQ 39.15625 29.25 43.1875 25.515625 \nQ 47.21875 21.78125 47.21875 15.09375 \nQ 47.21875 7.46875 41.1875 3.015625 \nQ 35.15625 -1.421875 24.609375 -1.421875 \nQ 20.21875 -1.421875 15.453125 -0.5625 \nQ 10.6875 0.296875 5.421875 2 \nL 5.421875 11.28125 \nQ 10.40625 8.6875 15.234375 7.390625 \nQ 20.0625 6.109375 24.8125 6.109375 \nQ 31.15625 6.109375 34.5625 8.28125 \nQ 37.984375 10.453125 37.984375 14.40625 \nQ 37.984375 18.0625 35.515625 20.015625 \nQ 33.0625 21.96875 24.703125 23.78125 \nL 21.578125 24.515625 \nQ 13.234375 26.265625 9.515625 29.90625 \nQ 5.8125 33.546875 5.8125 39.890625 \nQ 5.8125 47.609375 11.28125 51.796875 \nQ 16.75 56 26.8125 56 \nQ 31.78125 56 36.171875 55.265625 \nQ 40.578125 54.546875 44.28125 53.078125 \nz\n\" id=\"DejaVuSans-115\"/>\n     </defs>\n     <g style=\"fill:#262626;\" transform=\"translate(307.719375 167.764062)scale(0.12 -0.12)\">\n      <use xlink:href=\"#DejaVuSans-77\"/>\n      <use x=\"86.279297\" xlink:href=\"#DejaVuSans-111\"/>\n      <use x=\"147.460938\" xlink:href=\"#DejaVuSans-110\"/>\n      <use x=\"210.839844\" xlink:href=\"#DejaVuSans-116\"/>\n      <use x=\"250.048828\" xlink:href=\"#DejaVuSans-104\"/>\n      <use x=\"313.427734\" xlink:href=\"#DejaVuSans-108\"/>\n      <use x=\"341.210938\" xlink:href=\"#DejaVuSans-121\"/>\n      <use x=\"400.390625\" xlink:href=\"#DejaVuSans-67\"/>\n      <use x=\"470.214844\" xlink:href=\"#DejaVuSans-104\"/>\n      <use x=\"533.59375\" xlink:href=\"#DejaVuSans-97\"/>\n      <use x=\"594.873047\" xlink:href=\"#DejaVuSans-114\"/>\n      <use x=\"634.236328\" xlink:href=\"#DejaVuSans-103\"/>\n      <use x=\"697.712891\" xlink:href=\"#DejaVuSans-101\"/>\n      <use x=\"759.236328\" xlink:href=\"#DejaVuSans-115\"/>\n     </g>\n    </g>\n   </g>\n   <g id=\"matplotlib.axis_2\">\n    <g id=\"ytick_1\"/>\n   </g>\n   <g id=\"patch_3\">\n    <path clip-path=\"url(#p3cf1357b2f)\" d=\"M 147.922388 19.93 \nL 147.922388 121.77 \nL 491.278697 121.77 \nL 491.278697 19.93 \nL 147.922388 19.93 \nz\n\" style=\"fill:#3bbfd4;stroke:#525252;stroke-linejoin:miter;stroke-width:1.5;\"/>\n   </g>\n   <g id=\"line2d_7\">\n    <path clip-path=\"url(#p3cf1357b2f)\" d=\"M 147.922388 70.85 \nL 38.945455 70.85 \n\" style=\"fill:none;stroke:#525252;stroke-linecap:round;stroke-width:1.5;\"/>\n   </g>\n   <g id=\"line2d_8\">\n    <path clip-path=\"url(#p3cf1357b2f)\" d=\"M 491.278697 70.85 \nL 673.854545 70.85 \n\" style=\"fill:none;stroke:#525252;stroke-linecap:round;stroke-width:1.5;\"/>\n   </g>\n   <g id=\"line2d_9\">\n    <path clip-path=\"url(#p3cf1357b2f)\" d=\"M 38.945455 45.39 \nL 38.945455 96.31 \n\" style=\"fill:none;stroke:#525252;stroke-linecap:round;stroke-width:1.5;\"/>\n   </g>\n   <g id=\"line2d_10\">\n    <path clip-path=\"url(#p3cf1357b2f)\" d=\"M 673.854545 45.39 \nL 673.854545 96.31 \n\" style=\"fill:none;stroke:#525252;stroke-linecap:round;stroke-width:1.5;\"/>\n   </g>\n   <g id=\"line2d_11\"/>\n   <g id=\"line2d_12\">\n    <path clip-path=\"url(#p3cf1357b2f)\" d=\"M 368.087381 19.93 \nL 368.087381 121.77 \n\" style=\"fill:none;stroke:#525252;stroke-linecap:round;stroke-width:1.5;\"/>\n   </g>\n   <g id=\"patch_4\">\n    <path d=\"M 7.2 134.5 \nL 7.2 7.2 \n\" style=\"fill:none;stroke:#ffffff;stroke-linecap:square;stroke-linejoin:miter;stroke-width:1.25;\"/>\n   </g>\n   <g id=\"patch_5\">\n    <path d=\"M 705.6 134.5 \nL 705.6 7.2 \n\" style=\"fill:none;stroke:#ffffff;stroke-linecap:square;stroke-linejoin:miter;stroke-width:1.25;\"/>\n   </g>\n   <g id=\"patch_6\">\n    <path d=\"M 7.2 134.5 \nL 705.6 134.5 \n\" style=\"fill:none;stroke:#ffffff;stroke-linecap:square;stroke-linejoin:miter;stroke-width:1.25;\"/>\n   </g>\n   <g id=\"patch_7\">\n    <path d=\"M 7.2 7.2 \nL 705.6 7.2 \n\" style=\"fill:none;stroke:#ffffff;stroke-linecap:square;stroke-linejoin:miter;stroke-width:1.25;\"/>\n   </g>\n  </g>\n  <g id=\"axes_2\">\n   <g id=\"patch_8\">\n    <path d=\"M 7.2 309.1 \nL 705.6 309.1 \nL 705.6 181.8 \nL 7.2 181.8 \nz\n\" style=\"fill:#eaeaf2;\"/>\n   </g>\n   <g id=\"matplotlib.axis_3\">\n    <g id=\"xtick_7\">\n     <g id=\"line2d_13\">\n      <path clip-path=\"url(#p82056ba282)\" d=\"M 37.568084 309.1 \nL 37.568084 181.8 \n\" style=\"fill:none;stroke:#ffffff;stroke-linecap:round;\"/>\n     </g>\n     <g id=\"text_8\">\n      <!-- 0 -->\n      <g style=\"fill:#262626;\" transform=\"translate(34.068709 326.958281)scale(0.11 -0.11)\">\n       <use xlink:href=\"#DejaVuSans-48\"/>\n      </g>\n     </g>\n    </g>\n    <g id=\"xtick_8\">\n     <g id=\"line2d_14\">\n      <path clip-path=\"url(#p82056ba282)\" d=\"M 184.096838 309.1 \nL 184.096838 181.8 \n\" style=\"fill:none;stroke:#ffffff;stroke-linecap:round;\"/>\n     </g>\n     <g id=\"text_9\">\n      <!-- 2000 -->\n      <g style=\"fill:#262626;\" transform=\"translate(170.099338 326.958281)scale(0.11 -0.11)\">\n       <use xlink:href=\"#DejaVuSans-50\"/>\n       <use x=\"63.623047\" xlink:href=\"#DejaVuSans-48\"/>\n       <use x=\"127.246094\" xlink:href=\"#DejaVuSans-48\"/>\n       <use x=\"190.869141\" xlink:href=\"#DejaVuSans-48\"/>\n      </g>\n     </g>\n    </g>\n    <g id=\"xtick_9\">\n     <g id=\"line2d_15\">\n      <path clip-path=\"url(#p82056ba282)\" d=\"M 330.625592 309.1 \nL 330.625592 181.8 \n\" style=\"fill:none;stroke:#ffffff;stroke-linecap:round;\"/>\n     </g>\n     <g id=\"text_10\">\n      <!-- 4000 -->\n      <g style=\"fill:#262626;\" transform=\"translate(316.628092 326.958281)scale(0.11 -0.11)\">\n       <use xlink:href=\"#DejaVuSans-52\"/>\n       <use x=\"63.623047\" xlink:href=\"#DejaVuSans-48\"/>\n       <use x=\"127.246094\" xlink:href=\"#DejaVuSans-48\"/>\n       <use x=\"190.869141\" xlink:href=\"#DejaVuSans-48\"/>\n      </g>\n     </g>\n    </g>\n    <g id=\"xtick_10\">\n     <g id=\"line2d_16\">\n      <path clip-path=\"url(#p82056ba282)\" d=\"M 477.154346 309.1 \nL 477.154346 181.8 \n\" style=\"fill:none;stroke:#ffffff;stroke-linecap:round;\"/>\n     </g>\n     <g id=\"text_11\">\n      <!-- 6000 -->\n      <g style=\"fill:#262626;\" transform=\"translate(463.156846 326.958281)scale(0.11 -0.11)\">\n       <use xlink:href=\"#DejaVuSans-54\"/>\n       <use x=\"63.623047\" xlink:href=\"#DejaVuSans-48\"/>\n       <use x=\"127.246094\" xlink:href=\"#DejaVuSans-48\"/>\n       <use x=\"190.869141\" xlink:href=\"#DejaVuSans-48\"/>\n      </g>\n     </g>\n    </g>\n    <g id=\"xtick_11\">\n     <g id=\"line2d_17\">\n      <path clip-path=\"url(#p82056ba282)\" d=\"M 623.6831 309.1 \nL 623.6831 181.8 \n\" style=\"fill:none;stroke:#ffffff;stroke-linecap:round;\"/>\n     </g>\n     <g id=\"text_12\">\n      <!-- 8000 -->\n      <g style=\"fill:#262626;\" transform=\"translate(609.6856 326.958281)scale(0.11 -0.11)\">\n       <use xlink:href=\"#DejaVuSans-56\"/>\n       <use x=\"63.623047\" xlink:href=\"#DejaVuSans-48\"/>\n       <use x=\"127.246094\" xlink:href=\"#DejaVuSans-48\"/>\n       <use x=\"190.869141\" xlink:href=\"#DejaVuSans-48\"/>\n      </g>\n     </g>\n    </g>\n    <g id=\"text_13\">\n     <!-- TotalCharges -->\n     <defs>\n      <path d=\"M -0.296875 72.90625 \nL 61.375 72.90625 \nL 61.375 64.59375 \nL 35.5 64.59375 \nL 35.5 0 \nL 25.59375 0 \nL 25.59375 64.59375 \nL -0.296875 64.59375 \nz\n\" id=\"DejaVuSans-84\"/>\n     </defs>\n     <g style=\"fill:#262626;\" transform=\"translate(317.730938 342.364062)scale(0.12 -0.12)\">\n      <use xlink:href=\"#DejaVuSans-84\"/>\n      <use x=\"44.083984\" xlink:href=\"#DejaVuSans-111\"/>\n      <use x=\"105.265625\" xlink:href=\"#DejaVuSans-116\"/>\n      <use x=\"144.474609\" xlink:href=\"#DejaVuSans-97\"/>\n      <use x=\"205.753906\" xlink:href=\"#DejaVuSans-108\"/>\n      <use x=\"233.537109\" xlink:href=\"#DejaVuSans-67\"/>\n      <use x=\"303.361328\" xlink:href=\"#DejaVuSans-104\"/>\n      <use x=\"366.740234\" xlink:href=\"#DejaVuSans-97\"/>\n      <use x=\"428.019531\" xlink:href=\"#DejaVuSans-114\"/>\n      <use x=\"467.382812\" xlink:href=\"#DejaVuSans-103\"/>\n      <use x=\"530.859375\" xlink:href=\"#DejaVuSans-101\"/>\n      <use x=\"592.382812\" xlink:href=\"#DejaVuSans-115\"/>\n     </g>\n    </g>\n   </g>\n   <g id=\"matplotlib.axis_4\">\n    <g id=\"ytick_2\"/>\n   </g>\n   <g id=\"patch_9\">\n    <path clip-path=\"url(#p82056ba282)\" d=\"M 66.980068 194.53 \nL 66.980068 296.37 \nL 315.587163 296.37 \nL 315.587163 194.53 \nL 66.980068 194.53 \nz\n\" style=\"fill:#5469da;stroke:#5b5b5b;stroke-linejoin:miter;stroke-width:1.5;\"/>\n   </g>\n   <g id=\"line2d_18\">\n    <path clip-path=\"url(#p82056ba282)\" d=\"M 66.980068 245.45 \nL 38.945455 245.45 \n\" style=\"fill:none;stroke:#5b5b5b;stroke-linecap:round;stroke-width:1.5;\"/>\n   </g>\n   <g id=\"line2d_19\">\n    <path clip-path=\"url(#p82056ba282)\" d=\"M 315.587163 245.45 \nL 673.854545 245.45 \n\" style=\"fill:none;stroke:#5b5b5b;stroke-linecap:round;stroke-width:1.5;\"/>\n   </g>\n   <g id=\"line2d_20\">\n    <path clip-path=\"url(#p82056ba282)\" d=\"M 38.945455 219.99 \nL 38.945455 270.91 \n\" style=\"fill:none;stroke:#5b5b5b;stroke-linecap:round;stroke-width:1.5;\"/>\n   </g>\n   <g id=\"line2d_21\">\n    <path clip-path=\"url(#p82056ba282)\" d=\"M 673.854545 219.99 \nL 673.854545 270.91 \n\" style=\"fill:none;stroke:#5b5b5b;stroke-linecap:round;stroke-width:1.5;\"/>\n   </g>\n   <g id=\"line2d_22\"/>\n   <g id=\"line2d_23\">\n    <path clip-path=\"url(#p82056ba282)\" d=\"M 139.953219 194.53 \nL 139.953219 296.37 \n\" style=\"fill:none;stroke:#5b5b5b;stroke-linecap:round;stroke-width:1.5;\"/>\n   </g>\n   <g id=\"patch_10\">\n    <path d=\"M 7.2 309.1 \nL 7.2 181.8 \n\" style=\"fill:none;stroke:#ffffff;stroke-linecap:square;stroke-linejoin:miter;stroke-width:1.25;\"/>\n   </g>\n   <g id=\"patch_11\">\n    <path d=\"M 705.6 309.1 \nL 705.6 181.8 \n\" style=\"fill:none;stroke:#ffffff;stroke-linecap:square;stroke-linejoin:miter;stroke-width:1.25;\"/>\n   </g>\n   <g id=\"patch_12\">\n    <path d=\"M 7.2 309.1 \nL 705.6 309.1 \n\" style=\"fill:none;stroke:#ffffff;stroke-linecap:square;stroke-linejoin:miter;stroke-width:1.25;\"/>\n   </g>\n   <g id=\"patch_13\">\n    <path d=\"M 7.2 181.8 \nL 705.6 181.8 \n\" style=\"fill:none;stroke:#ffffff;stroke-linecap:square;stroke-linejoin:miter;stroke-width:1.25;\"/>\n   </g>\n  </g>\n </g>\n <defs>\n  <clipPath id=\"p3cf1357b2f\">\n   <rect height=\"127.3\" width=\"698.4\" x=\"7.2\" y=\"7.2\"/>\n  </clipPath>\n  <clipPath id=\"p82056ba282\">\n   <rect height=\"127.3\" width=\"698.4\" x=\"7.2\" y=\"181.8\"/>\n  </clipPath>\n </defs>\n</svg>\n"
          },
          "metadata": {
            "tags": [],
            "needs_background": "light"
          }
        }
      ]
    },
    {
      "cell_type": "markdown",
      "metadata": {
        "id": "akWwJ7CNXjfB",
        "colab_type": "text"
      },
      "source": [
        "Mesmo com o boxplot não foi possível ideintificar  a presença de *outlier*. Dando continuiadade a análise exploratória, vou verificar a camada `Tenure`, tal variável representa o tempo que cada cliente utilizou o serviço, podendo mostra a \"fidelidade de serviço\".\n",
        "\n",
        "Assumindo que a unidade de tempos da camada `Tenure`é em meses.\n",
        "\n"
      ]
    },
    {
      "cell_type": "code",
      "metadata": {
        "id": "fEJqxObWcKAN",
        "colab_type": "code",
        "colab": {}
      },
      "source": [
        "#Criar dataset tenure e ordenas\n",
        "df_tenure = df_new.tenure.value_counts()\n",
        "df_tenure = df_tenure.sort_index()"
      ],
      "execution_count": 143,
      "outputs": []
    },
    {
      "cell_type": "code",
      "metadata": {
        "id": "uGQDJzYdcqpT",
        "colab_type": "code",
        "colab": {
          "base_uri": "https://localhost:8080/",
          "height": 396
        },
        "outputId": "a7acb6bd-fd52-4f18-afb8-ef3473a10e84"
      },
      "source": [
        "#Plotar tempo de serviço utilizado\n",
        "df_tenure.plot(kind = 'bar', figsize = (12,4), cmap = \"Blues_r\")\n",
        "\n",
        "plt.xticks(rotation = 40)\n",
        "\n",
        "plt.tight_layout()\n",
        "plt.show()"
      ],
      "execution_count": 149,
      "outputs": [
        {
          "output_type": "display_data",
          "data": {
            "text/plain": [
              "<Figure size 864x288 with 1 Axes>"
            ],
            "image/svg+xml": "<?xml version=\"1.0\" encoding=\"utf-8\" standalone=\"no\"?>\n<!DOCTYPE svg PUBLIC \"-//W3C//DTD SVG 1.1//EN\"\n  \"http://www.w3.org/Graphics/SVG/1.1/DTD/svg11.dtd\">\n<!-- Created with matplotlib (https://matplotlib.org/) -->\n<svg height=\"281.29321pt\" version=\"1.1\" viewBox=\"0 0 856.103113 281.29321\" width=\"856.103113pt\" xmlns=\"http://www.w3.org/2000/svg\" xmlns:xlink=\"http://www.w3.org/1999/xlink\">\n <defs>\n  <style type=\"text/css\">\n*{stroke-linecap:butt;stroke-linejoin:round;}\n  </style>\n </defs>\n <g id=\"figure_1\">\n  <g id=\"patch_1\">\n   <path d=\"M -0 281.29321 \nL 856.103113 281.29321 \nL 856.103113 0 \nL -0 0 \nz\n\" style=\"fill:none;\"/>\n  </g>\n  <g id=\"axes_1\">\n   <g id=\"patch_2\">\n    <path d=\"M 37.69625 247.440529 \nL 845.65418 247.440529 \nL 845.65418 7.2 \nL 37.69625 7.2 \nz\n\" style=\"fill:#eaeaf2;\"/>\n   </g>\n   <g id=\"matplotlib.axis_1\">\n    <g id=\"xtick_1\">\n     <g id=\"line2d_1\">\n      <path clip-path=\"url(#pba43f50ca9)\" d=\"M 43.230208 247.440529 \nL 43.230208 7.2 \n\" style=\"fill:none;stroke:#ffffff;stroke-linecap:round;\"/>\n     </g>\n     <g id=\"text_1\">\n      <!-- 0 -->\n      <defs>\n       <path d=\"M 31.78125 66.40625 \nQ 24.171875 66.40625 20.328125 58.90625 \nQ 16.5 51.421875 16.5 36.375 \nQ 16.5 21.390625 20.328125 13.890625 \nQ 24.171875 6.390625 31.78125 6.390625 \nQ 39.453125 6.390625 43.28125 13.890625 \nQ 47.125 21.390625 47.125 36.375 \nQ 47.125 51.421875 43.28125 58.90625 \nQ 39.453125 66.40625 31.78125 66.40625 \nz\nM 31.78125 74.21875 \nQ 44.046875 74.21875 50.515625 64.515625 \nQ 56.984375 54.828125 56.984375 36.375 \nQ 56.984375 17.96875 50.515625 8.265625 \nQ 44.046875 -1.421875 31.78125 -1.421875 \nQ 19.53125 -1.421875 13.0625 8.265625 \nQ 6.59375 17.96875 6.59375 36.375 \nQ 6.59375 54.828125 13.0625 64.515625 \nQ 19.53125 74.21875 31.78125 74.21875 \nz\n\" id=\"DejaVuSans-48\"/>\n      </defs>\n      <g style=\"fill:#262626;\" transform=\"translate(42.500593 267.842054)rotate(-40)scale(0.11 -0.11)\">\n       <use xlink:href=\"#DejaVuSans-48\"/>\n      </g>\n     </g>\n    </g>\n    <g id=\"xtick_2\">\n     <g id=\"line2d_2\">\n      <path clip-path=\"url(#pba43f50ca9)\" d=\"M 54.298125 247.440529 \nL 54.298125 7.2 \n\" style=\"fill:none;stroke:#ffffff;stroke-linecap:round;\"/>\n     </g>\n     <g id=\"text_2\">\n      <!-- 1 -->\n      <defs>\n       <path d=\"M 12.40625 8.296875 \nL 28.515625 8.296875 \nL 28.515625 63.921875 \nL 10.984375 60.40625 \nL 10.984375 69.390625 \nL 28.421875 72.90625 \nL 38.28125 72.90625 \nL 38.28125 8.296875 \nL 54.390625 8.296875 \nL 54.390625 0 \nL 12.40625 0 \nz\n\" id=\"DejaVuSans-49\"/>\n      </defs>\n      <g style=\"fill:#262626;\" transform=\"translate(53.56851 267.842054)rotate(-40)scale(0.11 -0.11)\">\n       <use xlink:href=\"#DejaVuSans-49\"/>\n      </g>\n     </g>\n    </g>\n    <g id=\"xtick_3\">\n     <g id=\"line2d_3\">\n      <path clip-path=\"url(#pba43f50ca9)\" d=\"M 65.366042 247.440529 \nL 65.366042 7.2 \n\" style=\"fill:none;stroke:#ffffff;stroke-linecap:round;\"/>\n     </g>\n     <g id=\"text_3\">\n      <!-- 2 -->\n      <defs>\n       <path d=\"M 19.1875 8.296875 \nL 53.609375 8.296875 \nL 53.609375 0 \nL 7.328125 0 \nL 7.328125 8.296875 \nQ 12.9375 14.109375 22.625 23.890625 \nQ 32.328125 33.6875 34.8125 36.53125 \nQ 39.546875 41.84375 41.421875 45.53125 \nQ 43.3125 49.21875 43.3125 52.78125 \nQ 43.3125 58.59375 39.234375 62.25 \nQ 35.15625 65.921875 28.609375 65.921875 \nQ 23.96875 65.921875 18.8125 64.3125 \nQ 13.671875 62.703125 7.8125 59.421875 \nL 7.8125 69.390625 \nQ 13.765625 71.78125 18.9375 73 \nQ 24.125 74.21875 28.421875 74.21875 \nQ 39.75 74.21875 46.484375 68.546875 \nQ 53.21875 62.890625 53.21875 53.421875 \nQ 53.21875 48.921875 51.53125 44.890625 \nQ 49.859375 40.875 45.40625 35.40625 \nQ 44.1875 33.984375 37.640625 27.21875 \nQ 31.109375 20.453125 19.1875 8.296875 \nz\n\" id=\"DejaVuSans-50\"/>\n      </defs>\n      <g style=\"fill:#262626;\" transform=\"translate(64.636427 267.842054)rotate(-40)scale(0.11 -0.11)\">\n       <use xlink:href=\"#DejaVuSans-50\"/>\n      </g>\n     </g>\n    </g>\n    <g id=\"xtick_4\">\n     <g id=\"line2d_4\">\n      <path clip-path=\"url(#pba43f50ca9)\" d=\"M 76.433959 247.440529 \nL 76.433959 7.2 \n\" style=\"fill:none;stroke:#ffffff;stroke-linecap:round;\"/>\n     </g>\n     <g id=\"text_4\">\n      <!-- 3 -->\n      <defs>\n       <path d=\"M 40.578125 39.3125 \nQ 47.65625 37.796875 51.625 33 \nQ 55.609375 28.21875 55.609375 21.1875 \nQ 55.609375 10.40625 48.1875 4.484375 \nQ 40.765625 -1.421875 27.09375 -1.421875 \nQ 22.515625 -1.421875 17.65625 -0.515625 \nQ 12.796875 0.390625 7.625 2.203125 \nL 7.625 11.71875 \nQ 11.71875 9.328125 16.59375 8.109375 \nQ 21.484375 6.890625 26.8125 6.890625 \nQ 36.078125 6.890625 40.9375 10.546875 \nQ 45.796875 14.203125 45.796875 21.1875 \nQ 45.796875 27.640625 41.28125 31.265625 \nQ 36.765625 34.90625 28.71875 34.90625 \nL 20.21875 34.90625 \nL 20.21875 43.015625 \nL 29.109375 43.015625 \nQ 36.375 43.015625 40.234375 45.921875 \nQ 44.09375 48.828125 44.09375 54.296875 \nQ 44.09375 59.90625 40.109375 62.90625 \nQ 36.140625 65.921875 28.71875 65.921875 \nQ 24.65625 65.921875 20.015625 65.03125 \nQ 15.375 64.15625 9.8125 62.3125 \nL 9.8125 71.09375 \nQ 15.4375 72.65625 20.34375 73.4375 \nQ 25.25 74.21875 29.59375 74.21875 \nQ 40.828125 74.21875 47.359375 69.109375 \nQ 53.90625 64.015625 53.90625 55.328125 \nQ 53.90625 49.265625 50.4375 45.09375 \nQ 46.96875 40.921875 40.578125 39.3125 \nz\n\" id=\"DejaVuSans-51\"/>\n      </defs>\n      <g style=\"fill:#262626;\" transform=\"translate(75.704343 267.842054)rotate(-40)scale(0.11 -0.11)\">\n       <use xlink:href=\"#DejaVuSans-51\"/>\n      </g>\n     </g>\n    </g>\n    <g id=\"xtick_5\">\n     <g id=\"line2d_5\">\n      <path clip-path=\"url(#pba43f50ca9)\" d=\"M 87.501876 247.440529 \nL 87.501876 7.2 \n\" style=\"fill:none;stroke:#ffffff;stroke-linecap:round;\"/>\n     </g>\n     <g id=\"text_5\">\n      <!-- 4 -->\n      <defs>\n       <path d=\"M 37.796875 64.3125 \nL 12.890625 25.390625 \nL 37.796875 25.390625 \nz\nM 35.203125 72.90625 \nL 47.609375 72.90625 \nL 47.609375 25.390625 \nL 58.015625 25.390625 \nL 58.015625 17.1875 \nL 47.609375 17.1875 \nL 47.609375 0 \nL 37.796875 0 \nL 37.796875 17.1875 \nL 4.890625 17.1875 \nL 4.890625 26.703125 \nz\n\" id=\"DejaVuSans-52\"/>\n      </defs>\n      <g style=\"fill:#262626;\" transform=\"translate(86.77226 267.842054)rotate(-40)scale(0.11 -0.11)\">\n       <use xlink:href=\"#DejaVuSans-52\"/>\n      </g>\n     </g>\n    </g>\n    <g id=\"xtick_6\">\n     <g id=\"line2d_6\">\n      <path clip-path=\"url(#pba43f50ca9)\" d=\"M 98.569793 247.440529 \nL 98.569793 7.2 \n\" style=\"fill:none;stroke:#ffffff;stroke-linecap:round;\"/>\n     </g>\n     <g id=\"text_6\">\n      <!-- 5 -->\n      <defs>\n       <path d=\"M 10.796875 72.90625 \nL 49.515625 72.90625 \nL 49.515625 64.59375 \nL 19.828125 64.59375 \nL 19.828125 46.734375 \nQ 21.96875 47.46875 24.109375 47.828125 \nQ 26.265625 48.1875 28.421875 48.1875 \nQ 40.625 48.1875 47.75 41.5 \nQ 54.890625 34.8125 54.890625 23.390625 \nQ 54.890625 11.625 47.5625 5.09375 \nQ 40.234375 -1.421875 26.90625 -1.421875 \nQ 22.3125 -1.421875 17.546875 -0.640625 \nQ 12.796875 0.140625 7.71875 1.703125 \nL 7.71875 11.625 \nQ 12.109375 9.234375 16.796875 8.0625 \nQ 21.484375 6.890625 26.703125 6.890625 \nQ 35.15625 6.890625 40.078125 11.328125 \nQ 45.015625 15.765625 45.015625 23.390625 \nQ 45.015625 31 40.078125 35.4375 \nQ 35.15625 39.890625 26.703125 39.890625 \nQ 22.75 39.890625 18.8125 39.015625 \nQ 14.890625 38.140625 10.796875 36.28125 \nz\n\" id=\"DejaVuSans-53\"/>\n      </defs>\n      <g style=\"fill:#262626;\" transform=\"translate(97.840177 267.842054)rotate(-40)scale(0.11 -0.11)\">\n       <use xlink:href=\"#DejaVuSans-53\"/>\n      </g>\n     </g>\n    </g>\n    <g id=\"xtick_7\">\n     <g id=\"line2d_7\">\n      <path clip-path=\"url(#pba43f50ca9)\" d=\"M 109.63771 247.440529 \nL 109.63771 7.2 \n\" style=\"fill:none;stroke:#ffffff;stroke-linecap:round;\"/>\n     </g>\n     <g id=\"text_7\">\n      <!-- 6 -->\n      <defs>\n       <path d=\"M 33.015625 40.375 \nQ 26.375 40.375 22.484375 35.828125 \nQ 18.609375 31.296875 18.609375 23.390625 \nQ 18.609375 15.53125 22.484375 10.953125 \nQ 26.375 6.390625 33.015625 6.390625 \nQ 39.65625 6.390625 43.53125 10.953125 \nQ 47.40625 15.53125 47.40625 23.390625 \nQ 47.40625 31.296875 43.53125 35.828125 \nQ 39.65625 40.375 33.015625 40.375 \nz\nM 52.59375 71.296875 \nL 52.59375 62.3125 \nQ 48.875 64.0625 45.09375 64.984375 \nQ 41.3125 65.921875 37.59375 65.921875 \nQ 27.828125 65.921875 22.671875 59.328125 \nQ 17.53125 52.734375 16.796875 39.40625 \nQ 19.671875 43.65625 24.015625 45.921875 \nQ 28.375 48.1875 33.59375 48.1875 \nQ 44.578125 48.1875 50.953125 41.515625 \nQ 57.328125 34.859375 57.328125 23.390625 \nQ 57.328125 12.15625 50.6875 5.359375 \nQ 44.046875 -1.421875 33.015625 -1.421875 \nQ 20.359375 -1.421875 13.671875 8.265625 \nQ 6.984375 17.96875 6.984375 36.375 \nQ 6.984375 53.65625 15.1875 63.9375 \nQ 23.390625 74.21875 37.203125 74.21875 \nQ 40.921875 74.21875 44.703125 73.484375 \nQ 48.484375 72.75 52.59375 71.296875 \nz\n\" id=\"DejaVuSans-54\"/>\n      </defs>\n      <g style=\"fill:#262626;\" transform=\"translate(108.908094 267.842054)rotate(-40)scale(0.11 -0.11)\">\n       <use xlink:href=\"#DejaVuSans-54\"/>\n      </g>\n     </g>\n    </g>\n    <g id=\"xtick_8\">\n     <g id=\"line2d_8\">\n      <path clip-path=\"url(#pba43f50ca9)\" d=\"M 120.705626 247.440529 \nL 120.705626 7.2 \n\" style=\"fill:none;stroke:#ffffff;stroke-linecap:round;\"/>\n     </g>\n     <g id=\"text_8\">\n      <!-- 7 -->\n      <defs>\n       <path d=\"M 8.203125 72.90625 \nL 55.078125 72.90625 \nL 55.078125 68.703125 \nL 28.609375 0 \nL 18.3125 0 \nL 43.21875 64.59375 \nL 8.203125 64.59375 \nz\n\" id=\"DejaVuSans-55\"/>\n      </defs>\n      <g style=\"fill:#262626;\" transform=\"translate(119.976011 267.842054)rotate(-40)scale(0.11 -0.11)\">\n       <use xlink:href=\"#DejaVuSans-55\"/>\n      </g>\n     </g>\n    </g>\n    <g id=\"xtick_9\">\n     <g id=\"line2d_9\">\n      <path clip-path=\"url(#pba43f50ca9)\" d=\"M 131.773543 247.440529 \nL 131.773543 7.2 \n\" style=\"fill:none;stroke:#ffffff;stroke-linecap:round;\"/>\n     </g>\n     <g id=\"text_9\">\n      <!-- 8 -->\n      <defs>\n       <path d=\"M 31.78125 34.625 \nQ 24.75 34.625 20.71875 30.859375 \nQ 16.703125 27.09375 16.703125 20.515625 \nQ 16.703125 13.921875 20.71875 10.15625 \nQ 24.75 6.390625 31.78125 6.390625 \nQ 38.8125 6.390625 42.859375 10.171875 \nQ 46.921875 13.96875 46.921875 20.515625 \nQ 46.921875 27.09375 42.890625 30.859375 \nQ 38.875 34.625 31.78125 34.625 \nz\nM 21.921875 38.8125 \nQ 15.578125 40.375 12.03125 44.71875 \nQ 8.5 49.078125 8.5 55.328125 \nQ 8.5 64.0625 14.71875 69.140625 \nQ 20.953125 74.21875 31.78125 74.21875 \nQ 42.671875 74.21875 48.875 69.140625 \nQ 55.078125 64.0625 55.078125 55.328125 \nQ 55.078125 49.078125 51.53125 44.71875 \nQ 48 40.375 41.703125 38.8125 \nQ 48.828125 37.15625 52.796875 32.3125 \nQ 56.78125 27.484375 56.78125 20.515625 \nQ 56.78125 9.90625 50.3125 4.234375 \nQ 43.84375 -1.421875 31.78125 -1.421875 \nQ 19.734375 -1.421875 13.25 4.234375 \nQ 6.78125 9.90625 6.78125 20.515625 \nQ 6.78125 27.484375 10.78125 32.3125 \nQ 14.796875 37.15625 21.921875 38.8125 \nz\nM 18.3125 54.390625 \nQ 18.3125 48.734375 21.84375 45.5625 \nQ 25.390625 42.390625 31.78125 42.390625 \nQ 38.140625 42.390625 41.71875 45.5625 \nQ 45.3125 48.734375 45.3125 54.390625 \nQ 45.3125 60.0625 41.71875 63.234375 \nQ 38.140625 66.40625 31.78125 66.40625 \nQ 25.390625 66.40625 21.84375 63.234375 \nQ 18.3125 60.0625 18.3125 54.390625 \nz\n\" id=\"DejaVuSans-56\"/>\n      </defs>\n      <g style=\"fill:#262626;\" transform=\"translate(131.043928 267.842054)rotate(-40)scale(0.11 -0.11)\">\n       <use xlink:href=\"#DejaVuSans-56\"/>\n      </g>\n     </g>\n    </g>\n    <g id=\"xtick_10\">\n     <g id=\"line2d_10\">\n      <path clip-path=\"url(#pba43f50ca9)\" d=\"M 142.84146 247.440529 \nL 142.84146 7.2 \n\" style=\"fill:none;stroke:#ffffff;stroke-linecap:round;\"/>\n     </g>\n     <g id=\"text_10\">\n      <!-- 9 -->\n      <defs>\n       <path d=\"M 10.984375 1.515625 \nL 10.984375 10.5 \nQ 14.703125 8.734375 18.5 7.8125 \nQ 22.3125 6.890625 25.984375 6.890625 \nQ 35.75 6.890625 40.890625 13.453125 \nQ 46.046875 20.015625 46.78125 33.40625 \nQ 43.953125 29.203125 39.59375 26.953125 \nQ 35.25 24.703125 29.984375 24.703125 \nQ 19.046875 24.703125 12.671875 31.3125 \nQ 6.296875 37.9375 6.296875 49.421875 \nQ 6.296875 60.640625 12.9375 67.421875 \nQ 19.578125 74.21875 30.609375 74.21875 \nQ 43.265625 74.21875 49.921875 64.515625 \nQ 56.59375 54.828125 56.59375 36.375 \nQ 56.59375 19.140625 48.40625 8.859375 \nQ 40.234375 -1.421875 26.421875 -1.421875 \nQ 22.703125 -1.421875 18.890625 -0.6875 \nQ 15.09375 0.046875 10.984375 1.515625 \nz\nM 30.609375 32.421875 \nQ 37.25 32.421875 41.125 36.953125 \nQ 45.015625 41.5 45.015625 49.421875 \nQ 45.015625 57.28125 41.125 61.84375 \nQ 37.25 66.40625 30.609375 66.40625 \nQ 23.96875 66.40625 20.09375 61.84375 \nQ 16.21875 57.28125 16.21875 49.421875 \nQ 16.21875 41.5 20.09375 36.953125 \nQ 23.96875 32.421875 30.609375 32.421875 \nz\n\" id=\"DejaVuSans-57\"/>\n      </defs>\n      <g style=\"fill:#262626;\" transform=\"translate(142.111845 267.842054)rotate(-40)scale(0.11 -0.11)\">\n       <use xlink:href=\"#DejaVuSans-57\"/>\n      </g>\n     </g>\n    </g>\n    <g id=\"xtick_11\">\n     <g id=\"line2d_11\">\n      <path clip-path=\"url(#pba43f50ca9)\" d=\"M 153.909377 247.440529 \nL 153.909377 7.2 \n\" style=\"fill:none;stroke:#ffffff;stroke-linecap:round;\"/>\n     </g>\n     <g id=\"text_11\">\n      <!-- 10 -->\n      <g style=\"fill:#262626;\" transform=\"translate(150.499085 272.340764)rotate(-40)scale(0.11 -0.11)\">\n       <use xlink:href=\"#DejaVuSans-49\"/>\n       <use x=\"63.623047\" xlink:href=\"#DejaVuSans-48\"/>\n      </g>\n     </g>\n    </g>\n    <g id=\"xtick_12\">\n     <g id=\"line2d_12\">\n      <path clip-path=\"url(#pba43f50ca9)\" d=\"M 164.977294 247.440529 \nL 164.977294 7.2 \n\" style=\"fill:none;stroke:#ffffff;stroke-linecap:round;\"/>\n     </g>\n     <g id=\"text_12\">\n      <!-- 11 -->\n      <g style=\"fill:#262626;\" transform=\"translate(161.567001 272.340764)rotate(-40)scale(0.11 -0.11)\">\n       <use xlink:href=\"#DejaVuSans-49\"/>\n       <use x=\"63.623047\" xlink:href=\"#DejaVuSans-49\"/>\n      </g>\n     </g>\n    </g>\n    <g id=\"xtick_13\">\n     <g id=\"line2d_13\">\n      <path clip-path=\"url(#pba43f50ca9)\" d=\"M 176.045211 247.440529 \nL 176.045211 7.2 \n\" style=\"fill:none;stroke:#ffffff;stroke-linecap:round;\"/>\n     </g>\n     <g id=\"text_13\">\n      <!-- 12 -->\n      <g style=\"fill:#262626;\" transform=\"translate(172.634918 272.340764)rotate(-40)scale(0.11 -0.11)\">\n       <use xlink:href=\"#DejaVuSans-49\"/>\n       <use x=\"63.623047\" xlink:href=\"#DejaVuSans-50\"/>\n      </g>\n     </g>\n    </g>\n    <g id=\"xtick_14\">\n     <g id=\"line2d_14\">\n      <path clip-path=\"url(#pba43f50ca9)\" d=\"M 187.113127 247.440529 \nL 187.113127 7.2 \n\" style=\"fill:none;stroke:#ffffff;stroke-linecap:round;\"/>\n     </g>\n     <g id=\"text_14\">\n      <!-- 13 -->\n      <g style=\"fill:#262626;\" transform=\"translate(183.702835 272.340764)rotate(-40)scale(0.11 -0.11)\">\n       <use xlink:href=\"#DejaVuSans-49\"/>\n       <use x=\"63.623047\" xlink:href=\"#DejaVuSans-51\"/>\n      </g>\n     </g>\n    </g>\n    <g id=\"xtick_15\">\n     <g id=\"line2d_15\">\n      <path clip-path=\"url(#pba43f50ca9)\" d=\"M 198.181044 247.440529 \nL 198.181044 7.2 \n\" style=\"fill:none;stroke:#ffffff;stroke-linecap:round;\"/>\n     </g>\n     <g id=\"text_15\">\n      <!-- 14 -->\n      <g style=\"fill:#262626;\" transform=\"translate(194.770752 272.340764)rotate(-40)scale(0.11 -0.11)\">\n       <use xlink:href=\"#DejaVuSans-49\"/>\n       <use x=\"63.623047\" xlink:href=\"#DejaVuSans-52\"/>\n      </g>\n     </g>\n    </g>\n    <g id=\"xtick_16\">\n     <g id=\"line2d_16\">\n      <path clip-path=\"url(#pba43f50ca9)\" d=\"M 209.248961 247.440529 \nL 209.248961 7.2 \n\" style=\"fill:none;stroke:#ffffff;stroke-linecap:round;\"/>\n     </g>\n     <g id=\"text_16\">\n      <!-- 15 -->\n      <g style=\"fill:#262626;\" transform=\"translate(205.838669 272.340764)rotate(-40)scale(0.11 -0.11)\">\n       <use xlink:href=\"#DejaVuSans-49\"/>\n       <use x=\"63.623047\" xlink:href=\"#DejaVuSans-53\"/>\n      </g>\n     </g>\n    </g>\n    <g id=\"xtick_17\">\n     <g id=\"line2d_17\">\n      <path clip-path=\"url(#pba43f50ca9)\" d=\"M 220.316878 247.440529 \nL 220.316878 7.2 \n\" style=\"fill:none;stroke:#ffffff;stroke-linecap:round;\"/>\n     </g>\n     <g id=\"text_17\">\n      <!-- 16 -->\n      <g style=\"fill:#262626;\" transform=\"translate(216.906586 272.340764)rotate(-40)scale(0.11 -0.11)\">\n       <use xlink:href=\"#DejaVuSans-49\"/>\n       <use x=\"63.623047\" xlink:href=\"#DejaVuSans-54\"/>\n      </g>\n     </g>\n    </g>\n    <g id=\"xtick_18\">\n     <g id=\"line2d_18\">\n      <path clip-path=\"url(#pba43f50ca9)\" d=\"M 231.384795 247.440529 \nL 231.384795 7.2 \n\" style=\"fill:none;stroke:#ffffff;stroke-linecap:round;\"/>\n     </g>\n     <g id=\"text_18\">\n      <!-- 17 -->\n      <g style=\"fill:#262626;\" transform=\"translate(227.974503 272.340764)rotate(-40)scale(0.11 -0.11)\">\n       <use xlink:href=\"#DejaVuSans-49\"/>\n       <use x=\"63.623047\" xlink:href=\"#DejaVuSans-55\"/>\n      </g>\n     </g>\n    </g>\n    <g id=\"xtick_19\">\n     <g id=\"line2d_19\">\n      <path clip-path=\"url(#pba43f50ca9)\" d=\"M 242.452712 247.440529 \nL 242.452712 7.2 \n\" style=\"fill:none;stroke:#ffffff;stroke-linecap:round;\"/>\n     </g>\n     <g id=\"text_19\">\n      <!-- 18 -->\n      <g style=\"fill:#262626;\" transform=\"translate(239.042419 272.340764)rotate(-40)scale(0.11 -0.11)\">\n       <use xlink:href=\"#DejaVuSans-49\"/>\n       <use x=\"63.623047\" xlink:href=\"#DejaVuSans-56\"/>\n      </g>\n     </g>\n    </g>\n    <g id=\"xtick_20\">\n     <g id=\"line2d_20\">\n      <path clip-path=\"url(#pba43f50ca9)\" d=\"M 253.520629 247.440529 \nL 253.520629 7.2 \n\" style=\"fill:none;stroke:#ffffff;stroke-linecap:round;\"/>\n     </g>\n     <g id=\"text_20\">\n      <!-- 19 -->\n      <g style=\"fill:#262626;\" transform=\"translate(250.110336 272.340764)rotate(-40)scale(0.11 -0.11)\">\n       <use xlink:href=\"#DejaVuSans-49\"/>\n       <use x=\"63.623047\" xlink:href=\"#DejaVuSans-57\"/>\n      </g>\n     </g>\n    </g>\n    <g id=\"xtick_21\">\n     <g id=\"line2d_21\">\n      <path clip-path=\"url(#pba43f50ca9)\" d=\"M 264.588545 247.440529 \nL 264.588545 7.2 \n\" style=\"fill:none;stroke:#ffffff;stroke-linecap:round;\"/>\n     </g>\n     <g id=\"text_21\">\n      <!-- 20 -->\n      <g style=\"fill:#262626;\" transform=\"translate(261.178253 272.340764)rotate(-40)scale(0.11 -0.11)\">\n       <use xlink:href=\"#DejaVuSans-50\"/>\n       <use x=\"63.623047\" xlink:href=\"#DejaVuSans-48\"/>\n      </g>\n     </g>\n    </g>\n    <g id=\"xtick_22\">\n     <g id=\"line2d_22\">\n      <path clip-path=\"url(#pba43f50ca9)\" d=\"M 275.656462 247.440529 \nL 275.656462 7.2 \n\" style=\"fill:none;stroke:#ffffff;stroke-linecap:round;\"/>\n     </g>\n     <g id=\"text_22\">\n      <!-- 21 -->\n      <g style=\"fill:#262626;\" transform=\"translate(272.24617 272.340764)rotate(-40)scale(0.11 -0.11)\">\n       <use xlink:href=\"#DejaVuSans-50\"/>\n       <use x=\"63.623047\" xlink:href=\"#DejaVuSans-49\"/>\n      </g>\n     </g>\n    </g>\n    <g id=\"xtick_23\">\n     <g id=\"line2d_23\">\n      <path clip-path=\"url(#pba43f50ca9)\" d=\"M 286.724379 247.440529 \nL 286.724379 7.2 \n\" style=\"fill:none;stroke:#ffffff;stroke-linecap:round;\"/>\n     </g>\n     <g id=\"text_23\">\n      <!-- 22 -->\n      <g style=\"fill:#262626;\" transform=\"translate(283.314087 272.340764)rotate(-40)scale(0.11 -0.11)\">\n       <use xlink:href=\"#DejaVuSans-50\"/>\n       <use x=\"63.623047\" xlink:href=\"#DejaVuSans-50\"/>\n      </g>\n     </g>\n    </g>\n    <g id=\"xtick_24\">\n     <g id=\"line2d_24\">\n      <path clip-path=\"url(#pba43f50ca9)\" d=\"M 297.792296 247.440529 \nL 297.792296 7.2 \n\" style=\"fill:none;stroke:#ffffff;stroke-linecap:round;\"/>\n     </g>\n     <g id=\"text_24\">\n      <!-- 23 -->\n      <g style=\"fill:#262626;\" transform=\"translate(294.382004 272.340764)rotate(-40)scale(0.11 -0.11)\">\n       <use xlink:href=\"#DejaVuSans-50\"/>\n       <use x=\"63.623047\" xlink:href=\"#DejaVuSans-51\"/>\n      </g>\n     </g>\n    </g>\n    <g id=\"xtick_25\">\n     <g id=\"line2d_25\">\n      <path clip-path=\"url(#pba43f50ca9)\" d=\"M 308.860213 247.440529 \nL 308.860213 7.2 \n\" style=\"fill:none;stroke:#ffffff;stroke-linecap:round;\"/>\n     </g>\n     <g id=\"text_25\">\n      <!-- 24 -->\n      <g style=\"fill:#262626;\" transform=\"translate(305.449921 272.340764)rotate(-40)scale(0.11 -0.11)\">\n       <use xlink:href=\"#DejaVuSans-50\"/>\n       <use x=\"63.623047\" xlink:href=\"#DejaVuSans-52\"/>\n      </g>\n     </g>\n    </g>\n    <g id=\"xtick_26\">\n     <g id=\"line2d_26\">\n      <path clip-path=\"url(#pba43f50ca9)\" d=\"M 319.92813 247.440529 \nL 319.92813 7.2 \n\" style=\"fill:none;stroke:#ffffff;stroke-linecap:round;\"/>\n     </g>\n     <g id=\"text_26\">\n      <!-- 25 -->\n      <g style=\"fill:#262626;\" transform=\"translate(316.517837 272.340764)rotate(-40)scale(0.11 -0.11)\">\n       <use xlink:href=\"#DejaVuSans-50\"/>\n       <use x=\"63.623047\" xlink:href=\"#DejaVuSans-53\"/>\n      </g>\n     </g>\n    </g>\n    <g id=\"xtick_27\">\n     <g id=\"line2d_27\">\n      <path clip-path=\"url(#pba43f50ca9)\" d=\"M 330.996047 247.440529 \nL 330.996047 7.2 \n\" style=\"fill:none;stroke:#ffffff;stroke-linecap:round;\"/>\n     </g>\n     <g id=\"text_27\">\n      <!-- 26 -->\n      <g style=\"fill:#262626;\" transform=\"translate(327.585754 272.340764)rotate(-40)scale(0.11 -0.11)\">\n       <use xlink:href=\"#DejaVuSans-50\"/>\n       <use x=\"63.623047\" xlink:href=\"#DejaVuSans-54\"/>\n      </g>\n     </g>\n    </g>\n    <g id=\"xtick_28\">\n     <g id=\"line2d_28\">\n      <path clip-path=\"url(#pba43f50ca9)\" d=\"M 342.063963 247.440529 \nL 342.063963 7.2 \n\" style=\"fill:none;stroke:#ffffff;stroke-linecap:round;\"/>\n     </g>\n     <g id=\"text_28\">\n      <!-- 27 -->\n      <g style=\"fill:#262626;\" transform=\"translate(338.653671 272.340764)rotate(-40)scale(0.11 -0.11)\">\n       <use xlink:href=\"#DejaVuSans-50\"/>\n       <use x=\"63.623047\" xlink:href=\"#DejaVuSans-55\"/>\n      </g>\n     </g>\n    </g>\n    <g id=\"xtick_29\">\n     <g id=\"line2d_29\">\n      <path clip-path=\"url(#pba43f50ca9)\" d=\"M 353.13188 247.440529 \nL 353.13188 7.2 \n\" style=\"fill:none;stroke:#ffffff;stroke-linecap:round;\"/>\n     </g>\n     <g id=\"text_29\">\n      <!-- 28 -->\n      <g style=\"fill:#262626;\" transform=\"translate(349.721588 272.340764)rotate(-40)scale(0.11 -0.11)\">\n       <use xlink:href=\"#DejaVuSans-50\"/>\n       <use x=\"63.623047\" xlink:href=\"#DejaVuSans-56\"/>\n      </g>\n     </g>\n    </g>\n    <g id=\"xtick_30\">\n     <g id=\"line2d_30\">\n      <path clip-path=\"url(#pba43f50ca9)\" d=\"M 364.199797 247.440529 \nL 364.199797 7.2 \n\" style=\"fill:none;stroke:#ffffff;stroke-linecap:round;\"/>\n     </g>\n     <g id=\"text_30\">\n      <!-- 29 -->\n      <g style=\"fill:#262626;\" transform=\"translate(360.789505 272.340764)rotate(-40)scale(0.11 -0.11)\">\n       <use xlink:href=\"#DejaVuSans-50\"/>\n       <use x=\"63.623047\" xlink:href=\"#DejaVuSans-57\"/>\n      </g>\n     </g>\n    </g>\n    <g id=\"xtick_31\">\n     <g id=\"line2d_31\">\n      <path clip-path=\"url(#pba43f50ca9)\" d=\"M 375.267714 247.440529 \nL 375.267714 7.2 \n\" style=\"fill:none;stroke:#ffffff;stroke-linecap:round;\"/>\n     </g>\n     <g id=\"text_31\">\n      <!-- 30 -->\n      <g style=\"fill:#262626;\" transform=\"translate(371.857422 272.340764)rotate(-40)scale(0.11 -0.11)\">\n       <use xlink:href=\"#DejaVuSans-51\"/>\n       <use x=\"63.623047\" xlink:href=\"#DejaVuSans-48\"/>\n      </g>\n     </g>\n    </g>\n    <g id=\"xtick_32\">\n     <g id=\"line2d_32\">\n      <path clip-path=\"url(#pba43f50ca9)\" d=\"M 386.335631 247.440529 \nL 386.335631 7.2 \n\" style=\"fill:none;stroke:#ffffff;stroke-linecap:round;\"/>\n     </g>\n     <g id=\"text_32\">\n      <!-- 31 -->\n      <g style=\"fill:#262626;\" transform=\"translate(382.925338 272.340764)rotate(-40)scale(0.11 -0.11)\">\n       <use xlink:href=\"#DejaVuSans-51\"/>\n       <use x=\"63.623047\" xlink:href=\"#DejaVuSans-49\"/>\n      </g>\n     </g>\n    </g>\n    <g id=\"xtick_33\">\n     <g id=\"line2d_33\">\n      <path clip-path=\"url(#pba43f50ca9)\" d=\"M 397.403548 247.440529 \nL 397.403548 7.2 \n\" style=\"fill:none;stroke:#ffffff;stroke-linecap:round;\"/>\n     </g>\n     <g id=\"text_33\">\n      <!-- 32 -->\n      <g style=\"fill:#262626;\" transform=\"translate(393.993255 272.340764)rotate(-40)scale(0.11 -0.11)\">\n       <use xlink:href=\"#DejaVuSans-51\"/>\n       <use x=\"63.623047\" xlink:href=\"#DejaVuSans-50\"/>\n      </g>\n     </g>\n    </g>\n    <g id=\"xtick_34\">\n     <g id=\"line2d_34\">\n      <path clip-path=\"url(#pba43f50ca9)\" d=\"M 408.471464 247.440529 \nL 408.471464 7.2 \n\" style=\"fill:none;stroke:#ffffff;stroke-linecap:round;\"/>\n     </g>\n     <g id=\"text_34\">\n      <!-- 33 -->\n      <g style=\"fill:#262626;\" transform=\"translate(405.061172 272.340764)rotate(-40)scale(0.11 -0.11)\">\n       <use xlink:href=\"#DejaVuSans-51\"/>\n       <use x=\"63.623047\" xlink:href=\"#DejaVuSans-51\"/>\n      </g>\n     </g>\n    </g>\n    <g id=\"xtick_35\">\n     <g id=\"line2d_35\">\n      <path clip-path=\"url(#pba43f50ca9)\" d=\"M 419.539381 247.440529 \nL 419.539381 7.2 \n\" style=\"fill:none;stroke:#ffffff;stroke-linecap:round;\"/>\n     </g>\n     <g id=\"text_35\">\n      <!-- 34 -->\n      <g style=\"fill:#262626;\" transform=\"translate(416.129089 272.340764)rotate(-40)scale(0.11 -0.11)\">\n       <use xlink:href=\"#DejaVuSans-51\"/>\n       <use x=\"63.623047\" xlink:href=\"#DejaVuSans-52\"/>\n      </g>\n     </g>\n    </g>\n    <g id=\"xtick_36\">\n     <g id=\"line2d_36\">\n      <path clip-path=\"url(#pba43f50ca9)\" d=\"M 430.607298 247.440529 \nL 430.607298 7.2 \n\" style=\"fill:none;stroke:#ffffff;stroke-linecap:round;\"/>\n     </g>\n     <g id=\"text_36\">\n      <!-- 35 -->\n      <g style=\"fill:#262626;\" transform=\"translate(427.197006 272.340764)rotate(-40)scale(0.11 -0.11)\">\n       <use xlink:href=\"#DejaVuSans-51\"/>\n       <use x=\"63.623047\" xlink:href=\"#DejaVuSans-53\"/>\n      </g>\n     </g>\n    </g>\n    <g id=\"xtick_37\">\n     <g id=\"line2d_37\">\n      <path clip-path=\"url(#pba43f50ca9)\" d=\"M 441.675215 247.440529 \nL 441.675215 7.2 \n\" style=\"fill:none;stroke:#ffffff;stroke-linecap:round;\"/>\n     </g>\n     <g id=\"text_37\">\n      <!-- 36 -->\n      <g style=\"fill:#262626;\" transform=\"translate(438.264923 272.340764)rotate(-40)scale(0.11 -0.11)\">\n       <use xlink:href=\"#DejaVuSans-51\"/>\n       <use x=\"63.623047\" xlink:href=\"#DejaVuSans-54\"/>\n      </g>\n     </g>\n    </g>\n    <g id=\"xtick_38\">\n     <g id=\"line2d_38\">\n      <path clip-path=\"url(#pba43f50ca9)\" d=\"M 452.743132 247.440529 \nL 452.743132 7.2 \n\" style=\"fill:none;stroke:#ffffff;stroke-linecap:round;\"/>\n     </g>\n     <g id=\"text_38\">\n      <!-- 37 -->\n      <g style=\"fill:#262626;\" transform=\"translate(449.33284 272.340764)rotate(-40)scale(0.11 -0.11)\">\n       <use xlink:href=\"#DejaVuSans-51\"/>\n       <use x=\"63.623047\" xlink:href=\"#DejaVuSans-55\"/>\n      </g>\n     </g>\n    </g>\n    <g id=\"xtick_39\">\n     <g id=\"line2d_39\">\n      <path clip-path=\"url(#pba43f50ca9)\" d=\"M 463.811049 247.440529 \nL 463.811049 7.2 \n\" style=\"fill:none;stroke:#ffffff;stroke-linecap:round;\"/>\n     </g>\n     <g id=\"text_39\">\n      <!-- 38 -->\n      <g style=\"fill:#262626;\" transform=\"translate(460.400756 272.340764)rotate(-40)scale(0.11 -0.11)\">\n       <use xlink:href=\"#DejaVuSans-51\"/>\n       <use x=\"63.623047\" xlink:href=\"#DejaVuSans-56\"/>\n      </g>\n     </g>\n    </g>\n    <g id=\"xtick_40\">\n     <g id=\"line2d_40\">\n      <path clip-path=\"url(#pba43f50ca9)\" d=\"M 474.878966 247.440529 \nL 474.878966 7.2 \n\" style=\"fill:none;stroke:#ffffff;stroke-linecap:round;\"/>\n     </g>\n     <g id=\"text_40\">\n      <!-- 39 -->\n      <g style=\"fill:#262626;\" transform=\"translate(471.468673 272.340764)rotate(-40)scale(0.11 -0.11)\">\n       <use xlink:href=\"#DejaVuSans-51\"/>\n       <use x=\"63.623047\" xlink:href=\"#DejaVuSans-57\"/>\n      </g>\n     </g>\n    </g>\n    <g id=\"xtick_41\">\n     <g id=\"line2d_41\">\n      <path clip-path=\"url(#pba43f50ca9)\" d=\"M 485.946882 247.440529 \nL 485.946882 7.2 \n\" style=\"fill:none;stroke:#ffffff;stroke-linecap:round;\"/>\n     </g>\n     <g id=\"text_41\">\n      <!-- 40 -->\n      <g style=\"fill:#262626;\" transform=\"translate(482.53659 272.340764)rotate(-40)scale(0.11 -0.11)\">\n       <use xlink:href=\"#DejaVuSans-52\"/>\n       <use x=\"63.623047\" xlink:href=\"#DejaVuSans-48\"/>\n      </g>\n     </g>\n    </g>\n    <g id=\"xtick_42\">\n     <g id=\"line2d_42\">\n      <path clip-path=\"url(#pba43f50ca9)\" d=\"M 497.014799 247.440529 \nL 497.014799 7.2 \n\" style=\"fill:none;stroke:#ffffff;stroke-linecap:round;\"/>\n     </g>\n     <g id=\"text_42\">\n      <!-- 41 -->\n      <g style=\"fill:#262626;\" transform=\"translate(493.604507 272.340764)rotate(-40)scale(0.11 -0.11)\">\n       <use xlink:href=\"#DejaVuSans-52\"/>\n       <use x=\"63.623047\" xlink:href=\"#DejaVuSans-49\"/>\n      </g>\n     </g>\n    </g>\n    <g id=\"xtick_43\">\n     <g id=\"line2d_43\">\n      <path clip-path=\"url(#pba43f50ca9)\" d=\"M 508.082716 247.440529 \nL 508.082716 7.2 \n\" style=\"fill:none;stroke:#ffffff;stroke-linecap:round;\"/>\n     </g>\n     <g id=\"text_43\">\n      <!-- 42 -->\n      <g style=\"fill:#262626;\" transform=\"translate(504.672424 272.340764)rotate(-40)scale(0.11 -0.11)\">\n       <use xlink:href=\"#DejaVuSans-52\"/>\n       <use x=\"63.623047\" xlink:href=\"#DejaVuSans-50\"/>\n      </g>\n     </g>\n    </g>\n    <g id=\"xtick_44\">\n     <g id=\"line2d_44\">\n      <path clip-path=\"url(#pba43f50ca9)\" d=\"M 519.150633 247.440529 \nL 519.150633 7.2 \n\" style=\"fill:none;stroke:#ffffff;stroke-linecap:round;\"/>\n     </g>\n     <g id=\"text_44\">\n      <!-- 43 -->\n      <g style=\"fill:#262626;\" transform=\"translate(515.740341 272.340764)rotate(-40)scale(0.11 -0.11)\">\n       <use xlink:href=\"#DejaVuSans-52\"/>\n       <use x=\"63.623047\" xlink:href=\"#DejaVuSans-51\"/>\n      </g>\n     </g>\n    </g>\n    <g id=\"xtick_45\">\n     <g id=\"line2d_45\">\n      <path clip-path=\"url(#pba43f50ca9)\" d=\"M 530.21855 247.440529 \nL 530.21855 7.2 \n\" style=\"fill:none;stroke:#ffffff;stroke-linecap:round;\"/>\n     </g>\n     <g id=\"text_45\">\n      <!-- 44 -->\n      <g style=\"fill:#262626;\" transform=\"translate(526.808258 272.340764)rotate(-40)scale(0.11 -0.11)\">\n       <use xlink:href=\"#DejaVuSans-52\"/>\n       <use x=\"63.623047\" xlink:href=\"#DejaVuSans-52\"/>\n      </g>\n     </g>\n    </g>\n    <g id=\"xtick_46\">\n     <g id=\"line2d_46\">\n      <path clip-path=\"url(#pba43f50ca9)\" d=\"M 541.286467 247.440529 \nL 541.286467 7.2 \n\" style=\"fill:none;stroke:#ffffff;stroke-linecap:round;\"/>\n     </g>\n     <g id=\"text_46\">\n      <!-- 45 -->\n      <g style=\"fill:#262626;\" transform=\"translate(537.876174 272.340764)rotate(-40)scale(0.11 -0.11)\">\n       <use xlink:href=\"#DejaVuSans-52\"/>\n       <use x=\"63.623047\" xlink:href=\"#DejaVuSans-53\"/>\n      </g>\n     </g>\n    </g>\n    <g id=\"xtick_47\">\n     <g id=\"line2d_47\">\n      <path clip-path=\"url(#pba43f50ca9)\" d=\"M 552.354383 247.440529 \nL 552.354383 7.2 \n\" style=\"fill:none;stroke:#ffffff;stroke-linecap:round;\"/>\n     </g>\n     <g id=\"text_47\">\n      <!-- 46 -->\n      <g style=\"fill:#262626;\" transform=\"translate(548.944091 272.340764)rotate(-40)scale(0.11 -0.11)\">\n       <use xlink:href=\"#DejaVuSans-52\"/>\n       <use x=\"63.623047\" xlink:href=\"#DejaVuSans-54\"/>\n      </g>\n     </g>\n    </g>\n    <g id=\"xtick_48\">\n     <g id=\"line2d_48\">\n      <path clip-path=\"url(#pba43f50ca9)\" d=\"M 563.4223 247.440529 \nL 563.4223 7.2 \n\" style=\"fill:none;stroke:#ffffff;stroke-linecap:round;\"/>\n     </g>\n     <g id=\"text_48\">\n      <!-- 47 -->\n      <g style=\"fill:#262626;\" transform=\"translate(560.012008 272.340764)rotate(-40)scale(0.11 -0.11)\">\n       <use xlink:href=\"#DejaVuSans-52\"/>\n       <use x=\"63.623047\" xlink:href=\"#DejaVuSans-55\"/>\n      </g>\n     </g>\n    </g>\n    <g id=\"xtick_49\">\n     <g id=\"line2d_49\">\n      <path clip-path=\"url(#pba43f50ca9)\" d=\"M 574.490217 247.440529 \nL 574.490217 7.2 \n\" style=\"fill:none;stroke:#ffffff;stroke-linecap:round;\"/>\n     </g>\n     <g id=\"text_49\">\n      <!-- 48 -->\n      <g style=\"fill:#262626;\" transform=\"translate(571.079925 272.340764)rotate(-40)scale(0.11 -0.11)\">\n       <use xlink:href=\"#DejaVuSans-52\"/>\n       <use x=\"63.623047\" xlink:href=\"#DejaVuSans-56\"/>\n      </g>\n     </g>\n    </g>\n    <g id=\"xtick_50\">\n     <g id=\"line2d_50\">\n      <path clip-path=\"url(#pba43f50ca9)\" d=\"M 585.558134 247.440529 \nL 585.558134 7.2 \n\" style=\"fill:none;stroke:#ffffff;stroke-linecap:round;\"/>\n     </g>\n     <g id=\"text_50\">\n      <!-- 49 -->\n      <g style=\"fill:#262626;\" transform=\"translate(582.147842 272.340764)rotate(-40)scale(0.11 -0.11)\">\n       <use xlink:href=\"#DejaVuSans-52\"/>\n       <use x=\"63.623047\" xlink:href=\"#DejaVuSans-57\"/>\n      </g>\n     </g>\n    </g>\n    <g id=\"xtick_51\">\n     <g id=\"line2d_51\">\n      <path clip-path=\"url(#pba43f50ca9)\" d=\"M 596.626051 247.440529 \nL 596.626051 7.2 \n\" style=\"fill:none;stroke:#ffffff;stroke-linecap:round;\"/>\n     </g>\n     <g id=\"text_51\">\n      <!-- 50 -->\n      <g style=\"fill:#262626;\" transform=\"translate(593.215759 272.340764)rotate(-40)scale(0.11 -0.11)\">\n       <use xlink:href=\"#DejaVuSans-53\"/>\n       <use x=\"63.623047\" xlink:href=\"#DejaVuSans-48\"/>\n      </g>\n     </g>\n    </g>\n    <g id=\"xtick_52\">\n     <g id=\"line2d_52\">\n      <path clip-path=\"url(#pba43f50ca9)\" d=\"M 607.693968 247.440529 \nL 607.693968 7.2 \n\" style=\"fill:none;stroke:#ffffff;stroke-linecap:round;\"/>\n     </g>\n     <g id=\"text_52\">\n      <!-- 51 -->\n      <g style=\"fill:#262626;\" transform=\"translate(604.283675 272.340764)rotate(-40)scale(0.11 -0.11)\">\n       <use xlink:href=\"#DejaVuSans-53\"/>\n       <use x=\"63.623047\" xlink:href=\"#DejaVuSans-49\"/>\n      </g>\n     </g>\n    </g>\n    <g id=\"xtick_53\">\n     <g id=\"line2d_53\">\n      <path clip-path=\"url(#pba43f50ca9)\" d=\"M 618.761885 247.440529 \nL 618.761885 7.2 \n\" style=\"fill:none;stroke:#ffffff;stroke-linecap:round;\"/>\n     </g>\n     <g id=\"text_53\">\n      <!-- 52 -->\n      <g style=\"fill:#262626;\" transform=\"translate(615.351592 272.340764)rotate(-40)scale(0.11 -0.11)\">\n       <use xlink:href=\"#DejaVuSans-53\"/>\n       <use x=\"63.623047\" xlink:href=\"#DejaVuSans-50\"/>\n      </g>\n     </g>\n    </g>\n    <g id=\"xtick_54\">\n     <g id=\"line2d_54\">\n      <path clip-path=\"url(#pba43f50ca9)\" d=\"M 629.829801 247.440529 \nL 629.829801 7.2 \n\" style=\"fill:none;stroke:#ffffff;stroke-linecap:round;\"/>\n     </g>\n     <g id=\"text_54\">\n      <!-- 53 -->\n      <g style=\"fill:#262626;\" transform=\"translate(626.419509 272.340764)rotate(-40)scale(0.11 -0.11)\">\n       <use xlink:href=\"#DejaVuSans-53\"/>\n       <use x=\"63.623047\" xlink:href=\"#DejaVuSans-51\"/>\n      </g>\n     </g>\n    </g>\n    <g id=\"xtick_55\">\n     <g id=\"line2d_55\">\n      <path clip-path=\"url(#pba43f50ca9)\" d=\"M 640.897718 247.440529 \nL 640.897718 7.2 \n\" style=\"fill:none;stroke:#ffffff;stroke-linecap:round;\"/>\n     </g>\n     <g id=\"text_55\">\n      <!-- 54 -->\n      <g style=\"fill:#262626;\" transform=\"translate(637.487426 272.340764)rotate(-40)scale(0.11 -0.11)\">\n       <use xlink:href=\"#DejaVuSans-53\"/>\n       <use x=\"63.623047\" xlink:href=\"#DejaVuSans-52\"/>\n      </g>\n     </g>\n    </g>\n    <g id=\"xtick_56\">\n     <g id=\"line2d_56\">\n      <path clip-path=\"url(#pba43f50ca9)\" d=\"M 651.965635 247.440529 \nL 651.965635 7.2 \n\" style=\"fill:none;stroke:#ffffff;stroke-linecap:round;\"/>\n     </g>\n     <g id=\"text_56\">\n      <!-- 55 -->\n      <g style=\"fill:#262626;\" transform=\"translate(648.555343 272.340764)rotate(-40)scale(0.11 -0.11)\">\n       <use xlink:href=\"#DejaVuSans-53\"/>\n       <use x=\"63.623047\" xlink:href=\"#DejaVuSans-53\"/>\n      </g>\n     </g>\n    </g>\n    <g id=\"xtick_57\">\n     <g id=\"line2d_57\">\n      <path clip-path=\"url(#pba43f50ca9)\" d=\"M 663.033552 247.440529 \nL 663.033552 7.2 \n\" style=\"fill:none;stroke:#ffffff;stroke-linecap:round;\"/>\n     </g>\n     <g id=\"text_57\">\n      <!-- 56 -->\n      <g style=\"fill:#262626;\" transform=\"translate(659.62326 272.340764)rotate(-40)scale(0.11 -0.11)\">\n       <use xlink:href=\"#DejaVuSans-53\"/>\n       <use x=\"63.623047\" xlink:href=\"#DejaVuSans-54\"/>\n      </g>\n     </g>\n    </g>\n    <g id=\"xtick_58\">\n     <g id=\"line2d_58\">\n      <path clip-path=\"url(#pba43f50ca9)\" d=\"M 674.101469 247.440529 \nL 674.101469 7.2 \n\" style=\"fill:none;stroke:#ffffff;stroke-linecap:round;\"/>\n     </g>\n     <g id=\"text_58\">\n      <!-- 57 -->\n      <g style=\"fill:#262626;\" transform=\"translate(670.691177 272.340764)rotate(-40)scale(0.11 -0.11)\">\n       <use xlink:href=\"#DejaVuSans-53\"/>\n       <use x=\"63.623047\" xlink:href=\"#DejaVuSans-55\"/>\n      </g>\n     </g>\n    </g>\n    <g id=\"xtick_59\">\n     <g id=\"line2d_59\">\n      <path clip-path=\"url(#pba43f50ca9)\" d=\"M 685.169386 247.440529 \nL 685.169386 7.2 \n\" style=\"fill:none;stroke:#ffffff;stroke-linecap:round;\"/>\n     </g>\n     <g id=\"text_59\">\n      <!-- 58 -->\n      <g style=\"fill:#262626;\" transform=\"translate(681.759093 272.340764)rotate(-40)scale(0.11 -0.11)\">\n       <use xlink:href=\"#DejaVuSans-53\"/>\n       <use x=\"63.623047\" xlink:href=\"#DejaVuSans-56\"/>\n      </g>\n     </g>\n    </g>\n    <g id=\"xtick_60\">\n     <g id=\"line2d_60\">\n      <path clip-path=\"url(#pba43f50ca9)\" d=\"M 696.237303 247.440529 \nL 696.237303 7.2 \n\" style=\"fill:none;stroke:#ffffff;stroke-linecap:round;\"/>\n     </g>\n     <g id=\"text_60\">\n      <!-- 59 -->\n      <g style=\"fill:#262626;\" transform=\"translate(692.82701 272.340764)rotate(-40)scale(0.11 -0.11)\">\n       <use xlink:href=\"#DejaVuSans-53\"/>\n       <use x=\"63.623047\" xlink:href=\"#DejaVuSans-57\"/>\n      </g>\n     </g>\n    </g>\n    <g id=\"xtick_61\">\n     <g id=\"line2d_61\">\n      <path clip-path=\"url(#pba43f50ca9)\" d=\"M 707.305219 247.440529 \nL 707.305219 7.2 \n\" style=\"fill:none;stroke:#ffffff;stroke-linecap:round;\"/>\n     </g>\n     <g id=\"text_61\">\n      <!-- 60 -->\n      <g style=\"fill:#262626;\" transform=\"translate(703.894927 272.340764)rotate(-40)scale(0.11 -0.11)\">\n       <use xlink:href=\"#DejaVuSans-54\"/>\n       <use x=\"63.623047\" xlink:href=\"#DejaVuSans-48\"/>\n      </g>\n     </g>\n    </g>\n    <g id=\"xtick_62\">\n     <g id=\"line2d_62\">\n      <path clip-path=\"url(#pba43f50ca9)\" d=\"M 718.373136 247.440529 \nL 718.373136 7.2 \n\" style=\"fill:none;stroke:#ffffff;stroke-linecap:round;\"/>\n     </g>\n     <g id=\"text_62\">\n      <!-- 61 -->\n      <g style=\"fill:#262626;\" transform=\"translate(714.962844 272.340764)rotate(-40)scale(0.11 -0.11)\">\n       <use xlink:href=\"#DejaVuSans-54\"/>\n       <use x=\"63.623047\" xlink:href=\"#DejaVuSans-49\"/>\n      </g>\n     </g>\n    </g>\n    <g id=\"xtick_63\">\n     <g id=\"line2d_63\">\n      <path clip-path=\"url(#pba43f50ca9)\" d=\"M 729.441053 247.440529 \nL 729.441053 7.2 \n\" style=\"fill:none;stroke:#ffffff;stroke-linecap:round;\"/>\n     </g>\n     <g id=\"text_63\">\n      <!-- 62 -->\n      <g style=\"fill:#262626;\" transform=\"translate(726.030761 272.340764)rotate(-40)scale(0.11 -0.11)\">\n       <use xlink:href=\"#DejaVuSans-54\"/>\n       <use x=\"63.623047\" xlink:href=\"#DejaVuSans-50\"/>\n      </g>\n     </g>\n    </g>\n    <g id=\"xtick_64\">\n     <g id=\"line2d_64\">\n      <path clip-path=\"url(#pba43f50ca9)\" d=\"M 740.50897 247.440529 \nL 740.50897 7.2 \n\" style=\"fill:none;stroke:#ffffff;stroke-linecap:round;\"/>\n     </g>\n     <g id=\"text_64\">\n      <!-- 63 -->\n      <g style=\"fill:#262626;\" transform=\"translate(737.098678 272.340764)rotate(-40)scale(0.11 -0.11)\">\n       <use xlink:href=\"#DejaVuSans-54\"/>\n       <use x=\"63.623047\" xlink:href=\"#DejaVuSans-51\"/>\n      </g>\n     </g>\n    </g>\n    <g id=\"xtick_65\">\n     <g id=\"line2d_65\">\n      <path clip-path=\"url(#pba43f50ca9)\" d=\"M 751.576887 247.440529 \nL 751.576887 7.2 \n\" style=\"fill:none;stroke:#ffffff;stroke-linecap:round;\"/>\n     </g>\n     <g id=\"text_65\">\n      <!-- 64 -->\n      <g style=\"fill:#262626;\" transform=\"translate(748.166594 272.340764)rotate(-40)scale(0.11 -0.11)\">\n       <use xlink:href=\"#DejaVuSans-54\"/>\n       <use x=\"63.623047\" xlink:href=\"#DejaVuSans-52\"/>\n      </g>\n     </g>\n    </g>\n    <g id=\"xtick_66\">\n     <g id=\"line2d_66\">\n      <path clip-path=\"url(#pba43f50ca9)\" d=\"M 762.644804 247.440529 \nL 762.644804 7.2 \n\" style=\"fill:none;stroke:#ffffff;stroke-linecap:round;\"/>\n     </g>\n     <g id=\"text_66\">\n      <!-- 65 -->\n      <g style=\"fill:#262626;\" transform=\"translate(759.234511 272.340764)rotate(-40)scale(0.11 -0.11)\">\n       <use xlink:href=\"#DejaVuSans-54\"/>\n       <use x=\"63.623047\" xlink:href=\"#DejaVuSans-53\"/>\n      </g>\n     </g>\n    </g>\n    <g id=\"xtick_67\">\n     <g id=\"line2d_67\">\n      <path clip-path=\"url(#pba43f50ca9)\" d=\"M 773.71272 247.440529 \nL 773.71272 7.2 \n\" style=\"fill:none;stroke:#ffffff;stroke-linecap:round;\"/>\n     </g>\n     <g id=\"text_67\">\n      <!-- 66 -->\n      <g style=\"fill:#262626;\" transform=\"translate(770.302428 272.340764)rotate(-40)scale(0.11 -0.11)\">\n       <use xlink:href=\"#DejaVuSans-54\"/>\n       <use x=\"63.623047\" xlink:href=\"#DejaVuSans-54\"/>\n      </g>\n     </g>\n    </g>\n    <g id=\"xtick_68\">\n     <g id=\"line2d_68\">\n      <path clip-path=\"url(#pba43f50ca9)\" d=\"M 784.780637 247.440529 \nL 784.780637 7.2 \n\" style=\"fill:none;stroke:#ffffff;stroke-linecap:round;\"/>\n     </g>\n     <g id=\"text_68\">\n      <!-- 67 -->\n      <g style=\"fill:#262626;\" transform=\"translate(781.370345 272.340764)rotate(-40)scale(0.11 -0.11)\">\n       <use xlink:href=\"#DejaVuSans-54\"/>\n       <use x=\"63.623047\" xlink:href=\"#DejaVuSans-55\"/>\n      </g>\n     </g>\n    </g>\n    <g id=\"xtick_69\">\n     <g id=\"line2d_69\">\n      <path clip-path=\"url(#pba43f50ca9)\" d=\"M 795.848554 247.440529 \nL 795.848554 7.2 \n\" style=\"fill:none;stroke:#ffffff;stroke-linecap:round;\"/>\n     </g>\n     <g id=\"text_69\">\n      <!-- 68 -->\n      <g style=\"fill:#262626;\" transform=\"translate(792.438262 272.340764)rotate(-40)scale(0.11 -0.11)\">\n       <use xlink:href=\"#DejaVuSans-54\"/>\n       <use x=\"63.623047\" xlink:href=\"#DejaVuSans-56\"/>\n      </g>\n     </g>\n    </g>\n    <g id=\"xtick_70\">\n     <g id=\"line2d_70\">\n      <path clip-path=\"url(#pba43f50ca9)\" d=\"M 806.916471 247.440529 \nL 806.916471 7.2 \n\" style=\"fill:none;stroke:#ffffff;stroke-linecap:round;\"/>\n     </g>\n     <g id=\"text_70\">\n      <!-- 69 -->\n      <g style=\"fill:#262626;\" transform=\"translate(803.506179 272.340764)rotate(-40)scale(0.11 -0.11)\">\n       <use xlink:href=\"#DejaVuSans-54\"/>\n       <use x=\"63.623047\" xlink:href=\"#DejaVuSans-57\"/>\n      </g>\n     </g>\n    </g>\n    <g id=\"xtick_71\">\n     <g id=\"line2d_71\">\n      <path clip-path=\"url(#pba43f50ca9)\" d=\"M 817.984388 247.440529 \nL 817.984388 7.2 \n\" style=\"fill:none;stroke:#ffffff;stroke-linecap:round;\"/>\n     </g>\n     <g id=\"text_71\">\n      <!-- 70 -->\n      <g style=\"fill:#262626;\" transform=\"translate(814.574096 272.340764)rotate(-40)scale(0.11 -0.11)\">\n       <use xlink:href=\"#DejaVuSans-55\"/>\n       <use x=\"63.623047\" xlink:href=\"#DejaVuSans-48\"/>\n      </g>\n     </g>\n    </g>\n    <g id=\"xtick_72\">\n     <g id=\"line2d_72\">\n      <path clip-path=\"url(#pba43f50ca9)\" d=\"M 829.052305 247.440529 \nL 829.052305 7.2 \n\" style=\"fill:none;stroke:#ffffff;stroke-linecap:round;\"/>\n     </g>\n     <g id=\"text_72\">\n      <!-- 71 -->\n      <g style=\"fill:#262626;\" transform=\"translate(825.642012 272.340764)rotate(-40)scale(0.11 -0.11)\">\n       <use xlink:href=\"#DejaVuSans-55\"/>\n       <use x=\"63.623047\" xlink:href=\"#DejaVuSans-49\"/>\n      </g>\n     </g>\n    </g>\n    <g id=\"xtick_73\">\n     <g id=\"line2d_73\">\n      <path clip-path=\"url(#pba43f50ca9)\" d=\"M 840.120222 247.440529 \nL 840.120222 7.2 \n\" style=\"fill:none;stroke:#ffffff;stroke-linecap:round;\"/>\n     </g>\n     <g id=\"text_73\">\n      <!-- 72 -->\n      <g style=\"fill:#262626;\" transform=\"translate(836.709929 272.340764)rotate(-40)scale(0.11 -0.11)\">\n       <use xlink:href=\"#DejaVuSans-55\"/>\n       <use x=\"63.623047\" xlink:href=\"#DejaVuSans-50\"/>\n      </g>\n     </g>\n    </g>\n   </g>\n   <g id=\"matplotlib.axis_2\">\n    <g id=\"ytick_1\">\n     <g id=\"line2d_74\">\n      <path clip-path=\"url(#pba43f50ca9)\" d=\"M 37.69625 247.440529 \nL 845.65418 247.440529 \n\" style=\"fill:none;stroke:#ffffff;stroke-linecap:round;\"/>\n     </g>\n     <g id=\"text_74\">\n      <!-- 0 -->\n      <g style=\"fill:#262626;\" transform=\"translate(21.1975 251.61967)scale(0.11 -0.11)\">\n       <use xlink:href=\"#DejaVuSans-48\"/>\n      </g>\n     </g>\n    </g>\n    <g id=\"ytick_2\">\n     <g id=\"line2d_75\">\n      <path clip-path=\"url(#pba43f50ca9)\" d=\"M 37.69625 210.115814 \nL 845.65418 210.115814 \n\" style=\"fill:none;stroke:#ffffff;stroke-linecap:round;\"/>\n     </g>\n     <g id=\"text_75\">\n      <!-- 100 -->\n      <g style=\"fill:#262626;\" transform=\"translate(7.2 214.294955)scale(0.11 -0.11)\">\n       <use xlink:href=\"#DejaVuSans-49\"/>\n       <use x=\"63.623047\" xlink:href=\"#DejaVuSans-48\"/>\n       <use x=\"127.246094\" xlink:href=\"#DejaVuSans-48\"/>\n      </g>\n     </g>\n    </g>\n    <g id=\"ytick_3\">\n     <g id=\"line2d_76\">\n      <path clip-path=\"url(#pba43f50ca9)\" d=\"M 37.69625 172.791099 \nL 845.65418 172.791099 \n\" style=\"fill:none;stroke:#ffffff;stroke-linecap:round;\"/>\n     </g>\n     <g id=\"text_76\">\n      <!-- 200 -->\n      <g style=\"fill:#262626;\" transform=\"translate(7.2 176.970239)scale(0.11 -0.11)\">\n       <use xlink:href=\"#DejaVuSans-50\"/>\n       <use x=\"63.623047\" xlink:href=\"#DejaVuSans-48\"/>\n       <use x=\"127.246094\" xlink:href=\"#DejaVuSans-48\"/>\n      </g>\n     </g>\n    </g>\n    <g id=\"ytick_4\">\n     <g id=\"line2d_77\">\n      <path clip-path=\"url(#pba43f50ca9)\" d=\"M 37.69625 135.466384 \nL 845.65418 135.466384 \n\" style=\"fill:none;stroke:#ffffff;stroke-linecap:round;\"/>\n     </g>\n     <g id=\"text_77\">\n      <!-- 300 -->\n      <g style=\"fill:#262626;\" transform=\"translate(7.2 139.645524)scale(0.11 -0.11)\">\n       <use xlink:href=\"#DejaVuSans-51\"/>\n       <use x=\"63.623047\" xlink:href=\"#DejaVuSans-48\"/>\n       <use x=\"127.246094\" xlink:href=\"#DejaVuSans-48\"/>\n      </g>\n     </g>\n    </g>\n    <g id=\"ytick_5\">\n     <g id=\"line2d_78\">\n      <path clip-path=\"url(#pba43f50ca9)\" d=\"M 37.69625 98.141668 \nL 845.65418 98.141668 \n\" style=\"fill:none;stroke:#ffffff;stroke-linecap:round;\"/>\n     </g>\n     <g id=\"text_78\">\n      <!-- 400 -->\n      <g style=\"fill:#262626;\" transform=\"translate(7.2 102.320809)scale(0.11 -0.11)\">\n       <use xlink:href=\"#DejaVuSans-52\"/>\n       <use x=\"63.623047\" xlink:href=\"#DejaVuSans-48\"/>\n       <use x=\"127.246094\" xlink:href=\"#DejaVuSans-48\"/>\n      </g>\n     </g>\n    </g>\n    <g id=\"ytick_6\">\n     <g id=\"line2d_79\">\n      <path clip-path=\"url(#pba43f50ca9)\" d=\"M 37.69625 60.816953 \nL 845.65418 60.816953 \n\" style=\"fill:none;stroke:#ffffff;stroke-linecap:round;\"/>\n     </g>\n     <g id=\"text_79\">\n      <!-- 500 -->\n      <g style=\"fill:#262626;\" transform=\"translate(7.2 64.996094)scale(0.11 -0.11)\">\n       <use xlink:href=\"#DejaVuSans-53\"/>\n       <use x=\"63.623047\" xlink:href=\"#DejaVuSans-48\"/>\n       <use x=\"127.246094\" xlink:href=\"#DejaVuSans-48\"/>\n      </g>\n     </g>\n    </g>\n    <g id=\"ytick_7\">\n     <g id=\"line2d_80\">\n      <path clip-path=\"url(#pba43f50ca9)\" d=\"M 37.69625 23.492238 \nL 845.65418 23.492238 \n\" style=\"fill:none;stroke:#ffffff;stroke-linecap:round;\"/>\n     </g>\n     <g id=\"text_80\">\n      <!-- 600 -->\n      <g style=\"fill:#262626;\" transform=\"translate(7.2 27.671379)scale(0.11 -0.11)\">\n       <use xlink:href=\"#DejaVuSans-54\"/>\n       <use x=\"63.623047\" xlink:href=\"#DejaVuSans-48\"/>\n       <use x=\"127.246094\" xlink:href=\"#DejaVuSans-48\"/>\n      </g>\n     </g>\n    </g>\n   </g>\n   <g id=\"patch_3\">\n    <path clip-path=\"url(#pba43f50ca9)\" d=\"M 40.463229 247.440529 \nL 45.997188 247.440529 \nL 45.997188 243.33481 \nL 40.463229 243.33481 \nz\n\" style=\"fill:#08306b;stroke:#ffffff;stroke-linejoin:miter;\"/>\n   </g>\n   <g id=\"patch_4\">\n    <path clip-path=\"url(#pba43f50ca9)\" d=\"M 51.531146 247.440529 \nL 57.065104 247.440529 \nL 57.065104 18.640025 \nL 51.531146 18.640025 \nz\n\" style=\"fill:#08306b;stroke:#ffffff;stroke-linejoin:miter;\"/>\n   </g>\n   <g id=\"patch_5\">\n    <path clip-path=\"url(#pba43f50ca9)\" d=\"M 62.599063 247.440529 \nL 68.133021 247.440529 \nL 68.133021 158.607707 \nL 62.599063 158.607707 \nz\n\" style=\"fill:#08306b;stroke:#ffffff;stroke-linejoin:miter;\"/>\n   </g>\n   <g id=\"patch_6\">\n    <path clip-path=\"url(#pba43f50ca9)\" d=\"M 73.66698 247.440529 \nL 79.200938 247.440529 \nL 79.200938 172.791099 \nL 73.66698 172.791099 \nz\n\" style=\"fill:#08306b;stroke:#ffffff;stroke-linejoin:miter;\"/>\n   </g>\n   <g id=\"patch_7\">\n    <path clip-path=\"url(#pba43f50ca9)\" d=\"M 84.734897 247.440529 \nL 90.268855 247.440529 \nL 90.268855 181.74903 \nL 84.734897 181.74903 \nz\n\" style=\"fill:#08306b;stroke:#ffffff;stroke-linejoin:miter;\"/>\n   </g>\n   <g id=\"patch_8\">\n    <path clip-path=\"url(#pba43f50ca9)\" d=\"M 95.802813 247.440529 \nL 101.336772 247.440529 \nL 101.336772 197.798658 \nL 95.802813 197.798658 \nz\n\" style=\"fill:#08306b;stroke:#ffffff;stroke-linejoin:miter;\"/>\n   </g>\n   <g id=\"patch_9\">\n    <path clip-path=\"url(#pba43f50ca9)\" d=\"M 106.87073 247.440529 \nL 112.404689 247.440529 \nL 112.404689 206.383342 \nL 106.87073 206.383342 \nz\n\" style=\"fill:#08306b;stroke:#ffffff;stroke-linejoin:miter;\"/>\n   </g>\n   <g id=\"patch_10\">\n    <path clip-path=\"url(#pba43f50ca9)\" d=\"M 117.938647 247.440529 \nL 123.472606 247.440529 \nL 123.472606 198.545152 \nL 117.938647 198.545152 \nz\n\" style=\"fill:#08306b;stroke:#ffffff;stroke-linejoin:miter;\"/>\n   </g>\n   <g id=\"patch_11\">\n    <path clip-path=\"url(#pba43f50ca9)\" d=\"M 129.006564 247.440529 \nL 134.540522 247.440529 \nL 134.540522 201.531129 \nL 129.006564 201.531129 \nz\n\" style=\"fill:#08306b;stroke:#ffffff;stroke-linejoin:miter;\"/>\n   </g>\n   <g id=\"patch_12\">\n    <path clip-path=\"url(#pba43f50ca9)\" d=\"M 140.074481 247.440529 \nL 145.608439 247.440529 \nL 145.608439 203.024118 \nL 140.074481 203.024118 \nz\n\" style=\"fill:#08306b;stroke:#ffffff;stroke-linejoin:miter;\"/>\n   </g>\n   <g id=\"patch_13\">\n    <path clip-path=\"url(#pba43f50ca9)\" d=\"M 151.142398 247.440529 \nL 156.676356 247.440529 \nL 156.676356 204.143859 \nL 151.142398 204.143859 \nz\n\" style=\"fill:#08306b;stroke:#ffffff;stroke-linejoin:miter;\"/>\n   </g>\n   <g id=\"patch_14\">\n    <path clip-path=\"url(#pba43f50ca9)\" d=\"M 162.210315 247.440529 \nL 167.744273 247.440529 \nL 167.744273 210.489061 \nL 162.210315 210.489061 \nz\n\" style=\"fill:#08306b;stroke:#ffffff;stroke-linejoin:miter;\"/>\n   </g>\n   <g id=\"patch_15\">\n    <path clip-path=\"url(#pba43f50ca9)\" d=\"M 173.278231 247.440529 \nL 178.81219 247.440529 \nL 178.81219 203.770612 \nL 173.278231 203.770612 \nz\n\" style=\"fill:#08306b;stroke:#ffffff;stroke-linejoin:miter;\"/>\n   </g>\n   <g id=\"patch_16\">\n    <path clip-path=\"url(#pba43f50ca9)\" d=\"M 184.346148 247.440529 \nL 189.880107 247.440529 \nL 189.880107 206.75659 \nL 184.346148 206.75659 \nz\n\" style=\"fill:#08306b;stroke:#ffffff;stroke-linejoin:miter;\"/>\n   </g>\n   <g id=\"patch_17\">\n    <path clip-path=\"url(#pba43f50ca9)\" d=\"M 195.414065 247.440529 \nL 200.948024 247.440529 \nL 200.948024 219.073746 \nL 195.414065 219.073746 \nz\n\" style=\"fill:#08306b;stroke:#ffffff;stroke-linejoin:miter;\"/>\n   </g>\n   <g id=\"patch_18\">\n    <path clip-path=\"url(#pba43f50ca9)\" d=\"M 206.481982 247.440529 \nL 212.01594 247.440529 \nL 212.01594 210.489061 \nL 206.481982 210.489061 \nz\n\" style=\"fill:#08306b;stroke:#ffffff;stroke-linejoin:miter;\"/>\n   </g>\n   <g id=\"patch_19\">\n    <path clip-path=\"url(#pba43f50ca9)\" d=\"M 217.549899 247.440529 \nL 223.083857 247.440529 \nL 223.083857 217.580757 \nL 217.549899 217.580757 \nz\n\" style=\"fill:#08306b;stroke:#ffffff;stroke-linejoin:miter;\"/>\n   </g>\n   <g id=\"patch_20\">\n    <path clip-path=\"url(#pba43f50ca9)\" d=\"M 228.617816 247.440529 \nL 234.151774 247.440529 \nL 234.151774 214.968027 \nL 228.617816 214.968027 \nz\n\" style=\"fill:#08306b;stroke:#ffffff;stroke-linejoin:miter;\"/>\n   </g>\n   <g id=\"patch_21\">\n    <path clip-path=\"url(#pba43f50ca9)\" d=\"M 239.685732 247.440529 \nL 245.219691 247.440529 \nL 245.219691 211.235555 \nL 239.685732 211.235555 \nz\n\" style=\"fill:#08306b;stroke:#ffffff;stroke-linejoin:miter;\"/>\n   </g>\n   <g id=\"patch_22\">\n    <path clip-path=\"url(#pba43f50ca9)\" d=\"M 250.753649 247.440529 \nL 256.287608 247.440529 \nL 256.287608 220.193487 \nL 250.753649 220.193487 \nz\n\" style=\"fill:#08306b;stroke:#ffffff;stroke-linejoin:miter;\"/>\n   </g>\n   <g id=\"patch_23\">\n    <path clip-path=\"url(#pba43f50ca9)\" d=\"M 261.821566 247.440529 \nL 267.355525 247.440529 \nL 267.355525 220.939981 \nL 261.821566 220.939981 \nz\n\" style=\"fill:#08306b;stroke:#ffffff;stroke-linejoin:miter;\"/>\n   </g>\n   <g id=\"patch_24\">\n    <path clip-path=\"url(#pba43f50ca9)\" d=\"M 272.889483 247.440529 \nL 278.423441 247.440529 \nL 278.423441 223.925958 \nL 272.889483 223.925958 \nz\n\" style=\"fill:#08306b;stroke:#ffffff;stroke-linejoin:miter;\"/>\n   </g>\n   <g id=\"patch_25\">\n    <path clip-path=\"url(#pba43f50ca9)\" d=\"M 283.9574 247.440529 \nL 289.491358 247.440529 \nL 289.491358 213.848285 \nL 283.9574 213.848285 \nz\n\" style=\"fill:#08306b;stroke:#ffffff;stroke-linejoin:miter;\"/>\n   </g>\n   <g id=\"patch_26\">\n    <path clip-path=\"url(#pba43f50ca9)\" d=\"M 295.025317 247.440529 \nL 300.559275 247.440529 \nL 300.559275 215.714521 \nL 295.025317 215.714521 \nz\n\" style=\"fill:#08306b;stroke:#ffffff;stroke-linejoin:miter;\"/>\n   </g>\n   <g id=\"patch_27\">\n    <path clip-path=\"url(#pba43f50ca9)\" d=\"M 306.093234 247.440529 \nL 311.627192 247.440529 \nL 311.627192 212.355297 \nL 306.093234 212.355297 \nz\n\" style=\"fill:#08306b;stroke:#ffffff;stroke-linejoin:miter;\"/>\n   </g>\n   <g id=\"patch_28\">\n    <path clip-path=\"url(#pba43f50ca9)\" d=\"M 317.16115 247.440529 \nL 322.695109 247.440529 \nL 322.695109 217.954004 \nL 317.16115 217.954004 \nz\n\" style=\"fill:#08306b;stroke:#ffffff;stroke-linejoin:miter;\"/>\n   </g>\n   <g id=\"patch_29\">\n    <path clip-path=\"url(#pba43f50ca9)\" d=\"M 328.229067 247.440529 \nL 333.763026 247.440529 \nL 333.763026 217.954004 \nL 328.229067 217.954004 \nz\n\" style=\"fill:#08306b;stroke:#ffffff;stroke-linejoin:miter;\"/>\n   </g>\n   <g id=\"patch_30\">\n    <path clip-path=\"url(#pba43f50ca9)\" d=\"M 339.296984 247.440529 \nL 344.830943 247.440529 \nL 344.830943 220.566734 \nL 339.296984 220.566734 \nz\n\" style=\"fill:#08306b;stroke:#ffffff;stroke-linejoin:miter;\"/>\n   </g>\n   <g id=\"patch_31\">\n    <path clip-path=\"url(#pba43f50ca9)\" d=\"M 350.364901 247.440529 \nL 355.898859 247.440529 \nL 355.898859 226.165441 \nL 350.364901 226.165441 \nz\n\" style=\"fill:#08306b;stroke:#ffffff;stroke-linejoin:miter;\"/>\n   </g>\n   <g id=\"patch_32\">\n    <path clip-path=\"url(#pba43f50ca9)\" d=\"M 361.432818 247.440529 \nL 366.966776 247.440529 \nL 366.966776 220.566734 \nL 361.432818 220.566734 \nz\n\" style=\"fill:#08306b;stroke:#ffffff;stroke-linejoin:miter;\"/>\n   </g>\n   <g id=\"patch_33\">\n    <path clip-path=\"url(#pba43f50ca9)\" d=\"M 372.500735 247.440529 \nL 378.034693 247.440529 \nL 378.034693 220.566734 \nL 372.500735 220.566734 \nz\n\" style=\"fill:#08306b;stroke:#ffffff;stroke-linejoin:miter;\"/>\n   </g>\n   <g id=\"patch_34\">\n    <path clip-path=\"url(#pba43f50ca9)\" d=\"M 383.568652 247.440529 \nL 389.10261 247.440529 \nL 389.10261 223.179464 \nL 383.568652 223.179464 \nz\n\" style=\"fill:#08306b;stroke:#ffffff;stroke-linejoin:miter;\"/>\n   </g>\n   <g id=\"patch_35\">\n    <path clip-path=\"url(#pba43f50ca9)\" d=\"M 394.636568 247.440529 \nL 400.170527 247.440529 \nL 400.170527 221.686476 \nL 394.636568 221.686476 \nz\n\" style=\"fill:#08306b;stroke:#ffffff;stroke-linejoin:miter;\"/>\n   </g>\n   <g id=\"patch_36\">\n    <path clip-path=\"url(#pba43f50ca9)\" d=\"M 405.704485 247.440529 \nL 411.238444 247.440529 \nL 411.238444 223.552711 \nL 405.704485 223.552711 \nz\n\" style=\"fill:#08306b;stroke:#ffffff;stroke-linejoin:miter;\"/>\n   </g>\n   <g id=\"patch_37\">\n    <path clip-path=\"url(#pba43f50ca9)\" d=\"M 416.772402 247.440529 \nL 422.306361 247.440529 \nL 422.306361 223.179464 \nL 416.772402 223.179464 \nz\n\" style=\"fill:#08306b;stroke:#ffffff;stroke-linejoin:miter;\"/>\n   </g>\n   <g id=\"patch_38\">\n    <path clip-path=\"url(#pba43f50ca9)\" d=\"M 427.840319 247.440529 \nL 433.374277 247.440529 \nL 433.374277 214.59478 \nL 427.840319 214.59478 \nz\n\" style=\"fill:#08306b;stroke:#ffffff;stroke-linejoin:miter;\"/>\n   </g>\n   <g id=\"patch_39\">\n    <path clip-path=\"url(#pba43f50ca9)\" d=\"M 438.908236 247.440529 \nL 444.442194 247.440529 \nL 444.442194 228.778171 \nL 438.908236 228.778171 \nz\n\" style=\"fill:#08306b;stroke:#ffffff;stroke-linejoin:miter;\"/>\n   </g>\n   <g id=\"patch_40\">\n    <path clip-path=\"url(#pba43f50ca9)\" d=\"M 449.976153 247.440529 \nL 455.510111 247.440529 \nL 455.510111 223.179464 \nL 449.976153 223.179464 \nz\n\" style=\"fill:#08306b;stroke:#ffffff;stroke-linejoin:miter;\"/>\n   </g>\n   <g id=\"patch_41\">\n    <path clip-path=\"url(#pba43f50ca9)\" d=\"M 461.044069 247.440529 \nL 466.578028 247.440529 \nL 466.578028 225.418947 \nL 461.044069 225.418947 \nz\n\" style=\"fill:#08306b;stroke:#ffffff;stroke-linejoin:miter;\"/>\n   </g>\n   <g id=\"patch_42\">\n    <path clip-path=\"url(#pba43f50ca9)\" d=\"M 472.111986 247.440529 \nL 477.645945 247.440529 \nL 477.645945 226.538689 \nL 472.111986 226.538689 \nz\n\" style=\"fill:#08306b;stroke:#ffffff;stroke-linejoin:miter;\"/>\n   </g>\n   <g id=\"patch_43\">\n    <path clip-path=\"url(#pba43f50ca9)\" d=\"M 483.179903 247.440529 \nL 488.713862 247.440529 \nL 488.713862 223.552711 \nL 483.179903 223.552711 \nz\n\" style=\"fill:#08306b;stroke:#ffffff;stroke-linejoin:miter;\"/>\n   </g>\n   <g id=\"patch_44\">\n    <path clip-path=\"url(#pba43f50ca9)\" d=\"M 494.24782 247.440529 \nL 499.781778 247.440529 \nL 499.781778 221.313228 \nL 494.24782 221.313228 \nz\n\" style=\"fill:#08306b;stroke:#ffffff;stroke-linejoin:miter;\"/>\n   </g>\n   <g id=\"patch_45\">\n    <path clip-path=\"url(#pba43f50ca9)\" d=\"M 505.315737 247.440529 \nL 510.849695 247.440529 \nL 510.849695 223.179464 \nL 505.315737 223.179464 \nz\n\" style=\"fill:#08306b;stroke:#ffffff;stroke-linejoin:miter;\"/>\n   </g>\n   <g id=\"patch_46\">\n    <path clip-path=\"url(#pba43f50ca9)\" d=\"M 516.383654 247.440529 \nL 521.917612 247.440529 \nL 521.917612 223.179464 \nL 516.383654 223.179464 \nz\n\" style=\"fill:#08306b;stroke:#ffffff;stroke-linejoin:miter;\"/>\n   </g>\n   <g id=\"patch_47\">\n    <path clip-path=\"url(#pba43f50ca9)\" d=\"M 527.451571 247.440529 \nL 532.985529 247.440529 \nL 532.985529 228.404924 \nL 527.451571 228.404924 \nz\n\" style=\"fill:#08306b;stroke:#ffffff;stroke-linejoin:miter;\"/>\n   </g>\n   <g id=\"patch_48\">\n    <path clip-path=\"url(#pba43f50ca9)\" d=\"M 538.519487 247.440529 \nL 544.053446 247.440529 \nL 544.053446 224.672453 \nL 538.519487 224.672453 \nz\n\" style=\"fill:#08306b;stroke:#ffffff;stroke-linejoin:miter;\"/>\n   </g>\n   <g id=\"patch_49\">\n    <path clip-path=\"url(#pba43f50ca9)\" d=\"M 549.587404 247.440529 \nL 555.121363 247.440529 \nL 555.121363 219.82024 \nL 549.587404 219.82024 \nz\n\" style=\"fill:#08306b;stroke:#ffffff;stroke-linejoin:miter;\"/>\n   </g>\n   <g id=\"patch_50\">\n    <path clip-path=\"url(#pba43f50ca9)\" d=\"M 560.655321 247.440529 \nL 566.18928 247.440529 \nL 566.18928 222.059723 \nL 560.655321 222.059723 \nz\n\" style=\"fill:#08306b;stroke:#ffffff;stroke-linejoin:miter;\"/>\n   </g>\n   <g id=\"patch_51\">\n    <path clip-path=\"url(#pba43f50ca9)\" d=\"M 571.723238 247.440529 \nL 577.257196 247.440529 \nL 577.257196 223.552711 \nL 571.723238 223.552711 \nz\n\" style=\"fill:#08306b;stroke:#ffffff;stroke-linejoin:miter;\"/>\n   </g>\n   <g id=\"patch_52\">\n    <path clip-path=\"url(#pba43f50ca9)\" d=\"M 582.791155 247.440529 \nL 588.325113 247.440529 \nL 588.325113 222.806217 \nL 582.791155 222.806217 \nz\n\" style=\"fill:#08306b;stroke:#ffffff;stroke-linejoin:miter;\"/>\n   </g>\n   <g id=\"patch_53\">\n    <path clip-path=\"url(#pba43f50ca9)\" d=\"M 593.859072 247.440529 \nL 599.39303 247.440529 \nL 599.39303 222.059723 \nL 593.859072 222.059723 \nz\n\" style=\"fill:#08306b;stroke:#ffffff;stroke-linejoin:miter;\"/>\n   </g>\n   <g id=\"patch_54\">\n    <path clip-path=\"url(#pba43f50ca9)\" d=\"M 604.926989 247.440529 \nL 610.460947 247.440529 \nL 610.460947 222.059723 \nL 604.926989 222.059723 \nz\n\" style=\"fill:#08306b;stroke:#ffffff;stroke-linejoin:miter;\"/>\n   </g>\n   <g id=\"patch_55\">\n    <path clip-path=\"url(#pba43f50ca9)\" d=\"M 615.994905 247.440529 \nL 621.528864 247.440529 \nL 621.528864 217.580757 \nL 615.994905 217.580757 \nz\n\" style=\"fill:#08306b;stroke:#ffffff;stroke-linejoin:miter;\"/>\n   </g>\n   <g id=\"patch_56\">\n    <path clip-path=\"url(#pba43f50ca9)\" d=\"M 627.062822 247.440529 \nL 632.596781 247.440529 \nL 632.596781 221.313228 \nL 627.062822 221.313228 \nz\n\" style=\"fill:#08306b;stroke:#ffffff;stroke-linejoin:miter;\"/>\n   </g>\n   <g id=\"patch_57\">\n    <path clip-path=\"url(#pba43f50ca9)\" d=\"M 638.130739 247.440529 \nL 643.664697 247.440529 \nL 643.664697 222.059723 \nL 638.130739 222.059723 \nz\n\" style=\"fill:#08306b;stroke:#ffffff;stroke-linejoin:miter;\"/>\n   </g>\n   <g id=\"patch_58\">\n    <path clip-path=\"url(#pba43f50ca9)\" d=\"M 649.198656 247.440529 \nL 654.732614 247.440529 \nL 654.732614 223.552711 \nL 649.198656 223.552711 \nz\n\" style=\"fill:#08306b;stroke:#ffffff;stroke-linejoin:miter;\"/>\n   </g>\n   <g id=\"patch_59\">\n    <path clip-path=\"url(#pba43f50ca9)\" d=\"M 660.266573 247.440529 \nL 665.800531 247.440529 \nL 665.800531 217.580757 \nL 660.266573 217.580757 \nz\n\" style=\"fill:#08306b;stroke:#ffffff;stroke-linejoin:miter;\"/>\n   </g>\n   <g id=\"patch_60\">\n    <path clip-path=\"url(#pba43f50ca9)\" d=\"M 671.33449 247.440529 \nL 676.868448 247.440529 \nL 676.868448 223.179464 \nL 671.33449 223.179464 \nz\n\" style=\"fill:#08306b;stroke:#ffffff;stroke-linejoin:miter;\"/>\n   </g>\n   <g id=\"patch_61\">\n    <path clip-path=\"url(#pba43f50ca9)\" d=\"M 682.402406 247.440529 \nL 687.936365 247.440529 \nL 687.936365 222.43297 \nL 682.402406 222.43297 \nz\n\" style=\"fill:#08306b;stroke:#ffffff;stroke-linejoin:miter;\"/>\n   </g>\n   <g id=\"patch_62\">\n    <path clip-path=\"url(#pba43f50ca9)\" d=\"M 693.470323 247.440529 \nL 699.004282 247.440529 \nL 699.004282 225.0457 \nL 693.470323 225.0457 \nz\n\" style=\"fill:#08306b;stroke:#ffffff;stroke-linejoin:miter;\"/>\n   </g>\n   <g id=\"patch_63\">\n    <path clip-path=\"url(#pba43f50ca9)\" d=\"M 704.53824 247.440529 \nL 710.072199 247.440529 \nL 710.072199 219.073746 \nL 704.53824 219.073746 \nz\n\" style=\"fill:#08306b;stroke:#ffffff;stroke-linejoin:miter;\"/>\n   </g>\n   <g id=\"patch_64\">\n    <path clip-path=\"url(#pba43f50ca9)\" d=\"M 715.606157 247.440529 \nL 721.140115 247.440529 \nL 721.140115 219.073746 \nL 715.606157 219.073746 \nz\n\" style=\"fill:#08306b;stroke:#ffffff;stroke-linejoin:miter;\"/>\n   </g>\n   <g id=\"patch_65\">\n    <path clip-path=\"url(#pba43f50ca9)\" d=\"M 726.674074 247.440529 \nL 732.208032 247.440529 \nL 732.208032 221.313228 \nL 726.674074 221.313228 \nz\n\" style=\"fill:#08306b;stroke:#ffffff;stroke-linejoin:miter;\"/>\n   </g>\n   <g id=\"patch_66\">\n    <path clip-path=\"url(#pba43f50ca9)\" d=\"M 737.741991 247.440529 \nL 743.275949 247.440529 \nL 743.275949 220.566734 \nL 737.741991 220.566734 \nz\n\" style=\"fill:#08306b;stroke:#ffffff;stroke-linejoin:miter;\"/>\n   </g>\n   <g id=\"patch_67\">\n    <path clip-path=\"url(#pba43f50ca9)\" d=\"M 748.809908 247.440529 \nL 754.343866 247.440529 \nL 754.343866 217.580757 \nL 748.809908 217.580757 \nz\n\" style=\"fill:#08306b;stroke:#ffffff;stroke-linejoin:miter;\"/>\n   </g>\n   <g id=\"patch_68\">\n    <path clip-path=\"url(#pba43f50ca9)\" d=\"M 759.877824 247.440529 \nL 765.411783 247.440529 \nL 765.411783 219.073746 \nL 759.877824 219.073746 \nz\n\" style=\"fill:#08306b;stroke:#ffffff;stroke-linejoin:miter;\"/>\n   </g>\n   <g id=\"patch_69\">\n    <path clip-path=\"url(#pba43f50ca9)\" d=\"M 770.945741 247.440529 \nL 776.4797 247.440529 \nL 776.4797 214.221533 \nL 770.945741 214.221533 \nz\n\" style=\"fill:#08306b;stroke:#ffffff;stroke-linejoin:miter;\"/>\n   </g>\n   <g id=\"patch_70\">\n    <path clip-path=\"url(#pba43f50ca9)\" d=\"M 782.013658 247.440529 \nL 787.547617 247.440529 \nL 787.547617 210.862308 \nL 782.013658 210.862308 \nz\n\" style=\"fill:#08306b;stroke:#ffffff;stroke-linejoin:miter;\"/>\n   </g>\n   <g id=\"patch_71\">\n    <path clip-path=\"url(#pba43f50ca9)\" d=\"M 793.081575 247.440529 \nL 798.615533 247.440529 \nL 798.615533 210.115814 \nL 793.081575 210.115814 \nz\n\" style=\"fill:#08306b;stroke:#ffffff;stroke-linejoin:miter;\"/>\n   </g>\n   <g id=\"patch_72\">\n    <path clip-path=\"url(#pba43f50ca9)\" d=\"M 804.149492 247.440529 \nL 809.68345 247.440529 \nL 809.68345 211.98205 \nL 804.149492 211.98205 \nz\n\" style=\"fill:#08306b;stroke:#ffffff;stroke-linejoin:miter;\"/>\n   </g>\n   <g id=\"patch_73\">\n    <path clip-path=\"url(#pba43f50ca9)\" d=\"M 815.217409 247.440529 \nL 820.751367 247.440529 \nL 820.751367 203.024118 \nL 815.217409 203.024118 \nz\n\" style=\"fill:#08306b;stroke:#ffffff;stroke-linejoin:miter;\"/>\n   </g>\n   <g id=\"patch_74\">\n    <path clip-path=\"url(#pba43f50ca9)\" d=\"M 826.285326 247.440529 \nL 831.819284 247.440529 \nL 831.819284 183.988513 \nL 826.285326 183.988513 \nz\n\" style=\"fill:#08306b;stroke:#ffffff;stroke-linejoin:miter;\"/>\n   </g>\n   <g id=\"patch_75\">\n    <path clip-path=\"url(#pba43f50ca9)\" d=\"M 837.353242 247.440529 \nL 842.887201 247.440529 \nL 842.887201 112.32506 \nL 837.353242 112.32506 \nz\n\" style=\"fill:#08306b;stroke:#ffffff;stroke-linejoin:miter;\"/>\n   </g>\n   <g id=\"patch_76\">\n    <path d=\"M 37.69625 247.440529 \nL 37.69625 7.2 \n\" style=\"fill:none;stroke:#ffffff;stroke-linecap:square;stroke-linejoin:miter;stroke-width:1.25;\"/>\n   </g>\n   <g id=\"patch_77\">\n    <path d=\"M 845.65418 247.440529 \nL 845.65418 7.2 \n\" style=\"fill:none;stroke:#ffffff;stroke-linecap:square;stroke-linejoin:miter;stroke-width:1.25;\"/>\n   </g>\n   <g id=\"patch_78\">\n    <path d=\"M 37.69625 247.440529 \nL 845.65418 247.440529 \n\" style=\"fill:none;stroke:#ffffff;stroke-linecap:square;stroke-linejoin:miter;stroke-width:1.25;\"/>\n   </g>\n   <g id=\"patch_79\">\n    <path d=\"M 37.69625 7.2 \nL 845.65418 7.2 \n\" style=\"fill:none;stroke:#ffffff;stroke-linecap:square;stroke-linejoin:miter;stroke-width:1.25;\"/>\n   </g>\n  </g>\n </g>\n <defs>\n  <clipPath id=\"pba43f50ca9\">\n   <rect height=\"240.240529\" width=\"807.95793\" x=\"37.69625\" y=\"7.2\"/>\n  </clipPath>\n </defs>\n</svg>\n"
          },
          "metadata": {
            "tags": [],
            "needs_background": "light"
          }
        }
      ]
    },
    {
      "cell_type": "markdown",
      "metadata": {
        "id": "oT8G5sLSdwjW",
        "colab_type": "text"
      },
      "source": [
        "Note que, o tempo de serviço utilizado apresenta uma queda do primeiro més para os demais, com uma sumida nos ultimos meses de 70 a 72."
      ]
    },
    {
      "cell_type": "markdown",
      "metadata": {
        "id": "_FV6T5o4hDij",
        "colab_type": "text"
      },
      "source": [
        "Agora analisando a existencia de vieses (Bias) no nosso *dataset*, vou verificar algumas relações de contagem, `gender` o genero, `Churn` a taxa de rotatividade, `Partner` a existencia de parceiros e os serviços utilizados."
      ]
    },
    {
      "cell_type": "code",
      "metadata": {
        "id": "9HRf9nMOhs5x",
        "colab_type": "code",
        "colab": {}
      },
      "source": [
        ""
      ],
      "execution_count": null,
      "outputs": []
    },
    {
      "cell_type": "markdown",
      "metadata": {
        "id": "VtveuitSXTXf",
        "colab_type": "text"
      },
      "source": [
        "\n",
        "###Analisar Correlação"
      ]
    },
    {
      "cell_type": "markdown",
      "metadata": {
        "id": "Dnb5vlUoElu9",
        "colab_type": "text"
      },
      "source": [
        "###Balanceamento dos dados"
      ]
    },
    {
      "cell_type": "markdown",
      "metadata": {
        "id": "p4DAplfKEq0S",
        "colab_type": "text"
      },
      "source": [
        "##Soluções já existentes"
      ]
    },
    {
      "cell_type": "markdown",
      "metadata": {
        "id": "7e4KP2mxEuQW",
        "colab_type": "text"
      },
      "source": [
        "##Construção do modelo"
      ]
    },
    {
      "cell_type": "markdown",
      "metadata": {
        "id": "N9i1GeVfEzNl",
        "colab_type": "text"
      },
      "source": [
        "###Métrica de peformace"
      ]
    },
    {
      "cell_type": "markdown",
      "metadata": {
        "id": "tKwubx5aFvTH",
        "colab_type": "text"
      },
      "source": [
        "##Qual melhor modelo?"
      ]
    },
    {
      "cell_type": "markdown",
      "metadata": {
        "id": "vpNw4bRxE1m1",
        "colab_type": "text"
      },
      "source": [
        "###Preparação dos dados"
      ]
    },
    {
      "cell_type": "markdown",
      "metadata": {
        "id": "grx7gTtoFABq",
        "colab_type": "text"
      },
      "source": [
        "####Cross Validation"
      ]
    },
    {
      "cell_type": "markdown",
      "metadata": {
        "id": "iWsXCEfCG9_S",
        "colab_type": "text"
      },
      "source": [
        "##Conclusão"
      ]
    }
  ]
}