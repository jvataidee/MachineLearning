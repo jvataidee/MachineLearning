{
  "nbformat": 4,
  "nbformat_minor": 0,
  "metadata": {
    "colab": {
      "name": "Previsao_ST.ipynb",
      "provenance": [],
      "toc_visible": true,
      "authorship_tag": "ABX9TyPEdVEGFxpAZnq8WiFC4p7F",
      "include_colab_link": true
    },
    "kernelspec": {
      "name": "python3",
      "display_name": "Python 3"
    }
  },
  "cells": [
    {
      "cell_type": "markdown",
      "metadata": {
        "id": "view-in-github",
        "colab_type": "text"
      },
      "source": [
        "<a href=\"https://colab.research.google.com/github/jvataidee/MachineLearning/blob/master/Previsao_ST.ipynb\" target=\"_parent\"><img src=\"https://colab.research.google.com/assets/colab-badge.svg\" alt=\"Open In Colab\"/></a>"
      ]
    },
    {
      "cell_type": "markdown",
      "metadata": {
        "id": "cY6BE6MLB-gG"
      },
      "source": [
        "\r\n",
        "<p align=\"center\"><img src=\"https://static.wixstatic.com/media/bdd7cb_6ecb6c85550043f090237e5943d2647c~mv2.png/v1/fill/w_417,h_88,al_c,q_85,usm_0.66_1.00_0.01/Ativo%2023-8.webp\" height=\"75px\"></p>\r\n",
        "\r\n",
        "**by: [João Ataíde](https://www.joaoataide.com)**\r\n",
        "#**Gas Prices in Brazil:** Brazil from 2004 to 2019\r\n",
        "\r\n",
        "\r\n",
        "---\r\n",
        "\r\n",
        "\r\n",
        "<p align=\"center\"><img src=\"https://cdn.ebs.newsner.com/wp-content/uploads/sites/13/2019/06/bensin3.jpg\"></p>"
      ]
    },
    {
      "cell_type": "code",
      "metadata": {
        "id": "baJKCZ8dAgSE"
      },
      "source": [
        "#importar bibliotecas\r\n",
        "import pandas as pd\r\n",
        "import matplotlib.pyplot as plt\r\n",
        "import seaborn as sns\r\n",
        "import numpy as np\r\n",
        "pd.set_option(\"display.max_columns\", 200 )\r\n",
        "\r\n",
        "# configurar a visualização\r\n",
        "sns.set()\r\n",
        "%matplotlib inline\r\n",
        "%config InlineBackend.figure_format = 'svg'"
      ],
      "execution_count": 141,
      "outputs": []
    },
    {
      "cell_type": "code",
      "metadata": {
        "id": "TQvd07ROBGwg"
      },
      "source": [
        "!pip install kaggle -q"
      ],
      "execution_count": 142,
      "outputs": []
    },
    {
      "cell_type": "code",
      "metadata": {
        "colab": {
          "resources": {
            "http://localhost:8080/nbextensions/google.colab/files.js": {
              "data": "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",
              "ok": true,
              "headers": [
                [
                  "content-type",
                  "application/javascript"
                ]
              ],
              "status": 200,
              "status_text": ""
            }
          },
          "base_uri": "https://localhost:8080/",
          "height": 91
        },
        "id": "4GpCWnmaBOO3",
        "outputId": "72bc7545-dd7d-4f88-b7d3-f22addef0ccf"
      },
      "source": [
        "from google.colab import files\r\n",
        "files.upload()"
      ],
      "execution_count": 143,
      "outputs": [
        {
          "output_type": "display_data",
          "data": {
            "text/html": [
              "\n",
              "     <input type=\"file\" id=\"files-55b5c7ab-1256-4e28-9ab2-1f3d3d221977\" name=\"files[]\" multiple disabled\n",
              "        style=\"border:none\" />\n",
              "     <output id=\"result-55b5c7ab-1256-4e28-9ab2-1f3d3d221977\">\n",
              "      Upload widget is only available when the cell has been executed in the\n",
              "      current browser session. Please rerun this cell to enable.\n",
              "      </output>\n",
              "      <script src=\"/nbextensions/google.colab/files.js\"></script> "
            ],
            "text/plain": [
              "<IPython.core.display.HTML object>"
            ]
          },
          "metadata": {
            "tags": []
          }
        },
        {
          "output_type": "stream",
          "text": [
            "Saving kaggle.json to kaggle (2).json\n"
          ],
          "name": "stdout"
        },
        {
          "output_type": "execute_result",
          "data": {
            "text/plain": [
              "{'kaggle.json': b'{\"username\":\"jvataide\",\"key\":\"c5cd70088c4ebfbca19677aaa30e8e84\"}'}"
            ]
          },
          "metadata": {
            "tags": []
          },
          "execution_count": 143
        }
      ]
    },
    {
      "cell_type": "code",
      "metadata": {
        "id": "ygUdtMFrBTGd"
      },
      "source": [
        "!mkdir -p ~/.kaggle\r\n",
        "!cp kaggle.json ~/.kaggle/\r\n",
        "!chmod 600 ~/.kaggle/kaggle.json"
      ],
      "execution_count": 144,
      "outputs": []
    },
    {
      "cell_type": "code",
      "metadata": {
        "colab": {
          "base_uri": "https://localhost:8080/"
        },
        "id": "lwdFFf8uBVMw",
        "outputId": "cc25aa4d-6086-4dfc-ddc3-e55cdd348fab"
      },
      "source": [
        "!kaggle datasets download -d matheusfreitag/gas-prices-in-brazil"
      ],
      "execution_count": 145,
      "outputs": [
        {
          "output_type": "stream",
          "text": [
            "gas-prices-in-brazil.zip: Skipping, found more recently modified local copy (use --force to force download)\n"
          ],
          "name": "stdout"
        }
      ]
    },
    {
      "cell_type": "code",
      "metadata": {
        "colab": {
          "base_uri": "https://localhost:8080/"
        },
        "id": "zoqaDTP-CzIz",
        "outputId": "2272125e-5313-435a-e3c8-6f4856ea4304"
      },
      "source": [
        "!ls"
      ],
      "execution_count": 146,
      "outputs": [
        {
          "output_type": "stream",
          "text": [
            " files\t\t\t   'kaggle (1).json'   kaggle.json\n",
            " gas-prices-in-brazil.zip  'kaggle (2).json'   sample_data\n"
          ],
          "name": "stdout"
        }
      ]
    },
    {
      "cell_type": "code",
      "metadata": {
        "id": "ghE4W8CBCbOk"
      },
      "source": [
        "import zipfile\r\n",
        "zip_ref = zipfile.ZipFile('gas-prices-in-brazil.zip', 'r')\r\n",
        "zip_ref.extractall('files')\r\n",
        "zip_ref.close()"
      ],
      "execution_count": 147,
      "outputs": []
    },
    {
      "cell_type": "code",
      "metadata": {
        "id": "WRtKtfciC7y7"
      },
      "source": [
        "dados =  pd.read_csv(\"/content/files/2004-2019.tsv\", sep = \"\\t\")"
      ],
      "execution_count": 148,
      "outputs": []
    },
    {
      "cell_type": "code",
      "metadata": {
        "colab": {
          "base_uri": "https://localhost:8080/",
          "height": 350
        },
        "id": "nFz9o1dLDKKN",
        "outputId": "492ff447-d3d2-4bbd-cc73-466810734d06"
      },
      "source": [
        "dados.head()"
      ],
      "execution_count": 149,
      "outputs": [
        {
          "output_type": "execute_result",
          "data": {
            "text/html": [
              "<div>\n",
              "<style scoped>\n",
              "    .dataframe tbody tr th:only-of-type {\n",
              "        vertical-align: middle;\n",
              "    }\n",
              "\n",
              "    .dataframe tbody tr th {\n",
              "        vertical-align: top;\n",
              "    }\n",
              "\n",
              "    .dataframe thead th {\n",
              "        text-align: right;\n",
              "    }\n",
              "</style>\n",
              "<table border=\"1\" class=\"dataframe\">\n",
              "  <thead>\n",
              "    <tr style=\"text-align: right;\">\n",
              "      <th></th>\n",
              "      <th>Unnamed: 0</th>\n",
              "      <th>DATA INICIAL</th>\n",
              "      <th>DATA FINAL</th>\n",
              "      <th>REGIÃO</th>\n",
              "      <th>ESTADO</th>\n",
              "      <th>PRODUTO</th>\n",
              "      <th>NÚMERO DE POSTOS PESQUISADOS</th>\n",
              "      <th>UNIDADE DE MEDIDA</th>\n",
              "      <th>PREÇO MÉDIO REVENDA</th>\n",
              "      <th>DESVIO PADRÃO REVENDA</th>\n",
              "      <th>PREÇO MÍNIMO REVENDA</th>\n",
              "      <th>PREÇO MÁXIMO REVENDA</th>\n",
              "      <th>MARGEM MÉDIA REVENDA</th>\n",
              "      <th>COEF DE VARIAÇÃO REVENDA</th>\n",
              "      <th>PREÇO MÉDIO DISTRIBUIÇÃO</th>\n",
              "      <th>DESVIO PADRÃO DISTRIBUIÇÃO</th>\n",
              "      <th>PREÇO MÍNIMO DISTRIBUIÇÃO</th>\n",
              "      <th>PREÇO MÁXIMO DISTRIBUIÇÃO</th>\n",
              "      <th>COEF DE VARIAÇÃO DISTRIBUIÇÃO</th>\n",
              "      <th>MÊS</th>\n",
              "      <th>ANO</th>\n",
              "    </tr>\n",
              "  </thead>\n",
              "  <tbody>\n",
              "    <tr>\n",
              "      <th>0</th>\n",
              "      <td>0</td>\n",
              "      <td>2004-05-09</td>\n",
              "      <td>2004-05-15</td>\n",
              "      <td>CENTRO OESTE</td>\n",
              "      <td>DISTRITO FEDERAL</td>\n",
              "      <td>ETANOL HIDRATADO</td>\n",
              "      <td>127</td>\n",
              "      <td>R$/l</td>\n",
              "      <td>1.288</td>\n",
              "      <td>0.016</td>\n",
              "      <td>1.19</td>\n",
              "      <td>1.350</td>\n",
              "      <td>0.463</td>\n",
              "      <td>0.012</td>\n",
              "      <td>0.825</td>\n",
              "      <td>0.11</td>\n",
              "      <td>0.4201</td>\n",
              "      <td>0.9666</td>\n",
              "      <td>0.133</td>\n",
              "      <td>5</td>\n",
              "      <td>2004</td>\n",
              "    </tr>\n",
              "    <tr>\n",
              "      <th>1</th>\n",
              "      <td>1</td>\n",
              "      <td>2004-05-09</td>\n",
              "      <td>2004-05-15</td>\n",
              "      <td>CENTRO OESTE</td>\n",
              "      <td>GOIAS</td>\n",
              "      <td>ETANOL HIDRATADO</td>\n",
              "      <td>387</td>\n",
              "      <td>R$/l</td>\n",
              "      <td>1.162</td>\n",
              "      <td>0.114</td>\n",
              "      <td>0.89</td>\n",
              "      <td>1.449</td>\n",
              "      <td>0.399</td>\n",
              "      <td>0.098</td>\n",
              "      <td>0.763</td>\n",
              "      <td>0.088</td>\n",
              "      <td>0.5013</td>\n",
              "      <td>1.05</td>\n",
              "      <td>0.115</td>\n",
              "      <td>5</td>\n",
              "      <td>2004</td>\n",
              "    </tr>\n",
              "    <tr>\n",
              "      <th>2</th>\n",
              "      <td>2</td>\n",
              "      <td>2004-05-09</td>\n",
              "      <td>2004-05-15</td>\n",
              "      <td>CENTRO OESTE</td>\n",
              "      <td>MATO GROSSO</td>\n",
              "      <td>ETANOL HIDRATADO</td>\n",
              "      <td>192</td>\n",
              "      <td>R$/l</td>\n",
              "      <td>1.389</td>\n",
              "      <td>0.097</td>\n",
              "      <td>1.18</td>\n",
              "      <td>1.760</td>\n",
              "      <td>0.419</td>\n",
              "      <td>0.070</td>\n",
              "      <td>0.97</td>\n",
              "      <td>0.095</td>\n",
              "      <td>0.5614</td>\n",
              "      <td>1.161</td>\n",
              "      <td>0.098</td>\n",
              "      <td>5</td>\n",
              "      <td>2004</td>\n",
              "    </tr>\n",
              "    <tr>\n",
              "      <th>3</th>\n",
              "      <td>3</td>\n",
              "      <td>2004-05-09</td>\n",
              "      <td>2004-05-15</td>\n",
              "      <td>CENTRO OESTE</td>\n",
              "      <td>MATO GROSSO DO SUL</td>\n",
              "      <td>ETANOL HIDRATADO</td>\n",
              "      <td>162</td>\n",
              "      <td>R$/l</td>\n",
              "      <td>1.262</td>\n",
              "      <td>0.070</td>\n",
              "      <td>1.09</td>\n",
              "      <td>1.509</td>\n",
              "      <td>0.432</td>\n",
              "      <td>0.055</td>\n",
              "      <td>0.83</td>\n",
              "      <td>0.119</td>\n",
              "      <td>0.5991</td>\n",
              "      <td>1.22242</td>\n",
              "      <td>0.143</td>\n",
              "      <td>5</td>\n",
              "      <td>2004</td>\n",
              "    </tr>\n",
              "    <tr>\n",
              "      <th>4</th>\n",
              "      <td>4</td>\n",
              "      <td>2004-05-09</td>\n",
              "      <td>2004-05-15</td>\n",
              "      <td>NORDESTE</td>\n",
              "      <td>ALAGOAS</td>\n",
              "      <td>ETANOL HIDRATADO</td>\n",
              "      <td>103</td>\n",
              "      <td>R$/l</td>\n",
              "      <td>1.181</td>\n",
              "      <td>0.078</td>\n",
              "      <td>1.05</td>\n",
              "      <td>1.400</td>\n",
              "      <td>0.24</td>\n",
              "      <td>0.066</td>\n",
              "      <td>0.941</td>\n",
              "      <td>0.077</td>\n",
              "      <td>0.7441</td>\n",
              "      <td>1.0317</td>\n",
              "      <td>0.082</td>\n",
              "      <td>5</td>\n",
              "      <td>2004</td>\n",
              "    </tr>\n",
              "  </tbody>\n",
              "</table>\n",
              "</div>"
            ],
            "text/plain": [
              "   Unnamed: 0 DATA INICIAL  DATA FINAL        REGIÃO              ESTADO  \\\n",
              "0           0   2004-05-09  2004-05-15  CENTRO OESTE    DISTRITO FEDERAL   \n",
              "1           1   2004-05-09  2004-05-15  CENTRO OESTE               GOIAS   \n",
              "2           2   2004-05-09  2004-05-15  CENTRO OESTE         MATO GROSSO   \n",
              "3           3   2004-05-09  2004-05-15  CENTRO OESTE  MATO GROSSO DO SUL   \n",
              "4           4   2004-05-09  2004-05-15      NORDESTE             ALAGOAS   \n",
              "\n",
              "            PRODUTO  NÚMERO DE POSTOS PESQUISADOS UNIDADE DE MEDIDA  \\\n",
              "0  ETANOL HIDRATADO                           127              R$/l   \n",
              "1  ETANOL HIDRATADO                           387              R$/l   \n",
              "2  ETANOL HIDRATADO                           192              R$/l   \n",
              "3  ETANOL HIDRATADO                           162              R$/l   \n",
              "4  ETANOL HIDRATADO                           103              R$/l   \n",
              "\n",
              "   PREÇO MÉDIO REVENDA  DESVIO PADRÃO REVENDA  PREÇO MÍNIMO REVENDA  \\\n",
              "0                1.288                  0.016                  1.19   \n",
              "1                1.162                  0.114                  0.89   \n",
              "2                1.389                  0.097                  1.18   \n",
              "3                1.262                  0.070                  1.09   \n",
              "4                1.181                  0.078                  1.05   \n",
              "\n",
              "   PREÇO MÁXIMO REVENDA MARGEM MÉDIA REVENDA  COEF DE VARIAÇÃO REVENDA  \\\n",
              "0                 1.350                0.463                     0.012   \n",
              "1                 1.449                0.399                     0.098   \n",
              "2                 1.760                0.419                     0.070   \n",
              "3                 1.509                0.432                     0.055   \n",
              "4                 1.400                 0.24                     0.066   \n",
              "\n",
              "  PREÇO MÉDIO DISTRIBUIÇÃO DESVIO PADRÃO DISTRIBUIÇÃO  \\\n",
              "0                    0.825                       0.11   \n",
              "1                    0.763                      0.088   \n",
              "2                     0.97                      0.095   \n",
              "3                     0.83                      0.119   \n",
              "4                    0.941                      0.077   \n",
              "\n",
              "  PREÇO MÍNIMO DISTRIBUIÇÃO PREÇO MÁXIMO DISTRIBUIÇÃO  \\\n",
              "0                    0.4201                    0.9666   \n",
              "1                    0.5013                      1.05   \n",
              "2                    0.5614                     1.161   \n",
              "3                    0.5991                   1.22242   \n",
              "4                    0.7441                    1.0317   \n",
              "\n",
              "  COEF DE VARIAÇÃO DISTRIBUIÇÃO  MÊS   ANO  \n",
              "0                         0.133    5  2004  \n",
              "1                         0.115    5  2004  \n",
              "2                         0.098    5  2004  \n",
              "3                         0.143    5  2004  \n",
              "4                         0.082    5  2004  "
            ]
          },
          "metadata": {
            "tags": []
          },
          "execution_count": 149
        }
      ]
    },
    {
      "cell_type": "code",
      "metadata": {
        "colab": {
          "base_uri": "https://localhost:8080/"
        },
        "id": "8qOfB23CD2VA",
        "outputId": "cc4d346b-6a05-4239-ad96-245701b653cd"
      },
      "source": [
        "dados.PRODUTO.value_counts()"
      ],
      "execution_count": 150,
      "outputs": [
        {
          "output_type": "execute_result",
          "data": {
            "text/plain": [
              "ÓLEO DIESEL         21194\n",
              "GASOLINA COMUM      21194\n",
              "GLP                 21186\n",
              "ETANOL HIDRATADO    21102\n",
              "GNV                 13034\n",
              "ÓLEO DIESEL S10      9113\n",
              "Name: PRODUTO, dtype: int64"
            ]
          },
          "metadata": {
            "tags": []
          },
          "execution_count": 150
        }
      ]
    },
    {
      "cell_type": "code",
      "metadata": {
        "colab": {
          "base_uri": "https://localhost:8080/",
          "height": 350
        },
        "id": "NlWnmN_VD_HP",
        "outputId": "3c0a5723-b382-454a-e2f8-676f8df8a58c"
      },
      "source": [
        "diesel = dados[dados[\"PRODUTO\"] == \"ÓLEO DIESEL\"].copy()\r\n",
        "diesel.head()"
      ],
      "execution_count": 178,
      "outputs": [
        {
          "output_type": "execute_result",
          "data": {
            "text/html": [
              "<div>\n",
              "<style scoped>\n",
              "    .dataframe tbody tr th:only-of-type {\n",
              "        vertical-align: middle;\n",
              "    }\n",
              "\n",
              "    .dataframe tbody tr th {\n",
              "        vertical-align: top;\n",
              "    }\n",
              "\n",
              "    .dataframe thead th {\n",
              "        text-align: right;\n",
              "    }\n",
              "</style>\n",
              "<table border=\"1\" class=\"dataframe\">\n",
              "  <thead>\n",
              "    <tr style=\"text-align: right;\">\n",
              "      <th></th>\n",
              "      <th>Unnamed: 0</th>\n",
              "      <th>DATA INICIAL</th>\n",
              "      <th>DATA FINAL</th>\n",
              "      <th>REGIÃO</th>\n",
              "      <th>ESTADO</th>\n",
              "      <th>PRODUTO</th>\n",
              "      <th>NÚMERO DE POSTOS PESQUISADOS</th>\n",
              "      <th>UNIDADE DE MEDIDA</th>\n",
              "      <th>PREÇO MÉDIO REVENDA</th>\n",
              "      <th>DESVIO PADRÃO REVENDA</th>\n",
              "      <th>PREÇO MÍNIMO REVENDA</th>\n",
              "      <th>PREÇO MÁXIMO REVENDA</th>\n",
              "      <th>MARGEM MÉDIA REVENDA</th>\n",
              "      <th>COEF DE VARIAÇÃO REVENDA</th>\n",
              "      <th>PREÇO MÉDIO DISTRIBUIÇÃO</th>\n",
              "      <th>DESVIO PADRÃO DISTRIBUIÇÃO</th>\n",
              "      <th>PREÇO MÍNIMO DISTRIBUIÇÃO</th>\n",
              "      <th>PREÇO MÁXIMO DISTRIBUIÇÃO</th>\n",
              "      <th>COEF DE VARIAÇÃO DISTRIBUIÇÃO</th>\n",
              "      <th>MÊS</th>\n",
              "      <th>ANO</th>\n",
              "    </tr>\n",
              "  </thead>\n",
              "  <tbody>\n",
              "    <tr>\n",
              "      <th>43547</th>\n",
              "      <td>43547</td>\n",
              "      <td>2004-05-09</td>\n",
              "      <td>2004-05-15</td>\n",
              "      <td>CENTRO OESTE</td>\n",
              "      <td>DISTRITO FEDERAL</td>\n",
              "      <td>ÓLEO DIESEL</td>\n",
              "      <td>125</td>\n",
              "      <td>R$/l</td>\n",
              "      <td>1.447</td>\n",
              "      <td>0.031</td>\n",
              "      <td>1.350</td>\n",
              "      <td>1.490</td>\n",
              "      <td>0.198</td>\n",
              "      <td>0.021</td>\n",
              "      <td>1.249</td>\n",
              "      <td>0.012</td>\n",
              "      <td>1.2153</td>\n",
              "      <td>1.2817</td>\n",
              "      <td>0.01</td>\n",
              "      <td>5</td>\n",
              "      <td>2004</td>\n",
              "    </tr>\n",
              "    <tr>\n",
              "      <th>43548</th>\n",
              "      <td>43548</td>\n",
              "      <td>2004-05-09</td>\n",
              "      <td>2004-05-15</td>\n",
              "      <td>CENTRO OESTE</td>\n",
              "      <td>GOIAS</td>\n",
              "      <td>ÓLEO DIESEL</td>\n",
              "      <td>373</td>\n",
              "      <td>R$/l</td>\n",
              "      <td>1.437</td>\n",
              "      <td>0.059</td>\n",
              "      <td>1.300</td>\n",
              "      <td>1.660</td>\n",
              "      <td>0.157</td>\n",
              "      <td>0.041</td>\n",
              "      <td>1.28</td>\n",
              "      <td>0.024</td>\n",
              "      <td>1.2119</td>\n",
              "      <td>1.3801</td>\n",
              "      <td>0.019</td>\n",
              "      <td>5</td>\n",
              "      <td>2004</td>\n",
              "    </tr>\n",
              "    <tr>\n",
              "      <th>43549</th>\n",
              "      <td>43549</td>\n",
              "      <td>2004-05-09</td>\n",
              "      <td>2004-05-15</td>\n",
              "      <td>CENTRO OESTE</td>\n",
              "      <td>MATO GROSSO</td>\n",
              "      <td>ÓLEO DIESEL</td>\n",
              "      <td>190</td>\n",
              "      <td>R$/l</td>\n",
              "      <td>1.600</td>\n",
              "      <td>0.061</td>\n",
              "      <td>1.460</td>\n",
              "      <td>1.790</td>\n",
              "      <td>0.195</td>\n",
              "      <td>0.038</td>\n",
              "      <td>1.405</td>\n",
              "      <td>0.06</td>\n",
              "      <td>1.22</td>\n",
              "      <td>1.549</td>\n",
              "      <td>0.043</td>\n",
              "      <td>5</td>\n",
              "      <td>2004</td>\n",
              "    </tr>\n",
              "    <tr>\n",
              "      <th>43550</th>\n",
              "      <td>43550</td>\n",
              "      <td>2004-05-09</td>\n",
              "      <td>2004-05-15</td>\n",
              "      <td>CENTRO OESTE</td>\n",
              "      <td>MATO GROSSO DO SUL</td>\n",
              "      <td>ÓLEO DIESEL</td>\n",
              "      <td>157</td>\n",
              "      <td>R$/l</td>\n",
              "      <td>1.526</td>\n",
              "      <td>0.045</td>\n",
              "      <td>1.399</td>\n",
              "      <td>1.659</td>\n",
              "      <td>0.163</td>\n",
              "      <td>0.029</td>\n",
              "      <td>1.363</td>\n",
              "      <td>0.022</td>\n",
              "      <td>1.3055</td>\n",
              "      <td>1.4407</td>\n",
              "      <td>0.016</td>\n",
              "      <td>5</td>\n",
              "      <td>2004</td>\n",
              "    </tr>\n",
              "    <tr>\n",
              "      <th>43551</th>\n",
              "      <td>43551</td>\n",
              "      <td>2004-05-09</td>\n",
              "      <td>2004-05-15</td>\n",
              "      <td>NORDESTE</td>\n",
              "      <td>ALAGOAS</td>\n",
              "      <td>ÓLEO DIESEL</td>\n",
              "      <td>105</td>\n",
              "      <td>R$/l</td>\n",
              "      <td>1.362</td>\n",
              "      <td>0.025</td>\n",
              "      <td>1.310</td>\n",
              "      <td>1.450</td>\n",
              "      <td>0.146</td>\n",
              "      <td>0.018</td>\n",
              "      <td>1.216</td>\n",
              "      <td>0.02</td>\n",
              "      <td>1.1768</td>\n",
              "      <td>1.272</td>\n",
              "      <td>0.016</td>\n",
              "      <td>5</td>\n",
              "      <td>2004</td>\n",
              "    </tr>\n",
              "  </tbody>\n",
              "</table>\n",
              "</div>"
            ],
            "text/plain": [
              "       Unnamed: 0 DATA INICIAL  DATA FINAL        REGIÃO              ESTADO  \\\n",
              "43547       43547   2004-05-09  2004-05-15  CENTRO OESTE    DISTRITO FEDERAL   \n",
              "43548       43548   2004-05-09  2004-05-15  CENTRO OESTE               GOIAS   \n",
              "43549       43549   2004-05-09  2004-05-15  CENTRO OESTE         MATO GROSSO   \n",
              "43550       43550   2004-05-09  2004-05-15  CENTRO OESTE  MATO GROSSO DO SUL   \n",
              "43551       43551   2004-05-09  2004-05-15      NORDESTE             ALAGOAS   \n",
              "\n",
              "           PRODUTO  NÚMERO DE POSTOS PESQUISADOS UNIDADE DE MEDIDA  \\\n",
              "43547  ÓLEO DIESEL                           125              R$/l   \n",
              "43548  ÓLEO DIESEL                           373              R$/l   \n",
              "43549  ÓLEO DIESEL                           190              R$/l   \n",
              "43550  ÓLEO DIESEL                           157              R$/l   \n",
              "43551  ÓLEO DIESEL                           105              R$/l   \n",
              "\n",
              "       PREÇO MÉDIO REVENDA  DESVIO PADRÃO REVENDA  PREÇO MÍNIMO REVENDA  \\\n",
              "43547                1.447                  0.031                 1.350   \n",
              "43548                1.437                  0.059                 1.300   \n",
              "43549                1.600                  0.061                 1.460   \n",
              "43550                1.526                  0.045                 1.399   \n",
              "43551                1.362                  0.025                 1.310   \n",
              "\n",
              "       PREÇO MÁXIMO REVENDA MARGEM MÉDIA REVENDA  COEF DE VARIAÇÃO REVENDA  \\\n",
              "43547                 1.490                0.198                     0.021   \n",
              "43548                 1.660                0.157                     0.041   \n",
              "43549                 1.790                0.195                     0.038   \n",
              "43550                 1.659                0.163                     0.029   \n",
              "43551                 1.450                0.146                     0.018   \n",
              "\n",
              "      PREÇO MÉDIO DISTRIBUIÇÃO DESVIO PADRÃO DISTRIBUIÇÃO  \\\n",
              "43547                    1.249                      0.012   \n",
              "43548                     1.28                      0.024   \n",
              "43549                    1.405                       0.06   \n",
              "43550                    1.363                      0.022   \n",
              "43551                    1.216                       0.02   \n",
              "\n",
              "      PREÇO MÍNIMO DISTRIBUIÇÃO PREÇO MÁXIMO DISTRIBUIÇÃO  \\\n",
              "43547                    1.2153                    1.2817   \n",
              "43548                    1.2119                    1.3801   \n",
              "43549                      1.22                     1.549   \n",
              "43550                    1.3055                    1.4407   \n",
              "43551                    1.1768                     1.272   \n",
              "\n",
              "      COEF DE VARIAÇÃO DISTRIBUIÇÃO  MÊS   ANO  \n",
              "43547                          0.01    5  2004  \n",
              "43548                         0.019    5  2004  \n",
              "43549                         0.043    5  2004  \n",
              "43550                         0.016    5  2004  \n",
              "43551                         0.016    5  2004  "
            ]
          },
          "metadata": {
            "tags": []
          },
          "execution_count": 178
        }
      ]
    },
    {
      "cell_type": "code",
      "metadata": {
        "id": "CyNaaooLF1VW"
      },
      "source": [
        "diesel[\"DATA INICIAL\"] = pd.to_datetime(diesel[\"DATA INICIAL\"])\r\n",
        "diesel[\"DATA FINAL\"] = pd.to_datetime(diesel[\"DATA FINAL\"])"
      ],
      "execution_count": 179,
      "outputs": []
    },
    {
      "cell_type": "code",
      "metadata": {
        "colab": {
          "base_uri": "https://localhost:8080/"
        },
        "id": "8yLihKBPGeX_",
        "outputId": "7810b025-ad8d-419e-f585-c9fdac82d35f"
      },
      "source": [
        "(diesel[\"DATA INICIAL\"] -diesel[\"DATA FINAL\"]).value_counts()"
      ],
      "execution_count": 153,
      "outputs": [
        {
          "output_type": "execute_result",
          "data": {
            "text/plain": [
              "-6 days    21194\n",
              "dtype: int64"
            ]
          },
          "metadata": {
            "tags": []
          },
          "execution_count": 153
        }
      ]
    },
    {
      "cell_type": "code",
      "metadata": {
        "colab": {
          "base_uri": "https://localhost:8080/"
        },
        "id": "6m3W5S5-Gsys",
        "outputId": "0bc47236-2691-4af5-c25a-469f22c5284a"
      },
      "source": [
        "diesel_treino =  diesel[diesel[\"DATA FINAL\"] < \"2011-01-01\"]\r\n",
        "diesel_valid =  diesel[diesel[\"DATA FINAL\"] >= \"2011-01-01\"]\r\n",
        "\r\n",
        "\r\n",
        "print(\"Dados de treino:\", diesel_treino.shape[0])\r\n",
        "print(\"Dados de validação:\", diesel_valid.shape[0])"
      ],
      "execution_count": 187,
      "outputs": [
        {
          "output_type": "stream",
          "text": [
            "Dados de treino: 9233\n",
            "Dados de validação: 11961\n"
          ],
          "name": "stdout"
        }
      ]
    },
    {
      "cell_type": "markdown",
      "metadata": {
        "id": "C2UVIS39ILO1"
      },
      "source": [
        "## BaseLine"
      ]
    },
    {
      "cell_type": "code",
      "metadata": {
        "id": "Z3eALZ20IEOf"
      },
      "source": [
        "y_treino =  diesel_treino[\"PREÇO MÉDIO REVENDA\"]\r\n",
        "y_valid =  diesel_validacao[\"PREÇO MÉDIO REVENDA\"]"
      ],
      "execution_count": 181,
      "outputs": []
    },
    {
      "cell_type": "code",
      "metadata": {
        "id": "NlwTyk0PIkPa"
      },
      "source": [
        "bl_treino = diesel_treino.groupby([\"ESTADO\"])[\"PREÇO MÉDIO REVENDA\"].shift(1)\r\n",
        "bl_valid = diesel_validacao.groupby([\"ESTADO\"])[\"PREÇO MÉDIO REVENDA\"].shift(1)"
      ],
      "execution_count": 156,
      "outputs": []
    },
    {
      "cell_type": "code",
      "metadata": {
        "colab": {
          "base_uri": "https://localhost:8080/"
        },
        "id": "aDl3-7h9JCCf",
        "outputId": "ec3f92ca-fed7-45fd-af2b-ddc4c119b954"
      },
      "source": [
        "from sklearn.metrics import mean_squared_log_error\r\n",
        "\r\n",
        "np.sqrt(mean_squared_log_error(y_valid[bl_valid.notnull()],\r\n",
        "                               bl_valid[bl_valid.notnull()]))*100"
      ],
      "execution_count": 215,
      "outputs": [
        {
          "output_type": "execute_result",
          "data": {
            "text/plain": [
              "0.8133639513965776"
            ]
          },
          "metadata": {
            "tags": []
          },
          "execution_count": 215
        }
      ]
    },
    {
      "cell_type": "markdown",
      "metadata": {
        "id": "zofvq1ZDJ8Fr"
      },
      "source": [
        "## Criando o modelo"
      ]
    },
    {
      "cell_type": "code",
      "metadata": {
        "id": "Y6XJq8xWJMMY"
      },
      "source": [
        "df_x_treino = pd.DataFrame(index = diesel_treino.index)\r\n",
        "df_x_valid =  pd.DataFrame(index = diesel_valid.index)"
      ],
      "execution_count": 193,
      "outputs": []
    },
    {
      "cell_type": "markdown",
      "metadata": {
        "id": "I-GG1l5yLSRv"
      },
      "source": [
        "###Pré-Processamento"
      ]
    },
    {
      "cell_type": "code",
      "metadata": {
        "colab": {
          "base_uri": "https://localhost:8080/",
          "height": 365
        },
        "id": "z7I8zJJSLR0I",
        "outputId": "b000ecd2-f5dc-4e28-f55a-4415fb003455"
      },
      "source": [
        "#Modelando o Target\r\n",
        "diesel_treino.plot(x = \"DATA FINAL\", y = \"PREÇO MÉDIO REVENDA\");"
      ],
      "execution_count": 194,
      "outputs": [
        {
          "output_type": "display_data",
          "data": {
            "text/plain": [
              "<Figure size 432x288 with 1 Axes>"
            ],
            "image/svg+xml": "<?xml version=\"1.0\" encoding=\"utf-8\" standalone=\"no\"?>\n<!DOCTYPE svg PUBLIC \"-//W3C//DTD SVG 1.1//EN\"\n  \"http://www.w3.org/Graphics/SVG/1.1/DTD/svg11.dtd\">\n<!-- Created with matplotlib (https://matplotlib.org/) -->\n<svg height=\"258.570902pt\" version=\"1.1\" viewBox=\"0 0 376.193437 258.570902\" width=\"376.193437pt\" xmlns=\"http://www.w3.org/2000/svg\" xmlns:xlink=\"http://www.w3.org/1999/xlink\">\n <defs>\n  <style type=\"text/css\">\n*{stroke-linecap:butt;stroke-linejoin:round;}\n  </style>\n </defs>\n <g id=\"figure_1\">\n  <g id=\"patch_1\">\n   <path d=\"M 0 258.570902 \nL 376.193437 258.570902 \nL 376.193437 0 \nL 0 0 \nz\n\" style=\"fill:none;\"/>\n  </g>\n  <g id=\"axes_1\">\n   <g id=\"patch_2\">\n    <path d=\"M 34.193438 203.04 \nL 368.993438 203.04 \nL 368.993438 7.2 \nL 34.193438 7.2 \nz\n\" style=\"fill:#eaeaf2;\"/>\n   </g>\n   <g id=\"matplotlib.axis_1\">\n    <g id=\"xtick_1\">\n     <g id=\"line2d_1\">\n      <path clip-path=\"url(#p7f6caff264)\" d=\"M 78.524663 203.04 \nL 78.524663 7.2 \n\" style=\"fill:none;stroke:#ffffff;stroke-linecap:round;\"/>\n     </g>\n     <g id=\"text_1\">\n      <!-- 2005 -->\n      <defs>\n       <path d=\"M 19.1875 8.296875 \nL 53.609375 8.296875 \nL 53.609375 0 \nL 7.328125 0 \nL 7.328125 8.296875 \nQ 12.9375 14.109375 22.625 23.890625 \nQ 32.328125 33.6875 34.8125 36.53125 \nQ 39.546875 41.84375 41.421875 45.53125 \nQ 43.3125 49.21875 43.3125 52.78125 \nQ 43.3125 58.59375 39.234375 62.25 \nQ 35.15625 65.921875 28.609375 65.921875 \nQ 23.96875 65.921875 18.8125 64.3125 \nQ 13.671875 62.703125 7.8125 59.421875 \nL 7.8125 69.390625 \nQ 13.765625 71.78125 18.9375 73 \nQ 24.125 74.21875 28.421875 74.21875 \nQ 39.75 74.21875 46.484375 68.546875 \nQ 53.21875 62.890625 53.21875 53.421875 \nQ 53.21875 48.921875 51.53125 44.890625 \nQ 49.859375 40.875 45.40625 35.40625 \nQ 44.1875 33.984375 37.640625 27.21875 \nQ 31.109375 20.453125 19.1875 8.296875 \nz\n\" id=\"DejaVuSans-50\"/>\n       <path d=\"M 31.78125 66.40625 \nQ 24.171875 66.40625 20.328125 58.90625 \nQ 16.5 51.421875 16.5 36.375 \nQ 16.5 21.390625 20.328125 13.890625 \nQ 24.171875 6.390625 31.78125 6.390625 \nQ 39.453125 6.390625 43.28125 13.890625 \nQ 47.125 21.390625 47.125 36.375 \nQ 47.125 51.421875 43.28125 58.90625 \nQ 39.453125 66.40625 31.78125 66.40625 \nz\nM 31.78125 74.21875 \nQ 44.046875 74.21875 50.515625 64.515625 \nQ 56.984375 54.828125 56.984375 36.375 \nQ 56.984375 17.96875 50.515625 8.265625 \nQ 44.046875 -1.421875 31.78125 -1.421875 \nQ 19.53125 -1.421875 13.0625 8.265625 \nQ 6.59375 17.96875 6.59375 36.375 \nQ 6.59375 54.828125 13.0625 64.515625 \nQ 19.53125 74.21875 31.78125 74.21875 \nz\n\" id=\"DejaVuSans-48\"/>\n       <path d=\"M 10.796875 72.90625 \nL 49.515625 72.90625 \nL 49.515625 64.59375 \nL 19.828125 64.59375 \nL 19.828125 46.734375 \nQ 21.96875 47.46875 24.109375 47.828125 \nQ 26.265625 48.1875 28.421875 48.1875 \nQ 40.625 48.1875 47.75 41.5 \nQ 54.890625 34.8125 54.890625 23.390625 \nQ 54.890625 11.625 47.5625 5.09375 \nQ 40.234375 -1.421875 26.90625 -1.421875 \nQ 22.3125 -1.421875 17.546875 -0.640625 \nQ 12.796875 0.140625 7.71875 1.703125 \nL 7.71875 11.625 \nQ 12.109375 9.234375 16.796875 8.0625 \nQ 21.484375 6.890625 26.703125 6.890625 \nQ 35.15625 6.890625 40.078125 11.328125 \nQ 45.015625 15.765625 45.015625 23.390625 \nQ 45.015625 31 40.078125 35.4375 \nQ 35.15625 39.890625 26.703125 39.890625 \nQ 22.75 39.890625 18.8125 39.015625 \nQ 14.890625 38.140625 10.796875 36.28125 \nz\n\" id=\"DejaVuSans-53\"/>\n      </defs>\n      <g style=\"fill:#262626;\" transform=\"translate(53.136453 233.775984)rotate(-30)scale(0.11 -0.11)\">\n       <use xlink:href=\"#DejaVuSans-50\"/>\n       <use x=\"63.623047\" xlink:href=\"#DejaVuSans-48\"/>\n       <use x=\"127.246094\" xlink:href=\"#DejaVuSans-48\"/>\n       <use x=\"190.869141\" xlink:href=\"#DejaVuSans-53\"/>\n      </g>\n     </g>\n    </g>\n    <g id=\"xtick_2\">\n     <g id=\"line2d_2\">\n      <path clip-path=\"url(#p7f6caff264)\" d=\"M 124.525792 203.04 \nL 124.525792 7.2 \n\" style=\"fill:none;stroke:#ffffff;stroke-linecap:round;\"/>\n     </g>\n     <g id=\"text_2\">\n      <!-- 2006 -->\n      <defs>\n       <path d=\"M 33.015625 40.375 \nQ 26.375 40.375 22.484375 35.828125 \nQ 18.609375 31.296875 18.609375 23.390625 \nQ 18.609375 15.53125 22.484375 10.953125 \nQ 26.375 6.390625 33.015625 6.390625 \nQ 39.65625 6.390625 43.53125 10.953125 \nQ 47.40625 15.53125 47.40625 23.390625 \nQ 47.40625 31.296875 43.53125 35.828125 \nQ 39.65625 40.375 33.015625 40.375 \nz\nM 52.59375 71.296875 \nL 52.59375 62.3125 \nQ 48.875 64.0625 45.09375 64.984375 \nQ 41.3125 65.921875 37.59375 65.921875 \nQ 27.828125 65.921875 22.671875 59.328125 \nQ 17.53125 52.734375 16.796875 39.40625 \nQ 19.671875 43.65625 24.015625 45.921875 \nQ 28.375 48.1875 33.59375 48.1875 \nQ 44.578125 48.1875 50.953125 41.515625 \nQ 57.328125 34.859375 57.328125 23.390625 \nQ 57.328125 12.15625 50.6875 5.359375 \nQ 44.046875 -1.421875 33.015625 -1.421875 \nQ 20.359375 -1.421875 13.671875 8.265625 \nQ 6.984375 17.96875 6.984375 36.375 \nQ 6.984375 53.65625 15.1875 63.9375 \nQ 23.390625 74.21875 37.203125 74.21875 \nQ 40.921875 74.21875 44.703125 73.484375 \nQ 48.484375 72.75 52.59375 71.296875 \nz\n\" id=\"DejaVuSans-54\"/>\n      </defs>\n      <g style=\"fill:#262626;\" transform=\"translate(99.137583 233.775984)rotate(-30)scale(0.11 -0.11)\">\n       <use xlink:href=\"#DejaVuSans-50\"/>\n       <use x=\"63.623047\" xlink:href=\"#DejaVuSans-48\"/>\n       <use x=\"127.246094\" xlink:href=\"#DejaVuSans-48\"/>\n       <use x=\"190.869141\" xlink:href=\"#DejaVuSans-54\"/>\n      </g>\n     </g>\n    </g>\n    <g id=\"xtick_3\">\n     <g id=\"line2d_3\">\n      <path clip-path=\"url(#p7f6caff264)\" d=\"M 170.526921 203.04 \nL 170.526921 7.2 \n\" style=\"fill:none;stroke:#ffffff;stroke-linecap:round;\"/>\n     </g>\n     <g id=\"text_3\">\n      <!-- 2007 -->\n      <defs>\n       <path d=\"M 8.203125 72.90625 \nL 55.078125 72.90625 \nL 55.078125 68.703125 \nL 28.609375 0 \nL 18.3125 0 \nL 43.21875 64.59375 \nL 8.203125 64.59375 \nz\n\" id=\"DejaVuSans-55\"/>\n      </defs>\n      <g style=\"fill:#262626;\" transform=\"translate(145.138712 233.775984)rotate(-30)scale(0.11 -0.11)\">\n       <use xlink:href=\"#DejaVuSans-50\"/>\n       <use x=\"63.623047\" xlink:href=\"#DejaVuSans-48\"/>\n       <use x=\"127.246094\" xlink:href=\"#DejaVuSans-48\"/>\n       <use x=\"190.869141\" xlink:href=\"#DejaVuSans-55\"/>\n      </g>\n     </g>\n    </g>\n    <g id=\"xtick_4\">\n     <g id=\"line2d_4\">\n      <path clip-path=\"url(#p7f6caff264)\" d=\"M 216.528051 203.04 \nL 216.528051 7.2 \n\" style=\"fill:none;stroke:#ffffff;stroke-linecap:round;\"/>\n     </g>\n     <g id=\"text_4\">\n      <!-- 2008 -->\n      <defs>\n       <path d=\"M 31.78125 34.625 \nQ 24.75 34.625 20.71875 30.859375 \nQ 16.703125 27.09375 16.703125 20.515625 \nQ 16.703125 13.921875 20.71875 10.15625 \nQ 24.75 6.390625 31.78125 6.390625 \nQ 38.8125 6.390625 42.859375 10.171875 \nQ 46.921875 13.96875 46.921875 20.515625 \nQ 46.921875 27.09375 42.890625 30.859375 \nQ 38.875 34.625 31.78125 34.625 \nz\nM 21.921875 38.8125 \nQ 15.578125 40.375 12.03125 44.71875 \nQ 8.5 49.078125 8.5 55.328125 \nQ 8.5 64.0625 14.71875 69.140625 \nQ 20.953125 74.21875 31.78125 74.21875 \nQ 42.671875 74.21875 48.875 69.140625 \nQ 55.078125 64.0625 55.078125 55.328125 \nQ 55.078125 49.078125 51.53125 44.71875 \nQ 48 40.375 41.703125 38.8125 \nQ 48.828125 37.15625 52.796875 32.3125 \nQ 56.78125 27.484375 56.78125 20.515625 \nQ 56.78125 9.90625 50.3125 4.234375 \nQ 43.84375 -1.421875 31.78125 -1.421875 \nQ 19.734375 -1.421875 13.25 4.234375 \nQ 6.78125 9.90625 6.78125 20.515625 \nQ 6.78125 27.484375 10.78125 32.3125 \nQ 14.796875 37.15625 21.921875 38.8125 \nz\nM 18.3125 54.390625 \nQ 18.3125 48.734375 21.84375 45.5625 \nQ 25.390625 42.390625 31.78125 42.390625 \nQ 38.140625 42.390625 41.71875 45.5625 \nQ 45.3125 48.734375 45.3125 54.390625 \nQ 45.3125 60.0625 41.71875 63.234375 \nQ 38.140625 66.40625 31.78125 66.40625 \nQ 25.390625 66.40625 21.84375 63.234375 \nQ 18.3125 60.0625 18.3125 54.390625 \nz\n\" id=\"DejaVuSans-56\"/>\n      </defs>\n      <g style=\"fill:#262626;\" transform=\"translate(191.139841 233.775984)rotate(-30)scale(0.11 -0.11)\">\n       <use xlink:href=\"#DejaVuSans-50\"/>\n       <use x=\"63.623047\" xlink:href=\"#DejaVuSans-48\"/>\n       <use x=\"127.246094\" xlink:href=\"#DejaVuSans-48\"/>\n       <use x=\"190.869141\" xlink:href=\"#DejaVuSans-56\"/>\n      </g>\n     </g>\n    </g>\n    <g id=\"xtick_5\">\n     <g id=\"line2d_5\">\n      <path clip-path=\"url(#p7f6caff264)\" d=\"M 262.655211 203.04 \nL 262.655211 7.2 \n\" style=\"fill:none;stroke:#ffffff;stroke-linecap:round;\"/>\n     </g>\n     <g id=\"text_5\">\n      <!-- 2009 -->\n      <defs>\n       <path d=\"M 10.984375 1.515625 \nL 10.984375 10.5 \nQ 14.703125 8.734375 18.5 7.8125 \nQ 22.3125 6.890625 25.984375 6.890625 \nQ 35.75 6.890625 40.890625 13.453125 \nQ 46.046875 20.015625 46.78125 33.40625 \nQ 43.953125 29.203125 39.59375 26.953125 \nQ 35.25 24.703125 29.984375 24.703125 \nQ 19.046875 24.703125 12.671875 31.3125 \nQ 6.296875 37.9375 6.296875 49.421875 \nQ 6.296875 60.640625 12.9375 67.421875 \nQ 19.578125 74.21875 30.609375 74.21875 \nQ 43.265625 74.21875 49.921875 64.515625 \nQ 56.59375 54.828125 56.59375 36.375 \nQ 56.59375 19.140625 48.40625 8.859375 \nQ 40.234375 -1.421875 26.421875 -1.421875 \nQ 22.703125 -1.421875 18.890625 -0.6875 \nQ 15.09375 0.046875 10.984375 1.515625 \nz\nM 30.609375 32.421875 \nQ 37.25 32.421875 41.125 36.953125 \nQ 45.015625 41.5 45.015625 49.421875 \nQ 45.015625 57.28125 41.125 61.84375 \nQ 37.25 66.40625 30.609375 66.40625 \nQ 23.96875 66.40625 20.09375 61.84375 \nQ 16.21875 57.28125 16.21875 49.421875 \nQ 16.21875 41.5 20.09375 36.953125 \nQ 23.96875 32.421875 30.609375 32.421875 \nz\n\" id=\"DejaVuSans-57\"/>\n      </defs>\n      <g style=\"fill:#262626;\" transform=\"translate(237.267001 233.775984)rotate(-30)scale(0.11 -0.11)\">\n       <use xlink:href=\"#DejaVuSans-50\"/>\n       <use x=\"63.623047\" xlink:href=\"#DejaVuSans-48\"/>\n       <use x=\"127.246094\" xlink:href=\"#DejaVuSans-48\"/>\n       <use x=\"190.869141\" xlink:href=\"#DejaVuSans-57\"/>\n      </g>\n     </g>\n    </g>\n    <g id=\"xtick_6\">\n     <g id=\"line2d_6\">\n      <path clip-path=\"url(#p7f6caff264)\" d=\"M 308.65634 203.04 \nL 308.65634 7.2 \n\" style=\"fill:none;stroke:#ffffff;stroke-linecap:round;\"/>\n     </g>\n     <g id=\"text_6\">\n      <!-- 2010 -->\n      <defs>\n       <path d=\"M 12.40625 8.296875 \nL 28.515625 8.296875 \nL 28.515625 63.921875 \nL 10.984375 60.40625 \nL 10.984375 69.390625 \nL 28.421875 72.90625 \nL 38.28125 72.90625 \nL 38.28125 8.296875 \nL 54.390625 8.296875 \nL 54.390625 0 \nL 12.40625 0 \nz\n\" id=\"DejaVuSans-49\"/>\n      </defs>\n      <g style=\"fill:#262626;\" transform=\"translate(283.268131 233.775984)rotate(-30)scale(0.11 -0.11)\">\n       <use xlink:href=\"#DejaVuSans-50\"/>\n       <use x=\"63.623047\" xlink:href=\"#DejaVuSans-48\"/>\n       <use x=\"127.246094\" xlink:href=\"#DejaVuSans-49\"/>\n       <use x=\"190.869141\" xlink:href=\"#DejaVuSans-48\"/>\n      </g>\n     </g>\n    </g>\n    <g id=\"xtick_7\">\n     <g id=\"line2d_7\">\n      <path clip-path=\"url(#p7f6caff264)\" d=\"M 354.657469 203.04 \nL 354.657469 7.2 \n\" style=\"fill:none;stroke:#ffffff;stroke-linecap:round;\"/>\n     </g>\n     <g id=\"text_7\">\n      <!-- 2011 -->\n      <g style=\"fill:#262626;\" transform=\"translate(329.26926 233.775984)rotate(-30)scale(0.11 -0.11)\">\n       <use xlink:href=\"#DejaVuSans-50\"/>\n       <use x=\"63.623047\" xlink:href=\"#DejaVuSans-48\"/>\n       <use x=\"127.246094\" xlink:href=\"#DejaVuSans-49\"/>\n       <use x=\"190.869141\" xlink:href=\"#DejaVuSans-49\"/>\n      </g>\n     </g>\n    </g>\n    <g id=\"text_8\">\n     <!-- DATA FINAL -->\n     <defs>\n      <path d=\"M 19.671875 64.796875 \nL 19.671875 8.109375 \nL 31.59375 8.109375 \nQ 46.6875 8.109375 53.6875 14.9375 \nQ 60.6875 21.78125 60.6875 36.53125 \nQ 60.6875 51.171875 53.6875 57.984375 \nQ 46.6875 64.796875 31.59375 64.796875 \nz\nM 9.8125 72.90625 \nL 30.078125 72.90625 \nQ 51.265625 72.90625 61.171875 64.09375 \nQ 71.09375 55.28125 71.09375 36.53125 \nQ 71.09375 17.671875 61.125 8.828125 \nQ 51.171875 0 30.078125 0 \nL 9.8125 0 \nz\n\" id=\"DejaVuSans-68\"/>\n      <path d=\"M 34.1875 63.1875 \nL 20.796875 26.90625 \nL 47.609375 26.90625 \nz\nM 28.609375 72.90625 \nL 39.796875 72.90625 \nL 67.578125 0 \nL 57.328125 0 \nL 50.6875 18.703125 \nL 17.828125 18.703125 \nL 11.1875 0 \nL 0.78125 0 \nz\n\" id=\"DejaVuSans-65\"/>\n      <path d=\"M -0.296875 72.90625 \nL 61.375 72.90625 \nL 61.375 64.59375 \nL 35.5 64.59375 \nL 35.5 0 \nL 25.59375 0 \nL 25.59375 64.59375 \nL -0.296875 64.59375 \nz\n\" id=\"DejaVuSans-84\"/>\n      <path id=\"DejaVuSans-32\"/>\n      <path d=\"M 9.8125 72.90625 \nL 51.703125 72.90625 \nL 51.703125 64.59375 \nL 19.671875 64.59375 \nL 19.671875 43.109375 \nL 48.578125 43.109375 \nL 48.578125 34.8125 \nL 19.671875 34.8125 \nL 19.671875 0 \nL 9.8125 0 \nz\n\" id=\"DejaVuSans-70\"/>\n      <path d=\"M 9.8125 72.90625 \nL 19.671875 72.90625 \nL 19.671875 0 \nL 9.8125 0 \nz\n\" id=\"DejaVuSans-73\"/>\n      <path d=\"M 9.8125 72.90625 \nL 23.09375 72.90625 \nL 55.421875 11.921875 \nL 55.421875 72.90625 \nL 64.984375 72.90625 \nL 64.984375 0 \nL 51.703125 0 \nL 19.390625 60.984375 \nL 19.390625 0 \nL 9.8125 0 \nz\n\" id=\"DejaVuSans-78\"/>\n      <path d=\"M 9.8125 72.90625 \nL 19.671875 72.90625 \nL 19.671875 8.296875 \nL 55.171875 8.296875 \nL 55.171875 0 \nL 9.8125 0 \nz\n\" id=\"DejaVuSans-76\"/>\n     </defs>\n     <g style=\"fill:#262626;\" transform=\"translate(167.070937 248.875277)scale(0.12 -0.12)\">\n      <use xlink:href=\"#DejaVuSans-68\"/>\n      <use x=\"75.251953\" xlink:href=\"#DejaVuSans-65\"/>\n      <use x=\"135.910156\" xlink:href=\"#DejaVuSans-84\"/>\n      <use x=\"189.244141\" xlink:href=\"#DejaVuSans-65\"/>\n      <use x=\"257.652344\" xlink:href=\"#DejaVuSans-32\"/>\n      <use x=\"289.439453\" xlink:href=\"#DejaVuSans-70\"/>\n      <use x=\"346.958984\" xlink:href=\"#DejaVuSans-73\"/>\n      <use x=\"376.451172\" xlink:href=\"#DejaVuSans-78\"/>\n      <use x=\"451.255859\" xlink:href=\"#DejaVuSans-65\"/>\n      <use x=\"519.664062\" xlink:href=\"#DejaVuSans-76\"/>\n     </g>\n    </g>\n   </g>\n   <g id=\"matplotlib.axis_2\">\n    <g id=\"ytick_1\">\n     <g id=\"line2d_8\">\n      <path clip-path=\"url(#p7f6caff264)\" d=\"M 34.193438 181.316026 \nL 368.993438 181.316026 \n\" style=\"fill:none;stroke:#ffffff;stroke-linecap:round;\"/>\n     </g>\n     <g id=\"text_9\">\n      <!-- 1.4 -->\n      <defs>\n       <path d=\"M 10.6875 12.40625 \nL 21 12.40625 \nL 21 0 \nL 10.6875 0 \nz\n\" id=\"DejaVuSans-46\"/>\n       <path d=\"M 37.796875 64.3125 \nL 12.890625 25.390625 \nL 37.796875 25.390625 \nz\nM 35.203125 72.90625 \nL 47.609375 72.90625 \nL 47.609375 25.390625 \nL 58.015625 25.390625 \nL 58.015625 17.1875 \nL 47.609375 17.1875 \nL 47.609375 0 \nL 37.796875 0 \nL 37.796875 17.1875 \nL 4.890625 17.1875 \nL 4.890625 26.703125 \nz\n\" id=\"DejaVuSans-52\"/>\n      </defs>\n      <g style=\"fill:#262626;\" transform=\"translate(7.2 185.495167)scale(0.11 -0.11)\">\n       <use xlink:href=\"#DejaVuSans-49\"/>\n       <use x=\"63.623047\" xlink:href=\"#DejaVuSans-46\"/>\n       <use x=\"95.410156\" xlink:href=\"#DejaVuSans-52\"/>\n      </g>\n     </g>\n    </g>\n    <g id=\"ytick_2\">\n     <g id=\"line2d_9\">\n      <path clip-path=\"url(#p7f6caff264)\" d=\"M 34.193438 151.839807 \nL 368.993438 151.839807 \n\" style=\"fill:none;stroke:#ffffff;stroke-linecap:round;\"/>\n     </g>\n     <g id=\"text_10\">\n      <!-- 1.6 -->\n      <g style=\"fill:#262626;\" transform=\"translate(7.2 156.018948)scale(0.11 -0.11)\">\n       <use xlink:href=\"#DejaVuSans-49\"/>\n       <use x=\"63.623047\" xlink:href=\"#DejaVuSans-46\"/>\n       <use x=\"95.410156\" xlink:href=\"#DejaVuSans-54\"/>\n      </g>\n     </g>\n    </g>\n    <g id=\"ytick_3\">\n     <g id=\"line2d_10\">\n      <path clip-path=\"url(#p7f6caff264)\" d=\"M 34.193438 122.363588 \nL 368.993438 122.363588 \n\" style=\"fill:none;stroke:#ffffff;stroke-linecap:round;\"/>\n     </g>\n     <g id=\"text_11\">\n      <!-- 1.8 -->\n      <g style=\"fill:#262626;\" transform=\"translate(7.2 126.542729)scale(0.11 -0.11)\">\n       <use xlink:href=\"#DejaVuSans-49\"/>\n       <use x=\"63.623047\" xlink:href=\"#DejaVuSans-46\"/>\n       <use x=\"95.410156\" xlink:href=\"#DejaVuSans-56\"/>\n      </g>\n     </g>\n    </g>\n    <g id=\"ytick_4\">\n     <g id=\"line2d_11\">\n      <path clip-path=\"url(#p7f6caff264)\" d=\"M 34.193438 92.887369 \nL 368.993438 92.887369 \n\" style=\"fill:none;stroke:#ffffff;stroke-linecap:round;\"/>\n     </g>\n     <g id=\"text_12\">\n      <!-- 2.0 -->\n      <g style=\"fill:#262626;\" transform=\"translate(7.2 97.06651)scale(0.11 -0.11)\">\n       <use xlink:href=\"#DejaVuSans-50\"/>\n       <use x=\"63.623047\" xlink:href=\"#DejaVuSans-46\"/>\n       <use x=\"95.410156\" xlink:href=\"#DejaVuSans-48\"/>\n      </g>\n     </g>\n    </g>\n    <g id=\"ytick_5\">\n     <g id=\"line2d_12\">\n      <path clip-path=\"url(#p7f6caff264)\" d=\"M 34.193438 63.41115 \nL 368.993438 63.41115 \n\" style=\"fill:none;stroke:#ffffff;stroke-linecap:round;\"/>\n     </g>\n     <g id=\"text_13\">\n      <!-- 2.2 -->\n      <g style=\"fill:#262626;\" transform=\"translate(7.2 67.590291)scale(0.11 -0.11)\">\n       <use xlink:href=\"#DejaVuSans-50\"/>\n       <use x=\"63.623047\" xlink:href=\"#DejaVuSans-46\"/>\n       <use x=\"95.410156\" xlink:href=\"#DejaVuSans-50\"/>\n      </g>\n     </g>\n    </g>\n    <g id=\"ytick_6\">\n     <g id=\"line2d_13\">\n      <path clip-path=\"url(#p7f6caff264)\" d=\"M 34.193438 33.934931 \nL 368.993438 33.934931 \n\" style=\"fill:none;stroke:#ffffff;stroke-linecap:round;\"/>\n     </g>\n     <g id=\"text_14\">\n      <!-- 2.4 -->\n      <g style=\"fill:#262626;\" transform=\"translate(7.2 38.114071)scale(0.11 -0.11)\">\n       <use xlink:href=\"#DejaVuSans-50\"/>\n       <use x=\"63.623047\" xlink:href=\"#DejaVuSans-46\"/>\n       <use x=\"95.410156\" xlink:href=\"#DejaVuSans-52\"/>\n      </g>\n     </g>\n    </g>\n   </g>\n   <g id=\"line2d_14\">\n    <path clip-path=\"url(#p7f6caff264)\" d=\"M 49.411619 174.389115 \nL 49.411619 193.990801 \nL 49.411619 133.711933 \nL 49.411619 181.610789 \nL 50.293833 172.473161 \nL 50.293833 193.990801 \nL 50.293833 135.038362 \nL 50.293833 181.463408 \nL 51.176046 174.831258 \nL 51.176046 193.84342 \nL 51.176046 134.890981 \nL 51.176046 181.168645 \nL 52.05826 172.473161 \nL 52.05826 194.138182 \nL 52.05826 135.038362 \nL 52.05826 180.873883 \nL 52.940473 175.420783 \nL 52.940473 193.696039 \nL 52.940473 135.185744 \nL 52.940473 180.726502 \nL 53.822687 172.620542 \nL 53.822687 173.210066 \nL 53.822687 134.7436 \nL 53.822687 190.306273 \nL 53.822687 175.568164 \nL 54.7049 161.419579 \nL 54.7049 162.89339 \nL 54.7049 121.479302 \nL 54.7049 178.810548 \nL 54.7049 165.398868 \nL 55.587113 160.24053 \nL 55.587113 179.10531 \nL 55.587113 121.479302 \nL 55.587113 165.398868 \nL 56.469327 161.861722 \nL 56.469327 178.810548 \nL 56.469327 118.973823 \nL 56.469327 165.69363 \nL 57.35154 162.746008 \nL 57.35154 179.10531 \nL 57.35154 117.057869 \nL 57.35154 165.398868 \nL 58.233754 164.219819 \nL 58.233754 115.731439 \nL 58.233754 179.10531 \nL 58.233754 165.398868 \nL 59.115967 158.619338 \nL 59.115967 179.10531 \nL 59.115967 115.289296 \nL 59.115967 165.841011 \nL 59.998181 160.387911 \nL 59.998181 178.663167 \nL 59.998181 115.436677 \nL 59.998181 165.398868 \nL 60.880394 158.766719 \nL 60.880394 178.663167 \nL 60.880394 113.520722 \nL 60.880394 165.104106 \nL 61.762607 161.714341 \nL 61.762607 178.663167 \nL 61.762607 117.942155 \nL 61.762607 165.104106 \nL 62.644821 158.766719 \nL 62.644821 177.631499 \nL 62.644821 116.910488 \nL 62.644821 165.104106 \nL 63.527034 161.714341 \nL 63.527034 178.957929 \nL 63.527034 118.826442 \nL 63.527034 165.251487 \nL 64.409248 159.503624 \nL 64.409248 179.10531 \nL 64.409248 116.320963 \nL 64.409248 165.251487 \nL 65.291461 162.009103 \nL 65.291461 115.436677 \nL 65.291461 178.957929 \nL 65.291461 165.251487 \nL 66.173675 159.651005 \nL 66.173675 179.10531 \nL 66.173675 115.141915 \nL 66.173675 165.251487 \nL 67.055888 162.598627 \nL 67.055888 115.141915 \nL 67.055888 178.810548 \nL 67.055888 165.398868 \nL 67.938102 160.093149 \nL 67.938102 178.957929 \nL 67.938102 114.55239 \nL 67.938102 165.251487 \nL 68.820315 163.188152 \nL 68.820315 115.141915 \nL 68.820315 178.957929 \nL 68.820315 165.398868 \nL 69.702528 151.692426 \nL 69.702528 151.839807 \nL 69.702528 108.362384 \nL 69.702528 171.294112 \nL 69.702528 155.229573 \nL 70.584742 151.102902 \nL 70.584742 104.825238 \nL 70.584742 168.788633 \nL 70.584742 154.640048 \nL 71.466955 151.545045 \nL 71.466955 170.99935 \nL 71.466955 115.436677 \nL 71.466955 154.345286 \nL 72.349169 149.186948 \nL 72.349169 169.820301 \nL 72.349169 115.289296 \nL 72.349169 153.313618 \nL 73.231382 148.892185 \nL 73.231382 171.146731 \nL 73.231382 115.436677 \nL 73.231382 153.018856 \nL 74.113596 148.450042 \nL 74.113596 169.820301 \nL 74.113596 114.994533 \nL 74.113596 153.313618 \nL 74.995809 136.954317 \nL 74.995809 99.814281 \nL 74.995809 151.692426 \nL 74.995809 137.838603 \nL 75.878022 137.985984 \nL 75.878022 96.571896 \nL 75.878022 152.281951 \nL 75.878022 137.985984 \nL 76.760236 137.39646 \nL 76.760236 95.982372 \nL 76.760236 152.13457 \nL 76.760236 137.39646 \nL 77.642449 137.838603 \nL 77.642449 95.834991 \nL 77.642449 152.281951 \nL 77.642449 137.691222 \nL 78.524663 138.280747 \nL 78.524663 95.982372 \nL 78.524663 153.018856 \nL 78.524663 137.691222 \nL 79.406876 139.607176 \nL 79.406876 95.68761 \nL 79.406876 151.839807 \nL 79.406876 137.985984 \nL 80.28909 139.459795 \nL 80.28909 96.424515 \nL 80.28909 149.039567 \nL 80.28909 137.691222 \nL 81.171303 141.817893 \nL 81.171303 96.571896 \nL 81.171303 149.039567 \nL 81.171303 137.838603 \nL 82.053517 139.459795 \nL 82.053517 94.213799 \nL 82.053517 149.186948 \nL 82.053517 137.691222 \nL 82.93573 136.217411 \nL 82.93573 149.039567 \nL 82.93573 94.066418 \nL 82.93573 137.985984 \nL 83.817943 135.775268 \nL 83.817943 149.776472 \nL 83.817943 94.655942 \nL 83.817943 138.428128 \nL 84.700157 137.249079 \nL 84.700157 149.629091 \nL 84.700157 93.476893 \nL 84.700157 138.428128 \nL 85.58237 135.480506 \nL 85.58237 149.186948 \nL 85.58237 93.624275 \nL 85.58237 138.428128 \nL 86.464584 137.985984 \nL 86.464584 149.629091 \nL 86.464584 93.624275 \nL 86.464584 138.72289 \nL 87.346797 136.217411 \nL 87.346797 150.365996 \nL 87.346797 93.329512 \nL 87.346797 138.72289 \nL 88.229011 139.165033 \nL 88.229011 93.329512 \nL 88.229011 150.218615 \nL 88.229011 138.72289 \nL 89.111224 136.806936 \nL 89.111224 150.513377 \nL 89.111224 93.329512 \nL 89.111224 138.72289 \nL 89.993437 136.659554 \nL 89.993437 150.365996 \nL 89.993437 93.771656 \nL 89.993437 138.72289 \nL 90.875651 136.954317 \nL 90.875651 151.250283 \nL 90.875651 93.624275 \nL 90.875651 138.870271 \nL 91.757864 140.196701 \nL 91.757864 94.213799 \nL 91.757864 151.692426 \nL 91.757864 139.312414 \nL 92.640078 136.659554 \nL 92.640078 151.987188 \nL 92.640078 93.624275 \nL 92.640078 139.017652 \nL 93.522291 137.691222 \nL 93.522291 151.839807 \nL 93.522291 93.624275 \nL 93.522291 138.870271 \nL 94.404505 136.806936 \nL 94.404505 151.250283 \nL 94.404505 92.003082 \nL 94.404505 138.870271 \nL 95.286718 137.985984 \nL 95.286718 147.860518 \nL 95.286718 92.297845 \nL 95.286718 136.217411 \nL 96.168932 136.659554 \nL 96.168932 148.15528 \nL 96.168932 92.887369 \nL 96.168932 136.512173 \nL 97.051145 138.428128 \nL 97.051145 148.007899 \nL 97.051145 92.887369 \nL 97.051145 135.922649 \nL 97.933358 136.954317 \nL 97.933358 148.007899 \nL 97.933358 90.234509 \nL 97.933358 136.07003 \nL 98.815572 139.017652 \nL 98.815572 88.613317 \nL 98.815572 148.450042 \nL 98.815572 135.775268 \nL 99.697785 137.101698 \nL 99.697785 148.302661 \nL 99.697785 87.286887 \nL 99.697785 135.922649 \nL 100.579999 139.459795 \nL 100.579999 87.139506 \nL 100.579999 148.450042 \nL 100.579999 135.627887 \nL 101.462212 137.249079 \nL 101.462212 149.629091 \nL 101.462212 87.139506 \nL 101.462212 135.922649 \nL 102.344426 139.754557 \nL 102.344426 139.607176 \nL 102.344426 86.992125 \nL 102.344426 148.744804 \nL 102.344426 135.922649 \nL 103.226639 137.249079 \nL 103.226639 148.15528 \nL 103.226639 87.286887 \nL 103.226639 135.922649 \nL 104.108853 134.448838 \nL 104.108853 148.597423 \nL 104.108853 87.58165 \nL 104.108853 135.775268 \nL 104.991066 132.975027 \nL 104.991066 149.039567 \nL 104.991066 87.58165 \nL 104.991066 136.07003 \nL 105.873279 134.890981 \nL 105.873279 149.186948 \nL 105.873279 87.58165 \nL 105.873279 136.07003 \nL 106.755493 133.859314 \nL 106.755493 149.186948 \nL 106.755493 87.58165 \nL 106.755493 135.775268 \nL 109.402133 138.280747 \nL 109.402133 147.418374 \nL 109.402133 91.560939 \nL 109.402133 136.07003 \nL 110.284347 137.985984 \nL 110.284347 148.15528 \nL 110.284347 91.413558 \nL 110.284347 135.480506 \nL 111.16656 120.005491 \nL 111.16656 77.117592 \nL 111.16656 127.227164 \nL 111.16656 111.89953 \nL 112.048773 112.783817 \nL 112.048773 122.65835 \nL 112.048773 57.810668 \nL 112.048773 108.362384 \nL 112.930987 112.783817 \nL 112.930987 127.816689 \nL 112.930987 56.926382 \nL 112.930987 108.951908 \nL 113.8132 112.194293 \nL 113.8132 122.510969 \nL 113.8132 56.779001 \nL 113.8132 108.509765 \nL 114.695414 111.604768 \nL 114.695414 120.300253 \nL 114.695414 54.420903 \nL 114.695414 108.215003 \nL 115.577627 109.688814 \nL 115.577627 120.889777 \nL 115.577627 55.452571 \nL 115.577627 108.657146 \nL 116.459841 112.489055 \nL 116.459841 120.005491 \nL 116.459841 50.736376 \nL 116.459841 109.541433 \nL 117.342054 112.636436 \nL 117.342054 119.415966 \nL 117.342054 50.736376 \nL 117.342054 107.330716 \nL 118.224268 111.310006 \nL 118.224268 119.710728 \nL 118.224268 50.883757 \nL 118.224268 107.035954 \nL 119.106481 112.194293 \nL 119.106481 119.710728 \nL 119.106481 49.852089 \nL 119.106481 107.478098 \nL 119.988694 112.636436 \nL 119.988694 119.121204 \nL 119.988694 49.99947 \nL 119.988694 108.067622 \nL 120.870908 110.867863 \nL 120.870908 119.710728 \nL 120.870908 49.557327 \nL 120.870908 108.215003 \nL 121.753121 111.604768 \nL 121.753121 119.121204 \nL 121.753121 49.409946 \nL 121.753121 106.741192 \nL 122.635335 112.046911 \nL 122.635335 119.563347 \nL 122.635335 49.704708 \nL 122.635335 107.183335 \nL 123.517548 111.015244 \nL 123.517548 119.268585 \nL 123.517548 49.852089 \nL 123.517548 108.067622 \nL 124.399762 110.573101 \nL 124.399762 119.268585 \nL 124.399762 49.557327 \nL 124.399762 107.920241 \nL 125.281975 111.015244 \nL 125.281975 119.121204 \nL 125.281975 47.936135 \nL 125.281975 107.478098 \nL 126.164188 110.573101 \nL 126.164188 119.268585 \nL 126.164188 46.314943 \nL 126.164188 106.151668 \nL 127.046402 112.931198 \nL 127.046402 119.121204 \nL 127.046402 48.083516 \nL 127.046402 106.593811 \nL 127.928615 111.457387 \nL 127.928615 119.121204 \nL 127.928615 47.34661 \nL 127.928615 106.888573 \nL 128.810829 111.752149 \nL 128.810829 119.121204 \nL 128.810829 47.493992 \nL 128.810829 106.741192 \nL 129.693042 111.310006 \nL 129.693042 119.121204 \nL 129.693042 49.704708 \nL 129.693042 106.888573 \nL 130.575256 110.573101 \nL 130.575256 118.973823 \nL 130.575256 49.704708 \nL 130.575256 106.299049 \nL 131.457469 110.720482 \nL 131.457469 119.121204 \nL 131.457469 49.704708 \nL 131.457469 106.299049 \nL 132.339683 111.310006 \nL 132.339683 120.005491 \nL 132.339683 49.852089 \nL 132.339683 106.299049 \nL 133.221896 110.573101 \nL 133.221896 118.679061 \nL 133.221896 49.262565 \nL 133.221896 106.593811 \nL 134.104109 111.89953 \nL 134.104109 118.236918 \nL 134.104109 49.409946 \nL 134.104109 106.888573 \nL 134.986323 111.604768 \nL 134.986323 118.679061 \nL 134.986323 48.525659 \nL 134.986323 107.183335 \nL 135.868536 111.310006 \nL 135.868536 118.53168 \nL 135.868536 48.67304 \nL 135.868536 106.888573 \nL 136.75075 111.162625 \nL 136.75075 118.53168 \nL 136.75075 48.67304 \nL 136.75075 107.625479 \nL 137.632963 111.604768 \nL 137.632963 118.236918 \nL 137.632963 48.525659 \nL 137.632963 107.183335 \nL 138.515177 111.015244 \nL 138.515177 118.53168 \nL 138.515177 48.967803 \nL 138.515177 107.478098 \nL 139.39739 111.310006 \nL 139.39739 118.384299 \nL 139.39739 48.967803 \nL 139.39739 107.183335 \nL 140.279604 111.457387 \nL 140.279604 119.121204 \nL 140.279604 48.967803 \nL 140.279604 107.625479 \nL 141.161817 112.783817 \nL 141.161817 118.679061 \nL 141.161817 49.115184 \nL 141.161817 107.330716 \nL 142.04403 112.046911 \nL 142.04403 118.679061 \nL 142.04403 48.820421 \nL 142.04403 107.77286 \nL 142.926244 111.604768 \nL 142.926244 118.679061 \nL 142.926244 49.115184 \nL 142.926244 107.183335 \nL 143.808457 111.604768 \nL 143.808457 119.121204 \nL 143.808457 49.115184 \nL 143.808457 108.362384 \nL 144.690671 113.962866 \nL 144.690671 118.384299 \nL 144.690671 49.704708 \nL 144.690671 107.625479 \nL 145.572884 115.436677 \nL 145.572884 49.409946 \nL 145.572884 119.563347 \nL 145.572884 108.067622 \nL 146.455098 115.141915 \nL 146.455098 114.847152 \nL 146.455098 49.115184 \nL 146.455098 118.826442 \nL 146.455098 107.920241 \nL 147.337311 114.994533 \nL 147.337311 114.994533 \nL 147.337311 49.262565 \nL 147.337311 119.268585 \nL 147.337311 108.509765 \nL 148.219524 114.257628 \nL 148.219524 49.409946 \nL 148.219524 119.121204 \nL 148.219524 108.067622 \nL 149.101738 106.593811 \nL 149.101738 119.710728 \nL 149.101738 49.704708 \nL 149.101738 108.951908 \nL 149.983951 106.151668 \nL 149.983951 119.85811 \nL 149.983951 49.557327 \nL 149.983951 108.362384 \nL 150.866165 104.235713 \nL 150.866165 119.85811 \nL 150.866165 49.557327 \nL 150.866165 108.951908 \nL 151.748378 105.414762 \nL 151.748378 119.563347 \nL 151.748378 49.704708 \nL 151.748378 108.362384 \nL 152.630592 106.004287 \nL 152.630592 119.268585 \nL 152.630592 49.704708 \nL 152.630592 108.804527 \nL 153.512805 109.246671 \nL 153.512805 120.152872 \nL 153.512805 49.262565 \nL 153.512805 107.920241 \nL 154.395019 109.394052 \nL 154.395019 119.85811 \nL 154.395019 49.409946 \nL 154.395019 108.657146 \nL 155.277232 109.983576 \nL 155.277232 119.85811 \nL 155.277232 49.409946 \nL 155.277232 108.067622 \nL 156.159445 110.425719 \nL 156.159445 120.447634 \nL 156.159445 49.704708 \nL 156.159445 109.246671 \nL 157.041659 111.604768 \nL 157.041659 120.300253 \nL 157.041659 49.557327 \nL 157.041659 108.215003 \nL 157.923872 111.457387 \nL 157.923872 120.595015 \nL 157.923872 49.704708 \nL 157.923872 109.541433 \nL 158.806086 111.752149 \nL 158.806086 120.742396 \nL 158.806086 49.557327 \nL 158.806086 109.09929 \nL 159.688299 110.278338 \nL 159.688299 120.889777 \nL 159.688299 49.99947 \nL 159.688299 109.246671 \nL 160.570513 112.636436 \nL 160.570513 120.742396 \nL 160.570513 50.146851 \nL 160.570513 108.804527 \nL 161.452726 112.783817 \nL 161.452726 121.184539 \nL 161.452726 50.441613 \nL 161.452726 109.09929 \nL 162.334939 111.604768 \nL 162.334939 121.184539 \nL 162.334939 50.588995 \nL 162.334939 108.215003 \nL 163.217153 111.752149 \nL 163.217153 121.921445 \nL 163.217153 50.736376 \nL 163.217153 108.804527 \nL 164.099366 109.688814 \nL 164.099366 120.889777 \nL 164.099366 50.294232 \nL 164.099366 107.77286 \nL 164.98158 109.246671 \nL 164.98158 121.037158 \nL 164.98158 50.588995 \nL 164.98158 108.362384 \nL 165.863793 106.888573 \nL 165.863793 121.331921 \nL 165.863793 50.588995 \nL 165.863793 108.215003 \nL 166.746007 109.836195 \nL 166.746007 121.331921 \nL 166.746007 50.736376 \nL 166.746007 108.509765 \nL 167.62822 111.015244 \nL 167.62822 120.889777 \nL 167.62822 50.736376 \nL 167.62822 108.804527 \nL 168.510434 105.709524 \nL 168.510434 121.184539 \nL 168.510434 50.441613 \nL 168.510434 109.09929 \nL 169.392647 107.625479 \nL 169.392647 120.742396 \nL 169.392647 50.883757 \nL 169.392647 108.804527 \nL 170.27486 109.394052 \nL 170.27486 121.626683 \nL 170.27486 51.178519 \nL 170.27486 109.246671 \nL 171.157074 109.836195 \nL 171.157074 121.331921 \nL 171.157074 51.473281 \nL 171.157074 108.657146 \nL 172.039287 108.804527 \nL 172.039287 121.037158 \nL 172.039287 51.620662 \nL 172.039287 109.246671 \nL 172.921501 109.836195 \nL 172.921501 120.889777 \nL 172.921501 51.620662 \nL 172.921501 109.836195 \nL 173.803714 111.89953 \nL 173.803714 120.742396 \nL 173.803714 52.062806 \nL 173.803714 108.804527 \nL 174.685928 111.310006 \nL 174.685928 121.037158 \nL 174.685928 51.915424 \nL 174.685928 108.067622 \nL 175.568141 109.541433 \nL 175.568141 121.037158 \nL 175.568141 52.062806 \nL 175.568141 108.657146 \nL 176.450354 107.77286 \nL 176.450354 121.184539 \nL 176.450354 52.357568 \nL 176.450354 109.541433 \nL 177.332568 109.836195 \nL 177.332568 121.037158 \nL 177.332568 51.915424 \nL 177.332568 109.394052 \nL 178.214781 111.89953 \nL 178.214781 120.595015 \nL 178.214781 52.210187 \nL 178.214781 110.278338 \nL 179.096995 111.89953 \nL 179.096995 120.742396 \nL 179.096995 52.210187 \nL 179.096995 110.130957 \nL 179.979208 110.867863 \nL 179.979208 120.742396 \nL 179.979208 52.062806 \nL 179.979208 110.573101 \nL 180.861422 110.130957 \nL 180.861422 121.184539 \nL 180.861422 51.178519 \nL 180.861422 109.246671 \nL 181.743635 110.425719 \nL 181.743635 121.184539 \nL 181.743635 50.883757 \nL 181.743635 109.983576 \nL 182.625849 111.015244 \nL 182.625849 121.037158 \nL 182.625849 50.736376 \nL 182.625849 109.983576 \nL 183.508062 109.983576 \nL 183.508062 120.595015 \nL 183.508062 50.588995 \nL 183.508062 109.836195 \nL 184.390275 108.362384 \nL 184.390275 120.595015 \nL 184.390275 50.588995 \nL 184.390275 109.836195 \nL 185.272489 108.657146 \nL 185.272489 120.447634 \nL 185.272489 52.062806 \nL 185.272489 109.688814 \nL 186.154702 108.657146 \nL 186.154702 120.595015 \nL 186.154702 52.062806 \nL 186.154702 109.688814 \nL 187.036916 108.067622 \nL 187.036916 120.152872 \nL 187.036916 52.062806 \nL 187.036916 109.836195 \nL 187.919129 106.44643 \nL 187.919129 120.595015 \nL 187.919129 53.094473 \nL 187.919129 109.836195 \nL 188.801343 106.44643 \nL 188.801343 120.300253 \nL 188.801343 52.210187 \nL 188.801343 109.983576 \nL 189.683556 115.87882 \nL 189.683556 115.289296 \nL 189.683556 52.947092 \nL 189.683556 120.595015 \nL 189.683556 109.394052 \nL 190.56577 113.668104 \nL 190.56577 120.005491 \nL 190.56577 52.504949 \nL 190.56577 109.09929 \nL 191.447983 113.22596 \nL 191.447983 120.447634 \nL 191.447983 52.65233 \nL 191.447983 109.394052 \nL 192.330196 116.468344 \nL 192.330196 52.210187 \nL 192.330196 120.447634 \nL 192.330196 109.983576 \nL 193.21241 114.994533 \nL 193.21241 120.595015 \nL 193.21241 52.65233 \nL 193.21241 110.425719 \nL 194.094623 117.057869 \nL 194.094623 52.65233 \nL 194.094623 120.742396 \nL 194.094623 109.836195 \nL 194.976837 114.110247 \nL 194.976837 121.184539 \nL 194.976837 52.947092 \nL 194.976837 110.130957 \nL 195.85905 109.983576 \nL 195.85905 120.447634 \nL 195.85905 52.799711 \nL 195.85905 110.278338 \nL 196.741264 113.373341 \nL 196.741264 121.037158 \nL 196.741264 52.210187 \nL 196.741264 109.983576 \nL 197.623477 109.394052 \nL 197.623477 120.595015 \nL 197.623477 61.495196 \nL 197.623477 110.720482 \nL 198.50569 110.425719 \nL 198.50569 119.85811 \nL 198.50569 51.3259 \nL 198.50569 109.836195 \nL 199.387904 110.720482 \nL 199.387904 120.595015 \nL 199.387904 50.441613 \nL 199.387904 110.278338 \nL 200.270117 110.130957 \nL 200.270117 120.005491 \nL 200.270117 50.736376 \nL 200.270117 110.425719 \nL 201.152331 110.278338 \nL 201.152331 120.889777 \nL 201.152331 59.43186 \nL 201.152331 110.720482 \nL 202.034544 112.341674 \nL 202.034544 120.447634 \nL 202.034544 50.736376 \nL 202.034544 110.130957 \nL 202.916758 114.110247 \nL 202.916758 121.331921 \nL 202.916758 50.588995 \nL 202.916758 111.015244 \nL 203.798971 113.22596 \nL 203.798971 120.742396 \nL 203.798971 59.579241 \nL 203.798971 110.278338 \nL 204.681185 115.87882 \nL 204.681185 61.789958 \nL 204.681185 120.447634 \nL 204.681185 110.130957 \nL 205.563398 116.173582 \nL 205.563398 115.436677 \nL 205.563398 59.579241 \nL 205.563398 120.595015 \nL 205.563398 110.130957 \nL 206.445611 116.026201 \nL 206.445611 59.726623 \nL 206.445611 121.184539 \nL 206.445611 110.425719 \nL 207.327825 114.257628 \nL 207.327825 120.595015 \nL 207.327825 62.08472 \nL 207.327825 110.573101 \nL 208.210038 115.141915 \nL 208.210038 120.889777 \nL 208.210038 61.937339 \nL 208.210038 110.573101 \nL 209.092252 116.026201 \nL 209.092252 115.584058 \nL 209.092252 61.642577 \nL 209.092252 120.742396 \nL 209.092252 109.983576 \nL 209.974465 115.87882 \nL 209.974465 115.289296 \nL 209.974465 61.495196 \nL 209.974465 120.447634 \nL 209.974465 110.573101 \nL 210.856679 115.87882 \nL 210.856679 62.526863 \nL 210.856679 121.184539 \nL 210.856679 110.425719 \nL 211.738892 114.847152 \nL 211.738892 52.504949 \nL 211.738892 120.152872 \nL 211.738892 110.130957 \nL 212.621105 116.026201 \nL 212.621105 115.87882 \nL 212.621105 52.062806 \nL 212.621105 120.742396 \nL 212.621105 109.836195 \nL 213.503319 113.668104 \nL 213.503319 120.152872 \nL 213.503319 51.768043 \nL 213.503319 109.836195 \nL 214.385532 114.55239 \nL 214.385532 114.55239 \nL 214.385532 52.210187 \nL 214.385532 120.300253 \nL 214.385532 109.983576 \nL 215.267746 104.825238 \nL 215.267746 119.710728 \nL 215.267746 50.441613 \nL 215.267746 110.130957 \nL 216.149959 106.44643 \nL 216.149959 119.710728 \nL 216.149959 52.210187 \nL 216.149959 109.836195 \nL 217.032173 107.035954 \nL 217.032173 119.563347 \nL 217.032173 53.831379 \nL 217.032173 109.541433 \nL 217.914386 111.752149 \nL 217.914386 118.679061 \nL 217.914386 51.473281 \nL 217.914386 109.836195 \nL 218.7966 112.783817 \nL 218.7966 118.236918 \nL 218.7966 51.473281 \nL 218.7966 108.951908 \nL 219.678813 112.046911 \nL 219.678813 118.384299 \nL 219.678813 51.3259 \nL 219.678813 108.067622 \nL 220.561026 110.867863 \nL 220.561026 118.089536 \nL 220.561026 51.3259 \nL 220.561026 108.951908 \nL 221.44324 111.457387 \nL 221.44324 118.384299 \nL 221.44324 51.3259 \nL 221.44324 108.657146 \nL 222.325453 114.110247 \nL 222.325453 51.473281 \nL 222.325453 118.089536 \nL 222.325453 108.509765 \nL 223.207667 113.815485 \nL 223.207667 113.815485 \nL 223.207667 51.178519 \nL 223.207667 117.942155 \nL 223.207667 108.215003 \nL 224.08988 112.341674 \nL 224.08988 118.089536 \nL 224.08988 51.3259 \nL 224.08988 108.362384 \nL 224.972094 113.22596 \nL 224.972094 113.078579 \nL 224.972094 51.620662 \nL 224.972094 117.500012 \nL 224.972094 108.509765 \nL 225.854307 112.931198 \nL 225.854307 51.473281 \nL 225.854307 117.942155 \nL 225.854307 108.067622 \nL 226.736521 113.22596 \nL 226.736521 112.636436 \nL 226.736521 51.3259 \nL 226.736521 117.647393 \nL 226.736521 108.215003 \nL 227.618734 113.962866 \nL 227.618734 113.668104 \nL 227.618734 51.915424 \nL 227.618734 117.647393 \nL 227.618734 108.215003 \nL 228.500947 112.636436 \nL 228.500947 117.647393 \nL 228.500947 51.031138 \nL 228.500947 107.625479 \nL 229.383161 112.931198 \nL 229.383161 51.031138 \nL 229.383161 117.942155 \nL 229.383161 108.067622 \nL 230.265374 114.405009 \nL 230.265374 51.3259 \nL 230.265374 117.057869 \nL 230.265374 107.77286 \nL 231.147588 113.520722 \nL 231.147588 113.22596 \nL 231.147588 51.031138 \nL 231.147588 117.794774 \nL 231.147588 108.215003 \nL 232.029801 113.668104 \nL 232.029801 51.178519 \nL 232.029801 116.910488 \nL 232.029801 107.478098 \nL 232.912015 95.540229 \nL 232.912015 26.713257 \nL 232.912015 97.308802 \nL 232.912015 90.38189 \nL 233.794228 88.908079 \nL 233.794228 94.213799 \nL 233.794228 26.271114 \nL 233.794228 83.307598 \nL 234.676441 88.171174 \nL 234.676441 94.36118 \nL 234.676441 25.976352 \nL 234.676441 83.749741 \nL 235.558655 89.792366 \nL 235.558655 94.066418 \nL 235.558655 25.386827 \nL 235.558655 83.60236 \nL 236.440868 88.613317 \nL 236.440868 93.919037 \nL 236.440868 24.649922 \nL 236.440868 82.423311 \nL 237.323082 88.908079 \nL 237.323082 94.066418 \nL 237.323082 25.386827 \nL 237.323082 82.570692 \nL 238.205295 87.58165 \nL 238.205295 94.066418 \nL 238.205295 24.944684 \nL 238.205295 81.833787 \nL 239.087509 86.549982 \nL 239.087509 94.066418 \nL 239.087509 25.092065 \nL 239.087509 81.833787 \nL 239.969722 87.434269 \nL 239.969722 93.182131 \nL 239.969722 25.386827 \nL 239.969722 81.539025 \nL 240.851936 78.001878 \nL 240.851936 87.58165 \nL 240.851936 23.470873 \nL 240.851936 76.233305 \nL 241.734149 73.285683 \nL 241.734149 86.697363 \nL 241.734149 20.965394 \nL 241.734149 74.464732 \nL 242.616362 76.970211 \nL 242.616362 84.339266 \nL 242.616362 21.849681 \nL 242.616362 74.16997 \nL 243.498576 76.82283 \nL 243.498576 84.044503 \nL 243.498576 19.196821 \nL 243.498576 74.16997 \nL 244.380789 71.959253 \nL 244.380789 84.191884 \nL 244.380789 18.607297 \nL 244.380789 74.022589 \nL 245.263003 73.138302 \nL 245.263003 83.897122 \nL 245.263003 19.04944 \nL 245.263003 72.990921 \nL 246.145216 79.770452 \nL 246.145216 84.486647 \nL 246.145216 18.459916 \nL 246.145216 72.401397 \nL 247.02743 81.686406 \nL 247.02743 84.044503 \nL 247.02743 18.312535 \nL 247.02743 73.875208 \nL 247.909643 75.4964 \nL 247.909643 83.749741 \nL 247.909643 18.459916 \nL 247.909643 72.84354 \nL 248.791856 75.643781 \nL 248.791856 84.044503 \nL 248.791856 18.459916 \nL 248.791856 72.548778 \nL 249.67407 79.62307 \nL 249.67407 83.60236 \nL 249.67407 18.312535 \nL 249.67407 73.433064 \nL 250.556283 77.559735 \nL 250.556283 83.749741 \nL 250.556283 18.312535 \nL 250.556283 72.696159 \nL 251.438497 76.085924 \nL 251.438497 83.749741 \nL 251.438497 18.459916 \nL 251.438497 72.106635 \nL 252.32071 79.475689 \nL 252.32071 84.044503 \nL 252.32071 18.165154 \nL 252.32071 72.548778 \nL 253.202924 74.16997 \nL 253.202924 83.60236 \nL 253.202924 18.312535 \nL 253.202924 71.959253 \nL 254.085137 72.548778 \nL 254.085137 84.191884 \nL 254.085137 18.459916 \nL 254.085137 72.401397 \nL 254.967351 78.591403 \nL 254.967351 83.454979 \nL 254.967351 18.459916 \nL 254.967351 72.548778 \nL 255.849564 75.4964 \nL 255.849564 83.454979 \nL 255.849564 18.902059 \nL 255.849564 72.401397 \nL 256.731777 76.085924 \nL 256.731777 83.60236 \nL 256.731777 19.04944 \nL 256.731777 71.959253 \nL 257.613991 77.117592 \nL 257.613991 83.897122 \nL 257.613991 18.607297 \nL 257.613991 71.811872 \nL 258.496204 76.085924 \nL 258.496204 83.749741 \nL 258.496204 18.607297 \nL 258.496204 71.811872 \nL 259.378418 75.201638 \nL 259.378418 83.897122 \nL 259.378418 18.754678 \nL 259.378418 71.369729 \nL 260.260631 76.085924 \nL 260.260631 83.897122 \nL 260.260631 17.72301 \nL 260.260631 71.51711 \nL 261.142845 81.096881 \nL 261.142845 83.60236 \nL 261.142845 18.902059 \nL 261.142845 71.369729 \nL 262.025058 76.82283 \nL 262.025058 83.60236 \nL 262.025058 17.280867 \nL 262.025058 71.664491 \nL 262.907271 78.149259 \nL 262.907271 83.454979 \nL 262.907271 17.133486 \nL 262.907271 71.811872 \nL 263.789485 77.117592 \nL 263.789485 83.749741 \nL 263.789485 16.691343 \nL 263.789485 71.369729 \nL 264.671698 75.791162 \nL 264.671698 83.60236 \nL 264.671698 16.986105 \nL 264.671698 71.959253 \nL 265.553912 78.149259 \nL 265.553912 83.749741 \nL 265.553912 16.986105 \nL 265.553912 71.074967 \nL 266.436125 77.707116 \nL 266.436125 83.60236 \nL 266.436125 16.543961 \nL 266.436125 71.51711 \nL 267.318339 77.412354 \nL 267.318339 83.749741 \nL 267.318339 16.838724 \nL 267.318339 71.664491 \nL 268.200552 78.591403 \nL 268.200552 83.749741 \nL 268.200552 16.39658 \nL 268.200552 71.222348 \nL 269.082766 77.854497 \nL 269.082766 83.60236 \nL 269.082766 16.101818 \nL 269.082766 71.369729 \nL 269.964979 77.412354 \nL 269.964979 83.307598 \nL 269.964979 16.101818 \nL 269.964979 71.664491 \nL 270.847192 79.328308 \nL 270.847192 83.897122 \nL 270.847192 16.101818 \nL 270.847192 71.51711 \nL 271.729406 76.82283 \nL 271.729406 83.749741 \nL 271.729406 16.543961 \nL 271.729406 71.51711 \nL 272.611619 79.328308 \nL 272.611619 83.897122 \nL 272.611619 16.543961 \nL 272.611619 71.222348 \nL 273.493833 80.507357 \nL 273.493833 83.897122 \nL 273.493833 16.691343 \nL 273.493833 71.811872 \nL 274.376046 79.328308 \nL 274.376046 83.897122 \nL 274.376046 16.543961 \nL 274.376046 71.959253 \nL 275.25826 78.444022 \nL 275.25826 83.897122 \nL 275.25826 16.39658 \nL 275.25826 71.811872 \nL 276.140473 79.770452 \nL 276.140473 84.191884 \nL 276.140473 16.39658 \nL 276.140473 72.106635 \nL 277.022687 81.833787 \nL 277.022687 84.044503 \nL 277.022687 16.543961 \nL 277.022687 72.254016 \nL 277.9049 82.865455 \nL 277.9049 16.39658 \nL 277.9049 83.897122 \nL 277.9049 71.811872 \nL 278.787113 83.749741 \nL 278.787113 82.865455 \nL 278.787113 16.543961 \nL 278.787113 84.044503 \nL 278.787113 72.254016 \nL 279.669327 82.718073 \nL 279.669327 16.249199 \nL 279.669327 84.339266 \nL 279.669327 72.401397 \nL 280.55154 80.065214 \nL 280.55154 84.339266 \nL 280.55154 16.39658 \nL 280.55154 72.254016 \nL 281.433754 81.096881 \nL 281.433754 84.191884 \nL 281.433754 16.543961 \nL 281.433754 71.959253 \nL 282.315967 81.096881 \nL 282.315967 84.486647 \nL 282.315967 16.691343 \nL 282.315967 72.106635 \nL 283.198181 81.981168 \nL 283.198181 84.92879 \nL 283.198181 16.39658 \nL 283.198181 72.401397 \nL 284.080394 98.045707 \nL 284.080394 95.834991 \nL 284.080394 22.439205 \nL 284.080394 80.065214 \nL 284.962607 100.256424 \nL 284.962607 99.519518 \nL 284.962607 28.776592 \nL 284.962607 100.551186 \nL 284.962607 85.223552 \nL 285.844821 100.993329 \nL 285.844821 100.256424 \nL 285.844821 32.313739 \nL 285.844821 87.876412 \nL 286.727034 103.79357 \nL 286.727034 32.608501 \nL 286.727034 87.876412 \nL 287.609248 103.79357 \nL 287.609248 33.050644 \nL 287.609248 88.318555 \nL 288.491461 102.46714 \nL 288.491461 101.435473 \nL 288.491461 32.903263 \nL 288.491461 88.465936 \nL 289.373675 102.761902 \nL 289.373675 101.435473 \nL 289.373675 33.050644 \nL 289.373675 89.202842 \nL 290.255888 101.877616 \nL 290.255888 33.345406 \nL 290.255888 89.055461 \nL 291.138102 102.46714 \nL 291.138102 33.640169 \nL 291.138102 89.350223 \nL 293.784742 104.825238 \nL 293.784742 107.920241 \nL 293.784742 35.408742 \nL 293.784742 91.560939 \nL 294.666955 99.077375 \nL 294.666955 108.215003 \nL 294.666955 34.377074 \nL 294.666955 90.971415 \nL 295.549169 104.677857 \nL 295.549169 103.79357 \nL 295.549169 34.377074 \nL 295.549169 89.055461 \nL 296.431382 100.993329 \nL 296.431382 103.204046 \nL 296.431382 34.377074 \nL 296.431382 89.055461 \nL 297.313596 103.940951 \nL 297.313596 103.351427 \nL 297.313596 32.903263 \nL 297.313596 90.676653 \nL 298.195809 99.224756 \nL 298.195809 103.646189 \nL 298.195809 32.46112 \nL 298.195809 90.971415 \nL 299.078022 88.465936 \nL 299.078022 103.204046 \nL 299.078022 33.198025 \nL 299.078022 89.497604 \nL 299.960236 85.960458 \nL 299.960236 103.79357 \nL 299.960236 32.166358 \nL 299.960236 90.529272 \nL 300.842449 87.434269 \nL 300.842449 102.172378 \nL 300.842449 32.018977 \nL 300.842449 89.792366 \nL 301.724663 86.844744 \nL 301.724663 103.056665 \nL 301.724663 32.755882 \nL 301.724663 92.150464 \nL 302.606876 97.01404 \nL 302.606876 102.761902 \nL 302.606876 32.313739 \nL 302.606876 90.824034 \nL 303.48909 87.434269 \nL 303.48909 102.909284 \nL 303.48909 32.903263 \nL 303.48909 90.38189 \nL 304.371303 94.655942 \nL 304.371303 102.909284 \nL 304.371303 32.608501 \nL 304.371303 91.118796 \nL 305.253517 89.792366 \nL 305.253517 102.319759 \nL 305.253517 32.903263 \nL 305.253517 89.350223 \nL 306.13573 100.551186 \nL 306.13573 106.741192 \nL 306.13573 32.313739 \nL 306.13573 89.939747 \nL 307.017943 102.46714 \nL 307.017943 102.172378 \nL 307.017943 32.166358 \nL 307.017943 102.319759 \nL 307.017943 90.824034 \nL 307.900157 89.497604 \nL 307.900157 102.614521 \nL 307.900157 31.282071 \nL 307.900157 91.266177 \nL 308.78237 89.202842 \nL 308.78237 103.79357 \nL 308.78237 31.724214 \nL 308.78237 90.38189 \nL 309.664584 100.256424 \nL 309.664584 102.46714 \nL 309.664584 33.198025 \nL 309.664584 89.202842 \nL 310.546797 104.677857 \nL 310.546797 35.11398 \nL 310.546797 89.644985 \nL 311.429011 100.845948 \nL 311.429011 102.614521 \nL 311.429011 35.261361 \nL 311.429011 89.202842 \nL 312.311224 98.34047 \nL 312.311224 101.877616 \nL 312.311224 34.082312 \nL 312.311224 89.350223 \nL 313.193437 91.266177 \nL 313.193437 101.14071 \nL 313.193437 33.492787 \nL 313.193437 88.613317 \nL 314.075651 91.266177 \nL 314.075651 101.730235 \nL 314.075651 32.018977 \nL 314.075651 88.318555 \nL 314.957864 91.266177 \nL 314.957864 101.877616 \nL 314.957864 32.903263 \nL 314.957864 87.434269 \nL 315.840078 91.266177 \nL 315.840078 101.877616 \nL 315.840078 32.903263 \nL 315.840078 87.58165 \nL 316.722291 84.92879 \nL 316.722291 102.024997 \nL 316.722291 33.050644 \nL 316.722291 87.729031 \nL 317.604505 85.370933 \nL 317.604505 101.730235 \nL 317.604505 32.755882 \nL 317.604505 87.876412 \nL 318.486718 85.370933 \nL 318.486718 101.730235 \nL 318.486718 32.903263 \nL 318.486718 88.023793 \nL 319.368932 85.370933 \nL 319.368932 102.46714 \nL 319.368932 32.313739 \nL 319.368932 88.465936 \nL 320.251145 85.223552 \nL 320.251145 102.614521 \nL 320.251145 33.198025 \nL 320.251145 88.465936 \nL 321.133358 85.223552 \nL 321.133358 102.319759 \nL 321.133358 32.166358 \nL 321.133358 89.350223 \nL 322.015572 85.223552 \nL 322.015572 102.614521 \nL 322.015572 32.755882 \nL 322.015572 88.908079 \nL 322.897785 85.223552 \nL 322.897785 102.319759 \nL 322.897785 33.050644 \nL 322.897785 89.202842 \nL 323.779999 85.223552 \nL 323.779999 102.172378 \nL 323.779999 33.345406 \nL 323.779999 88.465936 \nL 324.662212 85.223552 \nL 324.662212 102.761902 \nL 324.662212 32.313739 \nL 324.662212 89.497604 \nL 325.544426 85.223552 \nL 325.544426 102.909284 \nL 325.544426 32.903263 \nL 325.544426 88.760698 \nL 326.426639 85.223552 \nL 326.426639 102.614521 \nL 326.426639 32.608501 \nL 326.426639 89.497604 \nL 327.308853 85.223552 \nL 327.308853 103.056665 \nL 327.308853 32.608501 \nL 327.308853 88.465936 \nL 328.191066 85.370933 \nL 328.191066 102.024997 \nL 328.191066 32.018977 \nL 328.191066 89.939747 \nL 329.073279 85.223552 \nL 329.073279 102.761902 \nL 329.073279 32.166358 \nL 329.073279 88.760698 \nL 329.955493 85.223552 \nL 329.955493 102.614521 \nL 329.955493 32.46112 \nL 329.955493 89.644985 \nL 330.837706 85.223552 \nL 330.837706 103.204046 \nL 330.837706 32.166358 \nL 330.837706 88.613317 \nL 331.71992 85.518314 \nL 331.71992 102.909284 \nL 331.71992 32.166358 \nL 331.71992 89.644985 \nL 332.602133 85.370933 \nL 332.602133 103.056665 \nL 332.602133 31.871595 \nL 332.602133 89.350223 \nL 333.484347 85.518314 \nL 333.484347 102.46714 \nL 333.484347 32.608501 \nL 333.484347 89.497604 \nL 334.36656 85.518314 \nL 334.36656 103.498808 \nL 334.36656 32.755882 \nL 334.36656 88.613317 \nL 335.248773 92.003082 \nL 335.248773 102.319759 \nL 335.248773 32.903263 \nL 335.248773 89.202842 \nL 336.130987 92.150464 \nL 336.130987 102.761902 \nL 336.130987 32.608501 \nL 336.130987 89.055461 \nL 337.0132 92.297845 \nL 337.0132 103.79357 \nL 337.0132 33.050644 \nL 337.0132 89.055461 \nL 337.895414 92.003082 \nL 337.895414 102.909284 \nL 337.895414 32.755882 \nL 337.895414 88.760698 \nL 338.777627 91.855701 \nL 338.777627 103.204046 \nL 338.777627 33.050644 \nL 338.777627 90.234509 \nL 339.659841 92.003082 \nL 339.659841 103.056665 \nL 339.659841 32.755882 \nL 339.659841 90.087128 \nL 340.542054 92.003082 \nL 340.542054 102.614521 \nL 340.542054 31.871595 \nL 340.542054 89.055461 \nL 341.424268 92.150464 \nL 341.424268 103.204046 \nL 341.424268 31.576833 \nL 341.424268 88.760698 \nL 342.306481 92.150464 \nL 342.306481 104.825238 \nL 342.306481 31.576833 \nL 342.306481 90.087128 \nL 343.188694 92.003082 \nL 343.188694 103.056665 \nL 343.188694 31.282071 \nL 343.188694 89.350223 \nL 344.070908 92.003082 \nL 344.070908 103.351427 \nL 344.070908 30.397784 \nL 344.070908 89.055461 \nL 344.953121 92.003082 \nL 344.953121 103.79357 \nL 344.953121 31.724214 \nL 344.953121 89.497604 \nL 345.835335 92.003082 \nL 345.835335 103.204046 \nL 345.835335 30.103022 \nL 345.835335 88.908079 \nL 346.717548 92.445226 \nL 346.717548 103.056665 \nL 346.717548 25.239446 \nL 346.717548 89.055461 \nL 347.599762 91.413558 \nL 347.599762 103.204046 \nL 347.599762 21.554919 \nL 347.599762 89.055461 \nL 348.481975 91.413558 \nL 348.481975 103.351427 \nL 348.481975 21.407538 \nL 348.481975 89.202842 \nL 349.364188 91.413558 \nL 349.364188 103.498808 \nL 349.364188 22.291824 \nL 349.364188 89.644985 \nL 350.246402 91.413558 \nL 350.246402 103.646189 \nL 350.246402 20.965394 \nL 350.246402 90.38189 \nL 351.128615 91.413558 \nL 351.128615 103.79357 \nL 351.128615 20.965394 \nL 351.128615 89.792366 \nL 352.010829 91.413558 \nL 352.010829 103.498808 \nL 352.010829 21.407538 \nL 352.010829 90.087128 \nL 352.893042 91.413558 \nL 352.893042 103.498808 \nL 352.893042 20.818013 \nL 352.893042 89.792366 \nL 353.775256 91.413558 \nL 353.775256 103.646189 \nL 353.775256 20.965394 \nL 353.775256 89.497604 \n\" style=\"fill:none;stroke:#4c72b0;stroke-linecap:round;stroke-width:1.5;\"/>\n   </g>\n   <g id=\"patch_3\">\n    <path d=\"M 34.193438 203.04 \nL 34.193438 7.2 \n\" style=\"fill:none;stroke:#ffffff;stroke-linecap:square;stroke-linejoin:miter;stroke-width:1.25;\"/>\n   </g>\n   <g id=\"patch_4\">\n    <path d=\"M 368.993438 203.04 \nL 368.993438 7.2 \n\" style=\"fill:none;stroke:#ffffff;stroke-linecap:square;stroke-linejoin:miter;stroke-width:1.25;\"/>\n   </g>\n   <g id=\"patch_5\">\n    <path d=\"M 34.193437 203.04 \nL 368.993437 203.04 \n\" style=\"fill:none;stroke:#ffffff;stroke-linecap:square;stroke-linejoin:miter;stroke-width:1.25;\"/>\n   </g>\n   <g id=\"patch_6\">\n    <path d=\"M 34.193437 7.2 \nL 368.993437 7.2 \n\" style=\"fill:none;stroke:#ffffff;stroke-linecap:square;stroke-linejoin:miter;stroke-width:1.25;\"/>\n   </g>\n   <g id=\"legend_1\">\n    <g id=\"patch_7\">\n     <path d=\"M 41.893438 33.797656 \nL 211.568438 33.797656 \nQ 213.768438 33.797656 213.768438 31.597656 \nL 213.768438 14.9 \nQ 213.768438 12.7 211.568438 12.7 \nL 41.893438 12.7 \nQ 39.693438 12.7 39.693438 14.9 \nL 39.693438 31.597656 \nQ 39.693438 33.797656 41.893438 33.797656 \nz\n\" style=\"fill:#eaeaf2;opacity:0.8;stroke:#cccccc;stroke-linejoin:miter;\"/>\n    </g>\n    <g id=\"line2d_15\">\n     <path d=\"M 44.093438 23.26 \nL 66.093437 23.26 \n\" style=\"fill:none;stroke:#4c72b0;stroke-linecap:round;stroke-width:1.5;\"/>\n    </g>\n    <g id=\"line2d_16\"/>\n    <g id=\"text_15\">\n     <!-- PREÇO MÉDIO REVENDA -->\n     <defs>\n      <path d=\"M 19.671875 64.796875 \nL 19.671875 37.40625 \nL 32.078125 37.40625 \nQ 38.96875 37.40625 42.71875 40.96875 \nQ 46.484375 44.53125 46.484375 51.125 \nQ 46.484375 57.671875 42.71875 61.234375 \nQ 38.96875 64.796875 32.078125 64.796875 \nz\nM 9.8125 72.90625 \nL 32.078125 72.90625 \nQ 44.34375 72.90625 50.609375 67.359375 \nQ 56.890625 61.8125 56.890625 51.125 \nQ 56.890625 40.328125 50.609375 34.8125 \nQ 44.34375 29.296875 32.078125 29.296875 \nL 19.671875 29.296875 \nL 19.671875 0 \nL 9.8125 0 \nz\n\" id=\"DejaVuSans-80\"/>\n      <path d=\"M 44.390625 34.1875 \nQ 47.5625 33.109375 50.5625 29.59375 \nQ 53.5625 26.078125 56.59375 19.921875 \nL 66.609375 0 \nL 56 0 \nL 46.6875 18.703125 \nQ 43.0625 26.03125 39.671875 28.421875 \nQ 36.28125 30.8125 30.421875 30.8125 \nL 19.671875 30.8125 \nL 19.671875 0 \nL 9.8125 0 \nL 9.8125 72.90625 \nL 32.078125 72.90625 \nQ 44.578125 72.90625 50.734375 67.671875 \nQ 56.890625 62.453125 56.890625 51.90625 \nQ 56.890625 45.015625 53.6875 40.46875 \nQ 50.484375 35.9375 44.390625 34.1875 \nz\nM 19.671875 64.796875 \nL 19.671875 38.921875 \nL 32.078125 38.921875 \nQ 39.203125 38.921875 42.84375 42.21875 \nQ 46.484375 45.515625 46.484375 51.90625 \nQ 46.484375 58.296875 42.84375 61.546875 \nQ 39.203125 64.796875 32.078125 64.796875 \nz\n\" id=\"DejaVuSans-82\"/>\n      <path d=\"M 9.8125 72.90625 \nL 55.90625 72.90625 \nL 55.90625 64.59375 \nL 19.671875 64.59375 \nL 19.671875 43.015625 \nL 54.390625 43.015625 \nL 54.390625 34.71875 \nL 19.671875 34.71875 \nL 19.671875 8.296875 \nL 56.78125 8.296875 \nL 56.78125 0 \nL 9.8125 0 \nz\n\" id=\"DejaVuSans-69\"/>\n      <path d=\"M 64.40625 67.28125 \nL 64.40625 56.890625 \nQ 59.421875 61.53125 53.78125 63.8125 \nQ 48.140625 66.109375 41.796875 66.109375 \nQ 29.296875 66.109375 22.65625 58.46875 \nQ 16.015625 50.828125 16.015625 36.375 \nQ 16.015625 21.96875 22.65625 14.328125 \nQ 29.296875 6.6875 41.796875 6.6875 \nQ 48.140625 6.6875 53.78125 8.984375 \nQ 59.421875 11.28125 64.40625 15.921875 \nL 64.40625 5.609375 \nQ 59.234375 2.09375 53.4375 0.328125 \nQ 47.65625 -1.421875 41.21875 -1.421875 \nQ 24.65625 -1.421875 15.125 8.703125 \nQ 5.609375 18.84375 5.609375 36.375 \nQ 5.609375 53.953125 15.125 64.078125 \nQ 24.65625 74.21875 41.21875 74.21875 \nQ 47.75 74.21875 53.53125 72.484375 \nQ 59.328125 70.75 64.40625 67.28125 \nz\nM 43.859375 0 \nQ 46.53125 -3.03125 47.84375 -5.59375 \nQ 49.171875 -8.15625 49.171875 -10.5 \nQ 49.171875 -14.84375 46.234375 -17.0625 \nQ 43.3125 -19.28125 37.546875 -19.28125 \nQ 35.3125 -19.28125 33.1875 -18.984375 \nQ 31.0625 -18.703125 28.953125 -18.109375 \nL 28.953125 -11.71875 \nQ 30.625 -12.546875 32.421875 -12.90625 \nQ 34.234375 -13.28125 36.53125 -13.28125 \nQ 39.40625 -13.28125 40.875 -12.109375 \nQ 42.34375 -10.9375 42.34375 -8.6875 \nQ 42.34375 -7.234375 41.28125 -5.109375 \nQ 40.234375 -2.984375 38.046875 0 \nz\n\" id=\"DejaVuSans-199\"/>\n      <path d=\"M 39.40625 66.21875 \nQ 28.65625 66.21875 22.328125 58.203125 \nQ 16.015625 50.203125 16.015625 36.375 \nQ 16.015625 22.609375 22.328125 14.59375 \nQ 28.65625 6.59375 39.40625 6.59375 \nQ 50.140625 6.59375 56.421875 14.59375 \nQ 62.703125 22.609375 62.703125 36.375 \nQ 62.703125 50.203125 56.421875 58.203125 \nQ 50.140625 66.21875 39.40625 66.21875 \nz\nM 39.40625 74.21875 \nQ 54.734375 74.21875 63.90625 63.9375 \nQ 73.09375 53.65625 73.09375 36.375 \nQ 73.09375 19.140625 63.90625 8.859375 \nQ 54.734375 -1.421875 39.40625 -1.421875 \nQ 24.03125 -1.421875 14.8125 8.828125 \nQ 5.609375 19.09375 5.609375 36.375 \nQ 5.609375 53.65625 14.8125 63.9375 \nQ 24.03125 74.21875 39.40625 74.21875 \nz\n\" id=\"DejaVuSans-79\"/>\n      <path d=\"M 9.8125 72.90625 \nL 24.515625 72.90625 \nL 43.109375 23.296875 \nL 61.8125 72.90625 \nL 76.515625 72.90625 \nL 76.515625 0 \nL 66.890625 0 \nL 66.890625 64.015625 \nL 48.09375 14.015625 \nL 38.1875 14.015625 \nL 19.390625 64.015625 \nL 19.390625 0 \nL 9.8125 0 \nz\n\" id=\"DejaVuSans-77\"/>\n      <path d=\"M 9.8125 72.90625 \nL 55.90625 72.90625 \nL 55.90625 64.59375 \nL 19.671875 64.59375 \nL 19.671875 43.015625 \nL 54.390625 43.015625 \nL 54.390625 34.71875 \nL 19.671875 34.71875 \nL 19.671875 8.296875 \nL 56.78125 8.296875 \nL 56.78125 0 \nL 9.8125 0 \nz\nM 35.4375 92.515625 \nL 44.46875 92.515625 \nL 33.34375 79.625 \nL 25.859375 79.625 \nz\n\" id=\"DejaVuSans-201\"/>\n      <path d=\"M 28.609375 0 \nL 0.78125 72.90625 \nL 11.078125 72.90625 \nL 34.1875 11.53125 \nL 57.328125 72.90625 \nL 67.578125 72.90625 \nL 39.796875 0 \nz\n\" id=\"DejaVuSans-86\"/>\n     </defs>\n     <g style=\"fill:#262626;\" transform=\"translate(74.893438 27.11)scale(0.11 -0.11)\">\n      <use xlink:href=\"#DejaVuSans-80\"/>\n      <use x=\"60.302734\" xlink:href=\"#DejaVuSans-82\"/>\n      <use x=\"129.785156\" xlink:href=\"#DejaVuSans-69\"/>\n      <use x=\"192.96875\" xlink:href=\"#DejaVuSans-199\"/>\n      <use x=\"262.792969\" xlink:href=\"#DejaVuSans-79\"/>\n      <use x=\"341.503906\" xlink:href=\"#DejaVuSans-32\"/>\n      <use x=\"373.291016\" xlink:href=\"#DejaVuSans-77\"/>\n      <use x=\"459.570312\" xlink:href=\"#DejaVuSans-201\"/>\n      <use x=\"522.753906\" xlink:href=\"#DejaVuSans-68\"/>\n      <use x=\"599.755859\" xlink:href=\"#DejaVuSans-73\"/>\n      <use x=\"629.248047\" xlink:href=\"#DejaVuSans-79\"/>\n      <use x=\"707.958984\" xlink:href=\"#DejaVuSans-32\"/>\n      <use x=\"739.746094\" xlink:href=\"#DejaVuSans-82\"/>\n      <use x=\"809.228516\" xlink:href=\"#DejaVuSans-69\"/>\n      <use x=\"872.412109\" xlink:href=\"#DejaVuSans-86\"/>\n      <use x=\"940.820312\" xlink:href=\"#DejaVuSans-69\"/>\n      <use x=\"1004.003906\" xlink:href=\"#DejaVuSans-78\"/>\n      <use x=\"1078.808594\" xlink:href=\"#DejaVuSans-68\"/>\n      <use x=\"1154.060547\" xlink:href=\"#DejaVuSans-65\"/>\n     </g>\n    </g>\n   </g>\n  </g>\n </g>\n <defs>\n  <clipPath id=\"p7f6caff264\">\n   <rect height=\"195.84\" width=\"334.8\" x=\"34.193438\" y=\"7.2\"/>\n  </clipPath>\n </defs>\n</svg>\n"
          },
          "metadata": {
            "tags": [],
            "needs_background": "light"
          }
        }
      ]
    },
    {
      "cell_type": "markdown",
      "metadata": {
        "id": "RfQp24puLkzf"
      },
      "source": [
        "Modelo não é estacionária"
      ]
    },
    {
      "cell_type": "code",
      "metadata": {
        "id": "n_bWsK1sLkFx"
      },
      "source": [
        "#Transformar em Estacionária\r\n",
        "def target_diff(x):\r\n",
        "  return x.diff().shift(-1)"
      ],
      "execution_count": 160,
      "outputs": []
    },
    {
      "cell_type": "code",
      "metadata": {
        "colab": {
          "base_uri": "https://localhost:8080/",
          "height": 488
        },
        "id": "OPT9yNTeL2N0",
        "outputId": "5d5bfc27-2c90-4533-e8e1-922df33faf19"
      },
      "source": [
        "# Tronar Estacionária\r\n",
        "diesel_treino[\"DIFF\"] = diesel_treino.groupby([\"ESTADO\"])[\"PREÇO MÉDIO REVENDA\"].apply(target_diff)\r\n",
        "diesel_treino.plot(x = \"DATA FINAL\", y = \"DIFF\")"
      ],
      "execution_count": 161,
      "outputs": [
        {
          "output_type": "stream",
          "text": [
            "/usr/local/lib/python3.6/dist-packages/ipykernel_launcher.py:2: SettingWithCopyWarning: \n",
            "A value is trying to be set on a copy of a slice from a DataFrame.\n",
            "Try using .loc[row_indexer,col_indexer] = value instead\n",
            "\n",
            "See the caveats in the documentation: https://pandas.pydata.org/pandas-docs/stable/user_guide/indexing.html#returning-a-view-versus-a-copy\n",
            "  \n"
          ],
          "name": "stderr"
        },
        {
          "output_type": "execute_result",
          "data": {
            "text/plain": [
              "<matplotlib.axes._subplots.AxesSubplot at 0x7f4a7fe7bb70>"
            ]
          },
          "metadata": {
            "tags": []
          },
          "execution_count": 161
        },
        {
          "output_type": "display_data",
          "data": {
            "text/plain": [
              "<Figure size 432x288 with 1 Axes>"
            ],
            "image/svg+xml": "<?xml version=\"1.0\" encoding=\"utf-8\" standalone=\"no\"?>\n<!DOCTYPE svg PUBLIC \"-//W3C//DTD SVG 1.1//EN\"\n  \"http://www.w3.org/Graphics/SVG/1.1/DTD/svg11.dtd\">\n<!-- Created with matplotlib (https://matplotlib.org/) -->\n<svg height=\"258.570902pt\" version=\"1.1\" viewBox=\"0 0 385.411094 258.570902\" width=\"385.411094pt\" xmlns=\"http://www.w3.org/2000/svg\" xmlns:xlink=\"http://www.w3.org/1999/xlink\">\n <defs>\n  <style type=\"text/css\">\n*{stroke-linecap:butt;stroke-linejoin:round;}\n  </style>\n </defs>\n <g id=\"figure_1\">\n  <g id=\"patch_1\">\n   <path d=\"M 0 258.570902 \nL 385.411094 258.570902 \nL 385.411094 0 \nL 0 0 \nz\n\" style=\"fill:none;\"/>\n  </g>\n  <g id=\"axes_1\">\n   <g id=\"patch_2\">\n    <path d=\"M 43.411094 203.04 \nL 378.211094 203.04 \nL 378.211094 7.2 \nL 43.411094 7.2 \nz\n\" style=\"fill:#eaeaf2;\"/>\n   </g>\n   <g id=\"matplotlib.axis_1\">\n    <g id=\"xtick_1\">\n     <g id=\"line2d_1\">\n      <path clip-path=\"url(#p281e11753d)\" d=\"M 87.82695 203.04 \nL 87.82695 7.2 \n\" style=\"fill:none;stroke:#ffffff;stroke-linecap:round;\"/>\n     </g>\n     <g id=\"text_1\">\n      <!-- 2005 -->\n      <defs>\n       <path d=\"M 19.1875 8.296875 \nL 53.609375 8.296875 \nL 53.609375 0 \nL 7.328125 0 \nL 7.328125 8.296875 \nQ 12.9375 14.109375 22.625 23.890625 \nQ 32.328125 33.6875 34.8125 36.53125 \nQ 39.546875 41.84375 41.421875 45.53125 \nQ 43.3125 49.21875 43.3125 52.78125 \nQ 43.3125 58.59375 39.234375 62.25 \nQ 35.15625 65.921875 28.609375 65.921875 \nQ 23.96875 65.921875 18.8125 64.3125 \nQ 13.671875 62.703125 7.8125 59.421875 \nL 7.8125 69.390625 \nQ 13.765625 71.78125 18.9375 73 \nQ 24.125 74.21875 28.421875 74.21875 \nQ 39.75 74.21875 46.484375 68.546875 \nQ 53.21875 62.890625 53.21875 53.421875 \nQ 53.21875 48.921875 51.53125 44.890625 \nQ 49.859375 40.875 45.40625 35.40625 \nQ 44.1875 33.984375 37.640625 27.21875 \nQ 31.109375 20.453125 19.1875 8.296875 \nz\n\" id=\"DejaVuSans-50\"/>\n       <path d=\"M 31.78125 66.40625 \nQ 24.171875 66.40625 20.328125 58.90625 \nQ 16.5 51.421875 16.5 36.375 \nQ 16.5 21.390625 20.328125 13.890625 \nQ 24.171875 6.390625 31.78125 6.390625 \nQ 39.453125 6.390625 43.28125 13.890625 \nQ 47.125 21.390625 47.125 36.375 \nQ 47.125 51.421875 43.28125 58.90625 \nQ 39.453125 66.40625 31.78125 66.40625 \nz\nM 31.78125 74.21875 \nQ 44.046875 74.21875 50.515625 64.515625 \nQ 56.984375 54.828125 56.984375 36.375 \nQ 56.984375 17.96875 50.515625 8.265625 \nQ 44.046875 -1.421875 31.78125 -1.421875 \nQ 19.53125 -1.421875 13.0625 8.265625 \nQ 6.59375 17.96875 6.59375 36.375 \nQ 6.59375 54.828125 13.0625 64.515625 \nQ 19.53125 74.21875 31.78125 74.21875 \nz\n\" id=\"DejaVuSans-48\"/>\n       <path d=\"M 10.796875 72.90625 \nL 49.515625 72.90625 \nL 49.515625 64.59375 \nL 19.828125 64.59375 \nL 19.828125 46.734375 \nQ 21.96875 47.46875 24.109375 47.828125 \nQ 26.265625 48.1875 28.421875 48.1875 \nQ 40.625 48.1875 47.75 41.5 \nQ 54.890625 34.8125 54.890625 23.390625 \nQ 54.890625 11.625 47.5625 5.09375 \nQ 40.234375 -1.421875 26.90625 -1.421875 \nQ 22.3125 -1.421875 17.546875 -0.640625 \nQ 12.796875 0.140625 7.71875 1.703125 \nL 7.71875 11.625 \nQ 12.109375 9.234375 16.796875 8.0625 \nQ 21.484375 6.890625 26.703125 6.890625 \nQ 35.15625 6.890625 40.078125 11.328125 \nQ 45.015625 15.765625 45.015625 23.390625 \nQ 45.015625 31 40.078125 35.4375 \nQ 35.15625 39.890625 26.703125 39.890625 \nQ 22.75 39.890625 18.8125 39.015625 \nQ 14.890625 38.140625 10.796875 36.28125 \nz\n\" id=\"DejaVuSans-53\"/>\n      </defs>\n      <g style=\"fill:#262626;\" transform=\"translate(62.438741 233.775984)rotate(-30)scale(0.11 -0.11)\">\n       <use xlink:href=\"#DejaVuSans-50\"/>\n       <use x=\"63.623047\" xlink:href=\"#DejaVuSans-48\"/>\n       <use x=\"127.246094\" xlink:href=\"#DejaVuSans-48\"/>\n       <use x=\"190.869141\" xlink:href=\"#DejaVuSans-53\"/>\n      </g>\n     </g>\n    </g>\n    <g id=\"xtick_2\">\n     <g id=\"line2d_2\">\n      <path clip-path=\"url(#p281e11753d)\" d=\"M 133.961804 203.04 \nL 133.961804 7.2 \n\" style=\"fill:none;stroke:#ffffff;stroke-linecap:round;\"/>\n     </g>\n     <g id=\"text_2\">\n      <!-- 2006 -->\n      <defs>\n       <path d=\"M 33.015625 40.375 \nQ 26.375 40.375 22.484375 35.828125 \nQ 18.609375 31.296875 18.609375 23.390625 \nQ 18.609375 15.53125 22.484375 10.953125 \nQ 26.375 6.390625 33.015625 6.390625 \nQ 39.65625 6.390625 43.53125 10.953125 \nQ 47.40625 15.53125 47.40625 23.390625 \nQ 47.40625 31.296875 43.53125 35.828125 \nQ 39.65625 40.375 33.015625 40.375 \nz\nM 52.59375 71.296875 \nL 52.59375 62.3125 \nQ 48.875 64.0625 45.09375 64.984375 \nQ 41.3125 65.921875 37.59375 65.921875 \nQ 27.828125 65.921875 22.671875 59.328125 \nQ 17.53125 52.734375 16.796875 39.40625 \nQ 19.671875 43.65625 24.015625 45.921875 \nQ 28.375 48.1875 33.59375 48.1875 \nQ 44.578125 48.1875 50.953125 41.515625 \nQ 57.328125 34.859375 57.328125 23.390625 \nQ 57.328125 12.15625 50.6875 5.359375 \nQ 44.046875 -1.421875 33.015625 -1.421875 \nQ 20.359375 -1.421875 13.671875 8.265625 \nQ 6.984375 17.96875 6.984375 36.375 \nQ 6.984375 53.65625 15.1875 63.9375 \nQ 23.390625 74.21875 37.203125 74.21875 \nQ 40.921875 74.21875 44.703125 73.484375 \nQ 48.484375 72.75 52.59375 71.296875 \nz\n\" id=\"DejaVuSans-54\"/>\n      </defs>\n      <g style=\"fill:#262626;\" transform=\"translate(108.573594 233.775984)rotate(-30)scale(0.11 -0.11)\">\n       <use xlink:href=\"#DejaVuSans-50\"/>\n       <use x=\"63.623047\" xlink:href=\"#DejaVuSans-48\"/>\n       <use x=\"127.246094\" xlink:href=\"#DejaVuSans-48\"/>\n       <use x=\"190.869141\" xlink:href=\"#DejaVuSans-54\"/>\n      </g>\n     </g>\n    </g>\n    <g id=\"xtick_3\">\n     <g id=\"line2d_3\">\n      <path clip-path=\"url(#p281e11753d)\" d=\"M 180.096657 203.04 \nL 180.096657 7.2 \n\" style=\"fill:none;stroke:#ffffff;stroke-linecap:round;\"/>\n     </g>\n     <g id=\"text_3\">\n      <!-- 2007 -->\n      <defs>\n       <path d=\"M 8.203125 72.90625 \nL 55.078125 72.90625 \nL 55.078125 68.703125 \nL 28.609375 0 \nL 18.3125 0 \nL 43.21875 64.59375 \nL 8.203125 64.59375 \nz\n\" id=\"DejaVuSans-55\"/>\n      </defs>\n      <g style=\"fill:#262626;\" transform=\"translate(154.708448 233.775984)rotate(-30)scale(0.11 -0.11)\">\n       <use xlink:href=\"#DejaVuSans-50\"/>\n       <use x=\"63.623047\" xlink:href=\"#DejaVuSans-48\"/>\n       <use x=\"127.246094\" xlink:href=\"#DejaVuSans-48\"/>\n       <use x=\"190.869141\" xlink:href=\"#DejaVuSans-55\"/>\n      </g>\n     </g>\n    </g>\n    <g id=\"xtick_4\">\n     <g id=\"line2d_4\">\n      <path clip-path=\"url(#p281e11753d)\" d=\"M 226.231511 203.04 \nL 226.231511 7.2 \n\" style=\"fill:none;stroke:#ffffff;stroke-linecap:round;\"/>\n     </g>\n     <g id=\"text_4\">\n      <!-- 2008 -->\n      <defs>\n       <path d=\"M 31.78125 34.625 \nQ 24.75 34.625 20.71875 30.859375 \nQ 16.703125 27.09375 16.703125 20.515625 \nQ 16.703125 13.921875 20.71875 10.15625 \nQ 24.75 6.390625 31.78125 6.390625 \nQ 38.8125 6.390625 42.859375 10.171875 \nQ 46.921875 13.96875 46.921875 20.515625 \nQ 46.921875 27.09375 42.890625 30.859375 \nQ 38.875 34.625 31.78125 34.625 \nz\nM 21.921875 38.8125 \nQ 15.578125 40.375 12.03125 44.71875 \nQ 8.5 49.078125 8.5 55.328125 \nQ 8.5 64.0625 14.71875 69.140625 \nQ 20.953125 74.21875 31.78125 74.21875 \nQ 42.671875 74.21875 48.875 69.140625 \nQ 55.078125 64.0625 55.078125 55.328125 \nQ 55.078125 49.078125 51.53125 44.71875 \nQ 48 40.375 41.703125 38.8125 \nQ 48.828125 37.15625 52.796875 32.3125 \nQ 56.78125 27.484375 56.78125 20.515625 \nQ 56.78125 9.90625 50.3125 4.234375 \nQ 43.84375 -1.421875 31.78125 -1.421875 \nQ 19.734375 -1.421875 13.25 4.234375 \nQ 6.78125 9.90625 6.78125 20.515625 \nQ 6.78125 27.484375 10.78125 32.3125 \nQ 14.796875 37.15625 21.921875 38.8125 \nz\nM 18.3125 54.390625 \nQ 18.3125 48.734375 21.84375 45.5625 \nQ 25.390625 42.390625 31.78125 42.390625 \nQ 38.140625 42.390625 41.71875 45.5625 \nQ 45.3125 48.734375 45.3125 54.390625 \nQ 45.3125 60.0625 41.71875 63.234375 \nQ 38.140625 66.40625 31.78125 66.40625 \nQ 25.390625 66.40625 21.84375 63.234375 \nQ 18.3125 60.0625 18.3125 54.390625 \nz\n\" id=\"DejaVuSans-56\"/>\n      </defs>\n      <g style=\"fill:#262626;\" transform=\"translate(200.843301 233.775984)rotate(-30)scale(0.11 -0.11)\">\n       <use xlink:href=\"#DejaVuSans-50\"/>\n       <use x=\"63.623047\" xlink:href=\"#DejaVuSans-48\"/>\n       <use x=\"127.246094\" xlink:href=\"#DejaVuSans-48\"/>\n       <use x=\"190.869141\" xlink:href=\"#DejaVuSans-56\"/>\n      </g>\n     </g>\n    </g>\n    <g id=\"xtick_5\">\n     <g id=\"line2d_5\">\n      <path clip-path=\"url(#p281e11753d)\" d=\"M 272.492761 203.04 \nL 272.492761 7.2 \n\" style=\"fill:none;stroke:#ffffff;stroke-linecap:round;\"/>\n     </g>\n     <g id=\"text_5\">\n      <!-- 2009 -->\n      <defs>\n       <path d=\"M 10.984375 1.515625 \nL 10.984375 10.5 \nQ 14.703125 8.734375 18.5 7.8125 \nQ 22.3125 6.890625 25.984375 6.890625 \nQ 35.75 6.890625 40.890625 13.453125 \nQ 46.046875 20.015625 46.78125 33.40625 \nQ 43.953125 29.203125 39.59375 26.953125 \nQ 35.25 24.703125 29.984375 24.703125 \nQ 19.046875 24.703125 12.671875 31.3125 \nQ 6.296875 37.9375 6.296875 49.421875 \nQ 6.296875 60.640625 12.9375 67.421875 \nQ 19.578125 74.21875 30.609375 74.21875 \nQ 43.265625 74.21875 49.921875 64.515625 \nQ 56.59375 54.828125 56.59375 36.375 \nQ 56.59375 19.140625 48.40625 8.859375 \nQ 40.234375 -1.421875 26.421875 -1.421875 \nQ 22.703125 -1.421875 18.890625 -0.6875 \nQ 15.09375 0.046875 10.984375 1.515625 \nz\nM 30.609375 32.421875 \nQ 37.25 32.421875 41.125 36.953125 \nQ 45.015625 41.5 45.015625 49.421875 \nQ 45.015625 57.28125 41.125 61.84375 \nQ 37.25 66.40625 30.609375 66.40625 \nQ 23.96875 66.40625 20.09375 61.84375 \nQ 16.21875 57.28125 16.21875 49.421875 \nQ 16.21875 41.5 20.09375 36.953125 \nQ 23.96875 32.421875 30.609375 32.421875 \nz\n\" id=\"DejaVuSans-57\"/>\n      </defs>\n      <g style=\"fill:#262626;\" transform=\"translate(247.104552 233.775984)rotate(-30)scale(0.11 -0.11)\">\n       <use xlink:href=\"#DejaVuSans-50\"/>\n       <use x=\"63.623047\" xlink:href=\"#DejaVuSans-48\"/>\n       <use x=\"127.246094\" xlink:href=\"#DejaVuSans-48\"/>\n       <use x=\"190.869141\" xlink:href=\"#DejaVuSans-57\"/>\n      </g>\n     </g>\n    </g>\n    <g id=\"xtick_6\">\n     <g id=\"line2d_6\">\n      <path clip-path=\"url(#p281e11753d)\" d=\"M 318.627614 203.04 \nL 318.627614 7.2 \n\" style=\"fill:none;stroke:#ffffff;stroke-linecap:round;\"/>\n     </g>\n     <g id=\"text_6\">\n      <!-- 2010 -->\n      <defs>\n       <path d=\"M 12.40625 8.296875 \nL 28.515625 8.296875 \nL 28.515625 63.921875 \nL 10.984375 60.40625 \nL 10.984375 69.390625 \nL 28.421875 72.90625 \nL 38.28125 72.90625 \nL 38.28125 8.296875 \nL 54.390625 8.296875 \nL 54.390625 0 \nL 12.40625 0 \nz\n\" id=\"DejaVuSans-49\"/>\n      </defs>\n      <g style=\"fill:#262626;\" transform=\"translate(293.239405 233.775984)rotate(-30)scale(0.11 -0.11)\">\n       <use xlink:href=\"#DejaVuSans-50\"/>\n       <use x=\"63.623047\" xlink:href=\"#DejaVuSans-48\"/>\n       <use x=\"127.246094\" xlink:href=\"#DejaVuSans-49\"/>\n       <use x=\"190.869141\" xlink:href=\"#DejaVuSans-48\"/>\n      </g>\n     </g>\n    </g>\n    <g id=\"xtick_7\">\n     <g id=\"line2d_7\">\n      <path clip-path=\"url(#p281e11753d)\" d=\"M 364.762468 203.04 \nL 364.762468 7.2 \n\" style=\"fill:none;stroke:#ffffff;stroke-linecap:round;\"/>\n     </g>\n     <g id=\"text_7\">\n      <!-- 2011 -->\n      <g style=\"fill:#262626;\" transform=\"translate(339.374259 233.775984)rotate(-30)scale(0.11 -0.11)\">\n       <use xlink:href=\"#DejaVuSans-50\"/>\n       <use x=\"63.623047\" xlink:href=\"#DejaVuSans-48\"/>\n       <use x=\"127.246094\" xlink:href=\"#DejaVuSans-49\"/>\n       <use x=\"190.869141\" xlink:href=\"#DejaVuSans-49\"/>\n      </g>\n     </g>\n    </g>\n    <g id=\"text_8\">\n     <!-- DATA FINAL -->\n     <defs>\n      <path d=\"M 19.671875 64.796875 \nL 19.671875 8.109375 \nL 31.59375 8.109375 \nQ 46.6875 8.109375 53.6875 14.9375 \nQ 60.6875 21.78125 60.6875 36.53125 \nQ 60.6875 51.171875 53.6875 57.984375 \nQ 46.6875 64.796875 31.59375 64.796875 \nz\nM 9.8125 72.90625 \nL 30.078125 72.90625 \nQ 51.265625 72.90625 61.171875 64.09375 \nQ 71.09375 55.28125 71.09375 36.53125 \nQ 71.09375 17.671875 61.125 8.828125 \nQ 51.171875 0 30.078125 0 \nL 9.8125 0 \nz\n\" id=\"DejaVuSans-68\"/>\n      <path d=\"M 34.1875 63.1875 \nL 20.796875 26.90625 \nL 47.609375 26.90625 \nz\nM 28.609375 72.90625 \nL 39.796875 72.90625 \nL 67.578125 0 \nL 57.328125 0 \nL 50.6875 18.703125 \nL 17.828125 18.703125 \nL 11.1875 0 \nL 0.78125 0 \nz\n\" id=\"DejaVuSans-65\"/>\n      <path d=\"M -0.296875 72.90625 \nL 61.375 72.90625 \nL 61.375 64.59375 \nL 35.5 64.59375 \nL 35.5 0 \nL 25.59375 0 \nL 25.59375 64.59375 \nL -0.296875 64.59375 \nz\n\" id=\"DejaVuSans-84\"/>\n      <path id=\"DejaVuSans-32\"/>\n      <path d=\"M 9.8125 72.90625 \nL 51.703125 72.90625 \nL 51.703125 64.59375 \nL 19.671875 64.59375 \nL 19.671875 43.109375 \nL 48.578125 43.109375 \nL 48.578125 34.8125 \nL 19.671875 34.8125 \nL 19.671875 0 \nL 9.8125 0 \nz\n\" id=\"DejaVuSans-70\"/>\n      <path d=\"M 9.8125 72.90625 \nL 19.671875 72.90625 \nL 19.671875 0 \nL 9.8125 0 \nz\n\" id=\"DejaVuSans-73\"/>\n      <path d=\"M 9.8125 72.90625 \nL 23.09375 72.90625 \nL 55.421875 11.921875 \nL 55.421875 72.90625 \nL 64.984375 72.90625 \nL 64.984375 0 \nL 51.703125 0 \nL 19.390625 60.984375 \nL 19.390625 0 \nL 9.8125 0 \nz\n\" id=\"DejaVuSans-78\"/>\n      <path d=\"M 9.8125 72.90625 \nL 19.671875 72.90625 \nL 19.671875 8.296875 \nL 55.171875 8.296875 \nL 55.171875 0 \nL 9.8125 0 \nz\n\" id=\"DejaVuSans-76\"/>\n     </defs>\n     <g style=\"fill:#262626;\" transform=\"translate(176.288594 248.875277)scale(0.12 -0.12)\">\n      <use xlink:href=\"#DejaVuSans-68\"/>\n      <use x=\"75.251953\" xlink:href=\"#DejaVuSans-65\"/>\n      <use x=\"135.910156\" xlink:href=\"#DejaVuSans-84\"/>\n      <use x=\"189.244141\" xlink:href=\"#DejaVuSans-65\"/>\n      <use x=\"257.652344\" xlink:href=\"#DejaVuSans-32\"/>\n      <use x=\"289.439453\" xlink:href=\"#DejaVuSans-70\"/>\n      <use x=\"346.958984\" xlink:href=\"#DejaVuSans-73\"/>\n      <use x=\"376.451172\" xlink:href=\"#DejaVuSans-78\"/>\n      <use x=\"451.255859\" xlink:href=\"#DejaVuSans-65\"/>\n      <use x=\"519.664062\" xlink:href=\"#DejaVuSans-76\"/>\n     </g>\n    </g>\n   </g>\n   <g id=\"matplotlib.axis_2\">\n    <g id=\"ytick_1\">\n     <g id=\"line2d_8\">\n      <path clip-path=\"url(#p281e11753d)\" d=\"M 43.411094 158.806223 \nL 378.211094 158.806223 \n\" style=\"fill:none;stroke:#ffffff;stroke-linecap:round;\"/>\n     </g>\n     <g id=\"text_9\">\n      <!-- −0.1 -->\n      <defs>\n       <path d=\"M 10.59375 35.5 \nL 73.1875 35.5 \nL 73.1875 27.203125 \nL 10.59375 27.203125 \nz\n\" id=\"DejaVuSans-8722\"/>\n       <path d=\"M 10.6875 12.40625 \nL 21 12.40625 \nL 21 0 \nL 10.6875 0 \nz\n\" id=\"DejaVuSans-46\"/>\n      </defs>\n      <g style=\"fill:#262626;\" transform=\"translate(7.2 162.985364)scale(0.11 -0.11)\">\n       <use xlink:href=\"#DejaVuSans-8722\"/>\n       <use x=\"83.789062\" xlink:href=\"#DejaVuSans-48\"/>\n       <use x=\"147.412109\" xlink:href=\"#DejaVuSans-46\"/>\n       <use x=\"179.199219\" xlink:href=\"#DejaVuSans-49\"/>\n      </g>\n     </g>\n    </g>\n    <g id=\"ytick_2\">\n     <g id=\"line2d_9\">\n      <path clip-path=\"url(#p281e11753d)\" d=\"M 43.411094 112.920562 \nL 378.211094 112.920562 \n\" style=\"fill:none;stroke:#ffffff;stroke-linecap:round;\"/>\n     </g>\n     <g id=\"text_10\">\n      <!-- 0.0 -->\n      <g style=\"fill:#262626;\" transform=\"translate(16.417656 117.099703)scale(0.11 -0.11)\">\n       <use xlink:href=\"#DejaVuSans-48\"/>\n       <use x=\"63.623047\" xlink:href=\"#DejaVuSans-46\"/>\n       <use x=\"95.410156\" xlink:href=\"#DejaVuSans-48\"/>\n      </g>\n     </g>\n    </g>\n    <g id=\"ytick_3\">\n     <g id=\"line2d_10\">\n      <path clip-path=\"url(#p281e11753d)\" d=\"M 43.411094 67.034902 \nL 378.211094 67.034902 \n\" style=\"fill:none;stroke:#ffffff;stroke-linecap:round;\"/>\n     </g>\n     <g id=\"text_11\">\n      <!-- 0.1 -->\n      <g style=\"fill:#262626;\" transform=\"translate(16.417656 71.214042)scale(0.11 -0.11)\">\n       <use xlink:href=\"#DejaVuSans-48\"/>\n       <use x=\"63.623047\" xlink:href=\"#DejaVuSans-46\"/>\n       <use x=\"95.410156\" xlink:href=\"#DejaVuSans-49\"/>\n      </g>\n     </g>\n    </g>\n    <g id=\"ytick_4\">\n     <g id=\"line2d_11\">\n      <path clip-path=\"url(#p281e11753d)\" d=\"M 43.411094 21.149241 \nL 378.211094 21.149241 \n\" style=\"fill:none;stroke:#ffffff;stroke-linecap:round;\"/>\n     </g>\n     <g id=\"text_12\">\n      <!-- 0.2 -->\n      <g style=\"fill:#262626;\" transform=\"translate(16.417656 25.328381)scale(0.11 -0.11)\">\n       <use xlink:href=\"#DejaVuSans-48\"/>\n       <use x=\"63.623047\" xlink:href=\"#DejaVuSans-46\"/>\n       <use x=\"95.410156\" xlink:href=\"#DejaVuSans-50\"/>\n      </g>\n     </g>\n    </g>\n   </g>\n   <g id=\"line2d_12\">\n    <path clip-path=\"url(#p281e11753d)\" d=\"M 58.629276 106.955426 \nL 58.629276 117.509128 \nL 58.629276 100.990291 \nL 58.629276 112.461706 \nL 59.514054 120.262268 \nL 59.514054 103.284574 \nL 59.514054 112.002849 \nL 60.398832 105.578857 \nL 60.398832 116.591415 \nL 60.398832 100.990291 \nL 60.398832 112.002849 \nL 61.28361 122.097694 \nL 61.28361 109.708566 \nL 61.28361 112.461706 \nL 62.168388 103.74343 \nL 62.168388 86.306879 \nL 62.168388 112.002849 \nL 62.168388 96.860581 \nL 63.053166 78.04746 \nL 63.053166 102.825717 \nL 63.053166 69.788041 \nL 63.053166 81.259456 \nL 63.937944 109.249709 \nL 63.937944 122.556551 \nL 63.937944 105.12 \nL 63.937944 112.920562 \nL 64.822722 117.967985 \nL 64.822722 105.12 \nL 64.822722 113.838276 \nL 65.7075 115.673702 \nL 65.7075 106.955426 \nL 65.7075 115.673702 \nL 65.7075 112.002849 \nL 66.592278 117.509128 \nL 66.592278 103.74343 \nL 66.592278 112.920562 \nL 67.477056 95.484011 \nL 67.477056 117.050272 \nL 67.477056 92.730872 \nL 67.477056 114.297132 \nL 68.361834 118.426842 \nL 68.361834 111.085136 \nL 68.361834 128.521687 \nL 68.361834 111.543993 \nL 69.246612 107.87314 \nL 69.246612 146.875951 \nL 69.246612 96.860581 \nL 69.246612 112.002849 \nL 70.13139 122.097694 \nL 70.13139 106.037713 \nL 70.13139 126.686261 \nL 70.13139 112.920562 \nL 71.016168 103.74343 \nL 71.016168 122.556551 \nL 71.016168 112.920562 \nL 71.900946 122.097694 \nL 71.900946 102.825717 \nL 71.900946 113.379419 \nL 72.785724 106.037713 \nL 72.785724 116.132559 \nL 72.785724 105.12 \nL 72.785724 112.920562 \nL 73.670502 121.179981 \nL 73.670502 110.167423 \nL 73.670502 129.898257 \nL 73.670502 112.920562 \nL 74.55528 105.12 \nL 74.55528 115.673702 \nL 74.55528 96.860581 \nL 74.55528 112.920562 \nL 75.440058 122.097694 \nL 75.440058 109.708566 \nL 75.440058 113.379419 \nL 76.324836 105.12 \nL 76.324836 114.755989 \nL 76.324836 112.461706 \nL 77.209614 122.556551 \nL 77.209614 110.626279 \nL 77.209614 123.933121 \nL 77.209614 113.379419 \nL 78.094392 77.129747 \nL 78.094392 78.965173 \nL 78.094392 105.578857 \nL 78.094392 75.294321 \nL 78.094392 81.259456 \nL 78.97917 112.002849 \nL 78.97917 110.626279 \nL 78.97917 94.566298 \nL 78.97917 118.426842 \nL 78.97917 111.085136 \nL 79.863948 113.379419 \nL 79.863948 145.958238 \nL 79.863948 110.167423 \nL 79.863948 112.002849 \nL 80.748726 105.578857 \nL 80.748726 105.578857 \nL 80.748726 117.967985 \nL 80.748726 104.661143 \nL 80.748726 109.708566 \nL 81.633504 112.002849 \nL 81.633504 117.050272 \nL 81.633504 108.331996 \nL 81.633504 112.002849 \nL 82.518282 111.543993 \nL 82.518282 108.790853 \nL 82.518282 115.214845 \nL 82.518282 113.838276 \nL 83.40306 77.129747 \nL 83.40306 39.962362 \nL 83.40306 64.740619 \nL 84.287838 116.132559 \nL 84.287838 89.518875 \nL 84.287838 120.721125 \nL 84.287838 113.379419 \nL 85.172616 111.085136 \nL 85.172616 115.673702 \nL 85.172616 108.331996 \nL 85.172616 111.085136 \nL 86.057394 114.297132 \nL 86.057394 109.249709 \nL 86.057394 116.132559 \nL 86.057394 113.838276 \nL 86.942172 114.297132 \nL 86.942172 115.214845 \nL 86.942172 107.87314 \nL 86.942172 112.920562 \nL 87.82695 117.050272 \nL 87.82695 109.249709 \nL 87.82695 113.838276 \nL 88.711728 112.461706 \nL 88.711728 127.603974 \nL 88.711728 95.025155 \nL 88.711728 112.002849 \nL 89.596506 120.262268 \nL 89.596506 110.626279 \nL 89.596506 113.379419 \nL 90.481284 105.578857 \nL 90.481284 117.509128 \nL 90.481284 112.461706 \nL 91.366062 102.825717 \nL 91.366062 115.673702 \nL 91.366062 113.838276 \nL 92.25084 111.543993 \nL 92.25084 116.591415 \nL 92.25084 110.626279 \nL 92.25084 114.297132 \nL 93.135618 117.509128 \nL 93.135618 109.249709 \nL 93.135618 112.920562 \nL 94.020396 107.414283 \nL 94.020396 115.673702 \nL 94.020396 112.920562 \nL 94.905174 120.721125 \nL 94.905174 110.167423 \nL 94.905174 113.838276 \nL 95.789952 107.414283 \nL 95.789952 129.4394 \nL 95.789952 112.920562 \nL 96.67473 122.097694 \nL 96.67473 102.825717 \nL 96.67473 112.920562 \nL 97.559508 105.578857 \nL 97.559508 116.591415 \nL 97.559508 112.920562 \nL 98.444286 112.461706 \nL 98.444286 109.249709 \nL 98.444286 116.132559 \nL 98.444286 112.920562 \nL 99.329064 113.838276 \nL 99.329064 116.591415 \nL 99.329064 110.626279 \nL 99.329064 113.379419 \nL 100.213842 123.015408 \nL 100.213842 108.790853 \nL 100.213842 114.297132 \nL 101.09862 101.908004 \nL 101.09862 124.391978 \nL 101.09862 112.002849 \nL 101.983398 116.132559 \nL 101.983398 108.790853 \nL 101.983398 116.591415 \nL 101.983398 112.461706 \nL 102.868176 110.167423 \nL 102.868176 116.132559 \nL 102.868176 103.74343 \nL 102.868176 112.920562 \nL 103.752954 116.591415 \nL 103.752954 100.990291 \nL 103.752954 104.661143 \nL 104.637732 108.790853 \nL 104.637732 114.755989 \nL 104.637732 113.838276 \nL 105.52251 118.426842 \nL 105.52251 94.566298 \nL 105.52251 123.015408 \nL 105.52251 111.085136 \nL 106.407288 108.331996 \nL 106.407288 116.591415 \nL 106.407288 98.696007 \nL 106.407288 113.379419 \nL 107.292066 118.885698 \nL 107.292066 104.661143 \nL 107.292066 112.002849 \nL 108.176844 107.414283 \nL 108.176844 117.509128 \nL 108.176844 113.379419 \nL 109.061622 120.262268 \nL 109.061622 110.167423 \nL 109.061622 112.002849 \nL 109.9464 106.037713 \nL 109.9464 118.885698 \nL 109.9464 104.202287 \nL 109.9464 113.838276 \nL 110.831178 120.721125 \nL 110.831178 109.708566 \nL 110.831178 112.920562 \nL 111.715956 105.12 \nL 111.715956 117.509128 \nL 111.715956 112.920562 \nL 112.600734 104.202287 \nL 112.600734 115.673702 \nL 112.600734 112.461706 \nL 113.485512 108.331996 \nL 113.485512 116.132559 \nL 113.485512 113.838276 \nL 114.37029 118.885698 \nL 114.37029 109.708566 \nL 114.37029 112.920562 \nL 115.255068 109.708566 \nL 115.255068 116.132559 \nL 115.255068 112.002849 \nL 116.139846 126.686261 \nL 116.139846 95.025155 \nL 116.139846 134.486823 \nL 116.139846 113.838276 \nL 118.79418 112.002849 \nL 118.79418 132.651396 \nL 118.79418 103.284574 \nL 118.79418 111.085136 \nL 119.678958 56.940056 \nL 119.678958 16.101818 \nL 119.678958 91.354302 \nL 119.678958 39.503505 \nL 120.563736 90.436589 \nL 120.563736 140.451959 \nL 120.563736 52.810347 \nL 120.563736 101.908004 \nL 121.448514 112.920562 \nL 121.448514 194.138182 \nL 121.448514 84.471453 \nL 121.448514 114.755989 \nL 122.333292 111.085136 \nL 122.333292 131.733683 \nL 122.333292 45.927498 \nL 122.333292 111.543993 \nL 123.21807 111.085136 \nL 123.21807 103.74343 \nL 123.21807 119.803411 \nL 123.21807 112.002849 \nL 124.102849 106.955426 \nL 124.102849 126.686261 \nL 124.102849 104.202287 \nL 124.102849 114.297132 \nL 124.987627 121.638838 \nL 124.987627 94.566298 \nL 124.987627 115.673702 \nL 125.872405 113.379419 \nL 125.872405 105.578857 \nL 125.872405 129.4394 \nL 125.872405 106.037713 \nL 126.757183 108.790853 \nL 126.757183 134.945679 \nL 126.757183 87.224592 \nL 126.757183 112.002849 \nL 127.641961 115.673702 \nL 127.641961 87.683449 \nL 127.641961 117.050272 \nL 127.641961 114.297132 \nL 128.526739 114.297132 \nL 128.526739 107.414283 \nL 128.526739 122.097694 \nL 128.526739 114.755989 \nL 129.411517 107.414283 \nL 129.411517 123.474264 \nL 129.411517 106.49657 \nL 129.411517 113.379419 \nL 130.296295 115.214845 \nL 130.296295 102.825717 \nL 130.296295 117.050272 \nL 130.296295 108.331996 \nL 131.181073 114.297132 \nL 131.181073 103.284574 \nL 131.181073 115.673702 \nL 131.181073 114.297132 \nL 132.065851 109.708566 \nL 132.065851 117.509128 \nL 132.065851 108.331996 \nL 132.065851 115.673702 \nL 132.950629 111.543993 \nL 132.950629 112.002849 \nL 132.950629 121.179981 \nL 132.950629 110.167423 \nL 132.950629 112.461706 \nL 133.835407 114.297132 \nL 133.835407 107.87314 \nL 133.835407 116.132559 \nL 133.835407 111.543993 \nL 134.720185 111.543993 \nL 134.720185 125.768547 \nL 134.720185 106.955426 \nL 134.720185 108.790853 \nL 135.604963 120.262268 \nL 135.604963 110.167423 \nL 135.604963 114.297132 \nL 136.489741 108.331996 \nL 136.489741 120.262268 \nL 136.489741 113.838276 \nL 137.374519 113.838276 \nL 137.374519 110.167423 \nL 137.374519 119.803411 \nL 137.374519 112.461706 \nL 138.259297 111.543993 \nL 138.259297 119.803411 \nL 138.259297 106.037713 \nL 138.259297 113.379419 \nL 139.144075 110.626279 \nL 139.144075 117.509128 \nL 139.144075 111.085136 \nL 140.028853 113.379419 \nL 140.028853 107.414283 \nL 140.028853 115.673702 \nL 140.028853 112.920562 \nL 140.913631 114.755989 \nL 140.913631 106.955426 \nL 140.913631 117.050272 \nL 140.913631 112.920562 \nL 141.798409 110.626279 \nL 141.798409 117.050272 \nL 141.798409 108.790853 \nL 141.798409 113.838276 \nL 142.683187 117.050272 \nL 142.683187 109.708566 \nL 142.683187 113.838276 \nL 143.567965 112.002849 \nL 143.567965 106.955426 \nL 143.567965 116.132559 \nL 143.567965 113.838276 \nL 144.452743 112.002849 \nL 144.452743 118.426842 \nL 144.452743 106.955426 \nL 144.452743 112.002849 \nL 145.337521 112.461706 \nL 145.337521 107.87314 \nL 145.337521 118.426842 \nL 145.337521 115.214845 \nL 146.222299 114.297132 \nL 146.222299 118.885698 \nL 146.222299 105.12 \nL 146.222299 111.543993 \nL 147.107077 111.085136 \nL 147.107077 106.955426 \nL 147.107077 115.214845 \nL 147.107077 113.838276 \nL 147.991855 113.838276 \nL 147.991855 116.132559 \nL 147.991855 102.825717 \nL 147.991855 112.002849 \nL 148.876633 113.379419 \nL 148.876633 108.331996 \nL 148.876633 120.721125 \nL 148.876633 114.297132 \nL 149.761411 117.050272 \nL 149.761411 110.167423 \nL 149.761411 112.002849 \nL 150.646189 110.626279 \nL 150.646189 117.050272 \nL 150.646189 107.87314 \nL 150.646189 114.297132 \nL 151.530967 111.543993 \nL 151.530967 120.721125 \nL 151.530967 108.790853 \nL 151.530967 111.085136 \nL 152.415745 112.920562 \nL 152.415745 110.626279 \nL 152.415745 117.050272 \nL 152.415745 116.591415 \nL 153.300523 120.262268 \nL 153.300523 107.87314 \nL 153.300523 110.626279 \nL 154.185301 117.509128 \nL 154.185301 108.331996 \nL 154.185301 120.262268 \nL 154.185301 114.297132 \nL 155.070079 112.002849 \nL 155.070079 117.509128 \nL 155.070079 109.708566 \nL 155.070079 112.461706 \nL 155.954857 112.461706 \nL 155.954857 117.050272 \nL 155.954857 109.249709 \nL 155.954857 114.755989 \nL 156.839635 110.167423 \nL 156.839635 110.626279 \nL 156.839635 117.967985 \nL 156.839635 110.167423 \nL 156.839635 111.543993 \nL 157.724413 89.518875 \nL 157.724413 115.673702 \nL 157.724413 115.673702 \nL 158.609191 111.543993 \nL 158.609191 112.002849 \nL 158.609191 116.591415 \nL 158.609191 110.626279 \nL 158.609191 111.085136 \nL 159.493969 106.955426 \nL 159.493969 106.037713 \nL 159.493969 114.755989 \nL 160.378747 116.591415 \nL 160.378747 99.613721 \nL 160.378747 111.085136 \nL 161.263525 114.755989 \nL 161.263525 107.87314 \nL 161.263525 114.297132 \nL 162.148303 123.015408 \nL 162.148303 123.474264 \nL 162.148303 110.167423 \nL 163.033081 113.379419 \nL 163.033081 109.249709 \nL 163.033081 117.050272 \nL 163.033081 115.214845 \nL 163.917859 114.755989 \nL 163.917859 110.167423 \nL 163.917859 137.698819 \nL 163.917859 111.085136 \nL 164.802637 114.297132 \nL 164.802637 105.578857 \nL 164.802637 118.426842 \nL 164.802637 116.591415 \nL 165.687415 116.591415 \nL 165.687415 109.249709 \nL 165.687415 117.509128 \nL 165.687415 109.708566 \nL 166.572193 112.461706 \nL 166.572193 109.249709 \nL 166.572193 117.050272 \nL 167.456971 113.838276 \nL 167.456971 128.521687 \nL 167.456971 111.543993 \nL 168.341749 108.331996 \nL 168.341749 118.426842 \nL 168.341749 106.955426 \nL 168.341749 113.379419 \nL 169.226527 120.262268 \nL 169.226527 110.626279 \nL 169.226527 124.391978 \nL 169.226527 111.543993 \nL 170.111305 113.379419 \nL 170.111305 118.426842 \nL 170.111305 107.414283 \nL 170.111305 113.838276 \nL 170.996083 109.249709 \nL 170.996083 109.708566 \nL 170.996083 122.097694 \nL 170.996083 108.331996 \nL 170.996083 110.167423 \nL 171.880861 113.379419 \nL 171.880861 115.673702 \nL 171.880861 109.249709 \nL 171.880861 114.755989 \nL 172.765639 106.49657 \nL 172.765639 121.638838 \nL 172.765639 109.708566 \nL 173.650417 111.543993 \nL 173.650417 116.591415 \nL 173.650417 100.072577 \nL 173.650417 114.755989 \nL 174.535195 105.578857 \nL 174.535195 126.227404 \nL 174.535195 112.461706 \nL 175.419973 122.097694 \nL 175.419973 104.661143 \nL 175.419973 113.838276 \nL 176.304751 116.591415 \nL 176.304751 99.613721 \nL 176.304751 119.344555 \nL 176.304751 113.838276 \nL 177.189529 96.401724 \nL 177.189529 123.015408 \nL 177.189529 113.838276 \nL 178.074307 118.885698 \nL 178.074307 110.167423 \nL 178.074307 121.638838 \nL 178.074307 112.002849 \nL 178.959085 118.426842 \nL 178.959085 102.825717 \nL 178.959085 120.721125 \nL 178.959085 114.297132 \nL 179.843863 114.297132 \nL 179.843863 114.297132 \nL 179.843863 103.284574 \nL 179.843863 126.686261 \nL 179.843863 111.085136 \nL 180.728641 109.708566 \nL 180.728641 117.050272 \nL 180.728641 96.860581 \nL 180.728641 114.755989 \nL 181.613419 116.132559 \nL 181.613419 106.037713 \nL 181.613419 117.967985 \nL 181.613419 114.755989 \nL 182.498197 119.344555 \nL 182.498197 109.249709 \nL 182.498197 109.708566 \nL 183.382975 111.085136 \nL 183.382975 119.344555 \nL 183.382975 110.626279 \nL 184.267753 107.414283 \nL 184.267753 117.050272 \nL 184.267753 114.755989 \nL 185.152531 107.414283 \nL 185.152531 116.591415 \nL 185.152531 115.673702 \nL 186.037309 119.344555 \nL 186.037309 109.249709 \nL 186.037309 112.461706 \nL 186.922087 119.344555 \nL 186.922087 109.249709 \nL 186.922087 115.673702 \nL 187.806865 112.920562 \nL 187.806865 108.790853 \nL 187.806865 114.755989 \nL 187.806865 112.461706 \nL 188.691643 109.708566 \nL 188.691643 116.132559 \nL 188.691643 108.790853 \nL 188.691643 114.297132 \nL 189.576421 110.626279 \nL 189.576421 117.967985 \nL 189.576421 108.790853 \nL 190.461199 113.838276 \nL 190.461199 104.661143 \nL 190.461199 115.214845 \nL 190.461199 115.214845 \nL 191.345977 114.755989 \nL 191.345977 110.626279 \nL 191.345977 117.509128 \nL 191.345977 112.920562 \nL 192.230755 109.708566 \nL 192.230755 116.132559 \nL 192.230755 107.414283 \nL 192.230755 112.461706 \nL 193.115533 107.87314 \nL 193.115533 115.673702 \nL 193.115533 100.072577 \nL 193.115533 112.920562 \nL 194.000312 113.838276 \nL 194.000312 117.509128 \nL 194.000312 108.331996 \nL 194.000312 112.461706 \nL 194.88509 112.920562 \nL 194.88509 110.167423 \nL 194.88509 117.967985 \nL 194.88509 112.920562 \nL 195.769868 111.085136 \nL 195.769868 108.790853 \nL 195.769868 118.885698 \nL 195.769868 113.379419 \nL 196.654646 107.87314 \nL 196.654646 116.591415 \nL 196.654646 112.920562 \nL 197.539424 112.920562 \nL 197.539424 115.214845 \nL 197.539424 110.167423 \nL 197.539424 113.379419 \nL 198.424202 142.287385 \nL 198.424202 110.167423 \nL 198.424202 111.085136 \nL 199.30898 106.037713 \nL 199.30898 128.521687 \nL 199.30898 112.002849 \nL 200.193758 111.543993 \nL 200.193758 117.050272 \nL 200.193758 113.838276 \nL 201.078536 123.015408 \nL 201.078536 108.790853 \nL 201.078536 114.755989 \nL 201.963314 108.331996 \nL 201.963314 123.933121 \nL 201.963314 105.578857 \nL 201.963314 114.297132 \nL 202.848092 119.344555 \nL 202.848092 105.578857 \nL 202.848092 111.085136 \nL 203.73287 103.74343 \nL 203.73287 117.967985 \nL 203.73287 113.838276 \nL 204.617648 100.072577 \nL 204.617648 117.509128 \nL 204.617648 113.379419 \nL 205.502426 123.474264 \nL 205.502426 106.49657 \nL 205.502426 112.002849 \nL 206.387204 100.531434 \nL 206.387204 141.828529 \nL 206.387204 115.214845 \nL 207.271982 116.132559 \nL 207.271982 81.259456 \nL 207.271982 117.050272 \nL 207.271982 110.167423 \nL 208.15676 113.838276 \nL 208.15676 105.578857 \nL 208.15676 121.638838 \nL 208.15676 114.297132 \nL 209.041538 111.085136 \nL 209.041538 116.132559 \nL 209.041538 97.319438 \nL 209.041538 113.379419 \nL 209.926316 113.379419 \nL 209.926316 110.167423 \nL 209.926316 139.993102 \nL 209.926316 113.838276 \nL 210.811094 119.344555 \nL 210.811094 85.848022 \nL 210.811094 136.781106 \nL 210.811094 111.085136 \nL 211.695872 118.426842 \nL 211.695872 94.107441 \nL 211.695872 118.885698 \nL 211.695872 115.673702 \nL 212.58065 110.167423 \nL 212.58065 140.910815 \nL 212.58065 106.955426 \nL 212.58065 110.626279 \nL 213.465428 119.803411 \nL 213.465428 95.484011 \nL 213.465428 122.097694 \nL 213.465428 112.461706 \nL 214.350206 115.214845 \nL 214.350206 100.990291 \nL 214.350206 128.980544 \nL 214.350206 112.920562 \nL 215.234984 112.002849 \nL 215.234984 120.262268 \nL 215.234984 95.942868 \nL 215.234984 113.838276 \nL 216.119762 107.87314 \nL 216.119762 131.733683 \nL 216.119762 106.955426 \nL 216.119762 113.379419 \nL 217.00454 115.673702 \nL 217.00454 95.025155 \nL 217.00454 118.426842 \nL 217.00454 112.920562 \nL 217.889318 115.673702 \nL 217.889318 89.518875 \nL 217.889318 111.085136 \nL 218.774096 112.461706 \nL 218.774096 104.661143 \nL 218.774096 133.56911 \nL 218.774096 114.755989 \nL 219.658874 112.920562 \nL 219.658874 87.224592 \nL 219.658874 123.933121 \nL 219.658874 112.461706 \nL 220.543652 109.708566 \nL 220.543652 129.4394 \nL 220.543652 81.718313 \nL 220.543652 112.002849 \nL 221.42843 116.591415 \nL 221.42843 120.721125 \nL 221.42843 93.189728 \nL 221.42843 112.002849 \nL 222.313208 105.578857 \nL 222.313208 129.4394 \nL 222.313208 105.12 \nL 222.313208 112.920562 \nL 223.197986 115.673702 \nL 223.197986 95.025155 \nL 223.197986 115.673702 \nL 223.197986 113.379419 \nL 224.082764 82.636026 \nL 224.082764 130.81597 \nL 224.082764 113.379419 \nL 224.967542 117.967985 \nL 224.967542 100.531434 \nL 224.967542 118.426842 \nL 224.967542 112.002849 \nL 225.85232 114.755989 \nL 225.85232 97.778294 \nL 225.85232 125.768547 \nL 225.85232 112.002849 \nL 226.737098 127.603974 \nL 226.737098 89.518875 \nL 226.737098 113.838276 \nL 227.621876 116.132559 \nL 227.621876 107.414283 \nL 227.621876 117.967985 \nL 227.621876 110.167423 \nL 228.506654 110.626279 \nL 228.506654 114.755989 \nL 228.506654 106.955426 \nL 228.506654 110.167423 \nL 229.391432 109.249709 \nL 229.391432 118.426842 \nL 229.391432 115.673702 \nL 230.27621 114.755989 \nL 230.27621 106.955426 \nL 230.27621 114.755989 \nL 230.27621 112.002849 \nL 231.160988 121.179981 \nL 231.160988 108.790853 \nL 231.160988 112.461706 \nL 232.045766 112.002849 \nL 232.045766 117.509128 \nL 232.045766 107.414283 \nL 232.045766 112.002849 \nL 232.930544 108.331996 \nL 232.930544 115.673702 \nL 232.930544 84.012596 \nL 232.930544 113.379419 \nL 233.815322 115.673702 \nL 233.815322 108.790853 \nL 233.815322 113.379419 \nL 234.7001 111.543993 \nL 234.7001 118.426842 \nL 234.7001 107.414283 \nL 234.7001 111.543993 \nL 235.584878 114.297132 \nL 235.584878 108.790853 \nL 235.584878 116.591415 \nL 235.584878 113.379419 \nL 236.469656 115.214845 \nL 236.469656 116.132559 \nL 236.469656 108.790853 \nL 236.469656 112.920562 \nL 237.354434 108.790853 \nL 237.354434 118.426842 \nL 237.354434 108.331996 \nL 237.354434 111.085136 \nL 238.239212 112.461706 \nL 238.239212 106.955426 \nL 238.239212 115.214845 \nL 238.239212 114.297132 \nL 239.12399 118.885698 \nL 239.12399 109.249709 \nL 239.12399 112.002849 \nL 240.008768 110.167423 \nL 240.008768 120.262268 \nL 240.008768 114.297132 \nL 240.893546 113.379419 \nL 240.893546 107.414283 \nL 240.893546 117.050272 \nL 240.893546 110.626279 \nL 241.778324 56.4812 \nL 241.778324 32.161799 \nL 241.778324 66.117188 \nL 241.778324 59.693196 \nL 242.663102 92.272015 \nL 242.663102 115.673702 \nL 242.663102 87.683449 \nL 242.663102 90.895445 \nL 243.54788 111.543993 \nL 243.54788 108.790853 \nL 243.54788 115.673702 \nL 243.54788 102.825717 \nL 243.54788 114.297132 \nL 244.432658 117.967985 \nL 244.432658 106.037713 \nL 244.432658 126.227404 \nL 244.432658 112.461706 \nL 245.317436 109.249709 \nL 245.317436 117.967985 \nL 245.317436 101.449147 \nL 245.317436 109.249709 \nL 246.202214 113.838276 \nL 246.202214 101.449147 \nL 246.202214 121.179981 \nL 246.202214 113.379419 \nL 247.086992 108.790853 \nL 247.086992 118.426842 \nL 247.086992 101.449147 \nL 247.086992 110.626279 \nL 247.97177 109.708566 \nL 247.97177 121.638838 \nL 247.97177 104.661143 \nL 247.97177 112.920562 \nL 248.856548 115.673702 \nL 248.856548 95.025155 \nL 248.856548 112.002849 \nL 249.741326 83.553739 \nL 249.741326 113.838276 \nL 249.741326 81.718313 \nL 249.741326 96.401724 \nL 250.626104 98.237151 \nL 250.626104 117.967985 \nL 250.626104 107.414283 \nL 251.510882 124.391978 \nL 251.510882 104.661143 \nL 251.510882 112.002849 \nL 252.39566 112.461706 \nL 252.39566 104.661143 \nL 252.39566 118.885698 \nL 252.39566 112.920562 \nL 253.280438 97.778294 \nL 253.280438 119.803411 \nL 253.280438 112.461706 \nL 254.165216 116.591415 \nL 254.165216 105.578857 \nL 254.165216 117.967985 \nL 254.165216 109.708566 \nL 255.049994 133.56911 \nL 255.049994 108.790853 \nL 255.049994 111.085136 \nL 255.934772 118.885698 \nL 255.934772 106.037713 \nL 255.934772 117.509128 \nL 256.81955 93.648585 \nL 256.81955 119.344555 \nL 256.81955 109.708566 \nL 257.704328 113.379419 \nL 257.704328 104.202287 \nL 257.704328 117.509128 \nL 257.704328 112.002849 \nL 258.589106 125.309691 \nL 258.589106 110.167423 \nL 258.589106 115.673702 \nL 259.473884 106.49657 \nL 259.473884 118.885698 \nL 259.473884 110.626279 \nL 260.358662 108.331996 \nL 260.358662 118.426842 \nL 260.358662 104.661143 \nL 260.358662 111.085136 \nL 261.24344 123.474264 \nL 261.24344 104.661143 \nL 261.24344 114.297132 \nL 262.128218 96.401724 \nL 262.128218 123.933121 \nL 262.128218 111.085136 \nL 263.012996 107.87314 \nL 263.012996 117.050272 \nL 263.012996 103.74343 \nL 263.012996 114.297132 \nL 263.897775 131.733683 \nL 263.897775 101.908004 \nL 263.897775 113.379419 \nL 264.782553 103.284574 \nL 264.782553 115.673702 \nL 264.782553 112.461706 \nL 265.667331 114.755989 \nL 265.667331 108.790853 \nL 265.667331 120.721125 \nL 265.667331 111.543993 \nL 266.552109 116.132559 \nL 266.552109 102.825717 \nL 266.552109 117.050272 \nL 266.552109 112.461706 \nL 267.436887 109.708566 \nL 267.436887 120.262268 \nL 267.436887 104.202287 \nL 267.436887 112.920562 \nL 268.321665 110.167423 \nL 268.321665 119.803411 \nL 268.321665 106.955426 \nL 268.321665 111.543993 \nL 269.206443 115.673702 \nL 269.206443 102.825717 \nL 269.206443 120.721125 \nL 269.206443 113.379419 \nL 270.091221 128.521687 \nL 270.091221 105.12 \nL 270.091221 112.461706 \nL 270.975999 99.613721 \nL 270.975999 120.721125 \nL 270.975999 113.838276 \nL 271.860777 117.050272 \nL 271.860777 108.790853 \nL 271.860777 118.426842 \nL 271.860777 113.379419 \nL 272.745555 109.708566 \nL 272.745555 110.167423 \nL 272.745555 120.262268 \nL 272.745555 111.543993 \nL 273.630333 108.790853 \nL 273.630333 117.050272 \nL 273.630333 105.12 \nL 273.630333 114.755989 \nL 274.515111 120.262268 \nL 274.515111 108.331996 \nL 274.515111 121.638838 \nL 274.515111 110.167423 \nL 275.399889 111.543993 \nL 275.399889 117.967985 \nL 275.399889 104.661143 \nL 275.399889 114.297132 \nL 276.284667 112.002849 \nL 276.284667 106.955426 \nL 276.284667 118.426842 \nL 276.284667 113.379419 \nL 277.169445 116.591415 \nL 277.169445 109.708566 \nL 277.169445 117.050272 \nL 277.169445 111.543993 \nL 278.054223 110.626279 \nL 278.054223 116.132559 \nL 278.054223 109.249709 \nL 278.054223 113.379419 \nL 278.939001 111.543993 \nL 278.939001 117.050272 \nL 278.939001 106.49657 \nL 278.939001 113.838276 \nL 279.823779 118.885698 \nL 279.823779 108.790853 \nL 279.823779 119.803411 \nL 279.823779 112.461706 \nL 280.708557 105.12 \nL 280.708557 117.050272 \nL 280.708557 112.920562 \nL 281.593335 120.721125 \nL 281.593335 109.249709 \nL 281.593335 112.002849 \nL 282.478113 116.591415 \nL 282.478113 106.955426 \nL 282.478113 126.227404 \nL 282.478113 114.755989 \nL 283.362891 109.249709 \nL 283.362891 118.885698 \nL 283.362891 113.379419 \nL 284.247669 110.167423 \nL 284.247669 116.591415 \nL 284.247669 106.49657 \nL 284.247669 112.461706 \nL 285.132447 117.050272 \nL 285.132447 109.249709 \nL 285.132447 119.344555 \nL 285.132447 113.838276 \nL 286.017225 119.344555 \nL 286.017225 104.661143 \nL 286.017225 119.803411 \nL 286.017225 113.379419 \nL 286.902003 113.838276 \nL 286.902003 109.708566 \nL 286.902003 120.262268 \nL 286.902003 111.543993 \nL 287.786781 117.967985 \nL 287.786781 107.87314 \nL 287.786781 118.885698 \nL 287.786781 114.297132 \nL 288.671559 108.331996 \nL 288.671559 118.885698 \nL 288.671559 107.414283 \nL 288.671559 113.379419 \nL 289.556337 106.037713 \nL 289.556337 116.132559 \nL 289.556337 112.461706 \nL 290.441115 116.132559 \nL 290.441115 109.708566 \nL 290.441115 119.344555 \nL 290.441115 112.002849 \nL 291.325893 112.920562 \nL 291.325893 115.214845 \nL 291.325893 107.87314 \nL 291.325893 113.379419 \nL 292.210671 115.673702 \nL 292.210671 109.708566 \nL 292.210671 120.262268 \nL 292.210671 113.838276 \nL 293.095449 162.935933 \nL 293.095449 113.838276 \nL 293.095449 136.781106 \nL 293.980227 119.803411 \nL 293.980227 142.746242 \nL 293.980227 117.967985 \nL 293.980227 128.980544 \nL 294.865005 115.214845 \nL 294.865005 115.214845 \nL 294.865005 135.863393 \nL 294.865005 109.249709 \nL 294.865005 121.179981 \nL 295.749783 121.638838 \nL 295.749783 107.414283 \nL 295.749783 112.920562 \nL 296.634561 112.920562 \nL 296.634561 119.344555 \nL 296.634561 108.790853 \nL 296.634561 114.297132 \nL 297.519339 108.790853 \nL 297.519339 119.344555 \nL 297.519339 106.037713 \nL 297.519339 113.379419 \nL 298.404117 113.838276 \nL 298.404117 107.414283 \nL 298.404117 118.426842 \nL 298.404117 115.214845 \nL 299.288895 107.414283 \nL 299.288895 120.262268 \nL 299.288895 112.461706 \nL 300.173673 112.920562 \nL 300.173673 116.591415 \nL 300.173673 98.237151 \nL 300.173673 113.838276 \nL 301.058451 124.850834 \nL 301.058451 146.875951 \nL 301.058451 89.518875 \nL 301.058451 119.803411 \nL 303.712785 95.025155 \nL 303.712785 130.81597 \nL 303.712785 89.518875 \nL 303.712785 111.085136 \nL 304.597563 130.357113 \nL 304.597563 98.237151 \nL 304.597563 160.641649 \nL 304.597563 106.955426 \nL 305.482341 101.449147 \nL 305.482341 122.097694 \nL 305.482341 78.04746 \nL 305.482341 112.920562 \nL 306.367119 122.097694 \nL 306.367119 103.284574 \nL 306.367119 142.746242 \nL 306.367119 117.967985 \nL 307.251897 98.237151 \nL 307.251897 120.721125 \nL 307.251897 73.000037 \nL 307.251897 113.838276 \nL 308.136675 79.42403 \nL 308.136675 145.499381 \nL 308.136675 108.331996 \nL 309.021453 105.12 \nL 309.021453 121.179981 \nL 309.021453 82.636026 \nL 309.021453 116.132559 \nL 309.906231 117.509128 \nL 309.906231 103.74343 \nL 309.906231 138.157676 \nL 309.906231 110.626279 \nL 310.791009 111.085136 \nL 310.791009 131.274827 \nL 310.791009 86.765736 \nL 310.791009 120.262268 \nL 311.675787 144.581668 \nL 311.675787 104.202287 \nL 311.675787 108.790853 \nL 312.560565 83.094883 \nL 312.560565 122.556551 \nL 312.560565 111.543993 \nL 313.445343 135.404536 \nL 313.445343 100.072577 \nL 313.445343 138.157676 \nL 313.445343 115.214845 \nL 314.330121 97.778294 \nL 314.330121 127.145117 \nL 314.330121 85.389166 \nL 314.330121 107.414283 \nL 315.214899 146.417095 \nL 315.214899 100.990291 \nL 315.214899 114.755989 \nL 316.099677 118.885698 \nL 316.099677 83.094883 \nL 316.099677 120.262268 \nL 316.099677 115.673702 \nL 316.984455 72.541181 \nL 316.984455 145.040525 \nL 316.984455 114.297132 \nL 317.869233 112.002849 \nL 317.869233 118.885698 \nL 317.869233 82.17717 \nL 317.869233 110.167423 \nL 318.754011 147.334808 \nL 318.754011 105.12 \nL 318.754011 109.249709 \nL 319.638789 126.686261 \nL 319.638789 93.648585 \nL 319.638789 114.297132 \nL 320.523567 100.990291 \nL 320.523567 120.721125 \nL 320.523567 111.543993 \nL 321.408345 105.12 \nL 321.408345 156.970797 \nL 321.408345 96.860581 \nL 321.408345 113.379419 \nL 322.293123 90.895445 \nL 322.293123 126.227404 \nL 322.293123 83.553739 \nL 322.293123 110.626279 \nL 323.177901 112.920562 \nL 323.177901 121.638838 \nL 323.177901 52.810347 \nL 323.177901 112.002849 \nL 324.062679 112.920562 \nL 324.062679 123.474264 \nL 324.062679 108.331996 \nL 324.062679 110.167423 \nL 324.947457 112.920562 \nL 324.947457 112.920562 \nL 324.947457 139.993102 \nL 324.947457 91.813158 \nL 324.947457 113.379419 \nL 325.832235 93.189728 \nL 325.832235 141.369672 \nL 325.832235 113.379419 \nL 326.717013 114.297132 \nL 326.717013 89.060019 \nL 326.717013 121.179981 \nL 326.717013 113.379419 \nL 327.601791 112.920562 \nL 327.601791 112.920562 \nL 327.601791 108.331996 \nL 327.601791 143.205098 \nL 327.601791 113.379419 \nL 328.486569 112.920562 \nL 328.486569 127.603974 \nL 328.486569 91.813158 \nL 328.486569 114.297132 \nL 329.371347 112.461706 \nL 329.371347 123.015408 \nL 329.371347 108.790853 \nL 329.371347 112.920562 \nL 330.256125 112.920562 \nL 330.256125 101.908004 \nL 330.256125 117.509128 \nL 330.256125 115.673702 \nL 331.140903 112.920562 \nL 331.140903 107.87314 \nL 331.140903 139.993102 \nL 331.140903 111.543993 \nL 332.025681 112.920562 \nL 332.025681 118.426842 \nL 332.025681 94.107441 \nL 332.025681 113.838276 \nL 332.91046 112.920562 \nL 332.91046 108.790853 \nL 332.91046 127.145117 \nL 332.91046 110.626279 \nL 333.795238 112.920562 \nL 333.795238 117.050272 \nL 333.795238 102.36686 \nL 333.795238 116.132559 \nL 334.680016 112.920562 \nL 334.680016 108.331996 \nL 334.680016 117.509128 \nL 334.680016 110.626279 \nL 335.564794 112.920562 \nL 335.564794 124.391978 \nL 335.564794 108.331996 \nL 335.564794 115.214845 \nL 336.449572 112.920562 \nL 336.449572 102.36686 \nL 336.449572 117.967985 \nL 336.449572 109.708566 \nL 337.33435 113.379419 \nL 337.33435 108.790853 \nL 337.33435 120.262268 \nL 337.33435 117.509128 \nL 338.219128 112.461706 \nL 338.219128 119.803411 \nL 338.219128 105.578857 \nL 338.219128 109.249709 \nL 339.103906 112.920562 \nL 339.103906 112.461706 \nL 339.103906 120.721125 \nL 339.103906 107.87314 \nL 339.103906 115.673702 \nL 339.988684 112.920562 \nL 339.988684 116.132559 \nL 339.988684 108.790853 \nL 339.988684 109.708566 \nL 340.873462 113.838276 \nL 340.873462 108.331996 \nL 340.873462 116.132559 \nL 340.873462 116.132559 \nL 341.75824 112.461706 \nL 341.75824 112.920562 \nL 341.75824 119.803411 \nL 341.75824 108.331996 \nL 341.75824 112.002849 \nL 342.643018 113.379419 \nL 342.643018 106.49657 \nL 342.643018 117.509128 \nL 342.643018 113.379419 \nL 343.527796 112.920562 \nL 343.527796 112.920562 \nL 343.527796 107.87314 \nL 343.527796 116.132559 \nL 343.527796 110.167423 \nL 344.412574 133.110253 \nL 344.412574 107.87314 \nL 344.412574 114.755989 \nL 345.297352 113.379419 \nL 345.297352 103.284574 \nL 345.297352 138.157676 \nL 345.297352 112.461706 \nL 346.18213 113.379419 \nL 346.18213 116.132559 \nL 346.18213 103.74343 \nL 346.18213 112.920562 \nL 347.066908 112.002849 \nL 347.066908 118.885698 \nL 347.066908 106.955426 \nL 347.066908 112.002849 \nL 347.951686 112.461706 \nL 347.951686 107.87314 \nL 347.951686 117.509128 \nL 348.836464 113.379419 \nL 348.836464 113.838276 \nL 348.836464 109.249709 \nL 348.836464 117.509128 \nL 348.836464 112.461706 \nL 349.721242 112.920562 \nL 349.721242 112.920562 \nL 349.721242 119.344555 \nL 349.721242 104.661143 \nL 349.721242 109.708566 \nL 350.60602 113.379419 \nL 350.60602 121.179981 \nL 350.60602 110.167423 \nL 350.60602 112.002849 \nL 351.490798 112.920562 \nL 351.490798 112.920562 \nL 351.490798 105.578857 \nL 351.490798 118.426842 \nL 351.490798 117.050272 \nL 352.375576 112.461706 \nL 352.375576 106.037713 \nL 352.375576 118.426842 \nL 352.375576 110.626279 \nL 353.260354 112.920562 \nL 353.260354 116.591415 \nL 353.260354 105.12 \nL 353.260354 112.002849 \nL 354.145132 112.920562 \nL 354.145132 109.708566 \nL 354.145132 119.344555 \nL 354.145132 114.297132 \nL 355.02991 112.920562 \nL 355.02991 103.74343 \nL 355.02991 117.050272 \nL 355.02991 111.085136 \nL 355.914688 114.297132 \nL 355.914688 97.778294 \nL 355.914688 119.803411 \nL 355.914688 113.379419 \nL 356.799466 109.708566 \nL 356.799466 117.509128 \nL 356.799466 101.449147 \nL 356.799466 112.920562 \nL 357.684244 112.920562 \nL 357.684244 109.249709 \nL 357.684244 117.050272 \nL 357.684244 113.379419 \nL 358.569022 112.920562 \nL 358.569022 117.050272 \nL 358.569022 110.626279 \nL 358.569022 114.297132 \nL 359.4538 112.920562 \nL 359.4538 118.885698 \nL 359.4538 106.037713 \nL 359.4538 115.214845 \nL 360.338578 112.920562 \nL 360.338578 104.661143 \nL 360.338578 121.179981 \nL 360.338578 111.085136 \nL 361.223356 112.920562 \nL 361.223356 107.414283 \nL 361.223356 118.885698 \nL 361.223356 113.838276 \nL 362.108134 112.920562 \nL 362.108134 117.509128 \nL 362.108134 106.955426 \nL 362.108134 112.002849 \nL 362.992912 112.920562 \nL 362.992912 118.426842 \nL 362.992912 106.037713 \nL 362.992912 112.002849 \n\" style=\"fill:none;stroke:#4c72b0;stroke-linecap:round;stroke-width:1.5;\"/>\n   </g>\n   <g id=\"patch_3\">\n    <path d=\"M 43.411094 203.04 \nL 43.411094 7.2 \n\" style=\"fill:none;stroke:#ffffff;stroke-linecap:square;stroke-linejoin:miter;stroke-width:1.25;\"/>\n   </g>\n   <g id=\"patch_4\">\n    <path d=\"M 378.211094 203.04 \nL 378.211094 7.2 \n\" style=\"fill:none;stroke:#ffffff;stroke-linecap:square;stroke-linejoin:miter;stroke-width:1.25;\"/>\n   </g>\n   <g id=\"patch_5\">\n    <path d=\"M 43.411094 203.04 \nL 378.211094 203.04 \n\" style=\"fill:none;stroke:#ffffff;stroke-linecap:square;stroke-linejoin:miter;stroke-width:1.25;\"/>\n   </g>\n   <g id=\"patch_6\">\n    <path d=\"M 43.411094 7.2 \nL 378.211094 7.2 \n\" style=\"fill:none;stroke:#ffffff;stroke-linecap:square;stroke-linejoin:miter;stroke-width:1.25;\"/>\n   </g>\n   <g id=\"legend_1\">\n    <g id=\"patch_7\">\n     <path d=\"M 310.942656 32.145938 \nL 370.511094 32.145938 \nQ 372.711094 32.145938 372.711094 29.945938 \nL 372.711094 14.9 \nQ 372.711094 12.7 370.511094 12.7 \nL 310.942656 12.7 \nQ 308.742656 12.7 308.742656 14.9 \nL 308.742656 29.945938 \nQ 308.742656 32.145938 310.942656 32.145938 \nz\n\" style=\"fill:#eaeaf2;opacity:0.8;stroke:#cccccc;stroke-linejoin:miter;\"/>\n    </g>\n    <g id=\"line2d_13\">\n     <path d=\"M 313.142656 21.608281 \nL 335.142656 21.608281 \n\" style=\"fill:none;stroke:#4c72b0;stroke-linecap:round;stroke-width:1.5;\"/>\n    </g>\n    <g id=\"line2d_14\"/>\n    <g id=\"text_13\">\n     <!-- DIFF -->\n     <g style=\"fill:#262626;\" transform=\"translate(343.942656 25.458281)scale(0.11 -0.11)\">\n      <use xlink:href=\"#DejaVuSans-68\"/>\n      <use x=\"77.001953\" xlink:href=\"#DejaVuSans-73\"/>\n      <use x=\"106.494141\" xlink:href=\"#DejaVuSans-70\"/>\n      <use x=\"164.013672\" xlink:href=\"#DejaVuSans-70\"/>\n     </g>\n    </g>\n   </g>\n  </g>\n </g>\n <defs>\n  <clipPath id=\"p281e11753d\">\n   <rect height=\"195.84\" width=\"334.8\" x=\"43.411094\" y=\"7.2\"/>\n  </clipPath>\n </defs>\n</svg>\n"
          },
          "metadata": {
            "tags": [],
            "needs_background": "light"
          }
        }
      ]
    },
    {
      "cell_type": "code",
      "metadata": {
        "id": "7jlbeLh2NLJH"
      },
      "source": [
        "# DIFF\r\n",
        "df_x_treino[\"DIFF\"] = diesel_treino.groupby([\"ESTADO\"])[\"PREÇO MÉDIO REVENDA\"].apply(target_diff)\r\n",
        "df_x_valid[\"DIFF\"] = diesel_valid.groupby([\"ESTADO\"])[\"PREÇO MÉDIO REVENDA\"].apply(target_diff)"
      ],
      "execution_count": 162,
      "outputs": []
    },
    {
      "cell_type": "code",
      "metadata": {
        "id": "YiQTD18VLhWL"
      },
      "source": [
        "#Sazonalidade\r\n",
        "df_x_treino[\"MES\"] = diesel_treino[\"DATA FINAL\"].dt.month\r\n",
        "df_x_treino[\"DIA\"] = diesel_treino[\"DATA FINAL\"].dt.day\r\n",
        "df_x_treino[\"DIA_DA_SEMANA\"] = diesel_treino[\"DATA FINAL\"].dt.weekday\r\n",
        "df_x_treino[\"DIA_DO_ANO\"] = diesel_treino[\"DATA FINAL\"].dt.dayofyear\r\n",
        "\r\n",
        "\r\n",
        "df_x_valid[\"MES\"] = diesel_valid[\"DATA FINAL\"].dt.month\r\n",
        "df_x_valid[\"DIA\"] = diesel_valid[\"DATA FINAL\"].dt.day\r\n",
        "df_x_valid[\"DIA_DA_SEMANA\"] = diesel_valid[\"DATA FINAL\"].dt.weekday\r\n",
        "df_x_valid[\"DIA_DO_ANO\"] = diesel_valid[\"DATA FINAL\"].dt.dayofyear"
      ],
      "execution_count": 195,
      "outputs": []
    },
    {
      "cell_type": "code",
      "metadata": {
        "id": "fkpciCD8Ovl6"
      },
      "source": [
        "#Lag\r\n",
        "df_x_treino[\"PRECO_MEDIO_REVENDA_ATUAL\"] = diesel_treino[\"PREÇO MÉDIO REVENDA\"]\r\n",
        "df_x_valid[\"PRECO_MEDIO_REVENDA_ATUAL\"] = diesel_valid[\"PREÇO MÉDIO REVENDA\"]"
      ],
      "execution_count": 196,
      "outputs": []
    },
    {
      "cell_type": "code",
      "metadata": {
        "id": "ZB9RzM_5PDTI"
      },
      "source": [
        "# Diferença do Lag\r\n",
        "df_x_treino[\"DIFF_PRECO_MEDIO_REVENDA_PROXIMA_SEMANA\"] = diesel_treino.groupby([\"ESTADO\"])[\"PREÇO MÉDIO REVENDA\"].diff()\r\n",
        "df_x_valid[\"DIFF_PRECO_MEDIO_REVENDA_PROXIMA_SEMANA\"] = diesel_valid.groupby([\"ESTADO\"])[\"PREÇO MÉDIO REVENDA\"].diff()"
      ],
      "execution_count": 197,
      "outputs": []
    },
    {
      "cell_type": "code",
      "metadata": {
        "id": "lUGwLvkUQMn6"
      },
      "source": [
        "#Média Móvel\r\n",
        "df_x_treino[\"MDV_PRECO_MEDIO_REVENDA_ATUAL\"] = diesel_treino.groupby([\"ESTADO\"])[\"PREÇO MÉDIO REVENDA\"].rolling(4).mean().reset_index(level = 0, drop = True)\r\n",
        "df_x_valid[\"MDV_PRECO_MEDIO_REVENDA_ATUAL\"] = diesel_valid.groupby([\"ESTADO\"])[\"PREÇO MÉDIO REVENDA\"].rolling(4).mean().reset_index(level = 0, drop = True)"
      ],
      "execution_count": 198,
      "outputs": []
    },
    {
      "cell_type": "markdown",
      "metadata": {
        "id": "14lzl2WzQ1wJ"
      },
      "source": [
        "### Modelo"
      ]
    },
    {
      "cell_type": "code",
      "metadata": {
        "id": "khgFhVAHQVue"
      },
      "source": [
        "from sklearn.ensemble import RandomForestRegressor"
      ],
      "execution_count": 167,
      "outputs": []
    },
    {
      "cell_type": "code",
      "metadata": {
        "id": "QUSXq7jLRgyq"
      },
      "source": [
        "df_x_treino = df_x_treino.dropna()\r\n",
        "df_x_valid = df_x_valid.dropna()"
      ],
      "execution_count": 201,
      "outputs": []
    },
    {
      "cell_type": "code",
      "metadata": {
        "id": "agAn4feVREwv"
      },
      "source": [
        "Xtr, ytr = df_x_treino.drop([\"DIFF_PRECO_MEDIO_REVENDA_PROXIMA_SEMANA\"], axis = 1), df_x_treino[\"DIFF_PRECO_MEDIO_REVENDA_PROXIMA_SEMANA\"]\r\n",
        "Xvl, yvl = df_x_valid.drop([\"DIFF_PRECO_MEDIO_REVENDA_PROXIMA_SEMANA\"], axis = 1), df_x_valid[\"DIFF_PRECO_MEDIO_REVENDA_PROXIMA_SEMANA\"]"
      ],
      "execution_count": 202,
      "outputs": []
    },
    {
      "cell_type": "code",
      "metadata": {
        "colab": {
          "base_uri": "https://localhost:8080/"
        },
        "id": "sNiG9Qy0R4W7",
        "outputId": "a2bf2e70-7162-4509-c301-17130f6dceee"
      },
      "source": [
        "#Criar modelo\r\n",
        "mdl = RandomForestRegressor(n_jobs=1, random_state=0, n_estimators=500)\r\n",
        "mdl.fit(Xtr, ytr)"
      ],
      "execution_count": 219,
      "outputs": [
        {
          "output_type": "execute_result",
          "data": {
            "text/plain": [
              "RandomForestRegressor(bootstrap=True, ccp_alpha=0.0, criterion='mse',\n",
              "                      max_depth=None, max_features='auto', max_leaf_nodes=None,\n",
              "                      max_samples=None, min_impurity_decrease=0.0,\n",
              "                      min_impurity_split=None, min_samples_leaf=1,\n",
              "                      min_samples_split=2, min_weight_fraction_leaf=0.0,\n",
              "                      n_estimators=500, n_jobs=1, oob_score=False,\n",
              "                      random_state=0, verbose=0, warm_start=False)"
            ]
          },
          "metadata": {
            "tags": []
          },
          "execution_count": 219
        }
      ]
    },
    {
      "cell_type": "code",
      "metadata": {
        "id": "T7SIJllvScsH"
      },
      "source": [
        "p = mdl.predict(Xvl)\r\n",
        "p_final = Xvl[\"PRECO_MEDIO_REVENDA_ATUAL\"] + p\r\n",
        "yval_final = Xvl[\"PRECO_MEDIO_REVENDA_ATUAL\"] + yvl"
      ],
      "execution_count": 220,
      "outputs": []
    },
    {
      "cell_type": "code",
      "metadata": {
        "colab": {
          "base_uri": "https://localhost:8080/"
        },
        "id": "Uk4T4gtOSVKH",
        "outputId": "29abf464-ce68-40c0-9913-d951f5326e01"
      },
      "source": [
        "np.sqrt(mean_squared_log_error(yval_final, p_final))*100"
      ],
      "execution_count": 221,
      "outputs": [
        {
          "output_type": "execute_result",
          "data": {
            "text/plain": [
              "0.8088896293132758"
            ]
          },
          "metadata": {
            "tags": []
          },
          "execution_count": 221
        }
      ]
    },
    {
      "cell_type": "code",
      "metadata": {
        "colab": {
          "base_uri": "https://localhost:8080/"
        },
        "id": "lEvfTWhhWstQ",
        "outputId": "d38b564b-47a0-4bb7-964b-b1fa58a6f783"
      },
      "source": [
        "np.sqrt(mean_squared_log_error(y_valid[bl_valid.notnull()],\r\n",
        "                               bl_valid[bl_valid.notnull()]))*100"
      ],
      "execution_count": 222,
      "outputs": [
        {
          "output_type": "execute_result",
          "data": {
            "text/plain": [
              "0.8133639513965776"
            ]
          },
          "metadata": {
            "tags": []
          },
          "execution_count": 222
        }
      ]
    },
    {
      "cell_type": "markdown",
      "metadata": {
        "id": "haHYmYcIWzlt"
      },
      "source": [
        "## Otimização do Modelo"
      ]
    },
    {
      "cell_type": "markdown",
      "metadata": {
        "id": "vmp-xjrFRB9r"
      },
      "source": [
        "Primeira linha de cada estado é nulo"
      ]
    }
  ]
}